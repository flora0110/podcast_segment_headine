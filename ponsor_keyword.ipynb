{
  "nbformat": 4,
  "nbformat_minor": 0,
  "metadata": {
    "colab": {
      "name": "ponsor_keyword.ipynb",
      "provenance": [],
      "collapsed_sections": [
        "iTa3NcQ46GLG",
        "ZyeZ6a976Qts",
        "XBLhS9AL7a0d",
        "zDjJtTiq_Kdu"
      ],
      "authorship_tag": "ABX9TyOSiWpVyMyUye6k2QB8q7WX",
      "include_colab_link": true
    },
    "kernelspec": {
      "name": "python3",
      "display_name": "Python 3"
    },
    "language_info": {
      "name": "python"
    }
  },
  "cells": [
    {
      "cell_type": "markdown",
      "metadata": {
        "id": "view-in-github",
        "colab_type": "text"
      },
      "source": [
        "<a href=\"https://colab.research.google.com/github/flora0110/podcast_segment_headine/blob/main/ponsor_keyword.ipynb\" target=\"_parent\"><img src=\"https://colab.research.google.com/assets/colab-badge.svg\" alt=\"Open In Colab\"/></a>"
      ]
    },
    {
      "cell_type": "markdown",
      "source": [
        "#### input"
      ],
      "metadata": {
        "id": "iTa3NcQ46GLG"
      }
    },
    {
      "cell_type": "code",
      "execution_count": 1,
      "metadata": {
        "id": "Su85dCvzh1iu"
      },
      "outputs": [],
      "source": [
        "segmented_text = [['Hi friends. ', \"Happy Wednesday or Thursday if you're watching over on YouTube. \", 'Hey, how are you doing? ', \"I hope you're having a wonderful day so far. \", 'My name is Bailey serían and this is the dark History Podcast. ', 'Whew, I need a theme song for dark history. ', \"Don't, I'm any. \", \"who, I'm here to talk about some dark ass history that we never learned in school or I should, at least say that. \", 'I never learned in school. ', \"If you're new here. \", 'Hi, welcome. ', 'Come. ', 'Take a seat by me. ', \"Don't be shy if you're And learning about people and events that your history books didn't cover in school. \", \"The maybe should have then you'll fit in right in here with us. \", 'Okay. ', \"Look today's story. \", \"It's uncomfortable. \", \"Okay, it's heartbreaking. \", \"It's just, it's set. \", \"It's awful. \", \"It's sad. \", \"There's, those are all the words. \", \"I can think of it, just doesn't make any sense. \", \"But with all of that being said, there's really like no sugarcoating this. \", 'This is what happened. ', \"And it's when more honest and when we're transparent that we can learn and grow together, you know, but most of all not let history repeat itself. \", \"So let's set the scene. \", \"It's New Years Day 1923 and many people are waking up from celebrating the New Year. \", 'Some of them are still wearing a flapper dress or a suit tired from dancing. ', \"The night away in a jazz club, or maybe they're hung over from buying illegal drinks at a speakeasy. \", 'Yes. ', 'Oh, yes. ', 'It was still illegal to buy alcohol wild, right? ', 'Of course, though. ', 'That was more of like the upscale City Vibe. ', 'If you were in the country had little less. ', 'Pocket change to spend or were to straightedge to visit, like those kind of illegal joints. ', 'Then you probably had a quieter evening of staying at home and ringing in the new year with with your loved ones, you know, now 1923 in general President Warren G, Harding would die in office, the Yankee Stadium would be built in the Bronx and the original Hollywood sign would be built. ', 'Oh, yeah, Hollywood was originally called Hollywood land, but we could say that for another episode, babe. '], ['Before all of that, on the morning of January, first, nineteen, twenty three thirty year old James and his 22-year old wife, Fanny, Taylor woke up at a home and a town called Sumner, a neighboring community of Rosewood, Florida, that morning. ', 'James Taylor goes to work like he did any other day. ', 'But while James was at work, something happens to his wife Fanny. ', 'That boy, it just triggers a domino effect, a horrific domino effect. ', 'It leads to the Murders of innocent people, the destruction of a town and the displacement of an entire Community changing Rosewood forever who just sounds traumatic. '], ['I know because it is, welcome. ', 'Hi. ', 'This episode friends were going to be talking about the Rosewood Massacre. ', 'Have you heard of it? ', 'Yeah, exactly. ', 'Exactly. ', \"I didn't this one, just it completely blew. \", 'My mind is like why in the Waldo? ', 'Did we not learned about this in school? ', 'Correction? ', 'I can only speak for myself here. ', 'So, why in the Waldo did my history books? ', 'Not teach this Rosewood Massacre? ', 'Yeah. ', 'It happened. ', \"Let's discuss and learn together. \", 'What took place in 1923, Rosewood, Florida. ', 'Buckling, kitty cats. ', 'This is just what? ', \"Yeah, I'm great with words. \", 'Obviously. ', \"That's why I started a podcast. \", 'The beginning, great place. ', 'Start the town of Rosewood was established in the mid eighteen. ', 'Hundreds white families, had moved here prior to the Civil War and black landowner started to move in in the 1870s. ', \"It's located in the State of Florida and it's just nine miles east of the Gulf of Mexico. \", 'The name Rosewood. ', 'It came from the red cedar trees that were all over the land there. ', 'Fun fact, alert Boo. ', 'Boo. ', ' ', 'Did you know that when you cut open a red cedar tree, the cedar has a pale pink color inside? ', \"Yeah, I guess it's like super pretty. \", 'Super beautiful. ', 'But did you also know that if you cut me open? ', \"I've got a little pink inside a LOL. \", 'Anyways, so they called the town Rosewood after the pink color. ', 'Okay. ', 'Nice, right. ', \"Well, as we've learned through history, we can't have nice things. \", 'So when people saw the really pretty color that was inside of these beautiful incredible trees. ', 'What do you think? ', 'They did? ', 'Yes, they cut them all down. ', 'They cut them down and they sold the A now because of this they made a pretty decent amount of money and it supported the economy of the town but still, you know sad for the trees by the year 1886 the town had developed quite a bit. ', 'It had its own post office, a Schoolhouse and they were three churches one for the white people into for the black people. ', \"Remember, we're talking about a time that's very much a segregated America. \", 'So four years later in 1890 the town began to hit some hard times. ', 'All the red cedar trees had been chopped down and without the trees. ', \"There's no money to be made which in turn leads to the town's economic decline because of the loss of income and not many available jobs, many members of the white Community left, Rosewood, and headed to the nearby town of Sumner Sumner was appealing because there was a large Sawmill which provided tons of jobs and right now the people needed work, so, sign me up for Sumner, you know, so by the 1900. \", 'The Rosewood population. '], ['Have now shifted to a majority black community. ', 'Now, with, in Rosewood. ', 'There was a really close sense of community. ', 'Like, everyone seemed to know one another and looked out for one another as well. ', 'I mean, rarely did anyone need to leave town like to travel for food or for things? ', 'They may need because they had almost everything right there with in Rosewood, in addition to the three churches Schoolhouse and post office Rosewood also had a train station. ', 'In which will become important later a general store, and a Sugar Mill. ', 'Plus, if you were looking for some fun, they even had a Rosewood baseball team. ', \"What I'm getting at is, Rosewood, was overall, just a nice place. \", \"So, for over 20 years, the people of rosewood's stayed with in Rosewood and the people of Sumner, the neighboring town. \", 'They stayed within Sumner, they coexisted. ', \"They had their own Communities going on and they were just doing their own thing, but unfortunately, that peaceful time was about To end because some shit was a bruin, but before we get into, what was a bruin, let's pause for a word from our sponsor. \", 'Things are kind of getting back to normal, I guess, right? ', 'Yeah, but I swear to you over quarantine. ', 'My brain has felt like mush and need some exercise. ', 'I mean, it is a muscle, right, you know, any who would best fiends. ', 'It feels like my brain. ', 'Got a great workout. ', \"What's best fiends. \", 'You ask? ', \"Well, it's the mobile puzzle game that will put A challenge to your Noggin, and it's kind of like you did a workout. \", 'But again, for your brain, not only that, best fiends is so fun. ', \"You won't want to put it down + best. \", 'Fiends has literally thousands of fun, puzzles to solve. '], [\"I'm currently on level 50 with like a lot more to go. \", \"So, there's really nothing to brag about their. \", \"There's literally something new to play every day. \", 'And the characters are just so adorable. ', 'I want to be best fiends with them. ', \"Best means it's constantly putting out updates. \", \"So there's always something new. \", \"You exciting to explore, whenever I'm feeling a little bored or I have like, you know some time to kill between these Zoom meetings. \", 'I just bust out my phone and go straight to best fiends to tackle. ', 'Some puzzles. ', 'Download the five-star rated puzzle game. ', 'Best fiends free today on the app store or Google Play. ', \"That's best friends without the our best fiends. \", 'Thanks. ', \"Best beans for partnering with me on today's episode. \", 'Okay. ', \"Remember, it's January 1st. \", '1923 our young couple James. ', 'And Fanny Taylor who are white are waking up on the first day of the new year. '], ['And James was like, goodbye Fanny. ', \"Like I'm off to work. \", 'I love you. ', 'Babe. ', 'You know and Fanny is like, oh my God. ', 'Yeah. ', \"Have a good day whenever that's probably what they did. \", 'Anyway, so James leaves his wife Fanny home alone because he has to go to work. ', 'He works at The Sawmill in Sumner which was about one mile east of Rosewood. ', 'Now while James is at work, Milling saws Fanny whose back at home. ', 'Rumor had it. ', 'Someone had attacked her. ', 'Oh, yeah. ', 'Oh, yeah, the neighbors heard screams. ', \"They heard screams coming from within the Taylor's home and they were like, oh my God, you know, like what's going on screaming? \", 'Hmm. ', \"So for you and I, we'd probably go and like check it out, right would be like, oh my God, they're screaming. \", \"Are you okay, but for Fanny's neighbors, they heard the screams and then they just left it alone. \", 'Great. ', 'Yeah, awesome. ', 'So some time goes by and James comes home from Mark, and when he gets home, he sees that fanny has a big bruise on her face. '], [\"It's clear that somebody had hit her pretty badly. \", 'So he asked her, you know, who did this to you and Fanny tells him that a black man assaulted her. ', \"She's like, I don't know who it was, but it was definitely a black man. \", 'According to Fanny. ', 'Hmm. ', 'I mean, this could be possible. ', 'This guy came in randomly, beat her, I guess in her own house, but remember, Like this is a small town. ', 'In fact, both Sumner and Rosewood were so small that most people recognize one another. ', 'So Are you sure we honey? ', \"Are you sure that's what you saw Fanny? \", 'The fact that Fanny like, could not name the person who attacked her. ', 'That should have been the first red flag. ', 'Okay. ', 'That maybe this person that quote unquote attacked her. ', 'That should have been the first red flag. ', 'Okay. ', 'That maybe this person that quote unquote attacked her was not a resident from Rosewood. ', \"I'm telling you, I'm not kidding you. \", 'If you lived in Rosewood, you would know your neighbors everybody knew each other. ', 'But Fanny would most likely know this person because again, the likelihood of her not knowing is presumptive, not? ', 'So sure Fanny sure. ', \"Again, because it's a 1920s. \", 'Unfortunately, this is a time when a white woman made, bold claims of being attacked by a black person. '], ['Nobody questioned it. ', 'They just believed it to be true. ', \"So they didn't question Fanny story for one second. \", 'Like, oh my God. ', 'She was beaten by a block man. ', \"Like we are so angry and nobody wanted to like double check and make sure she what you she wasn't lying. \", 'They just went with it. ', 'People are talking with in Rose Water. ', \"Okay, and this story about Fanny gets back to a woman by the name of Sarah carrier and she's like, wait a minute. \", 'Wait a minute. '], [' ', ' ', \"That's not true. \", \"Sarah said that she was at the Taylor's Home, the morning of that so-called attack, and not just that, but her granddaughter was there with her and neither of them saw black man, attack Fanny. \", 'Alone. ', 'Even enter their house. ', \"Well, you're probably wondering really Who the hell's Sarah? \", 'Okay. ', \"Well Sarah, she had been working for the Tailor's for quite some time. \", \"She was there that day with her granddaughter doing the Taylor's laundry. \", 'Now, Sarah said that she actually saw a white man leaving the Taylor house that morning. ', 'She said, she never saw a black man. ', 'Come by the house all day. ', 'Now, get this. ', 'Get this. ', 'Sarah recognize this white man. ', 'She had seen him come by the house once or twice before. ', 'Hmm. ', 'Sarah had believed that this man and Fanny were having some kind of Winky dinky. ', \"If you're not on me. \", \"Sarah said that this man was actually the guy that beat Fanny that morning and that she was just lying to cover her ass because she's probably having an affair. \", \"And she doesn't want people to know Fanny. \", \"So Sarah's version is now going around town. \", \"It's spreading like wildfire within the black community. \", 'They all 100% believed her. ', 'Why would she lie? ', 'Whoa, why would she lie, unfortunately, though the white voices were louder within the community and made it very clear. ', 'That Fanny was quote. ', 'Not a liar. ', 'She was telling the truth, okay. ', 'I freaking roll, right? '], [\"It gets a lot more traumatic talking amongst the accusers and name comes up, Jesse Hunter, and they think they're disgusting. \", \"They're like, hey, Jesse Hunter. \", 'This is our guy. ', 'This is the guy who did it.\\n']]"
      ]
    },
    {
      "cell_type": "markdown",
      "source": [
        "# 引入"
      ],
      "metadata": {
        "id": "HpmyFAhc6eX8"
      }
    },
    {
      "cell_type": "code",
      "source": [
        "!pip install -U scikit-learn"
      ],
      "metadata": {
        "colab": {
          "base_uri": "https://localhost:8080/"
        },
        "id": "E7ShNAHWoDcm",
        "outputId": "4ac78470-24b9-41c2-8551-cdfd4ef5f0aa"
      },
      "execution_count": 11,
      "outputs": [
        {
          "output_type": "stream",
          "name": "stdout",
          "text": [
            "Requirement already satisfied: scikit-learn in /usr/local/lib/python3.7/dist-packages (1.0.2)\n",
            "Requirement already satisfied: threadpoolctl>=2.0.0 in /usr/local/lib/python3.7/dist-packages (from scikit-learn) (3.1.0)\n",
            "Requirement already satisfied: numpy>=1.14.6 in /usr/local/lib/python3.7/dist-packages (from scikit-learn) (1.21.5)\n",
            "Requirement already satisfied: scipy>=1.1.0 in /usr/local/lib/python3.7/dist-packages (from scikit-learn) (1.4.1)\n",
            "Requirement already satisfied: joblib>=0.11 in /usr/local/lib/python3.7/dist-packages (from scikit-learn) (1.1.0)\n"
          ]
        }
      ]
    },
    {
      "cell_type": "code",
      "source": [
        "from sklearn.feature_extraction.text import CountVectorizer\n",
        "from sklearn.feature_extraction.text import TfidfTransformer"
      ],
      "metadata": {
        "id": "-J1upFUM5PVF"
      },
      "execution_count": 36,
      "outputs": []
    },
    {
      "cell_type": "markdown",
      "source": [
        "# 處理輸入"
      ],
      "metadata": {
        "id": "8NXN7BWz4901"
      }
    },
    {
      "cell_type": "code",
      "source": [
        "# 將每個段落內的句子合起來變成string\n",
        "podcast_test = [\"\"]*len(segmented_text)\n",
        "for i in range(len(segmented_text)):\n",
        "  for j in range(len(segmented_text[i])):\n",
        "    podcast_test[i]+=segmented_text[i][j]\n",
        "  "
      ],
      "metadata": {
        "id": "ggWot9k3kEBG"
      },
      "execution_count": 2,
      "outputs": []
    },
    {
      "cell_type": "markdown",
      "source": [
        "#### 輸出"
      ],
      "metadata": {
        "id": "ZyeZ6a976Qts"
      }
    },
    {
      "cell_type": "code",
      "source": [
        "for podcast_test_single in podcast_test:\n",
        "  print(podcast_test_single)"
      ],
      "metadata": {
        "colab": {
          "base_uri": "https://localhost:8080/"
        },
        "id": "OE3-7j1fmjm_",
        "outputId": "4bfb46e1-6f85-4a91-fd4f-da7efecdf5a9"
      },
      "execution_count": 4,
      "outputs": [
        {
          "output_type": "stream",
          "name": "stdout",
          "text": [
            "Hi friends. Happy Wednesday or Thursday if you're watching over on YouTube. Hey, how are you doing? I hope you're having a wonderful day so far. My name is Bailey serían and this is the dark History Podcast. Whew, I need a theme song for dark history. Don't, I'm any. who, I'm here to talk about some dark ass history that we never learned in school or I should, at least say that. I never learned in school. If you're new here. Hi, welcome. Come. Take a seat by me. Don't be shy if you're And learning about people and events that your history books didn't cover in school. The maybe should have then you'll fit in right in here with us. Okay. Look today's story. It's uncomfortable. Okay, it's heartbreaking. It's just, it's set. It's awful. It's sad. There's, those are all the words. I can think of it, just doesn't make any sense. But with all of that being said, there's really like no sugarcoating this. This is what happened. And it's when more honest and when we're transparent that we can learn and grow together, you know, but most of all not let history repeat itself. So let's set the scene. It's New Years Day 1923 and many people are waking up from celebrating the New Year. Some of them are still wearing a flapper dress or a suit tired from dancing. The night away in a jazz club, or maybe they're hung over from buying illegal drinks at a speakeasy. Yes. Oh, yes. It was still illegal to buy alcohol wild, right? Of course, though. That was more of like the upscale City Vibe. If you were in the country had little less. Pocket change to spend or were to straightedge to visit, like those kind of illegal joints. Then you probably had a quieter evening of staying at home and ringing in the new year with with your loved ones, you know, now 1923 in general President Warren G, Harding would die in office, the Yankee Stadium would be built in the Bronx and the original Hollywood sign would be built. Oh, yeah, Hollywood was originally called Hollywood land, but we could say that for another episode, babe. \n",
            "Before all of that, on the morning of January, first, nineteen, twenty three thirty year old James and his 22-year old wife, Fanny, Taylor woke up at a home and a town called Sumner, a neighboring community of Rosewood, Florida, that morning. James Taylor goes to work like he did any other day. But while James was at work, something happens to his wife Fanny. That boy, it just triggers a domino effect, a horrific domino effect. It leads to the Murders of innocent people, the destruction of a town and the displacement of an entire Community changing Rosewood forever who just sounds traumatic. \n",
            "I know because it is, welcome. Hi. This episode friends were going to be talking about the Rosewood Massacre. Have you heard of it? Yeah, exactly. Exactly. I didn't this one, just it completely blew. My mind is like why in the Waldo? Did we not learned about this in school? Correction? I can only speak for myself here. So, why in the Waldo did my history books? Not teach this Rosewood Massacre? Yeah. It happened. Let's discuss and learn together. What took place in 1923, Rosewood, Florida. Buckling, kitty cats. This is just what? Yeah, I'm great with words. Obviously. That's why I started a podcast. The beginning, great place. Start the town of Rosewood was established in the mid eighteen. Hundreds white families, had moved here prior to the Civil War and black landowner started to move in in the 1870s. It's located in the State of Florida and it's just nine miles east of the Gulf of Mexico. The name Rosewood. It came from the red cedar trees that were all over the land there. Fun fact, alert Boo. Boo.  Did you know that when you cut open a red cedar tree, the cedar has a pale pink color inside? Yeah, I guess it's like super pretty. Super beautiful. But did you also know that if you cut me open? I've got a little pink inside a LOL. Anyways, so they called the town Rosewood after the pink color. Okay. Nice, right. Well, as we've learned through history, we can't have nice things. So when people saw the really pretty color that was inside of these beautiful incredible trees. What do you think? They did? Yes, they cut them all down. They cut them down and they sold the A now because of this they made a pretty decent amount of money and it supported the economy of the town but still, you know sad for the trees by the year 1886 the town had developed quite a bit. It had its own post office, a Schoolhouse and they were three churches one for the white people into for the black people. Remember, we're talking about a time that's very much a segregated America. So four years later in 1890 the town began to hit some hard times. All the red cedar trees had been chopped down and without the trees. There's no money to be made which in turn leads to the town's economic decline because of the loss of income and not many available jobs, many members of the white Community left, Rosewood, and headed to the nearby town of Sumner Sumner was appealing because there was a large Sawmill which provided tons of jobs and right now the people needed work, so, sign me up for Sumner, you know, so by the 1900. The Rosewood population. \n",
            "Have now shifted to a majority black community. Now, with, in Rosewood. There was a really close sense of community. Like, everyone seemed to know one another and looked out for one another as well. I mean, rarely did anyone need to leave town like to travel for food or for things? They may need because they had almost everything right there with in Rosewood, in addition to the three churches Schoolhouse and post office Rosewood also had a train station. In which will become important later a general store, and a Sugar Mill. Plus, if you were looking for some fun, they even had a Rosewood baseball team. What I'm getting at is, Rosewood, was overall, just a nice place. So, for over 20 years, the people of rosewood's stayed with in Rosewood and the people of Sumner, the neighboring town. They stayed within Sumner, they coexisted. They had their own Communities going on and they were just doing their own thing, but unfortunately, that peaceful time was about To end because some shit was a bruin, but before we get into, what was a bruin, let's pause for a word from our sponsor. Things are kind of getting back to normal, I guess, right? Yeah, but I swear to you over quarantine. My brain has felt like mush and need some exercise. I mean, it is a muscle, right, you know, any who would best fiends. It feels like my brain. Got a great workout. What's best fiends. You ask? Well, it's the mobile puzzle game that will put A challenge to your Noggin, and it's kind of like you did a workout. But again, for your brain, not only that, best fiends is so fun. You won't want to put it down + best. Fiends has literally thousands of fun, puzzles to solve. \n",
            "I'm currently on level 50 with like a lot more to go. So, there's really nothing to brag about their. There's literally something new to play every day. And the characters are just so adorable. I want to be best fiends with them. Best means it's constantly putting out updates. So there's always something new. You exciting to explore, whenever I'm feeling a little bored or I have like, you know some time to kill between these Zoom meetings. I just bust out my phone and go straight to best fiends to tackle. Some puzzles. Download the five-star rated puzzle game. Best fiends free today on the app store or Google Play. That's best friends without the our best fiends. Thanks. Best beans for partnering with me on today's episode. Okay. Remember, it's January 1st. 1923 our young couple James. And Fanny Taylor who are white are waking up on the first day of the new year. \n",
            "And James was like, goodbye Fanny. Like I'm off to work. I love you. Babe. You know and Fanny is like, oh my God. Yeah. Have a good day whenever that's probably what they did. Anyway, so James leaves his wife Fanny home alone because he has to go to work. He works at The Sawmill in Sumner which was about one mile east of Rosewood. Now while James is at work, Milling saws Fanny whose back at home. Rumor had it. Someone had attacked her. Oh, yeah. Oh, yeah, the neighbors heard screams. They heard screams coming from within the Taylor's home and they were like, oh my God, you know, like what's going on screaming? Hmm. So for you and I, we'd probably go and like check it out, right would be like, oh my God, they're screaming. Are you okay, but for Fanny's neighbors, they heard the screams and then they just left it alone. Great. Yeah, awesome. So some time goes by and James comes home from Mark, and when he gets home, he sees that fanny has a big bruise on her face. \n",
            "It's clear that somebody had hit her pretty badly. So he asked her, you know, who did this to you and Fanny tells him that a black man assaulted her. She's like, I don't know who it was, but it was definitely a black man. According to Fanny. Hmm. I mean, this could be possible. This guy came in randomly, beat her, I guess in her own house, but remember, Like this is a small town. In fact, both Sumner and Rosewood were so small that most people recognize one another. So Are you sure we honey? Are you sure that's what you saw Fanny? The fact that Fanny like, could not name the person who attacked her. That should have been the first red flag. Okay. That maybe this person that quote unquote attacked her. That should have been the first red flag. Okay. That maybe this person that quote unquote attacked her was not a resident from Rosewood. I'm telling you, I'm not kidding you. If you lived in Rosewood, you would know your neighbors everybody knew each other. But Fanny would most likely know this person because again, the likelihood of her not knowing is presumptive, not? So sure Fanny sure. Again, because it's a 1920s. Unfortunately, this is a time when a white woman made, bold claims of being attacked by a black person. \n",
            "Nobody questioned it. They just believed it to be true. So they didn't question Fanny story for one second. Like, oh my God. She was beaten by a block man. Like we are so angry and nobody wanted to like double check and make sure she what you she wasn't lying. They just went with it. People are talking with in Rose Water. Okay, and this story about Fanny gets back to a woman by the name of Sarah carrier and she's like, wait a minute. Wait a minute. \n",
            "  That's not true. Sarah said that she was at the Taylor's Home, the morning of that so-called attack, and not just that, but her granddaughter was there with her and neither of them saw black man, attack Fanny. Alone. Even enter their house. Well, you're probably wondering really Who the hell's Sarah? Okay. Well Sarah, she had been working for the Tailor's for quite some time. She was there that day with her granddaughter doing the Taylor's laundry. Now, Sarah said that she actually saw a white man leaving the Taylor house that morning. She said, she never saw a black man. Come by the house all day. Now, get this. Get this. Sarah recognize this white man. She had seen him come by the house once or twice before. Hmm. Sarah had believed that this man and Fanny were having some kind of Winky dinky. If you're not on me. Sarah said that this man was actually the guy that beat Fanny that morning and that she was just lying to cover her ass because she's probably having an affair. And she doesn't want people to know Fanny. So Sarah's version is now going around town. It's spreading like wildfire within the black community. They all 100% believed her. Why would she lie? Whoa, why would she lie, unfortunately, though the white voices were louder within the community and made it very clear. That Fanny was quote. Not a liar. She was telling the truth, okay. I freaking roll, right? \n",
            "It gets a lot more traumatic talking amongst the accusers and name comes up, Jesse Hunter, and they think they're disgusting. They're like, hey, Jesse Hunter. This is our guy. This is the guy who did it.\n",
            "\n"
          ]
        }
      ]
    },
    {
      "cell_type": "markdown",
      "source": [
        "# 統計數字"
      ],
      "metadata": {
        "id": "Uyonf5GX5W70"
      }
    },
    {
      "cell_type": "code",
      "source": [
        "vectorizer = CountVectorizer(min_df=1)"
      ],
      "metadata": {
        "id": "EsBAim5Um6A4"
      },
      "execution_count": 37,
      "outputs": []
    },
    {
      "cell_type": "code",
      "source": [
        "corpus = [\"\"]*len(podcast_test)\n",
        "for i in range(len(podcast_test)):\n",
        "  corpus[i] = podcast_test[i]"
      ],
      "metadata": {
        "id": "MhrctVY0oB_X"
      },
      "execution_count": 38,
      "outputs": []
    },
    {
      "cell_type": "code",
      "source": [
        "X = vectorizer.fit_transform(corpus)\n",
        "feature_name = vectorizer.get_feature_names()"
      ],
      "metadata": {
        "colab": {
          "base_uri": "https://localhost:8080/"
        },
        "id": "Pvgh0uLJqHbg",
        "outputId": "24afc7f1-4570-4e2b-9f53-2a426522e64f"
      },
      "execution_count": 39,
      "outputs": [
        {
          "output_type": "stream",
          "name": "stderr",
          "text": [
            "/usr/local/lib/python3.7/dist-packages/sklearn/utils/deprecation.py:87: FutureWarning: Function get_feature_names is deprecated; get_feature_names is deprecated in 1.0 and will be removed in 1.2. Please use get_feature_names_out instead.\n",
            "  warnings.warn(msg, category=FutureWarning)\n"
          ]
        }
      ]
    },
    {
      "cell_type": "markdown",
      "source": [
        "### 輸出"
      ],
      "metadata": {
        "id": "dUKRm7y45sdc"
      }
    },
    {
      "cell_type": "code",
      "source": [
        "print(X)"
      ],
      "metadata": {
        "colab": {
          "base_uri": "https://localhost:8080/"
        },
        "id": "e0Y1rClP5kfb",
        "outputId": "3442fc1a-51d9-4cd6-e820-a52c59bb2269"
      },
      "execution_count": 47,
      "outputs": [
        {
          "output_type": "stream",
          "name": "stdout",
          "text": [
            "  (0, 241)\t2\n",
            "  (0, 202)\t1\n",
            "  (0, 227)\t1\n",
            "  (0, 588)\t1\n",
            "  (0, 390)\t5\n",
            "  (0, 540)\t1\n",
            "  (0, 258)\t4\n",
            "  (0, 629)\t10\n",
            "  (0, 434)\t6\n",
            "  (0, 584)\t1\n",
            "  (0, 396)\t2\n",
            "  (0, 384)\t1\n",
            "  (0, 632)\t1\n",
            "  (0, 240)\t1\n",
            "  (0, 254)\t1\n",
            "  (0, 40)\t4\n",
            "  (0, 151)\t1\n",
            "  (0, 251)\t1\n",
            "  (0, 232)\t1\n",
            "  (0, 615)\t1\n",
            "  (0, 136)\t2\n",
            "  (0, 475)\t2\n",
            "  (0, 185)\t1\n",
            "  (0, 355)\t1\n",
            "  (0, 357)\t1\n",
            "  :\t:\n",
            "  (9, 357)\t1\n",
            "  (9, 267)\t2\n",
            "  (9, 31)\t2\n",
            "  (9, 534)\t2\n",
            "  (9, 522)\t2\n",
            "  (9, 600)\t1\n",
            "  (9, 268)\t2\n",
            "  (9, 532)\t1\n",
            "  (9, 304)\t1\n",
            "  (9, 346)\t1\n",
            "  (9, 565)\t1\n",
            "  (9, 529)\t3\n",
            "  (9, 142)\t1\n",
            "  (9, 552)\t1\n",
            "  (9, 514)\t1\n",
            "  (9, 394)\t1\n",
            "  (9, 317)\t1\n",
            "  (9, 120)\t1\n",
            "  (9, 208)\t1\n",
            "  (9, 223)\t2\n",
            "  (9, 28)\t1\n",
            "  (9, 13)\t1\n",
            "  (9, 274)\t2\n",
            "  (9, 257)\t2\n",
            "  (9, 147)\t1\n"
          ]
        }
      ]
    },
    {
      "cell_type": "code",
      "source": [
        "print(len(feature_name))\n",
        "print(feature_name)"
      ],
      "metadata": {
        "colab": {
          "base_uri": "https://localhost:8080/"
        },
        "id": "B8K4TqQK7oR1",
        "outputId": "c2c9a969-2820-42a4-ea81-7a12d5c3ce90"
      },
      "execution_count": 51,
      "outputs": [
        {
          "output_type": "stream",
          "name": "stdout",
          "text": [
            "634\n",
            "['100', '1870s', '1886', '1890', '1900', '1920s', '1923', '1st', '20', '22', '50', 'about', 'according', 'accusers', 'actually', 'addition', 'adorable', 'affair', 'after', 'again', 'alcohol', 'alert', 'all', 'almost', 'alone', 'also', 'always', 'america', 'amongst', 'amount', 'an', 'and', 'angry', 'another', 'any', 'anyone', 'anyway', 'anyways', 'app', 'appealing', 'are', 'around', 'as', 'ask', 'asked', 'ass', 'assaulted', 'at', 'attack', 'attacked', 'available', 'away', 'awesome', 'awful', 'babe', 'back', 'badly', 'bailey', 'baseball', 'be', 'beans', 'beat', 'beaten', 'beautiful', 'because', 'become', 'been', 'before', 'began', 'beginning', 'being', 'believed', 'best', 'between', 'big', 'bit', 'black', 'blew', 'block', 'bold', 'boo', 'books', 'bored', 'both', 'boy', 'brag', 'brain', 'bronx', 'bruin', 'bruise', 'buckling', 'built', 'bust', 'but', 'buy', 'buying', 'by', 'called', 'came', 'can', 'carrier', 'cats', 'cedar', 'celebrating', 'challenge', 'change', 'changing', 'characters', 'check', 'chopped', 'churches', 'city', 'civil', 'claims', 'clear', 'close', 'club', 'coexisted', 'color', 'come', 'comes', 'coming', 'communities', 'community', 'completely', 'constantly', 'correction', 'could', 'country', 'couple', 'course', 'cover', 'currently', 'cut', 'dancing', 'dark', 'day', 'decent', 'decline', 'definitely', 'destruction', 'developed', 'did', 'didn', 'die', 'dinky', 'discuss', 'disgusting', 'displacement', 'do', 'doesn', 'doing', 'domino', 'don', 'double', 'down', 'download', 'dress', 'drinks', 'each', 'east', 'economic', 'economy', 'effect', 'eighteen', 'end', 'enter', 'entire', 'episode', 'established', 'even', 'evening', 'events', 'every', 'everybody', 'everyone', 'everything', 'exactly', 'exciting', 'exercise', 'explore', 'face', 'fact', 'families', 'fanny', 'far', 'feeling', 'feels', 'felt', 'fiends', 'first', 'fit', 'five', 'flag', 'flapper', 'florida', 'food', 'for', 'forever', 'four', 'freaking', 'free', 'friends', 'from', 'fun', 'game', 'general', 'get', 'gets', 'getting', 'go', 'god', 'goes', 'going', 'good', 'goodbye', 'google', 'got', 'granddaughter', 'great', 'grow', 'guess', 'gulf', 'guy', 'had', 'happened', 'happens', 'happy', 'hard', 'harding', 'has', 'have', 'having', 'he', 'headed', 'heard', 'heartbreaking', 'hell', 'her', 'here', 'hey', 'hi', 'him', 'his', 'history', 'hit', 'hmm', 'hollywood', 'home', 'honest', 'honey', 'hope', 'horrific', 'house', 'how', 'hundreds', 'hung', 'hunter', 'if', 'illegal', 'important', 'in', 'income', 'incredible', 'innocent', 'inside', 'into', 'is', 'it', 'its', 'itself', 'james', 'january', 'jazz', 'jesse', 'jobs', 'joints', 'just', 'kidding', 'kill', 'kind', 'kitty', 'knew', 'know', 'knowing', 'land', 'landowner', 'large', 'later', 'laundry', 'leads', 'learn', 'learned', 'learning', 'least', 'leave', 'leaves', 'leaving', 'left', 'less', 'let', 'level', 'liar', 'lie', 'like', 'likelihood', 'likely', 'literally', 'little', 'lived', 'll', 'located', 'lol', 'look', 'looked', 'looking', 'loss', 'lot', 'louder', 'love', 'loved', 'lying', 'made', 'majority', 'make', 'man', 'many', 'mark', 'massacre', 'may', 'maybe', 'me', 'mean', 'means', 'meetings', 'members', 'mexico', 'mid', 'mile', 'miles', 'mill', 'milling', 'mind', 'minute', 'mobile', 'money', 'more', 'morning', 'most', 'move', 'moved', 'much', 'murders', 'muscle', 'mush', 'my', 'myself', 'name', 'nearby', 'need', 'needed', 'neighboring', 'neighbors', 'neither', 'never', 'new', 'nice', 'night', 'nine', 'nineteen', 'no', 'nobody', 'noggin', 'normal', 'not', 'nothing', 'now', 'obviously', 'of', 'off', 'office', 'oh', 'okay', 'old', 'on', 'once', 'one', 'ones', 'only', 'open', 'or', 'original', 'originally', 'other', 'our', 'out', 'over', 'overall', 'own', 'pale', 'partnering', 'pause', 'peaceful', 'people', 'person', 'phone', 'pink', 'place', 'play', 'plus', 'pocket', 'podcast', 'population', 'possible', 'post', 'president', 'presumptive', 'pretty', 'prior', 'probably', 'provided', 'put', 'putting', 'puzzle', 'puzzles', 'quarantine', 'question', 'questioned', 'quieter', 'quite', 'quote', 'randomly', 'rarely', 'rated', 're', 'really', 'recognize', 'red', 'remember', 'repeat', 'resident', 'right', 'ringing', 'roll', 'rose', 'rosewood', 'rumor', 'sad', 'said', 'sarah', 'saw', 'sawmill', 'saws', 'say', 'scene', 'school', 'schoolhouse', 'screaming', 'screams', 'seat', 'second', 'seemed', 'seen', 'sees', 'segregated', 'sense', 'serían', 'set', 'she', 'shifted', 'shit', 'should', 'shy', 'sign', 'small', 'so', 'sold', 'solve', 'some', 'somebody', 'someone', 'something', 'song', 'sounds', 'speak', 'speakeasy', 'spend', 'sponsor', 'spreading', 'stadium', 'star', 'start', 'started', 'state', 'station', 'stayed', 'staying', 'still', 'store', 'story', 'straight', 'straightedge', 'sugar', 'sugarcoating', 'suit', 'sumner', 'super', 'supported', 'sure', 'swear', 'tackle', 'tailor', 'take', 'talk', 'talking', 'taylor', 'teach', 'team', 'telling', 'tells', 'thanks', 'that', 'the', 'their', 'them', 'theme', 'then', 'there', 'these', 'they', 'thing', 'things', 'think', 'thirty', 'this', 'those', 'though', 'thousands', 'three', 'through', 'thursday', 'time', 'times', 'tired', 'to', 'today', 'together', 'tons', 'took', 'town', 'train', 'transparent', 'traumatic', 'travel', 'tree', 'trees', 'triggers', 'true', 'truth', 'turn', 'twenty', 'twice', 'uncomfortable', 'unfortunately', 'unquote', 'up', 'updates', 'upscale', 'us', 've', 'version', 'very', 'vibe', 'visit', 'voices', 'wait', 'waking', 'waldo', 'want', 'wanted', 'war', 'warren', 'was', 'wasn', 'watching', 'water', 'we', 'wearing', 'wednesday', 'welcome', 'well', 'went', 'were', 'what', 'when', 'whenever', 'whew', 'which', 'while', 'white', 'who', 'whoa', 'whose', 'why', 'wife', 'wild', 'wildfire', 'will', 'winky', 'with', 'within', 'without', 'woke', 'woman', 'won', 'wonderful', 'wondering', 'word', 'words', 'work', 'working', 'workout', 'works', 'would', 'yankee', 'yeah', 'year', 'years', 'yes', 'you', 'young', 'your', 'youtube', 'zoom']\n"
          ]
        }
      ]
    },
    {
      "cell_type": "code",
      "source": [
        "print(X.toarray())"
      ],
      "metadata": {
        "colab": {
          "base_uri": "https://localhost:8080/"
        },
        "id": "ir8hWAc-7p5E",
        "outputId": "6a0d99ae-23d1-4b13-f614-4d993b8422b8"
      },
      "execution_count": 50,
      "outputs": [
        {
          "output_type": "stream",
          "name": "stdout",
          "text": [
            "[[0 0 0 ... 2 1 0]\n",
            " [0 0 0 ... 0 0 0]\n",
            " [0 1 1 ... 0 0 0]\n",
            " ...\n",
            " [0 0 0 ... 0 0 0]\n",
            " [1 0 0 ... 0 0 0]\n",
            " [0 0 0 ... 0 0 0]]\n"
          ]
        }
      ]
    },
    {
      "cell_type": "markdown",
      "source": [
        "# 算出tifdf"
      ],
      "metadata": {
        "id": "88u_0KDZ53Ic"
      }
    },
    {
      "cell_type": "code",
      "source": [
        "vectorizer = CountVectorizer()\n",
        "transformer = TfidfTransformer()\n",
        "tfidf = transformer.fit_transform(vectorizer.fit_transform(corpus))"
      ],
      "metadata": {
        "id": "2lwIoELhr7hQ"
      },
      "execution_count": 41,
      "outputs": []
    },
    {
      "cell_type": "markdown",
      "source": [
        "#### 輸出"
      ],
      "metadata": {
        "id": "XBLhS9AL7a0d"
      }
    },
    {
      "cell_type": "code",
      "source": [
        "print(tfidf)"
      ],
      "metadata": {
        "colab": {
          "base_uri": "https://localhost:8080/"
        },
        "id": "riKE9atY7c5O",
        "outputId": "c1f05fec-0347-42b9-c29b-c9870ce44337"
      },
      "execution_count": 52,
      "outputs": [
        {
          "output_type": "stream",
          "name": "stdout",
          "text": [
            "  (0, 632)\t0.046912818887129844\n",
            "  (0, 631)\t0.06978089346920152\n",
            "  (0, 629)\t0.20825172976713166\n",
            "  (0, 628)\t0.07976036401637208\n",
            "  (0, 627)\t0.03489044673460076\n",
            "  (0, 626)\t0.0620402147430204\n",
            "  (0, 625)\t0.0310201073715102\n",
            "  (0, 624)\t0.046912818887129844\n",
            "  (0, 623)\t0.08357342956697089\n",
            "  (0, 618)\t0.03988018200818604\n",
            "  (0, 615)\t0.046912818887129844\n",
            "  (0, 609)\t0.10073650160979254\n",
            "  (0, 605)\t0.046912818887129844\n",
            "  (0, 600)\t0.02286807458207168\n",
            "  (0, 596)\t0.046912818887129844\n",
            "  (0, 594)\t0.0620402147430204\n",
            "  (0, 593)\t0.025184125402448135\n",
            "  (0, 592)\t0.05036825080489627\n",
            "  (0, 589)\t0.03988018200818604\n",
            "  (0, 588)\t0.046912818887129844\n",
            "  (0, 587)\t0.046912818887129844\n",
            "  (0, 586)\t0.10073650160979254\n",
            "  (0, 584)\t0.046912818887129844\n",
            "  (0, 582)\t0.062475518930139494\n",
            "  (0, 581)\t0.046912818887129844\n",
            "  :\t:\n",
            "  (9, 552)\t0.16202029626657932\n",
            "  (9, 534)\t0.2046299316327984\n",
            "  (9, 532)\t0.14174861377646072\n",
            "  (9, 529)\t0.2787167985898076\n",
            "  (9, 522)\t0.14093114887106079\n",
            "  (9, 514)\t0.14174861377646072\n",
            "  (9, 434)\t0.22635456404010898\n",
            "  (9, 394)\t0.14174861377646072\n",
            "  (9, 357)\t0.11317728202005449\n",
            "  (9, 346)\t0.14174861377646072\n",
            "  (9, 317)\t0.16202029626657932\n",
            "  (9, 304)\t0.07046557443553039\n",
            "  (9, 274)\t0.38118325604597114\n",
            "  (9, 268)\t0.14093114887106079\n",
            "  (9, 267)\t0.18581119905987173\n",
            "  (9, 257)\t0.38118325604597114\n",
            "  (9, 240)\t0.16202029626657932\n",
            "  (9, 223)\t0.28349722755292145\n",
            "  (9, 208)\t0.14174861377646072\n",
            "  (9, 147)\t0.19059162802298557\n",
            "  (9, 142)\t0.1023149658163992\n",
            "  (9, 120)\t0.16202029626657932\n",
            "  (9, 31)\t0.14093114887106079\n",
            "  (9, 28)\t0.19059162802298557\n",
            "  (9, 13)\t0.19059162802298557\n"
          ]
        }
      ]
    },
    {
      "cell_type": "markdown",
      "source": [
        "# 使用停用詞 (spaCy)"
      ],
      "metadata": {
        "id": "96-GGLCS6438"
      }
    },
    {
      "cell_type": "code",
      "source": [
        "import spacy\n",
        "\n",
        "nlp = spacy.load('en_core_web_sm')\n",
        "spacy_stopwords = spacy.lang.en.stop_words.STOP_WORDS\n",
        "print('spaCy has {} stop words'.format(len(spacy_stopwords)))\n",
        "print('The first five stop words are {}'.format(list(spacy_stopwords)[:5]))"
      ],
      "metadata": {
        "colab": {
          "base_uri": "https://localhost:8080/"
        },
        "id": "f59F2IwXty9v",
        "outputId": "ac48fb80-2d2b-4001-cb36-9aaad983b2fb"
      },
      "execution_count": 28,
      "outputs": [
        {
          "output_type": "stream",
          "name": "stdout",
          "text": [
            "spaCy has 326 stop words\n",
            "The first five stop words are ['also', 'myself', 'nobody', 'almost', 'side']\n"
          ]
        }
      ]
    },
    {
      "cell_type": "code",
      "source": [
        "result = []\n",
        "for sent in podcast_test:\n",
        "  ws = sent.split()\n",
        "  w_string = str()\n",
        "  for w in ws:\n",
        "    if w not in spacy_stopwords:\n",
        "      w_string += w + ' '\n",
        "  result.append(w_string)"
      ],
      "metadata": {
        "id": "GtLt3u-_yqwj"
      },
      "execution_count": 42,
      "outputs": []
    },
    {
      "cell_type": "code",
      "source": [
        "vectorizer_stop = CountVectorizer()\n",
        "transformer_stop = TfidfTransformer()\n",
        "tfidf_stop = transformer.fit_transform(vectorizer.fit_transform(result))\n",
        "feature_name_stop = vectorizer.get_feature_names()"
      ],
      "metadata": {
        "colab": {
          "base_uri": "https://localhost:8080/"
        },
        "id": "8eTr1Au53aqr",
        "outputId": "4bfb44ed-61e0-41af-9991-e6e2deb417bb"
      },
      "execution_count": 43,
      "outputs": [
        {
          "output_type": "stream",
          "name": "stderr",
          "text": [
            "/usr/local/lib/python3.7/dist-packages/sklearn/utils/deprecation.py:87: FutureWarning: Function get_feature_names is deprecated; get_feature_names is deprecated in 1.0 and will be removed in 1.2. Please use get_feature_names_out instead.\n",
            "  warnings.warn(msg, category=FutureWarning)\n"
          ]
        }
      ]
    },
    {
      "cell_type": "markdown",
      "source": [
        "#### 輸出"
      ],
      "metadata": {
        "id": "27QXe-J07GAz"
      }
    },
    {
      "cell_type": "code",
      "source": [
        "print(tfidf_stop)"
      ],
      "metadata": {
        "colab": {
          "base_uri": "https://localhost:8080/"
        },
        "id": "yfcZV1493e_L",
        "outputId": "73aca8d7-e27e-44dd-8f59-a36af8028199"
      },
      "execution_count": 44,
      "outputs": [
        {
          "output_type": "stream",
          "name": "stdout",
          "text": [
            "  (0, 550)\t0.062315388321232845\n",
            "  (0, 548)\t0.16726329724078048\n",
            "  (0, 547)\t0.10594754641117238\n",
            "  (0, 546)\t0.04634579180157546\n",
            "  (0, 545)\t0.08240946003576463\n",
            "  (0, 544)\t0.041204730017882316\n",
            "  (0, 543)\t0.062315388321232845\n",
            "  (0, 538)\t0.05297377320558619\n",
            "  (0, 535)\t0.062315388321232845\n",
            "  (0, 528)\t0.062315388321232845\n",
            "  (0, 524)\t0.05297377320558619\n",
            "  (0, 522)\t0.062315388321232845\n",
            "  (0, 518)\t0.05297377320558619\n",
            "  (0, 517)\t0.062315388321232845\n",
            "  (0, 516)\t0.062315388321232845\n",
            "  (0, 515)\t0.04634579180157546\n",
            "  (0, 513)\t0.062315388321232845\n",
            "  (0, 510)\t0.062315388321232845\n",
            "  (0, 505)\t0.05297377320558619\n",
            "  (0, 502)\t0.062315388321232845\n",
            "  (0, 501)\t0.062315388321232845\n",
            "  (0, 498)\t0.062315388321232845\n",
            "  (0, 497)\t0.062315388321232845\n",
            "  (0, 492)\t0.062315388321232845\n",
            "  (0, 482)\t0.062315388321232845\n",
            "  :\t:\n",
            "  (8, 36)\t0.134891055017291\n",
            "  (8, 34)\t0.057334860204292896\n",
            "  (8, 23)\t0.04459692584408518\n",
            "  (8, 21)\t0.057334860204292896\n",
            "  (8, 16)\t0.0674455275086455\n",
            "  (8, 13)\t0.134891055017291\n",
            "  (8, 0)\t0.0674455275086455\n",
            "  (9, 495)\t0.21215471137232086\n",
            "  (9, 483)\t0.18035088711634586\n",
            "  (9, 468)\t0.2519637808851987\n",
            "  (9, 466)\t0.15778571469857433\n",
            "  (9, 463)\t0.20683343604965565\n",
            "  (9, 449)\t0.15778571469857433\n",
            "  (9, 373)\t0.2519637808851987\n",
            "  (9, 280)\t0.18035088711634586\n",
            "  (9, 267)\t0.07843788187932264\n",
            "  (9, 238)\t0.42430942274464173\n",
            "  (9, 233)\t0.1568757637586453\n",
            "  (9, 222)\t0.42430942274464173\n",
            "  (9, 208)\t0.18035088711634586\n",
            "  (9, 193)\t0.31557142939714866\n",
            "  (9, 178)\t0.15778571469857433\n",
            "  (9, 125)\t0.21215471137232086\n",
            "  (9, 99)\t0.18035088711634586\n",
            "  (9, 12)\t0.21215471137232086\n"
          ]
        }
      ]
    },
    {
      "cell_type": "code",
      "source": [
        "print(len(feature_name_stop))\n",
        "print(feature_name_stop)"
      ],
      "metadata": {
        "colab": {
          "base_uri": "https://localhost:8080/"
        },
        "id": "MZwm0x7I4zsM",
        "outputId": "37a2f96d-bb34-4282-bfa4-b931238d920e"
      },
      "execution_count": 45,
      "outputs": [
        {
          "output_type": "stream",
          "name": "stdout",
          "text": [
            "552\n",
            "['100', '1870s', '1886', '1890', '1900', '1920s', '1923', '1st', '20', '22', '50', 'according', 'accusers', 'actually', 'addition', 'adorable', 'affair', 'again', 'alcohol', 'alert', 'all', 'alone', 'america', 'and', 'angry', 'another', 'any', 'anyway', 'anyways', 'app', 'appealing', 'are', 'ask', 'asked', 'ass', 'assaulted', 'attack', 'attacked', 'available', 'away', 'awesome', 'awful', 'babe', 'badly', 'bailey', 'baseball', 'beans', 'beat', 'beaten', 'beautiful', 'before', 'began', 'beginning', 'believed', 'best', 'big', 'bit', 'black', 'blew', 'block', 'bold', 'boo', 'books', 'bored', 'boy', 'brag', 'brain', 'bronx', 'bruin', 'bruise', 'buckling', 'built', 'bust', 'but', 'buy', 'buying', 'called', 'came', 'can', 'carrier', 'cats', 'cedar', 'celebrating', 'challenge', 'change', 'changing', 'characters', 'check', 'chopped', 'churches', 'city', 'civil', 'claims', 'clear', 'close', 'club', 'coexisted', 'color', 'come', 'comes', 'coming', 'communities', 'community', 'completely', 'constantly', 'correction', 'country', 'couple', 'course', 'cover', 'currently', 'cut', 'dancing', 'dark', 'day', 'decent', 'decline', 'definitely', 'destruction', 'developed', 'did', 'didn', 'die', 'dinky', 'discuss', 'disgusting', 'displacement', 'doesn', 'doing', 'domino', 'don', 'double', 'down', 'download', 'dress', 'drinks', 'east', 'economic', 'economy', 'effect', 'eighteen', 'end', 'enter', 'entire', 'episode', 'established', 'even', 'evening', 'events', 'everybody', 'exactly', 'exciting', 'exercise', 'explore', 'face', 'fact', 'families', 'fanny', 'far', 'feeling', 'feels', 'felt', 'fiends', 'first', 'fit', 'five', 'flag', 'flapper', 'florida', 'food', 'forever', 'freaking', 'free', 'friends', 'fun', 'game', 'general', 'get', 'gets', 'getting', 'go', 'god', 'goes', 'going', 'good', 'goodbye', 'google', 'got', 'granddaughter', 'great', 'grow', 'guess', 'gulf', 'guy', 'happened', 'happens', 'happy', 'hard', 'harding', 'have', 'having', 'he', 'headed', 'heard', 'heartbreaking', 'hell', 'her', 'here', 'hey', 'hi', 'history', 'hit', 'hmm', 'hollywood', 'home', 'honest', 'honey', 'hope', 'horrific', 'house', 'hundreds', 'hung', 'hunter', 'if', 'illegal', 'important', 'in', 'income', 'incredible', 'innocent', 'inside', 'into', 'is', 'it', 'itself', 'james', 'january', 'jazz', 'jesse', 'jobs', 'joints', 'just', 'kidding', 'kill', 'kind', 'kitty', 'knew', 'know', 'knowing', 'land', 'landowner', 'large', 'later', 'laundry', 'leads', 'learn', 'learned', 'learning', 'leave', 'leaves', 'leaving', 'left', 'less', 'let', 'level', 'liar', 'lie', 'like', 'likelihood', 'likely', 'literally', 'little', 'lived', 'll', 'located', 'lol', 'look', 'looked', 'looking', 'loss', 'lot', 'louder', 'love', 'loved', 'lying', 'made', 'majority', 'man', 'mark', 'massacre', 'maybe', 'me', 'mean', 'means', 'meetings', 'members', 'mexico', 'mid', 'mile', 'miles', 'mill', 'milling', 'mind', 'minute', 'mobile', 'money', 'morning', 'moved', 'murders', 'muscle', 'mush', 'my', 'nearby', 'need', 'needed', 'neighboring', 'neighbors', 'new', 'nice', 'night', 'nineteen', 'nobody', 'noggin', 'normal', 'not', 'now', 'obviously', 'of', 'office', 'oh', 'okay', 'old', 'one', 'ones', 'open', 'original', 'originally', 'other', 'out', 'overall', 'pale', 'partnering', 'pause', 'peaceful', 'people', 'person', 'phone', 'pink', 'place', 'play', 'plus', 'pocket', 'podcast', 'population', 'possible', 'post', 'president', 'presumptive', 'pretty', 'prior', 'probably', 'provided', 'putting', 'puzzle', 'puzzles', 'quarantine', 'question', 'questioned', 'quieter', 'quote', 'randomly', 'rarely', 'rated', 're', 'recognize', 'red', 'remember', 'repeat', 'resident', 'right', 'ringing', 'roll', 'rose', 'rosewood', 'rumor', 'sad', 'said', 'sarah', 'saw', 'sawmill', 'saws', 'scene', 'school', 'schoolhouse', 'screaming', 'screams', 'seat', 'second', 'seen', 'sees', 'segregated', 'sense', 'serían', 'set', 'she', 'shifted', 'shit', 'should', 'shy', 'sign', 'small', 'so', 'sold', 'solve', 'some', 'somebody', 'someone', 'song', 'sounds', 'speak', 'speakeasy', 'spend', 'sponsor', 'spreading', 'stadium', 'star', 'start', 'started', 'state', 'station', 'stayed', 'staying', 'still', 'store', 'story', 'straight', 'straightedge', 'sugar', 'sugarcoating', 'suit', 'sumner', 'super', 'supported', 'sure', 'swear', 'tackle', 'tailor', 'take', 'talk', 'talking', 'taylor', 'teach', 'team', 'telling', 'tells', 'thanks', 'that', 'the', 'their', 'them', 'theme', 'then', 'there', 'they', 'thing', 'things', 'think', 'thirty', 'this', 'though', 'thousands', 'thursday', 'time', 'times', 'tired', 'to', 'today', 'together', 'tons', 'took', 'town', 'train', 'transparent', 'traumatic', 'travel', 'tree', 'trees', 'triggers', 'true', 'truth', 'turn', 'twice', 'uncomfortable', 'unfortunately', 'unquote', 'up', 'updates', 'upscale', 'us', 've', 'version', 'vibe', 'visit', 'voices', 'wait', 'waking', 'waldo', 'want', 'wanted', 'war', 'warren', 'was', 'wasn', 'watching', 'water', 'we', 'wearing', 'wednesday', 'welcome', 'well', 'went', 'what', 'whew', 'white', 'who', 'whoa', 'why', 'wife', 'wild', 'wildfire', 'winky', 'with', 'woke', 'woman', 'won', 'wonderful', 'wondering', 'word', 'words', 'work', 'working', 'workout', 'works', 'yankee', 'yeah', 'year', 'years', 'yes', 'you', 'young', 'youtube', 'zoom']\n"
          ]
        }
      ]
    },
    {
      "cell_type": "markdown",
      "source": [
        "# 使用停用詞(NLTK)"
      ],
      "metadata": {
        "id": "6Y9qY8Vp8pnl"
      }
    },
    {
      "cell_type": "code",
      "source": [
        "!pip install --user -U nltk"
      ],
      "metadata": {
        "colab": {
          "base_uri": "https://localhost:8080/"
        },
        "id": "8_KiKwuQ9Yzm",
        "outputId": "9aa30db6-6449-4601-ac6a-507f652d46b4"
      },
      "execution_count": 54,
      "outputs": [
        {
          "output_type": "stream",
          "name": "stdout",
          "text": [
            "Requirement already satisfied: nltk in /usr/local/lib/python3.7/dist-packages (3.2.5)\n",
            "Collecting nltk\n",
            "  Downloading nltk-3.7-py3-none-any.whl (1.5 MB)\n",
            "\u001b[K     |████████████████████████████████| 1.5 MB 14.0 MB/s \n",
            "\u001b[?25hRequirement already satisfied: click in /usr/local/lib/python3.7/dist-packages (from nltk) (7.1.2)\n",
            "Requirement already satisfied: joblib in /usr/local/lib/python3.7/dist-packages (from nltk) (1.1.0)\n",
            "Collecting regex>=2021.8.3\n",
            "  Downloading regex-2022.3.15-cp37-cp37m-manylinux_2_17_x86_64.manylinux2014_x86_64.whl (749 kB)\n",
            "\u001b[K     |████████████████████████████████| 749 kB 35.6 MB/s \n",
            "\u001b[?25hRequirement already satisfied: tqdm in /usr/local/lib/python3.7/dist-packages (from nltk) (4.64.0)\n",
            "Installing collected packages: regex, nltk\n",
            "\u001b[33m  WARNING: The script nltk is installed in '/root/.local/bin' which is not on PATH.\n",
            "  Consider adding this directory to PATH or, if you prefer to suppress this warning, use --no-warn-script-location.\u001b[0m\n",
            "Successfully installed nltk-3.7 regex-2022.3.15\n"
          ]
        }
      ]
    },
    {
      "cell_type": "markdown",
      "source": [
        "#### nltk test"
      ],
      "metadata": {
        "id": "zDjJtTiq_Kdu"
      }
    },
    {
      "cell_type": "code",
      "source": [
        "# 下面的代碼是使用nltk從句子中去除停用詞 \n",
        "# 導入包 \n",
        "import nltk \n",
        "from nltk.corpus import stopwords \n",
        "from nltk.tokenize import word_tokenize \n",
        "nltk.download(\"stopwords\")\n",
        "#set(stopwords.words('english')) \n",
        "# 例句 \n",
        "text = \"\"\"He determined to drop his litigation with the monastry, and relinguish his claims to the wood-cuting and fishery rihgts at once. He was the more ready to do this becuase the rights had become much less valuable, and he had indeed the vaguest idea where the wood and river in question were.\"\"\" \n",
        "# 停用詞集合 \n",
        "stop_words = set(stopwords.words('english')) \n",
        "# 分詞 \n",
        "nltk.download('punkt')\n",
        "word_tokens = word_tokenize(text) \n",
        "filtered_sentence = [] \n",
        "for w in word_tokens: \n",
        "  if w not in stop_words: \n",
        "    filtered_sentence.append(w) \n",
        "print(\"\\n\\nOriginal Sentence \\n\\n\") \n",
        "print(\" \".join(word_tokens)) \n",
        "print(\"\\n\\nFiltered Sentence \\n\\n\") \n",
        "print(\" \".join(filtered_sentence))\n"
      ],
      "metadata": {
        "colab": {
          "base_uri": "https://localhost:8080/"
        },
        "id": "mjNclKWF8yU8",
        "outputId": "28d75d1e-712e-45a5-a10c-94fbda9bf38a"
      },
      "execution_count": 65,
      "outputs": [
        {
          "output_type": "stream",
          "name": "stdout",
          "text": [
            "[nltk_data] Downloading package stopwords to /root/nltk_data...\n",
            "[nltk_data]   Package stopwords is already up-to-date!\n",
            "[nltk_data] Downloading package punkt to /root/nltk_data...\n",
            "[nltk_data]   Package punkt is already up-to-date!\n",
            "\n",
            "\n",
            "Original Sentence \n",
            "\n",
            "\n",
            "He determined to drop his litigation with the monastry , and relinguish his claims to the wood-cuting and fishery rihgts at once . He was the more ready to do this becuase the rights had become much less valuable , and he had indeed the vaguest idea where the wood and river in question were .\n",
            "\n",
            "\n",
            "Filtered Sentence \n",
            "\n",
            "\n",
            "He determined drop litigation monastry , relinguish claims wood-cuting fishery rihgts . He ready becuase rights become much less valuable , indeed vaguest idea wood river question .\n"
          ]
        }
      ]
    },
    {
      "cell_type": "markdown",
      "source": [
        "## 實際帶入"
      ],
      "metadata": {
        "id": "v5WPRCX4_PZe"
      }
    },
    {
      "cell_type": "code",
      "source": [
        "# 下面的代碼是使用nltk從句子中去除停用詞 \n",
        "# 導入包 \n",
        "import nltk \n",
        "from nltk.corpus import stopwords \n",
        "from nltk.tokenize import word_tokenize \n",
        "nltk.download(\"stopwords\")\n",
        "#set(stopwords.words('english')) \n",
        "# 例句 \n",
        "#text = \"\"\"He determined to drop his litigation with the monastry, and relinguish his claims to the wood-cuting and fishery rihgts at once. He was the more ready to do this becuase the rights had become much less valuable, and he had indeed the vaguest idea where the wood and river in question were.\"\"\" \n",
        "# 停用詞集合 \n",
        "stop_words = set(stopwords.words('english')) \n",
        "# 分詞 \n",
        "nltk.download('punkt')\n",
        "result_nltk = []\n",
        "for sent in podcast_test:\n",
        "  word_tokens = word_tokenize(sent) \n",
        "  filtered_sentence = [] \n",
        "  for w in word_tokens: \n",
        "    if w not in stop_words: \n",
        "      filtered_sentence.append(w) \n",
        "  result_nltk.append(\" \".join(filtered_sentence))\n"
      ],
      "metadata": {
        "colab": {
          "base_uri": "https://localhost:8080/"
        },
        "id": "n5mo6Wn7_OBV",
        "outputId": "85418d16-cbb2-4b63-8a2b-460d6c7f3a76"
      },
      "execution_count": 68,
      "outputs": [
        {
          "output_type": "stream",
          "name": "stdout",
          "text": [
            "[nltk_data] Downloading package stopwords to /root/nltk_data...\n",
            "[nltk_data]   Package stopwords is already up-to-date!\n",
            "[nltk_data] Downloading package punkt to /root/nltk_data...\n",
            "[nltk_data]   Package punkt is already up-to-date!\n"
          ]
        }
      ]
    },
    {
      "cell_type": "code",
      "source": [
        "print(len(result_nltk))\n",
        "print(result_nltk)"
      ],
      "metadata": {
        "colab": {
          "base_uri": "https://localhost:8080/"
        },
        "id": "6Iln9uZ5_3iv",
        "outputId": "f07631cc-37ed-48a1-d27b-c5562b0ab94b"
      },
      "execution_count": 70,
      "outputs": [
        {
          "output_type": "stream",
          "name": "stdout",
          "text": [
            "10\n",
            "[\"Hi friends . Happy Wednesday Thursday 're watching YouTube . Hey , ? I hope 're wonderful day far . My name Bailey serían dark History Podcast . Whew , I need theme song dark history . Do n't , I 'm . , I 'm talk dark ass history never learned school I , least say . I never learned school . If 're new . Hi , welcome . Come . Take seat . Do n't shy 're And learning people events history books n't cover school . The maybe 'll fit right us . Okay . Look today 's story . It 's uncomfortable . Okay , 's heartbreaking . It 's , 's set . It 's awful . It 's sad . There 's , words . I think , n't make sense . But said , 's really like sugarcoating . This happened . And 's honest 're transparent learn grow together , know , let history repeat . So let 's set scene . It 's New Years Day 1923 many people waking celebrating New Year . Some still wearing flapper dress suit tired dancing . The night away jazz club , maybe 're hung buying illegal drinks speakeasy . Yes . Oh , yes . It still illegal buy alcohol wild , right ? Of course , though . That like upscale City Vibe . If country little less . Pocket change spend straightedge visit , like kind illegal joints . Then probably quieter evening staying home ringing new year loved ones , know , 1923 general President Warren G , Harding would die office , Yankee Stadium would built Bronx original Hollywood sign would built . Oh , yeah , Hollywood originally called Hollywood land , could say another episode , babe .\", 'Before , morning January , first , nineteen , twenty three thirty year old James 22-year old wife , Fanny , Taylor woke home town called Sumner , neighboring community Rosewood , Florida , morning . James Taylor goes work like day . But James work , something happens wife Fanny . That boy , triggers domino effect , horrific domino effect . It leads Murders innocent people , destruction town displacement entire Community changing Rosewood forever sounds traumatic .', \"I know , welcome . Hi . This episode friends going talking Rosewood Massacre . Have heard ? Yeah , exactly . Exactly . I n't one , completely blew . My mind like Waldo ? Did learned school ? Correction ? I speak . So , Waldo history books ? Not teach Rosewood Massacre ? Yeah . It happened . Let 's discuss learn together . What took place 1923 , Rosewood , Florida . Buckling , kitty cats . This ? Yeah , I 'm great words . Obviously . That 's I started podcast . The beginning , great place . Start town Rosewood established mid eighteen . Hundreds white families , moved prior Civil War black landowner started move 1870s . It 's located State Florida 's nine miles east Gulf Mexico . The name Rosewood . It came red cedar trees land . Fun fact , alert Boo . Boo . Did know cut open red cedar tree , cedar pale pink color inside ? Yeah , I guess 's like super pretty . Super beautiful . But also know cut open ? I 've got little pink inside LOL . Anyways , called town Rosewood pink color . Okay . Nice , right . Well , 've learned history , ca n't nice things . So people saw really pretty color inside beautiful incredible trees . What think ? They ? Yes , cut . They cut sold A made pretty decent amount money supported economy town still , know sad trees year 1886 town developed quite bit . It post office , Schoolhouse three churches one white people black people . Remember , 're talking time 's much segregated America . So four years later 1890 town began hit hard times . All red cedar trees chopped without trees . There 's money made turn leads town 's economic decline loss income many available jobs , many members white Community left , Rosewood , headed nearby town Sumner Sumner appealing large Sawmill provided tons jobs right people needed work , , sign Sumner , know , 1900 . The Rosewood population .\", \"Have shifted majority black community . Now , , Rosewood . There really close sense community . Like , everyone seemed know one another looked one another well . I mean , rarely anyone need leave town like travel food things ? They may need almost everything right Rosewood , addition three churches Schoolhouse post office Rosewood also train station . In become important later general store , Sugar Mill . Plus , looking fun , even Rosewood baseball team . What I 'm getting , Rosewood , overall , nice place . So , 20 years , people rosewood 's stayed Rosewood people Sumner , neighboring town . They stayed within Sumner , coexisted . They Communities going thing , unfortunately , peaceful time To end shit bruin , get , bruin , let 's pause word sponsor . Things kind getting back normal , I guess , right ? Yeah , I swear quarantine . My brain felt like mush need exercise . I mean , muscle , right , know , would best fiends . It feels like brain . Got great workout . What 's best fiends . You ask ? Well , 's mobile puzzle game put A challenge Noggin , 's kind like workout . But , brain , , best fiends fun . You wo n't want put + best . Fiends literally thousands fun , puzzles solve .\", \"I 'm currently level 50 like lot go . So , 's really nothing brag . There 's literally something new play every day . And characters adorable . I want best fiends . Best means 's constantly putting updates . So 's always something new . You exciting explore , whenever I 'm feeling little bored I like , know time kill Zoom meetings . I bust phone go straight best fiends tackle . Some puzzles . Download five-star rated puzzle game . Best fiends free today app store Google Play . That 's best friends without best fiends . Thanks . Best beans partnering today 's episode . Okay . Remember , 's January 1st . 1923 young couple James . And Fanny Taylor white waking first day new year .\", \"And James like , goodbye Fanny . Like I 'm work . I love . Babe . You know Fanny like , oh God . Yeah . Have good day whenever 's probably . Anyway , James leaves wife Fanny home alone go work . He works The Sawmill Sumner one mile east Rosewood . Now James work , Milling saws Fanny whose back home . Rumor . Someone attacked . Oh , yeah . Oh , yeah , neighbors heard screams . They heard screams coming within Taylor 's home like , oh God , know , like 's going screaming ? Hmm . So I , 'd probably go like check , right would like , oh God , 're screaming . Are okay , Fanny 's neighbors , heard screams left alone . Great . Yeah , awesome . So time goes James comes home Mark , gets home , sees fanny big bruise face .\", \"It 's clear somebody hit pretty badly . So asked , know , Fanny tells black man assaulted . She 's like , I n't know , definitely black man . According Fanny . Hmm . I mean , could possible . This guy came randomly , beat , I guess house , remember , Like small town . In fact , Sumner Rosewood small people recognize one another . So Are sure honey ? Are sure 's saw Fanny ? The fact Fanny like , could name person attacked . That first red flag . Okay . That maybe person quote unquote attacked . That first red flag . Okay . That maybe person quote unquote attacked resident Rosewood . I 'm telling , I 'm kidding . If lived Rosewood , would know neighbors everybody knew . But Fanny would likely know person , likelihood knowing presumptive , ? So sure Fanny sure . Again , 's 1920s . Unfortunately , time white woman made , bold claims attacked black person .\", \"Nobody questioned . They believed true . So n't question Fanny story one second . Like , oh God . She beaten block man . Like angry nobody wanted like double check make sure n't lying . They went . People talking Rose Water . Okay , story Fanny gets back woman name Sarah carrier 's like , wait minute . Wait minute .\", \"That 's true . Sarah said Taylor 's Home , morning so-called attack , , granddaughter neither saw black man , attack Fanny . Alone . Even enter house . Well , 're probably wondering really Who hell 's Sarah ? Okay . Well Sarah , working Tailor 's quite time . She day granddaughter Taylor 's laundry . Now , Sarah said actually saw white man leaving Taylor house morning . She said , never saw black man . Come house day . Now , get . Get . Sarah recognize white man . She seen come house twice . Hmm . Sarah believed man Fanny kind Winky dinky . If 're . Sarah said man actually guy beat Fanny morning lying cover ass 's probably affair . And n't want people know Fanny . So Sarah 's version going around town . It 's spreading like wildfire within black community . They 100 % believed . Why would lie ? Whoa , would lie , unfortunately , though white voices louder within community made clear . That Fanny quote . Not liar . She telling truth , okay . I freaking roll , right ?\", \"It gets lot traumatic talking amongst accusers name comes , Jesse Hunter , think 're disgusting . They 're like , hey , Jesse Hunter . This guy . This guy .\"]\n"
          ]
        }
      ]
    },
    {
      "cell_type": "code",
      "source": [
        "vectorizer_nltk = CountVectorizer()\n",
        "transformer_nltk = TfidfTransformer()\n",
        "tfidf_nltk = transformer.fit_transform(vectorizer.fit_transform(result_nltk))\n",
        "feature_name_nltk = vectorizer.get_feature_names()"
      ],
      "metadata": {
        "colab": {
          "base_uri": "https://localhost:8080/"
        },
        "id": "P8Mx_RokAVcv",
        "outputId": "a3c81dbf-6e4e-410c-8db9-063f3a65bd5c"
      },
      "execution_count": 71,
      "outputs": [
        {
          "output_type": "stream",
          "name": "stderr",
          "text": [
            "/usr/local/lib/python3.7/dist-packages/sklearn/utils/deprecation.py:87: FutureWarning: Function get_feature_names is deprecated; get_feature_names is deprecated in 1.0 and will be removed in 1.2. Please use get_feature_names_out instead.\n",
            "  warnings.warn(msg, category=FutureWarning)\n"
          ]
        }
      ]
    },
    {
      "cell_type": "code",
      "source": [
        "print(len(feature_name_nltk))\n",
        "print(feature_name_nltk)"
      ],
      "metadata": {
        "colab": {
          "base_uri": "https://localhost:8080/"
        },
        "id": "suoUtVD7AgUQ",
        "outputId": "c041204a-67ef-42ec-8feb-e5bdcbea8e06"
      },
      "execution_count": 72,
      "outputs": [
        {
          "output_type": "stream",
          "name": "stdout",
          "text": [
            "567\n",
            "['100', '1870s', '1886', '1890', '1900', '1920s', '1923', '1st', '20', '22', '50', 'according', 'accusers', 'actually', 'addition', 'adorable', 'affair', 'again', 'alcohol', 'alert', 'all', 'almost', 'alone', 'also', 'always', 'america', 'amongst', 'amount', 'and', 'angry', 'another', 'anyone', 'anyway', 'anyways', 'app', 'appealing', 'are', 'around', 'ask', 'asked', 'ass', 'assaulted', 'attack', 'attacked', 'available', 'away', 'awesome', 'awful', 'babe', 'back', 'badly', 'bailey', 'baseball', 'beans', 'beat', 'beaten', 'beautiful', 'become', 'before', 'began', 'beginning', 'believed', 'best', 'big', 'bit', 'black', 'blew', 'block', 'bold', 'boo', 'books', 'bored', 'boy', 'brag', 'brain', 'bronx', 'bruin', 'bruise', 'buckling', 'built', 'bust', 'but', 'buy', 'buying', 'ca', 'called', 'came', 'carrier', 'cats', 'cedar', 'celebrating', 'challenge', 'change', 'changing', 'characters', 'check', 'chopped', 'churches', 'city', 'civil', 'claims', 'clear', 'close', 'club', 'coexisted', 'color', 'come', 'comes', 'coming', 'communities', 'community', 'completely', 'constantly', 'correction', 'could', 'country', 'couple', 'course', 'cover', 'currently', 'cut', 'dancing', 'dark', 'day', 'decent', 'decline', 'definitely', 'destruction', 'developed', 'did', 'die', 'dinky', 'discuss', 'disgusting', 'displacement', 'do', 'domino', 'double', 'download', 'dress', 'drinks', 'east', 'economic', 'economy', 'effect', 'eighteen', 'end', 'enter', 'entire', 'episode', 'established', 'even', 'evening', 'events', 'every', 'everybody', 'everyone', 'everything', 'exactly', 'exciting', 'exercise', 'explore', 'face', 'fact', 'families', 'fanny', 'far', 'feeling', 'feels', 'felt', 'fiends', 'first', 'fit', 'five', 'flag', 'flapper', 'florida', 'food', 'forever', 'four', 'freaking', 'free', 'friends', 'fun', 'game', 'general', 'get', 'gets', 'getting', 'go', 'god', 'goes', 'going', 'good', 'goodbye', 'google', 'got', 'granddaughter', 'great', 'grow', 'guess', 'gulf', 'guy', 'happened', 'happens', 'happy', 'hard', 'harding', 'have', 'he', 'headed', 'heard', 'heartbreaking', 'hell', 'hey', 'hi', 'history', 'hit', 'hmm', 'hollywood', 'home', 'honest', 'honey', 'hope', 'horrific', 'house', 'hundreds', 'hung', 'hunter', 'if', 'illegal', 'important', 'in', 'income', 'incredible', 'innocent', 'inside', 'it', 'james', 'january', 'jazz', 'jesse', 'jobs', 'joints', 'kidding', 'kill', 'kind', 'kitty', 'knew', 'know', 'knowing', 'land', 'landowner', 'large', 'later', 'laundry', 'leads', 'learn', 'learned', 'learning', 'least', 'leave', 'leaves', 'leaving', 'left', 'less', 'let', 'level', 'liar', 'lie', 'like', 'likelihood', 'likely', 'literally', 'little', 'lived', 'll', 'located', 'lol', 'look', 'looked', 'looking', 'loss', 'lot', 'louder', 'love', 'loved', 'lying', 'made', 'majority', 'make', 'man', 'many', 'mark', 'massacre', 'may', 'maybe', 'mean', 'means', 'meetings', 'members', 'mexico', 'mid', 'mile', 'miles', 'mill', 'milling', 'mind', 'minute', 'mobile', 'money', 'morning', 'move', 'moved', 'much', 'murders', 'muscle', 'mush', 'my', 'name', 'nearby', 'need', 'needed', 'neighboring', 'neighbors', 'neither', 'never', 'new', 'nice', 'night', 'nine', 'nineteen', 'nobody', 'noggin', 'normal', 'not', 'nothing', 'now', 'obviously', 'of', 'office', 'oh', 'okay', 'old', 'one', 'ones', 'open', 'original', 'originally', 'overall', 'pale', 'partnering', 'pause', 'peaceful', 'people', 'person', 'phone', 'pink', 'place', 'play', 'plus', 'pocket', 'podcast', 'population', 'possible', 'post', 'president', 'presumptive', 'pretty', 'prior', 'probably', 'provided', 'put', 'putting', 'puzzle', 'puzzles', 'quarantine', 'question', 'questioned', 'quieter', 'quite', 'quote', 'randomly', 'rarely', 'rated', 're', 'really', 'recognize', 'red', 'remember', 'repeat', 'resident', 'right', 'ringing', 'roll', 'rose', 'rosewood', 'rumor', 'sad', 'said', 'sarah', 'saw', 'sawmill', 'saws', 'say', 'scene', 'school', 'schoolhouse', 'screaming', 'screams', 'seat', 'second', 'seemed', 'seen', 'sees', 'segregated', 'sense', 'serían', 'set', 'she', 'shifted', 'shit', 'shy', 'sign', 'small', 'so', 'sold', 'solve', 'some', 'somebody', 'someone', 'something', 'song', 'sounds', 'speak', 'speakeasy', 'spend', 'sponsor', 'spreading', 'stadium', 'star', 'start', 'started', 'state', 'station', 'stayed', 'staying', 'still', 'store', 'story', 'straight', 'straightedge', 'sugar', 'sugarcoating', 'suit', 'sumner', 'super', 'supported', 'sure', 'swear', 'tackle', 'tailor', 'take', 'talk', 'talking', 'taylor', 'teach', 'team', 'telling', 'tells', 'thanks', 'that', 'the', 'theme', 'then', 'there', 'they', 'thing', 'things', 'think', 'thirty', 'this', 'though', 'thousands', 'three', 'thursday', 'time', 'times', 'tired', 'to', 'today', 'together', 'tons', 'took', 'town', 'train', 'transparent', 'traumatic', 'travel', 'tree', 'trees', 'triggers', 'true', 'truth', 'turn', 'twenty', 'twice', 'uncomfortable', 'unfortunately', 'unquote', 'updates', 'upscale', 'us', 've', 'version', 'vibe', 'visit', 'voices', 'wait', 'waking', 'waldo', 'want', 'wanted', 'war', 'warren', 'watching', 'water', 'wearing', 'wednesday', 'welcome', 'well', 'went', 'what', 'whenever', 'whew', 'white', 'who', 'whoa', 'whose', 'why', 'wife', 'wild', 'wildfire', 'winky', 'within', 'without', 'wo', 'woke', 'woman', 'wonderful', 'wondering', 'word', 'words', 'work', 'working', 'workout', 'works', 'would', 'yankee', 'yeah', 'year', 'years', 'yes', 'you', 'young', 'youtube', 'zoom']\n"
          ]
        }
      ]
    },
    {
      "cell_type": "code",
      "source": [
        "for i in range(len(feature_name_nltk)):\n",
        "  if feature_name_nltk[i]=='sponsor':\n",
        "    print(i)"
      ],
      "metadata": {
        "colab": {
          "base_uri": "https://localhost:8080/"
        },
        "id": "HGAUpaseAs0e",
        "outputId": "7ffedb98-1b00-4ec5-89ce-a30c1d36a686"
      },
      "execution_count": 76,
      "outputs": [
        {
          "output_type": "stream",
          "name": "stdout",
          "text": [
            "437\n"
          ]
        }
      ]
    },
    {
      "cell_type": "code",
      "source": [
        "from nltk.util import pr\n",
        "print(type(tfidf_nltk))\n",
        "keyword_segment = []\n",
        "tfidf_segment = []\n",
        "#print(tfidf_nltk)\n",
        "#print(tfidf_nltk.toarray())\n",
        "array_tfidf_nltk = tfidf_nltk.toarray()\n",
        "#print(array_tfidf_nltk)\n",
        "#print(array_tfidf_nltk[0])\n",
        "for i in range(len(array_tfidf_nltk)):\n",
        "  if(array_tfidf_nltk[i][437]>0):\n",
        "    print(i)\n",
        "    for j in range(len(array_tfidf_nltk[i])):\n",
        "      if(array_tfidf_nltk[i][j]>0):\n",
        "        keyword_segment.append(feature_name_nltk[j])\n",
        "        tfidf_segment.append(array_tfidf_nltk[i][j])\n",
        "        print(feature_name_nltk[j],\" \",array_tfidf_nltk[i][j])"
      ],
      "metadata": {
        "colab": {
          "base_uri": "https://localhost:8080/"
        },
        "id": "Cxu7f1kxBs63",
        "outputId": "f4f75d83-3be8-4687-b2b6-5a6ba0d2319b"
      },
      "execution_count": 110,
      "outputs": [
        {
          "output_type": "stream",
          "name": "stdout",
          "text": [
            "<class 'scipy.sparse.csr.csr_matrix'>\n",
            "3\n",
            "20   0.07189780313063401\n",
            "addition   0.07189780313063401\n",
            "almost   0.07189780313063401\n",
            "also   0.0611197012427883\n",
            "another   0.1069450325080507\n",
            "anyone   0.07189780313063401\n",
            "ask   0.07189780313063401\n",
            "back   0.05347251625402535\n",
            "baseball   0.07189780313063401\n",
            "become   0.07189780313063401\n",
            "best   0.2444788049711532\n",
            "black   0.0475408987520856\n",
            "brain   0.21569340939190204\n",
            "bruin   0.14379560626126803\n",
            "but   0.04269441436617964\n",
            "challenge   0.07189780313063401\n",
            "churches   0.0611197012427883\n",
            "close   0.07189780313063401\n",
            "coexisted   0.07189780313063401\n",
            "communities   0.07189780313063401\n",
            "community   0.0950817975041712\n",
            "end   0.07189780313063401\n",
            "even   0.0611197012427883\n",
            "everyone   0.07189780313063401\n",
            "everything   0.07189780313063401\n",
            "exercise   0.07189780313063401\n",
            "feels   0.07189780313063401\n",
            "felt   0.07189780313063401\n",
            "fiends   0.2444788049711532\n",
            "food   0.07189780313063401\n",
            "fun   0.18335910372836492\n",
            "game   0.0611197012427883\n",
            "general   0.0611197012427883\n",
            "get   0.0611197012427883\n",
            "getting   0.14379560626126803\n",
            "going   0.0475408987520856\n",
            "got   0.0611197012427883\n",
            "great   0.05347251625402535\n",
            "guess   0.05347251625402535\n",
            "have   0.05347251625402535\n",
            "important   0.07189780313063401\n",
            "in   0.0611197012427883\n",
            "it   0.03504722937741668\n",
            "kind   0.1069450325080507\n",
            "know   0.07009445875483336\n",
            "later   0.0611197012427883\n",
            "leave   0.07189780313063401\n",
            "let   0.05347251625402535\n",
            "like   0.13291035001919907\n",
            "literally   0.0611197012427883\n",
            "looked   0.07189780313063401\n",
            "looking   0.07189780313063401\n",
            "majority   0.07189780313063401\n",
            "may   0.07189780313063401\n",
            "mean   0.1222394024855766\n",
            "mill   0.07189780313063401\n",
            "mobile   0.07189780313063401\n",
            "muscle   0.07189780313063401\n",
            "mush   0.07189780313063401\n",
            "my   0.05347251625402535\n",
            "need   0.18335910372836492\n",
            "neighboring   0.0611197012427883\n",
            "nice   0.0611197012427883\n",
            "noggin   0.07189780313063401\n",
            "normal   0.07189780313063401\n",
            "now   0.05347251625402535\n",
            "office   0.05347251625402535\n",
            "one   0.08538882873235928\n",
            "overall   0.07189780313063401\n",
            "pause   0.07189780313063401\n",
            "peaceful   0.07189780313063401\n",
            "people   0.07009445875483336\n",
            "place   0.0611197012427883\n",
            "plus   0.07189780313063401\n",
            "post   0.0611197012427883\n",
            "put   0.14379560626126803\n",
            "puzzle   0.0611197012427883\n",
            "puzzles   0.0611197012427883\n",
            "quarantine   0.07189780313063401\n",
            "rarely   0.07189780313063401\n",
            "really   0.04269441436617964\n",
            "right   0.12808324309853894\n",
            "rosewood   0.2988609005632575\n",
            "schoolhouse   0.0611197012427883\n",
            "seemed   0.07189780313063401\n",
            "sense   0.0611197012427883\n",
            "shifted   0.07189780313063401\n",
            "shit   0.07189780313063401\n",
            "so   0.031916312478333944\n",
            "solve   0.07189780313063401\n",
            "sponsor   0.07189780313063401\n",
            "station   0.07189780313063401\n",
            "stayed   0.14379560626126803\n",
            "store   0.0611197012427883\n",
            "sugar   0.07189780313063401\n",
            "sumner   0.08538882873235928\n",
            "swear   0.07189780313063401\n",
            "team   0.07189780313063401\n",
            "there   0.0475408987520856\n",
            "they   0.11579031061161589\n",
            "thing   0.07189780313063401\n",
            "things   0.1222394024855766\n",
            "thousands   0.07189780313063401\n",
            "three   0.05347251625402535\n",
            "time   0.03859677020387196\n",
            "to   0.07189780313063401\n",
            "town   0.08538882873235928\n",
            "train   0.07189780313063401\n",
            "travel   0.07189780313063401\n",
            "unfortunately   0.05347251625402535\n",
            "want   0.05347251625402535\n",
            "well   0.1069450325080507\n",
            "what   0.1222394024855766\n",
            "within   0.05347251625402535\n",
            "wo   0.07189780313063401\n",
            "word   0.07189780313063401\n",
            "workout   0.14379560626126803\n",
            "would   0.04269441436617964\n",
            "yeah   0.0475408987520856\n",
            "years   0.05347251625402535\n",
            "you   0.1069450325080507\n"
          ]
        }
      ]
    },
    {
      "cell_type": "code",
      "source": [
        "print(keyword_segment)\n",
        "print(tfidf_segment)"
      ],
      "metadata": {
        "colab": {
          "base_uri": "https://localhost:8080/"
        },
        "id": "ZTw2dZENK8-k",
        "outputId": "74a72811-773e-42de-fc1b-2025e8d70665"
      },
      "execution_count": 111,
      "outputs": [
        {
          "output_type": "stream",
          "name": "stdout",
          "text": [
            "['20', 'addition', 'almost', 'also', 'another', 'anyone', 'ask', 'back', 'baseball', 'become', 'best', 'black', 'brain', 'bruin', 'but', 'challenge', 'churches', 'close', 'coexisted', 'communities', 'community', 'end', 'even', 'everyone', 'everything', 'exercise', 'feels', 'felt', 'fiends', 'food', 'fun', 'game', 'general', 'get', 'getting', 'going', 'got', 'great', 'guess', 'have', 'important', 'in', 'it', 'kind', 'know', 'later', 'leave', 'let', 'like', 'literally', 'looked', 'looking', 'majority', 'may', 'mean', 'mill', 'mobile', 'muscle', 'mush', 'my', 'need', 'neighboring', 'nice', 'noggin', 'normal', 'now', 'office', 'one', 'overall', 'pause', 'peaceful', 'people', 'place', 'plus', 'post', 'put', 'puzzle', 'puzzles', 'quarantine', 'rarely', 'really', 'right', 'rosewood', 'schoolhouse', 'seemed', 'sense', 'shifted', 'shit', 'so', 'solve', 'sponsor', 'station', 'stayed', 'store', 'sugar', 'sumner', 'swear', 'team', 'there', 'they', 'thing', 'things', 'thousands', 'three', 'time', 'to', 'town', 'train', 'travel', 'unfortunately', 'want', 'well', 'what', 'within', 'wo', 'word', 'workout', 'would', 'yeah', 'years', 'you']\n",
            "[0.07189780313063401, 0.07189780313063401, 0.07189780313063401, 0.0611197012427883, 0.1069450325080507, 0.07189780313063401, 0.07189780313063401, 0.05347251625402535, 0.07189780313063401, 0.07189780313063401, 0.2444788049711532, 0.0475408987520856, 0.21569340939190204, 0.14379560626126803, 0.04269441436617964, 0.07189780313063401, 0.0611197012427883, 0.07189780313063401, 0.07189780313063401, 0.07189780313063401, 0.0950817975041712, 0.07189780313063401, 0.0611197012427883, 0.07189780313063401, 0.07189780313063401, 0.07189780313063401, 0.07189780313063401, 0.07189780313063401, 0.2444788049711532, 0.07189780313063401, 0.18335910372836492, 0.0611197012427883, 0.0611197012427883, 0.0611197012427883, 0.14379560626126803, 0.0475408987520856, 0.0611197012427883, 0.05347251625402535, 0.05347251625402535, 0.05347251625402535, 0.07189780313063401, 0.0611197012427883, 0.03504722937741668, 0.1069450325080507, 0.07009445875483336, 0.0611197012427883, 0.07189780313063401, 0.05347251625402535, 0.13291035001919907, 0.0611197012427883, 0.07189780313063401, 0.07189780313063401, 0.07189780313063401, 0.07189780313063401, 0.1222394024855766, 0.07189780313063401, 0.07189780313063401, 0.07189780313063401, 0.07189780313063401, 0.05347251625402535, 0.18335910372836492, 0.0611197012427883, 0.0611197012427883, 0.07189780313063401, 0.07189780313063401, 0.05347251625402535, 0.05347251625402535, 0.08538882873235928, 0.07189780313063401, 0.07189780313063401, 0.07189780313063401, 0.07009445875483336, 0.0611197012427883, 0.07189780313063401, 0.0611197012427883, 0.14379560626126803, 0.0611197012427883, 0.0611197012427883, 0.07189780313063401, 0.07189780313063401, 0.04269441436617964, 0.12808324309853894, 0.2988609005632575, 0.0611197012427883, 0.07189780313063401, 0.0611197012427883, 0.07189780313063401, 0.07189780313063401, 0.031916312478333944, 0.07189780313063401, 0.07189780313063401, 0.07189780313063401, 0.14379560626126803, 0.0611197012427883, 0.07189780313063401, 0.08538882873235928, 0.07189780313063401, 0.07189780313063401, 0.0475408987520856, 0.11579031061161589, 0.07189780313063401, 0.1222394024855766, 0.07189780313063401, 0.05347251625402535, 0.03859677020387196, 0.07189780313063401, 0.08538882873235928, 0.07189780313063401, 0.07189780313063401, 0.05347251625402535, 0.05347251625402535, 0.1069450325080507, 0.1222394024855766, 0.05347251625402535, 0.07189780313063401, 0.07189780313063401, 0.14379560626126803, 0.04269441436617964, 0.0475408987520856, 0.05347251625402535, 0.1069450325080507]\n"
          ]
        }
      ]
    },
    {
      "cell_type": "code",
      "source": [
        "sponsor_block = []\n",
        "\n",
        "for i in range(len(podcast_test)):\n",
        "  ws = word_tokenize(podcast_test[i])\n",
        "  for w in ws:\n",
        "    if((\"sponsor\") == w):\n",
        "      sponsor_block.append(podcast_test[i])\n",
        "      if((i+1)<len(podcast_test)): sponsor_block.append(podcast_test[i+1])\n",
        "      if((i+2)<len(podcast_test)): sponsor_block.append(podcast_test[i+2])\n",
        "sponsor_block = \" \".join(sponsor_block)\n",
        "print(sponsor_block)\n"
      ],
      "metadata": {
        "colab": {
          "base_uri": "https://localhost:8080/"
        },
        "id": "OhFaFKE9H4ER",
        "outputId": "45916314-732d-462d-ec4f-f5701ce8688f"
      },
      "execution_count": 108,
      "outputs": [
        {
          "output_type": "stream",
          "name": "stdout",
          "text": [
            "Have now shifted to a majority black community. Now, with, in Rosewood. There was a really close sense of community. Like, everyone seemed to know one another and looked out for one another as well. I mean, rarely did anyone need to leave town like to travel for food or for things? They may need because they had almost everything right there with in Rosewood, in addition to the three churches Schoolhouse and post office Rosewood also had a train station. In which will become important later a general store, and a Sugar Mill. Plus, if you were looking for some fun, they even had a Rosewood baseball team. What I'm getting at is, Rosewood, was overall, just a nice place. So, for over 20 years, the people of rosewood's stayed with in Rosewood and the people of Sumner, the neighboring town. They stayed within Sumner, they coexisted. They had their own Communities going on and they were just doing their own thing, but unfortunately, that peaceful time was about To end because some shit was a bruin, but before we get into, what was a bruin, let's pause for a word from our sponsor. Things are kind of getting back to normal, I guess, right? Yeah, but I swear to you over quarantine. My brain has felt like mush and need some exercise. I mean, it is a muscle, right, you know, any who would best fiends. It feels like my brain. Got a great workout. What's best fiends. You ask? Well, it's the mobile puzzle game that will put A challenge to your Noggin, and it's kind of like you did a workout. But again, for your brain, not only that, best fiends is so fun. You won't want to put it down + best. Fiends has literally thousands of fun, puzzles to solve.  I'm currently on level 50 with like a lot more to go. So, there's really nothing to brag about their. There's literally something new to play every day. And the characters are just so adorable. I want to be best fiends with them. Best means it's constantly putting out updates. So there's always something new. You exciting to explore, whenever I'm feeling a little bored or I have like, you know some time to kill between these Zoom meetings. I just bust out my phone and go straight to best fiends to tackle. Some puzzles. Download the five-star rated puzzle game. Best fiends free today on the app store or Google Play. That's best friends without the our best fiends. Thanks. Best beans for partnering with me on today's episode. Okay. Remember, it's January 1st. 1923 our young couple James. And Fanny Taylor who are white are waking up on the first day of the new year.  And James was like, goodbye Fanny. Like I'm off to work. I love you. Babe. You know and Fanny is like, oh my God. Yeah. Have a good day whenever that's probably what they did. Anyway, so James leaves his wife Fanny home alone because he has to go to work. He works at The Sawmill in Sumner which was about one mile east of Rosewood. Now while James is at work, Milling saws Fanny whose back at home. Rumor had it. Someone had attacked her. Oh, yeah. Oh, yeah, the neighbors heard screams. They heard screams coming from within the Taylor's home and they were like, oh my God, you know, like what's going on screaming? Hmm. So for you and I, we'd probably go and like check it out, right would be like, oh my God, they're screaming. Are you okay, but for Fanny's neighbors, they heard the screams and then they just left it alone. Great. Yeah, awesome. So some time goes by and James comes home from Mark, and when he gets home, he sees that fanny has a big bruise on her face. \n"
          ]
        }
      ]
    },
    {
      "cell_type": "code",
      "source": [
        "sponsor_word = word_tokenize(sponsor_block)\n",
        "print(sponsor_word)\n",
        "keyword_sponsor=[]\n",
        "tfidf_sponsor=[]\n",
        "for i in range(len(sponsor_word)):\n",
        "  if(sponsor_word[i] in keyword_segment and sponsor_word[i] not in keyword_sponsor):\n",
        "    keyword_sponsor.append(sponsor_word[i])\n",
        "    tfidf_sponsor.append(tfidf_segment[keyword_segment.index(sponsor_word[i])])\n",
        "print(len(keyword_sponsor))\n",
        "print(len(tfidf_sponsor))\n",
        "n = len(keyword_sponsor)\n",
        "for i in range(n):\n",
        "  for j in range(0,n-i-1):\n",
        "    \n",
        "    if(tfidf_sponsor[j]>tfidf_sponsor[j+1]):\n",
        "      tfidf_sponsor[j], tfidf_sponsor[j+1] =  tfidf_sponsor[j+1], tfidf_sponsor[j]\n",
        "      keyword_sponsor[j], keyword_sponsor[j+1] =  keyword_sponsor[j+1], keyword_sponsor[j]\n",
        "for i in range(0,n):\n",
        "  print(keyword_sponsor[i],\" \",tfidf_sponsor[i])\n"
      ],
      "metadata": {
        "colab": {
          "base_uri": "https://localhost:8080/"
        },
        "id": "66I018NrLUPb",
        "outputId": "bca679e7-f1a8-48b2-ab24-d8fc008ca9c5"
      },
      "execution_count": 120,
      "outputs": [
        {
          "output_type": "stream",
          "name": "stdout",
          "text": [
            "['Have', 'now', 'shifted', 'to', 'a', 'majority', 'black', 'community', '.', 'Now', ',', 'with', ',', 'in', 'Rosewood', '.', 'There', 'was', 'a', 'really', 'close', 'sense', 'of', 'community', '.', 'Like', ',', 'everyone', 'seemed', 'to', 'know', 'one', 'another', 'and', 'looked', 'out', 'for', 'one', 'another', 'as', 'well', '.', 'I', 'mean', ',', 'rarely', 'did', 'anyone', 'need', 'to', 'leave', 'town', 'like', 'to', 'travel', 'for', 'food', 'or', 'for', 'things', '?', 'They', 'may', 'need', 'because', 'they', 'had', 'almost', 'everything', 'right', 'there', 'with', 'in', 'Rosewood', ',', 'in', 'addition', 'to', 'the', 'three', 'churches', 'Schoolhouse', 'and', 'post', 'office', 'Rosewood', 'also', 'had', 'a', 'train', 'station', '.', 'In', 'which', 'will', 'become', 'important', 'later', 'a', 'general', 'store', ',', 'and', 'a', 'Sugar', 'Mill', '.', 'Plus', ',', 'if', 'you', 'were', 'looking', 'for', 'some', 'fun', ',', 'they', 'even', 'had', 'a', 'Rosewood', 'baseball', 'team', '.', 'What', 'I', \"'m\", 'getting', 'at', 'is', ',', 'Rosewood', ',', 'was', 'overall', ',', 'just', 'a', 'nice', 'place', '.', 'So', ',', 'for', 'over', '20', 'years', ',', 'the', 'people', 'of', 'rosewood', \"'s\", 'stayed', 'with', 'in', 'Rosewood', 'and', 'the', 'people', 'of', 'Sumner', ',', 'the', 'neighboring', 'town', '.', 'They', 'stayed', 'within', 'Sumner', ',', 'they', 'coexisted', '.', 'They', 'had', 'their', 'own', 'Communities', 'going', 'on', 'and', 'they', 'were', 'just', 'doing', 'their', 'own', 'thing', ',', 'but', 'unfortunately', ',', 'that', 'peaceful', 'time', 'was', 'about', 'To', 'end', 'because', 'some', 'shit', 'was', 'a', 'bruin', ',', 'but', 'before', 'we', 'get', 'into', ',', 'what', 'was', 'a', 'bruin', ',', 'let', \"'s\", 'pause', 'for', 'a', 'word', 'from', 'our', 'sponsor', '.', 'Things', 'are', 'kind', 'of', 'getting', 'back', 'to', 'normal', ',', 'I', 'guess', ',', 'right', '?', 'Yeah', ',', 'but', 'I', 'swear', 'to', 'you', 'over', 'quarantine', '.', 'My', 'brain', 'has', 'felt', 'like', 'mush', 'and', 'need', 'some', 'exercise', '.', 'I', 'mean', ',', 'it', 'is', 'a', 'muscle', ',', 'right', ',', 'you', 'know', ',', 'any', 'who', 'would', 'best', 'fiends', '.', 'It', 'feels', 'like', 'my', 'brain', '.', 'Got', 'a', 'great', 'workout', '.', 'What', \"'s\", 'best', 'fiends', '.', 'You', 'ask', '?', 'Well', ',', 'it', \"'s\", 'the', 'mobile', 'puzzle', 'game', 'that', 'will', 'put', 'A', 'challenge', 'to', 'your', 'Noggin', ',', 'and', 'it', \"'s\", 'kind', 'of', 'like', 'you', 'did', 'a', 'workout', '.', 'But', 'again', ',', 'for', 'your', 'brain', ',', 'not', 'only', 'that', ',', 'best', 'fiends', 'is', 'so', 'fun', '.', 'You', 'wo', \"n't\", 'want', 'to', 'put', 'it', 'down', '+', 'best', '.', 'Fiends', 'has', 'literally', 'thousands', 'of', 'fun', ',', 'puzzles', 'to', 'solve', '.', 'I', \"'m\", 'currently', 'on', 'level', '50', 'with', 'like', 'a', 'lot', 'more', 'to', 'go', '.', 'So', ',', 'there', \"'s\", 'really', 'nothing', 'to', 'brag', 'about', 'their', '.', 'There', \"'s\", 'literally', 'something', 'new', 'to', 'play', 'every', 'day', '.', 'And', 'the', 'characters', 'are', 'just', 'so', 'adorable', '.', 'I', 'want', 'to', 'be', 'best', 'fiends', 'with', 'them', '.', 'Best', 'means', 'it', \"'s\", 'constantly', 'putting', 'out', 'updates', '.', 'So', 'there', \"'s\", 'always', 'something', 'new', '.', 'You', 'exciting', 'to', 'explore', ',', 'whenever', 'I', \"'m\", 'feeling', 'a', 'little', 'bored', 'or', 'I', 'have', 'like', ',', 'you', 'know', 'some', 'time', 'to', 'kill', 'between', 'these', 'Zoom', 'meetings', '.', 'I', 'just', 'bust', 'out', 'my', 'phone', 'and', 'go', 'straight', 'to', 'best', 'fiends', 'to', 'tackle', '.', 'Some', 'puzzles', '.', 'Download', 'the', 'five-star', 'rated', 'puzzle', 'game', '.', 'Best', 'fiends', 'free', 'today', 'on', 'the', 'app', 'store', 'or', 'Google', 'Play', '.', 'That', \"'s\", 'best', 'friends', 'without', 'the', 'our', 'best', 'fiends', '.', 'Thanks', '.', 'Best', 'beans', 'for', 'partnering', 'with', 'me', 'on', 'today', \"'s\", 'episode', '.', 'Okay', '.', 'Remember', ',', 'it', \"'s\", 'January', '1st', '.', '1923', 'our', 'young', 'couple', 'James', '.', 'And', 'Fanny', 'Taylor', 'who', 'are', 'white', 'are', 'waking', 'up', 'on', 'the', 'first', 'day', 'of', 'the', 'new', 'year', '.', 'And', 'James', 'was', 'like', ',', 'goodbye', 'Fanny', '.', 'Like', 'I', \"'m\", 'off', 'to', 'work', '.', 'I', 'love', 'you', '.', 'Babe', '.', 'You', 'know', 'and', 'Fanny', 'is', 'like', ',', 'oh', 'my', 'God', '.', 'Yeah', '.', 'Have', 'a', 'good', 'day', 'whenever', 'that', \"'s\", 'probably', 'what', 'they', 'did', '.', 'Anyway', ',', 'so', 'James', 'leaves', 'his', 'wife', 'Fanny', 'home', 'alone', 'because', 'he', 'has', 'to', 'go', 'to', 'work', '.', 'He', 'works', 'at', 'The', 'Sawmill', 'in', 'Sumner', 'which', 'was', 'about', 'one', 'mile', 'east', 'of', 'Rosewood', '.', 'Now', 'while', 'James', 'is', 'at', 'work', ',', 'Milling', 'saws', 'Fanny', 'whose', 'back', 'at', 'home', '.', 'Rumor', 'had', 'it', '.', 'Someone', 'had', 'attacked', 'her', '.', 'Oh', ',', 'yeah', '.', 'Oh', ',', 'yeah', ',', 'the', 'neighbors', 'heard', 'screams', '.', 'They', 'heard', 'screams', 'coming', 'from', 'within', 'the', 'Taylor', \"'s\", 'home', 'and', 'they', 'were', 'like', ',', 'oh', 'my', 'God', ',', 'you', 'know', ',', 'like', 'what', \"'s\", 'going', 'on', 'screaming', '?', 'Hmm', '.', 'So', 'for', 'you', 'and', 'I', ',', 'we', \"'d\", 'probably', 'go', 'and', 'like', 'check', 'it', 'out', ',', 'right', 'would', 'be', 'like', ',', 'oh', 'my', 'God', ',', 'they', \"'re\", 'screaming', '.', 'Are', 'you', 'okay', ',', 'but', 'for', 'Fanny', \"'s\", 'neighbors', ',', 'they', 'heard', 'the', 'screams', 'and', 'then', 'they', 'just', 'left', 'it', 'alone', '.', 'Great', '.', 'Yeah', ',', 'awesome', '.', 'So', 'some', 'time', 'goes', 'by', 'and', 'James', 'comes', 'home', 'from', 'Mark', ',', 'and', 'when', 'he', 'gets', 'home', ',', 'he', 'sees', 'that', 'fanny', 'has', 'a', 'big', 'bruise', 'on', 'her', 'face', '.']\n",
            "113\n",
            "113\n",
            "seemed   0.031916312478333944\n",
            "guess   0.03504722937741668\n",
            "thousands   0.03859677020387196\n",
            "within   0.04269441436617964\n",
            "best   0.04269441436617964\n",
            "puzzles   0.04269441436617964\n",
            "baseball   0.0475408987520856\n",
            "word   0.0475408987520856\n",
            "game   0.0475408987520856\n",
            "another   0.05347251625402535\n",
            "travel   0.05347251625402535\n",
            "they   0.05347251625402535\n",
            "train   0.05347251625402535\n",
            "later   0.05347251625402535\n",
            "getting   0.05347251625402535\n",
            "nice   0.05347251625402535\n",
            "unfortunately   0.05347251625402535\n",
            "get   0.05347251625402535\n",
            "normal   0.05347251625402535\n",
            "muscle   0.05347251625402535\n",
            "workout   0.05347251625402535\n",
            "have   0.05347251625402535\n",
            "rarely   0.0611197012427883\n",
            "need   0.0611197012427883\n",
            "leave   0.0611197012427883\n",
            "food   0.0611197012427883\n",
            "right   0.0611197012427883\n",
            "post   0.0611197012427883\n",
            "also   0.0611197012427883\n",
            "station   0.0611197012427883\n",
            "general   0.0611197012427883\n",
            "overall   0.0611197012427883\n",
            "coexisted   0.0611197012427883\n",
            "peaceful   0.0611197012427883\n",
            "brain   0.0611197012427883\n",
            "felt   0.0611197012427883\n",
            "it   0.0611197012427883\n",
            "fiends   0.0611197012427883\n",
            "my   0.0611197012427883\n",
            "great   0.0611197012427883\n",
            "put   0.0611197012427883\n",
            "important   0.07009445875483336\n",
            "pause   0.07009445875483336\n",
            "now   0.07189780313063401\n",
            "shifted   0.07189780313063401\n",
            "majority   0.07189780313063401\n",
            "black   0.07189780313063401\n",
            "community   0.07189780313063401\n",
            "really   0.07189780313063401\n",
            "close   0.07189780313063401\n",
            "everyone   0.07189780313063401\n",
            "well   0.07189780313063401\n",
            "mean   0.07189780313063401\n",
            "anyone   0.07189780313063401\n",
            "town   0.07189780313063401\n",
            "like   0.07189780313063401\n",
            "almost   0.07189780313063401\n",
            "everything   0.07189780313063401\n",
            "there   0.07189780313063401\n",
            "addition   0.07189780313063401\n",
            "three   0.07189780313063401\n",
            "office   0.07189780313063401\n",
            "become   0.07189780313063401\n",
            "store   0.07189780313063401\n",
            "looking   0.07189780313063401\n",
            "even   0.07189780313063401\n",
            "20   0.07189780313063401\n",
            "people   0.07189780313063401\n",
            "rosewood   0.07189780313063401\n",
            "neighboring   0.07189780313063401\n",
            "but   0.07189780313063401\n",
            "time   0.07189780313063401\n",
            "end   0.07189780313063401\n",
            "shit   0.07189780313063401\n",
            "bruin   0.07189780313063401\n",
            "what   0.07189780313063401\n",
            "let   0.07189780313063401\n",
            "sponsor   0.07189780313063401\n",
            "kind   0.07189780313063401\n",
            "back   0.07189780313063401\n",
            "swear   0.07189780313063401\n",
            "quarantine   0.07189780313063401\n",
            "mush   0.07189780313063401\n",
            "exercise   0.07189780313063401\n",
            "ask   0.07189780313063401\n",
            "mobile   0.07189780313063401\n",
            "puzzle   0.07189780313063401\n",
            "challenge   0.07189780313063401\n",
            "so   0.07189780313063401\n",
            "literally   0.07189780313063401\n",
            "to   0.08538882873235928\n",
            "one   0.08538882873235928\n",
            "things   0.08538882873235928\n",
            "churches   0.0950817975041712\n",
            "in   0.1069450325080507\n",
            "would   0.1069450325080507\n",
            "wo   0.1069450325080507\n",
            "thing   0.11579031061161589\n",
            "looked   0.1222394024855766\n",
            "team   0.1222394024855766\n",
            "want   0.1222394024855766\n",
            "sense   0.12808324309853894\n",
            "may   0.13291035001919907\n",
            "know   0.14379560626126803\n",
            "fun   0.14379560626126803\n",
            "place   0.14379560626126803\n",
            "solve   0.14379560626126803\n",
            "yeah   0.14379560626126803\n",
            "stayed   0.18335910372836492\n",
            "feels   0.18335910372836492\n",
            "going   0.21569340939190204\n",
            "years   0.2444788049711532\n",
            "you   0.2988609005632575\n"
          ]
        }
      ]
    }
  ]
}
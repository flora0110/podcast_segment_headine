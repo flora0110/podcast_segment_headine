{
  "nbformat": 4,
  "nbformat_minor": 0,
  "metadata": {
    "colab": {
      "name": "sponsor_keyword.ipynb",
      "provenance": [],
      "collapsed_sections": [
        "iTa3NcQ46GLG",
        "ZyeZ6a976Qts",
        "XBLhS9AL7a0d",
        "zDjJtTiq_Kdu"
      ],
      "include_colab_link": true
    },
    "kernelspec": {
      "name": "python3",
      "display_name": "Python 3"
    },
    "language_info": {
      "name": "python"
    }
  },
  "cells": [
    {
      "cell_type": "markdown",
      "metadata": {
        "id": "view-in-github",
        "colab_type": "text"
      },
      "source": [
        "<a href=\"https://colab.research.google.com/github/flora0110/podcast_segment_headine/blob/main/sponsor_keyword.ipynb\" target=\"_parent\"><img src=\"https://colab.research.google.com/assets/colab-badge.svg\" alt=\"Open In Colab\"/></a>"
      ]
    },
    {
      "cell_type": "markdown",
      "source": [
        "#### input"
      ],
      "metadata": {
        "id": "iTa3NcQ46GLG"
      }
    },
    {
      "cell_type": "code",
      "execution_count": 1,
      "metadata": {
        "id": "Su85dCvzh1iu"
      },
      "outputs": [],
      "source": [
        "segmented_text = [['Hi friends. ', \"Happy Wednesday or Thursday if you're watching over on YouTube. \", 'Hey, how are you doing? ', \"I hope you're having a wonderful day so far. \", 'My name is Bailey serían and this is the dark History Podcast. ', 'Whew, I need a theme song for dark history. ', \"Don't, I'm any. \", \"who, I'm here to talk about some dark ass history that we never learned in school or I should, at least say that. \", 'I never learned in school. ', \"If you're new here. \", 'Hi, welcome. ', 'Come. ', 'Take a seat by me. ', \"Don't be shy if you're And learning about people and events that your history books didn't cover in school. \", \"The maybe should have then you'll fit in right in here with us. \", 'Okay. ', \"Look today's story. \", \"It's uncomfortable. \", \"Okay, it's heartbreaking. \", \"It's just, it's set. \", \"It's awful. \", \"It's sad. \", \"There's, those are all the words. \", \"I can think of it, just doesn't make any sense. \", \"But with all of that being said, there's really like no sugarcoating this. \", 'This is what happened. ', \"And it's when more honest and when we're transparent that we can learn and grow together, you know, but most of all not let history repeat itself. \", \"So let's set the scene. \", \"It's New Years Day 1923 and many people are waking up from celebrating the New Year. \", 'Some of them are still wearing a flapper dress or a suit tired from dancing. ', \"The night away in a jazz club, or maybe they're hung over from buying illegal drinks at a speakeasy. \", 'Yes. ', 'Oh, yes. ', 'It was still illegal to buy alcohol wild, right? ', 'Of course, though. ', 'That was more of like the upscale City Vibe. ', 'If you were in the country had little less. ', 'Pocket change to spend or were to straightedge to visit, like those kind of illegal joints. ', 'Then you probably had a quieter evening of staying at home and ringing in the new year with with your loved ones, you know, now 1923 in general President Warren G, Harding would die in office, the Yankee Stadium would be built in the Bronx and the original Hollywood sign would be built. ', 'Oh, yeah, Hollywood was originally called Hollywood land, but we could say that for another episode, babe. '], ['Before all of that, on the morning of January, first, nineteen, twenty three thirty year old James and his 22-year old wife, Fanny, Taylor woke up at a home and a town called Sumner, a neighboring community of Rosewood, Florida, that morning. ', 'James Taylor goes to work like he did any other day. ', 'But while James was at work, something happens to his wife Fanny. ', 'That boy, it just triggers a domino effect, a horrific domino effect. ', 'It leads to the Murders of innocent people, the destruction of a town and the displacement of an entire Community changing Rosewood forever who just sounds traumatic. '], ['I know because it is, welcome. ', 'Hi. ', 'This episode friends were going to be talking about the Rosewood Massacre. ', 'Have you heard of it? ', 'Yeah, exactly. ', 'Exactly. ', \"I didn't this one, just it completely blew. \", 'My mind is like why in the Waldo? ', 'Did we not learned about this in school? ', 'Correction? ', 'I can only speak for myself here. ', 'So, why in the Waldo did my history books? ', 'Not teach this Rosewood Massacre? ', 'Yeah. ', 'It happened. ', \"Let's discuss and learn together. \", 'What took place in 1923, Rosewood, Florida. ', 'Buckling, kitty cats. ', 'This is just what? ', \"Yeah, I'm great with words. \", 'Obviously. ', \"That's why I started a podcast. \", 'The beginning, great place. ', 'Start the town of Rosewood was established in the mid eighteen. ', 'Hundreds white families, had moved here prior to the Civil War and black landowner started to move in in the 1870s. ', \"It's located in the State of Florida and it's just nine miles east of the Gulf of Mexico. \", 'The name Rosewood. ', 'It came from the red cedar trees that were all over the land there. ', 'Fun fact, alert Boo. ', 'Boo. ', ' ', 'Did you know that when you cut open a red cedar tree, the cedar has a pale pink color inside? ', \"Yeah, I guess it's like super pretty. \", 'Super beautiful. ', 'But did you also know that if you cut me open? ', \"I've got a little pink inside a LOL. \", 'Anyways, so they called the town Rosewood after the pink color. ', 'Okay. ', 'Nice, right. ', \"Well, as we've learned through history, we can't have nice things. \", 'So when people saw the really pretty color that was inside of these beautiful incredible trees. ', 'What do you think? ', 'They did? ', 'Yes, they cut them all down. ', 'They cut them down and they sold the A now because of this they made a pretty decent amount of money and it supported the economy of the town but still, you know sad for the trees by the year 1886 the town had developed quite a bit. ', 'It had its own post office, a Schoolhouse and they were three churches one for the white people into for the black people. ', \"Remember, we're talking about a time that's very much a segregated America. \", 'So four years later in 1890 the town began to hit some hard times. ', 'All the red cedar trees had been chopped down and without the trees. ', \"There's no money to be made which in turn leads to the town's economic decline because of the loss of income and not many available jobs, many members of the white Community left, Rosewood, and headed to the nearby town of Sumner Sumner was appealing because there was a large Sawmill which provided tons of jobs and right now the people needed work, so, sign me up for Sumner, you know, so by the 1900. \", 'The Rosewood population. '], ['Have now shifted to a majority black community. ', 'Now, with, in Rosewood. ', 'There was a really close sense of community. ', 'Like, everyone seemed to know one another and looked out for one another as well. ', 'I mean, rarely did anyone need to leave town like to travel for food or for things? ', 'They may need because they had almost everything right there with in Rosewood, in addition to the three churches Schoolhouse and post office Rosewood also had a train station. ', 'In which will become important later a general store, and a Sugar Mill. ', 'Plus, if you were looking for some fun, they even had a Rosewood baseball team. ', \"What I'm getting at is, Rosewood, was overall, just a nice place. \", \"So, for over 20 years, the people of rosewood's stayed with in Rosewood and the people of Sumner, the neighboring town. \", 'They stayed within Sumner, they coexisted. ', \"They had their own Communities going on and they were just doing their own thing, but unfortunately, that peaceful time was about To end because some shit was a bruin, but before we get into, what was a bruin, let's pause for a word from our sponsor. \", 'Things are kind of getting back to normal, I guess, right? ', 'Yeah, but I swear to you over quarantine. ', 'My brain has felt like mush and need some exercise. ', 'I mean, it is a muscle, right, you know, any who would best fiends. ', 'It feels like my brain. ', 'Got a great workout. ', \"What's best fiends. \", 'You ask? ', \"Well, it's the mobile puzzle game that will put A challenge to your Noggin, and it's kind of like you did a workout. \", 'But again, for your brain, not only that, best fiends is so fun. ', \"You won't want to put it down + best. \", 'Fiends has literally thousands of fun, puzzles to solve. '], [\"I'm currently on level 50 with like a lot more to go. \", \"So, there's really nothing to brag about their. \", \"There's literally something new to play every day. \", 'And the characters are just so adorable. ', 'I want to be best fiends with them. ', \"Best means it's constantly putting out updates. \", \"So there's always something new. \", \"You exciting to explore, whenever I'm feeling a little bored or I have like, you know some time to kill between these Zoom meetings. \", 'I just bust out my phone and go straight to best fiends to tackle. ', 'Some puzzles. ', 'Download the five-star rated puzzle game. ', 'Best fiends free today on the app store or Google Play. ', \"That's best friends without the our best fiends. \", 'Thanks. ', \"Best beans for partnering with me on today's episode. \", 'Okay. ', \"Remember, it's January 1st. \", '1923 our young couple James. ', 'And Fanny Taylor who are white are waking up on the first day of the new year. '], ['And James was like, goodbye Fanny. ', \"Like I'm off to work. \", 'I love you. ', 'Babe. ', 'You know and Fanny is like, oh my God. ', 'Yeah. ', \"Have a good day whenever that's probably what they did. \", 'Anyway, so James leaves his wife Fanny home alone because he has to go to work. ', 'He works at The Sawmill in Sumner which was about one mile east of Rosewood. ', 'Now while James is at work, Milling saws Fanny whose back at home. ', 'Rumor had it. ', 'Someone had attacked her. ', 'Oh, yeah. ', 'Oh, yeah, the neighbors heard screams. ', \"They heard screams coming from within the Taylor's home and they were like, oh my God, you know, like what's going on screaming? \", 'Hmm. ', \"So for you and I, we'd probably go and like check it out, right would be like, oh my God, they're screaming. \", \"Are you okay, but for Fanny's neighbors, they heard the screams and then they just left it alone. \", 'Great. ', 'Yeah, awesome. ', 'So some time goes by and James comes home from Mark, and when he gets home, he sees that fanny has a big bruise on her face. '], [\"It's clear that somebody had hit her pretty badly. \", 'So he asked her, you know, who did this to you and Fanny tells him that a black man assaulted her. ', \"She's like, I don't know who it was, but it was definitely a black man. \", 'According to Fanny. ', 'Hmm. ', 'I mean, this could be possible. ', 'This guy came in randomly, beat her, I guess in her own house, but remember, Like this is a small town. ', 'In fact, both Sumner and Rosewood were so small that most people recognize one another. ', 'So Are you sure we honey? ', \"Are you sure that's what you saw Fanny? \", 'The fact that Fanny like, could not name the person who attacked her. ', 'That should have been the first red flag. ', 'Okay. ', 'That maybe this person that quote unquote attacked her. ', 'That should have been the first red flag. ', 'Okay. ', 'That maybe this person that quote unquote attacked her was not a resident from Rosewood. ', \"I'm telling you, I'm not kidding you. \", 'If you lived in Rosewood, you would know your neighbors everybody knew each other. ', 'But Fanny would most likely know this person because again, the likelihood of her not knowing is presumptive, not? ', 'So sure Fanny sure. ', \"Again, because it's a 1920s. \", 'Unfortunately, this is a time when a white woman made, bold claims of being attacked by a black person. '], ['Nobody questioned it. ', 'They just believed it to be true. ', \"So they didn't question Fanny story for one second. \", 'Like, oh my God. ', 'She was beaten by a block man. ', \"Like we are so angry and nobody wanted to like double check and make sure she what you she wasn't lying. \", 'They just went with it. ', 'People are talking with in Rose Water. ', \"Okay, and this story about Fanny gets back to a woman by the name of Sarah carrier and she's like, wait a minute. \", 'Wait a minute. '], [' ', ' ', \"That's not true. \", \"Sarah said that she was at the Taylor's Home, the morning of that so-called attack, and not just that, but her granddaughter was there with her and neither of them saw black man, attack Fanny. \", 'Alone. ', 'Even enter their house. ', \"Well, you're probably wondering really Who the hell's Sarah? \", 'Okay. ', \"Well Sarah, she had been working for the Tailor's for quite some time. \", \"She was there that day with her granddaughter doing the Taylor's laundry. \", 'Now, Sarah said that she actually saw a white man leaving the Taylor house that morning. ', 'She said, she never saw a black man. ', 'Come by the house all day. ', 'Now, get this. ', 'Get this. ', 'Sarah recognize this white man. ', 'She had seen him come by the house once or twice before. ', 'Hmm. ', 'Sarah had believed that this man and Fanny were having some kind of Winky dinky. ', \"If you're not on me. \", \"Sarah said that this man was actually the guy that beat Fanny that morning and that she was just lying to cover her ass because she's probably having an affair. \", \"And she doesn't want people to know Fanny. \", \"So Sarah's version is now going around town. \", \"It's spreading like wildfire within the black community. \", 'They all 100% believed her. ', 'Why would she lie? ', 'Whoa, why would she lie, unfortunately, though the white voices were louder within the community and made it very clear. ', 'That Fanny was quote. ', 'Not a liar. ', 'She was telling the truth, okay. ', 'I freaking roll, right? '], [\"It gets a lot more traumatic talking amongst the accusers and name comes up, Jesse Hunter, and they think they're disgusting. \", \"They're like, hey, Jesse Hunter. \", 'This is our guy. ', 'This is the guy who did it.\\n']]"
      ]
    },
    {
      "cell_type": "markdown",
      "source": [
        "# 引入"
      ],
      "metadata": {
        "id": "HpmyFAhc6eX8"
      }
    },
    {
      "cell_type": "code",
      "source": [
        "!pip install -U scikit-learn"
      ],
      "metadata": {
        "colab": {
          "base_uri": "https://localhost:8080/"
        },
        "id": "E7ShNAHWoDcm",
        "outputId": "e6d4d4ac-2f3f-4181-9b21-a3d6494be95f"
      },
      "execution_count": 2,
      "outputs": [
        {
          "output_type": "stream",
          "name": "stdout",
          "text": [
            "Requirement already satisfied: scikit-learn in /usr/local/lib/python3.7/dist-packages (1.0.2)\n",
            "Requirement already satisfied: threadpoolctl>=2.0.0 in /usr/local/lib/python3.7/dist-packages (from scikit-learn) (3.1.0)\n",
            "Requirement already satisfied: numpy>=1.14.6 in /usr/local/lib/python3.7/dist-packages (from scikit-learn) (1.21.5)\n",
            "Requirement already satisfied: joblib>=0.11 in /usr/local/lib/python3.7/dist-packages (from scikit-learn) (1.1.0)\n",
            "Requirement already satisfied: scipy>=1.1.0 in /usr/local/lib/python3.7/dist-packages (from scikit-learn) (1.4.1)\n"
          ]
        }
      ]
    },
    {
      "cell_type": "code",
      "source": [
        "from sklearn.feature_extraction.text import CountVectorizer\n",
        "from sklearn.feature_extraction.text import TfidfTransformer"
      ],
      "metadata": {
        "id": "-J1upFUM5PVF"
      },
      "execution_count": 3,
      "outputs": []
    },
    {
      "cell_type": "markdown",
      "source": [
        "# 處理輸入"
      ],
      "metadata": {
        "id": "8NXN7BWz4901"
      }
    },
    {
      "cell_type": "code",
      "source": [
        "# 將每個段落內的句子合起來變成string\n",
        "podcast_test = [\"\"]*len(segmented_text)\n",
        "for i in range(len(segmented_text)):\n",
        "  for j in range(len(segmented_text[i])):\n",
        "    podcast_test[i]+=segmented_text[i][j]\n",
        "  "
      ],
      "metadata": {
        "id": "ggWot9k3kEBG"
      },
      "execution_count": 4,
      "outputs": []
    },
    {
      "cell_type": "markdown",
      "source": [
        "#### 輸出"
      ],
      "metadata": {
        "id": "ZyeZ6a976Qts"
      }
    },
    {
      "cell_type": "code",
      "source": [
        "for podcast_test_single in podcast_test:\n",
        "  print(podcast_test_single)"
      ],
      "metadata": {
        "colab": {
          "base_uri": "https://localhost:8080/"
        },
        "id": "OE3-7j1fmjm_",
        "outputId": "411bc4da-a36b-4ed8-bb64-81a0a79f6d15"
      },
      "execution_count": 5,
      "outputs": [
        {
          "output_type": "stream",
          "name": "stdout",
          "text": [
            "Hi friends. Happy Wednesday or Thursday if you're watching over on YouTube. Hey, how are you doing? I hope you're having a wonderful day so far. My name is Bailey serían and this is the dark History Podcast. Whew, I need a theme song for dark history. Don't, I'm any. who, I'm here to talk about some dark ass history that we never learned in school or I should, at least say that. I never learned in school. If you're new here. Hi, welcome. Come. Take a seat by me. Don't be shy if you're And learning about people and events that your history books didn't cover in school. The maybe should have then you'll fit in right in here with us. Okay. Look today's story. It's uncomfortable. Okay, it's heartbreaking. It's just, it's set. It's awful. It's sad. There's, those are all the words. I can think of it, just doesn't make any sense. But with all of that being said, there's really like no sugarcoating this. This is what happened. And it's when more honest and when we're transparent that we can learn and grow together, you know, but most of all not let history repeat itself. So let's set the scene. It's New Years Day 1923 and many people are waking up from celebrating the New Year. Some of them are still wearing a flapper dress or a suit tired from dancing. The night away in a jazz club, or maybe they're hung over from buying illegal drinks at a speakeasy. Yes. Oh, yes. It was still illegal to buy alcohol wild, right? Of course, though. That was more of like the upscale City Vibe. If you were in the country had little less. Pocket change to spend or were to straightedge to visit, like those kind of illegal joints. Then you probably had a quieter evening of staying at home and ringing in the new year with with your loved ones, you know, now 1923 in general President Warren G, Harding would die in office, the Yankee Stadium would be built in the Bronx and the original Hollywood sign would be built. Oh, yeah, Hollywood was originally called Hollywood land, but we could say that for another episode, babe. \n",
            "Before all of that, on the morning of January, first, nineteen, twenty three thirty year old James and his 22-year old wife, Fanny, Taylor woke up at a home and a town called Sumner, a neighboring community of Rosewood, Florida, that morning. James Taylor goes to work like he did any other day. But while James was at work, something happens to his wife Fanny. That boy, it just triggers a domino effect, a horrific domino effect. It leads to the Murders of innocent people, the destruction of a town and the displacement of an entire Community changing Rosewood forever who just sounds traumatic. \n",
            "I know because it is, welcome. Hi. This episode friends were going to be talking about the Rosewood Massacre. Have you heard of it? Yeah, exactly. Exactly. I didn't this one, just it completely blew. My mind is like why in the Waldo? Did we not learned about this in school? Correction? I can only speak for myself here. So, why in the Waldo did my history books? Not teach this Rosewood Massacre? Yeah. It happened. Let's discuss and learn together. What took place in 1923, Rosewood, Florida. Buckling, kitty cats. This is just what? Yeah, I'm great with words. Obviously. That's why I started a podcast. The beginning, great place. Start the town of Rosewood was established in the mid eighteen. Hundreds white families, had moved here prior to the Civil War and black landowner started to move in in the 1870s. It's located in the State of Florida and it's just nine miles east of the Gulf of Mexico. The name Rosewood. It came from the red cedar trees that were all over the land there. Fun fact, alert Boo. Boo.  Did you know that when you cut open a red cedar tree, the cedar has a pale pink color inside? Yeah, I guess it's like super pretty. Super beautiful. But did you also know that if you cut me open? I've got a little pink inside a LOL. Anyways, so they called the town Rosewood after the pink color. Okay. Nice, right. Well, as we've learned through history, we can't have nice things. So when people saw the really pretty color that was inside of these beautiful incredible trees. What do you think? They did? Yes, they cut them all down. They cut them down and they sold the A now because of this they made a pretty decent amount of money and it supported the economy of the town but still, you know sad for the trees by the year 1886 the town had developed quite a bit. It had its own post office, a Schoolhouse and they were three churches one for the white people into for the black people. Remember, we're talking about a time that's very much a segregated America. So four years later in 1890 the town began to hit some hard times. All the red cedar trees had been chopped down and without the trees. There's no money to be made which in turn leads to the town's economic decline because of the loss of income and not many available jobs, many members of the white Community left, Rosewood, and headed to the nearby town of Sumner Sumner was appealing because there was a large Sawmill which provided tons of jobs and right now the people needed work, so, sign me up for Sumner, you know, so by the 1900. The Rosewood population. \n",
            "Have now shifted to a majority black community. Now, with, in Rosewood. There was a really close sense of community. Like, everyone seemed to know one another and looked out for one another as well. I mean, rarely did anyone need to leave town like to travel for food or for things? They may need because they had almost everything right there with in Rosewood, in addition to the three churches Schoolhouse and post office Rosewood also had a train station. In which will become important later a general store, and a Sugar Mill. Plus, if you were looking for some fun, they even had a Rosewood baseball team. What I'm getting at is, Rosewood, was overall, just a nice place. So, for over 20 years, the people of rosewood's stayed with in Rosewood and the people of Sumner, the neighboring town. They stayed within Sumner, they coexisted. They had their own Communities going on and they were just doing their own thing, but unfortunately, that peaceful time was about To end because some shit was a bruin, but before we get into, what was a bruin, let's pause for a word from our sponsor. Things are kind of getting back to normal, I guess, right? Yeah, but I swear to you over quarantine. My brain has felt like mush and need some exercise. I mean, it is a muscle, right, you know, any who would best fiends. It feels like my brain. Got a great workout. What's best fiends. You ask? Well, it's the mobile puzzle game that will put A challenge to your Noggin, and it's kind of like you did a workout. But again, for your brain, not only that, best fiends is so fun. You won't want to put it down + best. Fiends has literally thousands of fun, puzzles to solve. \n",
            "I'm currently on level 50 with like a lot more to go. So, there's really nothing to brag about their. There's literally something new to play every day. And the characters are just so adorable. I want to be best fiends with them. Best means it's constantly putting out updates. So there's always something new. You exciting to explore, whenever I'm feeling a little bored or I have like, you know some time to kill between these Zoom meetings. I just bust out my phone and go straight to best fiends to tackle. Some puzzles. Download the five-star rated puzzle game. Best fiends free today on the app store or Google Play. That's best friends without the our best fiends. Thanks. Best beans for partnering with me on today's episode. Okay. Remember, it's January 1st. 1923 our young couple James. And Fanny Taylor who are white are waking up on the first day of the new year. \n",
            "And James was like, goodbye Fanny. Like I'm off to work. I love you. Babe. You know and Fanny is like, oh my God. Yeah. Have a good day whenever that's probably what they did. Anyway, so James leaves his wife Fanny home alone because he has to go to work. He works at The Sawmill in Sumner which was about one mile east of Rosewood. Now while James is at work, Milling saws Fanny whose back at home. Rumor had it. Someone had attacked her. Oh, yeah. Oh, yeah, the neighbors heard screams. They heard screams coming from within the Taylor's home and they were like, oh my God, you know, like what's going on screaming? Hmm. So for you and I, we'd probably go and like check it out, right would be like, oh my God, they're screaming. Are you okay, but for Fanny's neighbors, they heard the screams and then they just left it alone. Great. Yeah, awesome. So some time goes by and James comes home from Mark, and when he gets home, he sees that fanny has a big bruise on her face. \n",
            "It's clear that somebody had hit her pretty badly. So he asked her, you know, who did this to you and Fanny tells him that a black man assaulted her. She's like, I don't know who it was, but it was definitely a black man. According to Fanny. Hmm. I mean, this could be possible. This guy came in randomly, beat her, I guess in her own house, but remember, Like this is a small town. In fact, both Sumner and Rosewood were so small that most people recognize one another. So Are you sure we honey? Are you sure that's what you saw Fanny? The fact that Fanny like, could not name the person who attacked her. That should have been the first red flag. Okay. That maybe this person that quote unquote attacked her. That should have been the first red flag. Okay. That maybe this person that quote unquote attacked her was not a resident from Rosewood. I'm telling you, I'm not kidding you. If you lived in Rosewood, you would know your neighbors everybody knew each other. But Fanny would most likely know this person because again, the likelihood of her not knowing is presumptive, not? So sure Fanny sure. Again, because it's a 1920s. Unfortunately, this is a time when a white woman made, bold claims of being attacked by a black person. \n",
            "Nobody questioned it. They just believed it to be true. So they didn't question Fanny story for one second. Like, oh my God. She was beaten by a block man. Like we are so angry and nobody wanted to like double check and make sure she what you she wasn't lying. They just went with it. People are talking with in Rose Water. Okay, and this story about Fanny gets back to a woman by the name of Sarah carrier and she's like, wait a minute. Wait a minute. \n",
            "  That's not true. Sarah said that she was at the Taylor's Home, the morning of that so-called attack, and not just that, but her granddaughter was there with her and neither of them saw black man, attack Fanny. Alone. Even enter their house. Well, you're probably wondering really Who the hell's Sarah? Okay. Well Sarah, she had been working for the Tailor's for quite some time. She was there that day with her granddaughter doing the Taylor's laundry. Now, Sarah said that she actually saw a white man leaving the Taylor house that morning. She said, she never saw a black man. Come by the house all day. Now, get this. Get this. Sarah recognize this white man. She had seen him come by the house once or twice before. Hmm. Sarah had believed that this man and Fanny were having some kind of Winky dinky. If you're not on me. Sarah said that this man was actually the guy that beat Fanny that morning and that she was just lying to cover her ass because she's probably having an affair. And she doesn't want people to know Fanny. So Sarah's version is now going around town. It's spreading like wildfire within the black community. They all 100% believed her. Why would she lie? Whoa, why would she lie, unfortunately, though the white voices were louder within the community and made it very clear. That Fanny was quote. Not a liar. She was telling the truth, okay. I freaking roll, right? \n",
            "It gets a lot more traumatic talking amongst the accusers and name comes up, Jesse Hunter, and they think they're disgusting. They're like, hey, Jesse Hunter. This is our guy. This is the guy who did it.\n",
            "\n"
          ]
        }
      ]
    },
    {
      "cell_type": "markdown",
      "source": [
        "# 統計數字"
      ],
      "metadata": {
        "id": "Uyonf5GX5W70"
      }
    },
    {
      "cell_type": "code",
      "source": [
        "vectorizer = CountVectorizer(min_df=1)"
      ],
      "metadata": {
        "id": "EsBAim5Um6A4"
      },
      "execution_count": 6,
      "outputs": []
    },
    {
      "cell_type": "code",
      "source": [
        "corpus = [\"\"]*len(podcast_test)\n",
        "for i in range(len(podcast_test)):\n",
        "  corpus[i] = podcast_test[i]"
      ],
      "metadata": {
        "id": "MhrctVY0oB_X"
      },
      "execution_count": 7,
      "outputs": []
    },
    {
      "cell_type": "code",
      "source": [
        "X = vectorizer.fit_transform(corpus)\n",
        "feature_name = vectorizer.get_feature_names()"
      ],
      "metadata": {
        "colab": {
          "base_uri": "https://localhost:8080/"
        },
        "id": "Pvgh0uLJqHbg",
        "outputId": "d004c3b8-eab3-4e47-a213-7df265700d6b"
      },
      "execution_count": 8,
      "outputs": [
        {
          "output_type": "stream",
          "name": "stderr",
          "text": [
            "/usr/local/lib/python3.7/dist-packages/sklearn/utils/deprecation.py:87: FutureWarning: Function get_feature_names is deprecated; get_feature_names is deprecated in 1.0 and will be removed in 1.2. Please use get_feature_names_out instead.\n",
            "  warnings.warn(msg, category=FutureWarning)\n"
          ]
        }
      ]
    },
    {
      "cell_type": "markdown",
      "source": [
        "### 輸出"
      ],
      "metadata": {
        "id": "dUKRm7y45sdc"
      }
    },
    {
      "cell_type": "code",
      "source": [
        "print(X)"
      ],
      "metadata": {
        "colab": {
          "base_uri": "https://localhost:8080/"
        },
        "id": "e0Y1rClP5kfb",
        "outputId": "b0b68a7f-5bf8-4f75-db3b-d7178e9e3f57"
      },
      "execution_count": 9,
      "outputs": [
        {
          "output_type": "stream",
          "name": "stdout",
          "text": [
            "  (0, 241)\t2\n",
            "  (0, 202)\t1\n",
            "  (0, 227)\t1\n",
            "  (0, 588)\t1\n",
            "  (0, 390)\t5\n",
            "  (0, 540)\t1\n",
            "  (0, 258)\t4\n",
            "  (0, 629)\t10\n",
            "  (0, 434)\t6\n",
            "  (0, 584)\t1\n",
            "  (0, 396)\t2\n",
            "  (0, 384)\t1\n",
            "  (0, 632)\t1\n",
            "  (0, 240)\t1\n",
            "  (0, 254)\t1\n",
            "  (0, 40)\t4\n",
            "  (0, 151)\t1\n",
            "  (0, 251)\t1\n",
            "  (0, 232)\t1\n",
            "  (0, 615)\t1\n",
            "  (0, 136)\t2\n",
            "  (0, 475)\t2\n",
            "  (0, 185)\t1\n",
            "  (0, 355)\t1\n",
            "  (0, 357)\t1\n",
            "  :\t:\n",
            "  (9, 357)\t1\n",
            "  (9, 267)\t2\n",
            "  (9, 31)\t2\n",
            "  (9, 534)\t2\n",
            "  (9, 522)\t2\n",
            "  (9, 600)\t1\n",
            "  (9, 268)\t2\n",
            "  (9, 532)\t1\n",
            "  (9, 304)\t1\n",
            "  (9, 346)\t1\n",
            "  (9, 565)\t1\n",
            "  (9, 529)\t3\n",
            "  (9, 142)\t1\n",
            "  (9, 552)\t1\n",
            "  (9, 514)\t1\n",
            "  (9, 394)\t1\n",
            "  (9, 317)\t1\n",
            "  (9, 120)\t1\n",
            "  (9, 208)\t1\n",
            "  (9, 223)\t2\n",
            "  (9, 28)\t1\n",
            "  (9, 13)\t1\n",
            "  (9, 274)\t2\n",
            "  (9, 257)\t2\n",
            "  (9, 147)\t1\n"
          ]
        }
      ]
    },
    {
      "cell_type": "code",
      "source": [
        "print(len(feature_name))\n",
        "print(feature_name)"
      ],
      "metadata": {
        "colab": {
          "base_uri": "https://localhost:8080/"
        },
        "id": "B8K4TqQK7oR1",
        "outputId": "ea646f71-c0e4-4805-9ef7-dc5294e60346"
      },
      "execution_count": 10,
      "outputs": [
        {
          "output_type": "stream",
          "name": "stdout",
          "text": [
            "634\n",
            "['100', '1870s', '1886', '1890', '1900', '1920s', '1923', '1st', '20', '22', '50', 'about', 'according', 'accusers', 'actually', 'addition', 'adorable', 'affair', 'after', 'again', 'alcohol', 'alert', 'all', 'almost', 'alone', 'also', 'always', 'america', 'amongst', 'amount', 'an', 'and', 'angry', 'another', 'any', 'anyone', 'anyway', 'anyways', 'app', 'appealing', 'are', 'around', 'as', 'ask', 'asked', 'ass', 'assaulted', 'at', 'attack', 'attacked', 'available', 'away', 'awesome', 'awful', 'babe', 'back', 'badly', 'bailey', 'baseball', 'be', 'beans', 'beat', 'beaten', 'beautiful', 'because', 'become', 'been', 'before', 'began', 'beginning', 'being', 'believed', 'best', 'between', 'big', 'bit', 'black', 'blew', 'block', 'bold', 'boo', 'books', 'bored', 'both', 'boy', 'brag', 'brain', 'bronx', 'bruin', 'bruise', 'buckling', 'built', 'bust', 'but', 'buy', 'buying', 'by', 'called', 'came', 'can', 'carrier', 'cats', 'cedar', 'celebrating', 'challenge', 'change', 'changing', 'characters', 'check', 'chopped', 'churches', 'city', 'civil', 'claims', 'clear', 'close', 'club', 'coexisted', 'color', 'come', 'comes', 'coming', 'communities', 'community', 'completely', 'constantly', 'correction', 'could', 'country', 'couple', 'course', 'cover', 'currently', 'cut', 'dancing', 'dark', 'day', 'decent', 'decline', 'definitely', 'destruction', 'developed', 'did', 'didn', 'die', 'dinky', 'discuss', 'disgusting', 'displacement', 'do', 'doesn', 'doing', 'domino', 'don', 'double', 'down', 'download', 'dress', 'drinks', 'each', 'east', 'economic', 'economy', 'effect', 'eighteen', 'end', 'enter', 'entire', 'episode', 'established', 'even', 'evening', 'events', 'every', 'everybody', 'everyone', 'everything', 'exactly', 'exciting', 'exercise', 'explore', 'face', 'fact', 'families', 'fanny', 'far', 'feeling', 'feels', 'felt', 'fiends', 'first', 'fit', 'five', 'flag', 'flapper', 'florida', 'food', 'for', 'forever', 'four', 'freaking', 'free', 'friends', 'from', 'fun', 'game', 'general', 'get', 'gets', 'getting', 'go', 'god', 'goes', 'going', 'good', 'goodbye', 'google', 'got', 'granddaughter', 'great', 'grow', 'guess', 'gulf', 'guy', 'had', 'happened', 'happens', 'happy', 'hard', 'harding', 'has', 'have', 'having', 'he', 'headed', 'heard', 'heartbreaking', 'hell', 'her', 'here', 'hey', 'hi', 'him', 'his', 'history', 'hit', 'hmm', 'hollywood', 'home', 'honest', 'honey', 'hope', 'horrific', 'house', 'how', 'hundreds', 'hung', 'hunter', 'if', 'illegal', 'important', 'in', 'income', 'incredible', 'innocent', 'inside', 'into', 'is', 'it', 'its', 'itself', 'james', 'january', 'jazz', 'jesse', 'jobs', 'joints', 'just', 'kidding', 'kill', 'kind', 'kitty', 'knew', 'know', 'knowing', 'land', 'landowner', 'large', 'later', 'laundry', 'leads', 'learn', 'learned', 'learning', 'least', 'leave', 'leaves', 'leaving', 'left', 'less', 'let', 'level', 'liar', 'lie', 'like', 'likelihood', 'likely', 'literally', 'little', 'lived', 'll', 'located', 'lol', 'look', 'looked', 'looking', 'loss', 'lot', 'louder', 'love', 'loved', 'lying', 'made', 'majority', 'make', 'man', 'many', 'mark', 'massacre', 'may', 'maybe', 'me', 'mean', 'means', 'meetings', 'members', 'mexico', 'mid', 'mile', 'miles', 'mill', 'milling', 'mind', 'minute', 'mobile', 'money', 'more', 'morning', 'most', 'move', 'moved', 'much', 'murders', 'muscle', 'mush', 'my', 'myself', 'name', 'nearby', 'need', 'needed', 'neighboring', 'neighbors', 'neither', 'never', 'new', 'nice', 'night', 'nine', 'nineteen', 'no', 'nobody', 'noggin', 'normal', 'not', 'nothing', 'now', 'obviously', 'of', 'off', 'office', 'oh', 'okay', 'old', 'on', 'once', 'one', 'ones', 'only', 'open', 'or', 'original', 'originally', 'other', 'our', 'out', 'over', 'overall', 'own', 'pale', 'partnering', 'pause', 'peaceful', 'people', 'person', 'phone', 'pink', 'place', 'play', 'plus', 'pocket', 'podcast', 'population', 'possible', 'post', 'president', 'presumptive', 'pretty', 'prior', 'probably', 'provided', 'put', 'putting', 'puzzle', 'puzzles', 'quarantine', 'question', 'questioned', 'quieter', 'quite', 'quote', 'randomly', 'rarely', 'rated', 're', 'really', 'recognize', 'red', 'remember', 'repeat', 'resident', 'right', 'ringing', 'roll', 'rose', 'rosewood', 'rumor', 'sad', 'said', 'sarah', 'saw', 'sawmill', 'saws', 'say', 'scene', 'school', 'schoolhouse', 'screaming', 'screams', 'seat', 'second', 'seemed', 'seen', 'sees', 'segregated', 'sense', 'serían', 'set', 'she', 'shifted', 'shit', 'should', 'shy', 'sign', 'small', 'so', 'sold', 'solve', 'some', 'somebody', 'someone', 'something', 'song', 'sounds', 'speak', 'speakeasy', 'spend', 'sponsor', 'spreading', 'stadium', 'star', 'start', 'started', 'state', 'station', 'stayed', 'staying', 'still', 'store', 'story', 'straight', 'straightedge', 'sugar', 'sugarcoating', 'suit', 'sumner', 'super', 'supported', 'sure', 'swear', 'tackle', 'tailor', 'take', 'talk', 'talking', 'taylor', 'teach', 'team', 'telling', 'tells', 'thanks', 'that', 'the', 'their', 'them', 'theme', 'then', 'there', 'these', 'they', 'thing', 'things', 'think', 'thirty', 'this', 'those', 'though', 'thousands', 'three', 'through', 'thursday', 'time', 'times', 'tired', 'to', 'today', 'together', 'tons', 'took', 'town', 'train', 'transparent', 'traumatic', 'travel', 'tree', 'trees', 'triggers', 'true', 'truth', 'turn', 'twenty', 'twice', 'uncomfortable', 'unfortunately', 'unquote', 'up', 'updates', 'upscale', 'us', 've', 'version', 'very', 'vibe', 'visit', 'voices', 'wait', 'waking', 'waldo', 'want', 'wanted', 'war', 'warren', 'was', 'wasn', 'watching', 'water', 'we', 'wearing', 'wednesday', 'welcome', 'well', 'went', 'were', 'what', 'when', 'whenever', 'whew', 'which', 'while', 'white', 'who', 'whoa', 'whose', 'why', 'wife', 'wild', 'wildfire', 'will', 'winky', 'with', 'within', 'without', 'woke', 'woman', 'won', 'wonderful', 'wondering', 'word', 'words', 'work', 'working', 'workout', 'works', 'would', 'yankee', 'yeah', 'year', 'years', 'yes', 'you', 'young', 'your', 'youtube', 'zoom']\n"
          ]
        }
      ]
    },
    {
      "cell_type": "code",
      "source": [
        "print(X.toarray())"
      ],
      "metadata": {
        "colab": {
          "base_uri": "https://localhost:8080/"
        },
        "id": "ir8hWAc-7p5E",
        "outputId": "a4c2b32d-6c1c-4aba-f0ad-3ecebf742ac6"
      },
      "execution_count": 11,
      "outputs": [
        {
          "output_type": "stream",
          "name": "stdout",
          "text": [
            "[[0 0 0 ... 2 1 0]\n",
            " [0 0 0 ... 0 0 0]\n",
            " [0 1 1 ... 0 0 0]\n",
            " ...\n",
            " [0 0 0 ... 0 0 0]\n",
            " [1 0 0 ... 0 0 0]\n",
            " [0 0 0 ... 0 0 0]]\n"
          ]
        }
      ]
    },
    {
      "cell_type": "markdown",
      "source": [
        "# 算出tifdf"
      ],
      "metadata": {
        "id": "88u_0KDZ53Ic"
      }
    },
    {
      "cell_type": "code",
      "source": [
        "vectorizer = CountVectorizer()\n",
        "transformer = TfidfTransformer()\n",
        "tfidf = transformer.fit_transform(vectorizer.fit_transform(corpus))"
      ],
      "metadata": {
        "id": "2lwIoELhr7hQ"
      },
      "execution_count": 12,
      "outputs": []
    },
    {
      "cell_type": "markdown",
      "source": [
        "#### 輸出"
      ],
      "metadata": {
        "id": "XBLhS9AL7a0d"
      }
    },
    {
      "cell_type": "code",
      "source": [
        "print(tfidf)"
      ],
      "metadata": {
        "colab": {
          "base_uri": "https://localhost:8080/"
        },
        "id": "riKE9atY7c5O",
        "outputId": "9056d59c-4a03-4464-ca04-ecea9ee89d74"
      },
      "execution_count": 13,
      "outputs": [
        {
          "output_type": "stream",
          "name": "stdout",
          "text": [
            "  (0, 632)\t0.046912818887129844\n",
            "  (0, 631)\t0.06978089346920152\n",
            "  (0, 629)\t0.20825172976713166\n",
            "  (0, 628)\t0.07976036401637208\n",
            "  (0, 627)\t0.03489044673460076\n",
            "  (0, 626)\t0.0620402147430204\n",
            "  (0, 625)\t0.0310201073715102\n",
            "  (0, 624)\t0.046912818887129844\n",
            "  (0, 623)\t0.08357342956697089\n",
            "  (0, 618)\t0.03988018200818604\n",
            "  (0, 615)\t0.046912818887129844\n",
            "  (0, 609)\t0.10073650160979254\n",
            "  (0, 605)\t0.046912818887129844\n",
            "  (0, 600)\t0.02286807458207168\n",
            "  (0, 596)\t0.046912818887129844\n",
            "  (0, 594)\t0.0620402147430204\n",
            "  (0, 593)\t0.025184125402448135\n",
            "  (0, 592)\t0.05036825080489627\n",
            "  (0, 589)\t0.03988018200818604\n",
            "  (0, 588)\t0.046912818887129844\n",
            "  (0, 587)\t0.046912818887129844\n",
            "  (0, 586)\t0.10073650160979254\n",
            "  (0, 584)\t0.046912818887129844\n",
            "  (0, 582)\t0.062475518930139494\n",
            "  (0, 581)\t0.046912818887129844\n",
            "  :\t:\n",
            "  (9, 552)\t0.16202029626657932\n",
            "  (9, 534)\t0.2046299316327984\n",
            "  (9, 532)\t0.14174861377646072\n",
            "  (9, 529)\t0.2787167985898076\n",
            "  (9, 522)\t0.14093114887106079\n",
            "  (9, 514)\t0.14174861377646072\n",
            "  (9, 434)\t0.22635456404010898\n",
            "  (9, 394)\t0.14174861377646072\n",
            "  (9, 357)\t0.11317728202005449\n",
            "  (9, 346)\t0.14174861377646072\n",
            "  (9, 317)\t0.16202029626657932\n",
            "  (9, 304)\t0.07046557443553039\n",
            "  (9, 274)\t0.38118325604597114\n",
            "  (9, 268)\t0.14093114887106079\n",
            "  (9, 267)\t0.18581119905987173\n",
            "  (9, 257)\t0.38118325604597114\n",
            "  (9, 240)\t0.16202029626657932\n",
            "  (9, 223)\t0.28349722755292145\n",
            "  (9, 208)\t0.14174861377646072\n",
            "  (9, 147)\t0.19059162802298557\n",
            "  (9, 142)\t0.1023149658163992\n",
            "  (9, 120)\t0.16202029626657932\n",
            "  (9, 31)\t0.14093114887106079\n",
            "  (9, 28)\t0.19059162802298557\n",
            "  (9, 13)\t0.19059162802298557\n"
          ]
        }
      ]
    },
    {
      "cell_type": "markdown",
      "source": [
        "# 使用停用詞 (spaCy)"
      ],
      "metadata": {
        "id": "96-GGLCS6438"
      }
    },
    {
      "cell_type": "code",
      "source": [
        "import spacy\n",
        "\n",
        "nlp = spacy.load('en_core_web_sm')\n",
        "spacy_stopwords = spacy.lang.en.stop_words.STOP_WORDS\n",
        "print('spaCy has {} stop words'.format(len(spacy_stopwords)))\n",
        "print('The first five stop words are {}'.format(list(spacy_stopwords)[:5]))"
      ],
      "metadata": {
        "colab": {
          "base_uri": "https://localhost:8080/"
        },
        "id": "f59F2IwXty9v",
        "outputId": "dd47f5a9-d141-46e8-de33-ad12e59ccecf"
      },
      "execution_count": 14,
      "outputs": [
        {
          "output_type": "stream",
          "name": "stdout",
          "text": [
            "spaCy has 326 stop words\n",
            "The first five stop words are ['as', 'again', 'whenever', 'it', 'my']\n"
          ]
        }
      ]
    },
    {
      "cell_type": "code",
      "source": [
        "result = []\n",
        "for sent in podcast_test:\n",
        "  ws = sent.split()\n",
        "  w_string = str()\n",
        "  for w in ws:\n",
        "    if w not in spacy_stopwords:\n",
        "      w_string += w + ' '\n",
        "  result.append(w_string)"
      ],
      "metadata": {
        "id": "GtLt3u-_yqwj"
      },
      "execution_count": 15,
      "outputs": []
    },
    {
      "cell_type": "code",
      "source": [
        "vectorizer_stop = CountVectorizer()\n",
        "transformer_stop = TfidfTransformer()\n",
        "tfidf_stop = transformer.fit_transform(vectorizer.fit_transform(result))\n",
        "feature_name_stop = vectorizer.get_feature_names()"
      ],
      "metadata": {
        "colab": {
          "base_uri": "https://localhost:8080/"
        },
        "id": "8eTr1Au53aqr",
        "outputId": "db4794ca-3314-4d40-d676-903e7f70431a"
      },
      "execution_count": 16,
      "outputs": [
        {
          "output_type": "stream",
          "name": "stderr",
          "text": [
            "/usr/local/lib/python3.7/dist-packages/sklearn/utils/deprecation.py:87: FutureWarning: Function get_feature_names is deprecated; get_feature_names is deprecated in 1.0 and will be removed in 1.2. Please use get_feature_names_out instead.\n",
            "  warnings.warn(msg, category=FutureWarning)\n"
          ]
        }
      ]
    },
    {
      "cell_type": "markdown",
      "source": [
        "#### 輸出"
      ],
      "metadata": {
        "id": "27QXe-J07GAz"
      }
    },
    {
      "cell_type": "code",
      "source": [
        "print(tfidf_stop)"
      ],
      "metadata": {
        "colab": {
          "base_uri": "https://localhost:8080/"
        },
        "id": "yfcZV1493e_L",
        "outputId": "8b3fd71b-5d94-4b74-88a3-77d6bd1d36e1"
      },
      "execution_count": 17,
      "outputs": [
        {
          "output_type": "stream",
          "name": "stdout",
          "text": [
            "  (0, 550)\t0.062315388321232845\n",
            "  (0, 548)\t0.16726329724078048\n",
            "  (0, 547)\t0.10594754641117238\n",
            "  (0, 546)\t0.04634579180157546\n",
            "  (0, 545)\t0.08240946003576463\n",
            "  (0, 544)\t0.041204730017882316\n",
            "  (0, 543)\t0.062315388321232845\n",
            "  (0, 538)\t0.05297377320558619\n",
            "  (0, 535)\t0.062315388321232845\n",
            "  (0, 528)\t0.062315388321232845\n",
            "  (0, 524)\t0.05297377320558619\n",
            "  (0, 522)\t0.062315388321232845\n",
            "  (0, 518)\t0.05297377320558619\n",
            "  (0, 517)\t0.062315388321232845\n",
            "  (0, 516)\t0.062315388321232845\n",
            "  (0, 515)\t0.04634579180157546\n",
            "  (0, 513)\t0.062315388321232845\n",
            "  (0, 510)\t0.062315388321232845\n",
            "  (0, 505)\t0.05297377320558619\n",
            "  (0, 502)\t0.062315388321232845\n",
            "  (0, 501)\t0.062315388321232845\n",
            "  (0, 498)\t0.062315388321232845\n",
            "  (0, 497)\t0.062315388321232845\n",
            "  (0, 492)\t0.062315388321232845\n",
            "  (0, 482)\t0.062315388321232845\n",
            "  :\t:\n",
            "  (8, 36)\t0.134891055017291\n",
            "  (8, 34)\t0.057334860204292896\n",
            "  (8, 23)\t0.04459692584408518\n",
            "  (8, 21)\t0.057334860204292896\n",
            "  (8, 16)\t0.0674455275086455\n",
            "  (8, 13)\t0.134891055017291\n",
            "  (8, 0)\t0.0674455275086455\n",
            "  (9, 495)\t0.21215471137232086\n",
            "  (9, 483)\t0.18035088711634586\n",
            "  (9, 468)\t0.2519637808851987\n",
            "  (9, 466)\t0.15778571469857433\n",
            "  (9, 463)\t0.20683343604965565\n",
            "  (9, 449)\t0.15778571469857433\n",
            "  (9, 373)\t0.2519637808851987\n",
            "  (9, 280)\t0.18035088711634586\n",
            "  (9, 267)\t0.07843788187932264\n",
            "  (9, 238)\t0.42430942274464173\n",
            "  (9, 233)\t0.1568757637586453\n",
            "  (9, 222)\t0.42430942274464173\n",
            "  (9, 208)\t0.18035088711634586\n",
            "  (9, 193)\t0.31557142939714866\n",
            "  (9, 178)\t0.15778571469857433\n",
            "  (9, 125)\t0.21215471137232086\n",
            "  (9, 99)\t0.18035088711634586\n",
            "  (9, 12)\t0.21215471137232086\n"
          ]
        }
      ]
    },
    {
      "cell_type": "code",
      "source": [
        "print(len(feature_name_stop))\n",
        "print(feature_name_stop)"
      ],
      "metadata": {
        "colab": {
          "base_uri": "https://localhost:8080/"
        },
        "id": "MZwm0x7I4zsM",
        "outputId": "37a69573-b783-45c0-f870-b536f0fb6d1c"
      },
      "execution_count": 18,
      "outputs": [
        {
          "output_type": "stream",
          "name": "stdout",
          "text": [
            "552\n",
            "['100', '1870s', '1886', '1890', '1900', '1920s', '1923', '1st', '20', '22', '50', 'according', 'accusers', 'actually', 'addition', 'adorable', 'affair', 'again', 'alcohol', 'alert', 'all', 'alone', 'america', 'and', 'angry', 'another', 'any', 'anyway', 'anyways', 'app', 'appealing', 'are', 'ask', 'asked', 'ass', 'assaulted', 'attack', 'attacked', 'available', 'away', 'awesome', 'awful', 'babe', 'badly', 'bailey', 'baseball', 'beans', 'beat', 'beaten', 'beautiful', 'before', 'began', 'beginning', 'believed', 'best', 'big', 'bit', 'black', 'blew', 'block', 'bold', 'boo', 'books', 'bored', 'boy', 'brag', 'brain', 'bronx', 'bruin', 'bruise', 'buckling', 'built', 'bust', 'but', 'buy', 'buying', 'called', 'came', 'can', 'carrier', 'cats', 'cedar', 'celebrating', 'challenge', 'change', 'changing', 'characters', 'check', 'chopped', 'churches', 'city', 'civil', 'claims', 'clear', 'close', 'club', 'coexisted', 'color', 'come', 'comes', 'coming', 'communities', 'community', 'completely', 'constantly', 'correction', 'country', 'couple', 'course', 'cover', 'currently', 'cut', 'dancing', 'dark', 'day', 'decent', 'decline', 'definitely', 'destruction', 'developed', 'did', 'didn', 'die', 'dinky', 'discuss', 'disgusting', 'displacement', 'doesn', 'doing', 'domino', 'don', 'double', 'down', 'download', 'dress', 'drinks', 'east', 'economic', 'economy', 'effect', 'eighteen', 'end', 'enter', 'entire', 'episode', 'established', 'even', 'evening', 'events', 'everybody', 'exactly', 'exciting', 'exercise', 'explore', 'face', 'fact', 'families', 'fanny', 'far', 'feeling', 'feels', 'felt', 'fiends', 'first', 'fit', 'five', 'flag', 'flapper', 'florida', 'food', 'forever', 'freaking', 'free', 'friends', 'fun', 'game', 'general', 'get', 'gets', 'getting', 'go', 'god', 'goes', 'going', 'good', 'goodbye', 'google', 'got', 'granddaughter', 'great', 'grow', 'guess', 'gulf', 'guy', 'happened', 'happens', 'happy', 'hard', 'harding', 'have', 'having', 'he', 'headed', 'heard', 'heartbreaking', 'hell', 'her', 'here', 'hey', 'hi', 'history', 'hit', 'hmm', 'hollywood', 'home', 'honest', 'honey', 'hope', 'horrific', 'house', 'hundreds', 'hung', 'hunter', 'if', 'illegal', 'important', 'in', 'income', 'incredible', 'innocent', 'inside', 'into', 'is', 'it', 'itself', 'james', 'january', 'jazz', 'jesse', 'jobs', 'joints', 'just', 'kidding', 'kill', 'kind', 'kitty', 'knew', 'know', 'knowing', 'land', 'landowner', 'large', 'later', 'laundry', 'leads', 'learn', 'learned', 'learning', 'leave', 'leaves', 'leaving', 'left', 'less', 'let', 'level', 'liar', 'lie', 'like', 'likelihood', 'likely', 'literally', 'little', 'lived', 'll', 'located', 'lol', 'look', 'looked', 'looking', 'loss', 'lot', 'louder', 'love', 'loved', 'lying', 'made', 'majority', 'man', 'mark', 'massacre', 'maybe', 'me', 'mean', 'means', 'meetings', 'members', 'mexico', 'mid', 'mile', 'miles', 'mill', 'milling', 'mind', 'minute', 'mobile', 'money', 'morning', 'moved', 'murders', 'muscle', 'mush', 'my', 'nearby', 'need', 'needed', 'neighboring', 'neighbors', 'new', 'nice', 'night', 'nineteen', 'nobody', 'noggin', 'normal', 'not', 'now', 'obviously', 'of', 'office', 'oh', 'okay', 'old', 'one', 'ones', 'open', 'original', 'originally', 'other', 'out', 'overall', 'pale', 'partnering', 'pause', 'peaceful', 'people', 'person', 'phone', 'pink', 'place', 'play', 'plus', 'pocket', 'podcast', 'population', 'possible', 'post', 'president', 'presumptive', 'pretty', 'prior', 'probably', 'provided', 'putting', 'puzzle', 'puzzles', 'quarantine', 'question', 'questioned', 'quieter', 'quote', 'randomly', 'rarely', 'rated', 're', 'recognize', 'red', 'remember', 'repeat', 'resident', 'right', 'ringing', 'roll', 'rose', 'rosewood', 'rumor', 'sad', 'said', 'sarah', 'saw', 'sawmill', 'saws', 'scene', 'school', 'schoolhouse', 'screaming', 'screams', 'seat', 'second', 'seen', 'sees', 'segregated', 'sense', 'serían', 'set', 'she', 'shifted', 'shit', 'should', 'shy', 'sign', 'small', 'so', 'sold', 'solve', 'some', 'somebody', 'someone', 'song', 'sounds', 'speak', 'speakeasy', 'spend', 'sponsor', 'spreading', 'stadium', 'star', 'start', 'started', 'state', 'station', 'stayed', 'staying', 'still', 'store', 'story', 'straight', 'straightedge', 'sugar', 'sugarcoating', 'suit', 'sumner', 'super', 'supported', 'sure', 'swear', 'tackle', 'tailor', 'take', 'talk', 'talking', 'taylor', 'teach', 'team', 'telling', 'tells', 'thanks', 'that', 'the', 'their', 'them', 'theme', 'then', 'there', 'they', 'thing', 'things', 'think', 'thirty', 'this', 'though', 'thousands', 'thursday', 'time', 'times', 'tired', 'to', 'today', 'together', 'tons', 'took', 'town', 'train', 'transparent', 'traumatic', 'travel', 'tree', 'trees', 'triggers', 'true', 'truth', 'turn', 'twice', 'uncomfortable', 'unfortunately', 'unquote', 'up', 'updates', 'upscale', 'us', 've', 'version', 'vibe', 'visit', 'voices', 'wait', 'waking', 'waldo', 'want', 'wanted', 'war', 'warren', 'was', 'wasn', 'watching', 'water', 'we', 'wearing', 'wednesday', 'welcome', 'well', 'went', 'what', 'whew', 'white', 'who', 'whoa', 'why', 'wife', 'wild', 'wildfire', 'winky', 'with', 'woke', 'woman', 'won', 'wonderful', 'wondering', 'word', 'words', 'work', 'working', 'workout', 'works', 'yankee', 'yeah', 'year', 'years', 'yes', 'you', 'young', 'youtube', 'zoom']\n"
          ]
        }
      ]
    },
    {
      "cell_type": "markdown",
      "source": [
        "# 使用停用詞(NLTK)"
      ],
      "metadata": {
        "id": "6Y9qY8Vp8pnl"
      }
    },
    {
      "cell_type": "code",
      "source": [
        "!pip install --user -U nltk"
      ],
      "metadata": {
        "colab": {
          "base_uri": "https://localhost:8080/"
        },
        "id": "8_KiKwuQ9Yzm",
        "outputId": "8e501049-11fa-4231-cb22-716297f84d3c"
      },
      "execution_count": 19,
      "outputs": [
        {
          "output_type": "stream",
          "name": "stdout",
          "text": [
            "Requirement already satisfied: nltk in /usr/local/lib/python3.7/dist-packages (3.2.5)\n",
            "Collecting nltk\n",
            "  Downloading nltk-3.7-py3-none-any.whl (1.5 MB)\n",
            "\u001b[K     |████████████████████████████████| 1.5 MB 9.3 MB/s \n",
            "\u001b[?25hRequirement already satisfied: joblib in /usr/local/lib/python3.7/dist-packages (from nltk) (1.1.0)\n",
            "Requirement already satisfied: click in /usr/local/lib/python3.7/dist-packages (from nltk) (7.1.2)\n",
            "Collecting regex>=2021.8.3\n",
            "  Downloading regex-2022.3.15-cp37-cp37m-manylinux_2_17_x86_64.manylinux2014_x86_64.whl (749 kB)\n",
            "\u001b[K     |████████████████████████████████| 749 kB 37.9 MB/s \n",
            "\u001b[?25hRequirement already satisfied: tqdm in /usr/local/lib/python3.7/dist-packages (from nltk) (4.64.0)\n",
            "Installing collected packages: regex, nltk\n",
            "\u001b[33m  WARNING: The script nltk is installed in '/root/.local/bin' which is not on PATH.\n",
            "  Consider adding this directory to PATH or, if you prefer to suppress this warning, use --no-warn-script-location.\u001b[0m\n",
            "Successfully installed nltk-3.7 regex-2022.3.15\n"
          ]
        }
      ]
    },
    {
      "cell_type": "markdown",
      "source": [
        "#### nltk test"
      ],
      "metadata": {
        "id": "zDjJtTiq_Kdu"
      }
    },
    {
      "cell_type": "code",
      "source": [
        "# 下面的代碼是使用nltk從句子中去除停用詞 \n",
        "# 導入包 \n",
        "import nltk \n",
        "from nltk.corpus import stopwords \n",
        "from nltk.tokenize import word_tokenize \n",
        "nltk.download(\"stopwords\")\n",
        "#set(stopwords.words('english')) \n",
        "# 例句 \n",
        "text = \"\"\"He determined to drop his litigation with the monastry, and relinguish his claims to the wood-cuting and fishery rihgts at once. He was the more ready to do this becuase the rights had become much less valuable, and he had indeed the vaguest idea where the wood and river in question were.\"\"\" \n",
        "# 停用詞集合 \n",
        "stop_words = set(stopwords.words('english')) \n",
        "# 分詞 \n",
        "nltk.download('punkt')\n",
        "word_tokens = word_tokenize(text) \n",
        "filtered_sentence = [] \n",
        "for w in word_tokens: \n",
        "  if w not in stop_words: \n",
        "    filtered_sentence.append(w) \n",
        "print(\"\\n\\nOriginal Sentence \\n\\n\") \n",
        "print(\" \".join(word_tokens)) \n",
        "print(\"\\n\\nFiltered Sentence \\n\\n\") \n",
        "print(\" \".join(filtered_sentence))\n"
      ],
      "metadata": {
        "colab": {
          "base_uri": "https://localhost:8080/"
        },
        "id": "mjNclKWF8yU8",
        "outputId": "4ae1b2c8-e2c6-410b-9fba-285c50bfd7b0"
      },
      "execution_count": 20,
      "outputs": [
        {
          "output_type": "stream",
          "name": "stdout",
          "text": [
            "[nltk_data] Downloading package stopwords to /root/nltk_data...\n",
            "[nltk_data]   Unzipping corpora/stopwords.zip.\n",
            "[nltk_data] Downloading package punkt to /root/nltk_data...\n",
            "[nltk_data]   Unzipping tokenizers/punkt.zip.\n",
            "\n",
            "\n",
            "Original Sentence \n",
            "\n",
            "\n",
            "He determined to drop his litigation with the monastry , and relinguish his claims to the wood-cuting and fishery rihgts at once . He was the more ready to do this becuase the rights had become much less valuable , and he had indeed the vaguest idea where the wood and river in question were .\n",
            "\n",
            "\n",
            "Filtered Sentence \n",
            "\n",
            "\n",
            "He determined drop litigation monastry , relinguish claims wood-cuting fishery rihgts . He ready becuase rights become much less valuable , indeed vaguest idea wood river question .\n"
          ]
        }
      ]
    },
    {
      "cell_type": "markdown",
      "source": [
        "## 實際帶入"
      ],
      "metadata": {
        "id": "v5WPRCX4_PZe"
      }
    },
    {
      "cell_type": "code",
      "source": [
        "# 下面的代碼是使用nltk從句子中去除停用詞 \n",
        "# 導入包 \n",
        "import nltk \n",
        "from nltk.corpus import stopwords \n",
        "from nltk.tokenize import word_tokenize \n",
        "nltk.download(\"stopwords\")\n",
        "#set(stopwords.words('english')) \n",
        "# 例句 \n",
        "#text = \"\"\"He determined to drop his litigation with the monastry, and relinguish his claims to the wood-cuting and fishery rihgts at once. He was the more ready to do this becuase the rights had become much less valuable, and he had indeed the vaguest idea where the wood and river in question were.\"\"\" \n",
        "# 停用詞集合 \n",
        "stop_words = set(stopwords.words('english')) \n",
        "# 分詞 \n",
        "nltk.download('punkt')\n",
        "result_nltk = []\n",
        "for sent in podcast_test:\n",
        "  word_tokens = word_tokenize(sent) \n",
        "  filtered_sentence = [] \n",
        "  for w in word_tokens: \n",
        "    if w not in stop_words: \n",
        "      filtered_sentence.append(w) \n",
        "  result_nltk.append(\" \".join(filtered_sentence))\n"
      ],
      "metadata": {
        "colab": {
          "base_uri": "https://localhost:8080/"
        },
        "id": "n5mo6Wn7_OBV",
        "outputId": "41ceb0c5-5a91-4059-a9cc-cb14c2fcd8c1"
      },
      "execution_count": 21,
      "outputs": [
        {
          "output_type": "stream",
          "name": "stdout",
          "text": [
            "[nltk_data] Downloading package stopwords to /root/nltk_data...\n",
            "[nltk_data]   Package stopwords is already up-to-date!\n",
            "[nltk_data] Downloading package punkt to /root/nltk_data...\n",
            "[nltk_data]   Package punkt is already up-to-date!\n"
          ]
        }
      ]
    },
    {
      "cell_type": "code",
      "source": [
        "print(len(result_nltk))\n",
        "print(result_nltk)"
      ],
      "metadata": {
        "colab": {
          "base_uri": "https://localhost:8080/"
        },
        "id": "6Iln9uZ5_3iv",
        "outputId": "f8a39a1c-49f3-47e0-c3cf-d7f702b3903c"
      },
      "execution_count": 22,
      "outputs": [
        {
          "output_type": "stream",
          "name": "stdout",
          "text": [
            "10\n",
            "[\"Hi friends . Happy Wednesday Thursday 're watching YouTube . Hey , ? I hope 're wonderful day far . My name Bailey serían dark History Podcast . Whew , I need theme song dark history . Do n't , I 'm . , I 'm talk dark ass history never learned school I , least say . I never learned school . If 're new . Hi , welcome . Come . Take seat . Do n't shy 're And learning people events history books n't cover school . The maybe 'll fit right us . Okay . Look today 's story . It 's uncomfortable . Okay , 's heartbreaking . It 's , 's set . It 's awful . It 's sad . There 's , words . I think , n't make sense . But said , 's really like sugarcoating . This happened . And 's honest 're transparent learn grow together , know , let history repeat . So let 's set scene . It 's New Years Day 1923 many people waking celebrating New Year . Some still wearing flapper dress suit tired dancing . The night away jazz club , maybe 're hung buying illegal drinks speakeasy . Yes . Oh , yes . It still illegal buy alcohol wild , right ? Of course , though . That like upscale City Vibe . If country little less . Pocket change spend straightedge visit , like kind illegal joints . Then probably quieter evening staying home ringing new year loved ones , know , 1923 general President Warren G , Harding would die office , Yankee Stadium would built Bronx original Hollywood sign would built . Oh , yeah , Hollywood originally called Hollywood land , could say another episode , babe .\", 'Before , morning January , first , nineteen , twenty three thirty year old James 22-year old wife , Fanny , Taylor woke home town called Sumner , neighboring community Rosewood , Florida , morning . James Taylor goes work like day . But James work , something happens wife Fanny . That boy , triggers domino effect , horrific domino effect . It leads Murders innocent people , destruction town displacement entire Community changing Rosewood forever sounds traumatic .', \"I know , welcome . Hi . This episode friends going talking Rosewood Massacre . Have heard ? Yeah , exactly . Exactly . I n't one , completely blew . My mind like Waldo ? Did learned school ? Correction ? I speak . So , Waldo history books ? Not teach Rosewood Massacre ? Yeah . It happened . Let 's discuss learn together . What took place 1923 , Rosewood , Florida . Buckling , kitty cats . This ? Yeah , I 'm great words . Obviously . That 's I started podcast . The beginning , great place . Start town Rosewood established mid eighteen . Hundreds white families , moved prior Civil War black landowner started move 1870s . It 's located State Florida 's nine miles east Gulf Mexico . The name Rosewood . It came red cedar trees land . Fun fact , alert Boo . Boo . Did know cut open red cedar tree , cedar pale pink color inside ? Yeah , I guess 's like super pretty . Super beautiful . But also know cut open ? I 've got little pink inside LOL . Anyways , called town Rosewood pink color . Okay . Nice , right . Well , 've learned history , ca n't nice things . So people saw really pretty color inside beautiful incredible trees . What think ? They ? Yes , cut . They cut sold A made pretty decent amount money supported economy town still , know sad trees year 1886 town developed quite bit . It post office , Schoolhouse three churches one white people black people . Remember , 're talking time 's much segregated America . So four years later 1890 town began hit hard times . All red cedar trees chopped without trees . There 's money made turn leads town 's economic decline loss income many available jobs , many members white Community left , Rosewood , headed nearby town Sumner Sumner appealing large Sawmill provided tons jobs right people needed work , , sign Sumner , know , 1900 . The Rosewood population .\", \"Have shifted majority black community . Now , , Rosewood . There really close sense community . Like , everyone seemed know one another looked one another well . I mean , rarely anyone need leave town like travel food things ? They may need almost everything right Rosewood , addition three churches Schoolhouse post office Rosewood also train station . In become important later general store , Sugar Mill . Plus , looking fun , even Rosewood baseball team . What I 'm getting , Rosewood , overall , nice place . So , 20 years , people rosewood 's stayed Rosewood people Sumner , neighboring town . They stayed within Sumner , coexisted . They Communities going thing , unfortunately , peaceful time To end shit bruin , get , bruin , let 's pause word sponsor . Things kind getting back normal , I guess , right ? Yeah , I swear quarantine . My brain felt like mush need exercise . I mean , muscle , right , know , would best fiends . It feels like brain . Got great workout . What 's best fiends . You ask ? Well , 's mobile puzzle game put A challenge Noggin , 's kind like workout . But , brain , , best fiends fun . You wo n't want put + best . Fiends literally thousands fun , puzzles solve .\", \"I 'm currently level 50 like lot go . So , 's really nothing brag . There 's literally something new play every day . And characters adorable . I want best fiends . Best means 's constantly putting updates . So 's always something new . You exciting explore , whenever I 'm feeling little bored I like , know time kill Zoom meetings . I bust phone go straight best fiends tackle . Some puzzles . Download five-star rated puzzle game . Best fiends free today app store Google Play . That 's best friends without best fiends . Thanks . Best beans partnering today 's episode . Okay . Remember , 's January 1st . 1923 young couple James . And Fanny Taylor white waking first day new year .\", \"And James like , goodbye Fanny . Like I 'm work . I love . Babe . You know Fanny like , oh God . Yeah . Have good day whenever 's probably . Anyway , James leaves wife Fanny home alone go work . He works The Sawmill Sumner one mile east Rosewood . Now James work , Milling saws Fanny whose back home . Rumor . Someone attacked . Oh , yeah . Oh , yeah , neighbors heard screams . They heard screams coming within Taylor 's home like , oh God , know , like 's going screaming ? Hmm . So I , 'd probably go like check , right would like , oh God , 're screaming . Are okay , Fanny 's neighbors , heard screams left alone . Great . Yeah , awesome . So time goes James comes home Mark , gets home , sees fanny big bruise face .\", \"It 's clear somebody hit pretty badly . So asked , know , Fanny tells black man assaulted . She 's like , I n't know , definitely black man . According Fanny . Hmm . I mean , could possible . This guy came randomly , beat , I guess house , remember , Like small town . In fact , Sumner Rosewood small people recognize one another . So Are sure honey ? Are sure 's saw Fanny ? The fact Fanny like , could name person attacked . That first red flag . Okay . That maybe person quote unquote attacked . That first red flag . Okay . That maybe person quote unquote attacked resident Rosewood . I 'm telling , I 'm kidding . If lived Rosewood , would know neighbors everybody knew . But Fanny would likely know person , likelihood knowing presumptive , ? So sure Fanny sure . Again , 's 1920s . Unfortunately , time white woman made , bold claims attacked black person .\", \"Nobody questioned . They believed true . So n't question Fanny story one second . Like , oh God . She beaten block man . Like angry nobody wanted like double check make sure n't lying . They went . People talking Rose Water . Okay , story Fanny gets back woman name Sarah carrier 's like , wait minute . Wait minute .\", \"That 's true . Sarah said Taylor 's Home , morning so-called attack , , granddaughter neither saw black man , attack Fanny . Alone . Even enter house . Well , 're probably wondering really Who hell 's Sarah ? Okay . Well Sarah , working Tailor 's quite time . She day granddaughter Taylor 's laundry . Now , Sarah said actually saw white man leaving Taylor house morning . She said , never saw black man . Come house day . Now , get . Get . Sarah recognize white man . She seen come house twice . Hmm . Sarah believed man Fanny kind Winky dinky . If 're . Sarah said man actually guy beat Fanny morning lying cover ass 's probably affair . And n't want people know Fanny . So Sarah 's version going around town . It 's spreading like wildfire within black community . They 100 % believed . Why would lie ? Whoa , would lie , unfortunately , though white voices louder within community made clear . That Fanny quote . Not liar . She telling truth , okay . I freaking roll , right ?\", \"It gets lot traumatic talking amongst accusers name comes , Jesse Hunter , think 're disgusting . They 're like , hey , Jesse Hunter . This guy . This guy .\"]\n"
          ]
        }
      ]
    },
    {
      "cell_type": "code",
      "source": [
        "vectorizer_nltk = CountVectorizer()\n",
        "transformer_nltk = TfidfTransformer()\n",
        "tfidf_nltk = transformer.fit_transform(vectorizer.fit_transform(result_nltk))\n",
        "feature_name_nltk = vectorizer.get_feature_names()"
      ],
      "metadata": {
        "colab": {
          "base_uri": "https://localhost:8080/"
        },
        "id": "P8Mx_RokAVcv",
        "outputId": "03ef5742-a549-46b3-bdc4-2b2b18977da4"
      },
      "execution_count": 23,
      "outputs": [
        {
          "output_type": "stream",
          "name": "stderr",
          "text": [
            "/usr/local/lib/python3.7/dist-packages/sklearn/utils/deprecation.py:87: FutureWarning: Function get_feature_names is deprecated; get_feature_names is deprecated in 1.0 and will be removed in 1.2. Please use get_feature_names_out instead.\n",
            "  warnings.warn(msg, category=FutureWarning)\n"
          ]
        }
      ]
    },
    {
      "cell_type": "code",
      "source": [
        "print(len(feature_name_nltk))\n",
        "print(feature_name_nltk)"
      ],
      "metadata": {
        "colab": {
          "base_uri": "https://localhost:8080/"
        },
        "id": "suoUtVD7AgUQ",
        "outputId": "1ad0421e-2b07-4dd0-9735-cf8947b614b1"
      },
      "execution_count": 24,
      "outputs": [
        {
          "output_type": "stream",
          "name": "stdout",
          "text": [
            "567\n",
            "['100', '1870s', '1886', '1890', '1900', '1920s', '1923', '1st', '20', '22', '50', 'according', 'accusers', 'actually', 'addition', 'adorable', 'affair', 'again', 'alcohol', 'alert', 'all', 'almost', 'alone', 'also', 'always', 'america', 'amongst', 'amount', 'and', 'angry', 'another', 'anyone', 'anyway', 'anyways', 'app', 'appealing', 'are', 'around', 'ask', 'asked', 'ass', 'assaulted', 'attack', 'attacked', 'available', 'away', 'awesome', 'awful', 'babe', 'back', 'badly', 'bailey', 'baseball', 'beans', 'beat', 'beaten', 'beautiful', 'become', 'before', 'began', 'beginning', 'believed', 'best', 'big', 'bit', 'black', 'blew', 'block', 'bold', 'boo', 'books', 'bored', 'boy', 'brag', 'brain', 'bronx', 'bruin', 'bruise', 'buckling', 'built', 'bust', 'but', 'buy', 'buying', 'ca', 'called', 'came', 'carrier', 'cats', 'cedar', 'celebrating', 'challenge', 'change', 'changing', 'characters', 'check', 'chopped', 'churches', 'city', 'civil', 'claims', 'clear', 'close', 'club', 'coexisted', 'color', 'come', 'comes', 'coming', 'communities', 'community', 'completely', 'constantly', 'correction', 'could', 'country', 'couple', 'course', 'cover', 'currently', 'cut', 'dancing', 'dark', 'day', 'decent', 'decline', 'definitely', 'destruction', 'developed', 'did', 'die', 'dinky', 'discuss', 'disgusting', 'displacement', 'do', 'domino', 'double', 'download', 'dress', 'drinks', 'east', 'economic', 'economy', 'effect', 'eighteen', 'end', 'enter', 'entire', 'episode', 'established', 'even', 'evening', 'events', 'every', 'everybody', 'everyone', 'everything', 'exactly', 'exciting', 'exercise', 'explore', 'face', 'fact', 'families', 'fanny', 'far', 'feeling', 'feels', 'felt', 'fiends', 'first', 'fit', 'five', 'flag', 'flapper', 'florida', 'food', 'forever', 'four', 'freaking', 'free', 'friends', 'fun', 'game', 'general', 'get', 'gets', 'getting', 'go', 'god', 'goes', 'going', 'good', 'goodbye', 'google', 'got', 'granddaughter', 'great', 'grow', 'guess', 'gulf', 'guy', 'happened', 'happens', 'happy', 'hard', 'harding', 'have', 'he', 'headed', 'heard', 'heartbreaking', 'hell', 'hey', 'hi', 'history', 'hit', 'hmm', 'hollywood', 'home', 'honest', 'honey', 'hope', 'horrific', 'house', 'hundreds', 'hung', 'hunter', 'if', 'illegal', 'important', 'in', 'income', 'incredible', 'innocent', 'inside', 'it', 'james', 'january', 'jazz', 'jesse', 'jobs', 'joints', 'kidding', 'kill', 'kind', 'kitty', 'knew', 'know', 'knowing', 'land', 'landowner', 'large', 'later', 'laundry', 'leads', 'learn', 'learned', 'learning', 'least', 'leave', 'leaves', 'leaving', 'left', 'less', 'let', 'level', 'liar', 'lie', 'like', 'likelihood', 'likely', 'literally', 'little', 'lived', 'll', 'located', 'lol', 'look', 'looked', 'looking', 'loss', 'lot', 'louder', 'love', 'loved', 'lying', 'made', 'majority', 'make', 'man', 'many', 'mark', 'massacre', 'may', 'maybe', 'mean', 'means', 'meetings', 'members', 'mexico', 'mid', 'mile', 'miles', 'mill', 'milling', 'mind', 'minute', 'mobile', 'money', 'morning', 'move', 'moved', 'much', 'murders', 'muscle', 'mush', 'my', 'name', 'nearby', 'need', 'needed', 'neighboring', 'neighbors', 'neither', 'never', 'new', 'nice', 'night', 'nine', 'nineteen', 'nobody', 'noggin', 'normal', 'not', 'nothing', 'now', 'obviously', 'of', 'office', 'oh', 'okay', 'old', 'one', 'ones', 'open', 'original', 'originally', 'overall', 'pale', 'partnering', 'pause', 'peaceful', 'people', 'person', 'phone', 'pink', 'place', 'play', 'plus', 'pocket', 'podcast', 'population', 'possible', 'post', 'president', 'presumptive', 'pretty', 'prior', 'probably', 'provided', 'put', 'putting', 'puzzle', 'puzzles', 'quarantine', 'question', 'questioned', 'quieter', 'quite', 'quote', 'randomly', 'rarely', 'rated', 're', 'really', 'recognize', 'red', 'remember', 'repeat', 'resident', 'right', 'ringing', 'roll', 'rose', 'rosewood', 'rumor', 'sad', 'said', 'sarah', 'saw', 'sawmill', 'saws', 'say', 'scene', 'school', 'schoolhouse', 'screaming', 'screams', 'seat', 'second', 'seemed', 'seen', 'sees', 'segregated', 'sense', 'serían', 'set', 'she', 'shifted', 'shit', 'shy', 'sign', 'small', 'so', 'sold', 'solve', 'some', 'somebody', 'someone', 'something', 'song', 'sounds', 'speak', 'speakeasy', 'spend', 'sponsor', 'spreading', 'stadium', 'star', 'start', 'started', 'state', 'station', 'stayed', 'staying', 'still', 'store', 'story', 'straight', 'straightedge', 'sugar', 'sugarcoating', 'suit', 'sumner', 'super', 'supported', 'sure', 'swear', 'tackle', 'tailor', 'take', 'talk', 'talking', 'taylor', 'teach', 'team', 'telling', 'tells', 'thanks', 'that', 'the', 'theme', 'then', 'there', 'they', 'thing', 'things', 'think', 'thirty', 'this', 'though', 'thousands', 'three', 'thursday', 'time', 'times', 'tired', 'to', 'today', 'together', 'tons', 'took', 'town', 'train', 'transparent', 'traumatic', 'travel', 'tree', 'trees', 'triggers', 'true', 'truth', 'turn', 'twenty', 'twice', 'uncomfortable', 'unfortunately', 'unquote', 'updates', 'upscale', 'us', 've', 'version', 'vibe', 'visit', 'voices', 'wait', 'waking', 'waldo', 'want', 'wanted', 'war', 'warren', 'watching', 'water', 'wearing', 'wednesday', 'welcome', 'well', 'went', 'what', 'whenever', 'whew', 'white', 'who', 'whoa', 'whose', 'why', 'wife', 'wild', 'wildfire', 'winky', 'within', 'without', 'wo', 'woke', 'woman', 'wonderful', 'wondering', 'word', 'words', 'work', 'working', 'workout', 'works', 'would', 'yankee', 'yeah', 'year', 'years', 'yes', 'you', 'young', 'youtube', 'zoom']\n"
          ]
        }
      ]
    },
    {
      "cell_type": "code",
      "source": [
        "for i in range(len(feature_name_nltk)):\n",
        "  if feature_name_nltk[i]=='sponsor':\n",
        "    print(i)"
      ],
      "metadata": {
        "colab": {
          "base_uri": "https://localhost:8080/"
        },
        "id": "HGAUpaseAs0e",
        "outputId": "c18631ae-8965-4994-ca95-b3d9fe34de2a"
      },
      "execution_count": 25,
      "outputs": [
        {
          "output_type": "stream",
          "name": "stdout",
          "text": [
            "437\n"
          ]
        }
      ]
    },
    {
      "cell_type": "code",
      "source": [
        "from nltk.util import pr\n",
        "print(type(tfidf_nltk))\n",
        "keyword_segment = []\n",
        "tfidf_segment = []\n",
        "#print(tfidf_nltk)\n",
        "#print(tfidf_nltk.toarray())\n",
        "array_tfidf_nltk = tfidf_nltk.toarray()\n",
        "#print(array_tfidf_nltk)\n",
        "#print(array_tfidf_nltk[0])\n",
        "for i in range(len(array_tfidf_nltk)):\n",
        "  if(array_tfidf_nltk[i][437]>0):\n",
        "    print(i)\n",
        "    for j in range(len(array_tfidf_nltk[i])):\n",
        "      if(array_tfidf_nltk[i][j]>0):\n",
        "        keyword_segment.append(feature_name_nltk[j])\n",
        "        tfidf_segment.append(array_tfidf_nltk[i][j])\n",
        "        print(feature_name_nltk[j],\" \",array_tfidf_nltk[i][j])"
      ],
      "metadata": {
        "colab": {
          "base_uri": "https://localhost:8080/"
        },
        "id": "Cxu7f1kxBs63",
        "outputId": "6f206c43-5359-4ea5-a3ba-55af46eada6a"
      },
      "execution_count": 26,
      "outputs": [
        {
          "output_type": "stream",
          "name": "stdout",
          "text": [
            "<class 'scipy.sparse.csr.csr_matrix'>\n",
            "3\n",
            "20   0.07189780313063401\n",
            "addition   0.07189780313063401\n",
            "almost   0.07189780313063401\n",
            "also   0.0611197012427883\n",
            "another   0.1069450325080507\n",
            "anyone   0.07189780313063401\n",
            "ask   0.07189780313063401\n",
            "back   0.05347251625402535\n",
            "baseball   0.07189780313063401\n",
            "become   0.07189780313063401\n",
            "best   0.2444788049711532\n",
            "black   0.0475408987520856\n",
            "brain   0.21569340939190204\n",
            "bruin   0.14379560626126803\n",
            "but   0.04269441436617964\n",
            "challenge   0.07189780313063401\n",
            "churches   0.0611197012427883\n",
            "close   0.07189780313063401\n",
            "coexisted   0.07189780313063401\n",
            "communities   0.07189780313063401\n",
            "community   0.0950817975041712\n",
            "end   0.07189780313063401\n",
            "even   0.0611197012427883\n",
            "everyone   0.07189780313063401\n",
            "everything   0.07189780313063401\n",
            "exercise   0.07189780313063401\n",
            "feels   0.07189780313063401\n",
            "felt   0.07189780313063401\n",
            "fiends   0.2444788049711532\n",
            "food   0.07189780313063401\n",
            "fun   0.18335910372836492\n",
            "game   0.0611197012427883\n",
            "general   0.0611197012427883\n",
            "get   0.0611197012427883\n",
            "getting   0.14379560626126803\n",
            "going   0.0475408987520856\n",
            "got   0.0611197012427883\n",
            "great   0.05347251625402535\n",
            "guess   0.05347251625402535\n",
            "have   0.05347251625402535\n",
            "important   0.07189780313063401\n",
            "in   0.0611197012427883\n",
            "it   0.03504722937741668\n",
            "kind   0.1069450325080507\n",
            "know   0.07009445875483336\n",
            "later   0.0611197012427883\n",
            "leave   0.07189780313063401\n",
            "let   0.05347251625402535\n",
            "like   0.13291035001919907\n",
            "literally   0.0611197012427883\n",
            "looked   0.07189780313063401\n",
            "looking   0.07189780313063401\n",
            "majority   0.07189780313063401\n",
            "may   0.07189780313063401\n",
            "mean   0.1222394024855766\n",
            "mill   0.07189780313063401\n",
            "mobile   0.07189780313063401\n",
            "muscle   0.07189780313063401\n",
            "mush   0.07189780313063401\n",
            "my   0.05347251625402535\n",
            "need   0.18335910372836492\n",
            "neighboring   0.0611197012427883\n",
            "nice   0.0611197012427883\n",
            "noggin   0.07189780313063401\n",
            "normal   0.07189780313063401\n",
            "now   0.05347251625402535\n",
            "office   0.05347251625402535\n",
            "one   0.08538882873235928\n",
            "overall   0.07189780313063401\n",
            "pause   0.07189780313063401\n",
            "peaceful   0.07189780313063401\n",
            "people   0.07009445875483336\n",
            "place   0.0611197012427883\n",
            "plus   0.07189780313063401\n",
            "post   0.0611197012427883\n",
            "put   0.14379560626126803\n",
            "puzzle   0.0611197012427883\n",
            "puzzles   0.0611197012427883\n",
            "quarantine   0.07189780313063401\n",
            "rarely   0.07189780313063401\n",
            "really   0.04269441436617964\n",
            "right   0.12808324309853894\n",
            "rosewood   0.2988609005632575\n",
            "schoolhouse   0.0611197012427883\n",
            "seemed   0.07189780313063401\n",
            "sense   0.0611197012427883\n",
            "shifted   0.07189780313063401\n",
            "shit   0.07189780313063401\n",
            "so   0.031916312478333944\n",
            "solve   0.07189780313063401\n",
            "sponsor   0.07189780313063401\n",
            "station   0.07189780313063401\n",
            "stayed   0.14379560626126803\n",
            "store   0.0611197012427883\n",
            "sugar   0.07189780313063401\n",
            "sumner   0.08538882873235928\n",
            "swear   0.07189780313063401\n",
            "team   0.07189780313063401\n",
            "there   0.0475408987520856\n",
            "they   0.11579031061161589\n",
            "thing   0.07189780313063401\n",
            "things   0.1222394024855766\n",
            "thousands   0.07189780313063401\n",
            "three   0.05347251625402535\n",
            "time   0.03859677020387196\n",
            "to   0.07189780313063401\n",
            "town   0.08538882873235928\n",
            "train   0.07189780313063401\n",
            "travel   0.07189780313063401\n",
            "unfortunately   0.05347251625402535\n",
            "want   0.05347251625402535\n",
            "well   0.1069450325080507\n",
            "what   0.1222394024855766\n",
            "within   0.05347251625402535\n",
            "wo   0.07189780313063401\n",
            "word   0.07189780313063401\n",
            "workout   0.14379560626126803\n",
            "would   0.04269441436617964\n",
            "yeah   0.0475408987520856\n",
            "years   0.05347251625402535\n",
            "you   0.1069450325080507\n"
          ]
        }
      ]
    },
    {
      "cell_type": "code",
      "source": [
        "print(keyword_segment)\n",
        "print(tfidf_segment)"
      ],
      "metadata": {
        "colab": {
          "base_uri": "https://localhost:8080/"
        },
        "id": "ZTw2dZENK8-k",
        "outputId": "b1339f11-44d0-4cac-d69b-b7432656588b"
      },
      "execution_count": 27,
      "outputs": [
        {
          "output_type": "stream",
          "name": "stdout",
          "text": [
            "['20', 'addition', 'almost', 'also', 'another', 'anyone', 'ask', 'back', 'baseball', 'become', 'best', 'black', 'brain', 'bruin', 'but', 'challenge', 'churches', 'close', 'coexisted', 'communities', 'community', 'end', 'even', 'everyone', 'everything', 'exercise', 'feels', 'felt', 'fiends', 'food', 'fun', 'game', 'general', 'get', 'getting', 'going', 'got', 'great', 'guess', 'have', 'important', 'in', 'it', 'kind', 'know', 'later', 'leave', 'let', 'like', 'literally', 'looked', 'looking', 'majority', 'may', 'mean', 'mill', 'mobile', 'muscle', 'mush', 'my', 'need', 'neighboring', 'nice', 'noggin', 'normal', 'now', 'office', 'one', 'overall', 'pause', 'peaceful', 'people', 'place', 'plus', 'post', 'put', 'puzzle', 'puzzles', 'quarantine', 'rarely', 'really', 'right', 'rosewood', 'schoolhouse', 'seemed', 'sense', 'shifted', 'shit', 'so', 'solve', 'sponsor', 'station', 'stayed', 'store', 'sugar', 'sumner', 'swear', 'team', 'there', 'they', 'thing', 'things', 'thousands', 'three', 'time', 'to', 'town', 'train', 'travel', 'unfortunately', 'want', 'well', 'what', 'within', 'wo', 'word', 'workout', 'would', 'yeah', 'years', 'you']\n",
            "[0.07189780313063401, 0.07189780313063401, 0.07189780313063401, 0.0611197012427883, 0.1069450325080507, 0.07189780313063401, 0.07189780313063401, 0.05347251625402535, 0.07189780313063401, 0.07189780313063401, 0.2444788049711532, 0.0475408987520856, 0.21569340939190204, 0.14379560626126803, 0.04269441436617964, 0.07189780313063401, 0.0611197012427883, 0.07189780313063401, 0.07189780313063401, 0.07189780313063401, 0.0950817975041712, 0.07189780313063401, 0.0611197012427883, 0.07189780313063401, 0.07189780313063401, 0.07189780313063401, 0.07189780313063401, 0.07189780313063401, 0.2444788049711532, 0.07189780313063401, 0.18335910372836492, 0.0611197012427883, 0.0611197012427883, 0.0611197012427883, 0.14379560626126803, 0.0475408987520856, 0.0611197012427883, 0.05347251625402535, 0.05347251625402535, 0.05347251625402535, 0.07189780313063401, 0.0611197012427883, 0.03504722937741668, 0.1069450325080507, 0.07009445875483336, 0.0611197012427883, 0.07189780313063401, 0.05347251625402535, 0.13291035001919907, 0.0611197012427883, 0.07189780313063401, 0.07189780313063401, 0.07189780313063401, 0.07189780313063401, 0.1222394024855766, 0.07189780313063401, 0.07189780313063401, 0.07189780313063401, 0.07189780313063401, 0.05347251625402535, 0.18335910372836492, 0.0611197012427883, 0.0611197012427883, 0.07189780313063401, 0.07189780313063401, 0.05347251625402535, 0.05347251625402535, 0.08538882873235928, 0.07189780313063401, 0.07189780313063401, 0.07189780313063401, 0.07009445875483336, 0.0611197012427883, 0.07189780313063401, 0.0611197012427883, 0.14379560626126803, 0.0611197012427883, 0.0611197012427883, 0.07189780313063401, 0.07189780313063401, 0.04269441436617964, 0.12808324309853894, 0.2988609005632575, 0.0611197012427883, 0.07189780313063401, 0.0611197012427883, 0.07189780313063401, 0.07189780313063401, 0.031916312478333944, 0.07189780313063401, 0.07189780313063401, 0.07189780313063401, 0.14379560626126803, 0.0611197012427883, 0.07189780313063401, 0.08538882873235928, 0.07189780313063401, 0.07189780313063401, 0.0475408987520856, 0.11579031061161589, 0.07189780313063401, 0.1222394024855766, 0.07189780313063401, 0.05347251625402535, 0.03859677020387196, 0.07189780313063401, 0.08538882873235928, 0.07189780313063401, 0.07189780313063401, 0.05347251625402535, 0.05347251625402535, 0.1069450325080507, 0.1222394024855766, 0.05347251625402535, 0.07189780313063401, 0.07189780313063401, 0.14379560626126803, 0.04269441436617964, 0.0475408987520856, 0.05347251625402535, 0.1069450325080507]\n"
          ]
        }
      ]
    },
    {
      "cell_type": "code",
      "source": [
        "for sent in podcast_test:\n",
        "  print(\"q \",sent)"
      ],
      "metadata": {
        "id": "xejkhlIpR4vU",
        "outputId": "f669192c-d626-4e31-c7ba-a4491705d325",
        "colab": {
          "base_uri": "https://localhost:8080/"
        }
      },
      "execution_count": 33,
      "outputs": [
        {
          "output_type": "stream",
          "name": "stdout",
          "text": [
            "q  Hi friends. Happy Wednesday or Thursday if you're watching over on YouTube. Hey, how are you doing? I hope you're having a wonderful day so far. My name is Bailey serían and this is the dark History Podcast. Whew, I need a theme song for dark history. Don't, I'm any. who, I'm here to talk about some dark ass history that we never learned in school or I should, at least say that. I never learned in school. If you're new here. Hi, welcome. Come. Take a seat by me. Don't be shy if you're And learning about people and events that your history books didn't cover in school. The maybe should have then you'll fit in right in here with us. Okay. Look today's story. It's uncomfortable. Okay, it's heartbreaking. It's just, it's set. It's awful. It's sad. There's, those are all the words. I can think of it, just doesn't make any sense. But with all of that being said, there's really like no sugarcoating this. This is what happened. And it's when more honest and when we're transparent that we can learn and grow together, you know, but most of all not let history repeat itself. So let's set the scene. It's New Years Day 1923 and many people are waking up from celebrating the New Year. Some of them are still wearing a flapper dress or a suit tired from dancing. The night away in a jazz club, or maybe they're hung over from buying illegal drinks at a speakeasy. Yes. Oh, yes. It was still illegal to buy alcohol wild, right? Of course, though. That was more of like the upscale City Vibe. If you were in the country had little less. Pocket change to spend or were to straightedge to visit, like those kind of illegal joints. Then you probably had a quieter evening of staying at home and ringing in the new year with with your loved ones, you know, now 1923 in general President Warren G, Harding would die in office, the Yankee Stadium would be built in the Bronx and the original Hollywood sign would be built. Oh, yeah, Hollywood was originally called Hollywood land, but we could say that for another episode, babe. \n",
            "q  Before all of that, on the morning of January, first, nineteen, twenty three thirty year old James and his 22-year old wife, Fanny, Taylor woke up at a home and a town called Sumner, a neighboring community of Rosewood, Florida, that morning. James Taylor goes to work like he did any other day. But while James was at work, something happens to his wife Fanny. That boy, it just triggers a domino effect, a horrific domino effect. It leads to the Murders of innocent people, the destruction of a town and the displacement of an entire Community changing Rosewood forever who just sounds traumatic. \n",
            "q  I know because it is, welcome. Hi. This episode friends were going to be talking about the Rosewood Massacre. Have you heard of it? Yeah, exactly. Exactly. I didn't this one, just it completely blew. My mind is like why in the Waldo? Did we not learned about this in school? Correction? I can only speak for myself here. So, why in the Waldo did my history books? Not teach this Rosewood Massacre? Yeah. It happened. Let's discuss and learn together. What took place in 1923, Rosewood, Florida. Buckling, kitty cats. This is just what? Yeah, I'm great with words. Obviously. That's why I started a podcast. The beginning, great place. Start the town of Rosewood was established in the mid eighteen. Hundreds white families, had moved here prior to the Civil War and black landowner started to move in in the 1870s. It's located in the State of Florida and it's just nine miles east of the Gulf of Mexico. The name Rosewood. It came from the red cedar trees that were all over the land there. Fun fact, alert Boo. Boo.  Did you know that when you cut open a red cedar tree, the cedar has a pale pink color inside? Yeah, I guess it's like super pretty. Super beautiful. But did you also know that if you cut me open? I've got a little pink inside a LOL. Anyways, so they called the town Rosewood after the pink color. Okay. Nice, right. Well, as we've learned through history, we can't have nice things. So when people saw the really pretty color that was inside of these beautiful incredible trees. What do you think? They did? Yes, they cut them all down. They cut them down and they sold the A now because of this they made a pretty decent amount of money and it supported the economy of the town but still, you know sad for the trees by the year 1886 the town had developed quite a bit. It had its own post office, a Schoolhouse and they were three churches one for the white people into for the black people. Remember, we're talking about a time that's very much a segregated America. So four years later in 1890 the town began to hit some hard times. All the red cedar trees had been chopped down and without the trees. There's no money to be made which in turn leads to the town's economic decline because of the loss of income and not many available jobs, many members of the white Community left, Rosewood, and headed to the nearby town of Sumner Sumner was appealing because there was a large Sawmill which provided tons of jobs and right now the people needed work, so, sign me up for Sumner, you know, so by the 1900. The Rosewood population. \n",
            "q  Have now shifted to a majority black community. Now, with, in Rosewood. There was a really close sense of community. Like, everyone seemed to know one another and looked out for one another as well. I mean, rarely did anyone need to leave town like to travel for food or for things? They may need because they had almost everything right there with in Rosewood, in addition to the three churches Schoolhouse and post office Rosewood also had a train station. In which will become important later a general store, and a Sugar Mill. Plus, if you were looking for some fun, they even had a Rosewood baseball team. What I'm getting at is, Rosewood, was overall, just a nice place. So, for over 20 years, the people of rosewood's stayed with in Rosewood and the people of Sumner, the neighboring town. They stayed within Sumner, they coexisted. They had their own Communities going on and they were just doing their own thing, but unfortunately, that peaceful time was about To end because some shit was a bruin, but before we get into, what was a bruin, let's pause for a word from our sponsor. Things are kind of getting back to normal, I guess, right? Yeah, but I swear to you over quarantine. My brain has felt like mush and need some exercise. I mean, it is a muscle, right, you know, any who would best fiends. It feels like my brain. Got a great workout. What's best fiends. You ask? Well, it's the mobile puzzle game that will put A challenge to your Noggin, and it's kind of like you did a workout. But again, for your brain, not only that, best fiends is so fun. You won't want to put it down + best. Fiends has literally thousands of fun, puzzles to solve. \n",
            "q  I'm currently on level 50 with like a lot more to go. So, there's really nothing to brag about their. There's literally something new to play every day. And the characters are just so adorable. I want to be best fiends with them. Best means it's constantly putting out updates. So there's always something new. You exciting to explore, whenever I'm feeling a little bored or I have like, you know some time to kill between these Zoom meetings. I just bust out my phone and go straight to best fiends to tackle. Some puzzles. Download the five-star rated puzzle game. Best fiends free today on the app store or Google Play. That's best friends without the our best fiends. Thanks. Best beans for partnering with me on today's episode. Okay. Remember, it's January 1st. 1923 our young couple James. And Fanny Taylor who are white are waking up on the first day of the new year. \n",
            "q  And James was like, goodbye Fanny. Like I'm off to work. I love you. Babe. You know and Fanny is like, oh my God. Yeah. Have a good day whenever that's probably what they did. Anyway, so James leaves his wife Fanny home alone because he has to go to work. He works at The Sawmill in Sumner which was about one mile east of Rosewood. Now while James is at work, Milling saws Fanny whose back at home. Rumor had it. Someone had attacked her. Oh, yeah. Oh, yeah, the neighbors heard screams. They heard screams coming from within the Taylor's home and they were like, oh my God, you know, like what's going on screaming? Hmm. So for you and I, we'd probably go and like check it out, right would be like, oh my God, they're screaming. Are you okay, but for Fanny's neighbors, they heard the screams and then they just left it alone. Great. Yeah, awesome. So some time goes by and James comes home from Mark, and when he gets home, he sees that fanny has a big bruise on her face. \n",
            "q  It's clear that somebody had hit her pretty badly. So he asked her, you know, who did this to you and Fanny tells him that a black man assaulted her. She's like, I don't know who it was, but it was definitely a black man. According to Fanny. Hmm. I mean, this could be possible. This guy came in randomly, beat her, I guess in her own house, but remember, Like this is a small town. In fact, both Sumner and Rosewood were so small that most people recognize one another. So Are you sure we honey? Are you sure that's what you saw Fanny? The fact that Fanny like, could not name the person who attacked her. That should have been the first red flag. Okay. That maybe this person that quote unquote attacked her. That should have been the first red flag. Okay. That maybe this person that quote unquote attacked her was not a resident from Rosewood. I'm telling you, I'm not kidding you. If you lived in Rosewood, you would know your neighbors everybody knew each other. But Fanny would most likely know this person because again, the likelihood of her not knowing is presumptive, not? So sure Fanny sure. Again, because it's a 1920s. Unfortunately, this is a time when a white woman made, bold claims of being attacked by a black person. \n",
            "q  Nobody questioned it. They just believed it to be true. So they didn't question Fanny story for one second. Like, oh my God. She was beaten by a block man. Like we are so angry and nobody wanted to like double check and make sure she what you she wasn't lying. They just went with it. People are talking with in Rose Water. Okay, and this story about Fanny gets back to a woman by the name of Sarah carrier and she's like, wait a minute. Wait a minute. \n",
            "q    That's not true. Sarah said that she was at the Taylor's Home, the morning of that so-called attack, and not just that, but her granddaughter was there with her and neither of them saw black man, attack Fanny. Alone. Even enter their house. Well, you're probably wondering really Who the hell's Sarah? Okay. Well Sarah, she had been working for the Tailor's for quite some time. She was there that day with her granddaughter doing the Taylor's laundry. Now, Sarah said that she actually saw a white man leaving the Taylor house that morning. She said, she never saw a black man. Come by the house all day. Now, get this. Get this. Sarah recognize this white man. She had seen him come by the house once or twice before. Hmm. Sarah had believed that this man and Fanny were having some kind of Winky dinky. If you're not on me. Sarah said that this man was actually the guy that beat Fanny that morning and that she was just lying to cover her ass because she's probably having an affair. And she doesn't want people to know Fanny. So Sarah's version is now going around town. It's spreading like wildfire within the black community. They all 100% believed her. Why would she lie? Whoa, why would she lie, unfortunately, though the white voices were louder within the community and made it very clear. That Fanny was quote. Not a liar. She was telling the truth, okay. I freaking roll, right? \n",
            "q  It gets a lot more traumatic talking amongst the accusers and name comes up, Jesse Hunter, and they think they're disgusting. They're like, hey, Jesse Hunter. This is our guy. This is the guy who did it.\n",
            "\n"
          ]
        }
      ]
    },
    {
      "cell_type": "code",
      "source": [
        "all_sentence = []\n",
        "for i in range(len(segmented_text)):\n",
        "  for j in range(len(segmented_text[i])):\n",
        "    all_sentence.append(segmented_text[i][j])\n",
        "length = 10\n",
        "sponsor_block = []\n",
        "for i in range(len(all_sentence)):\n",
        "  ws = word_tokenize(all_sentence[i])\n",
        "  for w in ws:\n",
        "    if(\"sponsor\" == w):\n",
        "      sponsor_block.append(all_sentence[i])\n",
        "      for h in range(length):\n",
        "        if((i+h)<len(all_sentence)): sponsor_block.append(all_sentence[i+h])\n",
        "        \n",
        "      \n",
        "sponsor_block = \" \".join(sponsor_block)\n",
        "print(sponsor_block)\n"
      ],
      "metadata": {
        "colab": {
          "base_uri": "https://localhost:8080/"
        },
        "id": "OhFaFKE9H4ER",
        "outputId": "7989ccb4-12ed-41fc-fec4-ad9fa43592f9"
      },
      "execution_count": 37,
      "outputs": [
        {
          "output_type": "stream",
          "name": "stdout",
          "text": [
            "They had their own Communities going on and they were just doing their own thing, but unfortunately, that peaceful time was about To end because some shit was a bruin, but before we get into, what was a bruin, let's pause for a word from our sponsor.  Things are kind of getting back to normal, I guess, right?  Yeah, but I swear to you over quarantine.  My brain has felt like mush and need some exercise.  I mean, it is a muscle, right, you know, any who would best fiends.  It feels like my brain.  Got a great workout.  What's best fiends.  You ask?  Well, it's the mobile puzzle game that will put A challenge to your Noggin, and it's kind of like you did a workout.  But again, for your brain, not only that, best fiends is so fun. \n"
          ]
        }
      ]
    },
    {
      "cell_type": "code",
      "source": [
        "sponsor_word = word_tokenize(sponsor_block)\n",
        "print(sponsor_word)\n",
        "keyword_sponsor=[]\n",
        "tfidf_sponsor=[]\n",
        "for i in range(len(sponsor_word)):\n",
        "  if(sponsor_word[i] in keyword_segment and sponsor_word[i] not in keyword_sponsor):\n",
        "    keyword_sponsor.append(sponsor_word[i])\n",
        "    tfidf_sponsor.append(tfidf_segment[keyword_segment.index(sponsor_word[i])])\n",
        "print(len(keyword_sponsor))\n",
        "print(len(tfidf_sponsor))\n",
        "n = len(keyword_sponsor)\n",
        "for i in range(n):\n",
        "  for j in range(0,n-i-1):\n",
        "    \n",
        "    if(tfidf_sponsor[j]>tfidf_sponsor[j+1]):\n",
        "      tfidf_sponsor[j], tfidf_sponsor[j+1] =  tfidf_sponsor[j+1], tfidf_sponsor[j]\n",
        "      keyword_sponsor[j], keyword_sponsor[j+1] =  keyword_sponsor[j+1], keyword_sponsor[j]\n",
        "for i in range(0,n):\n",
        "  print(keyword_sponsor[i],\" \",tfidf_sponsor[i])\n"
      ],
      "metadata": {
        "colab": {
          "base_uri": "https://localhost:8080/"
        },
        "id": "66I018NrLUPb",
        "outputId": "79772bb9-3c2a-4482-b8f9-7a4092ee8799"
      },
      "execution_count": 38,
      "outputs": [
        {
          "output_type": "stream",
          "name": "stdout",
          "text": [
            "['They', 'had', 'their', 'own', 'Communities', 'going', 'on', 'and', 'they', 'were', 'just', 'doing', 'their', 'own', 'thing', ',', 'but', 'unfortunately', ',', 'that', 'peaceful', 'time', 'was', 'about', 'To', 'end', 'because', 'some', 'shit', 'was', 'a', 'bruin', ',', 'but', 'before', 'we', 'get', 'into', ',', 'what', 'was', 'a', 'bruin', ',', 'let', \"'s\", 'pause', 'for', 'a', 'word', 'from', 'our', 'sponsor', '.', 'Things', 'are', 'kind', 'of', 'getting', 'back', 'to', 'normal', ',', 'I', 'guess', ',', 'right', '?', 'Yeah', ',', 'but', 'I', 'swear', 'to', 'you', 'over', 'quarantine', '.', 'My', 'brain', 'has', 'felt', 'like', 'mush', 'and', 'need', 'some', 'exercise', '.', 'I', 'mean', ',', 'it', 'is', 'a', 'muscle', ',', 'right', ',', 'you', 'know', ',', 'any', 'who', 'would', 'best', 'fiends', '.', 'It', 'feels', 'like', 'my', 'brain', '.', 'Got', 'a', 'great', 'workout', '.', 'What', \"'s\", 'best', 'fiends', '.', 'You', 'ask', '?', 'Well', ',', 'it', \"'s\", 'the', 'mobile', 'puzzle', 'game', 'that', 'will', 'put', 'A', 'challenge', 'to', 'your', 'Noggin', ',', 'and', 'it', \"'s\", 'kind', 'of', 'like', 'you', 'did', 'a', 'workout', '.', 'But', 'again', ',', 'for', 'your', 'brain', ',', 'not', 'only', 'that', ',', 'best', 'fiends', 'is', 'so', 'fun', '.']\n",
            "51\n",
            "51\n",
            "so   0.031916312478333944\n",
            "it   0.03504722937741668\n",
            "time   0.03859677020387196\n",
            "but   0.04269441436617964\n",
            "would   0.04269441436617964\n",
            "going   0.0475408987520856\n",
            "unfortunately   0.05347251625402535\n",
            "let   0.05347251625402535\n",
            "back   0.05347251625402535\n",
            "guess   0.05347251625402535\n",
            "my   0.05347251625402535\n",
            "great   0.05347251625402535\n",
            "get   0.0611197012427883\n",
            "puzzle   0.0611197012427883\n",
            "game   0.0611197012427883\n",
            "know   0.07009445875483336\n",
            "thing   0.07189780313063401\n",
            "peaceful   0.07189780313063401\n",
            "end   0.07189780313063401\n",
            "shit   0.07189780313063401\n",
            "pause   0.07189780313063401\n",
            "word   0.07189780313063401\n",
            "sponsor   0.07189780313063401\n",
            "to   0.07189780313063401\n",
            "normal   0.07189780313063401\n",
            "swear   0.07189780313063401\n",
            "quarantine   0.07189780313063401\n",
            "felt   0.07189780313063401\n",
            "mush   0.07189780313063401\n",
            "exercise   0.07189780313063401\n",
            "muscle   0.07189780313063401\n",
            "feels   0.07189780313063401\n",
            "ask   0.07189780313063401\n",
            "mobile   0.07189780313063401\n",
            "challenge   0.07189780313063401\n",
            "kind   0.1069450325080507\n",
            "you   0.1069450325080507\n",
            "they   0.11579031061161589\n",
            "what   0.1222394024855766\n",
            "mean   0.1222394024855766\n",
            "right   0.12808324309853894\n",
            "like   0.13291035001919907\n",
            "bruin   0.14379560626126803\n",
            "getting   0.14379560626126803\n",
            "workout   0.14379560626126803\n",
            "put   0.14379560626126803\n",
            "need   0.18335910372836492\n",
            "fun   0.18335910372836492\n",
            "brain   0.21569340939190204\n",
            "best   0.2444788049711532\n",
            "fiends   0.2444788049711532\n"
          ]
        }
      ]
    },
    {
      "cell_type": "markdown",
      "source": [
        "#### 詞性test"
      ],
      "metadata": {
        "id": "8UbP1qz5VVok"
      }
    },
    {
      "cell_type": "code",
      "source": [
        "import nltk\n",
        "from nltk.tokenize import word_tokenize\n",
        "from nltk.tag import pos_tag\n",
        "nltk.download('averaged_perceptron_tagger')\n",
        "ex = 'European authorities fined Google a record $5.1 billion on Wednesday for abusing its power in the mobile phone market and ordered the company to alter its practices'\n",
        "def preprocess(sent):\n",
        "    sent = nltk.word_tokenize(sent)\n",
        "    sent = nltk.pos_tag(sent)\n",
        "    return sent\n",
        "sent = preprocess(ex)\n",
        "sent"
      ],
      "metadata": {
        "id": "Ely-ZuxSUFIU",
        "outputId": "42077501-ce1e-427c-8185-c8df917258c6",
        "colab": {
          "base_uri": "https://localhost:8080/"
        }
      },
      "execution_count": 45,
      "outputs": [
        {
          "output_type": "stream",
          "name": "stdout",
          "text": [
            "[nltk_data] Downloading package averaged_perceptron_tagger to\n",
            "[nltk_data]     /root/nltk_data...\n",
            "[nltk_data]   Package averaged_perceptron_tagger is already up-to-\n",
            "[nltk_data]       date!\n"
          ]
        },
        {
          "output_type": "execute_result",
          "data": {
            "text/plain": [
              "[('European', 'JJ'),\n",
              " ('authorities', 'NNS'),\n",
              " ('fined', 'VBD'),\n",
              " ('Google', 'NNP'),\n",
              " ('a', 'DT'),\n",
              " ('record', 'NN'),\n",
              " ('$', '$'),\n",
              " ('5.1', 'CD'),\n",
              " ('billion', 'CD'),\n",
              " ('on', 'IN'),\n",
              " ('Wednesday', 'NNP'),\n",
              " ('for', 'IN'),\n",
              " ('abusing', 'VBG'),\n",
              " ('its', 'PRP$'),\n",
              " ('power', 'NN'),\n",
              " ('in', 'IN'),\n",
              " ('the', 'DT'),\n",
              " ('mobile', 'JJ'),\n",
              " ('phone', 'NN'),\n",
              " ('market', 'NN'),\n",
              " ('and', 'CC'),\n",
              " ('ordered', 'VBD'),\n",
              " ('the', 'DT'),\n",
              " ('company', 'NN'),\n",
              " ('to', 'TO'),\n",
              " ('alter', 'VB'),\n",
              " ('its', 'PRP$'),\n",
              " ('practices', 'NNS')]"
            ]
          },
          "metadata": {},
          "execution_count": 45
        }
      ]
    },
    {
      "cell_type": "markdown",
      "source": [
        "# 篩出名詞"
      ],
      "metadata": {
        "id": "q-ePkB9eVZ0U"
      }
    },
    {
      "cell_type": "code",
      "source": [
        "import nltk\n",
        "from nltk.tokenize import word_tokenize\n",
        "from nltk.tag import pos_tag\n",
        "nltk.download('averaged_perceptron_tagger')\n",
        "def preprocess(sent):\n",
        "    sent = nltk.pos_tag(sent)\n",
        "    return sent\n",
        "part = preprocess(keyword_sponsor)\n"
      ],
      "metadata": {
        "id": "ILsOS3v7VgpE",
        "outputId": "da06b78f-328e-465a-8ec7-83edb44a9e6e",
        "colab": {
          "base_uri": "https://localhost:8080/"
        }
      },
      "execution_count": 56,
      "outputs": [
        {
          "output_type": "stream",
          "name": "stdout",
          "text": [
            "[nltk_data] Downloading package averaged_perceptron_tagger to\n",
            "[nltk_data]     /root/nltk_data...\n",
            "[nltk_data]   Package averaged_perceptron_tagger is already up-to-\n",
            "[nltk_data]       date!\n"
          ]
        }
      ]
    },
    {
      "cell_type": "code",
      "source": [
        "select_word = []\n",
        "#part = part.reverse()\n",
        "for i in range(len(part)):\n",
        "  if(part[i][1]=='NN' or part[i][1]=='NNS' or part[i][1]=='JJ'):\n",
        "    select_word.append(part[i][j])"
      ],
      "metadata": {
        "id": "CWRXC1TWXBOd"
      },
      "execution_count": 58,
      "outputs": []
    },
    {
      "cell_type": "code",
      "source": [
        "select_word"
      ],
      "metadata": {
        "id": "wVQkCF2kYgRN",
        "outputId": "41dfc353-0caa-4d82-f404-8a5c15c588fa",
        "colab": {
          "base_uri": "https://localhost:8080/"
        }
      },
      "execution_count": 59,
      "outputs": [
        {
          "output_type": "execute_result",
          "data": {
            "text/plain": [
              "['time',\n",
              " 'guess',\n",
              " 'great',\n",
              " 'puzzle',\n",
              " 'game',\n",
              " 'know',\n",
              " 'thing',\n",
              " 'peaceful',\n",
              " 'end',\n",
              " 'shit',\n",
              " 'pause',\n",
              " 'word',\n",
              " 'sponsor',\n",
              " 'normal',\n",
              " 'swear',\n",
              " 'quarantine',\n",
              " 'mush',\n",
              " 'exercise',\n",
              " 'muscle',\n",
              " 'feels',\n",
              " 'mobile',\n",
              " 'challenge',\n",
              " 'kind',\n",
              " 'right',\n",
              " 'bruin',\n",
              " 'fun',\n",
              " 'brain',\n",
              " 'fiends']"
            ]
          },
          "metadata": {},
          "execution_count": 59
        }
      ]
    },
    {
      "cell_type": "markdown",
      "source": [
        "#### 輸出"
      ],
      "metadata": {
        "id": "4INM79L4XuM_"
      }
    },
    {
      "cell_type": "code",
      "source": [
        "part"
      ],
      "metadata": {
        "id": "KV3vMO8oXvsA",
        "outputId": "f73343d6-9c0b-4ec9-9838-c03811507a7a",
        "colab": {
          "base_uri": "https://localhost:8080/"
        }
      },
      "execution_count": 52,
      "outputs": [
        {
          "output_type": "execute_result",
          "data": {
            "text/plain": [
              "[('so', 'IN'),\n",
              " ('it', 'PRP'),\n",
              " ('time', 'NN'),\n",
              " ('but', 'CC'),\n",
              " ('would', 'MD'),\n",
              " ('going', 'VBG'),\n",
              " ('unfortunately', 'RB'),\n",
              " ('let', 'VB'),\n",
              " ('back', 'RB'),\n",
              " ('guess', 'JJ'),\n",
              " ('my', 'PRP$'),\n",
              " ('great', 'JJ'),\n",
              " ('get', 'VB'),\n",
              " ('puzzle', 'JJ'),\n",
              " ('game', 'NN'),\n",
              " ('know', 'JJ'),\n",
              " ('thing', 'NN'),\n",
              " ('peaceful', 'JJ'),\n",
              " ('end', 'NN'),\n",
              " ('shit', 'NN'),\n",
              " ('pause', 'NN'),\n",
              " ('word', 'NN'),\n",
              " ('sponsor', 'NN'),\n",
              " ('to', 'TO'),\n",
              " ('normal', 'JJ'),\n",
              " ('swear', 'JJ'),\n",
              " ('quarantine', 'NN'),\n",
              " ('felt', 'VBD'),\n",
              " ('mush', 'JJ'),\n",
              " ('exercise', 'NN'),\n",
              " ('muscle', 'NN'),\n",
              " ('feels', 'NNS'),\n",
              " ('ask', 'VBP'),\n",
              " ('mobile', 'JJ'),\n",
              " ('challenge', 'NN'),\n",
              " ('kind', 'NN'),\n",
              " ('you', 'PRP'),\n",
              " ('they', 'PRP'),\n",
              " ('what', 'WP'),\n",
              " ('mean', 'VBP'),\n",
              " ('right', 'JJ'),\n",
              " ('like', 'IN'),\n",
              " ('bruin', 'NN'),\n",
              " ('getting', 'VBG'),\n",
              " ('workout', 'IN'),\n",
              " ('put', 'VBN'),\n",
              " ('need', 'VBP'),\n",
              " ('fun', 'NN'),\n",
              " ('brain', 'NN'),\n",
              " ('best', 'JJS'),\n",
              " ('fiends', 'NNS')]"
            ]
          },
          "metadata": {},
          "execution_count": 52
        }
      ]
    },
    {
      "cell_type": "markdown",
      "source": [
        "# 去掉去掉sponsor"
      ],
      "metadata": {
        "id": "57fpzX9IYo7m"
      }
    },
    {
      "cell_type": "code",
      "source": [
        "for i in range(len(all_sentence)):\n",
        "  matches = [a for a in select_word if a in all_sentence[i]]\n",
        "  print(all_sentence[i])\n",
        "  print(matches)\n",
        "\n",
        "  "
      ],
      "metadata": {
        "id": "Z9s2owgYYrpF",
        "outputId": "b397e7e4-ab84-4986-f6c9-9e66d215a423",
        "colab": {
          "base_uri": "https://localhost:8080/"
        }
      },
      "execution_count": 61,
      "outputs": [
        {
          "output_type": "stream",
          "name": "stdout",
          "text": [
            "Hi friends. \n",
            "['end']\n",
            "Happy Wednesday or Thursday if you're watching over on YouTube. \n",
            "[]\n",
            "Hey, how are you doing? \n",
            "[]\n",
            "I hope you're having a wonderful day so far. \n",
            "[]\n",
            "My name is Bailey serían and this is the dark History Podcast. \n",
            "[]\n",
            "Whew, I need a theme song for dark history. \n",
            "[]\n",
            "Don't, I'm any. \n",
            "[]\n",
            "who, I'm here to talk about some dark ass history that we never learned in school or I should, at least say that. \n",
            "[]\n",
            "I never learned in school. \n",
            "[]\n",
            "If you're new here. \n",
            "[]\n",
            "Hi, welcome. \n",
            "[]\n",
            "Come. \n",
            "[]\n",
            "Take a seat by me. \n",
            "[]\n",
            "Don't be shy if you're And learning about people and events that your history books didn't cover in school. \n",
            "[]\n",
            "The maybe should have then you'll fit in right in here with us. \n",
            "['right']\n",
            "Okay. \n",
            "[]\n",
            "Look today's story. \n",
            "[]\n",
            "It's uncomfortable. \n",
            "[]\n",
            "Okay, it's heartbreaking. \n",
            "[]\n",
            "It's just, it's set. \n",
            "[]\n",
            "It's awful. \n",
            "[]\n",
            "It's sad. \n",
            "[]\n",
            "There's, those are all the words. \n",
            "['word']\n",
            "I can think of it, just doesn't make any sense. \n",
            "[]\n",
            "But with all of that being said, there's really like no sugarcoating this. \n",
            "[]\n",
            "This is what happened. \n",
            "[]\n",
            "And it's when more honest and when we're transparent that we can learn and grow together, you know, but most of all not let history repeat itself. \n",
            "['know']\n",
            "So let's set the scene. \n",
            "[]\n",
            "It's New Years Day 1923 and many people are waking up from celebrating the New Year. \n",
            "[]\n",
            "Some of them are still wearing a flapper dress or a suit tired from dancing. \n",
            "[]\n",
            "The night away in a jazz club, or maybe they're hung over from buying illegal drinks at a speakeasy. \n",
            "[]\n",
            "Yes. \n",
            "[]\n",
            "Oh, yes. \n",
            "[]\n",
            "It was still illegal to buy alcohol wild, right? \n",
            "['right']\n",
            "Of course, though. \n",
            "[]\n",
            "That was more of like the upscale City Vibe. \n",
            "[]\n",
            "If you were in the country had little less. \n",
            "[]\n",
            "Pocket change to spend or were to straightedge to visit, like those kind of illegal joints. \n",
            "['end', 'kind']\n",
            "Then you probably had a quieter evening of staying at home and ringing in the new year with with your loved ones, you know, now 1923 in general President Warren G, Harding would die in office, the Yankee Stadium would be built in the Bronx and the original Hollywood sign would be built. \n",
            "['know']\n",
            "Oh, yeah, Hollywood was originally called Hollywood land, but we could say that for another episode, babe. \n",
            "[]\n",
            "Before all of that, on the morning of January, first, nineteen, twenty three thirty year old James and his 22-year old wife, Fanny, Taylor woke up at a home and a town called Sumner, a neighboring community of Rosewood, Florida, that morning. \n",
            "[]\n",
            "James Taylor goes to work like he did any other day. \n",
            "[]\n",
            "But while James was at work, something happens to his wife Fanny. \n",
            "['thing']\n",
            "That boy, it just triggers a domino effect, a horrific domino effect. \n",
            "[]\n",
            "It leads to the Murders of innocent people, the destruction of a town and the displacement of an entire Community changing Rosewood forever who just sounds traumatic. \n",
            "[]\n",
            "I know because it is, welcome. \n",
            "['know']\n",
            "Hi. \n",
            "[]\n",
            "This episode friends were going to be talking about the Rosewood Massacre. \n",
            "['end']\n",
            "Have you heard of it? \n",
            "[]\n",
            "Yeah, exactly. \n",
            "[]\n",
            "Exactly. \n",
            "[]\n",
            "I didn't this one, just it completely blew. \n",
            "[]\n",
            "My mind is like why in the Waldo? \n",
            "[]\n",
            "Did we not learned about this in school? \n",
            "[]\n",
            "Correction? \n",
            "[]\n",
            "I can only speak for myself here. \n",
            "[]\n",
            "So, why in the Waldo did my history books? \n",
            "[]\n",
            "Not teach this Rosewood Massacre? \n",
            "[]\n",
            "Yeah. \n",
            "[]\n",
            "It happened. \n",
            "[]\n",
            "Let's discuss and learn together. \n",
            "[]\n",
            "What took place in 1923, Rosewood, Florida. \n",
            "[]\n",
            "Buckling, kitty cats. \n",
            "[]\n",
            "This is just what? \n",
            "[]\n",
            "Yeah, I'm great with words. \n",
            "['great', 'word']\n",
            "Obviously. \n",
            "[]\n",
            "That's why I started a podcast. \n",
            "[]\n",
            "The beginning, great place. \n",
            "['great']\n",
            "Start the town of Rosewood was established in the mid eighteen. \n",
            "[]\n",
            "Hundreds white families, had moved here prior to the Civil War and black landowner started to move in in the 1870s. \n",
            "[]\n",
            "It's located in the State of Florida and it's just nine miles east of the Gulf of Mexico. \n",
            "[]\n",
            "The name Rosewood. \n",
            "[]\n",
            "It came from the red cedar trees that were all over the land there. \n",
            "[]\n",
            "Fun fact, alert Boo. \n",
            "[]\n",
            "Boo. \n",
            "[]\n",
            " \n",
            "[]\n",
            "Did you know that when you cut open a red cedar tree, the cedar has a pale pink color inside? \n",
            "['know']\n",
            "Yeah, I guess it's like super pretty. \n",
            "['guess']\n",
            "Super beautiful. \n",
            "[]\n",
            "But did you also know that if you cut me open? \n",
            "['know']\n",
            "I've got a little pink inside a LOL. \n",
            "[]\n",
            "Anyways, so they called the town Rosewood after the pink color. \n",
            "[]\n",
            "Okay. \n",
            "[]\n",
            "Nice, right. \n",
            "['right']\n",
            "Well, as we've learned through history, we can't have nice things. \n",
            "['thing']\n",
            "So when people saw the really pretty color that was inside of these beautiful incredible trees. \n",
            "[]\n",
            "What do you think? \n",
            "[]\n",
            "They did? \n",
            "[]\n",
            "Yes, they cut them all down. \n",
            "[]\n",
            "They cut them down and they sold the A now because of this they made a pretty decent amount of money and it supported the economy of the town but still, you know sad for the trees by the year 1886 the town had developed quite a bit. \n",
            "['know']\n",
            "It had its own post office, a Schoolhouse and they were three churches one for the white people into for the black people. \n",
            "[]\n",
            "Remember, we're talking about a time that's very much a segregated America. \n",
            "['time']\n",
            "So four years later in 1890 the town began to hit some hard times. \n",
            "['time']\n",
            "All the red cedar trees had been chopped down and without the trees. \n",
            "[]\n",
            "There's no money to be made which in turn leads to the town's economic decline because of the loss of income and not many available jobs, many members of the white Community left, Rosewood, and headed to the nearby town of Sumner Sumner was appealing because there was a large Sawmill which provided tons of jobs and right now the people needed work, so, sign me up for Sumner, you know, so by the 1900. \n",
            "['know', 'right']\n",
            "The Rosewood population. \n",
            "[]\n",
            "Have now shifted to a majority black community. \n",
            "[]\n",
            "Now, with, in Rosewood. \n",
            "[]\n",
            "There was a really close sense of community. \n",
            "[]\n",
            "Like, everyone seemed to know one another and looked out for one another as well. \n",
            "['know']\n",
            "I mean, rarely did anyone need to leave town like to travel for food or for things? \n",
            "['thing']\n",
            "They may need because they had almost everything right there with in Rosewood, in addition to the three churches Schoolhouse and post office Rosewood also had a train station. \n",
            "['thing', 'right']\n",
            "In which will become important later a general store, and a Sugar Mill. \n",
            "[]\n",
            "Plus, if you were looking for some fun, they even had a Rosewood baseball team. \n",
            "['fun']\n",
            "What I'm getting at is, Rosewood, was overall, just a nice place. \n",
            "[]\n",
            "So, for over 20 years, the people of rosewood's stayed with in Rosewood and the people of Sumner, the neighboring town. \n",
            "[]\n",
            "They stayed within Sumner, they coexisted. \n",
            "[]\n",
            "They had their own Communities going on and they were just doing their own thing, but unfortunately, that peaceful time was about To end because some shit was a bruin, but before we get into, what was a bruin, let's pause for a word from our sponsor. \n",
            "['time', 'thing', 'peaceful', 'end', 'shit', 'pause', 'word', 'sponsor', 'bruin']\n",
            "Things are kind of getting back to normal, I guess, right? \n",
            "['guess', 'normal', 'kind', 'right']\n",
            "Yeah, but I swear to you over quarantine. \n",
            "['swear', 'quarantine']\n",
            "My brain has felt like mush and need some exercise. \n",
            "['mush', 'exercise', 'brain']\n",
            "I mean, it is a muscle, right, you know, any who would best fiends. \n",
            "['know', 'end', 'muscle', 'right', 'fiends']\n",
            "It feels like my brain. \n",
            "['feels', 'brain']\n",
            "Got a great workout. \n",
            "['great']\n",
            "What's best fiends. \n",
            "['end', 'fiends']\n",
            "You ask? \n",
            "[]\n",
            "Well, it's the mobile puzzle game that will put A challenge to your Noggin, and it's kind of like you did a workout. \n",
            "['puzzle', 'game', 'mobile', 'challenge', 'kind']\n",
            "But again, for your brain, not only that, best fiends is so fun. \n",
            "['end', 'fun', 'brain', 'fiends']\n",
            "You won't want to put it down + best. \n",
            "[]\n",
            "Fiends has literally thousands of fun, puzzles to solve. \n",
            "['puzzle', 'end', 'fun']\n",
            "I'm currently on level 50 with like a lot more to go. \n",
            "[]\n",
            "So, there's really nothing to brag about their. \n",
            "['thing']\n",
            "There's literally something new to play every day. \n",
            "['thing']\n",
            "And the characters are just so adorable. \n",
            "[]\n",
            "I want to be best fiends with them. \n",
            "['end', 'fiends']\n",
            "Best means it's constantly putting out updates. \n",
            "[]\n",
            "So there's always something new. \n",
            "['thing']\n",
            "You exciting to explore, whenever I'm feeling a little bored or I have like, you know some time to kill between these Zoom meetings. \n",
            "['time', 'know']\n",
            "I just bust out my phone and go straight to best fiends to tackle. \n",
            "['end', 'fiends']\n",
            "Some puzzles. \n",
            "['puzzle']\n",
            "Download the five-star rated puzzle game. \n",
            "['puzzle', 'game']\n",
            "Best fiends free today on the app store or Google Play. \n",
            "['end', 'fiends']\n",
            "That's best friends without the our best fiends. \n",
            "['end', 'fiends']\n",
            "Thanks. \n",
            "[]\n",
            "Best beans for partnering with me on today's episode. \n",
            "[]\n",
            "Okay. \n",
            "[]\n",
            "Remember, it's January 1st. \n",
            "[]\n",
            "1923 our young couple James. \n",
            "[]\n",
            "And Fanny Taylor who are white are waking up on the first day of the new year. \n",
            "[]\n",
            "And James was like, goodbye Fanny. \n",
            "[]\n",
            "Like I'm off to work. \n",
            "[]\n",
            "I love you. \n",
            "[]\n",
            "Babe. \n",
            "[]\n",
            "You know and Fanny is like, oh my God. \n",
            "['know']\n",
            "Yeah. \n",
            "[]\n",
            "Have a good day whenever that's probably what they did. \n",
            "[]\n",
            "Anyway, so James leaves his wife Fanny home alone because he has to go to work. \n",
            "[]\n",
            "He works at The Sawmill in Sumner which was about one mile east of Rosewood. \n",
            "[]\n",
            "Now while James is at work, Milling saws Fanny whose back at home. \n",
            "[]\n",
            "Rumor had it. \n",
            "[]\n",
            "Someone had attacked her. \n",
            "[]\n",
            "Oh, yeah. \n",
            "[]\n",
            "Oh, yeah, the neighbors heard screams. \n",
            "[]\n",
            "They heard screams coming from within the Taylor's home and they were like, oh my God, you know, like what's going on screaming? \n",
            "['know']\n",
            "Hmm. \n",
            "[]\n",
            "So for you and I, we'd probably go and like check it out, right would be like, oh my God, they're screaming. \n",
            "['right']\n",
            "Are you okay, but for Fanny's neighbors, they heard the screams and then they just left it alone. \n",
            "[]\n",
            "Great. \n",
            "[]\n",
            "Yeah, awesome. \n",
            "[]\n",
            "So some time goes by and James comes home from Mark, and when he gets home, he sees that fanny has a big bruise on her face. \n",
            "['time']\n",
            "It's clear that somebody had hit her pretty badly. \n",
            "[]\n",
            "So he asked her, you know, who did this to you and Fanny tells him that a black man assaulted her. \n",
            "['know']\n",
            "She's like, I don't know who it was, but it was definitely a black man. \n",
            "['know']\n",
            "According to Fanny. \n",
            "[]\n",
            "Hmm. \n",
            "[]\n",
            "I mean, this could be possible. \n",
            "[]\n",
            "This guy came in randomly, beat her, I guess in her own house, but remember, Like this is a small town. \n",
            "['guess']\n",
            "In fact, both Sumner and Rosewood were so small that most people recognize one another. \n",
            "[]\n",
            "So Are you sure we honey? \n",
            "[]\n",
            "Are you sure that's what you saw Fanny? \n",
            "[]\n",
            "The fact that Fanny like, could not name the person who attacked her. \n",
            "[]\n",
            "That should have been the first red flag. \n",
            "[]\n",
            "Okay. \n",
            "[]\n",
            "That maybe this person that quote unquote attacked her. \n",
            "[]\n",
            "That should have been the first red flag. \n",
            "[]\n",
            "Okay. \n",
            "[]\n",
            "That maybe this person that quote unquote attacked her was not a resident from Rosewood. \n",
            "[]\n",
            "I'm telling you, I'm not kidding you. \n",
            "[]\n",
            "If you lived in Rosewood, you would know your neighbors everybody knew each other. \n",
            "['know']\n",
            "But Fanny would most likely know this person because again, the likelihood of her not knowing is presumptive, not? \n",
            "['know']\n",
            "So sure Fanny sure. \n",
            "[]\n",
            "Again, because it's a 1920s. \n",
            "[]\n",
            "Unfortunately, this is a time when a white woman made, bold claims of being attacked by a black person. \n",
            "['time']\n",
            "Nobody questioned it. \n",
            "[]\n",
            "They just believed it to be true. \n",
            "[]\n",
            "So they didn't question Fanny story for one second. \n",
            "[]\n",
            "Like, oh my God. \n",
            "[]\n",
            "She was beaten by a block man. \n",
            "[]\n",
            "Like we are so angry and nobody wanted to like double check and make sure she what you she wasn't lying. \n",
            "[]\n",
            "They just went with it. \n",
            "[]\n",
            "People are talking with in Rose Water. \n",
            "[]\n",
            "Okay, and this story about Fanny gets back to a woman by the name of Sarah carrier and she's like, wait a minute. \n",
            "[]\n",
            "Wait a minute. \n",
            "[]\n",
            " \n",
            "[]\n",
            " \n",
            "[]\n",
            "That's not true. \n",
            "[]\n",
            "Sarah said that she was at the Taylor's Home, the morning of that so-called attack, and not just that, but her granddaughter was there with her and neither of them saw black man, attack Fanny. \n",
            "[]\n",
            "Alone. \n",
            "[]\n",
            "Even enter their house. \n",
            "[]\n",
            "Well, you're probably wondering really Who the hell's Sarah? \n",
            "[]\n",
            "Okay. \n",
            "[]\n",
            "Well Sarah, she had been working for the Tailor's for quite some time. \n",
            "['time']\n",
            "She was there that day with her granddaughter doing the Taylor's laundry. \n",
            "[]\n",
            "Now, Sarah said that she actually saw a white man leaving the Taylor house that morning. \n",
            "[]\n",
            "She said, she never saw a black man. \n",
            "[]\n",
            "Come by the house all day. \n",
            "[]\n",
            "Now, get this. \n",
            "[]\n",
            "Get this. \n",
            "[]\n",
            "Sarah recognize this white man. \n",
            "[]\n",
            "She had seen him come by the house once or twice before. \n",
            "[]\n",
            "Hmm. \n",
            "[]\n",
            "Sarah had believed that this man and Fanny were having some kind of Winky dinky. \n",
            "['kind']\n",
            "If you're not on me. \n",
            "[]\n",
            "Sarah said that this man was actually the guy that beat Fanny that morning and that she was just lying to cover her ass because she's probably having an affair. \n",
            "[]\n",
            "And she doesn't want people to know Fanny. \n",
            "['know']\n",
            "So Sarah's version is now going around town. \n",
            "[]\n",
            "It's spreading like wildfire within the black community. \n",
            "[]\n",
            "They all 100% believed her. \n",
            "[]\n",
            "Why would she lie? \n",
            "[]\n",
            "Whoa, why would she lie, unfortunately, though the white voices were louder within the community and made it very clear. \n",
            "[]\n",
            "That Fanny was quote. \n",
            "[]\n",
            "Not a liar. \n",
            "[]\n",
            "She was telling the truth, okay. \n",
            "[]\n",
            "I freaking roll, right? \n",
            "['right']\n",
            "It gets a lot more traumatic talking amongst the accusers and name comes up, Jesse Hunter, and they think they're disgusting. \n",
            "[]\n",
            "They're like, hey, Jesse Hunter. \n",
            "[]\n",
            "This is our guy. \n",
            "[]\n",
            "This is the guy who did it.\n",
            "\n",
            "[]\n"
          ]
        }
      ]
    },
    {
      "cell_type": "code",
      "source": [
        "num = 5\n",
        "match_num=1\n",
        "before_flag = [0]*num\n",
        "is_sponsor = []\n",
        "for i in range(len(all_sentence)):\n",
        "  if(\"sponsor\" in all_sentence[i]):\n",
        "    for j in range(i,len(all_sentence)):\n",
        "      matches = [a for a in select_word if a in all_sentence[j]]\n",
        "      \n",
        "      for f in range(num-1,0,-1):\n",
        "        before_flag[f] = before_flag[f-1]\n",
        "      if(len(matches)>match_num): before_flag[0] = 1\n",
        "      else: before_flag[0] = 0\n",
        "      print(before_flag)\n",
        "      flag=0\n",
        "      for f in range(num):\n",
        "        if(before_flag[f]==1): \n",
        "          flag=1\n",
        "          break\n",
        "      if(flag==1):\n",
        "        if((j-num-1)>=i): is_sponsor.append(all_sentence[j-num-1])\n",
        "        \n",
        "      else:\n",
        "        is_sponsor.append(\"----------------------------------------------------------------\")\n",
        "        break\n",
        "    break"
      ],
      "metadata": {
        "id": "YFnhwseias5v",
        "outputId": "fa61a451-6200-48d2-bd1b-d4e7ec20f4bb",
        "colab": {
          "base_uri": "https://localhost:8080/"
        }
      },
      "execution_count": 80,
      "outputs": [
        {
          "output_type": "stream",
          "name": "stdout",
          "text": [
            "[1, 0, 0, 0, 0]\n",
            "[1, 1, 0, 0, 0]\n",
            "[1, 1, 1, 0, 0]\n",
            "[1, 1, 1, 1, 0]\n",
            "[1, 1, 1, 1, 1]\n",
            "[1, 1, 1, 1, 1]\n",
            "[0, 1, 1, 1, 1]\n",
            "[1, 0, 1, 1, 1]\n",
            "[0, 1, 0, 1, 1]\n",
            "[1, 0, 1, 0, 1]\n",
            "[1, 1, 0, 1, 0]\n",
            "[0, 1, 1, 0, 1]\n",
            "[1, 0, 1, 1, 0]\n",
            "[0, 1, 0, 1, 1]\n",
            "[0, 0, 1, 0, 1]\n",
            "[0, 0, 0, 1, 0]\n",
            "[0, 0, 0, 0, 1]\n",
            "[1, 0, 0, 0, 0]\n",
            "[0, 1, 0, 0, 0]\n",
            "[0, 0, 1, 0, 0]\n",
            "[1, 0, 0, 1, 0]\n",
            "[1, 1, 0, 0, 1]\n",
            "[0, 1, 1, 0, 0]\n",
            "[1, 0, 1, 1, 0]\n",
            "[1, 1, 0, 1, 1]\n",
            "[1, 1, 1, 0, 1]\n",
            "[0, 1, 1, 1, 0]\n",
            "[0, 0, 1, 1, 1]\n",
            "[0, 0, 0, 1, 1]\n",
            "[0, 0, 0, 0, 1]\n",
            "[0, 0, 0, 0, 0]\n"
          ]
        }
      ]
    },
    {
      "cell_type": "code",
      "source": [
        "for sent in is_sponsor: \n",
        "  print(sent)"
      ],
      "metadata": {
        "id": "2uh25Nk5cyYn",
        "outputId": "f29f798f-a0bc-4005-dba1-94e7a446dee0",
        "colab": {
          "base_uri": "https://localhost:8080/"
        }
      },
      "execution_count": 81,
      "outputs": [
        {
          "output_type": "stream",
          "name": "stdout",
          "text": [
            "They had their own Communities going on and they were just doing their own thing, but unfortunately, that peaceful time was about To end because some shit was a bruin, but before we get into, what was a bruin, let's pause for a word from our sponsor. \n",
            "Things are kind of getting back to normal, I guess, right? \n",
            "Yeah, but I swear to you over quarantine. \n",
            "My brain has felt like mush and need some exercise. \n",
            "I mean, it is a muscle, right, you know, any who would best fiends. \n",
            "It feels like my brain. \n",
            "Got a great workout. \n",
            "What's best fiends. \n",
            "You ask? \n",
            "Well, it's the mobile puzzle game that will put A challenge to your Noggin, and it's kind of like you did a workout. \n",
            "But again, for your brain, not only that, best fiends is so fun. \n",
            "You won't want to put it down + best. \n",
            "Fiends has literally thousands of fun, puzzles to solve. \n",
            "I'm currently on level 50 with like a lot more to go. \n",
            "So, there's really nothing to brag about their. \n",
            "There's literally something new to play every day. \n",
            "And the characters are just so adorable. \n",
            "I want to be best fiends with them. \n",
            "Best means it's constantly putting out updates. \n",
            "So there's always something new. \n",
            "You exciting to explore, whenever I'm feeling a little bored or I have like, you know some time to kill between these Zoom meetings. \n",
            "I just bust out my phone and go straight to best fiends to tackle. \n",
            "Some puzzles. \n",
            "Download the five-star rated puzzle game. \n",
            "----------------------------------------------------------------\n"
          ]
        }
      ]
    },
    {
      "cell_type": "code",
      "source": [
        "for i in range(len(all_sentence)):\n",
        "  if (all_sentence[i] in is_sponsor):\n",
        "    all_sentence[i]=\"\"\n",
        "for sent in all_sentence: \n",
        "  print(sent)"
      ],
      "metadata": {
        "id": "GwsrP7T4fGog",
        "outputId": "f7b9cbb7-3fae-4a10-89a3-5f074c520ec6",
        "colab": {
          "base_uri": "https://localhost:8080/"
        }
      },
      "execution_count": 82,
      "outputs": [
        {
          "output_type": "stream",
          "name": "stdout",
          "text": [
            "Hi friends. \n",
            "Happy Wednesday or Thursday if you're watching over on YouTube. \n",
            "Hey, how are you doing? \n",
            "I hope you're having a wonderful day so far. \n",
            "My name is Bailey serían and this is the dark History Podcast. \n",
            "Whew, I need a theme song for dark history. \n",
            "Don't, I'm any. \n",
            "who, I'm here to talk about some dark ass history that we never learned in school or I should, at least say that. \n",
            "I never learned in school. \n",
            "If you're new here. \n",
            "Hi, welcome. \n",
            "Come. \n",
            "Take a seat by me. \n",
            "Don't be shy if you're And learning about people and events that your history books didn't cover in school. \n",
            "The maybe should have then you'll fit in right in here with us. \n",
            "Okay. \n",
            "Look today's story. \n",
            "It's uncomfortable. \n",
            "Okay, it's heartbreaking. \n",
            "It's just, it's set. \n",
            "It's awful. \n",
            "It's sad. \n",
            "There's, those are all the words. \n",
            "I can think of it, just doesn't make any sense. \n",
            "But with all of that being said, there's really like no sugarcoating this. \n",
            "This is what happened. \n",
            "And it's when more honest and when we're transparent that we can learn and grow together, you know, but most of all not let history repeat itself. \n",
            "So let's set the scene. \n",
            "It's New Years Day 1923 and many people are waking up from celebrating the New Year. \n",
            "Some of them are still wearing a flapper dress or a suit tired from dancing. \n",
            "The night away in a jazz club, or maybe they're hung over from buying illegal drinks at a speakeasy. \n",
            "Yes. \n",
            "Oh, yes. \n",
            "It was still illegal to buy alcohol wild, right? \n",
            "Of course, though. \n",
            "That was more of like the upscale City Vibe. \n",
            "If you were in the country had little less. \n",
            "Pocket change to spend or were to straightedge to visit, like those kind of illegal joints. \n",
            "Then you probably had a quieter evening of staying at home and ringing in the new year with with your loved ones, you know, now 1923 in general President Warren G, Harding would die in office, the Yankee Stadium would be built in the Bronx and the original Hollywood sign would be built. \n",
            "Oh, yeah, Hollywood was originally called Hollywood land, but we could say that for another episode, babe. \n",
            "Before all of that, on the morning of January, first, nineteen, twenty three thirty year old James and his 22-year old wife, Fanny, Taylor woke up at a home and a town called Sumner, a neighboring community of Rosewood, Florida, that morning. \n",
            "James Taylor goes to work like he did any other day. \n",
            "But while James was at work, something happens to his wife Fanny. \n",
            "That boy, it just triggers a domino effect, a horrific domino effect. \n",
            "It leads to the Murders of innocent people, the destruction of a town and the displacement of an entire Community changing Rosewood forever who just sounds traumatic. \n",
            "I know because it is, welcome. \n",
            "Hi. \n",
            "This episode friends were going to be talking about the Rosewood Massacre. \n",
            "Have you heard of it? \n",
            "Yeah, exactly. \n",
            "Exactly. \n",
            "I didn't this one, just it completely blew. \n",
            "My mind is like why in the Waldo? \n",
            "Did we not learned about this in school? \n",
            "Correction? \n",
            "I can only speak for myself here. \n",
            "So, why in the Waldo did my history books? \n",
            "Not teach this Rosewood Massacre? \n",
            "Yeah. \n",
            "It happened. \n",
            "Let's discuss and learn together. \n",
            "What took place in 1923, Rosewood, Florida. \n",
            "Buckling, kitty cats. \n",
            "This is just what? \n",
            "Yeah, I'm great with words. \n",
            "Obviously. \n",
            "That's why I started a podcast. \n",
            "The beginning, great place. \n",
            "Start the town of Rosewood was established in the mid eighteen. \n",
            "Hundreds white families, had moved here prior to the Civil War and black landowner started to move in in the 1870s. \n",
            "It's located in the State of Florida and it's just nine miles east of the Gulf of Mexico. \n",
            "The name Rosewood. \n",
            "It came from the red cedar trees that were all over the land there. \n",
            "Fun fact, alert Boo. \n",
            "Boo. \n",
            " \n",
            "Did you know that when you cut open a red cedar tree, the cedar has a pale pink color inside? \n",
            "Yeah, I guess it's like super pretty. \n",
            "Super beautiful. \n",
            "But did you also know that if you cut me open? \n",
            "I've got a little pink inside a LOL. \n",
            "Anyways, so they called the town Rosewood after the pink color. \n",
            "Okay. \n",
            "Nice, right. \n",
            "Well, as we've learned through history, we can't have nice things. \n",
            "So when people saw the really pretty color that was inside of these beautiful incredible trees. \n",
            "What do you think? \n",
            "They did? \n",
            "Yes, they cut them all down. \n",
            "They cut them down and they sold the A now because of this they made a pretty decent amount of money and it supported the economy of the town but still, you know sad for the trees by the year 1886 the town had developed quite a bit. \n",
            "It had its own post office, a Schoolhouse and they were three churches one for the white people into for the black people. \n",
            "Remember, we're talking about a time that's very much a segregated America. \n",
            "So four years later in 1890 the town began to hit some hard times. \n",
            "All the red cedar trees had been chopped down and without the trees. \n",
            "There's no money to be made which in turn leads to the town's economic decline because of the loss of income and not many available jobs, many members of the white Community left, Rosewood, and headed to the nearby town of Sumner Sumner was appealing because there was a large Sawmill which provided tons of jobs and right now the people needed work, so, sign me up for Sumner, you know, so by the 1900. \n",
            "The Rosewood population. \n",
            "Have now shifted to a majority black community. \n",
            "Now, with, in Rosewood. \n",
            "There was a really close sense of community. \n",
            "Like, everyone seemed to know one another and looked out for one another as well. \n",
            "I mean, rarely did anyone need to leave town like to travel for food or for things? \n",
            "They may need because they had almost everything right there with in Rosewood, in addition to the three churches Schoolhouse and post office Rosewood also had a train station. \n",
            "In which will become important later a general store, and a Sugar Mill. \n",
            "Plus, if you were looking for some fun, they even had a Rosewood baseball team. \n",
            "What I'm getting at is, Rosewood, was overall, just a nice place. \n",
            "So, for over 20 years, the people of rosewood's stayed with in Rosewood and the people of Sumner, the neighboring town. \n",
            "They stayed within Sumner, they coexisted. \n",
            "\n",
            "\n",
            "\n",
            "\n",
            "\n",
            "\n",
            "\n",
            "\n",
            "\n",
            "\n",
            "\n",
            "\n",
            "\n",
            "\n",
            "\n",
            "\n",
            "\n",
            "\n",
            "\n",
            "\n",
            "\n",
            "\n",
            "\n",
            "\n",
            "Best fiends free today on the app store or Google Play. \n",
            "That's best friends without the our best fiends. \n",
            "Thanks. \n",
            "Best beans for partnering with me on today's episode. \n",
            "Okay. \n",
            "Remember, it's January 1st. \n",
            "1923 our young couple James. \n",
            "And Fanny Taylor who are white are waking up on the first day of the new year. \n",
            "And James was like, goodbye Fanny. \n",
            "Like I'm off to work. \n",
            "I love you. \n",
            "Babe. \n",
            "You know and Fanny is like, oh my God. \n",
            "Yeah. \n",
            "Have a good day whenever that's probably what they did. \n",
            "Anyway, so James leaves his wife Fanny home alone because he has to go to work. \n",
            "He works at The Sawmill in Sumner which was about one mile east of Rosewood. \n",
            "Now while James is at work, Milling saws Fanny whose back at home. \n",
            "Rumor had it. \n",
            "Someone had attacked her. \n",
            "Oh, yeah. \n",
            "Oh, yeah, the neighbors heard screams. \n",
            "They heard screams coming from within the Taylor's home and they were like, oh my God, you know, like what's going on screaming? \n",
            "Hmm. \n",
            "So for you and I, we'd probably go and like check it out, right would be like, oh my God, they're screaming. \n",
            "Are you okay, but for Fanny's neighbors, they heard the screams and then they just left it alone. \n",
            "Great. \n",
            "Yeah, awesome. \n",
            "So some time goes by and James comes home from Mark, and when he gets home, he sees that fanny has a big bruise on her face. \n",
            "It's clear that somebody had hit her pretty badly. \n",
            "So he asked her, you know, who did this to you and Fanny tells him that a black man assaulted her. \n",
            "She's like, I don't know who it was, but it was definitely a black man. \n",
            "According to Fanny. \n",
            "Hmm. \n",
            "I mean, this could be possible. \n",
            "This guy came in randomly, beat her, I guess in her own house, but remember, Like this is a small town. \n",
            "In fact, both Sumner and Rosewood were so small that most people recognize one another. \n",
            "So Are you sure we honey? \n",
            "Are you sure that's what you saw Fanny? \n",
            "The fact that Fanny like, could not name the person who attacked her. \n",
            "That should have been the first red flag. \n",
            "Okay. \n",
            "That maybe this person that quote unquote attacked her. \n",
            "That should have been the first red flag. \n",
            "Okay. \n",
            "That maybe this person that quote unquote attacked her was not a resident from Rosewood. \n",
            "I'm telling you, I'm not kidding you. \n",
            "If you lived in Rosewood, you would know your neighbors everybody knew each other. \n",
            "But Fanny would most likely know this person because again, the likelihood of her not knowing is presumptive, not? \n",
            "So sure Fanny sure. \n",
            "Again, because it's a 1920s. \n",
            "Unfortunately, this is a time when a white woman made, bold claims of being attacked by a black person. \n",
            "Nobody questioned it. \n",
            "They just believed it to be true. \n",
            "So they didn't question Fanny story for one second. \n",
            "Like, oh my God. \n",
            "She was beaten by a block man. \n",
            "Like we are so angry and nobody wanted to like double check and make sure she what you she wasn't lying. \n",
            "They just went with it. \n",
            "People are talking with in Rose Water. \n",
            "Okay, and this story about Fanny gets back to a woman by the name of Sarah carrier and she's like, wait a minute. \n",
            "Wait a minute. \n",
            " \n",
            " \n",
            "That's not true. \n",
            "Sarah said that she was at the Taylor's Home, the morning of that so-called attack, and not just that, but her granddaughter was there with her and neither of them saw black man, attack Fanny. \n",
            "Alone. \n",
            "Even enter their house. \n",
            "Well, you're probably wondering really Who the hell's Sarah? \n",
            "Okay. \n",
            "Well Sarah, she had been working for the Tailor's for quite some time. \n",
            "She was there that day with her granddaughter doing the Taylor's laundry. \n",
            "Now, Sarah said that she actually saw a white man leaving the Taylor house that morning. \n",
            "She said, she never saw a black man. \n",
            "Come by the house all day. \n",
            "Now, get this. \n",
            "Get this. \n",
            "Sarah recognize this white man. \n",
            "She had seen him come by the house once or twice before. \n",
            "Hmm. \n",
            "Sarah had believed that this man and Fanny were having some kind of Winky dinky. \n",
            "If you're not on me. \n",
            "Sarah said that this man was actually the guy that beat Fanny that morning and that she was just lying to cover her ass because she's probably having an affair. \n",
            "And she doesn't want people to know Fanny. \n",
            "So Sarah's version is now going around town. \n",
            "It's spreading like wildfire within the black community. \n",
            "They all 100% believed her. \n",
            "Why would she lie? \n",
            "Whoa, why would she lie, unfortunately, though the white voices were louder within the community and made it very clear. \n",
            "That Fanny was quote. \n",
            "Not a liar. \n",
            "She was telling the truth, okay. \n",
            "I freaking roll, right? \n",
            "It gets a lot more traumatic talking amongst the accusers and name comes up, Jesse Hunter, and they think they're disgusting. \n",
            "They're like, hey, Jesse Hunter. \n",
            "This is our guy. \n",
            "This is the guy who did it.\n",
            "\n"
          ]
        }
      ]
    }
  ]
}
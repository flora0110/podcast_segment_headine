{
  "nbformat": 4,
  "nbformat_minor": 0,
  "metadata": {
    "colab": {
      "name": "Similarity_multi-qa-MiniLM-L6-cos-v1.ipynb",
      "provenance": [],
      "authorship_tag": "ABX9TyOXhJs1rhjU3YWzwyafxCB5",
      "include_colab_link": true
    },
    "kernelspec": {
      "name": "python3",
      "display_name": "Python 3"
    },
    "language_info": {
      "name": "python"
    }
  },
  "cells": [
    {
      "cell_type": "markdown",
      "metadata": {
        "id": "view-in-github",
        "colab_type": "text"
      },
      "source": [
        "<a href=\"https://colab.research.google.com/github/flora0110/podcast_segment_headine/blob/main/Similarity_multi_qa_MiniLM_L6_cos_v1.ipynb\" target=\"_parent\"><img src=\"https://colab.research.google.com/assets/colab-badge.svg\" alt=\"Open In Colab\"/></a>"
      ]
    },
    {
      "cell_type": "code",
      "execution_count": 1,
      "metadata": {
        "colab": {
          "base_uri": "https://localhost:8080/"
        },
        "id": "9jwQmb_fX7R6",
        "outputId": "49aa591c-ab11-4ac4-d991-227d44e4fac9"
      },
      "outputs": [
        {
          "output_type": "stream",
          "name": "stdout",
          "text": [
            "Collecting sentence-transformers\n",
            "  Downloading sentence-transformers-2.2.0.tar.gz (79 kB)\n",
            "\u001b[K     |████████████████████████████████| 79 kB 2.5 MB/s \n",
            "\u001b[?25hCollecting transformers<5.0.0,>=4.6.0\n",
            "  Downloading transformers-4.18.0-py3-none-any.whl (4.0 MB)\n",
            "\u001b[K     |████████████████████████████████| 4.0 MB 8.5 MB/s \n",
            "\u001b[?25hRequirement already satisfied: tqdm in /usr/local/lib/python3.7/dist-packages (from sentence-transformers) (4.64.0)\n",
            "Requirement already satisfied: torch>=1.6.0 in /usr/local/lib/python3.7/dist-packages (from sentence-transformers) (1.11.0+cu113)\n",
            "Requirement already satisfied: torchvision in /usr/local/lib/python3.7/dist-packages (from sentence-transformers) (0.12.0+cu113)\n",
            "Requirement already satisfied: numpy in /usr/local/lib/python3.7/dist-packages (from sentence-transformers) (1.21.6)\n",
            "Requirement already satisfied: scikit-learn in /usr/local/lib/python3.7/dist-packages (from sentence-transformers) (1.0.2)\n",
            "Requirement already satisfied: scipy in /usr/local/lib/python3.7/dist-packages (from sentence-transformers) (1.4.1)\n",
            "Requirement already satisfied: nltk in /usr/local/lib/python3.7/dist-packages (from sentence-transformers) (3.2.5)\n",
            "Collecting sentencepiece\n",
            "  Downloading sentencepiece-0.1.96-cp37-cp37m-manylinux_2_17_x86_64.manylinux2014_x86_64.whl (1.2 MB)\n",
            "\u001b[K     |████████████████████████████████| 1.2 MB 50.2 MB/s \n",
            "\u001b[?25hCollecting huggingface-hub\n",
            "  Downloading huggingface_hub-0.5.1-py3-none-any.whl (77 kB)\n",
            "\u001b[K     |████████████████████████████████| 77 kB 3.6 MB/s \n",
            "\u001b[?25hRequirement already satisfied: typing-extensions in /usr/local/lib/python3.7/dist-packages (from torch>=1.6.0->sentence-transformers) (4.2.0)\n",
            "Requirement already satisfied: importlib-metadata in /usr/local/lib/python3.7/dist-packages (from transformers<5.0.0,>=4.6.0->sentence-transformers) (4.11.3)\n",
            "Collecting pyyaml>=5.1\n",
            "  Downloading PyYAML-6.0-cp37-cp37m-manylinux_2_5_x86_64.manylinux1_x86_64.manylinux_2_12_x86_64.manylinux2010_x86_64.whl (596 kB)\n",
            "\u001b[K     |████████████████████████████████| 596 kB 45.4 MB/s \n",
            "\u001b[?25hRequirement already satisfied: packaging>=20.0 in /usr/local/lib/python3.7/dist-packages (from transformers<5.0.0,>=4.6.0->sentence-transformers) (21.3)\n",
            "Requirement already satisfied: regex!=2019.12.17 in /usr/local/lib/python3.7/dist-packages (from transformers<5.0.0,>=4.6.0->sentence-transformers) (2019.12.20)\n",
            "Requirement already satisfied: requests in /usr/local/lib/python3.7/dist-packages (from transformers<5.0.0,>=4.6.0->sentence-transformers) (2.23.0)\n",
            "Requirement already satisfied: filelock in /usr/local/lib/python3.7/dist-packages (from transformers<5.0.0,>=4.6.0->sentence-transformers) (3.6.0)\n",
            "Collecting tokenizers!=0.11.3,<0.13,>=0.11.1\n",
            "  Downloading tokenizers-0.12.1-cp37-cp37m-manylinux_2_12_x86_64.manylinux2010_x86_64.whl (6.6 MB)\n",
            "\u001b[K     |████████████████████████████████| 6.6 MB 55.5 MB/s \n",
            "\u001b[?25hCollecting sacremoses\n",
            "  Downloading sacremoses-0.0.49-py3-none-any.whl (895 kB)\n",
            "\u001b[K     |████████████████████████████████| 895 kB 53.7 MB/s \n",
            "\u001b[?25hRequirement already satisfied: pyparsing!=3.0.5,>=2.0.2 in /usr/local/lib/python3.7/dist-packages (from packaging>=20.0->transformers<5.0.0,>=4.6.0->sentence-transformers) (3.0.8)\n",
            "Requirement already satisfied: zipp>=0.5 in /usr/local/lib/python3.7/dist-packages (from importlib-metadata->transformers<5.0.0,>=4.6.0->sentence-transformers) (3.8.0)\n",
            "Requirement already satisfied: six in /usr/local/lib/python3.7/dist-packages (from nltk->sentence-transformers) (1.15.0)\n",
            "Requirement already satisfied: chardet<4,>=3.0.2 in /usr/local/lib/python3.7/dist-packages (from requests->transformers<5.0.0,>=4.6.0->sentence-transformers) (3.0.4)\n",
            "Requirement already satisfied: urllib3!=1.25.0,!=1.25.1,<1.26,>=1.21.1 in /usr/local/lib/python3.7/dist-packages (from requests->transformers<5.0.0,>=4.6.0->sentence-transformers) (1.24.3)\n",
            "Requirement already satisfied: idna<3,>=2.5 in /usr/local/lib/python3.7/dist-packages (from requests->transformers<5.0.0,>=4.6.0->sentence-transformers) (2.10)\n",
            "Requirement already satisfied: certifi>=2017.4.17 in /usr/local/lib/python3.7/dist-packages (from requests->transformers<5.0.0,>=4.6.0->sentence-transformers) (2021.10.8)\n",
            "Requirement already satisfied: joblib in /usr/local/lib/python3.7/dist-packages (from sacremoses->transformers<5.0.0,>=4.6.0->sentence-transformers) (1.1.0)\n",
            "Requirement already satisfied: click in /usr/local/lib/python3.7/dist-packages (from sacremoses->transformers<5.0.0,>=4.6.0->sentence-transformers) (7.1.2)\n",
            "Requirement already satisfied: threadpoolctl>=2.0.0 in /usr/local/lib/python3.7/dist-packages (from scikit-learn->sentence-transformers) (3.1.0)\n",
            "Requirement already satisfied: pillow!=8.3.*,>=5.3.0 in /usr/local/lib/python3.7/dist-packages (from torchvision->sentence-transformers) (7.1.2)\n",
            "Building wheels for collected packages: sentence-transformers\n",
            "  Building wheel for sentence-transformers (setup.py) ... \u001b[?25l\u001b[?25hdone\n",
            "  Created wheel for sentence-transformers: filename=sentence_transformers-2.2.0-py3-none-any.whl size=120747 sha256=47c15973a6f048dce8b5edd79a6a9d85014407dc225bafc3c2737f6dbef30b8f\n",
            "  Stored in directory: /root/.cache/pip/wheels/83/c0/df/b6873ab7aac3f2465aa9144b6b4c41c4391cfecc027c8b07e7\n",
            "Successfully built sentence-transformers\n",
            "Installing collected packages: pyyaml, tokenizers, sacremoses, huggingface-hub, transformers, sentencepiece, sentence-transformers\n",
            "  Attempting uninstall: pyyaml\n",
            "    Found existing installation: PyYAML 3.13\n",
            "    Uninstalling PyYAML-3.13:\n",
            "      Successfully uninstalled PyYAML-3.13\n",
            "Successfully installed huggingface-hub-0.5.1 pyyaml-6.0 sacremoses-0.0.49 sentence-transformers-2.2.0 sentencepiece-0.1.96 tokenizers-0.12.1 transformers-4.18.0\n"
          ]
        }
      ],
      "source": [
        "!pip install -U sentence-transformers"
      ]
    },
    {
      "cell_type": "code",
      "source": [
        "from sentence_transformers import SentenceTransformer, util\n",
        "#Load the model\n",
        "model = SentenceTransformer('sentence-transformers/multi-qa-MiniLM-L6-cos-v1')"
      ],
      "metadata": {
        "id": "etzrdM4BX-YV"
      },
      "execution_count": 3,
      "outputs": []
    },
    {
      "cell_type": "code",
      "source": [
        "query = \"That is a happy person\"\n",
        "docs = [\"That is a happy dog\", \"That is a very happy person\",\"Today is a sunny day\"]\n",
        "#Encode query and documents\n",
        "query_emb = model.encode(query)\n",
        "doc_emb = model.encode(docs)\n",
        "\n",
        "#Compute dot score between query and all document embeddings\n",
        "scores = util.dot_score(query_emb, doc_emb)[0].cpu().tolist()\n",
        "\n",
        "#Combine docs & scores\n",
        "doc_score_pairs = list(zip(docs, scores))\n",
        "\n",
        "#Sort by decreasing score\n",
        "doc_score_pairs = sorted(doc_score_pairs, key=lambda x: x[1], reverse=True)\n",
        "\n",
        "#Output passages & scores\n",
        "for doc, score in doc_score_pairs:\n",
        "    print(score, doc)"
      ],
      "metadata": {
        "colab": {
          "base_uri": "https://localhost:8080/"
        },
        "id": "EPw5fk1XYTX1",
        "outputId": "c63f01a0-7ea8-4c74-b4f4-8b184b37f7f4"
      },
      "execution_count": 8,
      "outputs": [
        {
          "output_type": "stream",
          "name": "stdout",
          "text": [
            "0.9576371908187866 That is a very happy person\n",
            "0.6583554744720459 That is a happy dog\n",
            "0.2588384449481964 Today is a sunny day\n"
          ]
        }
      ]
    },
    {
      "cell_type": "code",
      "source": [
        "query = \"How many people live in London?\"\n",
        "docs = [\"Around 9 Million people live in London\", \"London is known for its financial district\"]\n",
        "#Encode query and documents\n",
        "query_emb = model.encode(query)\n",
        "doc_emb = model.encode(docs)\n",
        "\n",
        "#Compute dot score between query and all document embeddings\n",
        "scores = util.dot_score(query_emb, doc_emb)[0].cpu().tolist()\n",
        "\n",
        "#Combine docs & scores\n",
        "doc_score_pairs = list(zip(docs, scores))\n",
        "\n",
        "#Sort by decreasing score\n",
        "doc_score_pairs = sorted(doc_score_pairs, key=lambda x: x[1], reverse=True)\n",
        "\n",
        "#Output passages & scores\n",
        "for doc, score in doc_score_pairs:\n",
        "    print(score, doc)"
      ],
      "metadata": {
        "colab": {
          "base_uri": "https://localhost:8080/"
        },
        "id": "qBzI6RSgYyht",
        "outputId": "4cbbfde8-0bf6-4b9c-f087-2a85b8ce2038"
      },
      "execution_count": 5,
      "outputs": [
        {
          "output_type": "stream",
          "name": "stdout",
          "text": [
            "0.915637195110321 Around 9 Million people live in London\n",
            "0.4947577118873596 London is known for its financial district\n"
          ]
        }
      ]
    },
    {
      "cell_type": "code",
      "source": [
        "myheadline = [\"The Ins and Outs of Sugar\",\"The Brain - Body Contract Live Event Seattle on May 17th and Portland on May\",\"The Inside Tracker Podcast - Let It Greens\",\"The Effects of Sugar on the Nervous System\",\"Glucose Blood - What Is It?\",\"Insulin Response to Clamp Blood Glucose Levels\"]\n",
        "sample = [\"Sugar & Physiology\",\"The Brain-Body Contract\",\"Thesis, AG1 (Athletic Greens), InsideTracker\",\"Sugar & the Brain\",\"Appetite & Hormones: Ghrelin & Insulin\",\"Glucose & Brain Function\"]"
      ],
      "metadata": {
        "id": "u0900O38ZFN-"
      },
      "execution_count": 9,
      "outputs": []
    },
    {
      "cell_type": "code",
      "source": [
        "#Encode query and documents\n",
        "myheadline_emb = model.encode(myheadline)\n",
        "sample_emb = model.encode(sample)\n",
        "print(\"myheadline_emb\",myheadline_emb)\n",
        "print(\"sample\",sample_emb)"
      ],
      "metadata": {
        "colab": {
          "base_uri": "https://localhost:8080/"
        },
        "id": "xqCHlDhBZNR9",
        "outputId": "466f4bba-33aa-458a-e646-35c48ae096d6"
      },
      "execution_count": 18,
      "outputs": [
        {
          "output_type": "stream",
          "name": "stdout",
          "text": [
            "myheadline_emb [[-0.0394701   0.00799383  0.00099916 ... -0.06485695  0.01239176\n",
            "  -0.06557371]\n",
            " [ 0.03454788 -0.01467849  0.01911109 ...  0.01962839 -0.02304271\n",
            "   0.01671174]\n",
            " [-0.01286483 -0.13625853 -0.00964094 ...  0.00766298  0.04924421\n",
            "   0.03239089]\n",
            " [-0.01155815 -0.09844823  0.0111504  ...  0.01095765 -0.0919187\n",
            "  -0.05985063]\n",
            " [-0.06011285  0.03680061 -0.06651632 ...  0.0187819  -0.00861045\n",
            "  -0.076526  ]\n",
            " [-0.07989222 -0.01196294 -0.03619699 ...  0.00904929 -0.05222862\n",
            "  -0.09425227]]\n",
            "sample [[-5.9298340e-02 -9.5670775e-02 -3.5551185e-04 ...  3.2170273e-02\n",
            "   9.0373251e-05 -1.2635158e-01]\n",
            " [-4.1848537e-02 -2.7603908e-02 -3.4721147e-02 ...  7.0971563e-02\n",
            "   3.9329421e-02 -3.2482248e-02]\n",
            " [-2.0507133e-02  1.0624260e-02 -4.9205266e-02 ...  9.5779280e-04\n",
            "   6.2861048e-02 -4.0407241e-03]\n",
            " [-2.8928244e-02 -9.3160897e-02 -5.6700937e-02 ...  7.4340425e-02\n",
            "   3.2250337e-02 -8.3250433e-02]\n",
            " [-4.6710297e-02 -9.3724698e-02 -2.6869426e-02 ... -2.5044458e-03\n",
            "  -9.4549898e-03 -5.8974724e-02]\n",
            " [-5.9801385e-02 -1.1742118e-02 -6.7267612e-02 ...  5.5233192e-02\n",
            "   1.8246341e-02 -1.1636878e-01]]\n"
          ]
        }
      ]
    },
    {
      "cell_type": "code",
      "source": [
        "#Compute dot score between query and all document embeddings\n",
        "scores = []\n",
        "length = 6\n",
        "for i in range(length):\n",
        "  print(myheadline[i])\n",
        "  print(sample[i])\n",
        "  print(util.dot_score(myheadline_emb[i], sample_emb[i]))\n",
        "  scores.append(util.dot_score(myheadline_emb[i], sample_emb[i]))\n",
        "scores"
      ],
      "metadata": {
        "colab": {
          "base_uri": "https://localhost:8080/"
        },
        "id": "oqpR465XZfqd",
        "outputId": "39465984-2e3b-490d-cbf2-98e60d606e98"
      },
      "execution_count": 25,
      "outputs": [
        {
          "output_type": "stream",
          "name": "stdout",
          "text": [
            "The Ins and Outs of Sugar\n",
            "Sugar & Physiology\n",
            "tensor([[0.6548]])\n",
            "The Brain - Body Contract Live Event Seattle on May 17th and Portland on May\n",
            "The Brain-Body Contract\n",
            "tensor([[0.5088]])\n",
            "The Inside Tracker Podcast - Let It Greens\n",
            "Thesis, AG1 (Athletic Greens), InsideTracker\n",
            "tensor([[0.4137]])\n",
            "The Effects of Sugar on the Nervous System\n",
            "Sugar & the Brain\n",
            "tensor([[0.6515]])\n",
            "Glucose Blood - What Is It?\n",
            "Appetite & Hormones: Ghrelin & Insulin\n",
            "tensor([[0.3350]])\n",
            "Insulin Response to Clamp Blood Glucose Levels\n",
            "Glucose & Brain Function\n",
            "tensor([[0.4585]])\n"
          ]
        },
        {
          "output_type": "execute_result",
          "data": {
            "text/plain": [
              "[tensor([[0.6548]]),\n",
              " tensor([[0.5088]]),\n",
              " tensor([[0.4137]]),\n",
              " tensor([[0.6515]]),\n",
              " tensor([[0.3350]]),\n",
              " tensor([[0.4585]])]"
            ]
          },
          "metadata": {},
          "execution_count": 25
        }
      ]
    },
    {
      "cell_type": "code",
      "source": [
        "sum = 0\n",
        "for i in range(length):\n",
        "  sum+=float(scores[i])\n",
        "sum/length"
      ],
      "metadata": {
        "colab": {
          "base_uri": "https://localhost:8080/"
        },
        "id": "d8DlUPJLbv_O",
        "outputId": "affeebc4-cf67-4276-f524-e85345d7d527"
      },
      "execution_count": 26,
      "outputs": [
        {
          "output_type": "execute_result",
          "data": {
            "text/plain": [
              "0.5037240386009216"
            ]
          },
          "metadata": {},
          "execution_count": 26
        }
      ]
    }
  ]
}
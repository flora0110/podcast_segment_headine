{
  "nbformat": 4,
  "nbformat_minor": 0,
  "metadata": {
    "colab": {
      "name": "podcast_to_headline_del_spon_suger.ipynb",
      "provenance": [],
      "collapsed_sections": [],
      "include_colab_link": true
    },
    "kernelspec": {
      "name": "python3",
      "display_name": "Python 3"
    },
    "language_info": {
      "name": "python"
    },
    "widgets": {
      "application/vnd.jupyter.widget-state+json": {
        "0ade7f3691e74ce081e28b1c3b359bec": {
          "model_module": "@jupyter-widgets/controls",
          "model_name": "HBoxModel",
          "model_module_version": "1.5.0",
          "state": {
            "_dom_classes": [],
            "_model_module": "@jupyter-widgets/controls",
            "_model_module_version": "1.5.0",
            "_model_name": "HBoxModel",
            "_view_count": null,
            "_view_module": "@jupyter-widgets/controls",
            "_view_module_version": "1.5.0",
            "_view_name": "HBoxView",
            "box_style": "",
            "children": [
              "IPY_MODEL_3f0fa15510ed4f0897e3c18a064375db",
              "IPY_MODEL_8640cc04964340108d1df852cdd580a2",
              "IPY_MODEL_96f211a09a924ab7bd9312abc9989355"
            ],
            "layout": "IPY_MODEL_8ddada8f0d5548958a00e41332f3fe98"
          }
        },
        "3f0fa15510ed4f0897e3c18a064375db": {
          "model_module": "@jupyter-widgets/controls",
          "model_name": "HTMLModel",
          "model_module_version": "1.5.0",
          "state": {
            "_dom_classes": [],
            "_model_module": "@jupyter-widgets/controls",
            "_model_module_version": "1.5.0",
            "_model_name": "HTMLModel",
            "_view_count": null,
            "_view_module": "@jupyter-widgets/controls",
            "_view_module_version": "1.5.0",
            "_view_name": "HTMLView",
            "description": "",
            "description_tooltip": null,
            "layout": "IPY_MODEL_3ede2f7b2ceb417d8b9fe38da4729cac",
            "placeholder": "​",
            "style": "IPY_MODEL_55bf6bfdfeb0434c8e4b71bc6fbc7077",
            "value": "Downloading: 100%"
          }
        },
        "8640cc04964340108d1df852cdd580a2": {
          "model_module": "@jupyter-widgets/controls",
          "model_name": "FloatProgressModel",
          "model_module_version": "1.5.0",
          "state": {
            "_dom_classes": [],
            "_model_module": "@jupyter-widgets/controls",
            "_model_module_version": "1.5.0",
            "_model_name": "FloatProgressModel",
            "_view_count": null,
            "_view_module": "@jupyter-widgets/controls",
            "_view_module_version": "1.5.0",
            "_view_name": "ProgressView",
            "bar_style": "success",
            "description": "",
            "description_tooltip": null,
            "layout": "IPY_MODEL_9201b76d27ce485fac1c76eeba3e906f",
            "max": 1345,
            "min": 0,
            "orientation": "horizontal",
            "style": "IPY_MODEL_83b0976cde564a22b5ec098c5c8cc88e",
            "value": 1345
          }
        },
        "96f211a09a924ab7bd9312abc9989355": {
          "model_module": "@jupyter-widgets/controls",
          "model_name": "HTMLModel",
          "model_module_version": "1.5.0",
          "state": {
            "_dom_classes": [],
            "_model_module": "@jupyter-widgets/controls",
            "_model_module_version": "1.5.0",
            "_model_name": "HTMLModel",
            "_view_count": null,
            "_view_module": "@jupyter-widgets/controls",
            "_view_module_version": "1.5.0",
            "_view_name": "HTMLView",
            "description": "",
            "description_tooltip": null,
            "layout": "IPY_MODEL_6e5a1d4708774bd493363bd1f0d63347",
            "placeholder": "​",
            "style": "IPY_MODEL_cecb69164dfa4beab2769a2d22740039",
            "value": " 1.31k/1.31k [00:00&lt;00:00, 6.34kB/s]"
          }
        },
        "8ddada8f0d5548958a00e41332f3fe98": {
          "model_module": "@jupyter-widgets/base",
          "model_name": "LayoutModel",
          "model_module_version": "1.2.0",
          "state": {
            "_model_module": "@jupyter-widgets/base",
            "_model_module_version": "1.2.0",
            "_model_name": "LayoutModel",
            "_view_count": null,
            "_view_module": "@jupyter-widgets/base",
            "_view_module_version": "1.2.0",
            "_view_name": "LayoutView",
            "align_content": null,
            "align_items": null,
            "align_self": null,
            "border": null,
            "bottom": null,
            "display": null,
            "flex": null,
            "flex_flow": null,
            "grid_area": null,
            "grid_auto_columns": null,
            "grid_auto_flow": null,
            "grid_auto_rows": null,
            "grid_column": null,
            "grid_gap": null,
            "grid_row": null,
            "grid_template_areas": null,
            "grid_template_columns": null,
            "grid_template_rows": null,
            "height": null,
            "justify_content": null,
            "justify_items": null,
            "left": null,
            "margin": null,
            "max_height": null,
            "max_width": null,
            "min_height": null,
            "min_width": null,
            "object_fit": null,
            "object_position": null,
            "order": null,
            "overflow": null,
            "overflow_x": null,
            "overflow_y": null,
            "padding": null,
            "right": null,
            "top": null,
            "visibility": null,
            "width": null
          }
        },
        "3ede2f7b2ceb417d8b9fe38da4729cac": {
          "model_module": "@jupyter-widgets/base",
          "model_name": "LayoutModel",
          "model_module_version": "1.2.0",
          "state": {
            "_model_module": "@jupyter-widgets/base",
            "_model_module_version": "1.2.0",
            "_model_name": "LayoutModel",
            "_view_count": null,
            "_view_module": "@jupyter-widgets/base",
            "_view_module_version": "1.2.0",
            "_view_name": "LayoutView",
            "align_content": null,
            "align_items": null,
            "align_self": null,
            "border": null,
            "bottom": null,
            "display": null,
            "flex": null,
            "flex_flow": null,
            "grid_area": null,
            "grid_auto_columns": null,
            "grid_auto_flow": null,
            "grid_auto_rows": null,
            "grid_column": null,
            "grid_gap": null,
            "grid_row": null,
            "grid_template_areas": null,
            "grid_template_columns": null,
            "grid_template_rows": null,
            "height": null,
            "justify_content": null,
            "justify_items": null,
            "left": null,
            "margin": null,
            "max_height": null,
            "max_width": null,
            "min_height": null,
            "min_width": null,
            "object_fit": null,
            "object_position": null,
            "order": null,
            "overflow": null,
            "overflow_x": null,
            "overflow_y": null,
            "padding": null,
            "right": null,
            "top": null,
            "visibility": null,
            "width": null
          }
        },
        "55bf6bfdfeb0434c8e4b71bc6fbc7077": {
          "model_module": "@jupyter-widgets/controls",
          "model_name": "DescriptionStyleModel",
          "model_module_version": "1.5.0",
          "state": {
            "_model_module": "@jupyter-widgets/controls",
            "_model_module_version": "1.5.0",
            "_model_name": "DescriptionStyleModel",
            "_view_count": null,
            "_view_module": "@jupyter-widgets/base",
            "_view_module_version": "1.2.0",
            "_view_name": "StyleView",
            "description_width": ""
          }
        },
        "9201b76d27ce485fac1c76eeba3e906f": {
          "model_module": "@jupyter-widgets/base",
          "model_name": "LayoutModel",
          "model_module_version": "1.2.0",
          "state": {
            "_model_module": "@jupyter-widgets/base",
            "_model_module_version": "1.2.0",
            "_model_name": "LayoutModel",
            "_view_count": null,
            "_view_module": "@jupyter-widgets/base",
            "_view_module_version": "1.2.0",
            "_view_name": "LayoutView",
            "align_content": null,
            "align_items": null,
            "align_self": null,
            "border": null,
            "bottom": null,
            "display": null,
            "flex": null,
            "flex_flow": null,
            "grid_area": null,
            "grid_auto_columns": null,
            "grid_auto_flow": null,
            "grid_auto_rows": null,
            "grid_column": null,
            "grid_gap": null,
            "grid_row": null,
            "grid_template_areas": null,
            "grid_template_columns": null,
            "grid_template_rows": null,
            "height": null,
            "justify_content": null,
            "justify_items": null,
            "left": null,
            "margin": null,
            "max_height": null,
            "max_width": null,
            "min_height": null,
            "min_width": null,
            "object_fit": null,
            "object_position": null,
            "order": null,
            "overflow": null,
            "overflow_x": null,
            "overflow_y": null,
            "padding": null,
            "right": null,
            "top": null,
            "visibility": null,
            "width": null
          }
        },
        "83b0976cde564a22b5ec098c5c8cc88e": {
          "model_module": "@jupyter-widgets/controls",
          "model_name": "ProgressStyleModel",
          "model_module_version": "1.5.0",
          "state": {
            "_model_module": "@jupyter-widgets/controls",
            "_model_module_version": "1.5.0",
            "_model_name": "ProgressStyleModel",
            "_view_count": null,
            "_view_module": "@jupyter-widgets/base",
            "_view_module_version": "1.2.0",
            "_view_name": "StyleView",
            "bar_color": null,
            "description_width": ""
          }
        },
        "6e5a1d4708774bd493363bd1f0d63347": {
          "model_module": "@jupyter-widgets/base",
          "model_name": "LayoutModel",
          "model_module_version": "1.2.0",
          "state": {
            "_model_module": "@jupyter-widgets/base",
            "_model_module_version": "1.2.0",
            "_model_name": "LayoutModel",
            "_view_count": null,
            "_view_module": "@jupyter-widgets/base",
            "_view_module_version": "1.2.0",
            "_view_name": "LayoutView",
            "align_content": null,
            "align_items": null,
            "align_self": null,
            "border": null,
            "bottom": null,
            "display": null,
            "flex": null,
            "flex_flow": null,
            "grid_area": null,
            "grid_auto_columns": null,
            "grid_auto_flow": null,
            "grid_auto_rows": null,
            "grid_column": null,
            "grid_gap": null,
            "grid_row": null,
            "grid_template_areas": null,
            "grid_template_columns": null,
            "grid_template_rows": null,
            "height": null,
            "justify_content": null,
            "justify_items": null,
            "left": null,
            "margin": null,
            "max_height": null,
            "max_width": null,
            "min_height": null,
            "min_width": null,
            "object_fit": null,
            "object_position": null,
            "order": null,
            "overflow": null,
            "overflow_x": null,
            "overflow_y": null,
            "padding": null,
            "right": null,
            "top": null,
            "visibility": null,
            "width": null
          }
        },
        "cecb69164dfa4beab2769a2d22740039": {
          "model_module": "@jupyter-widgets/controls",
          "model_name": "DescriptionStyleModel",
          "model_module_version": "1.5.0",
          "state": {
            "_model_module": "@jupyter-widgets/controls",
            "_model_module_version": "1.5.0",
            "_model_name": "DescriptionStyleModel",
            "_view_count": null,
            "_view_module": "@jupyter-widgets/base",
            "_view_module_version": "1.2.0",
            "_view_name": "StyleView",
            "description_width": ""
          }
        },
        "97fb8f6d894e436bbb61be2865305383": {
          "model_module": "@jupyter-widgets/controls",
          "model_name": "HBoxModel",
          "model_module_version": "1.5.0",
          "state": {
            "_dom_classes": [],
            "_model_module": "@jupyter-widgets/controls",
            "_model_module_version": "1.5.0",
            "_model_name": "HBoxModel",
            "_view_count": null,
            "_view_module": "@jupyter-widgets/controls",
            "_view_module_version": "1.5.0",
            "_view_name": "HBoxView",
            "box_style": "",
            "children": [
              "IPY_MODEL_6da1d5bfbd254b59a5cadec951759b24",
              "IPY_MODEL_22cf08897b624f929a268612cf88ef52",
              "IPY_MODEL_0203a207fddd4e31ac6da616d81dbba4"
            ],
            "layout": "IPY_MODEL_cfa1acda3597457ea7915d47685a6443"
          }
        },
        "6da1d5bfbd254b59a5cadec951759b24": {
          "model_module": "@jupyter-widgets/controls",
          "model_name": "HTMLModel",
          "model_module_version": "1.5.0",
          "state": {
            "_dom_classes": [],
            "_model_module": "@jupyter-widgets/controls",
            "_model_module_version": "1.5.0",
            "_model_name": "HTMLModel",
            "_view_count": null,
            "_view_module": "@jupyter-widgets/controls",
            "_view_module_version": "1.5.0",
            "_view_name": "HTMLView",
            "description": "",
            "description_tooltip": null,
            "layout": "IPY_MODEL_afc7da8a90ec4281bf48afc2fef7e0e6",
            "placeholder": "​",
            "style": "IPY_MODEL_e4e23f8c45fc4577a6d8d1932946c121",
            "value": "Downloading: 100%"
          }
        },
        "22cf08897b624f929a268612cf88ef52": {
          "model_module": "@jupyter-widgets/controls",
          "model_name": "FloatProgressModel",
          "model_module_version": "1.5.0",
          "state": {
            "_dom_classes": [],
            "_model_module": "@jupyter-widgets/controls",
            "_model_module_version": "1.5.0",
            "_model_name": "FloatProgressModel",
            "_view_count": null,
            "_view_module": "@jupyter-widgets/controls",
            "_view_module_version": "1.5.0",
            "_view_name": "ProgressView",
            "bar_style": "success",
            "description": "",
            "description_tooltip": null,
            "layout": "IPY_MODEL_ba9ab0239bcb4f9483b5f911b03df654",
            "max": 1236,
            "min": 0,
            "orientation": "horizontal",
            "style": "IPY_MODEL_89ca5406536e40e9a4668d73a7443a2c",
            "value": 1236
          }
        },
        "0203a207fddd4e31ac6da616d81dbba4": {
          "model_module": "@jupyter-widgets/controls",
          "model_name": "HTMLModel",
          "model_module_version": "1.5.0",
          "state": {
            "_dom_classes": [],
            "_model_module": "@jupyter-widgets/controls",
            "_model_module_version": "1.5.0",
            "_model_name": "HTMLModel",
            "_view_count": null,
            "_view_module": "@jupyter-widgets/controls",
            "_view_module_version": "1.5.0",
            "_view_name": "HTMLView",
            "description": "",
            "description_tooltip": null,
            "layout": "IPY_MODEL_b166b1439b834eaa9d8d550a8a562406",
            "placeholder": "​",
            "style": "IPY_MODEL_3895a717a5904b88888f7249449a0570",
            "value": " 1.21k/1.21k [00:00&lt;00:00, 15.8kB/s]"
          }
        },
        "cfa1acda3597457ea7915d47685a6443": {
          "model_module": "@jupyter-widgets/base",
          "model_name": "LayoutModel",
          "model_module_version": "1.2.0",
          "state": {
            "_model_module": "@jupyter-widgets/base",
            "_model_module_version": "1.2.0",
            "_model_name": "LayoutModel",
            "_view_count": null,
            "_view_module": "@jupyter-widgets/base",
            "_view_module_version": "1.2.0",
            "_view_name": "LayoutView",
            "align_content": null,
            "align_items": null,
            "align_self": null,
            "border": null,
            "bottom": null,
            "display": null,
            "flex": null,
            "flex_flow": null,
            "grid_area": null,
            "grid_auto_columns": null,
            "grid_auto_flow": null,
            "grid_auto_rows": null,
            "grid_column": null,
            "grid_gap": null,
            "grid_row": null,
            "grid_template_areas": null,
            "grid_template_columns": null,
            "grid_template_rows": null,
            "height": null,
            "justify_content": null,
            "justify_items": null,
            "left": null,
            "margin": null,
            "max_height": null,
            "max_width": null,
            "min_height": null,
            "min_width": null,
            "object_fit": null,
            "object_position": null,
            "order": null,
            "overflow": null,
            "overflow_x": null,
            "overflow_y": null,
            "padding": null,
            "right": null,
            "top": null,
            "visibility": null,
            "width": null
          }
        },
        "afc7da8a90ec4281bf48afc2fef7e0e6": {
          "model_module": "@jupyter-widgets/base",
          "model_name": "LayoutModel",
          "model_module_version": "1.2.0",
          "state": {
            "_model_module": "@jupyter-widgets/base",
            "_model_module_version": "1.2.0",
            "_model_name": "LayoutModel",
            "_view_count": null,
            "_view_module": "@jupyter-widgets/base",
            "_view_module_version": "1.2.0",
            "_view_name": "LayoutView",
            "align_content": null,
            "align_items": null,
            "align_self": null,
            "border": null,
            "bottom": null,
            "display": null,
            "flex": null,
            "flex_flow": null,
            "grid_area": null,
            "grid_auto_columns": null,
            "grid_auto_flow": null,
            "grid_auto_rows": null,
            "grid_column": null,
            "grid_gap": null,
            "grid_row": null,
            "grid_template_areas": null,
            "grid_template_columns": null,
            "grid_template_rows": null,
            "height": null,
            "justify_content": null,
            "justify_items": null,
            "left": null,
            "margin": null,
            "max_height": null,
            "max_width": null,
            "min_height": null,
            "min_width": null,
            "object_fit": null,
            "object_position": null,
            "order": null,
            "overflow": null,
            "overflow_x": null,
            "overflow_y": null,
            "padding": null,
            "right": null,
            "top": null,
            "visibility": null,
            "width": null
          }
        },
        "e4e23f8c45fc4577a6d8d1932946c121": {
          "model_module": "@jupyter-widgets/controls",
          "model_name": "DescriptionStyleModel",
          "model_module_version": "1.5.0",
          "state": {
            "_model_module": "@jupyter-widgets/controls",
            "_model_module_version": "1.5.0",
            "_model_name": "DescriptionStyleModel",
            "_view_count": null,
            "_view_module": "@jupyter-widgets/base",
            "_view_module_version": "1.2.0",
            "_view_name": "StyleView",
            "description_width": ""
          }
        },
        "ba9ab0239bcb4f9483b5f911b03df654": {
          "model_module": "@jupyter-widgets/base",
          "model_name": "LayoutModel",
          "model_module_version": "1.2.0",
          "state": {
            "_model_module": "@jupyter-widgets/base",
            "_model_module_version": "1.2.0",
            "_model_name": "LayoutModel",
            "_view_count": null,
            "_view_module": "@jupyter-widgets/base",
            "_view_module_version": "1.2.0",
            "_view_name": "LayoutView",
            "align_content": null,
            "align_items": null,
            "align_self": null,
            "border": null,
            "bottom": null,
            "display": null,
            "flex": null,
            "flex_flow": null,
            "grid_area": null,
            "grid_auto_columns": null,
            "grid_auto_flow": null,
            "grid_auto_rows": null,
            "grid_column": null,
            "grid_gap": null,
            "grid_row": null,
            "grid_template_areas": null,
            "grid_template_columns": null,
            "grid_template_rows": null,
            "height": null,
            "justify_content": null,
            "justify_items": null,
            "left": null,
            "margin": null,
            "max_height": null,
            "max_width": null,
            "min_height": null,
            "min_width": null,
            "object_fit": null,
            "object_position": null,
            "order": null,
            "overflow": null,
            "overflow_x": null,
            "overflow_y": null,
            "padding": null,
            "right": null,
            "top": null,
            "visibility": null,
            "width": null
          }
        },
        "89ca5406536e40e9a4668d73a7443a2c": {
          "model_module": "@jupyter-widgets/controls",
          "model_name": "ProgressStyleModel",
          "model_module_version": "1.5.0",
          "state": {
            "_model_module": "@jupyter-widgets/controls",
            "_model_module_version": "1.5.0",
            "_model_name": "ProgressStyleModel",
            "_view_count": null,
            "_view_module": "@jupyter-widgets/base",
            "_view_module_version": "1.2.0",
            "_view_name": "StyleView",
            "bar_color": null,
            "description_width": ""
          }
        },
        "b166b1439b834eaa9d8d550a8a562406": {
          "model_module": "@jupyter-widgets/base",
          "model_name": "LayoutModel",
          "model_module_version": "1.2.0",
          "state": {
            "_model_module": "@jupyter-widgets/base",
            "_model_module_version": "1.2.0",
            "_model_name": "LayoutModel",
            "_view_count": null,
            "_view_module": "@jupyter-widgets/base",
            "_view_module_version": "1.2.0",
            "_view_name": "LayoutView",
            "align_content": null,
            "align_items": null,
            "align_self": null,
            "border": null,
            "bottom": null,
            "display": null,
            "flex": null,
            "flex_flow": null,
            "grid_area": null,
            "grid_auto_columns": null,
            "grid_auto_flow": null,
            "grid_auto_rows": null,
            "grid_column": null,
            "grid_gap": null,
            "grid_row": null,
            "grid_template_areas": null,
            "grid_template_columns": null,
            "grid_template_rows": null,
            "height": null,
            "justify_content": null,
            "justify_items": null,
            "left": null,
            "margin": null,
            "max_height": null,
            "max_width": null,
            "min_height": null,
            "min_width": null,
            "object_fit": null,
            "object_position": null,
            "order": null,
            "overflow": null,
            "overflow_x": null,
            "overflow_y": null,
            "padding": null,
            "right": null,
            "top": null,
            "visibility": null,
            "width": null
          }
        },
        "3895a717a5904b88888f7249449a0570": {
          "model_module": "@jupyter-widgets/controls",
          "model_name": "DescriptionStyleModel",
          "model_module_version": "1.5.0",
          "state": {
            "_model_module": "@jupyter-widgets/controls",
            "_model_module_version": "1.5.0",
            "_model_name": "DescriptionStyleModel",
            "_view_count": null,
            "_view_module": "@jupyter-widgets/base",
            "_view_module_version": "1.2.0",
            "_view_name": "StyleView",
            "description_width": ""
          }
        },
        "ef3592783143478a9576e8e512ee60da": {
          "model_module": "@jupyter-widgets/controls",
          "model_name": "HBoxModel",
          "model_module_version": "1.5.0",
          "state": {
            "_dom_classes": [],
            "_model_module": "@jupyter-widgets/controls",
            "_model_module_version": "1.5.0",
            "_model_name": "HBoxModel",
            "_view_count": null,
            "_view_module": "@jupyter-widgets/controls",
            "_view_module_version": "1.5.0",
            "_view_name": "HBoxView",
            "box_style": "",
            "children": [
              "IPY_MODEL_372184bc09b74b1e8a582b1b0a813211",
              "IPY_MODEL_462a0ba602554485a1a817545d2d0e61",
              "IPY_MODEL_88c4c3a8474946c8a64e6e896b3b245e"
            ],
            "layout": "IPY_MODEL_71bfc310cce046caaa9d24c4c7893c6d"
          }
        },
        "372184bc09b74b1e8a582b1b0a813211": {
          "model_module": "@jupyter-widgets/controls",
          "model_name": "HTMLModel",
          "model_module_version": "1.5.0",
          "state": {
            "_dom_classes": [],
            "_model_module": "@jupyter-widgets/controls",
            "_model_module_version": "1.5.0",
            "_model_name": "HTMLModel",
            "_view_count": null,
            "_view_module": "@jupyter-widgets/controls",
            "_view_module_version": "1.5.0",
            "_view_name": "HTMLView",
            "description": "",
            "description_tooltip": null,
            "layout": "IPY_MODEL_0d31805c7d2a481ea17ab7c8f02d59f6",
            "placeholder": "​",
            "style": "IPY_MODEL_0a550338a316410ab0ff0ae08c0917dd",
            "value": "Downloading: 100%"
          }
        },
        "462a0ba602554485a1a817545d2d0e61": {
          "model_module": "@jupyter-widgets/controls",
          "model_name": "FloatProgressModel",
          "model_module_version": "1.5.0",
          "state": {
            "_dom_classes": [],
            "_model_module": "@jupyter-widgets/controls",
            "_model_module_version": "1.5.0",
            "_model_name": "FloatProgressModel",
            "_view_count": null,
            "_view_module": "@jupyter-widgets/controls",
            "_view_module_version": "1.5.0",
            "_view_name": "ProgressView",
            "bar_style": "success",
            "description": "",
            "description_tooltip": null,
            "layout": "IPY_MODEL_4cfb45e7c5954242ba3c05a8e86d7c49",
            "max": 891695056,
            "min": 0,
            "orientation": "horizontal",
            "style": "IPY_MODEL_1682bd2d37f441fa953f333eff5d3db5",
            "value": 891695056
          }
        },
        "88c4c3a8474946c8a64e6e896b3b245e": {
          "model_module": "@jupyter-widgets/controls",
          "model_name": "HTMLModel",
          "model_module_version": "1.5.0",
          "state": {
            "_dom_classes": [],
            "_model_module": "@jupyter-widgets/controls",
            "_model_module_version": "1.5.0",
            "_model_name": "HTMLModel",
            "_view_count": null,
            "_view_module": "@jupyter-widgets/controls",
            "_view_module_version": "1.5.0",
            "_view_name": "HTMLView",
            "description": "",
            "description_tooltip": null,
            "layout": "IPY_MODEL_a9a6b3d5bb674203a8a4f827d70ba110",
            "placeholder": "​",
            "style": "IPY_MODEL_b76a9900b12d4ad0b2d62f2befd5785b",
            "value": " 850M/850M [00:41&lt;00:00, 36.0MB/s]"
          }
        },
        "71bfc310cce046caaa9d24c4c7893c6d": {
          "model_module": "@jupyter-widgets/base",
          "model_name": "LayoutModel",
          "model_module_version": "1.2.0",
          "state": {
            "_model_module": "@jupyter-widgets/base",
            "_model_module_version": "1.2.0",
            "_model_name": "LayoutModel",
            "_view_count": null,
            "_view_module": "@jupyter-widgets/base",
            "_view_module_version": "1.2.0",
            "_view_name": "LayoutView",
            "align_content": null,
            "align_items": null,
            "align_self": null,
            "border": null,
            "bottom": null,
            "display": null,
            "flex": null,
            "flex_flow": null,
            "grid_area": null,
            "grid_auto_columns": null,
            "grid_auto_flow": null,
            "grid_auto_rows": null,
            "grid_column": null,
            "grid_gap": null,
            "grid_row": null,
            "grid_template_areas": null,
            "grid_template_columns": null,
            "grid_template_rows": null,
            "height": null,
            "justify_content": null,
            "justify_items": null,
            "left": null,
            "margin": null,
            "max_height": null,
            "max_width": null,
            "min_height": null,
            "min_width": null,
            "object_fit": null,
            "object_position": null,
            "order": null,
            "overflow": null,
            "overflow_x": null,
            "overflow_y": null,
            "padding": null,
            "right": null,
            "top": null,
            "visibility": null,
            "width": null
          }
        },
        "0d31805c7d2a481ea17ab7c8f02d59f6": {
          "model_module": "@jupyter-widgets/base",
          "model_name": "LayoutModel",
          "model_module_version": "1.2.0",
          "state": {
            "_model_module": "@jupyter-widgets/base",
            "_model_module_version": "1.2.0",
            "_model_name": "LayoutModel",
            "_view_count": null,
            "_view_module": "@jupyter-widgets/base",
            "_view_module_version": "1.2.0",
            "_view_name": "LayoutView",
            "align_content": null,
            "align_items": null,
            "align_self": null,
            "border": null,
            "bottom": null,
            "display": null,
            "flex": null,
            "flex_flow": null,
            "grid_area": null,
            "grid_auto_columns": null,
            "grid_auto_flow": null,
            "grid_auto_rows": null,
            "grid_column": null,
            "grid_gap": null,
            "grid_row": null,
            "grid_template_areas": null,
            "grid_template_columns": null,
            "grid_template_rows": null,
            "height": null,
            "justify_content": null,
            "justify_items": null,
            "left": null,
            "margin": null,
            "max_height": null,
            "max_width": null,
            "min_height": null,
            "min_width": null,
            "object_fit": null,
            "object_position": null,
            "order": null,
            "overflow": null,
            "overflow_x": null,
            "overflow_y": null,
            "padding": null,
            "right": null,
            "top": null,
            "visibility": null,
            "width": null
          }
        },
        "0a550338a316410ab0ff0ae08c0917dd": {
          "model_module": "@jupyter-widgets/controls",
          "model_name": "DescriptionStyleModel",
          "model_module_version": "1.5.0",
          "state": {
            "_model_module": "@jupyter-widgets/controls",
            "_model_module_version": "1.5.0",
            "_model_name": "DescriptionStyleModel",
            "_view_count": null,
            "_view_module": "@jupyter-widgets/base",
            "_view_module_version": "1.2.0",
            "_view_name": "StyleView",
            "description_width": ""
          }
        },
        "4cfb45e7c5954242ba3c05a8e86d7c49": {
          "model_module": "@jupyter-widgets/base",
          "model_name": "LayoutModel",
          "model_module_version": "1.2.0",
          "state": {
            "_model_module": "@jupyter-widgets/base",
            "_model_module_version": "1.2.0",
            "_model_name": "LayoutModel",
            "_view_count": null,
            "_view_module": "@jupyter-widgets/base",
            "_view_module_version": "1.2.0",
            "_view_name": "LayoutView",
            "align_content": null,
            "align_items": null,
            "align_self": null,
            "border": null,
            "bottom": null,
            "display": null,
            "flex": null,
            "flex_flow": null,
            "grid_area": null,
            "grid_auto_columns": null,
            "grid_auto_flow": null,
            "grid_auto_rows": null,
            "grid_column": null,
            "grid_gap": null,
            "grid_row": null,
            "grid_template_areas": null,
            "grid_template_columns": null,
            "grid_template_rows": null,
            "height": null,
            "justify_content": null,
            "justify_items": null,
            "left": null,
            "margin": null,
            "max_height": null,
            "max_width": null,
            "min_height": null,
            "min_width": null,
            "object_fit": null,
            "object_position": null,
            "order": null,
            "overflow": null,
            "overflow_x": null,
            "overflow_y": null,
            "padding": null,
            "right": null,
            "top": null,
            "visibility": null,
            "width": null
          }
        },
        "1682bd2d37f441fa953f333eff5d3db5": {
          "model_module": "@jupyter-widgets/controls",
          "model_name": "ProgressStyleModel",
          "model_module_version": "1.5.0",
          "state": {
            "_model_module": "@jupyter-widgets/controls",
            "_model_module_version": "1.5.0",
            "_model_name": "ProgressStyleModel",
            "_view_count": null,
            "_view_module": "@jupyter-widgets/base",
            "_view_module_version": "1.2.0",
            "_view_name": "StyleView",
            "bar_color": null,
            "description_width": ""
          }
        },
        "a9a6b3d5bb674203a8a4f827d70ba110": {
          "model_module": "@jupyter-widgets/base",
          "model_name": "LayoutModel",
          "model_module_version": "1.2.0",
          "state": {
            "_model_module": "@jupyter-widgets/base",
            "_model_module_version": "1.2.0",
            "_model_name": "LayoutModel",
            "_view_count": null,
            "_view_module": "@jupyter-widgets/base",
            "_view_module_version": "1.2.0",
            "_view_name": "LayoutView",
            "align_content": null,
            "align_items": null,
            "align_self": null,
            "border": null,
            "bottom": null,
            "display": null,
            "flex": null,
            "flex_flow": null,
            "grid_area": null,
            "grid_auto_columns": null,
            "grid_auto_flow": null,
            "grid_auto_rows": null,
            "grid_column": null,
            "grid_gap": null,
            "grid_row": null,
            "grid_template_areas": null,
            "grid_template_columns": null,
            "grid_template_rows": null,
            "height": null,
            "justify_content": null,
            "justify_items": null,
            "left": null,
            "margin": null,
            "max_height": null,
            "max_width": null,
            "min_height": null,
            "min_width": null,
            "object_fit": null,
            "object_position": null,
            "order": null,
            "overflow": null,
            "overflow_x": null,
            "overflow_y": null,
            "padding": null,
            "right": null,
            "top": null,
            "visibility": null,
            "width": null
          }
        },
        "b76a9900b12d4ad0b2d62f2befd5785b": {
          "model_module": "@jupyter-widgets/controls",
          "model_name": "DescriptionStyleModel",
          "model_module_version": "1.5.0",
          "state": {
            "_model_module": "@jupyter-widgets/controls",
            "_model_module_version": "1.5.0",
            "_model_name": "DescriptionStyleModel",
            "_view_count": null,
            "_view_module": "@jupyter-widgets/base",
            "_view_module_version": "1.2.0",
            "_view_name": "StyleView",
            "description_width": ""
          }
        },
        "cde2152edad046d28c2a14414afd0690": {
          "model_module": "@jupyter-widgets/controls",
          "model_name": "HBoxModel",
          "model_module_version": "1.5.0",
          "state": {
            "_dom_classes": [],
            "_model_module": "@jupyter-widgets/controls",
            "_model_module_version": "1.5.0",
            "_model_name": "HBoxModel",
            "_view_count": null,
            "_view_module": "@jupyter-widgets/controls",
            "_view_module_version": "1.5.0",
            "_view_name": "HBoxView",
            "box_style": "",
            "children": [
              "IPY_MODEL_56e287c74d834d6c93aaf817b7b0a45c",
              "IPY_MODEL_d0b87f3f06f043d39d7bfc05b8760abd",
              "IPY_MODEL_3fc419d110484149b9ec780392fc8000"
            ],
            "layout": "IPY_MODEL_31ecff0d9f9347fa8f7865dde79288a1"
          }
        },
        "56e287c74d834d6c93aaf817b7b0a45c": {
          "model_module": "@jupyter-widgets/controls",
          "model_name": "HTMLModel",
          "model_module_version": "1.5.0",
          "state": {
            "_dom_classes": [],
            "_model_module": "@jupyter-widgets/controls",
            "_model_module_version": "1.5.0",
            "_model_name": "HTMLModel",
            "_view_count": null,
            "_view_module": "@jupyter-widgets/controls",
            "_view_module_version": "1.5.0",
            "_view_name": "HTMLView",
            "description": "",
            "description_tooltip": null,
            "layout": "IPY_MODEL_09e46048ce3e4ec291c6170913c17165",
            "placeholder": "​",
            "style": "IPY_MODEL_507e64e94a9743428dc403a5a2ba311b",
            "value": "Downloading: 100%"
          }
        },
        "d0b87f3f06f043d39d7bfc05b8760abd": {
          "model_module": "@jupyter-widgets/controls",
          "model_name": "FloatProgressModel",
          "model_module_version": "1.5.0",
          "state": {
            "_dom_classes": [],
            "_model_module": "@jupyter-widgets/controls",
            "_model_module_version": "1.5.0",
            "_model_name": "FloatProgressModel",
            "_view_count": null,
            "_view_module": "@jupyter-widgets/controls",
            "_view_module_version": "1.5.0",
            "_view_name": "ProgressView",
            "bar_style": "success",
            "description": "",
            "description_tooltip": null,
            "layout": "IPY_MODEL_32b9fdf64b7d44e699969c8389f891aa",
            "max": 43,
            "min": 0,
            "orientation": "horizontal",
            "style": "IPY_MODEL_59d1442a7fdd4935a7e7577dc617a953",
            "value": 43
          }
        },
        "3fc419d110484149b9ec780392fc8000": {
          "model_module": "@jupyter-widgets/controls",
          "model_name": "HTMLModel",
          "model_module_version": "1.5.0",
          "state": {
            "_dom_classes": [],
            "_model_module": "@jupyter-widgets/controls",
            "_model_module_version": "1.5.0",
            "_model_name": "HTMLModel",
            "_view_count": null,
            "_view_module": "@jupyter-widgets/controls",
            "_view_module_version": "1.5.0",
            "_view_name": "HTMLView",
            "description": "",
            "description_tooltip": null,
            "layout": "IPY_MODEL_85e3da1151814f62bd56b405f20d9e9d",
            "placeholder": "​",
            "style": "IPY_MODEL_6959daa8142649afb2dd542fc5752016",
            "value": " 43.0/43.0 [00:00&lt;00:00, 960B/s]"
          }
        },
        "31ecff0d9f9347fa8f7865dde79288a1": {
          "model_module": "@jupyter-widgets/base",
          "model_name": "LayoutModel",
          "model_module_version": "1.2.0",
          "state": {
            "_model_module": "@jupyter-widgets/base",
            "_model_module_version": "1.2.0",
            "_model_name": "LayoutModel",
            "_view_count": null,
            "_view_module": "@jupyter-widgets/base",
            "_view_module_version": "1.2.0",
            "_view_name": "LayoutView",
            "align_content": null,
            "align_items": null,
            "align_self": null,
            "border": null,
            "bottom": null,
            "display": null,
            "flex": null,
            "flex_flow": null,
            "grid_area": null,
            "grid_auto_columns": null,
            "grid_auto_flow": null,
            "grid_auto_rows": null,
            "grid_column": null,
            "grid_gap": null,
            "grid_row": null,
            "grid_template_areas": null,
            "grid_template_columns": null,
            "grid_template_rows": null,
            "height": null,
            "justify_content": null,
            "justify_items": null,
            "left": null,
            "margin": null,
            "max_height": null,
            "max_width": null,
            "min_height": null,
            "min_width": null,
            "object_fit": null,
            "object_position": null,
            "order": null,
            "overflow": null,
            "overflow_x": null,
            "overflow_y": null,
            "padding": null,
            "right": null,
            "top": null,
            "visibility": null,
            "width": null
          }
        },
        "09e46048ce3e4ec291c6170913c17165": {
          "model_module": "@jupyter-widgets/base",
          "model_name": "LayoutModel",
          "model_module_version": "1.2.0",
          "state": {
            "_model_module": "@jupyter-widgets/base",
            "_model_module_version": "1.2.0",
            "_model_name": "LayoutModel",
            "_view_count": null,
            "_view_module": "@jupyter-widgets/base",
            "_view_module_version": "1.2.0",
            "_view_name": "LayoutView",
            "align_content": null,
            "align_items": null,
            "align_self": null,
            "border": null,
            "bottom": null,
            "display": null,
            "flex": null,
            "flex_flow": null,
            "grid_area": null,
            "grid_auto_columns": null,
            "grid_auto_flow": null,
            "grid_auto_rows": null,
            "grid_column": null,
            "grid_gap": null,
            "grid_row": null,
            "grid_template_areas": null,
            "grid_template_columns": null,
            "grid_template_rows": null,
            "height": null,
            "justify_content": null,
            "justify_items": null,
            "left": null,
            "margin": null,
            "max_height": null,
            "max_width": null,
            "min_height": null,
            "min_width": null,
            "object_fit": null,
            "object_position": null,
            "order": null,
            "overflow": null,
            "overflow_x": null,
            "overflow_y": null,
            "padding": null,
            "right": null,
            "top": null,
            "visibility": null,
            "width": null
          }
        },
        "507e64e94a9743428dc403a5a2ba311b": {
          "model_module": "@jupyter-widgets/controls",
          "model_name": "DescriptionStyleModel",
          "model_module_version": "1.5.0",
          "state": {
            "_model_module": "@jupyter-widgets/controls",
            "_model_module_version": "1.5.0",
            "_model_name": "DescriptionStyleModel",
            "_view_count": null,
            "_view_module": "@jupyter-widgets/base",
            "_view_module_version": "1.2.0",
            "_view_name": "StyleView",
            "description_width": ""
          }
        },
        "32b9fdf64b7d44e699969c8389f891aa": {
          "model_module": "@jupyter-widgets/base",
          "model_name": "LayoutModel",
          "model_module_version": "1.2.0",
          "state": {
            "_model_module": "@jupyter-widgets/base",
            "_model_module_version": "1.2.0",
            "_model_name": "LayoutModel",
            "_view_count": null,
            "_view_module": "@jupyter-widgets/base",
            "_view_module_version": "1.2.0",
            "_view_name": "LayoutView",
            "align_content": null,
            "align_items": null,
            "align_self": null,
            "border": null,
            "bottom": null,
            "display": null,
            "flex": null,
            "flex_flow": null,
            "grid_area": null,
            "grid_auto_columns": null,
            "grid_auto_flow": null,
            "grid_auto_rows": null,
            "grid_column": null,
            "grid_gap": null,
            "grid_row": null,
            "grid_template_areas": null,
            "grid_template_columns": null,
            "grid_template_rows": null,
            "height": null,
            "justify_content": null,
            "justify_items": null,
            "left": null,
            "margin": null,
            "max_height": null,
            "max_width": null,
            "min_height": null,
            "min_width": null,
            "object_fit": null,
            "object_position": null,
            "order": null,
            "overflow": null,
            "overflow_x": null,
            "overflow_y": null,
            "padding": null,
            "right": null,
            "top": null,
            "visibility": null,
            "width": null
          }
        },
        "59d1442a7fdd4935a7e7577dc617a953": {
          "model_module": "@jupyter-widgets/controls",
          "model_name": "ProgressStyleModel",
          "model_module_version": "1.5.0",
          "state": {
            "_model_module": "@jupyter-widgets/controls",
            "_model_module_version": "1.5.0",
            "_model_name": "ProgressStyleModel",
            "_view_count": null,
            "_view_module": "@jupyter-widgets/base",
            "_view_module_version": "1.2.0",
            "_view_name": "StyleView",
            "bar_color": null,
            "description_width": ""
          }
        },
        "85e3da1151814f62bd56b405f20d9e9d": {
          "model_module": "@jupyter-widgets/base",
          "model_name": "LayoutModel",
          "model_module_version": "1.2.0",
          "state": {
            "_model_module": "@jupyter-widgets/base",
            "_model_module_version": "1.2.0",
            "_model_name": "LayoutModel",
            "_view_count": null,
            "_view_module": "@jupyter-widgets/base",
            "_view_module_version": "1.2.0",
            "_view_name": "LayoutView",
            "align_content": null,
            "align_items": null,
            "align_self": null,
            "border": null,
            "bottom": null,
            "display": null,
            "flex": null,
            "flex_flow": null,
            "grid_area": null,
            "grid_auto_columns": null,
            "grid_auto_flow": null,
            "grid_auto_rows": null,
            "grid_column": null,
            "grid_gap": null,
            "grid_row": null,
            "grid_template_areas": null,
            "grid_template_columns": null,
            "grid_template_rows": null,
            "height": null,
            "justify_content": null,
            "justify_items": null,
            "left": null,
            "margin": null,
            "max_height": null,
            "max_width": null,
            "min_height": null,
            "min_width": null,
            "object_fit": null,
            "object_position": null,
            "order": null,
            "overflow": null,
            "overflow_x": null,
            "overflow_y": null,
            "padding": null,
            "right": null,
            "top": null,
            "visibility": null,
            "width": null
          }
        },
        "6959daa8142649afb2dd542fc5752016": {
          "model_module": "@jupyter-widgets/controls",
          "model_name": "DescriptionStyleModel",
          "model_module_version": "1.5.0",
          "state": {
            "_model_module": "@jupyter-widgets/controls",
            "_model_module_version": "1.5.0",
            "_model_name": "DescriptionStyleModel",
            "_view_count": null,
            "_view_module": "@jupyter-widgets/base",
            "_view_module_version": "1.2.0",
            "_view_name": "StyleView",
            "description_width": ""
          }
        },
        "01ef3887f9274285955a520e19334ac0": {
          "model_module": "@jupyter-widgets/controls",
          "model_name": "HBoxModel",
          "model_module_version": "1.5.0",
          "state": {
            "_dom_classes": [],
            "_model_module": "@jupyter-widgets/controls",
            "_model_module_version": "1.5.0",
            "_model_name": "HBoxModel",
            "_view_count": null,
            "_view_module": "@jupyter-widgets/controls",
            "_view_module_version": "1.5.0",
            "_view_name": "HBoxView",
            "box_style": "",
            "children": [
              "IPY_MODEL_2ae106d875d5485a9766661576bbf045",
              "IPY_MODEL_3fc0f93ae9c04cbabc0409ce3d167178",
              "IPY_MODEL_bc51a785a40e40cfb7ecf06f696a9c0f"
            ],
            "layout": "IPY_MODEL_753d8a325ce641d396968813750f613d"
          }
        },
        "2ae106d875d5485a9766661576bbf045": {
          "model_module": "@jupyter-widgets/controls",
          "model_name": "HTMLModel",
          "model_module_version": "1.5.0",
          "state": {
            "_dom_classes": [],
            "_model_module": "@jupyter-widgets/controls",
            "_model_module_version": "1.5.0",
            "_model_name": "HTMLModel",
            "_view_count": null,
            "_view_module": "@jupyter-widgets/controls",
            "_view_module_version": "1.5.0",
            "_view_name": "HTMLView",
            "description": "",
            "description_tooltip": null,
            "layout": "IPY_MODEL_576a80cdcc9f465ba16ac28a5d0ba305",
            "placeholder": "​",
            "style": "IPY_MODEL_2ef6f3586e754b428d4fe403f9ee87bb",
            "value": "Downloading: 100%"
          }
        },
        "3fc0f93ae9c04cbabc0409ce3d167178": {
          "model_module": "@jupyter-widgets/controls",
          "model_name": "FloatProgressModel",
          "model_module_version": "1.5.0",
          "state": {
            "_dom_classes": [],
            "_model_module": "@jupyter-widgets/controls",
            "_model_module_version": "1.5.0",
            "_model_name": "FloatProgressModel",
            "_view_count": null,
            "_view_module": "@jupyter-widgets/controls",
            "_view_module_version": "1.5.0",
            "_view_name": "ProgressView",
            "bar_style": "success",
            "description": "",
            "description_tooltip": null,
            "layout": "IPY_MODEL_21ad78cf87d8450f91a6f1927446b6ac",
            "max": 791656,
            "min": 0,
            "orientation": "horizontal",
            "style": "IPY_MODEL_12c5b15fcbcc4520bfdd19f76952fb54",
            "value": 791656
          }
        },
        "bc51a785a40e40cfb7ecf06f696a9c0f": {
          "model_module": "@jupyter-widgets/controls",
          "model_name": "HTMLModel",
          "model_module_version": "1.5.0",
          "state": {
            "_dom_classes": [],
            "_model_module": "@jupyter-widgets/controls",
            "_model_module_version": "1.5.0",
            "_model_name": "HTMLModel",
            "_view_count": null,
            "_view_module": "@jupyter-widgets/controls",
            "_view_module_version": "1.5.0",
            "_view_name": "HTMLView",
            "description": "",
            "description_tooltip": null,
            "layout": "IPY_MODEL_4e75bc3a4bdc4f76bcb73bd2c3845744",
            "placeholder": "​",
            "style": "IPY_MODEL_3b63d08a6a634637884785eda063b816",
            "value": " 773k/773k [00:00&lt;00:00, 1.53MB/s]"
          }
        },
        "753d8a325ce641d396968813750f613d": {
          "model_module": "@jupyter-widgets/base",
          "model_name": "LayoutModel",
          "model_module_version": "1.2.0",
          "state": {
            "_model_module": "@jupyter-widgets/base",
            "_model_module_version": "1.2.0",
            "_model_name": "LayoutModel",
            "_view_count": null,
            "_view_module": "@jupyter-widgets/base",
            "_view_module_version": "1.2.0",
            "_view_name": "LayoutView",
            "align_content": null,
            "align_items": null,
            "align_self": null,
            "border": null,
            "bottom": null,
            "display": null,
            "flex": null,
            "flex_flow": null,
            "grid_area": null,
            "grid_auto_columns": null,
            "grid_auto_flow": null,
            "grid_auto_rows": null,
            "grid_column": null,
            "grid_gap": null,
            "grid_row": null,
            "grid_template_areas": null,
            "grid_template_columns": null,
            "grid_template_rows": null,
            "height": null,
            "justify_content": null,
            "justify_items": null,
            "left": null,
            "margin": null,
            "max_height": null,
            "max_width": null,
            "min_height": null,
            "min_width": null,
            "object_fit": null,
            "object_position": null,
            "order": null,
            "overflow": null,
            "overflow_x": null,
            "overflow_y": null,
            "padding": null,
            "right": null,
            "top": null,
            "visibility": null,
            "width": null
          }
        },
        "576a80cdcc9f465ba16ac28a5d0ba305": {
          "model_module": "@jupyter-widgets/base",
          "model_name": "LayoutModel",
          "model_module_version": "1.2.0",
          "state": {
            "_model_module": "@jupyter-widgets/base",
            "_model_module_version": "1.2.0",
            "_model_name": "LayoutModel",
            "_view_count": null,
            "_view_module": "@jupyter-widgets/base",
            "_view_module_version": "1.2.0",
            "_view_name": "LayoutView",
            "align_content": null,
            "align_items": null,
            "align_self": null,
            "border": null,
            "bottom": null,
            "display": null,
            "flex": null,
            "flex_flow": null,
            "grid_area": null,
            "grid_auto_columns": null,
            "grid_auto_flow": null,
            "grid_auto_rows": null,
            "grid_column": null,
            "grid_gap": null,
            "grid_row": null,
            "grid_template_areas": null,
            "grid_template_columns": null,
            "grid_template_rows": null,
            "height": null,
            "justify_content": null,
            "justify_items": null,
            "left": null,
            "margin": null,
            "max_height": null,
            "max_width": null,
            "min_height": null,
            "min_width": null,
            "object_fit": null,
            "object_position": null,
            "order": null,
            "overflow": null,
            "overflow_x": null,
            "overflow_y": null,
            "padding": null,
            "right": null,
            "top": null,
            "visibility": null,
            "width": null
          }
        },
        "2ef6f3586e754b428d4fe403f9ee87bb": {
          "model_module": "@jupyter-widgets/controls",
          "model_name": "DescriptionStyleModel",
          "model_module_version": "1.5.0",
          "state": {
            "_model_module": "@jupyter-widgets/controls",
            "_model_module_version": "1.5.0",
            "_model_name": "DescriptionStyleModel",
            "_view_count": null,
            "_view_module": "@jupyter-widgets/base",
            "_view_module_version": "1.2.0",
            "_view_name": "StyleView",
            "description_width": ""
          }
        },
        "21ad78cf87d8450f91a6f1927446b6ac": {
          "model_module": "@jupyter-widgets/base",
          "model_name": "LayoutModel",
          "model_module_version": "1.2.0",
          "state": {
            "_model_module": "@jupyter-widgets/base",
            "_model_module_version": "1.2.0",
            "_model_name": "LayoutModel",
            "_view_count": null,
            "_view_module": "@jupyter-widgets/base",
            "_view_module_version": "1.2.0",
            "_view_name": "LayoutView",
            "align_content": null,
            "align_items": null,
            "align_self": null,
            "border": null,
            "bottom": null,
            "display": null,
            "flex": null,
            "flex_flow": null,
            "grid_area": null,
            "grid_auto_columns": null,
            "grid_auto_flow": null,
            "grid_auto_rows": null,
            "grid_column": null,
            "grid_gap": null,
            "grid_row": null,
            "grid_template_areas": null,
            "grid_template_columns": null,
            "grid_template_rows": null,
            "height": null,
            "justify_content": null,
            "justify_items": null,
            "left": null,
            "margin": null,
            "max_height": null,
            "max_width": null,
            "min_height": null,
            "min_width": null,
            "object_fit": null,
            "object_position": null,
            "order": null,
            "overflow": null,
            "overflow_x": null,
            "overflow_y": null,
            "padding": null,
            "right": null,
            "top": null,
            "visibility": null,
            "width": null
          }
        },
        "12c5b15fcbcc4520bfdd19f76952fb54": {
          "model_module": "@jupyter-widgets/controls",
          "model_name": "ProgressStyleModel",
          "model_module_version": "1.5.0",
          "state": {
            "_model_module": "@jupyter-widgets/controls",
            "_model_module_version": "1.5.0",
            "_model_name": "ProgressStyleModel",
            "_view_count": null,
            "_view_module": "@jupyter-widgets/base",
            "_view_module_version": "1.2.0",
            "_view_name": "StyleView",
            "bar_color": null,
            "description_width": ""
          }
        },
        "4e75bc3a4bdc4f76bcb73bd2c3845744": {
          "model_module": "@jupyter-widgets/base",
          "model_name": "LayoutModel",
          "model_module_version": "1.2.0",
          "state": {
            "_model_module": "@jupyter-widgets/base",
            "_model_module_version": "1.2.0",
            "_model_name": "LayoutModel",
            "_view_count": null,
            "_view_module": "@jupyter-widgets/base",
            "_view_module_version": "1.2.0",
            "_view_name": "LayoutView",
            "align_content": null,
            "align_items": null,
            "align_self": null,
            "border": null,
            "bottom": null,
            "display": null,
            "flex": null,
            "flex_flow": null,
            "grid_area": null,
            "grid_auto_columns": null,
            "grid_auto_flow": null,
            "grid_auto_rows": null,
            "grid_column": null,
            "grid_gap": null,
            "grid_row": null,
            "grid_template_areas": null,
            "grid_template_columns": null,
            "grid_template_rows": null,
            "height": null,
            "justify_content": null,
            "justify_items": null,
            "left": null,
            "margin": null,
            "max_height": null,
            "max_width": null,
            "min_height": null,
            "min_width": null,
            "object_fit": null,
            "object_position": null,
            "order": null,
            "overflow": null,
            "overflow_x": null,
            "overflow_y": null,
            "padding": null,
            "right": null,
            "top": null,
            "visibility": null,
            "width": null
          }
        },
        "3b63d08a6a634637884785eda063b816": {
          "model_module": "@jupyter-widgets/controls",
          "model_name": "DescriptionStyleModel",
          "model_module_version": "1.5.0",
          "state": {
            "_model_module": "@jupyter-widgets/controls",
            "_model_module_version": "1.5.0",
            "_model_name": "DescriptionStyleModel",
            "_view_count": null,
            "_view_module": "@jupyter-widgets/base",
            "_view_module_version": "1.2.0",
            "_view_name": "StyleView",
            "description_width": ""
          }
        },
        "6f751dd5dea94745bdc7aa37a821a869": {
          "model_module": "@jupyter-widgets/controls",
          "model_name": "HBoxModel",
          "model_module_version": "1.5.0",
          "state": {
            "_dom_classes": [],
            "_model_module": "@jupyter-widgets/controls",
            "_model_module_version": "1.5.0",
            "_model_name": "HBoxModel",
            "_view_count": null,
            "_view_module": "@jupyter-widgets/controls",
            "_view_module_version": "1.5.0",
            "_view_name": "HBoxView",
            "box_style": "",
            "children": [
              "IPY_MODEL_64e22b4c889d4ded8e8082127efb3744",
              "IPY_MODEL_3a70e143f96f4ba09abc35bc0ae309ec",
              "IPY_MODEL_6d5de125ae404b49aa39e388932a16a7"
            ],
            "layout": "IPY_MODEL_07f27a0e82884adaa4007841a71ac5a8"
          }
        },
        "64e22b4c889d4ded8e8082127efb3744": {
          "model_module": "@jupyter-widgets/controls",
          "model_name": "HTMLModel",
          "model_module_version": "1.5.0",
          "state": {
            "_dom_classes": [],
            "_model_module": "@jupyter-widgets/controls",
            "_model_module_version": "1.5.0",
            "_model_name": "HTMLModel",
            "_view_count": null,
            "_view_module": "@jupyter-widgets/controls",
            "_view_module_version": "1.5.0",
            "_view_name": "HTMLView",
            "description": "",
            "description_tooltip": null,
            "layout": "IPY_MODEL_353460d5240f460394d71143e65a69b5",
            "placeholder": "​",
            "style": "IPY_MODEL_15af09c97d1041d69ece099be7e5e788",
            "value": "Downloading: 100%"
          }
        },
        "3a70e143f96f4ba09abc35bc0ae309ec": {
          "model_module": "@jupyter-widgets/controls",
          "model_name": "FloatProgressModel",
          "model_module_version": "1.5.0",
          "state": {
            "_dom_classes": [],
            "_model_module": "@jupyter-widgets/controls",
            "_model_module_version": "1.5.0",
            "_model_name": "FloatProgressModel",
            "_view_count": null,
            "_view_module": "@jupyter-widgets/controls",
            "_view_module_version": "1.5.0",
            "_view_name": "ProgressView",
            "bar_style": "success",
            "description": "",
            "description_tooltip": null,
            "layout": "IPY_MODEL_fe491633bb124defbb6f1b1a5b3551fd",
            "max": 1786,
            "min": 0,
            "orientation": "horizontal",
            "style": "IPY_MODEL_33ec240a0fec45a898abfdae544568d8",
            "value": 1786
          }
        },
        "6d5de125ae404b49aa39e388932a16a7": {
          "model_module": "@jupyter-widgets/controls",
          "model_name": "HTMLModel",
          "model_module_version": "1.5.0",
          "state": {
            "_dom_classes": [],
            "_model_module": "@jupyter-widgets/controls",
            "_model_module_version": "1.5.0",
            "_model_name": "HTMLModel",
            "_view_count": null,
            "_view_module": "@jupyter-widgets/controls",
            "_view_module_version": "1.5.0",
            "_view_name": "HTMLView",
            "description": "",
            "description_tooltip": null,
            "layout": "IPY_MODEL_81538fccbdcf441186ef90ce8a0ad17a",
            "placeholder": "​",
            "style": "IPY_MODEL_5ff15fb222394f098cf8b193d56756d1",
            "value": " 1.74k/1.74k [00:00&lt;00:00, 32.9kB/s]"
          }
        },
        "07f27a0e82884adaa4007841a71ac5a8": {
          "model_module": "@jupyter-widgets/base",
          "model_name": "LayoutModel",
          "model_module_version": "1.2.0",
          "state": {
            "_model_module": "@jupyter-widgets/base",
            "_model_module_version": "1.2.0",
            "_model_name": "LayoutModel",
            "_view_count": null,
            "_view_module": "@jupyter-widgets/base",
            "_view_module_version": "1.2.0",
            "_view_name": "LayoutView",
            "align_content": null,
            "align_items": null,
            "align_self": null,
            "border": null,
            "bottom": null,
            "display": null,
            "flex": null,
            "flex_flow": null,
            "grid_area": null,
            "grid_auto_columns": null,
            "grid_auto_flow": null,
            "grid_auto_rows": null,
            "grid_column": null,
            "grid_gap": null,
            "grid_row": null,
            "grid_template_areas": null,
            "grid_template_columns": null,
            "grid_template_rows": null,
            "height": null,
            "justify_content": null,
            "justify_items": null,
            "left": null,
            "margin": null,
            "max_height": null,
            "max_width": null,
            "min_height": null,
            "min_width": null,
            "object_fit": null,
            "object_position": null,
            "order": null,
            "overflow": null,
            "overflow_x": null,
            "overflow_y": null,
            "padding": null,
            "right": null,
            "top": null,
            "visibility": null,
            "width": null
          }
        },
        "353460d5240f460394d71143e65a69b5": {
          "model_module": "@jupyter-widgets/base",
          "model_name": "LayoutModel",
          "model_module_version": "1.2.0",
          "state": {
            "_model_module": "@jupyter-widgets/base",
            "_model_module_version": "1.2.0",
            "_model_name": "LayoutModel",
            "_view_count": null,
            "_view_module": "@jupyter-widgets/base",
            "_view_module_version": "1.2.0",
            "_view_name": "LayoutView",
            "align_content": null,
            "align_items": null,
            "align_self": null,
            "border": null,
            "bottom": null,
            "display": null,
            "flex": null,
            "flex_flow": null,
            "grid_area": null,
            "grid_auto_columns": null,
            "grid_auto_flow": null,
            "grid_auto_rows": null,
            "grid_column": null,
            "grid_gap": null,
            "grid_row": null,
            "grid_template_areas": null,
            "grid_template_columns": null,
            "grid_template_rows": null,
            "height": null,
            "justify_content": null,
            "justify_items": null,
            "left": null,
            "margin": null,
            "max_height": null,
            "max_width": null,
            "min_height": null,
            "min_width": null,
            "object_fit": null,
            "object_position": null,
            "order": null,
            "overflow": null,
            "overflow_x": null,
            "overflow_y": null,
            "padding": null,
            "right": null,
            "top": null,
            "visibility": null,
            "width": null
          }
        },
        "15af09c97d1041d69ece099be7e5e788": {
          "model_module": "@jupyter-widgets/controls",
          "model_name": "DescriptionStyleModel",
          "model_module_version": "1.5.0",
          "state": {
            "_model_module": "@jupyter-widgets/controls",
            "_model_module_version": "1.5.0",
            "_model_name": "DescriptionStyleModel",
            "_view_count": null,
            "_view_module": "@jupyter-widgets/base",
            "_view_module_version": "1.2.0",
            "_view_name": "StyleView",
            "description_width": ""
          }
        },
        "fe491633bb124defbb6f1b1a5b3551fd": {
          "model_module": "@jupyter-widgets/base",
          "model_name": "LayoutModel",
          "model_module_version": "1.2.0",
          "state": {
            "_model_module": "@jupyter-widgets/base",
            "_model_module_version": "1.2.0",
            "_model_name": "LayoutModel",
            "_view_count": null,
            "_view_module": "@jupyter-widgets/base",
            "_view_module_version": "1.2.0",
            "_view_name": "LayoutView",
            "align_content": null,
            "align_items": null,
            "align_self": null,
            "border": null,
            "bottom": null,
            "display": null,
            "flex": null,
            "flex_flow": null,
            "grid_area": null,
            "grid_auto_columns": null,
            "grid_auto_flow": null,
            "grid_auto_rows": null,
            "grid_column": null,
            "grid_gap": null,
            "grid_row": null,
            "grid_template_areas": null,
            "grid_template_columns": null,
            "grid_template_rows": null,
            "height": null,
            "justify_content": null,
            "justify_items": null,
            "left": null,
            "margin": null,
            "max_height": null,
            "max_width": null,
            "min_height": null,
            "min_width": null,
            "object_fit": null,
            "object_position": null,
            "order": null,
            "overflow": null,
            "overflow_x": null,
            "overflow_y": null,
            "padding": null,
            "right": null,
            "top": null,
            "visibility": null,
            "width": null
          }
        },
        "33ec240a0fec45a898abfdae544568d8": {
          "model_module": "@jupyter-widgets/controls",
          "model_name": "ProgressStyleModel",
          "model_module_version": "1.5.0",
          "state": {
            "_model_module": "@jupyter-widgets/controls",
            "_model_module_version": "1.5.0",
            "_model_name": "ProgressStyleModel",
            "_view_count": null,
            "_view_module": "@jupyter-widgets/base",
            "_view_module_version": "1.2.0",
            "_view_name": "StyleView",
            "bar_color": null,
            "description_width": ""
          }
        },
        "81538fccbdcf441186ef90ce8a0ad17a": {
          "model_module": "@jupyter-widgets/base",
          "model_name": "LayoutModel",
          "model_module_version": "1.2.0",
          "state": {
            "_model_module": "@jupyter-widgets/base",
            "_model_module_version": "1.2.0",
            "_model_name": "LayoutModel",
            "_view_count": null,
            "_view_module": "@jupyter-widgets/base",
            "_view_module_version": "1.2.0",
            "_view_name": "LayoutView",
            "align_content": null,
            "align_items": null,
            "align_self": null,
            "border": null,
            "bottom": null,
            "display": null,
            "flex": null,
            "flex_flow": null,
            "grid_area": null,
            "grid_auto_columns": null,
            "grid_auto_flow": null,
            "grid_auto_rows": null,
            "grid_column": null,
            "grid_gap": null,
            "grid_row": null,
            "grid_template_areas": null,
            "grid_template_columns": null,
            "grid_template_rows": null,
            "height": null,
            "justify_content": null,
            "justify_items": null,
            "left": null,
            "margin": null,
            "max_height": null,
            "max_width": null,
            "min_height": null,
            "min_width": null,
            "object_fit": null,
            "object_position": null,
            "order": null,
            "overflow": null,
            "overflow_x": null,
            "overflow_y": null,
            "padding": null,
            "right": null,
            "top": null,
            "visibility": null,
            "width": null
          }
        },
        "5ff15fb222394f098cf8b193d56756d1": {
          "model_module": "@jupyter-widgets/controls",
          "model_name": "DescriptionStyleModel",
          "model_module_version": "1.5.0",
          "state": {
            "_model_module": "@jupyter-widgets/controls",
            "_model_module_version": "1.5.0",
            "_model_name": "DescriptionStyleModel",
            "_view_count": null,
            "_view_module": "@jupyter-widgets/base",
            "_view_module_version": "1.2.0",
            "_view_name": "StyleView",
            "description_width": ""
          }
        }
      }
    }
  },
  "cells": [
    {
      "cell_type": "markdown",
      "metadata": {
        "id": "view-in-github",
        "colab_type": "text"
      },
      "source": [
        "<a href=\"https://colab.research.google.com/github/flora0110/podcast_segment_headine/blob/main/podcast_to_headline_del_spon_suger.ipynb\" target=\"_parent\"><img src=\"https://colab.research.google.com/assets/colab-badge.svg\" alt=\"Open In Colab\"/></a>"
      ]
    },
    {
      "cell_type": "markdown",
      "source": [
        "# Textsplit"
      ],
      "metadata": {
        "id": "gKH2OWuXr3Oc"
      }
    },
    {
      "cell_type": "code",
      "execution_count": null,
      "metadata": {
        "colab": {
          "base_uri": "https://localhost:8080/"
        },
        "id": "ZtpEpr1erfko",
        "outputId": "d098866a-a96e-4d9d-86cb-cef0f6c6aa8d"
      },
      "outputs": [
        {
          "output_type": "stream",
          "name": "stdout",
          "text": [
            "Collecting word2vec\n",
            "  Downloading word2vec-0.11.1.tar.gz (42 kB)\n",
            "\u001b[?25l\r\u001b[K     |███████▊                        | 10 kB 13.8 MB/s eta 0:00:01\r\u001b[K     |███████████████▌                | 20 kB 7.1 MB/s eta 0:00:01\r\u001b[K     |███████████████████████▎        | 30 kB 5.7 MB/s eta 0:00:01\r\u001b[K     |███████████████████████████████ | 40 kB 3.0 MB/s eta 0:00:01\r\u001b[K     |████████████████████████████████| 42 kB 346 kB/s \n",
            "\u001b[?25h  Installing build dependencies ... \u001b[?25l\u001b[?25hdone\n",
            "  Getting requirements to build wheel ... \u001b[?25l\u001b[?25hdone\n",
            "    Preparing wheel metadata ... \u001b[?25l\u001b[?25hdone\n",
            "Requirement already satisfied: joblib in /usr/local/lib/python3.7/dist-packages (from word2vec) (1.1.0)\n",
            "Requirement already satisfied: numpy>=1.9.2 in /usr/local/lib/python3.7/dist-packages (from word2vec) (1.21.5)\n",
            "Building wheels for collected packages: word2vec\n",
            "  Building wheel for word2vec (PEP 517) ... \u001b[?25l\u001b[?25hdone\n",
            "  Created wheel for word2vec: filename=word2vec-0.11.1-py2.py3-none-any.whl size=156420 sha256=17247558982177aa870e5bdafe40b4dd0cdc4a4a9d63ba4637622b8868ee67fb\n",
            "  Stored in directory: /root/.cache/pip/wheels/c9/c0/d4/29d797817e268124a32b6cf8beb8b8fe87b86f099d5a049e61\n",
            "Successfully built word2vec\n",
            "Installing collected packages: word2vec\n",
            "Successfully installed word2vec-0.11.1\n"
          ]
        }
      ],
      "source": [
        "!pip install word2vec"
      ]
    },
    {
      "cell_type": "code",
      "source": [
        "import os\n",
        "from gensim.models import word2vec\n",
        "import pandas as pd\n",
        "import numpy as np\n",
        "from sklearn.feature_extraction.text import CountVectorizer"
      ],
      "metadata": {
        "id": "IhACuETwsAZy"
      },
      "execution_count": null,
      "outputs": []
    },
    {
      "cell_type": "markdown",
      "source": [
        "## Download toy corpus for wordvector training and example text"
      ],
      "metadata": {
        "id": "-fDUTHDJsOFK"
      }
    },
    {
      "cell_type": "code",
      "source": [
        "corpus_path = './text8'  # be sure your corpus is cleaned from punctuation and lowercased\n",
        "if not os.path.exists(corpus_path):\n",
        "    !wget http://mattmahoney.net/dc/text8.zip\n",
        "    !unzip {corpus_path}"
      ],
      "metadata": {
        "id": "yW89tWVysQOZ",
        "colab": {
          "base_uri": "https://localhost:8080/"
        },
        "outputId": "bddeb43f-ce87-475c-882d-1e97885a66fc"
      },
      "execution_count": null,
      "outputs": [
        {
          "output_type": "stream",
          "name": "stdout",
          "text": [
            "--2022-04-14 23:43:13--  http://mattmahoney.net/dc/text8.zip\n",
            "Resolving mattmahoney.net (mattmahoney.net)... 67.195.197.24\n",
            "Connecting to mattmahoney.net (mattmahoney.net)|67.195.197.24|:80... connected.\n",
            "HTTP request sent, awaiting response... 200 OK\n",
            "Length: 31344016 (30M) [application/zip]\n",
            "Saving to: ‘text8.zip’\n",
            "\n",
            "text8.zip           100%[===================>]  29.89M  1.96MB/s    in 15s     \n",
            "\n",
            "2022-04-14 23:43:28 (1.98 MB/s) - ‘text8.zip’ saved [31344016/31344016]\n",
            "\n",
            "Archive:  ./text8.zip\n",
            "  inflating: text8                   \n"
          ]
        }
      ]
    },
    {
      "cell_type": "code",
      "source": [
        "links = {'podcast_text': 'https://raw.githubusercontent.com/flora0110/podcast_segment_headine/main/podcast_data/SugarCravings.txt'}  # siddartha\n",
        "\n",
        "for link in links.values():\n",
        "    text_path = os.path.basename(link)\n",
        "    if not os.path.exists(text_path):\n",
        "        !wget {link}"
      ],
      "metadata": {
        "id": "ZuUN-5ITzk8F",
        "colab": {
          "base_uri": "https://localhost:8080/"
        },
        "outputId": "32697f35-a1f8-456e-a51d-c6b79b46cdb4"
      },
      "execution_count": null,
      "outputs": [
        {
          "output_type": "stream",
          "name": "stdout",
          "text": [
            "--2022-04-14 23:43:31--  https://raw.githubusercontent.com/flora0110/podcast_segment_headine/main/podcast_data/SugarCravings.txt\n",
            "Resolving raw.githubusercontent.com (raw.githubusercontent.com)... 185.199.108.133, 185.199.109.133, 185.199.110.133, ...\n",
            "Connecting to raw.githubusercontent.com (raw.githubusercontent.com)|185.199.108.133|:443... connected.\n",
            "HTTP request sent, awaiting response... 200 OK\n",
            "Length: 15494 (15K) [text/plain]\n",
            "Saving to: ‘SugarCravings.txt’\n",
            "\n",
            "\rSugarCravings.txt     0%[                    ]       0  --.-KB/s               \rSugarCravings.txt   100%[===================>]  15.13K  --.-KB/s    in 0.001s  \n",
            "\n",
            "2022-04-14 23:43:31 (29.2 MB/s) - ‘SugarCravings.txt’ saved [15494/15494]\n",
            "\n"
          ]
        }
      ]
    },
    {
      "cell_type": "markdown",
      "source": [
        "## Train wordvectors"
      ],
      "metadata": {
        "id": "yeEijQ0ttOvr"
      }
    },
    {
      "cell_type": "code",
      "source": [
        "import logging\n",
        "wrdvec_path = 'wrdvecs.bin'\n",
        "if not os.path.exists(wrdvec_path):\n",
        "  sentences = word2vec.Text8Corpus('./text8')\n",
        "  model = word2vec.Word2Vec(sentences, cbow_mean=1, iter=5, hs=1, sample=0.00001, window=15, size=200)"
      ],
      "metadata": {
        "id": "W18gaxqMtRfK"
      },
      "execution_count": null,
      "outputs": []
    },
    {
      "cell_type": "code",
      "source": [
        "model.save(wrdvec_path)"
      ],
      "metadata": {
        "id": "kllPGhebtdv0"
      },
      "execution_count": null,
      "outputs": []
    },
    {
      "cell_type": "code",
      "source": [
        "model = word2vec.Word2Vec.load(wrdvec_path)\n",
        "wrdvecs = pd.DataFrame(model.wv.vectors, index=model.wv.vocab)"
      ],
      "metadata": {
        "id": "azdJN5OUtg4q"
      },
      "execution_count": null,
      "outputs": []
    },
    {
      "cell_type": "markdown",
      "source": [
        "## get sentence tokenizer"
      ],
      "metadata": {
        "id": "8MZoiGawtn5M"
      }
    },
    {
      "cell_type": "code",
      "source": [
        "!pip install textsplit"
      ],
      "metadata": {
        "id": "1LQZtqFjtp-s",
        "outputId": "7c1f47ce-d56a-423b-b826-4386cc778b2b",
        "colab": {
          "base_uri": "https://localhost:8080/"
        }
      },
      "execution_count": null,
      "outputs": [
        {
          "output_type": "stream",
          "name": "stdout",
          "text": [
            "Collecting textsplit\n",
            "  Downloading textsplit-0.5-py3-none-any.whl (9.6 kB)\n",
            "Requirement already satisfied: numpy>=1.13.1 in /usr/local/lib/python3.7/dist-packages (from textsplit) (1.21.5)\n",
            "Collecting nose>=1.3.7\n",
            "  Downloading nose-1.3.7-py3-none-any.whl (154 kB)\n",
            "\u001b[K     |████████████████████████████████| 154 kB 5.3 MB/s \n",
            "\u001b[?25hInstalling collected packages: nose, textsplit\n",
            "Successfully installed nose-1.3.7 textsplit-0.5\n"
          ]
        }
      ]
    },
    {
      "cell_type": "code",
      "source": [
        "from textsplit.tools import SimpleSentenceTokenizer\n",
        "sentence_tokenizer = SimpleSentenceTokenizer()"
      ],
      "metadata": {
        "id": "nCqbCLb4tre6"
      },
      "execution_count": null,
      "outputs": []
    },
    {
      "cell_type": "markdown",
      "source": [
        "## run get_penalty and split_optimal"
      ],
      "metadata": {
        "id": "TwRHiwHlt7Oy"
      }
    },
    {
      "cell_type": "code",
      "source": [
        "%matplotlib inline\n",
        "from textsplit.tools import get_penalty, get_segments\n",
        "from textsplit.algorithm import split_optimal, split_greedy, get_total"
      ],
      "metadata": {
        "id": "RNI8RZOGt68T"
      },
      "execution_count": null,
      "outputs": []
    },
    {
      "cell_type": "markdown",
      "source": [
        "### podcast"
      ],
      "metadata": {
        "id": "t-EySFDdwZ3U"
      }
    },
    {
      "cell_type": "code",
      "source": [
        "#@title segment target length in sentences { display-mode: \"form\" }\n",
        "segment_len =  25#@param {type:\"integer\"}"
      ],
      "metadata": {
        "id": "paSWEfbGv0-t"
      },
      "execution_count": null,
      "outputs": []
    },
    {
      "cell_type": "code",
      "source": [
        "link = links['podcast_text']\n",
        "book_path = os.path.basename(link)\n",
        "\n",
        "with open(book_path, 'rt') as f:\n",
        "    text = f.read()  #.replace('\\n', ' ')  # punkt tokenizer handles newlines not so nice\n",
        "\n",
        "sentenced_text = sentence_tokenizer(text)\n",
        "strs = \" \"\n",
        "for i in range(len(sentenced_text)):\n",
        "  if(sentenced_text[i] != \" \"):\n",
        "    strs =sentenced_text[i]\n",
        "  if(i+1<len(sentenced_text)):\n",
        "    if(strs == sentenced_text[i+1]):\n",
        "      sentenced_text[i+1]=\" \"\n",
        "vecr = CountVectorizer(vocabulary=wrdvecs.index)\n",
        "\n",
        "sentence_vectors = vecr.transform(sentenced_text).dot(wrdvecs)\n",
        "\n",
        "penalty = get_penalty([sentence_vectors], segment_len)\n",
        "print('penalty %4.2f' % penalty)\n",
        "\n",
        "optimal_segmentation = split_optimal(sentence_vectors, penalty, seg_limit=250)\n",
        "segmented_text = get_segments(sentenced_text, optimal_segmentation)\n",
        "\n",
        "print('%d sentences, %d segments, avg %4.2f sentences per segment' % (\n",
        "    len(sentenced_text), len(segmented_text), len(sentenced_text) / len(segmented_text)))\n",
        "\n",
        "with open(book_path + '.seg', 'wt') as f:\n",
        "    for i, segment_sentences in enumerate(segmented_text):\n",
        "        segment_str = ' // '.join(segment_sentences)\n",
        "        gain = optimal_segmentation.gains[i] if i < len(segmented_text) - 1 else 0\n",
        "        segment_info = ' [%d sentences, %4.3f] ' % (len(segment_sentences), gain) \n",
        "        print(segment_str + '\\n8<' + '=' * 30 + segment_info + \"=\" * 30, file=f)\n",
        "\n",
        "greedy_segmentation = split_greedy(sentence_vectors, max_splits=len(optimal_segmentation.splits))\n",
        "greedy_segmented_text = get_segments(sentenced_text, greedy_segmentation)\n",
        "lengths_optimal = [len(segment) for segment in segmented_text for sentence in segment]\n",
        "lengths_greedy = [len(segment) for segment in greedy_segmented_text for sentence in segment]\n",
        "df = pd.DataFrame({'greedy':lengths_greedy, 'optimal': lengths_optimal})\n",
        "df.plot.line(figsize=(18, 3), title='Segment lenghts over text')\n",
        "df.plot.hist(bins=30, alpha=0.5, figsize=(10, 3), title='Histogram of segment lengths')\n",
        "\n",
        "totals = [get_total(sentence_vectors, seg.splits, penalty) \n",
        "          for seg in [optimal_segmentation, greedy_segmentation]]\n",
        "print('optimal score %4.2f, greedy score %4.2f' % tuple(totals))\n",
        "print(totals)\n",
        "print(tuple(totals))\n",
        "print('ratio of scores %5.4f' % (totals[0] / totals[1]))"
      ],
      "metadata": {
        "colab": {
          "base_uri": "https://localhost:8080/",
          "height": 541
        },
        "id": "0saLwQ6huDLq",
        "outputId": "92e3270d-ff51-43d8-c7d2-dad6cfa16a5b"
      },
      "execution_count": null,
      "outputs": [
        {
          "output_type": "stream",
          "name": "stdout",
          "text": [
            "penalty 49.18\n",
            "172 sentences, 8 segments, avg 21.50 sentences per segment\n",
            "optimal score 5399.77, greedy score 5388.19\n",
            "[5399.772041145196, 5388.194028311965]\n",
            "(5399.772041145196, 5388.194028311965)\n",
            "ratio of scores 1.0021\n"
          ]
        },
        {
          "output_type": "display_data",
          "data": {
            "text/plain": [
              "<Figure size 1296x216 with 1 Axes>"
            ],
            "image/png": "[encoded data removed]"
          },
          "metadata": {
            "needs_background": "light"
          }
        },
        {
          "output_type": "display_data",
          "data": {
            "text/plain": [
              "<Figure size 720x216 with 1 Axes>"
            ],
            "image/png": "[encoded data removed]"
          },
          "metadata": {
            "needs_background": "light"
          }
        }
      ]
    },
    {
      "cell_type": "markdown",
      "source": [
        "#### 顯示分段"
      ],
      "metadata": {
        "id": "zqp55X5LyUdd"
      }
    },
    {
      "cell_type": "code",
      "source": [
        "for i in range(len(segmented_text)):\n",
        "  print(segmented_text[i])"
      ],
      "metadata": {
        "colab": {
          "base_uri": "https://localhost:8080/"
        },
        "id": "Rsb59khayAck",
        "outputId": "c59392c8-d12c-4cf2-99f8-d6b279f95658"
      },
      "execution_count": null,
      "outputs": [
        {
          "output_type": "stream",
          "name": "stdout",
          "text": [
            "['Welcome to the huberman Lab podcast, where we discuss science and science based tools for everyday life. ', \"I'm Andrew huberman, and I'm a professor of neurobiology and Ophthalmology at Stanford school of medicine. \", 'Today. ', 'We are going to discuss sugar in particular how our nervous system regulates our sugar intake and are seeking of sugar. ', \"We're also going to discuss how sugar regulates our nervous system and as you'll soon, learn sugar really impacts our brain and body by two main mechanisms. \", 'Isms, one of those mechanisms is based on the Sweet Taste of sugar which itself is rewarding. ', \"Even if you're not much of a sweet tooth. \", 'I confess. ', \"I'm not most people enjoy sweet tastes more than bitter tastes and the Sweet Taste of sugar. \", 'And its various forms is strongly reinforcing. ', 'Meaning it triggers the activation of neurons nerve cells in the brain and body that make us want to consume more of that sweet substance. ', 'Incidentally. ', 'Sweet taste also make us want to eat more of other substances. ', 'Senses as well. ', 'You may be familiar with that phenomenon. ', 'Now sugar also triggers mechanisms in the brain and body based on its nutritive content independent of its sweetness. ', 'What that means is that the actual caloric content and the way that Sugar interacts with your nervous system at a subconscious level without your awareness, also impacts your craving and seeking of sugar and other Foods today. ', \"We are going to discuss what happens when you ingest sugar in terms of your body's reaction. \", 'Your brains reaction. ', \"We are also going to talk about what happens when you don't ingest enough sugar, because it turns out sugar is such a powerful fuel for the brain that under conditions, where people don't ingest enough sugar or where their so-called blood glucose, which is basically a blood sugar of a particular form gets too low there neurons, don't function as well. \", 'That said, their conditions of very low blood sugar in which neurons can function even better. ', 'So today we are going to talk about the ins and outs the ups and downs of sugar. ', \"As it relates to your nervous system and by the end of this episode, I'm confident that you have a much clearer picture as to how much sugar you should be ingesting, whether or not you should avoid sugars that you're currently eating, and you will certainly understand much more about the energy and fuel sources that your brain relies on which I'm certain, will allow you to make better informed choices about the foods, you eat, and avoid toward mental health, physical health, and performance. \", \"I'm pleased to announce that I'm hosting to Live Events. \"]\n",
            "['This may the first live event will Hosted in Seattle, Washington on May 17th. ', 'The second live event will be hosted in Portland, Oregon on May 18th. ', 'Both are part of a lecture series entitled, the brain-body contract during which I will discuss science and science based tools for mental health, physical, health, and performance. ', \"I should point out that while some of the material, I'll cover will overlap with information covered here on the huberman Lab podcast and on various social media posts. \", 'Most of the information I will cover is going to be distinct from information covered on the podcast. ', 'Or elsewhere. ', \"So once again, it's Seattle on May 17th. \", 'Portland on May 18th. ']\n",
            "['You can access tickets by going to human lab.com, / tour and I hope to see you there. ', \"Before we begin, I'd like to emphasize that this podcast is separate from my teaching and research roles at Stanford. \", 'It is however, a part of my desire and effort to bring zero cost to Consumer information about science and science related tools to the general public in keeping with that theme. ', \"I'd like to thank the sponsors of today's podcast. \", 'Our first sponsor is thesis thesis makes what are called? ', 'Nootropics, which means smart drugs. ', 'Now, to be honest. ', 'I am not a fan of the term nootropics. ', \"I don't believe in smart drugs. \", \"In the sense that I don't believe that there's any one substance, or collection of substances that can make us smarter. \", 'I do believe based on science. ', 'However, that there are particular, neural circuits and brain functions that allow us to be more focused, more alert access creativity, be more motivated at cetera. ', \"That's just the way that the brain works different, neural circuits for different brain States. \", \"And so the idea of a nootropic that's just going to make a Smarter all around fails to acknowledge that. \", 'Smarter is many things, right? ', \"If you're an artist or a musician, you're doing math, you're doing accounting a different part of the day. \", 'You need to be creative. ', 'These are all different brain, processes thesis understands this. ', 'And as far as I know that the first nootropics company to create targeted, nootropics for specific outcomes. ', 'They only use the highest quality ingredients, which of course is essential. ', \"Some of those I've talked about on the podcast, things like DHA, ginkgo biloba, phosphatidyl serine. \", 'They give you the ability to try several different blends over the course of a month. ', 'Discover which nootropics work best for your unique brain, chemistry and genetics and goals. ', \"And with that personalization design, a kit of nootropics that's ideal for the different brain and body States. \", 'You want to access. ', \"I've been using thesis for more than six months now and I can confidently say that their nootropics have been a total Game Changer. \", \"My go-to formula is the clarity formula or sometimes I'll use their energy formula before training to get your own personalized. \", 'Nootropic starter kit. ', 'Go online to take thesis.com huberman, take a A minute quiz and thesis will send you four different formulas to try in your first month. ', \"That's take thesis.com huberman and use the code huberman at checkout for 10% off. \", 'Your first order. ', \"Today's episode is also brought To Us by athletic greens now called a G1. \", 'Athletic greens is an all-in-one vitamin mineral, probiotic drink. ', \"I've been taking athletic greens since 2012. \", \"So I'm delighted that they're sponsoring the podcast. \", 'The reason I started taking athletic Greens in the reason. ', 'I still take out letter greens once or twice a day, is that it helps me, cover all of my bases. ', 'Nutritional needs. ', 'It makes up for any deficiencies that I might have. ', 'In addition. ', 'It has probiotics which are vital for microbiome Health. ', \"I've done a couple of episodes now on the so-called gut microbiome and the ways in which the microbiome interacts, with your immune system, with your brain to regulate mood and essentially with every biological system relevant to health throughout your brain and body without let it greens. \", 'I get the vitamins. ', 'I need the minerals. ', 'I need and the probiotics to support my microbiome. ', \"If you'd like to try out, let it greens, you can go. \", 'Two athletic greens.com huberman and claim a special offer. ', \"They'll give you five free travel packs, which make it easy to mix up athletic greens while you're on the road, plus a year supply of vitamin D3 K to our ton of data. \", \"Now showing that vitamin D3 is essential for various aspects of our brain and body Health, even if we're getting a lot of sunshine, many of us are still deficient in vitamin D3. \", 'And K2 is also important because it regulates things like cardiovascular function calcium in the body. ', 'And so on again, go to athletic greens.com hubermann. ', \"To claim the special offer of the five free travel packs and the year supply of vitamin D3 K to today's episode is also brought To Us by inside tracker inside trackers, a personalized nutrition platform. \", 'That analyzes data from your blood and DNA to help you better understand your body and help you reach your health goals. ', \"I've long been a believer in getting regular blood work done. \", 'For the simple reason that many of the factors that impact your immediate and long-term Health can only be assessed with a quality blood test. ', \"What's unique about inside tracker. \", 'Is that while there are a lot of different Tests out there for hormones and metabolic factors Etc with inside tracker. ', 'You get the numbers back in terms of your levels, but they also give you very clear. ', 'Directives. ', \"In terms of Lifestyle nutrition and supplementation that can help you bring those values into the ranges that are best for you and your health goals and that's very different than a lot of the other programs where you get a lot of information. \", \"We don't really know what to do with that information inside tracker makes that all very easy to understand and very actionable based on the very easy-to-use dashboard at inside tracker. \", \"If you'd like to try inside track, You can visit inside tracker.com huberman to get 20% off any of inside. \", 'Trackers plans. ', 'Just use the code huberman at checkout. ', \"Okay, let's talk about sugar. \", \"Let's talk about how sugar impacts your brain and how your brain impacts your pursuit or your avoidance of sugar. \", \"Let's get a few things out of the way. \", 'First. ', \"The first thing is that there's nothing inherently bad about sugar. \", \"I know the word sugar gets a bad rap nowadays and indeed, you're going to hear over and over again. \", 'During this podcast that consuming a lot of refined sugars in particular, high fructose, corn syrup is known to have a very large number of bad effects on the brain and body. ', \"I don't know that there's any one that really debates that anymore, even if we just agree and I think we should all agree on the so-called calories in calories out principle, right? \"]\n",
            "[\"It's a principle of thermodynamics that if we ingest more energy than we burn, we are going to gain weight. \", 'If we ingest less energy than we burn, we are generally going to lose weight and if The two things are imbalance ingestion and burning of energy. ', \"Well, then we're going to maintain weight. \"]\n",
            "['So everyone agrees on that. ', 'I agree on that. ', \"But beyond that there are a number of ways in which particular nutrients in the case of today's episode sugar impact. \", 'The way that the brain works such that we tend to seek out more of particular nutrients. ', 'For instance. ', 'If we eat sugar, there are two or at least two mechanisms by which we will crave more sugar. ', 'I think. ', 'People are aware of that experience. ', \"But today I'm going to explain exactly how that works. \", 'But also that when we ingest sugar, it has a bunch of different effects on the way that our neural circuits work that can allow us to be more or less focused more or less agitated more or less happy more or less depressed in some cases. ', 'So today as we explore this thing. ', \"We're calling Sugar, We're Going to explore that mainly in the context of the nervous system, but also in the context of how the nervous system regulates many many. \", 'Functions and behaviors that are important to all of you, your ability to think your ability, to exercise, your ability to gain weight lose weight. ', 'Whatever your goals might happen, to be sugar, plays a critical role in achieving those goals. ', \"And in some cases, if you're ingesting too much at the wrong times of the wrong forms, sugar can actually impede those goals. \", 'In fact, sugar can prevent all the right behaviors from allowing you to achieve the goals that you want. ', 'So today we are going to place sugar into its proper context. ', 'The way I want to start. ']\n",
            "['Start off by doing that is to tell you a little bit of what happens when we eat and a little bit of what the brain does to respond to those events. ', 'So what happens when we eat? ', \"Well, I've done an entire episode on metabolism. \", \"So if you're interested in the full Cascade of hormonal and neural events that occurs when we eat, please check out that episode. \", \"But for sake of today's discussion, let's just take a what I call Top Contour view of the hormonal response to ingesting food. \", 'Now, any time we eat, that is the consequence of a number of things that happen. ', \"Before we ate, there's a hormone in our brain and body called ghrelin. \", 'Spelled GH reli. ', \"N ghrelin is a hormone that increases depending on how long it's been since we ate last. \", 'Okay. ', \"So the longer it's been since we had a meal ghrelin levels are going to be higher and higher and higher and it essentially makes us hungry by interacting with particular neurons in an area of the brain called the arcuate nucleus of the hypothalamus.- \", 'and some other areas as well, like the lateral hypothalamus. ', \"You don't need to know the names of those brain areas. \", \"But if you'd like to know them, there they are ghrelin increases. \", 'It tends to make us hungry. ', 'And then when we eat typically, what happens is ghrelin levels, go down. ']\n",
            "[\"So it's a very logical system. \", 'Now when we eat assuming that we eat carbohydrates, but even if we just eat some protein and some fats, we will experience a slight or in some cases, a large rise in blood. ', 'Glucose blood. ', \"Glucose is simply blood sugar and the body and brain, we should say particular the nervous system doesn't function. \", 'Well, if blood sugar is too high or too low. ', 'So as a consequence we have another hormone, which is released from the pancreas, which is called insulin which helps regulate the amount of glucose in the bloodstream. ', 'So even if you were to ingest, an entire cup and 8 ounce cup of pure table sugar, which would send your blood glucose very very high assuming that you have a normal. ']\n",
            "[\"Insulin response that you're not diabetic that insulin response would help clamp that blood glucose level so that it did not cause damage to your brain and body. \", \"Because if blood sugar goes too high, it's actually toxic to neurons and other cells of your body can kill them off and neurons of the central nervous system in the brain and spinal cord. \", 'Once they are dead. ', 'They do not come back. ', 'So your biological systems understand this at a biological level that is and prevent that death of cells due to high blood sugar by keeping. ', 'Insulin around in order to clamp blood glucose diabetics. ', \"We call them type 1 diabetics who don't make insulin have to take insulin when they eat in particular, when they foods that raise their blood sugar specifically to avoid that neurotoxicity in the other deleterious effects of high blood sugar. \", 'Okay. ', 'So ghrelin is a hormone that goes up the longer. ', \"It's been since we've eaten it tends to stimulate hunger when we eat ghrelin is suppressed blood glucose typically goes up, especially when we a carbohydrate containing meal. \", 'When blood glucose goes up, its regulated in the body meaning its Peaks and its valleys are more less smoothed out and that glucose is sequestered. ', \"It's taken away where it needs to be taken away. \", \"And in certain locations, it's delivered to cells so that those cells can use the glucose. \", 'Now, one of the chief organs for glucose utilization is the brain neurons are tremendously metabolically active and their preferred mode of metabolism is glucose metabolism. ', \"The words neurons basically run on sugar, which is not to say that you should eat a lot of sugar as you'll see today. \", 'There are states of mind and body. ', 'For instance, fasted States in which people report having immense amounts of mental Clarity and their blood glucose is actually quite low. ', 'So it is simply not the case that the more sugar that you ingest the better that your brain will function. ', 'But it is the case that for most people, meaning people who are not on a ketogenic or very low carbohydrate diet. ', \"They're not adapted to low carbohydrate. \", 'Diets that neurons in their brain and body are using glucose in order to function. ', \"That's what allows those neurons to fire electrical, potentials. \", \"That's how we refer to it. \", 'Firing meaning, sending electrical signals down their lengths to communicate with other neurons. ']\n"
          ]
        }
      ]
    },
    {
      "cell_type": "code",
      "source": [
        "print(sentenced_text)"
      ],
      "metadata": {
        "id": "uW9wjmyOhdOg",
        "outputId": "c6aadfd2-f897-4320-85ad-caf524ed9520",
        "colab": {
          "base_uri": "https://localhost:8080/"
        }
      },
      "execution_count": null,
      "outputs": [
        {
          "output_type": "stream",
          "name": "stdout",
          "text": [
            "['Welcome to the huberman Lab podcast, where we discuss science and science based tools for everyday life. ', \"I'm Andrew huberman, and I'm a professor of neurobiology and Ophthalmology at Stanford school of medicine. \", 'Today. ', 'We are going to discuss sugar in particular how our nervous system regulates our sugar intake and are seeking of sugar. ', \"We're also going to discuss how sugar regulates our nervous system and as you'll soon, learn sugar really impacts our brain and body by two main mechanisms. \", 'Isms, one of those mechanisms is based on the Sweet Taste of sugar which itself is rewarding. ', \"Even if you're not much of a sweet tooth. \", 'I confess. ', \"I'm not most people enjoy sweet tastes more than bitter tastes and the Sweet Taste of sugar. \", 'And its various forms is strongly reinforcing. ', 'Meaning it triggers the activation of neurons nerve cells in the brain and body that make us want to consume more of that sweet substance. ', 'Incidentally. ', 'Sweet taste also make us want to eat more of other substances. ', 'Senses as well. ', 'You may be familiar with that phenomenon. ', 'Now sugar also triggers mechanisms in the brain and body based on its nutritive content independent of its sweetness. ', 'What that means is that the actual caloric content and the way that Sugar interacts with your nervous system at a subconscious level without your awareness, also impacts your craving and seeking of sugar and other Foods today. ', \"We are going to discuss what happens when you ingest sugar in terms of your body's reaction. \", 'Your brains reaction. ', \"We are also going to talk about what happens when you don't ingest enough sugar, because it turns out sugar is such a powerful fuel for the brain that under conditions, where people don't ingest enough sugar or where their so-called blood glucose, which is basically a blood sugar of a particular form gets too low there neurons, don't function as well. \", 'That said, their conditions of very low blood sugar in which neurons can function even better. ', 'So today we are going to talk about the ins and outs the ups and downs of sugar. ', \"As it relates to your nervous system and by the end of this episode, I'm confident that you have a much clearer picture as to how much sugar you should be ingesting, whether or not you should avoid sugars that you're currently eating, and you will certainly understand much more about the energy and fuel sources that your brain relies on which I'm certain, will allow you to make better informed choices about the foods, you eat, and avoid toward mental health, physical health, and performance. \", \"I'm pleased to announce that I'm hosting to Live Events. \", 'This may the first live event will Hosted in Seattle, Washington on May 17th. ', 'The second live event will be hosted in Portland, Oregon on May 18th. ', 'Both are part of a lecture series entitled, the brain-body contract during which I will discuss science and science based tools for mental health, physical, health, and performance. ', \"I should point out that while some of the material, I'll cover will overlap with information covered here on the huberman Lab podcast and on various social media posts. \", 'Most of the information I will cover is going to be distinct from information covered on the podcast. ', 'Or elsewhere. ', \"So once again, it's Seattle on May 17th. \", 'Portland on May 18th. ', 'You can access tickets by going to human lab.com, / tour and I hope to see you there. ', \"Before we begin, I'd like to emphasize that this podcast is separate from my teaching and research roles at Stanford. \", 'It is however, a part of my desire and effort to bring zero cost to Consumer information about science and science related tools to the general public in keeping with that theme. ', \"I'd like to thank the sponsors of today's podcast. \", 'Our first sponsor is thesis thesis makes what are called? ', 'Nootropics, which means smart drugs. ', 'Now, to be honest. ', 'I am not a fan of the term nootropics. ', \"I don't believe in smart drugs. \", \"In the sense that I don't believe that there's any one substance, or collection of substances that can make us smarter. \", 'I do believe based on science. ', 'However, that there are particular, neural circuits and brain functions that allow us to be more focused, more alert access creativity, be more motivated at cetera. ', \"That's just the way that the brain works different, neural circuits for different brain States. \", \"And so the idea of a nootropic that's just going to make a Smarter all around fails to acknowledge that. \", 'Smarter is many things, right? ', \"If you're an artist or a musician, you're doing math, you're doing accounting a different part of the day. \", 'You need to be creative. ', 'These are all different brain, processes thesis understands this. ', 'And as far as I know that the first nootropics company to create targeted, nootropics for specific outcomes. ', 'They only use the highest quality ingredients, which of course is essential. ', \"Some of those I've talked about on the podcast, things like DHA, ginkgo biloba, phosphatidyl serine. \", 'They give you the ability to try several different blends over the course of a month. ', 'Discover which nootropics work best for your unique brain, chemistry and genetics and goals. ', \"And with that personalization design, a kit of nootropics that's ideal for the different brain and body States. \", 'You want to access. ', \"I've been using thesis for more than six months now and I can confidently say that their nootropics have been a total Game Changer. \", \"My go-to formula is the clarity formula or sometimes I'll use their energy formula before training to get your own personalized. \", 'Nootropic starter kit. ', 'Go online to take thesis.com huberman, take a A minute quiz and thesis will send you four different formulas to try in your first month. ', \"That's take thesis.com huberman and use the code huberman at checkout for 10% off. \", 'Your first order. ', \"Today's episode is also brought To Us by athletic greens now called a G1. \", 'Athletic greens is an all-in-one vitamin mineral, probiotic drink. ', \"I've been taking athletic greens since 2012. \", \"So I'm delighted that they're sponsoring the podcast. \", 'The reason I started taking athletic Greens in the reason. ', 'I still take out letter greens once or twice a day, is that it helps me, cover all of my bases. ', 'Nutritional needs. ', 'It makes up for any deficiencies that I might have. ', 'In addition. ', 'It has probiotics which are vital for microbiome Health. ', \"I've done a couple of episodes now on the so-called gut microbiome and the ways in which the microbiome interacts, with your immune system, with your brain to regulate mood and essentially with every biological system relevant to health throughout your brain and body without let it greens. \", 'I get the vitamins. ', 'I need the minerals. ', 'I need and the probiotics to support my microbiome. ', \"If you'd like to try out, let it greens, you can go. \", 'Two athletic greens.com huberman and claim a special offer. ', \"They'll give you five free travel packs, which make it easy to mix up athletic greens while you're on the road, plus a year supply of vitamin D3 K to our ton of data. \", \"Now showing that vitamin D3 is essential for various aspects of our brain and body Health, even if we're getting a lot of sunshine, many of us are still deficient in vitamin D3. \", 'And K2 is also important because it regulates things like cardiovascular function calcium in the body. ', 'And so on again, go to athletic greens.com hubermann. ', \"To claim the special offer of the five free travel packs and the year supply of vitamin D3 K to today's episode is also brought To Us by inside tracker inside trackers, a personalized nutrition platform. \", 'That analyzes data from your blood and DNA to help you better understand your body and help you reach your health goals. ', \"I've long been a believer in getting regular blood work done. \", 'For the simple reason that many of the factors that impact your immediate and long-term Health can only be assessed with a quality blood test. ', \"What's unique about inside tracker. \", 'Is that while there are a lot of different Tests out there for hormones and metabolic factors Etc with inside tracker. ', 'You get the numbers back in terms of your levels, but they also give you very clear. ', 'Directives. ', \"In terms of Lifestyle nutrition and supplementation that can help you bring those values into the ranges that are best for you and your health goals and that's very different than a lot of the other programs where you get a lot of information. \", \"We don't really know what to do with that information inside tracker makes that all very easy to understand and very actionable based on the very easy-to-use dashboard at inside tracker. \", \"If you'd like to try inside track, You can visit inside tracker.com huberman to get 20% off any of inside. \", 'Trackers plans. ', 'Just use the code huberman at checkout. ', \"Okay, let's talk about sugar. \", \"Let's talk about how sugar impacts your brain and how your brain impacts your pursuit or your avoidance of sugar. \", \"Let's get a few things out of the way. \", 'First. ', \"The first thing is that there's nothing inherently bad about sugar. \", \"I know the word sugar gets a bad rap nowadays and indeed, you're going to hear over and over again. \", 'During this podcast that consuming a lot of refined sugars in particular, high fructose, corn syrup is known to have a very large number of bad effects on the brain and body. ', \"I don't know that there's any one that really debates that anymore, even if we just agree and I think we should all agree on the so-called calories in calories out principle, right? \", \"It's a principle of thermodynamics that if we ingest more energy than we burn, we are going to gain weight. \", 'If we ingest less energy than we burn, we are generally going to lose weight and if The two things are imbalance ingestion and burning of energy. ', \"Well, then we're going to maintain weight. \", 'So everyone agrees on that. ', 'I agree on that. ', \"But beyond that there are a number of ways in which particular nutrients in the case of today's episode sugar impact. \", 'The way that the brain works such that we tend to seek out more of particular nutrients. ', 'For instance. ', 'If we eat sugar, there are two or at least two mechanisms by which we will crave more sugar. ', 'I think. ', 'People are aware of that experience. ', \"But today I'm going to explain exactly how that works. \", 'But also that when we ingest sugar, it has a bunch of different effects on the way that our neural circuits work that can allow us to be more or less focused more or less agitated more or less happy more or less depressed in some cases. ', 'So today as we explore this thing. ', \"We're calling Sugar, We're Going to explore that mainly in the context of the nervous system, but also in the context of how the nervous system regulates many many. \", 'Functions and behaviors that are important to all of you, your ability to think your ability, to exercise, your ability to gain weight lose weight. ', 'Whatever your goals might happen, to be sugar, plays a critical role in achieving those goals. ', \"And in some cases, if you're ingesting too much at the wrong times of the wrong forms, sugar can actually impede those goals. \", 'In fact, sugar can prevent all the right behaviors from allowing you to achieve the goals that you want. ', 'So today we are going to place sugar into its proper context. ', 'The way I want to start. ', 'Start off by doing that is to tell you a little bit of what happens when we eat and a little bit of what the brain does to respond to those events. ', 'So what happens when we eat? ', \"Well, I've done an entire episode on metabolism. \", \"So if you're interested in the full Cascade of hormonal and neural events that occurs when we eat, please check out that episode. \", \"But for sake of today's discussion, let's just take a what I call Top Contour view of the hormonal response to ingesting food. \", 'Now, any time we eat, that is the consequence of a number of things that happen. ', \"Before we ate, there's a hormone in our brain and body called ghrelin. \", 'Spelled GH reli. ', \"N ghrelin is a hormone that increases depending on how long it's been since we ate last. \", 'Okay. ', \"So the longer it's been since we had a meal ghrelin levels are going to be higher and higher and higher and it essentially makes us hungry by interacting with particular neurons in an area of the brain called the arcuate nucleus of the hypothalamus.- \", 'and some other areas as well, like the lateral hypothalamus. ', \"You don't need to know the names of those brain areas. \", \"But if you'd like to know them, there they are ghrelin increases. \", 'It tends to make us hungry. ', 'And then when we eat typically, what happens is ghrelin levels, go down. ', \"So it's a very logical system. \", 'Now when we eat assuming that we eat carbohydrates, but even if we just eat some protein and some fats, we will experience a slight or in some cases, a large rise in blood. ', 'Glucose blood. ', \"Glucose is simply blood sugar and the body and brain, we should say particular the nervous system doesn't function. \", 'Well, if blood sugar is too high or too low. ', 'So as a consequence we have another hormone, which is released from the pancreas, which is called insulin which helps regulate the amount of glucose in the bloodstream. ', 'So even if you were to ingest, an entire cup and 8 ounce cup of pure table sugar, which would send your blood glucose very very high assuming that you have a normal. ', \"Insulin response that you're not diabetic that insulin response would help clamp that blood glucose level so that it did not cause damage to your brain and body. \", \"Because if blood sugar goes too high, it's actually toxic to neurons and other cells of your body can kill them off and neurons of the central nervous system in the brain and spinal cord. \", 'Once they are dead. ', 'They do not come back. ', 'So your biological systems understand this at a biological level that is and prevent that death of cells due to high blood sugar by keeping. ', 'Insulin around in order to clamp blood glucose diabetics. ', \"We call them type 1 diabetics who don't make insulin have to take insulin when they eat in particular, when they foods that raise their blood sugar specifically to avoid that neurotoxicity in the other deleterious effects of high blood sugar. \", 'Okay. ', 'So ghrelin is a hormone that goes up the longer. ', \"It's been since we've eaten it tends to stimulate hunger when we eat ghrelin is suppressed blood glucose typically goes up, especially when we a carbohydrate containing meal. \", 'When blood glucose goes up, its regulated in the body meaning its Peaks and its valleys are more less smoothed out and that glucose is sequestered. ', \"It's taken away where it needs to be taken away. \", \"And in certain locations, it's delivered to cells so that those cells can use the glucose. \", 'Now, one of the chief organs for glucose utilization is the brain neurons are tremendously metabolically active and their preferred mode of metabolism is glucose metabolism. ', \"The words neurons basically run on sugar, which is not to say that you should eat a lot of sugar as you'll see today. \", 'There are states of mind and body. ', 'For instance, fasted States in which people report having immense amounts of mental Clarity and their blood glucose is actually quite low. ', 'So it is simply not the case that the more sugar that you ingest the better that your brain will function. ', 'But it is the case that for most people, meaning people who are not on a ketogenic or very low carbohydrate diet. ', \"They're not adapted to low carbohydrate. \", 'Diets that neurons in their brain and body are using glucose in order to function. ', \"That's what allows those neurons to fire electrical, potentials. \", \"That's how we refer to it. \", 'Firing meaning, sending electrical signals down their lengths to communicate with other neurons. ']\n"
          ]
        }
      ]
    },
    {
      "cell_type": "markdown",
      "source": [
        "### 處理輸入"
      ],
      "metadata": {
        "id": "hK8qwE7U5VSG"
      }
    },
    {
      "cell_type": "code",
      "source": [
        "# 將每個段落內的句子合起來變成string\n",
        "podcast_test = [\"\"]*len(segmented_text)\n",
        "for i in range(len(segmented_text)):\n",
        "  for j in range(len(segmented_text[i])):\n",
        "    podcast_test[i]+=segmented_text[i][j]"
      ],
      "metadata": {
        "id": "STBbCVmZ5UzG"
      },
      "execution_count": null,
      "outputs": []
    },
    {
      "cell_type": "code",
      "source": [
        "print(podcast_test)"
      ],
      "metadata": {
        "id": "CO9z3rq8hpNg",
        "outputId": "8949eb1e-4c1f-47a2-b64e-05624bfdb101",
        "colab": {
          "base_uri": "https://localhost:8080/"
        }
      },
      "execution_count": null,
      "outputs": [
        {
          "output_type": "stream",
          "name": "stdout",
          "text": [
            "[\"Welcome to the huberman Lab podcast, where we discuss science and science based tools for everyday life. I'm Andrew huberman, and I'm a professor of neurobiology and Ophthalmology at Stanford school of medicine. Today. We are going to discuss sugar in particular how our nervous system regulates our sugar intake and are seeking of sugar. We're also going to discuss how sugar regulates our nervous system and as you'll soon, learn sugar really impacts our brain and body by two main mechanisms. Isms, one of those mechanisms is based on the Sweet Taste of sugar which itself is rewarding. Even if you're not much of a sweet tooth. I confess. I'm not most people enjoy sweet tastes more than bitter tastes and the Sweet Taste of sugar. And its various forms is strongly reinforcing. Meaning it triggers the activation of neurons nerve cells in the brain and body that make us want to consume more of that sweet substance. Incidentally. Sweet taste also make us want to eat more of other substances. Senses as well. You may be familiar with that phenomenon. Now sugar also triggers mechanisms in the brain and body based on its nutritive content independent of its sweetness. What that means is that the actual caloric content and the way that Sugar interacts with your nervous system at a subconscious level without your awareness, also impacts your craving and seeking of sugar and other Foods today. We are going to discuss what happens when you ingest sugar in terms of your body's reaction. Your brains reaction. We are also going to talk about what happens when you don't ingest enough sugar, because it turns out sugar is such a powerful fuel for the brain that under conditions, where people don't ingest enough sugar or where their so-called blood glucose, which is basically a blood sugar of a particular form gets too low there neurons, don't function as well. That said, their conditions of very low blood sugar in which neurons can function even better. So today we are going to talk about the ins and outs the ups and downs of sugar. As it relates to your nervous system and by the end of this episode, I'm confident that you have a much clearer picture as to how much sugar you should be ingesting, whether or not you should avoid sugars that you're currently eating, and you will certainly understand much more about the energy and fuel sources that your brain relies on which I'm certain, will allow you to make better informed choices about the foods, you eat, and avoid toward mental health, physical health, and performance. I'm pleased to announce that I'm hosting to Live Events. \", \"This may the first live event will Hosted in Seattle, Washington on May 17th. The second live event will be hosted in Portland, Oregon on May 18th. Both are part of a lecture series entitled, the brain-body contract during which I will discuss science and science based tools for mental health, physical, health, and performance. I should point out that while some of the material, I'll cover will overlap with information covered here on the huberman Lab podcast and on various social media posts. Most of the information I will cover is going to be distinct from information covered on the podcast. Or elsewhere. So once again, it's Seattle on May 17th. Portland on May 18th. \", \"You can access tickets by going to human lab.com, / tour and I hope to see you there. Before we begin, I'd like to emphasize that this podcast is separate from my teaching and research roles at Stanford. It is however, a part of my desire and effort to bring zero cost to Consumer information about science and science related tools to the general public in keeping with that theme. I'd like to thank the sponsors of today's podcast. Our first sponsor is thesis thesis makes what are called? Nootropics, which means smart drugs. Now, to be honest. I am not a fan of the term nootropics. I don't believe in smart drugs. In the sense that I don't believe that there's any one substance, or collection of substances that can make us smarter. I do believe based on science. However, that there are particular, neural circuits and brain functions that allow us to be more focused, more alert access creativity, be more motivated at cetera. That's just the way that the brain works different, neural circuits for different brain States. And so the idea of a nootropic that's just going to make a Smarter all around fails to acknowledge that. Smarter is many things, right? If you're an artist or a musician, you're doing math, you're doing accounting a different part of the day. You need to be creative. These are all different brain, processes thesis understands this. And as far as I know that the first nootropics company to create targeted, nootropics for specific outcomes. They only use the highest quality ingredients, which of course is essential. Some of those I've talked about on the podcast, things like DHA, ginkgo biloba, phosphatidyl serine. They give you the ability to try several different blends over the course of a month. Discover which nootropics work best for your unique brain, chemistry and genetics and goals. And with that personalization design, a kit of nootropics that's ideal for the different brain and body States. You want to access. I've been using thesis for more than six months now and I can confidently say that their nootropics have been a total Game Changer. My go-to formula is the clarity formula or sometimes I'll use their energy formula before training to get your own personalized. Nootropic starter kit. Go online to take thesis.com huberman, take a A minute quiz and thesis will send you four different formulas to try in your first month. That's take thesis.com huberman and use the code huberman at checkout for 10% off. Your first order. Today's episode is also brought To Us by athletic greens now called a G1. Athletic greens is an all-in-one vitamin mineral, probiotic drink. I've been taking athletic greens since 2012. So I'm delighted that they're sponsoring the podcast. The reason I started taking athletic Greens in the reason. I still take out letter greens once or twice a day, is that it helps me, cover all of my bases. Nutritional needs. It makes up for any deficiencies that I might have. In addition. It has probiotics which are vital for microbiome Health. I've done a couple of episodes now on the so-called gut microbiome and the ways in which the microbiome interacts, with your immune system, with your brain to regulate mood and essentially with every biological system relevant to health throughout your brain and body without let it greens. I get the vitamins. I need the minerals. I need and the probiotics to support my microbiome. If you'd like to try out, let it greens, you can go. Two athletic greens.com huberman and claim a special offer. They'll give you five free travel packs, which make it easy to mix up athletic greens while you're on the road, plus a year supply of vitamin D3 K to our ton of data. Now showing that vitamin D3 is essential for various aspects of our brain and body Health, even if we're getting a lot of sunshine, many of us are still deficient in vitamin D3. And K2 is also important because it regulates things like cardiovascular function calcium in the body. And so on again, go to athletic greens.com hubermann. To claim the special offer of the five free travel packs and the year supply of vitamin D3 K to today's episode is also brought To Us by inside tracker inside trackers, a personalized nutrition platform. That analyzes data from your blood and DNA to help you better understand your body and help you reach your health goals. I've long been a believer in getting regular blood work done. For the simple reason that many of the factors that impact your immediate and long-term Health can only be assessed with a quality blood test. What's unique about inside tracker. Is that while there are a lot of different Tests out there for hormones and metabolic factors Etc with inside tracker. You get the numbers back in terms of your levels, but they also give you very clear. Directives. In terms of Lifestyle nutrition and supplementation that can help you bring those values into the ranges that are best for you and your health goals and that's very different than a lot of the other programs where you get a lot of information. We don't really know what to do with that information inside tracker makes that all very easy to understand and very actionable based on the very easy-to-use dashboard at inside tracker. If you'd like to try inside track, You can visit inside tracker.com huberman to get 20% off any of inside. Trackers plans. Just use the code huberman at checkout. Okay, let's talk about sugar. Let's talk about how sugar impacts your brain and how your brain impacts your pursuit or your avoidance of sugar. Let's get a few things out of the way. First. The first thing is that there's nothing inherently bad about sugar. I know the word sugar gets a bad rap nowadays and indeed, you're going to hear over and over again. During this podcast that consuming a lot of refined sugars in particular, high fructose, corn syrup is known to have a very large number of bad effects on the brain and body. I don't know that there's any one that really debates that anymore, even if we just agree and I think we should all agree on the so-called calories in calories out principle, right? \", \"It's a principle of thermodynamics that if we ingest more energy than we burn, we are going to gain weight. If we ingest less energy than we burn, we are generally going to lose weight and if The two things are imbalance ingestion and burning of energy. Well, then we're going to maintain weight. \", \"So everyone agrees on that. I agree on that. But beyond that there are a number of ways in which particular nutrients in the case of today's episode sugar impact. The way that the brain works such that we tend to seek out more of particular nutrients. For instance. If we eat sugar, there are two or at least two mechanisms by which we will crave more sugar. I think. People are aware of that experience. But today I'm going to explain exactly how that works. But also that when we ingest sugar, it has a bunch of different effects on the way that our neural circuits work that can allow us to be more or less focused more or less agitated more or less happy more or less depressed in some cases. So today as we explore this thing. We're calling Sugar, We're Going to explore that mainly in the context of the nervous system, but also in the context of how the nervous system regulates many many. Functions and behaviors that are important to all of you, your ability to think your ability, to exercise, your ability to gain weight lose weight. Whatever your goals might happen, to be sugar, plays a critical role in achieving those goals. And in some cases, if you're ingesting too much at the wrong times of the wrong forms, sugar can actually impede those goals. In fact, sugar can prevent all the right behaviors from allowing you to achieve the goals that you want. So today we are going to place sugar into its proper context. The way I want to start. \", \"Start off by doing that is to tell you a little bit of what happens when we eat and a little bit of what the brain does to respond to those events. So what happens when we eat? Well, I've done an entire episode on metabolism. So if you're interested in the full Cascade of hormonal and neural events that occurs when we eat, please check out that episode. But for sake of today's discussion, let's just take a what I call Top Contour view of the hormonal response to ingesting food. Now, any time we eat, that is the consequence of a number of things that happen. Before we ate, there's a hormone in our brain and body called ghrelin. Spelled GH reli. N ghrelin is a hormone that increases depending on how long it's been since we ate last. Okay. So the longer it's been since we had a meal ghrelin levels are going to be higher and higher and higher and it essentially makes us hungry by interacting with particular neurons in an area of the brain called the arcuate nucleus of the hypothalamus.- and some other areas as well, like the lateral hypothalamus. You don't need to know the names of those brain areas. But if you'd like to know them, there they are ghrelin increases. It tends to make us hungry. And then when we eat typically, what happens is ghrelin levels, go down. \", \"So it's a very logical system. Now when we eat assuming that we eat carbohydrates, but even if we just eat some protein and some fats, we will experience a slight or in some cases, a large rise in blood. Glucose blood. Glucose is simply blood sugar and the body and brain, we should say particular the nervous system doesn't function. Well, if blood sugar is too high or too low. So as a consequence we have another hormone, which is released from the pancreas, which is called insulin which helps regulate the amount of glucose in the bloodstream. So even if you were to ingest, an entire cup and 8 ounce cup of pure table sugar, which would send your blood glucose very very high assuming that you have a normal. \", \"Insulin response that you're not diabetic that insulin response would help clamp that blood glucose level so that it did not cause damage to your brain and body. Because if blood sugar goes too high, it's actually toxic to neurons and other cells of your body can kill them off and neurons of the central nervous system in the brain and spinal cord. Once they are dead. They do not come back. So your biological systems understand this at a biological level that is and prevent that death of cells due to high blood sugar by keeping. Insulin around in order to clamp blood glucose diabetics. We call them type 1 diabetics who don't make insulin have to take insulin when they eat in particular, when they foods that raise their blood sugar specifically to avoid that neurotoxicity in the other deleterious effects of high blood sugar. Okay. So ghrelin is a hormone that goes up the longer. It's been since we've eaten it tends to stimulate hunger when we eat ghrelin is suppressed blood glucose typically goes up, especially when we a carbohydrate containing meal. When blood glucose goes up, its regulated in the body meaning its Peaks and its valleys are more less smoothed out and that glucose is sequestered. It's taken away where it needs to be taken away. And in certain locations, it's delivered to cells so that those cells can use the glucose. Now, one of the chief organs for glucose utilization is the brain neurons are tremendously metabolically active and their preferred mode of metabolism is glucose metabolism. The words neurons basically run on sugar, which is not to say that you should eat a lot of sugar as you'll see today. There are states of mind and body. For instance, fasted States in which people report having immense amounts of mental Clarity and their blood glucose is actually quite low. So it is simply not the case that the more sugar that you ingest the better that your brain will function. But it is the case that for most people, meaning people who are not on a ketogenic or very low carbohydrate diet. They're not adapted to low carbohydrate. Diets that neurons in their brain and body are using glucose in order to function. That's what allows those neurons to fire electrical, potentials. That's how we refer to it. Firing meaning, sending electrical signals down their lengths to communicate with other neurons. \"]\n"
          ]
        }
      ]
    },
    {
      "cell_type": "markdown",
      "source": [
        "# Headline generator"
      ],
      "metadata": {
        "id": "NvjchzbJ4w-1"
      }
    },
    {
      "cell_type": "code",
      "source": [
        "! pip install transformers datasets"
      ],
      "metadata": {
        "colab": {
          "base_uri": "https://localhost:8080/",
          "height": 1000
        },
        "id": "3C2ZaL7C47bW",
        "outputId": "c0223181-4419-44d5-be41-67ccfb1aaf41"
      },
      "execution_count": null,
      "outputs": [
        {
          "output_type": "stream",
          "name": "stdout",
          "text": [
            "Collecting transformers\n",
            "  Downloading transformers-4.18.0-py3-none-any.whl (4.0 MB)\n",
            "\u001b[K     |████████████████████████████████| 4.0 MB 5.6 MB/s \n",
            "\u001b[?25hCollecting datasets\n",
            "  Downloading datasets-2.1.0-py3-none-any.whl (325 kB)\n",
            "\u001b[K     |████████████████████████████████| 325 kB 45.4 MB/s \n",
            "\u001b[?25hRequirement already satisfied: filelock in /usr/local/lib/python3.7/dist-packages (from transformers) (3.6.0)\n",
            "Collecting pyyaml>=5.1\n",
            "  Downloading PyYAML-6.0-cp37-cp37m-manylinux_2_5_x86_64.manylinux1_x86_64.manylinux_2_12_x86_64.manylinux2010_x86_64.whl (596 kB)\n",
            "\u001b[K     |████████████████████████████████| 596 kB 35.1 MB/s \n",
            "\u001b[?25hRequirement already satisfied: regex!=2019.12.17 in /usr/local/lib/python3.7/dist-packages (from transformers) (2019.12.20)\n",
            "Requirement already satisfied: packaging>=20.0 in /usr/local/lib/python3.7/dist-packages (from transformers) (21.3)\n",
            "Collecting tokenizers!=0.11.3,<0.13,>=0.11.1\n",
            "  Downloading tokenizers-0.12.1-cp37-cp37m-manylinux_2_12_x86_64.manylinux2010_x86_64.whl (6.6 MB)\n",
            "\u001b[K     |████████████████████████████████| 6.6 MB 37.8 MB/s \n",
            "\u001b[?25hRequirement already satisfied: numpy>=1.17 in /usr/local/lib/python3.7/dist-packages (from transformers) (1.21.5)\n",
            "Collecting sacremoses\n",
            "  Downloading sacremoses-0.0.49-py3-none-any.whl (895 kB)\n",
            "\u001b[K     |████████████████████████████████| 895 kB 33.4 MB/s \n",
            "\u001b[?25hRequirement already satisfied: importlib-metadata in /usr/local/lib/python3.7/dist-packages (from transformers) (4.11.3)\n",
            "Requirement already satisfied: requests in /usr/local/lib/python3.7/dist-packages (from transformers) (2.23.0)\n",
            "Collecting huggingface-hub<1.0,>=0.1.0\n",
            "  Downloading huggingface_hub-0.5.1-py3-none-any.whl (77 kB)\n",
            "\u001b[K     |████████████████████████████████| 77 kB 2.7 MB/s \n",
            "\u001b[?25hRequirement already satisfied: tqdm>=4.27 in /usr/local/lib/python3.7/dist-packages (from transformers) (4.64.0)\n",
            "Requirement already satisfied: typing-extensions>=3.7.4.3 in /usr/local/lib/python3.7/dist-packages (from huggingface-hub<1.0,>=0.1.0->transformers) (4.1.1)\n",
            "Requirement already satisfied: pyparsing!=3.0.5,>=2.0.2 in /usr/local/lib/python3.7/dist-packages (from packaging>=20.0->transformers) (3.0.8)\n",
            "Requirement already satisfied: dill in /usr/local/lib/python3.7/dist-packages (from datasets) (0.3.4)\n",
            "Requirement already satisfied: pandas in /usr/local/lib/python3.7/dist-packages (from datasets) (1.3.5)\n",
            "Requirement already satisfied: multiprocess in /usr/local/lib/python3.7/dist-packages (from datasets) (0.70.12.2)\n",
            "Requirement already satisfied: pyarrow>=5.0.0 in /usr/local/lib/python3.7/dist-packages (from datasets) (6.0.1)\n",
            "Collecting fsspec[http]>=2021.05.0\n",
            "  Downloading fsspec-2022.3.0-py3-none-any.whl (136 kB)\n",
            "\u001b[K     |████████████████████████████████| 136 kB 34.4 MB/s \n",
            "\u001b[?25hCollecting responses<0.19\n",
            "  Downloading responses-0.18.0-py3-none-any.whl (38 kB)\n",
            "Collecting xxhash\n",
            "  Downloading xxhash-3.0.0-cp37-cp37m-manylinux_2_17_x86_64.manylinux2014_x86_64.whl (212 kB)\n",
            "\u001b[K     |████████████████████████████████| 212 kB 31.9 MB/s \n",
            "\u001b[?25hCollecting aiohttp\n",
            "  Downloading aiohttp-3.8.1-cp37-cp37m-manylinux_2_5_x86_64.manylinux1_x86_64.manylinux_2_12_x86_64.manylinux2010_x86_64.whl (1.1 MB)\n",
            "\u001b[K     |████████████████████████████████| 1.1 MB 31.8 MB/s \n",
            "\u001b[?25hRequirement already satisfied: urllib3!=1.25.0,!=1.25.1,<1.26,>=1.21.1 in /usr/local/lib/python3.7/dist-packages (from requests->transformers) (1.24.3)\n",
            "Requirement already satisfied: idna<3,>=2.5 in /usr/local/lib/python3.7/dist-packages (from requests->transformers) (2.10)\n",
            "Requirement already satisfied: certifi>=2017.4.17 in /usr/local/lib/python3.7/dist-packages (from requests->transformers) (2021.10.8)\n",
            "Requirement already satisfied: chardet<4,>=3.0.2 in /usr/local/lib/python3.7/dist-packages (from requests->transformers) (3.0.4)\n",
            "Collecting urllib3!=1.25.0,!=1.25.1,<1.26,>=1.21.1\n",
            "  Downloading urllib3-1.25.11-py2.py3-none-any.whl (127 kB)\n",
            "\u001b[K     |████████████████████████████████| 127 kB 35.6 MB/s \n",
            "\u001b[?25hCollecting async-timeout<5.0,>=4.0.0a3\n",
            "  Downloading async_timeout-4.0.2-py3-none-any.whl (5.8 kB)\n",
            "Collecting multidict<7.0,>=4.5\n",
            "  Downloading multidict-6.0.2-cp37-cp37m-manylinux_2_17_x86_64.manylinux2014_x86_64.whl (94 kB)\n",
            "\u001b[K     |████████████████████████████████| 94 kB 1.9 MB/s \n",
            "\u001b[?25hCollecting yarl<2.0,>=1.0\n",
            "  Downloading yarl-1.7.2-cp37-cp37m-manylinux_2_5_x86_64.manylinux1_x86_64.manylinux_2_12_x86_64.manylinux2010_x86_64.whl (271 kB)\n",
            "\u001b[K     |████████████████████████████████| 271 kB 39.9 MB/s \n",
            "\u001b[?25hCollecting aiosignal>=1.1.2\n",
            "  Downloading aiosignal-1.2.0-py3-none-any.whl (8.2 kB)\n",
            "Requirement already satisfied: charset-normalizer<3.0,>=2.0 in /usr/local/lib/python3.7/dist-packages (from aiohttp->datasets) (2.0.12)\n",
            "Collecting asynctest==0.13.0\n",
            "  Downloading asynctest-0.13.0-py3-none-any.whl (26 kB)\n",
            "Requirement already satisfied: attrs>=17.3.0 in /usr/local/lib/python3.7/dist-packages (from aiohttp->datasets) (21.4.0)\n",
            "Collecting frozenlist>=1.1.1\n",
            "  Downloading frozenlist-1.3.0-cp37-cp37m-manylinux_2_5_x86_64.manylinux1_x86_64.manylinux_2_17_x86_64.manylinux2014_x86_64.whl (144 kB)\n",
            "\u001b[K     |████████████████████████████████| 144 kB 36.5 MB/s \n",
            "\u001b[?25hRequirement already satisfied: zipp>=0.5 in /usr/local/lib/python3.7/dist-packages (from importlib-metadata->transformers) (3.8.0)\n",
            "Requirement already satisfied: pytz>=2017.3 in /usr/local/lib/python3.7/dist-packages (from pandas->datasets) (2018.9)\n",
            "Requirement already satisfied: python-dateutil>=2.7.3 in /usr/local/lib/python3.7/dist-packages (from pandas->datasets) (2.8.2)\n",
            "Requirement already satisfied: six>=1.5 in /usr/local/lib/python3.7/dist-packages (from python-dateutil>=2.7.3->pandas->datasets) (1.15.0)\n",
            "Requirement already satisfied: joblib in /usr/local/lib/python3.7/dist-packages (from sacremoses->transformers) (1.1.0)\n",
            "Requirement already satisfied: click in /usr/local/lib/python3.7/dist-packages (from sacremoses->transformers) (7.1.2)\n",
            "Installing collected packages: multidict, frozenlist, yarl, urllib3, asynctest, async-timeout, aiosignal, pyyaml, fsspec, aiohttp, xxhash, tokenizers, sacremoses, responses, huggingface-hub, transformers, datasets\n",
            "  Attempting uninstall: urllib3\n",
            "    Found existing installation: urllib3 1.24.3\n",
            "    Uninstalling urllib3-1.24.3:\n",
            "      Successfully uninstalled urllib3-1.24.3\n",
            "  Attempting uninstall: pyyaml\n",
            "    Found existing installation: PyYAML 3.13\n",
            "    Uninstalling PyYAML-3.13:\n",
            "      Successfully uninstalled PyYAML-3.13\n",
            "\u001b[31mERROR: pip's dependency resolver does not currently take into account all the packages that are installed. This behaviour is the source of the following dependency conflicts.\n",
            "datascience 0.10.6 requires folium==0.2.1, but you have folium 0.8.3 which is incompatible.\u001b[0m\n",
            "Successfully installed aiohttp-3.8.1 aiosignal-1.2.0 async-timeout-4.0.2 asynctest-0.13.0 datasets-2.1.0 frozenlist-1.3.0 fsspec-2022.3.0 huggingface-hub-0.5.1 multidict-6.0.2 pyyaml-6.0 responses-0.18.0 sacremoses-0.0.49 tokenizers-0.12.1 transformers-4.18.0 urllib3-1.25.11 xxhash-3.0.0 yarl-1.7.2\n"
          ]
        },
        {
          "output_type": "display_data",
          "data": {
            "application/vnd.colab-display-data+json": {
              "pip_warning": {
                "packages": [
                  "urllib3"
                ]
              }
            }
          },
          "metadata": {}
        }
      ]
    },
    {
      "cell_type": "code",
      "source": [
        "!pip install sentencepiece"
      ],
      "metadata": {
        "colab": {
          "base_uri": "https://localhost:8080/"
        },
        "id": "W43bXEDi5S3f",
        "outputId": "0fa6d767-6ae1-4805-867c-3bc334af1b86"
      },
      "execution_count": null,
      "outputs": [
        {
          "output_type": "stream",
          "name": "stdout",
          "text": [
            "Collecting sentencepiece\n",
            "  Downloading sentencepiece-0.1.96-cp37-cp37m-manylinux_2_17_x86_64.manylinux2014_x86_64.whl (1.2 MB)\n",
            "\u001b[?25l\r\u001b[K     |▎                               | 10 kB 14.5 MB/s eta 0:00:01\r\u001b[K     |▌                               | 20 kB 17.3 MB/s eta 0:00:01\r\u001b[K     |▉                               | 30 kB 12.2 MB/s eta 0:00:01\r\u001b[K     |█                               | 40 kB 4.9 MB/s eta 0:00:01\r\u001b[K     |█▍                              | 51 kB 4.6 MB/s eta 0:00:01\r\u001b[K     |█▋                              | 61 kB 5.5 MB/s eta 0:00:01\r\u001b[K     |██                              | 71 kB 6.0 MB/s eta 0:00:01\r\u001b[K     |██▏                             | 81 kB 5.9 MB/s eta 0:00:01\r\u001b[K     |██▍                             | 92 kB 6.5 MB/s eta 0:00:01\r\u001b[K     |██▊                             | 102 kB 5.5 MB/s eta 0:00:01\r\u001b[K     |███                             | 112 kB 5.5 MB/s eta 0:00:01\r\u001b[K     |███▎                            | 122 kB 5.5 MB/s eta 0:00:01\r\u001b[K     |███▌                            | 133 kB 5.5 MB/s eta 0:00:01\r\u001b[K     |███▉                            | 143 kB 5.5 MB/s eta 0:00:01\r\u001b[K     |████                            | 153 kB 5.5 MB/s eta 0:00:01\r\u001b[K     |████▎                           | 163 kB 5.5 MB/s eta 0:00:01\r\u001b[K     |████▋                           | 174 kB 5.5 MB/s eta 0:00:01\r\u001b[K     |████▉                           | 184 kB 5.5 MB/s eta 0:00:01\r\u001b[K     |█████▏                          | 194 kB 5.5 MB/s eta 0:00:01\r\u001b[K     |█████▍                          | 204 kB 5.5 MB/s eta 0:00:01\r\u001b[K     |█████▊                          | 215 kB 5.5 MB/s eta 0:00:01\r\u001b[K     |██████                          | 225 kB 5.5 MB/s eta 0:00:01\r\u001b[K     |██████▏                         | 235 kB 5.5 MB/s eta 0:00:01\r\u001b[K     |██████▌                         | 245 kB 5.5 MB/s eta 0:00:01\r\u001b[K     |██████▊                         | 256 kB 5.5 MB/s eta 0:00:01\r\u001b[K     |███████                         | 266 kB 5.5 MB/s eta 0:00:01\r\u001b[K     |███████▎                        | 276 kB 5.5 MB/s eta 0:00:01\r\u001b[K     |███████▋                        | 286 kB 5.5 MB/s eta 0:00:01\r\u001b[K     |███████▉                        | 296 kB 5.5 MB/s eta 0:00:01\r\u001b[K     |████████                        | 307 kB 5.5 MB/s eta 0:00:01\r\u001b[K     |████████▍                       | 317 kB 5.5 MB/s eta 0:00:01\r\u001b[K     |████████▋                       | 327 kB 5.5 MB/s eta 0:00:01\r\u001b[K     |█████████                       | 337 kB 5.5 MB/s eta 0:00:01\r\u001b[K     |█████████▏                      | 348 kB 5.5 MB/s eta 0:00:01\r\u001b[K     |█████████▌                      | 358 kB 5.5 MB/s eta 0:00:01\r\u001b[K     |█████████▊                      | 368 kB 5.5 MB/s eta 0:00:01\r\u001b[K     |██████████                      | 378 kB 5.5 MB/s eta 0:00:01\r\u001b[K     |██████████▎                     | 389 kB 5.5 MB/s eta 0:00:01\r\u001b[K     |██████████▌                     | 399 kB 5.5 MB/s eta 0:00:01\r\u001b[K     |██████████▉                     | 409 kB 5.5 MB/s eta 0:00:01\r\u001b[K     |███████████                     | 419 kB 5.5 MB/s eta 0:00:01\r\u001b[K     |███████████▍                    | 430 kB 5.5 MB/s eta 0:00:01\r\u001b[K     |███████████▋                    | 440 kB 5.5 MB/s eta 0:00:01\r\u001b[K     |███████████▉                    | 450 kB 5.5 MB/s eta 0:00:01\r\u001b[K     |████████████▏                   | 460 kB 5.5 MB/s eta 0:00:01\r\u001b[K     |████████████▍                   | 471 kB 5.5 MB/s eta 0:00:01\r\u001b[K     |████████████▊                   | 481 kB 5.5 MB/s eta 0:00:01\r\u001b[K     |█████████████                   | 491 kB 5.5 MB/s eta 0:00:01\r\u001b[K     |█████████████▎                  | 501 kB 5.5 MB/s eta 0:00:01\r\u001b[K     |█████████████▌                  | 512 kB 5.5 MB/s eta 0:00:01\r\u001b[K     |█████████████▊                  | 522 kB 5.5 MB/s eta 0:00:01\r\u001b[K     |██████████████                  | 532 kB 5.5 MB/s eta 0:00:01\r\u001b[K     |██████████████▎                 | 542 kB 5.5 MB/s eta 0:00:01\r\u001b[K     |██████████████▋                 | 552 kB 5.5 MB/s eta 0:00:01\r\u001b[K     |██████████████▉                 | 563 kB 5.5 MB/s eta 0:00:01\r\u001b[K     |███████████████▏                | 573 kB 5.5 MB/s eta 0:00:01\r\u001b[K     |███████████████▍                | 583 kB 5.5 MB/s eta 0:00:01\r\u001b[K     |███████████████▋                | 593 kB 5.5 MB/s eta 0:00:01\r\u001b[K     |████████████████                | 604 kB 5.5 MB/s eta 0:00:01\r\u001b[K     |████████████████▏               | 614 kB 5.5 MB/s eta 0:00:01\r\u001b[K     |████████████████▌               | 624 kB 5.5 MB/s eta 0:00:01\r\u001b[K     |████████████████▊               | 634 kB 5.5 MB/s eta 0:00:01\r\u001b[K     |█████████████████               | 645 kB 5.5 MB/s eta 0:00:01\r\u001b[K     |█████████████████▎              | 655 kB 5.5 MB/s eta 0:00:01\r\u001b[K     |█████████████████▌              | 665 kB 5.5 MB/s eta 0:00:01\r\u001b[K     |█████████████████▉              | 675 kB 5.5 MB/s eta 0:00:01\r\u001b[K     |██████████████████              | 686 kB 5.5 MB/s eta 0:00:01\r\u001b[K     |██████████████████▍             | 696 kB 5.5 MB/s eta 0:00:01\r\u001b[K     |██████████████████▋             | 706 kB 5.5 MB/s eta 0:00:01\r\u001b[K     |███████████████████             | 716 kB 5.5 MB/s eta 0:00:01\r\u001b[K     |███████████████████▏            | 727 kB 5.5 MB/s eta 0:00:01\r\u001b[K     |███████████████████▍            | 737 kB 5.5 MB/s eta 0:00:01\r\u001b[K     |███████████████████▊            | 747 kB 5.5 MB/s eta 0:00:01\r\u001b[K     |████████████████████            | 757 kB 5.5 MB/s eta 0:00:01\r\u001b[K     |████████████████████▎           | 768 kB 5.5 MB/s eta 0:00:01\r\u001b[K     |████████████████████▌           | 778 kB 5.5 MB/s eta 0:00:01\r\u001b[K     |████████████████████▉           | 788 kB 5.5 MB/s eta 0:00:01\r\u001b[K     |█████████████████████           | 798 kB 5.5 MB/s eta 0:00:01\r\u001b[K     |█████████████████████▎          | 808 kB 5.5 MB/s eta 0:00:01\r\u001b[K     |█████████████████████▋          | 819 kB 5.5 MB/s eta 0:00:01\r\u001b[K     |█████████████████████▉          | 829 kB 5.5 MB/s eta 0:00:01\r\u001b[K     |██████████████████████▏         | 839 kB 5.5 MB/s eta 0:00:01\r\u001b[K     |██████████████████████▍         | 849 kB 5.5 MB/s eta 0:00:01\r\u001b[K     |██████████████████████▊         | 860 kB 5.5 MB/s eta 0:00:01\r\u001b[K     |███████████████████████         | 870 kB 5.5 MB/s eta 0:00:01\r\u001b[K     |███████████████████████▏        | 880 kB 5.5 MB/s eta 0:00:01\r\u001b[K     |███████████████████████▌        | 890 kB 5.5 MB/s eta 0:00:01\r\u001b[K     |███████████████████████▊        | 901 kB 5.5 MB/s eta 0:00:01\r\u001b[K     |████████████████████████        | 911 kB 5.5 MB/s eta 0:00:01\r\u001b[K     |████████████████████████▎       | 921 kB 5.5 MB/s eta 0:00:01\r\u001b[K     |████████████████████████▋       | 931 kB 5.5 MB/s eta 0:00:01\r\u001b[K     |████████████████████████▉       | 942 kB 5.5 MB/s eta 0:00:01\r\u001b[K     |█████████████████████████       | 952 kB 5.5 MB/s eta 0:00:01\r\u001b[K     |█████████████████████████▍      | 962 kB 5.5 MB/s eta 0:00:01\r\u001b[K     |█████████████████████████▋      | 972 kB 5.5 MB/s eta 0:00:01\r\u001b[K     |██████████████████████████      | 983 kB 5.5 MB/s eta 0:00:01\r\u001b[K     |██████████████████████████▏     | 993 kB 5.5 MB/s eta 0:00:01\r\u001b[K     |██████████████████████████▌     | 1.0 MB 5.5 MB/s eta 0:00:01\r\u001b[K     |██████████████████████████▊     | 1.0 MB 5.5 MB/s eta 0:00:01\r\u001b[K     |███████████████████████████     | 1.0 MB 5.5 MB/s eta 0:00:01\r\u001b[K     |███████████████████████████▎    | 1.0 MB 5.5 MB/s eta 0:00:01\r\u001b[K     |███████████████████████████▌    | 1.0 MB 5.5 MB/s eta 0:00:01\r\u001b[K     |███████████████████████████▉    | 1.1 MB 5.5 MB/s eta 0:00:01\r\u001b[K     |████████████████████████████    | 1.1 MB 5.5 MB/s eta 0:00:01\r\u001b[K     |████████████████████████████▍   | 1.1 MB 5.5 MB/s eta 0:00:01\r\u001b[K     |████████████████████████████▋   | 1.1 MB 5.5 MB/s eta 0:00:01\r\u001b[K     |████████████████████████████▉   | 1.1 MB 5.5 MB/s eta 0:00:01\r\u001b[K     |█████████████████████████████▏  | 1.1 MB 5.5 MB/s eta 0:00:01\r\u001b[K     |█████████████████████████████▍  | 1.1 MB 5.5 MB/s eta 0:00:01\r\u001b[K     |█████████████████████████████▊  | 1.1 MB 5.5 MB/s eta 0:00:01\r\u001b[K     |██████████████████████████████  | 1.1 MB 5.5 MB/s eta 0:00:01\r\u001b[K     |██████████████████████████████▎ | 1.1 MB 5.5 MB/s eta 0:00:01\r\u001b[K     |██████████████████████████████▌ | 1.2 MB 5.5 MB/s eta 0:00:01\r\u001b[K     |██████████████████████████████▊ | 1.2 MB 5.5 MB/s eta 0:00:01\r\u001b[K     |███████████████████████████████ | 1.2 MB 5.5 MB/s eta 0:00:01\r\u001b[K     |███████████████████████████████▎| 1.2 MB 5.5 MB/s eta 0:00:01\r\u001b[K     |███████████████████████████████▋| 1.2 MB 5.5 MB/s eta 0:00:01\r\u001b[K     |███████████████████████████████▉| 1.2 MB 5.5 MB/s eta 0:00:01\r\u001b[K     |████████████████████████████████| 1.2 MB 5.5 MB/s \n",
            "\u001b[?25hInstalling collected packages: sentencepiece\n",
            "Successfully installed sentencepiece-0.1.96\n"
          ]
        }
      ]
    },
    {
      "cell_type": "code",
      "source": [
        "from transformers import pipeline"
      ],
      "metadata": {
        "id": "xpFk5A6q5c9_"
      },
      "execution_count": null,
      "outputs": []
    },
    {
      "cell_type": "markdown",
      "source": [
        "## 使用Michau/t5-base-en-generate-headline"
      ],
      "metadata": {
        "id": "eASYWVCsypFk"
      }
    },
    {
      "cell_type": "code",
      "source": [
        "headlineGenerator = pipeline(model=\"Michau/t5-base-en-generate-headline\", tokenizer=\"Michau/t5-base-en-generate-headline\")"
      ],
      "metadata": {
        "colab": {
          "base_uri": "https://localhost:8080/",
          "height": 209,
          "referenced_widgets": [
            "0ade7f3691e74ce081e28b1c3b359bec",
            "3f0fa15510ed4f0897e3c18a064375db",
            "8640cc04964340108d1df852cdd580a2",
            "96f211a09a924ab7bd9312abc9989355",
            "8ddada8f0d5548958a00e41332f3fe98",
            "3ede2f7b2ceb417d8b9fe38da4729cac",
            "55bf6bfdfeb0434c8e4b71bc6fbc7077",
            "9201b76d27ce485fac1c76eeba3e906f",
            "83b0976cde564a22b5ec098c5c8cc88e",
            "6e5a1d4708774bd493363bd1f0d63347",
            "cecb69164dfa4beab2769a2d22740039",
            "97fb8f6d894e436bbb61be2865305383",
            "6da1d5bfbd254b59a5cadec951759b24",
            "22cf08897b624f929a268612cf88ef52",
            "0203a207fddd4e31ac6da616d81dbba4",
            "cfa1acda3597457ea7915d47685a6443",
            "afc7da8a90ec4281bf48afc2fef7e0e6",
            "e4e23f8c45fc4577a6d8d1932946c121",
            "ba9ab0239bcb4f9483b5f911b03df654",
            "89ca5406536e40e9a4668d73a7443a2c",
            "b166b1439b834eaa9d8d550a8a562406",
            "3895a717a5904b88888f7249449a0570",
            "ef3592783143478a9576e8e512ee60da",
            "372184bc09b74b1e8a582b1b0a813211",
            "462a0ba602554485a1a817545d2d0e61",
            "88c4c3a8474946c8a64e6e896b3b245e",
            "71bfc310cce046caaa9d24c4c7893c6d",
            "0d31805c7d2a481ea17ab7c8f02d59f6",
            "0a550338a316410ab0ff0ae08c0917dd",
            "4cfb45e7c5954242ba3c05a8e86d7c49",
            "1682bd2d37f441fa953f333eff5d3db5",
            "a9a6b3d5bb674203a8a4f827d70ba110",
            "b76a9900b12d4ad0b2d62f2befd5785b",
            "cde2152edad046d28c2a14414afd0690",
            "56e287c74d834d6c93aaf817b7b0a45c",
            "d0b87f3f06f043d39d7bfc05b8760abd",
            "3fc419d110484149b9ec780392fc8000",
            "31ecff0d9f9347fa8f7865dde79288a1",
            "09e46048ce3e4ec291c6170913c17165",
            "507e64e94a9743428dc403a5a2ba311b",
            "32b9fdf64b7d44e699969c8389f891aa",
            "59d1442a7fdd4935a7e7577dc617a953",
            "85e3da1151814f62bd56b405f20d9e9d",
            "6959daa8142649afb2dd542fc5752016",
            "01ef3887f9274285955a520e19334ac0",
            "2ae106d875d5485a9766661576bbf045",
            "3fc0f93ae9c04cbabc0409ce3d167178",
            "bc51a785a40e40cfb7ecf06f696a9c0f",
            "753d8a325ce641d396968813750f613d",
            "576a80cdcc9f465ba16ac28a5d0ba305",
            "2ef6f3586e754b428d4fe403f9ee87bb",
            "21ad78cf87d8450f91a6f1927446b6ac",
            "12c5b15fcbcc4520bfdd19f76952fb54",
            "4e75bc3a4bdc4f76bcb73bd2c3845744",
            "3b63d08a6a634637884785eda063b816",
            "6f751dd5dea94745bdc7aa37a821a869",
            "64e22b4c889d4ded8e8082127efb3744",
            "3a70e143f96f4ba09abc35bc0ae309ec",
            "6d5de125ae404b49aa39e388932a16a7",
            "07f27a0e82884adaa4007841a71ac5a8",
            "353460d5240f460394d71143e65a69b5",
            "15af09c97d1041d69ece099be7e5e788",
            "fe491633bb124defbb6f1b1a5b3551fd",
            "33ec240a0fec45a898abfdae544568d8",
            "81538fccbdcf441186ef90ce8a0ad17a",
            "5ff15fb222394f098cf8b193d56756d1"
          ]
        },
        "id": "zw95k5Qh69LA",
        "outputId": "ce130104-ffc4-4439-a5ba-9b4f8e15d906"
      },
      "execution_count": null,
      "outputs": [
        {
          "output_type": "display_data",
          "data": {
            "text/plain": [
              "Downloading:   0%|          | 0.00/1.31k [00:00<?, ?B/s]"
            ],
            "application/vnd.jupyter.widget-view+json": {
              "version_major": 2,
              "version_minor": 0,
              "model_id": "0ade7f3691e74ce081e28b1c3b359bec"
            }
          },
          "metadata": {}
        },
        {
          "output_type": "display_data",
          "data": {
            "text/plain": [
              "Downloading:   0%|          | 0.00/1.21k [00:00<?, ?B/s]"
            ],
            "application/vnd.jupyter.widget-view+json": {
              "version_major": 2,
              "version_minor": 0,
              "model_id": "97fb8f6d894e436bbb61be2865305383"
            }
          },
          "metadata": {}
        },
        {
          "output_type": "display_data",
          "data": {
            "text/plain": [
              "Downloading:   0%|          | 0.00/850M [00:00<?, ?B/s]"
            ],
            "application/vnd.jupyter.widget-view+json": {
              "version_major": 2,
              "version_minor": 0,
              "model_id": "ef3592783143478a9576e8e512ee60da"
            }
          },
          "metadata": {}
        },
        {
          "output_type": "display_data",
          "data": {
            "text/plain": [
              "Downloading:   0%|          | 0.00/43.0 [00:00<?, ?B/s]"
            ],
            "application/vnd.jupyter.widget-view+json": {
              "version_major": 2,
              "version_minor": 0,
              "model_id": "cde2152edad046d28c2a14414afd0690"
            }
          },
          "metadata": {}
        },
        {
          "output_type": "display_data",
          "data": {
            "text/plain": [
              "Downloading:   0%|          | 0.00/773k [00:00<?, ?B/s]"
            ],
            "application/vnd.jupyter.widget-view+json": {
              "version_major": 2,
              "version_minor": 0,
              "model_id": "01ef3887f9274285955a520e19334ac0"
            }
          },
          "metadata": {}
        },
        {
          "output_type": "display_data",
          "data": {
            "text/plain": [
              "Downloading:   0%|          | 0.00/1.74k [00:00<?, ?B/s]"
            ],
            "application/vnd.jupyter.widget-view+json": {
              "version_major": 2,
              "version_minor": 0,
              "model_id": "6f751dd5dea94745bdc7aa37a821a869"
            }
          },
          "metadata": {}
        }
      ]
    },
    {
      "cell_type": "code",
      "source": [
        "#@title 生成標題的長度 { display-mode: \"form\" }\n",
        "min_length =  5#@param {type:\"integer\"}\n",
        "max_length = 150#@param {type:\"integer\"}"
      ],
      "metadata": {
        "id": "CIC2gCtlqgiS"
      },
      "execution_count": null,
      "outputs": []
    },
    {
      "cell_type": "code",
      "source": [
        "headlines = headlineGenerator(podcast_test, min_length, max_length)\n"
      ],
      "metadata": {
        "colab": {
          "base_uri": "https://localhost:8080/"
        },
        "id": "-NIsP3SV7FQO",
        "outputId": "001b580a-ef68-462c-bdaf-57277b01f9cd"
      },
      "execution_count": null,
      "outputs": [
        {
          "output_type": "stream",
          "name": "stderr",
          "text": [
            "Ignoring args : (5, 150)\n",
            "Token indices sequence length is longer than the specified maximum sequence length for this model (588 > 512). Running this sequence through the model will result in indexing errors\n"
          ]
        }
      ]
    },
    {
      "cell_type": "markdown",
      "source": [
        "### 顯示結果"
      ],
      "metadata": {
        "id": "1X4gK_W77HYq"
      }
    },
    {
      "cell_type": "code",
      "source": [
        "for headline in headlines:\n",
        "  print(headline)\n",
        "  print(type(headline))"
      ],
      "metadata": {
        "colab": {
          "base_uri": "https://localhost:8080/"
        },
        "id": "Zqyd9Sp37Jon",
        "outputId": "d4b87b63-3c0a-41a4-9fce-fa06e8a80cab"
      },
      "execution_count": null,
      "outputs": [
        {
          "output_type": "stream",
          "name": "stdout",
          "text": [
            "{'generated_text': 'The Ins and Outs of Sugar'}\n",
            "<class 'dict'>\n",
            "{'generated_text': 'The Brain-Body Contract Live Event - Seattle on May 17th and Portland on May'}\n",
            "<class 'dict'>\n",
            "{'generated_text': 'The Nootropics Podcast - The Best of the Best'}\n",
            "<class 'dict'>\n",
            "{'generated_text': 'Thermodynamics - Is It Possible To Gain Weight?'}\n",
            "<class 'dict'>\n",
            "{'generated_text': 'The Effects of Sugar on the Nervous System'}\n",
            "<class 'dict'>\n",
            "{'generated_text': 'What Happens When We Eat?'}\n",
            "<class 'dict'>\n",
            "{'generated_text': 'Glucose Blood - What Is It?'}\n",
            "<class 'dict'>\n",
            "{'generated_text': 'Insulin Response to Clamp Blood Glucose Levels'}\n",
            "<class 'dict'>\n"
          ]
        }
      ]
    },
    {
      "cell_type": "code",
      "source": [
        "import re\n",
        "sentence_tokenizer2 = SimpleSentenceTokenizer()\n",
        "index=0\n",
        "headlines_string = [\"\"]*len(headlines)\n",
        "for headline in headlines:\n",
        "  sentenced_healine = re.split(r'([;,\\.\\*\\n-])',headline['generated_text'])\n",
        "  #print(sentenced_healine)\n",
        "  for i in range(len(sentenced_healine)):\n",
        "    sentenced_healine[i] = sentenced_healine[i].strip()\n",
        "    #ss = s1\n",
        "    #print(\"!!!\"+ss+\"!!!\")\n",
        "  print(sentenced_healine)\n",
        "  strs = \" \"  \n",
        "  #headlines_string[index]+=sentenced_healine[0]\n",
        "  for i in range(0,(len(sentenced_healine))):\n",
        "    if(sentenced_healine[i] != \" \"):\n",
        "      strs = sentenced_healine[i]\n",
        "      for j in range(i+1,(len(sentenced_healine))):\n",
        "        if(strs == sentenced_healine[j]):\n",
        "          sentenced_healine[j]=\" \"\n",
        "        #if(sentenced_healine[j] != \" \"):\n",
        "          #strs = sentenced_healine[j]\n",
        "  print(sentenced_healine)\n",
        "  for k in range(len(sentenced_healine)):\n",
        "    if(sentenced_healine[k] != \" \"):\n",
        "      headlines_string[index]+=\" \"\n",
        "      headlines_string[index]+=sentenced_healine[k]\n",
        "  print(type(headlines_string[index]))\n",
        "  headlines_string[index]=headlines_string[index].rstrip(\"-\")\n",
        "  index+=1"
      ],
      "metadata": {
        "id": "ex-Qd6aGN0oH",
        "colab": {
          "base_uri": "https://localhost:8080/"
        },
        "outputId": "7562000a-6a11-44c4-8c9c-19094310ee19"
      },
      "execution_count": null,
      "outputs": [
        {
          "output_type": "stream",
          "name": "stdout",
          "text": [
            "['The Ins and Outs of Sugar']\n",
            "['The Ins and Outs of Sugar']\n",
            "<class 'str'>\n",
            "['The Brain', '-', 'Body Contract Live Event', '-', 'Seattle on May 17th and Portland on May']\n",
            "['The Brain', '-', 'Body Contract Live Event', ' ', 'Seattle on May 17th and Portland on May']\n",
            "<class 'str'>\n",
            "['The Nootropics Podcast', '-', 'The Best of the Best']\n",
            "['The Nootropics Podcast', '-', 'The Best of the Best']\n",
            "<class 'str'>\n",
            "['Thermodynamics', '-', 'Is It Possible To Gain Weight?']\n",
            "['Thermodynamics', '-', 'Is It Possible To Gain Weight?']\n",
            "<class 'str'>\n",
            "['The Effects of Sugar on the Nervous System']\n",
            "['The Effects of Sugar on the Nervous System']\n",
            "<class 'str'>\n",
            "['What Happens When We Eat?']\n",
            "['What Happens When We Eat?']\n",
            "<class 'str'>\n",
            "['Glucose Blood', '-', 'What Is It?']\n",
            "['Glucose Blood', '-', 'What Is It?']\n",
            "<class 'str'>\n",
            "['Insulin Response to Clamp Blood Glucose Levels']\n",
            "['Insulin Response to Clamp Blood Glucose Levels']\n",
            "<class 'str'>\n"
          ]
        }
      ]
    },
    {
      "cell_type": "code",
      "source": [
        "for headline_string in headlines_string:\n",
        "  print(headline_string)"
      ],
      "metadata": {
        "colab": {
          "base_uri": "https://localhost:8080/"
        },
        "id": "1hrzGKDrSQoY",
        "outputId": "e5d6e5be-0f55-449e-afc7-275aa04843b8"
      },
      "execution_count": null,
      "outputs": [
        {
          "output_type": "stream",
          "name": "stdout",
          "text": [
            " The Ins and Outs of Sugar\n",
            " The Brain - Body Contract Live Event Seattle on May 17th and Portland on May\n",
            " The Nootropics Podcast - The Best of the Best\n",
            " Thermodynamics - Is It Possible To Gain Weight?\n",
            " The Effects of Sugar on the Nervous System\n",
            " What Happens When We Eat?\n",
            " Glucose Blood - What Is It?\n",
            " Insulin Response to Clamp Blood Glucose Levels\n"
          ]
        }
      ]
    },
    {
      "cell_type": "code",
      "source": [
        "b = \"abc, ss dd, www\"\n",
        "a = re.split(r\"([,])\",b)\n",
        "print(a)"
      ],
      "metadata": {
        "colab": {
          "base_uri": "https://localhost:8080/"
        },
        "id": "xfT5GLL8B-RX",
        "outputId": "3b80687a-4144-41aa-e63c-2985f534004d"
      },
      "execution_count": null,
      "outputs": [
        {
          "output_type": "stream",
          "name": "stdout",
          "text": [
            "['abc', ',', ' ss dd', ',', ' www']\n"
          ]
        }
      ]
    },
    {
      "cell_type": "markdown",
      "source": [
        "# 去掉廣告"
      ],
      "metadata": {
        "id": "bJM-zFcqZO5X"
      }
    },
    {
      "cell_type": "code",
      "source": [
        "!pip install -U scikit-learn\n",
        "!pip install --user -U nltk"
      ],
      "metadata": {
        "id": "4qrAVWgzZUN_",
        "outputId": "43d5980d-013e-4576-9b09-a0c212042fc1",
        "colab": {
          "base_uri": "https://localhost:8080/"
        }
      },
      "execution_count": null,
      "outputs": [
        {
          "output_type": "stream",
          "name": "stdout",
          "text": [
            "Requirement already satisfied: scikit-learn in /usr/local/lib/python3.7/dist-packages (1.0.2)\n",
            "Requirement already satisfied: numpy>=1.14.6 in /usr/local/lib/python3.7/dist-packages (from scikit-learn) (1.21.5)\n",
            "Requirement already satisfied: scipy>=1.1.0 in /usr/local/lib/python3.7/dist-packages (from scikit-learn) (1.4.1)\n",
            "Requirement already satisfied: threadpoolctl>=2.0.0 in /usr/local/lib/python3.7/dist-packages (from scikit-learn) (3.1.0)\n",
            "Requirement already satisfied: joblib>=0.11 in /usr/local/lib/python3.7/dist-packages (from scikit-learn) (1.1.0)\n",
            "Requirement already satisfied: nltk in /usr/local/lib/python3.7/dist-packages (3.2.5)\n",
            "Collecting nltk\n",
            "  Downloading nltk-3.7-py3-none-any.whl (1.5 MB)\n",
            "\u001b[K     |████████████████████████████████| 1.5 MB 5.2 MB/s \n",
            "\u001b[?25hCollecting regex>=2021.8.3\n",
            "  Downloading regex-2022.3.15-cp37-cp37m-manylinux_2_17_x86_64.manylinux2014_x86_64.whl (749 kB)\n",
            "\u001b[K     |████████████████████████████████| 749 kB 44.6 MB/s \n",
            "\u001b[?25hRequirement already satisfied: joblib in /usr/local/lib/python3.7/dist-packages (from nltk) (1.1.0)\n",
            "Requirement already satisfied: tqdm in /usr/local/lib/python3.7/dist-packages (from nltk) (4.64.0)\n",
            "Requirement already satisfied: click in /usr/local/lib/python3.7/dist-packages (from nltk) (7.1.2)\n",
            "Installing collected packages: regex, nltk\n",
            "\u001b[33m  WARNING: The script nltk is installed in '/root/.local/bin' which is not on PATH.\n",
            "  Consider adding this directory to PATH or, if you prefer to suppress this warning, use --no-warn-script-location.\u001b[0m\n",
            "Successfully installed nltk-3.7 regex-2022.3.15\n"
          ]
        }
      ]
    },
    {
      "cell_type": "code",
      "source": [
        "from sklearn.feature_extraction.text import CountVectorizer\n",
        "from sklearn.feature_extraction.text import TfidfTransformer"
      ],
      "metadata": {
        "id": "39F-cSaoZceI"
      },
      "execution_count": null,
      "outputs": []
    },
    {
      "cell_type": "markdown",
      "source": [
        "## 使用停使用停用詞(NLTK)"
      ],
      "metadata": {
        "id": "dPCYHOs1aKGY"
      }
    },
    {
      "cell_type": "code",
      "source": [
        "# 下面的代碼是使用nltk從句子中去除停用詞 \n",
        "# 導入包 \n",
        "import nltk \n",
        "from nltk.corpus import stopwords \n",
        "from nltk.tokenize import word_tokenize \n",
        "nltk.download(\"stopwords\")\n",
        "#set(stopwords.words('english')) \n",
        "# 例句 \n",
        "#text = \"\"\"He determined to drop his litigation with the monastry, and relinguish his claims to the wood-cuting and fishery rihgts at once. He was the more ready to do this becuase the rights had become much less valuable, and he had indeed the vaguest idea where the wood and river in question were.\"\"\" \n",
        "# 停用詞集合 \n",
        "stop_words = set(stopwords.words('english')) \n",
        "# 分詞 \n",
        "nltk.download('punkt')\n",
        "result_nltk = []\n",
        "for sent in podcast_test:\n",
        "  word_tokens = word_tokenize(sent) \n",
        "  filtered_sentence = [] \n",
        "  for w in word_tokens: \n",
        "    if w not in stop_words: \n",
        "      filtered_sentence.append(w) \n",
        "  result_nltk.append(\" \".join(filtered_sentence))"
      ],
      "metadata": {
        "id": "bzS0ux52aNyT",
        "outputId": "f9879a9d-f0b7-4b83-c153-c4f46de5ca15",
        "colab": {
          "base_uri": "https://localhost:8080/"
        }
      },
      "execution_count": null,
      "outputs": [
        {
          "output_type": "stream",
          "name": "stdout",
          "text": [
            "[nltk_data] Downloading package stopwords to /root/nltk_data...\n",
            "[nltk_data]   Unzipping corpora/stopwords.zip.\n",
            "[nltk_data] Downloading package punkt to /root/nltk_data...\n",
            "[nltk_data]   Unzipping tokenizers/punkt.zip.\n"
          ]
        }
      ]
    },
    {
      "cell_type": "code",
      "source": [
        "print(len(result_nltk))\n",
        "print(result_nltk)"
      ],
      "metadata": {
        "id": "s3EKhQ0Cdrej",
        "outputId": "27b04b2a-0108-46c3-a853-b857c55ac7af",
        "colab": {
          "base_uri": "https://localhost:8080/"
        }
      },
      "execution_count": null,
      "outputs": [
        {
          "output_type": "stream",
          "name": "stdout",
          "text": [
            "8\n",
            "[\"Welcome huberman Lab podcast , discuss science science based tools everyday life . I 'm Andrew huberman , I 'm professor neurobiology Ophthalmology Stanford school medicine . Today . We going discuss sugar particular nervous system regulates sugar intake seeking sugar . We 're also going discuss sugar regulates nervous system 'll soon , learn sugar really impacts brain body two main mechanisms . Isms , one mechanisms based Sweet Taste sugar rewarding . Even 're much sweet tooth . I confess . I 'm people enjoy sweet tastes bitter tastes Sweet Taste sugar . And various forms strongly reinforcing . Meaning triggers activation neurons nerve cells brain body make us want consume sweet substance . Incidentally . Sweet taste also make us want eat substances . Senses well . You may familiar phenomenon . Now sugar also triggers mechanisms brain body based nutritive content independent sweetness . What means actual caloric content way Sugar interacts nervous system subconscious level without awareness , also impacts craving seeking sugar Foods today . We going discuss happens ingest sugar terms body 's reaction . Your brains reaction . We also going talk happens n't ingest enough sugar , turns sugar powerful fuel brain conditions , people n't ingest enough sugar so-called blood glucose , basically blood sugar particular form gets low neurons , n't function well . That said , conditions low blood sugar neurons function even better . So today going talk ins outs ups downs sugar . As relates nervous system end episode , I 'm confident much clearer picture much sugar ingesting , whether avoid sugars 're currently eating , certainly understand much energy fuel sources brain relies I 'm certain , allow make better informed choices foods , eat , avoid toward mental health , physical health , performance . I 'm pleased announce I 'm hosting Live Events .\", \"This may first live event Hosted Seattle , Washington May 17th . The second live event hosted Portland , Oregon May 18th . Both part lecture series entitled , brain-body contract I discuss science science based tools mental health , physical , health , performance . I point material , I 'll cover overlap information covered huberman Lab podcast various social media posts . Most information I cover going distinct information covered podcast . Or elsewhere . So , 's Seattle May 17th . Portland May 18th .\", \"You access tickets going human lab.com , / tour I hope see . Before begin , I 'd like emphasize podcast separate teaching research roles Stanford . It however , part desire effort bring zero cost Consumer information science science related tools general public keeping theme . I 'd like thank sponsors today 's podcast . Our first sponsor thesis thesis makes called ? Nootropics , means smart drugs . Now , honest . I fan term nootropics . I n't believe smart drugs . In sense I n't believe 's one substance , collection substances make us smarter . I believe based science . However , particular , neural circuits brain functions allow us focused , alert access creativity , motivated cetera . That 's way brain works different , neural circuits different brain States . And idea nootropic 's going make Smarter around fails acknowledge . Smarter many things , right ? If 're artist musician , 're math , 're accounting different part day . You need creative . These different brain , processes thesis understands . And far I know first nootropics company create targeted , nootropics specific outcomes . They use highest quality ingredients , course essential . Some I 've talked podcast , things like DHA , ginkgo biloba , phosphatidyl serine . They give ability try several different blends course month . Discover nootropics work best unique brain , chemistry genetics goals . And personalization design , kit nootropics 's ideal different brain body States . You want access . I 've using thesis six months I confidently say nootropics total Game Changer . My go-to formula clarity formula sometimes I 'll use energy formula training get personalized . Nootropic starter kit . Go online take thesis.com huberman , take A minute quiz thesis send four different formulas try first month . That 's take thesis.com huberman use code huberman checkout 10 % . Your first order . Today 's episode also brought To Us athletic greens called G1 . Athletic greens all-in-one vitamin mineral , probiotic drink . I 've taking athletic greens since 2012 . So I 'm delighted 're sponsoring podcast . The reason I started taking athletic Greens reason . I still take letter greens twice day , helps , cover bases . Nutritional needs . It makes deficiencies I might . In addition . It probiotics vital microbiome Health . I 've done couple episodes so-called gut microbiome ways microbiome interacts , immune system , brain regulate mood essentially every biological system relevant health throughout brain body without let greens . I get vitamins . I need minerals . I need probiotics support microbiome . If 'd like try , let greens , go . Two athletic greens.com huberman claim special offer . They 'll give five free travel packs , make easy mix athletic greens 're road , plus year supply vitamin D3 K ton data . Now showing vitamin D3 essential various aspects brain body Health , even 're getting lot sunshine , many us still deficient vitamin D3 . And K2 also important regulates things like cardiovascular function calcium body . And , go athletic greens.com hubermann . To claim special offer five free travel packs year supply vitamin D3 K today 's episode also brought To Us inside tracker inside trackers , personalized nutrition platform . That analyzes data blood DNA help better understand body help reach health goals . I 've long believer getting regular blood work done . For simple reason many factors impact immediate long-term Health assessed quality blood test . What 's unique inside tracker . Is lot different Tests hormones metabolic factors Etc inside tracker . You get numbers back terms levels , also give clear . Directives . In terms Lifestyle nutrition supplementation help bring values ranges best health goals 's different lot programs get lot information . We n't really know information inside tracker makes easy understand actionable based easy-to-use dashboard inside tracker . If 'd like try inside track , You visit inside tracker.com huberman get 20 % inside . Trackers plans . Just use code huberman checkout . Okay , let 's talk sugar . Let 's talk sugar impacts brain brain impacts pursuit avoidance sugar . Let 's get things way . First . The first thing 's nothing inherently bad sugar . I know word sugar gets bad rap nowadays indeed , 're going hear . During podcast consuming lot refined sugars particular , high fructose , corn syrup known large number bad effects brain body . I n't know 's one really debates anymore , even agree I think agree so-called calories calories principle , right ?\", \"It 's principle thermodynamics ingest energy burn , going gain weight . If ingest less energy burn , generally going lose weight The two things imbalance ingestion burning energy . Well , 're going maintain weight .\", \"So everyone agrees . I agree . But beyond number ways particular nutrients case today 's episode sugar impact . The way brain works tend seek particular nutrients . For instance . If eat sugar , two least two mechanisms crave sugar . I think . People aware experience . But today I 'm going explain exactly works . But also ingest sugar , bunch different effects way neural circuits work allow us less focused less agitated less happy less depressed cases . So today explore thing . We 're calling Sugar , We 're Going explore mainly context nervous system , also context nervous system regulates many many . Functions behaviors important , ability think ability , exercise , ability gain weight lose weight . Whatever goals might happen , sugar , plays critical role achieving goals . And cases , 're ingesting much wrong times wrong forms , sugar actually impede goals . In fact , sugar prevent right behaviors allowing achieve goals want . So today going place sugar proper context . The way I want start .\", \"Start tell little bit happens eat little bit brain respond events . So happens eat ? Well , I 've done entire episode metabolism . So 're interested full Cascade hormonal neural events occurs eat , please check episode . But sake today 's discussion , let 's take I call Top Contour view hormonal response ingesting food . Now , time eat , consequence number things happen . Before ate , 's hormone brain body called ghrelin . Spelled GH reli . N ghrelin hormone increases depending long 's since ate last . Okay . So longer 's since meal ghrelin levels going higher higher higher essentially makes us hungry interacting particular neurons area brain called arcuate nucleus hypothalamus.- areas well , like lateral hypothalamus . You n't need know names brain areas . But 'd like know , ghrelin increases . It tends make us hungry . And eat typically , happens ghrelin levels , go .\", \"So 's logical system . Now eat assuming eat carbohydrates , even eat protein fats , experience slight cases , large rise blood . Glucose blood . Glucose simply blood sugar body brain , say particular nervous system n't function . Well , blood sugar high low . So consequence another hormone , released pancreas , called insulin helps regulate amount glucose bloodstream . So even ingest , entire cup 8 ounce cup pure table sugar , would send blood glucose high assuming normal .\", \"Insulin response 're diabetic insulin response would help clamp blood glucose level cause damage brain body . Because blood sugar goes high , 's actually toxic neurons cells body kill neurons central nervous system brain spinal cord . Once dead . They come back . So biological systems understand biological level prevent death cells due high blood sugar keeping . Insulin around order clamp blood glucose diabetics . We call type 1 diabetics n't make insulin take insulin eat particular , foods raise blood sugar specifically avoid neurotoxicity deleterious effects high blood sugar . Okay . So ghrelin hormone goes longer . It 's since 've eaten tends stimulate hunger eat ghrelin suppressed blood glucose typically goes , especially carbohydrate containing meal . When blood glucose goes , regulated body meaning Peaks valleys less smoothed glucose sequestered . It 's taken away needs taken away . And certain locations , 's delivered cells cells use glucose . Now , one chief organs glucose utilization brain neurons tremendously metabolically active preferred mode metabolism glucose metabolism . The words neurons basically run sugar , say eat lot sugar 'll see today . There states mind body . For instance , fasted States people report immense amounts mental Clarity blood glucose actually quite low . So simply case sugar ingest better brain function . But case people , meaning people ketogenic low carbohydrate diet . They 're adapted low carbohydrate . Diets neurons brain body using glucose order function . That 's allows neurons fire electrical , potentials . That 's refer . Firing meaning , sending electrical signals lengths communicate neurons .\"]\n"
          ]
        }
      ]
    },
    {
      "cell_type": "code",
      "source": [
        "vectorizer_nltk = CountVectorizer()\n",
        "transformer_nltk = TfidfTransformer()\n",
        "tfidf_nltk = transformer_nltk.fit_transform(vectorizer_nltk.fit_transform(result_nltk))\n",
        "feature_name_nltk = vectorizer_nltk.get_feature_names()"
      ],
      "metadata": {
        "id": "5bTe_ikKdtJy",
        "outputId": "bc1f508a-beee-4537-8da6-d491ada08900",
        "colab": {
          "base_uri": "https://localhost:8080/"
        }
      },
      "execution_count": null,
      "outputs": [
        {
          "output_type": "stream",
          "name": "stderr",
          "text": [
            "/usr/local/lib/python3.7/dist-packages/sklearn/utils/deprecation.py:87: FutureWarning: Function get_feature_names is deprecated; get_feature_names is deprecated in 1.0 and will be removed in 1.2. Please use get_feature_names_out instead.\n",
            "  warnings.warn(msg, category=FutureWarning)\n"
          ]
        }
      ]
    },
    {
      "cell_type": "code",
      "source": [
        "print(len(feature_name_nltk))\n",
        "print(feature_name_nltk)"
      ],
      "metadata": {
        "id": "vdI4EN96d025",
        "outputId": "4c357f28-54e7-47b0-e0bf-4965fb707ea4",
        "colab": {
          "base_uri": "https://localhost:8080/"
        }
      },
      "execution_count": null,
      "outputs": [
        {
          "output_type": "stream",
          "name": "stdout",
          "text": [
            "662\n",
            "['10', '17th', '18th', '20', '2012', 'ability', 'access', 'accounting', 'achieve', 'achieving', 'acknowledge', 'actionable', 'activation', 'active', 'actual', 'actually', 'adapted', 'addition', 'agitated', 'agree', 'agrees', 'alert', 'all', 'allow', 'allowing', 'allows', 'also', 'amount', 'amounts', 'analyzes', 'and', 'andrew', 'announce', 'another', 'anymore', 'arcuate', 'area', 'areas', 'around', 'artist', 'as', 'aspects', 'assessed', 'assuming', 'ate', 'athletic', 'avoid', 'avoidance', 'aware', 'awareness', 'away', 'back', 'bad', 'based', 'bases', 'basically', 'because', 'before', 'begin', 'behaviors', 'believe', 'believer', 'best', 'better', 'beyond', 'biloba', 'biological', 'bit', 'bitter', 'blends', 'blood', 'bloodstream', 'body', 'both', 'brain', 'brains', 'bring', 'brought', 'bunch', 'burn', 'burning', 'but', 'calcium', 'call', 'called', 'calling', 'caloric', 'calories', 'carbohydrate', 'carbohydrates', 'cardiovascular', 'cascade', 'case', 'cases', 'cause', 'cells', 'central', 'certain', 'certainly', 'cetera', 'changer', 'check', 'checkout', 'chemistry', 'chief', 'choices', 'circuits', 'claim', 'clamp', 'clarity', 'clear', 'clearer', 'code', 'collection', 'com', 'come', 'communicate', 'company', 'conditions', 'confess', 'confident', 'confidently', 'consequence', 'consume', 'consumer', 'consuming', 'containing', 'content', 'context', 'contour', 'contract', 'cord', 'corn', 'cost', 'couple', 'course', 'cover', 'covered', 'crave', 'craving', 'create', 'creative', 'creativity', 'critical', 'cup', 'currently', 'd3', 'damage', 'dashboard', 'data', 'day', 'dead', 'death', 'debates', 'deficiencies', 'deficient', 'deleterious', 'delighted', 'delivered', 'depending', 'depressed', 'design', 'desire', 'dha', 'diabetic', 'diabetics', 'diet', 'diets', 'different', 'directives', 'discover', 'discuss', 'discussion', 'distinct', 'dna', 'done', 'downs', 'drink', 'drugs', 'due', 'during', 'easy', 'eat', 'eaten', 'eating', 'effects', 'effort', 'electrical', 'elsewhere', 'emphasize', 'end', 'energy', 'enjoy', 'enough', 'entire', 'entitled', 'episode', 'episodes', 'especially', 'essential', 'essentially', 'etc', 'even', 'event', 'events', 'every', 'everyday', 'everyone', 'exactly', 'exercise', 'experience', 'explain', 'explore', 'fact', 'factors', 'fails', 'familiar', 'fan', 'far', 'fasted', 'fats', 'fire', 'firing', 'first', 'five', 'focused', 'food', 'foods', 'for', 'form', 'forms', 'formula', 'formulas', 'four', 'free', 'fructose', 'fuel', 'full', 'function', 'functions', 'g1', 'gain', 'game', 'general', 'generally', 'genetics', 'get', 'gets', 'getting', 'gh', 'ghrelin', 'ginkgo', 'give', 'glucose', 'go', 'goals', 'goes', 'going', 'greens', 'gut', 'happen', 'happens', 'happy', 'health', 'hear', 'help', 'helps', 'high', 'higher', 'highest', 'honest', 'hope', 'hormonal', 'hormone', 'hormones', 'hosted', 'hosting', 'however', 'huberman', 'hubermann', 'human', 'hunger', 'hungry', 'hypothalamus', 'idea', 'ideal', 'if', 'imbalance', 'immediate', 'immense', 'immune', 'impact', 'impacts', 'impede', 'important', 'in', 'incidentally', 'increases', 'indeed', 'independent', 'information', 'informed', 'ingest', 'ingesting', 'ingestion', 'ingredients', 'inherently', 'ins', 'inside', 'instance', 'insulin', 'intake', 'interacting', 'interacts', 'interested', 'is', 'isms', 'it', 'just', 'k2', 'keeping', 'ketogenic', 'kill', 'kit', 'know', 'known', 'lab', 'large', 'last', 'lateral', 'learn', 'least', 'lecture', 'lengths', 'less', 'let', 'letter', 'level', 'levels', 'life', 'lifestyle', 'like', 'little', 'live', 'll', 'locations', 'logical', 'long', 'longer', 'lose', 'lot', 'low', 'main', 'mainly', 'maintain', 'make', 'makes', 'many', 'material', 'math', 'may', 'meal', 'meaning', 'means', 'mechanisms', 'media', 'medicine', 'mental', 'metabolic', 'metabolically', 'metabolism', 'microbiome', 'might', 'mind', 'mineral', 'minerals', 'minute', 'mix', 'mode', 'month', 'months', 'mood', 'most', 'motivated', 'much', 'musician', 'my', 'names', 'need', 'needs', 'nerve', 'nervous', 'neural', 'neurobiology', 'neurons', 'neurotoxicity', 'nootropic', 'nootropics', 'normal', 'nothing', 'now', 'nowadays', 'nucleus', 'number', 'numbers', 'nutrients', 'nutrition', 'nutritional', 'nutritive', 'occurs', 'offer', 'okay', 'once', 'one', 'online', 'ophthalmology', 'or', 'order', 'oregon', 'organs', 'ounce', 'our', 'outcomes', 'outs', 'overlap', 'packs', 'pancreas', 'part', 'particular', 'peaks', 'people', 'performance', 'personalization', 'personalized', 'phenomenon', 'phosphatidyl', 'physical', 'picture', 'place', 'plans', 'platform', 'plays', 'please', 'pleased', 'plus', 'podcast', 'point', 'portland', 'posts', 'potentials', 'powerful', 'preferred', 'prevent', 'principle', 'probiotic', 'probiotics', 'processes', 'professor', 'programs', 'proper', 'protein', 'public', 'pure', 'pursuit', 'quality', 'quite', 'quiz', 'raise', 'ranges', 'rap', 're', 'reach', 'reaction', 'really', 'reason', 'refer', 'refined', 'regular', 'regulate', 'regulated', 'regulates', 'reinforcing', 'related', 'relates', 'released', 'relevant', 'reli', 'relies', 'report', 'research', 'respond', 'response', 'rewarding', 'right', 'rise', 'road', 'role', 'roles', 'run', 'said', 'sake', 'say', 'school', 'science', 'seattle', 'second', 'see', 'seek', 'seeking', 'send', 'sending', 'sense', 'senses', 'separate', 'sequestered', 'series', 'serine', 'several', 'showing', 'signals', 'simple', 'simply', 'since', 'six', 'slight', 'smart', 'smarter', 'smoothed', 'so', 'social', 'some', 'sometimes', 'soon', 'sources', 'special', 'specific', 'specifically', 'spelled', 'spinal', 'sponsor', 'sponsoring', 'sponsors', 'stanford', 'start', 'started', 'starter', 'states', 'still', 'stimulate', 'strongly', 'subconscious', 'substance', 'substances', 'sugar', 'sugars', 'sunshine', 'supplementation', 'supply', 'support', 'suppressed', 'sweet', 'sweetness', 'syrup', 'system', 'systems', 'table', 'take', 'taken', 'taking', 'talk', 'talked', 'targeted', 'taste', 'tastes', 'teaching', 'tell', 'tend', 'tends', 'term', 'terms', 'test', 'tests', 'thank', 'that', 'the', 'theme', 'there', 'thermodynamics', 'these', 'thesis', 'they', 'thing', 'things', 'think', 'this', 'throughout', 'tickets', 'time', 'times', 'to', 'today', 'ton', 'tools', 'tooth', 'top', 'total', 'tour', 'toward', 'toxic', 'track', 'tracker', 'trackers', 'training', 'travel', 'tremendously', 'triggers', 'try', 'turns', 'twice', 'two', 'type', 'typically', 'understand', 'understands', 'unique', 'ups', 'us', 'use', 'using', 'utilization', 'valleys', 'values', 'various', 've', 'view', 'visit', 'vital', 'vitamin', 'vitamins', 'want', 'washington', 'way', 'ways', 'we', 'weight', 'welcome', 'well', 'what', 'whatever', 'when', 'whether', 'without', 'word', 'words', 'work', 'works', 'would', 'wrong', 'year', 'you', 'your', 'zero']\n"
          ]
        }
      ]
    },
    {
      "cell_type": "code",
      "source": [
        "sponsor_n =0\n",
        "for i in range(len(feature_name_nltk)):\n",
        "  if feature_name_nltk[i]=='sponsor':\n",
        "    sponsor_n =i\n",
        "    print(i)"
      ],
      "metadata": {
        "id": "U4gdpbdtd2Ca",
        "outputId": "89d28a0d-e340-483a-d398-c4d501d0a209",
        "colab": {
          "base_uri": "https://localhost:8080/"
        }
      },
      "execution_count": null,
      "outputs": [
        {
          "output_type": "stream",
          "name": "stdout",
          "text": [
            "539\n"
          ]
        }
      ]
    },
    {
      "cell_type": "code",
      "source": [
        "# 找出含sponsor的段落內的keyword和其tfidf\n",
        "from nltk.util import pr\n",
        "print(type(tfidf_nltk))\n",
        "keyword_segment = []\n",
        "tfidf_segment = []\n",
        "#print(tfidf_nltk)\n",
        "#print(tfidf_nltk.toarray())\n",
        "array_tfidf_nltk = tfidf_nltk.toarray()\n",
        "#print(array_tfidf_nltk)\n",
        "#print(array_tfidf_nltk[0])\n",
        "for i in range(len(array_tfidf_nltk)):\n",
        "  if(array_tfidf_nltk[i][sponsor_n]>0):\n",
        "    print(i)\n",
        "    for j in range(len(array_tfidf_nltk[i])):\n",
        "      if(array_tfidf_nltk[i][j]>0):\n",
        "        keyword_segment.append(feature_name_nltk[j])\n",
        "        tfidf_segment.append(array_tfidf_nltk[i][j])\n",
        "        print(feature_name_nltk[j],\" \",array_tfidf_nltk[i][j])"
      ],
      "metadata": {
        "id": "tURlFXlrd4F7",
        "outputId": "6092a58b-a1d6-4b3a-8de5-e268049b3c04",
        "colab": {
          "base_uri": "https://localhost:8080/"
        }
      },
      "execution_count": null,
      "outputs": [
        {
          "output_type": "stream",
          "name": "stdout",
          "text": [
            "<class 'scipy.sparse.csr.csr_matrix'>\n",
            "2\n",
            "10   0.026129020700209667\n",
            "20   0.026129020700209667\n",
            "2012   0.026129020700209667\n",
            "ability   0.021898158580448468\n",
            "access   0.078387062100629\n",
            "accounting   0.026129020700209667\n",
            "acknowledge   0.026129020700209667\n",
            "actionable   0.026129020700209667\n",
            "addition   0.026129020700209667\n",
            "agree   0.043796317160896936\n",
            "alert   0.026129020700209667\n",
            "all   0.026129020700209667\n",
            "allow   0.01889631413432674\n",
            "also   0.07558525653730697\n",
            "analyzes   0.026129020700209667\n",
            "and   0.07332726007282771\n",
            "anymore   0.026129020700209667\n",
            "around   0.021898158580448468\n",
            "artist   0.026129020700209667\n",
            "aspects   0.026129020700209667\n",
            "assessed   0.026129020700209667\n",
            "athletic   0.18290314490146767\n",
            "avoidance   0.026129020700209667\n",
            "back   0.021898158580448468\n",
            "bad   0.078387062100629\n",
            "based   0.03779262826865348\n",
            "bases   0.026129020700209667\n",
            "before   0.021898158580448468\n",
            "begin   0.026129020700209667\n",
            "believe   0.078387062100629\n",
            "believer   0.026129020700209667\n",
            "best   0.052258041400419335\n",
            "better   0.01889631413432674\n",
            "biloba   0.026129020700209667\n",
            "biological   0.021898158580448468\n",
            "blends   0.026129020700209667\n",
            "blood   0.04970370806607821\n",
            "body   0.07834171733137688\n",
            "brain   0.1399632908213258\n",
            "bring   0.052258041400419335\n",
            "brought   0.052258041400419335\n",
            "calcium   0.026129020700209667\n",
            "called   0.06627161075477093\n",
            "calories   0.052258041400419335\n",
            "cardiovascular   0.026129020700209667\n",
            "cetera   0.026129020700209667\n",
            "changer   0.026129020700209667\n",
            "checkout   0.052258041400419335\n",
            "chemistry   0.026129020700209667\n",
            "circuits   0.043796317160896936\n",
            "claim   0.052258041400419335\n",
            "clarity   0.021898158580448468\n",
            "clear   0.026129020700209667\n",
            "code   0.052258041400419335\n",
            "collection   0.026129020700209667\n",
            "com   0.156774124201258\n",
            "company   0.026129020700209667\n",
            "confidently   0.026129020700209667\n",
            "consumer   0.026129020700209667\n",
            "consuming   0.026129020700209667\n",
            "corn   0.026129020700209667\n",
            "cost   0.026129020700209667\n",
            "couple   0.026129020700209667\n",
            "course   0.052258041400419335\n",
            "cover   0.021898158580448468\n",
            "create   0.026129020700209667\n",
            "creative   0.026129020700209667\n",
            "creativity   0.026129020700209667\n",
            "d3   0.10451608280083867\n",
            "dashboard   0.026129020700209667\n",
            "data   0.052258041400419335\n",
            "day   0.052258041400419335\n",
            "debates   0.026129020700209667\n",
            "deficiencies   0.026129020700209667\n",
            "deficient   0.026129020700209667\n",
            "delighted   0.026129020700209667\n",
            "design   0.026129020700209667\n",
            "desire   0.026129020700209667\n",
            "dha   0.026129020700209667\n",
            "different   0.1970834272240362\n",
            "directives   0.026129020700209667\n",
            "discover   0.026129020700209667\n",
            "dna   0.026129020700209667\n",
            "done   0.043796317160896936\n",
            "drink   0.026129020700209667\n",
            "drugs   0.052258041400419335\n",
            "during   0.026129020700209667\n",
            "easy   0.078387062100629\n",
            "effects   0.01889631413432674\n",
            "effort   0.026129020700209667\n",
            "emphasize   0.026129020700209667\n",
            "energy   0.01889631413432674\n",
            "episode   0.03313580537738547\n",
            "episodes   0.026129020700209667\n",
            "essential   0.052258041400419335\n",
            "essentially   0.021898158580448468\n",
            "etc   0.026129020700209667\n",
            "even   0.03779262826865348\n",
            "every   0.026129020700209667\n",
            "factors   0.052258041400419335\n",
            "fails   0.026129020700209667\n",
            "fan   0.026129020700209667\n",
            "far   0.026129020700209667\n",
            "first   0.1313889514826908\n",
            "five   0.052258041400419335\n",
            "focused   0.021898158580448468\n",
            "for   0.01889631413432674\n",
            "formula   0.078387062100629\n",
            "formulas   0.026129020700209667\n",
            "four   0.026129020700209667\n",
            "free   0.052258041400419335\n",
            "fructose   0.026129020700209667\n",
            "function   0.016567902688692734\n",
            "functions   0.021898158580448468\n",
            "g1   0.026129020700209667\n",
            "game   0.026129020700209667\n",
            "general   0.026129020700209667\n",
            "genetics   0.026129020700209667\n",
            "get   0.156774124201258\n",
            "gets   0.021898158580448468\n",
            "getting   0.052258041400419335\n",
            "ginkgo   0.026129020700209667\n",
            "give   0.078387062100629\n",
            "go   0.08759263432179387\n",
            "goals   0.0656944757413454\n",
            "going   0.03917085866568844\n",
            "greens   0.26129020700209665\n",
            "gut   0.026129020700209667\n",
            "health   0.11337788480596044\n",
            "hear   0.026129020700209667\n",
            "help   0.0656944757413454\n",
            "helps   0.021898158580448468\n",
            "high   0.01889631413432674\n",
            "highest   0.026129020700209667\n",
            "honest   0.026129020700209667\n",
            "hope   0.026129020700209667\n",
            "hormones   0.026129020700209667\n",
            "however   0.052258041400419335\n",
            "huberman   0.11337788480596044\n",
            "hubermann   0.026129020700209667\n",
            "human   0.026129020700209667\n",
            "idea   0.026129020700209667\n",
            "ideal   0.026129020700209667\n",
            "if   0.05668894240298022\n",
            "immediate   0.026129020700209667\n",
            "immune   0.026129020700209667\n",
            "impact   0.021898158580448468\n",
            "impacts   0.043796317160896936\n",
            "important   0.021898158580448468\n",
            "in   0.08759263432179387\n",
            "indeed   0.026129020700209667\n",
            "information   0.0656944757413454\n",
            "ingredients   0.026129020700209667\n",
            "inherently   0.026129020700209667\n",
            "inside   0.235161186301887\n",
            "interacts   0.021898158580448468\n",
            "is   0.026129020700209667\n",
            "it   0.04970370806607821\n",
            "just   0.026129020700209667\n",
            "k2   0.026129020700209667\n",
            "keeping   0.021898158580448468\n",
            "kit   0.052258041400419335\n",
            "know   0.08759263432179387\n",
            "known   0.026129020700209667\n",
            "lab   0.01889631413432674\n",
            "large   0.021898158580448468\n",
            "let   0.10949079290224235\n",
            "letter   0.026129020700209667\n",
            "levels   0.021898158580448468\n",
            "lifestyle   0.026129020700209667\n",
            "like   0.1313889514826908\n",
            "ll   0.03313580537738547\n",
            "long   0.043796317160896936\n",
            "lot   0.10949079290224235\n",
            "make   0.04970370806607821\n",
            "makes   0.0656944757413454\n",
            "many   0.0656944757413454\n",
            "math   0.026129020700209667\n",
            "means   0.021898158580448468\n",
            "metabolic   0.026129020700209667\n",
            "microbiome   0.10451608280083867\n",
            "might   0.021898158580448468\n",
            "mineral   0.026129020700209667\n",
            "minerals   0.026129020700209667\n",
            "minute   0.026129020700209667\n",
            "mix   0.026129020700209667\n",
            "month   0.052258041400419335\n",
            "months   0.026129020700209667\n",
            "mood   0.026129020700209667\n",
            "motivated   0.026129020700209667\n",
            "musician   0.026129020700209667\n",
            "my   0.026129020700209667\n",
            "need   0.0656944757413454\n",
            "needs   0.021898158580448468\n",
            "neural   0.03779262826865348\n",
            "nootropic   0.052258041400419335\n",
            "nootropics   0.18290314490146767\n",
            "nothing   0.026129020700209667\n",
            "now   0.02933090402913108\n",
            "nowadays   0.026129020700209667\n",
            "number   0.01889631413432674\n",
            "numbers   0.026129020700209667\n",
            "nutrition   0.052258041400419335\n",
            "nutritional   0.026129020700209667\n",
            "offer   0.052258041400419335\n",
            "okay   0.01889631413432674\n",
            "one   0.05668894240298022\n",
            "online   0.026129020700209667\n",
            "order   0.021898158580448468\n",
            "our   0.026129020700209667\n",
            "outcomes   0.026129020700209667\n",
            "packs   0.052258041400419335\n",
            "part   0.043796317160896936\n",
            "particular   0.026113905777125624\n",
            "personalization   0.026129020700209667\n",
            "personalized   0.052258041400419335\n",
            "phosphatidyl   0.026129020700209667\n",
            "plans   0.026129020700209667\n",
            "platform   0.026129020700209667\n",
            "plus   0.026129020700209667\n",
            "podcast   0.09448157067163371\n",
            "principle   0.021898158580448468\n",
            "probiotic   0.026129020700209667\n",
            "probiotics   0.052258041400419335\n",
            "processes   0.026129020700209667\n",
            "programs   0.026129020700209667\n",
            "public   0.026129020700209667\n",
            "pursuit   0.026129020700209667\n",
            "quality   0.052258041400419335\n",
            "quiz   0.026129020700209667\n",
            "ranges   0.026129020700209667\n",
            "rap   0.026129020700209667\n",
            "re   0.09139867021993968\n",
            "reach   0.026129020700209667\n",
            "really   0.043796317160896936\n",
            "reason   0.078387062100629\n",
            "refined   0.026129020700209667\n",
            "regular   0.026129020700209667\n",
            "regulate   0.021898158580448468\n",
            "regulates   0.01889631413432674\n",
            "related   0.026129020700209667\n",
            "relevant   0.026129020700209667\n",
            "research   0.026129020700209667\n",
            "right   0.043796317160896936\n",
            "road   0.026129020700209667\n",
            "roles   0.026129020700209667\n",
            "say   0.01889631413432674\n",
            "science   0.05668894240298022\n",
            "see   0.021898158580448468\n",
            "send   0.021898158580448468\n",
            "sense   0.026129020700209667\n",
            "separate   0.026129020700209667\n",
            "serine   0.026129020700209667\n",
            "several   0.026129020700209667\n",
            "showing   0.026129020700209667\n",
            "simple   0.026129020700209667\n",
            "since   0.01889631413432674\n",
            "six   0.026129020700209667\n",
            "smart   0.052258041400419335\n",
            "smarter   0.078387062100629\n",
            "so   0.03499082270533145\n",
            "some   0.026129020700209667\n",
            "sometimes   0.026129020700209667\n",
            "special   0.052258041400419335\n",
            "specific   0.026129020700209667\n",
            "sponsor   0.026129020700209667\n",
            "sponsoring   0.026129020700209667\n",
            "sponsors   0.026129020700209667\n",
            "stanford   0.021898158580448468\n",
            "started   0.026129020700209667\n",
            "starter   0.026129020700209667\n",
            "states   0.043796317160896936\n",
            "still   0.052258041400419335\n",
            "substance   0.021898158580448468\n",
            "substances   0.021898158580448468\n",
            "sugar   0.07332726007282771\n",
            "sugars   0.021898158580448468\n",
            "sunshine   0.026129020700209667\n",
            "supplementation   0.026129020700209667\n",
            "supply   0.052258041400419335\n",
            "support   0.026129020700209667\n",
            "syrup   0.026129020700209667\n",
            "system   0.02933090402913108\n",
            "take   0.07558525653730697\n",
            "taking   0.052258041400419335\n",
            "talk   0.043796317160896936\n",
            "talked   0.026129020700209667\n",
            "targeted   0.026129020700209667\n",
            "teaching   0.026129020700209667\n",
            "term   0.052258041400419335\n",
            "terms   0.043796317160896936\n",
            "test   0.026129020700209667\n",
            "tests   0.026129020700209667\n",
            "thank   0.026129020700209667\n",
            "that   0.05668894240298022\n",
            "the   0.02933090402913108\n",
            "theme   0.026129020700209667\n",
            "these   0.026129020700209667\n",
            "thesis   0.18290314490146767\n",
            "they   0.0656944757413454\n",
            "thing   0.021898158580448468\n",
            "things   0.07558525653730697\n",
            "think   0.021898158580448468\n",
            "throughout   0.026129020700209667\n",
            "tickets   0.026129020700209667\n",
            "to   0.13064510350104833\n",
            "today   0.043996356043696616\n",
            "ton   0.026129020700209667\n",
            "tools   0.01889631413432674\n",
            "total   0.026129020700209667\n",
            "tour   0.026129020700209667\n",
            "track   0.026129020700209667\n",
            "tracker   0.156774124201258\n",
            "trackers   0.052258041400419335\n",
            "training   0.026129020700209667\n",
            "travel   0.052258041400419335\n",
            "try   0.10451608280083867\n",
            "twice   0.026129020700209667\n",
            "two   0.016567902688692734\n",
            "understand   0.03779262826865348\n",
            "understands   0.026129020700209667\n",
            "unique   0.052258041400419335\n",
            "us   0.08283951344346367\n",
            "use   0.10949079290224235\n",
            "using   0.021898158580448468\n",
            "values   0.026129020700209667\n",
            "various   0.01889631413432674\n",
            "ve   0.09448157067163371\n",
            "visit   0.026129020700209667\n",
            "vital   0.026129020700209667\n",
            "vitamin   0.13064510350104833\n",
            "vitamins   0.026129020700209667\n",
            "want   0.01889631413432674\n",
            "way   0.03779262826865348\n",
            "ways   0.021898158580448468\n",
            "we   0.016567902688692734\n",
            "what   0.021898158580448468\n",
            "without   0.021898158580448468\n",
            "word   0.026129020700209667\n",
            "work   0.043796317160896936\n",
            "works   0.021898158580448468\n",
            "year   0.052258041400419335\n",
            "you   0.09448157067163371\n",
            "your   0.021898158580448468\n",
            "zero   0.026129020700209667\n"
          ]
        }
      ]
    },
    {
      "cell_type": "code",
      "source": [
        "print(keyword_segment)\n",
        "print(tfidf_segment)"
      ],
      "metadata": {
        "id": "qp2nIQa_d7eD",
        "outputId": "7a47183b-3be5-4f82-ac56-0e0a988ffc74",
        "colab": {
          "base_uri": "https://localhost:8080/"
        }
      },
      "execution_count": null,
      "outputs": [
        {
          "output_type": "stream",
          "name": "stdout",
          "text": [
            "['10', '20', '2012', 'ability', 'access', 'accounting', 'acknowledge', 'actionable', 'addition', 'agree', 'alert', 'all', 'allow', 'also', 'analyzes', 'and', 'anymore', 'around', 'artist', 'aspects', 'assessed', 'athletic', 'avoidance', 'back', 'bad', 'based', 'bases', 'before', 'begin', 'believe', 'believer', 'best', 'better', 'biloba', 'biological', 'blends', 'blood', 'body', 'brain', 'bring', 'brought', 'calcium', 'called', 'calories', 'cardiovascular', 'cetera', 'changer', 'checkout', 'chemistry', 'circuits', 'claim', 'clarity', 'clear', 'code', 'collection', 'com', 'company', 'confidently', 'consumer', 'consuming', 'corn', 'cost', 'couple', 'course', 'cover', 'create', 'creative', 'creativity', 'd3', 'dashboard', 'data', 'day', 'debates', 'deficiencies', 'deficient', 'delighted', 'design', 'desire', 'dha', 'different', 'directives', 'discover', 'dna', 'done', 'drink', 'drugs', 'during', 'easy', 'effects', 'effort', 'emphasize', 'energy', 'episode', 'episodes', 'essential', 'essentially', 'etc', 'even', 'every', 'factors', 'fails', 'fan', 'far', 'first', 'five', 'focused', 'for', 'formula', 'formulas', 'four', 'free', 'fructose', 'function', 'functions', 'g1', 'game', 'general', 'genetics', 'get', 'gets', 'getting', 'ginkgo', 'give', 'go', 'goals', 'going', 'greens', 'gut', 'health', 'hear', 'help', 'helps', 'high', 'highest', 'honest', 'hope', 'hormones', 'however', 'huberman', 'hubermann', 'human', 'idea', 'ideal', 'if', 'immediate', 'immune', 'impact', 'impacts', 'important', 'in', 'indeed', 'information', 'ingredients', 'inherently', 'inside', 'interacts', 'is', 'it', 'just', 'k2', 'keeping', 'kit', 'know', 'known', 'lab', 'large', 'let', 'letter', 'levels', 'lifestyle', 'like', 'll', 'long', 'lot', 'make', 'makes', 'many', 'math', 'means', 'metabolic', 'microbiome', 'might', 'mineral', 'minerals', 'minute', 'mix', 'month', 'months', 'mood', 'motivated', 'musician', 'my', 'need', 'needs', 'neural', 'nootropic', 'nootropics', 'nothing', 'now', 'nowadays', 'number', 'numbers', 'nutrition', 'nutritional', 'offer', 'okay', 'one', 'online', 'order', 'our', 'outcomes', 'packs', 'part', 'particular', 'personalization', 'personalized', 'phosphatidyl', 'plans', 'platform', 'plus', 'podcast', 'principle', 'probiotic', 'probiotics', 'processes', 'programs', 'public', 'pursuit', 'quality', 'quiz', 'ranges', 'rap', 're', 'reach', 'really', 'reason', 'refined', 'regular', 'regulate', 'regulates', 'related', 'relevant', 'research', 'right', 'road', 'roles', 'say', 'science', 'see', 'send', 'sense', 'separate', 'serine', 'several', 'showing', 'simple', 'since', 'six', 'smart', 'smarter', 'so', 'some', 'sometimes', 'special', 'specific', 'sponsor', 'sponsoring', 'sponsors', 'stanford', 'started', 'starter', 'states', 'still', 'substance', 'substances', 'sugar', 'sugars', 'sunshine', 'supplementation', 'supply', 'support', 'syrup', 'system', 'take', 'taking', 'talk', 'talked', 'targeted', 'teaching', 'term', 'terms', 'test', 'tests', 'thank', 'that', 'the', 'theme', 'these', 'thesis', 'they', 'thing', 'things', 'think', 'throughout', 'tickets', 'to', 'today', 'ton', 'tools', 'total', 'tour', 'track', 'tracker', 'trackers', 'training', 'travel', 'try', 'twice', 'two', 'understand', 'understands', 'unique', 'us', 'use', 'using', 'values', 'various', 've', 'visit', 'vital', 'vitamin', 'vitamins', 'want', 'way', 'ways', 'we', 'what', 'without', 'word', 'work', 'works', 'year', 'you', 'your', 'zero']\n",
            "[0.026129020700209667, 0.026129020700209667, 0.026129020700209667, 0.021898158580448468, 0.078387062100629, 0.026129020700209667, 0.026129020700209667, 0.026129020700209667, 0.026129020700209667, 0.043796317160896936, 0.026129020700209667, 0.026129020700209667, 0.01889631413432674, 0.07558525653730697, 0.026129020700209667, 0.07332726007282771, 0.026129020700209667, 0.021898158580448468, 0.026129020700209667, 0.026129020700209667, 0.026129020700209667, 0.18290314490146767, 0.026129020700209667, 0.021898158580448468, 0.078387062100629, 0.03779262826865348, 0.026129020700209667, 0.021898158580448468, 0.026129020700209667, 0.078387062100629, 0.026129020700209667, 0.052258041400419335, 0.01889631413432674, 0.026129020700209667, 0.021898158580448468, 0.026129020700209667, 0.04970370806607821, 0.07834171733137688, 0.1399632908213258, 0.052258041400419335, 0.052258041400419335, 0.026129020700209667, 0.06627161075477093, 0.052258041400419335, 0.026129020700209667, 0.026129020700209667, 0.026129020700209667, 0.052258041400419335, 0.026129020700209667, 0.043796317160896936, 0.052258041400419335, 0.021898158580448468, 0.026129020700209667, 0.052258041400419335, 0.026129020700209667, 0.156774124201258, 0.026129020700209667, 0.026129020700209667, 0.026129020700209667, 0.026129020700209667, 0.026129020700209667, 0.026129020700209667, 0.026129020700209667, 0.052258041400419335, 0.021898158580448468, 0.026129020700209667, 0.026129020700209667, 0.026129020700209667, 0.10451608280083867, 0.026129020700209667, 0.052258041400419335, 0.052258041400419335, 0.026129020700209667, 0.026129020700209667, 0.026129020700209667, 0.026129020700209667, 0.026129020700209667, 0.026129020700209667, 0.026129020700209667, 0.1970834272240362, 0.026129020700209667, 0.026129020700209667, 0.026129020700209667, 0.043796317160896936, 0.026129020700209667, 0.052258041400419335, 0.026129020700209667, 0.078387062100629, 0.01889631413432674, 0.026129020700209667, 0.026129020700209667, 0.01889631413432674, 0.03313580537738547, 0.026129020700209667, 0.052258041400419335, 0.021898158580448468, 0.026129020700209667, 0.03779262826865348, 0.026129020700209667, 0.052258041400419335, 0.026129020700209667, 0.026129020700209667, 0.026129020700209667, 0.1313889514826908, 0.052258041400419335, 0.021898158580448468, 0.01889631413432674, 0.078387062100629, 0.026129020700209667, 0.026129020700209667, 0.052258041400419335, 0.026129020700209667, 0.016567902688692734, 0.021898158580448468, 0.026129020700209667, 0.026129020700209667, 0.026129020700209667, 0.026129020700209667, 0.156774124201258, 0.021898158580448468, 0.052258041400419335, 0.026129020700209667, 0.078387062100629, 0.08759263432179387, 0.0656944757413454, 0.03917085866568844, 0.26129020700209665, 0.026129020700209667, 0.11337788480596044, 0.026129020700209667, 0.0656944757413454, 0.021898158580448468, 0.01889631413432674, 0.026129020700209667, 0.026129020700209667, 0.026129020700209667, 0.026129020700209667, 0.052258041400419335, 0.11337788480596044, 0.026129020700209667, 0.026129020700209667, 0.026129020700209667, 0.026129020700209667, 0.05668894240298022, 0.026129020700209667, 0.026129020700209667, 0.021898158580448468, 0.043796317160896936, 0.021898158580448468, 0.08759263432179387, 0.026129020700209667, 0.0656944757413454, 0.026129020700209667, 0.026129020700209667, 0.235161186301887, 0.021898158580448468, 0.026129020700209667, 0.04970370806607821, 0.026129020700209667, 0.026129020700209667, 0.021898158580448468, 0.052258041400419335, 0.08759263432179387, 0.026129020700209667, 0.01889631413432674, 0.021898158580448468, 0.10949079290224235, 0.026129020700209667, 0.021898158580448468, 0.026129020700209667, 0.1313889514826908, 0.03313580537738547, 0.043796317160896936, 0.10949079290224235, 0.04970370806607821, 0.0656944757413454, 0.0656944757413454, 0.026129020700209667, 0.021898158580448468, 0.026129020700209667, 0.10451608280083867, 0.021898158580448468, 0.026129020700209667, 0.026129020700209667, 0.026129020700209667, 0.026129020700209667, 0.052258041400419335, 0.026129020700209667, 0.026129020700209667, 0.026129020700209667, 0.026129020700209667, 0.026129020700209667, 0.0656944757413454, 0.021898158580448468, 0.03779262826865348, 0.052258041400419335, 0.18290314490146767, 0.026129020700209667, 0.02933090402913108, 0.026129020700209667, 0.01889631413432674, 0.026129020700209667, 0.052258041400419335, 0.026129020700209667, 0.052258041400419335, 0.01889631413432674, 0.05668894240298022, 0.026129020700209667, 0.021898158580448468, 0.026129020700209667, 0.026129020700209667, 0.052258041400419335, 0.043796317160896936, 0.026113905777125624, 0.026129020700209667, 0.052258041400419335, 0.026129020700209667, 0.026129020700209667, 0.026129020700209667, 0.026129020700209667, 0.09448157067163371, 0.021898158580448468, 0.026129020700209667, 0.052258041400419335, 0.026129020700209667, 0.026129020700209667, 0.026129020700209667, 0.026129020700209667, 0.052258041400419335, 0.026129020700209667, 0.026129020700209667, 0.026129020700209667, 0.09139867021993968, 0.026129020700209667, 0.043796317160896936, 0.078387062100629, 0.026129020700209667, 0.026129020700209667, 0.021898158580448468, 0.01889631413432674, 0.026129020700209667, 0.026129020700209667, 0.026129020700209667, 0.043796317160896936, 0.026129020700209667, 0.026129020700209667, 0.01889631413432674, 0.05668894240298022, 0.021898158580448468, 0.021898158580448468, 0.026129020700209667, 0.026129020700209667, 0.026129020700209667, 0.026129020700209667, 0.026129020700209667, 0.026129020700209667, 0.01889631413432674, 0.026129020700209667, 0.052258041400419335, 0.078387062100629, 0.03499082270533145, 0.026129020700209667, 0.026129020700209667, 0.052258041400419335, 0.026129020700209667, 0.026129020700209667, 0.026129020700209667, 0.026129020700209667, 0.021898158580448468, 0.026129020700209667, 0.026129020700209667, 0.043796317160896936, 0.052258041400419335, 0.021898158580448468, 0.021898158580448468, 0.07332726007282771, 0.021898158580448468, 0.026129020700209667, 0.026129020700209667, 0.052258041400419335, 0.026129020700209667, 0.026129020700209667, 0.02933090402913108, 0.07558525653730697, 0.052258041400419335, 0.043796317160896936, 0.026129020700209667, 0.026129020700209667, 0.026129020700209667, 0.052258041400419335, 0.043796317160896936, 0.026129020700209667, 0.026129020700209667, 0.026129020700209667, 0.05668894240298022, 0.02933090402913108, 0.026129020700209667, 0.026129020700209667, 0.18290314490146767, 0.0656944757413454, 0.021898158580448468, 0.07558525653730697, 0.021898158580448468, 0.026129020700209667, 0.026129020700209667, 0.13064510350104833, 0.043996356043696616, 0.026129020700209667, 0.01889631413432674, 0.026129020700209667, 0.026129020700209667, 0.026129020700209667, 0.156774124201258, 0.052258041400419335, 0.026129020700209667, 0.052258041400419335, 0.10451608280083867, 0.026129020700209667, 0.016567902688692734, 0.03779262826865348, 0.026129020700209667, 0.052258041400419335, 0.08283951344346367, 0.10949079290224235, 0.021898158580448468, 0.026129020700209667, 0.01889631413432674, 0.09448157067163371, 0.026129020700209667, 0.026129020700209667, 0.13064510350104833, 0.026129020700209667, 0.01889631413432674, 0.03779262826865348, 0.021898158580448468, 0.016567902688692734, 0.021898158580448468, 0.021898158580448468, 0.026129020700209667, 0.043796317160896936, 0.021898158580448468, 0.052258041400419335, 0.09448157067163371, 0.021898158580448468, 0.026129020700209667]\n"
          ]
        }
      ]
    },
    {
      "cell_type": "code",
      "source": [
        "# 把含sponsor的後lenth句都作為極有可能是sponaor的區塊\n",
        "length = 10\n",
        "sponsor_block = []\n",
        "for i in range(len(sentenced_text)):\n",
        "  ws = word_tokenize(sentenced_text[i])\n",
        "  for w in ws:\n",
        "    if(\"sponsor\" == w):\n",
        "      sponsor_block.append(sentenced_text[i])\n",
        "      for h in range(length):\n",
        "        if((i+h)<len(sentenced_text)): sponsor_block.append(sentenced_text[i+h])\n",
        "        \n",
        "      \n",
        "sponsor_block = \" \".join(sponsor_block)\n",
        "print(sponsor_block)"
      ],
      "metadata": {
        "id": "cxazD3cNd731",
        "outputId": "5a9ec01e-03bc-4d4f-bb3b-66696e303a6f",
        "colab": {
          "base_uri": "https://localhost:8080/"
        }
      },
      "execution_count": null,
      "outputs": [
        {
          "output_type": "stream",
          "name": "stdout",
          "text": [
            "Our first sponsor is thesis thesis makes what are called?  Our first sponsor is thesis thesis makes what are called?  Nootropics, which means smart drugs.  Now, to be honest.  I am not a fan of the term nootropics.  I don't believe in smart drugs.  In the sense that I don't believe that there's any one substance, or collection of substances that can make us smarter.  I do believe based on science.  However, that there are particular, neural circuits and brain functions that allow us to be more focused, more alert access creativity, be more motivated at cetera.  That's just the way that the brain works different, neural circuits for different brain States.  And so the idea of a nootropic that's just going to make a Smarter all around fails to acknowledge that. \n"
          ]
        }
      ]
    },
    {
      "cell_type": "code",
      "source": [
        "# 把sponsor block內的keyword和tdidf記下來\n",
        "sponsor_word = word_tokenize(sponsor_block)\n",
        "print(sponsor_word)\n",
        "\n",
        "keyword_sponsor=[]\n",
        "tfidf_sponsor=[]\n",
        "for i in range(len(sponsor_word)):\n",
        "  if(sponsor_word[i] in keyword_segment and sponsor_word[i] not in keyword_sponsor):\n",
        "    keyword_sponsor.append(sponsor_word[i])\n",
        "    tfidf_sponsor.append(tfidf_segment[keyword_segment.index(sponsor_word[i])])\n",
        "print(len(keyword_sponsor))\n",
        "print(len(tfidf_sponsor))\n",
        "n = len(keyword_sponsor)\n",
        "for i in range(n):\n",
        "  for j in range(0,n-i-1):\n",
        "    \n",
        "    if(tfidf_sponsor[j]>tfidf_sponsor[j+1]):\n",
        "      tfidf_sponsor[j], tfidf_sponsor[j+1] =  tfidf_sponsor[j+1], tfidf_sponsor[j]\n",
        "      keyword_sponsor[j], keyword_sponsor[j+1] =  keyword_sponsor[j+1], keyword_sponsor[j]\n",
        "for i in range(0,n):\n",
        "  print(keyword_sponsor[i],\" \",tfidf_sponsor[i])"
      ],
      "metadata": {
        "id": "lXmpUUzLekqs",
        "outputId": "f42d176f-1686-4e7b-e411-cf1f8cf29914",
        "colab": {
          "base_uri": "https://localhost:8080/"
        }
      },
      "execution_count": null,
      "outputs": [
        {
          "output_type": "stream",
          "name": "stdout",
          "text": [
            "['Our', 'first', 'sponsor', 'is', 'thesis', 'thesis', 'makes', 'what', 'are', 'called', '?', 'Our', 'first', 'sponsor', 'is', 'thesis', 'thesis', 'makes', 'what', 'are', 'called', '?', 'Nootropics', ',', 'which', 'means', 'smart', 'drugs', '.', 'Now', ',', 'to', 'be', 'honest', '.', 'I', 'am', 'not', 'a', 'fan', 'of', 'the', 'term', 'nootropics', '.', 'I', 'do', \"n't\", 'believe', 'in', 'smart', 'drugs', '.', 'In', 'the', 'sense', 'that', 'I', 'do', \"n't\", 'believe', 'that', 'there', \"'s\", 'any', 'one', 'substance', ',', 'or', 'collection', 'of', 'substances', 'that', 'can', 'make', 'us', 'smarter', '.', 'I', 'do', 'believe', 'based', 'on', 'science', '.', 'However', ',', 'that', 'there', 'are', 'particular', ',', 'neural', 'circuits', 'and', 'brain', 'functions', 'that', 'allow', 'us', 'to', 'be', 'more', 'focused', ',', 'more', 'alert', 'access', 'creativity', ',', 'be', 'more', 'motivated', 'at', 'cetera', '.', 'That', \"'s\", 'just', 'the', 'way', 'that', 'the', 'brain', 'works', 'different', ',', 'neural', 'circuits', 'for', 'different', 'brain', 'States', '.', 'And', 'so', 'the', 'idea', 'of', 'a', 'nootropic', 'that', \"'s\", 'just', 'going', 'to', 'make', 'a', 'Smarter', 'all', 'around', 'fails', 'to', 'acknowledge', 'that', '.']\n",
            "55\n",
            "55\n",
            "allow   0.01889631413432674\n",
            "for   0.01889631413432674\n",
            "what   0.021898158580448468\n",
            "means   0.021898158580448468\n",
            "substance   0.021898158580448468\n",
            "substances   0.021898158580448468\n",
            "functions   0.021898158580448468\n",
            "focused   0.021898158580448468\n",
            "works   0.021898158580448468\n",
            "around   0.021898158580448468\n",
            "particular   0.026113905777125624\n",
            "sponsor   0.026129020700209667\n",
            "is   0.026129020700209667\n",
            "honest   0.026129020700209667\n",
            "fan   0.026129020700209667\n",
            "sense   0.026129020700209667\n",
            "collection   0.026129020700209667\n",
            "alert   0.026129020700209667\n",
            "creativity   0.026129020700209667\n",
            "motivated   0.026129020700209667\n",
            "cetera   0.026129020700209667\n",
            "just   0.026129020700209667\n",
            "idea   0.026129020700209667\n",
            "all   0.026129020700209667\n",
            "fails   0.026129020700209667\n",
            "acknowledge   0.026129020700209667\n",
            "the   0.02933090402913108\n",
            "so   0.03499082270533145\n",
            "based   0.03779262826865348\n",
            "neural   0.03779262826865348\n",
            "way   0.03779262826865348\n",
            "going   0.03917085866568844\n",
            "circuits   0.043796317160896936\n",
            "make   0.04970370806607821\n",
            "smart   0.052258041400419335\n",
            "drugs   0.052258041400419335\n",
            "term   0.052258041400419335\n",
            "nootropic   0.052258041400419335\n",
            "that   0.05668894240298022\n",
            "one   0.05668894240298022\n",
            "science   0.05668894240298022\n",
            "makes   0.0656944757413454\n",
            "called   0.06627161075477093\n",
            "and   0.07332726007282771\n",
            "believe   0.078387062100629\n",
            "smarter   0.078387062100629\n",
            "access   0.078387062100629\n",
            "us   0.08283951344346367\n",
            "in   0.08759263432179387\n",
            "to   0.13064510350104833\n",
            "first   0.1313889514826908\n",
            "brain   0.1399632908213258\n",
            "thesis   0.18290314490146767\n",
            "nootropics   0.18290314490146767\n",
            "different   0.1970834272240362\n"
          ]
        }
      ]
    },
    {
      "cell_type": "markdown",
      "source": [
        "## 篩選出名詞和形容詞"
      ],
      "metadata": {
        "id": "iw4YcQmaiSHl"
      }
    },
    {
      "cell_type": "code",
      "source": [
        "import nltk\n",
        "from nltk.tokenize import word_tokenize\n",
        "from nltk.tag import pos_tag\n",
        "nltk.download('averaged_perceptron_tagger')\n",
        "def preprocess(sent):\n",
        "    sent = nltk.pos_tag(sent)\n",
        "    return sent\n",
        "part = preprocess(keyword_sponsor)"
      ],
      "metadata": {
        "id": "L1BV7VcneoLu",
        "outputId": "d4eb93ec-c4f5-47c7-c8f9-a76af1e6c0f4",
        "colab": {
          "base_uri": "https://localhost:8080/"
        }
      },
      "execution_count": null,
      "outputs": [
        {
          "output_type": "stream",
          "name": "stdout",
          "text": [
            "[nltk_data] Downloading package averaged_perceptron_tagger to\n",
            "[nltk_data]     /root/nltk_data...\n",
            "[nltk_data]   Unzipping taggers/averaged_perceptron_tagger.zip.\n"
          ]
        }
      ]
    },
    {
      "cell_type": "code",
      "source": [
        "select_word = []\n",
        "#part = part.reverse()\n",
        "for i in range(len(part)):\n",
        "  if(part[i][1]=='NN' or part[i][1]=='NNS' or part[i][1]=='JJ'or part[i][1]=='JJR'):\n",
        "    select_word.append(part[i][0])"
      ],
      "metadata": {
        "id": "lpNmMcV-iXRq"
      },
      "execution_count": null,
      "outputs": []
    },
    {
      "cell_type": "code",
      "source": [
        "select_word"
      ],
      "metadata": {
        "id": "qHcsaaLWiaid",
        "outputId": "8941f5d9-534e-47e4-8e5c-c4a0e629fb4c",
        "colab": {
          "base_uri": "https://localhost:8080/"
        }
      },
      "execution_count": null,
      "outputs": [
        {
          "output_type": "execute_result",
          "data": {
            "text/plain": [
              "['substance',\n",
              " 'substances',\n",
              " 'functions',\n",
              " 'works',\n",
              " 'particular',\n",
              " 'sponsor',\n",
              " 'honest',\n",
              " 'fan',\n",
              " 'sense',\n",
              " 'collection',\n",
              " 'alert',\n",
              " 'creativity',\n",
              " 'cetera',\n",
              " 'idea',\n",
              " 'fails',\n",
              " 'neural',\n",
              " 'way',\n",
              " 'circuits',\n",
              " 'smart',\n",
              " 'drugs',\n",
              " 'term',\n",
              " 'nootropic',\n",
              " 'science',\n",
              " 'smarter',\n",
              " 'access',\n",
              " 'first',\n",
              " 'brain',\n",
              " 'thesis',\n",
              " 'nootropics',\n",
              " 'different']"
            ]
          },
          "metadata": {},
          "execution_count": 43
        }
      ]
    },
    {
      "cell_type": "markdown",
      "source": [
        "## 去掉sponsor"
      ],
      "metadata": {
        "id": "HjftTxNiiqLk"
      }
    },
    {
      "cell_type": "code",
      "source": [
        "for i in range(len(sentenced_text)):\n",
        "  matches = [a for a in select_word if a in sentenced_text[i]]\n",
        "  #print(all_sentence[i])\n",
        "  print(matches)"
      ],
      "metadata": {
        "id": "140ai3jZipN1",
        "outputId": "ae4d839f-df6c-44ab-b051-78763307ec60",
        "colab": {
          "base_uri": "https://localhost:8080/"
        }
      },
      "execution_count": null,
      "outputs": [
        {
          "output_type": "stream",
          "name": "stdout",
          "text": [
            "['science']\n",
            "[]\n",
            "[]\n",
            "['particular']\n",
            "['brain']\n",
            "[]\n",
            "[]\n",
            "[]\n",
            "[]\n",
            "[]\n",
            "['substance', 'brain']\n",
            "[]\n",
            "['substance', 'substances']\n",
            "[]\n",
            "[]\n",
            "['brain']\n",
            "['way']\n",
            "['term']\n",
            "['brain']\n",
            "['particular', 'brain']\n",
            "[]\n",
            "[]\n",
            "['brain']\n",
            "[]\n",
            "['first']\n",
            "[]\n",
            "['science', 'brain']\n",
            "[]\n",
            "[]\n",
            "[]\n",
            "[]\n",
            "[]\n",
            "['access']\n",
            "[]\n",
            "['science']\n",
            "['sponsor']\n",
            "['sponsor', 'first', 'thesis']\n",
            "['smart', 'drugs']\n",
            "['honest']\n",
            "['fan', 'term', 'nootropic', 'nootropics']\n",
            "['smart', 'drugs']\n",
            "['substance', 'substances', 'sense', 'collection', 'smart', 'smarter']\n",
            "['science']\n",
            "['functions', 'particular', 'alert', 'creativity', 'cetera', 'neural', 'circuits', 'access', 'brain']\n",
            "['works', 'neural', 'way', 'circuits', 'brain', 'different']\n",
            "['idea', 'fails', 'nootropic']\n",
            "[]\n",
            "['different']\n",
            "[]\n",
            "['brain', 'thesis', 'different']\n",
            "['nootropic', 'first', 'nootropics']\n",
            "[]\n",
            "[]\n",
            "['different']\n",
            "['nootropic', 'brain', 'nootropics']\n",
            "['idea', 'nootropic', 'brain', 'nootropics', 'different']\n",
            "['access']\n",
            "['nootropic', 'thesis', 'nootropics']\n",
            "[]\n",
            "[]\n",
            "['first', 'thesis', 'different']\n",
            "['thesis']\n",
            "['first']\n",
            "[]\n",
            "[]\n",
            "[]\n",
            "['sponsor']\n",
            "[]\n",
            "[]\n",
            "[]\n",
            "[]\n",
            "[]\n",
            "[]\n",
            "['way', 'brain']\n",
            "[]\n",
            "[]\n",
            "[]\n",
            "[]\n",
            "[]\n",
            "[]\n",
            "['brain']\n",
            "[]\n",
            "[]\n",
            "[]\n",
            "[]\n",
            "[]\n",
            "['term']\n",
            "[]\n",
            "['different']\n",
            "['term']\n",
            "[]\n",
            "['term', 'different']\n",
            "[]\n",
            "[]\n",
            "[]\n",
            "[]\n",
            "[]\n",
            "['brain']\n",
            "['way']\n",
            "[]\n",
            "['first']\n",
            "[]\n",
            "['particular', 'brain']\n",
            "[]\n",
            "[]\n",
            "[]\n",
            "[]\n",
            "[]\n",
            "[]\n",
            "['particular', 'way']\n",
            "['works', 'particular', 'way', 'brain']\n",
            "[]\n",
            "[]\n",
            "[]\n",
            "[]\n",
            "['works']\n",
            "['neural', 'way', 'circuits', 'different']\n",
            "[]\n",
            "[]\n",
            "[]\n",
            "[]\n",
            "[]\n",
            "[]\n",
            "[]\n",
            "['way']\n",
            "['brain']\n",
            "[]\n",
            "[]\n",
            "['neural']\n",
            "[]\n",
            "[]\n",
            "['brain']\n",
            "[]\n",
            "[]\n",
            "[]\n",
            "['particular', 'brain']\n",
            "[]\n",
            "['brain']\n",
            "[]\n",
            "[]\n",
            "[]\n",
            "[]\n",
            "[]\n",
            "[]\n",
            "['particular', 'brain']\n",
            "[]\n",
            "[]\n",
            "[]\n",
            "['brain']\n",
            "['brain']\n",
            "[]\n",
            "[]\n",
            "[]\n",
            "[]\n",
            "['particular']\n",
            "[]\n",
            "[]\n",
            "[]\n",
            "[]\n",
            "['way']\n",
            "[]\n",
            "['brain']\n",
            "[]\n",
            "[]\n",
            "[]\n",
            "['brain']\n",
            "[]\n",
            "[]\n",
            "['brain']\n",
            "[]\n",
            "[]\n",
            "[]\n"
          ]
        }
      ]
    },
    {
      "cell_type": "code",
      "source": [
        "num = 5\n",
        "match_num=1\n",
        "before_flag = [0]*num\n",
        "is_sponsor = []\n",
        "for i in range(len(sentenced_text)):\n",
        "  if(\"sponsor\" in sentenced_text[i]):\n",
        "    \n",
        "    for j in range(i,len(sentenced_text)):\n",
        "      matches = [a for a in select_word if a in sentenced_text[j]]\n",
        "      \n",
        "      for f in range(num-1,0,-1):\n",
        "        before_flag[f] = before_flag[f-1]\n",
        "      if(len(matches)>match_num or i==j): before_flag[0] = 1\n",
        "      else: before_flag[0] = 0\n",
        "      print(before_flag)\n",
        "      flag=0\n",
        "      for f in range(num):\n",
        "        if(before_flag[f]==1): \n",
        "          flag=1\n",
        "          break\n",
        "      if(flag==1):\n",
        "        if((j-num-1)>=i): is_sponsor.append(sentenced_text[j-num-1])\n",
        "        \n",
        "      else:\n",
        "        is_sponsor.append(\"----------------------------------------------------------------\")\n",
        "        break\n",
        "    break"
      ],
      "metadata": {
        "id": "z3aYkc0kjOnc",
        "outputId": "73694bb3-f8af-451c-8dda-9a03c1ddf636",
        "colab": {
          "base_uri": "https://localhost:8080/"
        }
      },
      "execution_count": null,
      "outputs": [
        {
          "output_type": "stream",
          "name": "stdout",
          "text": [
            "[1, 0, 0, 0, 0]\n",
            "[1, 1, 0, 0, 0]\n",
            "[1, 1, 1, 0, 0]\n",
            "[0, 1, 1, 1, 0]\n",
            "[1, 0, 1, 1, 1]\n",
            "[1, 1, 0, 1, 1]\n",
            "[1, 1, 1, 0, 1]\n",
            "[0, 1, 1, 1, 0]\n",
            "[1, 0, 1, 1, 1]\n",
            "[1, 1, 0, 1, 1]\n",
            "[1, 1, 1, 0, 1]\n",
            "[0, 1, 1, 1, 0]\n",
            "[0, 0, 1, 1, 1]\n",
            "[0, 0, 0, 1, 1]\n",
            "[1, 0, 0, 0, 1]\n",
            "[1, 1, 0, 0, 0]\n",
            "[0, 1, 1, 0, 0]\n",
            "[0, 0, 1, 1, 0]\n",
            "[0, 0, 0, 1, 1]\n",
            "[1, 0, 0, 0, 1]\n",
            "[1, 1, 0, 0, 0]\n",
            "[0, 1, 1, 0, 0]\n",
            "[1, 0, 1, 1, 0]\n",
            "[0, 1, 0, 1, 1]\n",
            "[0, 0, 1, 0, 1]\n",
            "[1, 0, 0, 1, 0]\n",
            "[0, 1, 0, 0, 1]\n",
            "[0, 0, 1, 0, 0]\n",
            "[0, 0, 0, 1, 0]\n",
            "[0, 0, 0, 0, 1]\n",
            "[0, 0, 0, 0, 0]\n"
          ]
        }
      ]
    },
    {
      "cell_type": "code",
      "source": [
        "for sent in is_sponsor: \n",
        "  print(sent)"
      ],
      "metadata": {
        "id": "tjRtFEbhjbMC",
        "outputId": "198e7fe0-0721-4986-cbff-5d25da875aab",
        "colab": {
          "base_uri": "https://localhost:8080/"
        }
      },
      "execution_count": null,
      "outputs": [
        {
          "output_type": "stream",
          "name": "stdout",
          "text": [
            "I'd like to thank the sponsors of today's podcast. \n",
            "Our first sponsor is thesis thesis makes what are called? \n",
            "Nootropics, which means smart drugs. \n",
            "Now, to be honest. \n",
            "I am not a fan of the term nootropics. \n",
            "I don't believe in smart drugs. \n",
            "In the sense that I don't believe that there's any one substance, or collection of substances that can make us smarter. \n",
            "I do believe based on science. \n",
            "However, that there are particular, neural circuits and brain functions that allow us to be more focused, more alert access creativity, be more motivated at cetera. \n",
            "That's just the way that the brain works different, neural circuits for different brain States. \n",
            "And so the idea of a nootropic that's just going to make a Smarter all around fails to acknowledge that. \n",
            "Smarter is many things, right? \n",
            "If you're an artist or a musician, you're doing math, you're doing accounting a different part of the day. \n",
            "You need to be creative. \n",
            "These are all different brain, processes thesis understands this. \n",
            "And as far as I know that the first nootropics company to create targeted, nootropics for specific outcomes. \n",
            "They only use the highest quality ingredients, which of course is essential. \n",
            "Some of those I've talked about on the podcast, things like DHA, ginkgo biloba, phosphatidyl serine. \n",
            "They give you the ability to try several different blends over the course of a month. \n",
            "Discover which nootropics work best for your unique brain, chemistry and genetics and goals. \n",
            "And with that personalization design, a kit of nootropics that's ideal for the different brain and body States. \n",
            "You want to access. \n",
            "I've been using thesis for more than six months now and I can confidently say that their nootropics have been a total Game Changer. \n",
            "My go-to formula is the clarity formula or sometimes I'll use their energy formula before training to get your own personalized. \n",
            "----------------------------------------------------------------\n"
          ]
        }
      ]
    },
    {
      "cell_type": "code",
      "source": [
        "del_sponsor_sentence = []\n",
        "for i in range(len(sentenced_text)):\n",
        "  if (sentenced_text[i] not in is_sponsor):\n",
        "    del_sponsor_sentence.append(sentenced_text[i])\n",
        "for sent in del_sponsor_sentence: \n",
        "  print(sent)"
      ],
      "metadata": {
        "id": "a9jrZcTPjhfD",
        "outputId": "2f8b2591-3e0c-47f3-bfd9-b8e696ae6409",
        "colab": {
          "base_uri": "https://localhost:8080/"
        }
      },
      "execution_count": null,
      "outputs": [
        {
          "output_type": "stream",
          "name": "stdout",
          "text": [
            "Welcome to the huberman Lab podcast, where we discuss science and science based tools for everyday life. \n",
            "I'm Andrew huberman, and I'm a professor of neurobiology and Ophthalmology at Stanford school of medicine. \n",
            "Today. \n",
            "We are going to discuss sugar in particular how our nervous system regulates our sugar intake and are seeking of sugar. \n",
            "We're also going to discuss how sugar regulates our nervous system and as you'll soon, learn sugar really impacts our brain and body by two main mechanisms. \n",
            "Isms, one of those mechanisms is based on the Sweet Taste of sugar which itself is rewarding. \n",
            "Even if you're not much of a sweet tooth. \n",
            "I confess. \n",
            "I'm not most people enjoy sweet tastes more than bitter tastes and the Sweet Taste of sugar. \n",
            "And its various forms is strongly reinforcing. \n",
            "Meaning it triggers the activation of neurons nerve cells in the brain and body that make us want to consume more of that sweet substance. \n",
            "Incidentally. \n",
            "Sweet taste also make us want to eat more of other substances. \n",
            "Senses as well. \n",
            "You may be familiar with that phenomenon. \n",
            "Now sugar also triggers mechanisms in the brain and body based on its nutritive content independent of its sweetness. \n",
            "What that means is that the actual caloric content and the way that Sugar interacts with your nervous system at a subconscious level without your awareness, also impacts your craving and seeking of sugar and other Foods today. \n",
            "We are going to discuss what happens when you ingest sugar in terms of your body's reaction. \n",
            "Your brains reaction. \n",
            "We are also going to talk about what happens when you don't ingest enough sugar, because it turns out sugar is such a powerful fuel for the brain that under conditions, where people don't ingest enough sugar or where their so-called blood glucose, which is basically a blood sugar of a particular form gets too low there neurons, don't function as well. \n",
            "That said, their conditions of very low blood sugar in which neurons can function even better. \n",
            "So today we are going to talk about the ins and outs the ups and downs of sugar. \n",
            "As it relates to your nervous system and by the end of this episode, I'm confident that you have a much clearer picture as to how much sugar you should be ingesting, whether or not you should avoid sugars that you're currently eating, and you will certainly understand much more about the energy and fuel sources that your brain relies on which I'm certain, will allow you to make better informed choices about the foods, you eat, and avoid toward mental health, physical health, and performance. \n",
            "I'm pleased to announce that I'm hosting to Live Events. \n",
            "This may the first live event will Hosted in Seattle, Washington on May 17th. \n",
            "The second live event will be hosted in Portland, Oregon on May 18th. \n",
            "Both are part of a lecture series entitled, the brain-body contract during which I will discuss science and science based tools for mental health, physical, health, and performance. \n",
            "I should point out that while some of the material, I'll cover will overlap with information covered here on the huberman Lab podcast and on various social media posts. \n",
            "Most of the information I will cover is going to be distinct from information covered on the podcast. \n",
            "Or elsewhere. \n",
            "So once again, it's Seattle on May 17th. \n",
            "Portland on May 18th. \n",
            "You can access tickets by going to human lab.com, / tour and I hope to see you there. \n",
            "Before we begin, I'd like to emphasize that this podcast is separate from my teaching and research roles at Stanford. \n",
            "It is however, a part of my desire and effort to bring zero cost to Consumer information about science and science related tools to the general public in keeping with that theme. \n",
            "Nootropic starter kit. \n",
            "Go online to take thesis.com huberman, take a A minute quiz and thesis will send you four different formulas to try in your first month. \n",
            "That's take thesis.com huberman and use the code huberman at checkout for 10% off. \n",
            "Your first order. \n",
            "Today's episode is also brought To Us by athletic greens now called a G1. \n",
            "Athletic greens is an all-in-one vitamin mineral, probiotic drink. \n",
            "I've been taking athletic greens since 2012. \n",
            "So I'm delighted that they're sponsoring the podcast. \n",
            "The reason I started taking athletic Greens in the reason. \n",
            "I still take out letter greens once or twice a day, is that it helps me, cover all of my bases. \n",
            "Nutritional needs. \n",
            "It makes up for any deficiencies that I might have. \n",
            "In addition. \n",
            "It has probiotics which are vital for microbiome Health. \n",
            "I've done a couple of episodes now on the so-called gut microbiome and the ways in which the microbiome interacts, with your immune system, with your brain to regulate mood and essentially with every biological system relevant to health throughout your brain and body without let it greens. \n",
            "I get the vitamins. \n",
            "I need the minerals. \n",
            "I need and the probiotics to support my microbiome. \n",
            "If you'd like to try out, let it greens, you can go. \n",
            "Two athletic greens.com huberman and claim a special offer. \n",
            "They'll give you five free travel packs, which make it easy to mix up athletic greens while you're on the road, plus a year supply of vitamin D3 K to our ton of data. \n",
            "Now showing that vitamin D3 is essential for various aspects of our brain and body Health, even if we're getting a lot of sunshine, many of us are still deficient in vitamin D3. \n",
            "And K2 is also important because it regulates things like cardiovascular function calcium in the body. \n",
            "And so on again, go to athletic greens.com hubermann. \n",
            "To claim the special offer of the five free travel packs and the year supply of vitamin D3 K to today's episode is also brought To Us by inside tracker inside trackers, a personalized nutrition platform. \n",
            "That analyzes data from your blood and DNA to help you better understand your body and help you reach your health goals. \n",
            "I've long been a believer in getting regular blood work done. \n",
            "For the simple reason that many of the factors that impact your immediate and long-term Health can only be assessed with a quality blood test. \n",
            "What's unique about inside tracker. \n",
            "Is that while there are a lot of different Tests out there for hormones and metabolic factors Etc with inside tracker. \n",
            "You get the numbers back in terms of your levels, but they also give you very clear. \n",
            "Directives. \n",
            "In terms of Lifestyle nutrition and supplementation that can help you bring those values into the ranges that are best for you and your health goals and that's very different than a lot of the other programs where you get a lot of information. \n",
            "We don't really know what to do with that information inside tracker makes that all very easy to understand and very actionable based on the very easy-to-use dashboard at inside tracker. \n",
            "If you'd like to try inside track, You can visit inside tracker.com huberman to get 20% off any of inside. \n",
            "Trackers plans. \n",
            "Just use the code huberman at checkout. \n",
            "Okay, let's talk about sugar. \n",
            "Let's talk about how sugar impacts your brain and how your brain impacts your pursuit or your avoidance of sugar. \n",
            "Let's get a few things out of the way. \n",
            "First. \n",
            "The first thing is that there's nothing inherently bad about sugar. \n",
            "I know the word sugar gets a bad rap nowadays and indeed, you're going to hear over and over again. \n",
            "During this podcast that consuming a lot of refined sugars in particular, high fructose, corn syrup is known to have a very large number of bad effects on the brain and body. \n",
            "I don't know that there's any one that really debates that anymore, even if we just agree and I think we should all agree on the so-called calories in calories out principle, right? \n",
            "It's a principle of thermodynamics that if we ingest more energy than we burn, we are going to gain weight. \n",
            "If we ingest less energy than we burn, we are generally going to lose weight and if The two things are imbalance ingestion and burning of energy. \n",
            "Well, then we're going to maintain weight. \n",
            "So everyone agrees on that. \n",
            "I agree on that. \n",
            "But beyond that there are a number of ways in which particular nutrients in the case of today's episode sugar impact. \n",
            "The way that the brain works such that we tend to seek out more of particular nutrients. \n",
            "For instance. \n",
            "If we eat sugar, there are two or at least two mechanisms by which we will crave more sugar. \n",
            "I think. \n",
            "People are aware of that experience. \n",
            "But today I'm going to explain exactly how that works. \n",
            "But also that when we ingest sugar, it has a bunch of different effects on the way that our neural circuits work that can allow us to be more or less focused more or less agitated more or less happy more or less depressed in some cases. \n",
            "So today as we explore this thing. \n",
            "We're calling Sugar, We're Going to explore that mainly in the context of the nervous system, but also in the context of how the nervous system regulates many many. \n",
            "Functions and behaviors that are important to all of you, your ability to think your ability, to exercise, your ability to gain weight lose weight. \n",
            "Whatever your goals might happen, to be sugar, plays a critical role in achieving those goals. \n",
            "And in some cases, if you're ingesting too much at the wrong times of the wrong forms, sugar can actually impede those goals. \n",
            "In fact, sugar can prevent all the right behaviors from allowing you to achieve the goals that you want. \n",
            "So today we are going to place sugar into its proper context. \n",
            "The way I want to start. \n",
            "Start off by doing that is to tell you a little bit of what happens when we eat and a little bit of what the brain does to respond to those events. \n",
            "So what happens when we eat? \n",
            "Well, I've done an entire episode on metabolism. \n",
            "So if you're interested in the full Cascade of hormonal and neural events that occurs when we eat, please check out that episode. \n",
            "But for sake of today's discussion, let's just take a what I call Top Contour view of the hormonal response to ingesting food. \n",
            "Now, any time we eat, that is the consequence of a number of things that happen. \n",
            "Before we ate, there's a hormone in our brain and body called ghrelin. \n",
            "Spelled GH reli. \n",
            "N ghrelin is a hormone that increases depending on how long it's been since we ate last. \n",
            "Okay. \n",
            "So the longer it's been since we had a meal ghrelin levels are going to be higher and higher and higher and it essentially makes us hungry by interacting with particular neurons in an area of the brain called the arcuate nucleus of the hypothalamus.- \n",
            "and some other areas as well, like the lateral hypothalamus. \n",
            "You don't need to know the names of those brain areas. \n",
            "But if you'd like to know them, there they are ghrelin increases. \n",
            "It tends to make us hungry. \n",
            "And then when we eat typically, what happens is ghrelin levels, go down. \n",
            "So it's a very logical system. \n",
            "Now when we eat assuming that we eat carbohydrates, but even if we just eat some protein and some fats, we will experience a slight or in some cases, a large rise in blood. \n",
            "Glucose blood. \n",
            "Glucose is simply blood sugar and the body and brain, we should say particular the nervous system doesn't function. \n",
            "Well, if blood sugar is too high or too low. \n",
            "So as a consequence we have another hormone, which is released from the pancreas, which is called insulin which helps regulate the amount of glucose in the bloodstream. \n",
            "So even if you were to ingest, an entire cup and 8 ounce cup of pure table sugar, which would send your blood glucose very very high assuming that you have a normal. \n",
            "Insulin response that you're not diabetic that insulin response would help clamp that blood glucose level so that it did not cause damage to your brain and body. \n",
            "Because if blood sugar goes too high, it's actually toxic to neurons and other cells of your body can kill them off and neurons of the central nervous system in the brain and spinal cord. \n",
            "Once they are dead. \n",
            "They do not come back. \n",
            "So your biological systems understand this at a biological level that is and prevent that death of cells due to high blood sugar by keeping. \n",
            "Insulin around in order to clamp blood glucose diabetics. \n",
            "We call them type 1 diabetics who don't make insulin have to take insulin when they eat in particular, when they foods that raise their blood sugar specifically to avoid that neurotoxicity in the other deleterious effects of high blood sugar. \n",
            "Okay. \n",
            "So ghrelin is a hormone that goes up the longer. \n",
            "It's been since we've eaten it tends to stimulate hunger when we eat ghrelin is suppressed blood glucose typically goes up, especially when we a carbohydrate containing meal. \n",
            "When blood glucose goes up, its regulated in the body meaning its Peaks and its valleys are more less smoothed out and that glucose is sequestered. \n",
            "It's taken away where it needs to be taken away. \n",
            "And in certain locations, it's delivered to cells so that those cells can use the glucose. \n",
            "Now, one of the chief organs for glucose utilization is the brain neurons are tremendously metabolically active and their preferred mode of metabolism is glucose metabolism. \n",
            "The words neurons basically run on sugar, which is not to say that you should eat a lot of sugar as you'll see today. \n",
            "There are states of mind and body. \n",
            "For instance, fasted States in which people report having immense amounts of mental Clarity and their blood glucose is actually quite low. \n",
            "So it is simply not the case that the more sugar that you ingest the better that your brain will function. \n",
            "But it is the case that for most people, meaning people who are not on a ketogenic or very low carbohydrate diet. \n",
            "They're not adapted to low carbohydrate. \n",
            "Diets that neurons in their brain and body are using glucose in order to function. \n",
            "That's what allows those neurons to fire electrical, potentials. \n",
            "That's how we refer to it. \n",
            "Firing meaning, sending electrical signals down their lengths to communicate with other neurons. \n"
          ]
        }
      ]
    },
    {
      "cell_type": "markdown",
      "source": [
        "# 重新來分段一次"
      ],
      "metadata": {
        "id": "e54KIYnfj3Mr"
      }
    },
    {
      "cell_type": "code",
      "source": [
        "strs = \" \"\n",
        "for i in range(len(del_sponsor_sentence)):\n",
        "  if(del_sponsor_sentence[i] != \" \"):\n",
        "    strs =del_sponsor_sentence[i]\n",
        "  if(i+1<len(del_sponsor_sentence)):\n",
        "    if(strs == del_sponsor_sentence[i+1]):\n",
        "      del_sponsor_sentence[i+1]=\" \"\n",
        "vecr = CountVectorizer(vocabulary=wrdvecs.index)\n",
        "\n",
        "sentence_vectors = vecr.transform(del_sponsor_sentence).dot(wrdvecs)\n",
        "\n",
        "penalty = get_penalty([sentence_vectors], segment_len)\n",
        "print('penalty %4.2f' % penalty)\n",
        "\n",
        "optimal_segmentation = split_optimal(sentence_vectors, penalty, seg_limit=250)\n",
        "segmented_text = get_segments(del_sponsor_sentence, optimal_segmentation)\n",
        "\n",
        "print('%d sentences, %d segments, avg %4.2f sentences per segment' % (\n",
        "    len(del_sponsor_sentence), len(segmented_text), len(del_sponsor_sentence) / len(segmented_text)))\n",
        "\n",
        "with open(book_path + '.seg', 'wt') as f:\n",
        "    for i, segment_sentences in enumerate(segmented_text):\n",
        "        segment_str = ' // '.join(segment_sentences)\n",
        "        gain = optimal_segmentation.gains[i] if i < len(segmented_text) - 1 else 0\n",
        "        segment_info = ' [%d sentences, %4.3f] ' % (len(segment_sentences), gain) \n",
        "        print(segment_str + '\\n8<' + '=' * 30 + segment_info + \"=\" * 30, file=f)\n",
        "\n",
        "greedy_segmentation = split_greedy(sentence_vectors, max_splits=len(optimal_segmentation.splits))\n",
        "greedy_segmented_text = get_segments(del_sponsor_sentence, greedy_segmentation)\n",
        "lengths_optimal = [len(segment) for segment in segmented_text for sentence in segment]\n",
        "lengths_greedy = [len(segment) for segment in greedy_segmented_text for sentence in segment]\n",
        "df = pd.DataFrame({'greedy':lengths_greedy, 'optimal': lengths_optimal})\n",
        "df.plot.line(figsize=(18, 3), title='Segment lenghts over text')\n",
        "df.plot.hist(bins=30, alpha=0.5, figsize=(10, 3), title='Histogram of segment lengths')\n",
        "\n",
        "totals = [get_total(sentence_vectors, seg.splits, penalty) \n",
        "          for seg in [optimal_segmentation, greedy_segmentation]]\n",
        "print('optimal score %4.2f, greedy score %4.2f' % tuple(totals))\n",
        "print(totals)\n",
        "print(tuple(totals))\n",
        "print('ratio of scores %5.4f' % (totals[0] / totals[1]))"
      ],
      "metadata": {
        "id": "boaB1_ULj7Xt",
        "outputId": "3bffa28e-a201-43a2-c3da-8c3afb64cd96",
        "colab": {
          "base_uri": "https://localhost:8080/",
          "height": 541
        }
      },
      "execution_count": null,
      "outputs": [
        {
          "output_type": "stream",
          "name": "stdout",
          "text": [
            "penalty 54.07\n",
            "148 sentences, 6 segments, avg 24.67 sentences per segment\n",
            "optimal score 4805.91, greedy score 4802.74\n",
            "[4805.910228886806, 4802.736652762105]\n",
            "(4805.910228886806, 4802.736652762105)\n",
            "ratio of scores 1.0007\n"
          ]
        },
        {
          "output_type": "display_data",
          "data": {
            "text/plain": [
              "<Figure size 1296x216 with 1 Axes>"
            ],
            "image/png": "[encoded data removed]"
          },
          "metadata": {
            "needs_background": "light"
          }
        },
        {
          "output_type": "display_data",
          "data": {
            "text/plain": [
              "<Figure size 720x216 with 1 Axes>"
            ],
            "image/png": "[encoded data removed]"
          },
          "metadata": {
            "needs_background": "light"
          }
        }
      ]
    },
    {
      "cell_type": "code",
      "source": [
        "for i in range(len(segmented_text)):\n",
        "  print(segmented_text[i])"
      ],
      "metadata": {
        "id": "7sTKAqBAkNs8",
        "outputId": "bdce908e-bb28-4d95-c8b6-47404e7376e1",
        "colab": {
          "base_uri": "https://localhost:8080/"
        }
      },
      "execution_count": null,
      "outputs": [
        {
          "output_type": "stream",
          "name": "stdout",
          "text": [
            "['Welcome to the huberman Lab podcast, where we discuss science and science based tools for everyday life. ', \"I'm Andrew huberman, and I'm a professor of neurobiology and Ophthalmology at Stanford school of medicine. \", 'Today. ', 'We are going to discuss sugar in particular how our nervous system regulates our sugar intake and are seeking of sugar. ', \"We're also going to discuss how sugar regulates our nervous system and as you'll soon, learn sugar really impacts our brain and body by two main mechanisms. \", 'Isms, one of those mechanisms is based on the Sweet Taste of sugar which itself is rewarding. ', \"Even if you're not much of a sweet tooth. \", 'I confess. ', \"I'm not most people enjoy sweet tastes more than bitter tastes and the Sweet Taste of sugar. \", 'And its various forms is strongly reinforcing. ', 'Meaning it triggers the activation of neurons nerve cells in the brain and body that make us want to consume more of that sweet substance. ', 'Incidentally. ', 'Sweet taste also make us want to eat more of other substances. ', 'Senses as well. ', 'You may be familiar with that phenomenon. ', 'Now sugar also triggers mechanisms in the brain and body based on its nutritive content independent of its sweetness. ', 'What that means is that the actual caloric content and the way that Sugar interacts with your nervous system at a subconscious level without your awareness, also impacts your craving and seeking of sugar and other Foods today. ', \"We are going to discuss what happens when you ingest sugar in terms of your body's reaction. \", 'Your brains reaction. ', \"We are also going to talk about what happens when you don't ingest enough sugar, because it turns out sugar is such a powerful fuel for the brain that under conditions, where people don't ingest enough sugar or where their so-called blood glucose, which is basically a blood sugar of a particular form gets too low there neurons, don't function as well. \", 'That said, their conditions of very low blood sugar in which neurons can function even better. ', 'So today we are going to talk about the ins and outs the ups and downs of sugar. ', \"As it relates to your nervous system and by the end of this episode, I'm confident that you have a much clearer picture as to how much sugar you should be ingesting, whether or not you should avoid sugars that you're currently eating, and you will certainly understand much more about the energy and fuel sources that your brain relies on which I'm certain, will allow you to make better informed choices about the foods, you eat, and avoid toward mental health, physical health, and performance. \", \"I'm pleased to announce that I'm hosting to Live Events. \"]\n",
            "['This may the first live event will Hosted in Seattle, Washington on May 17th. ', 'The second live event will be hosted in Portland, Oregon on May 18th. ', 'Both are part of a lecture series entitled, the brain-body contract during which I will discuss science and science based tools for mental health, physical, health, and performance. ', \"I should point out that while some of the material, I'll cover will overlap with information covered here on the huberman Lab podcast and on various social media posts. \", 'Most of the information I will cover is going to be distinct from information covered on the podcast. ', 'Or elsewhere. ', \"So once again, it's Seattle on May 17th. \", 'Portland on May 18th. ']\n",
            "['You can access tickets by going to human lab.com, / tour and I hope to see you there. ', \"Before we begin, I'd like to emphasize that this podcast is separate from my teaching and research roles at Stanford. \", 'It is however, a part of my desire and effort to bring zero cost to Consumer information about science and science related tools to the general public in keeping with that theme. ', 'Nootropic starter kit. ', 'Go online to take thesis.com huberman, take a A minute quiz and thesis will send you four different formulas to try in your first month. ', \"That's take thesis.com huberman and use the code huberman at checkout for 10% off. \", 'Your first order. ', \"Today's episode is also brought To Us by athletic greens now called a G1. \", 'Athletic greens is an all-in-one vitamin mineral, probiotic drink. ', \"I've been taking athletic greens since 2012. \", \"So I'm delighted that they're sponsoring the podcast. \", 'The reason I started taking athletic Greens in the reason. ', 'I still take out letter greens once or twice a day, is that it helps me, cover all of my bases. ', 'Nutritional needs. ', 'It makes up for any deficiencies that I might have. ', 'In addition. ', 'It has probiotics which are vital for microbiome Health. ', \"I've done a couple of episodes now on the so-called gut microbiome and the ways in which the microbiome interacts, with your immune system, with your brain to regulate mood and essentially with every biological system relevant to health throughout your brain and body without let it greens. \", 'I get the vitamins. ', 'I need the minerals. ', 'I need and the probiotics to support my microbiome. ', \"If you'd like to try out, let it greens, you can go. \", 'Two athletic greens.com huberman and claim a special offer. ', \"They'll give you five free travel packs, which make it easy to mix up athletic greens while you're on the road, plus a year supply of vitamin D3 K to our ton of data. \", \"Now showing that vitamin D3 is essential for various aspects of our brain and body Health, even if we're getting a lot of sunshine, many of us are still deficient in vitamin D3. \", 'And K2 is also important because it regulates things like cardiovascular function calcium in the body. ', 'And so on again, go to athletic greens.com hubermann. ', \"To claim the special offer of the five free travel packs and the year supply of vitamin D3 K to today's episode is also brought To Us by inside tracker inside trackers, a personalized nutrition platform. \", 'That analyzes data from your blood and DNA to help you better understand your body and help you reach your health goals. ', \"I've long been a believer in getting regular blood work done. \", 'For the simple reason that many of the factors that impact your immediate and long-term Health can only be assessed with a quality blood test. ', \"What's unique about inside tracker. \", 'Is that while there are a lot of different Tests out there for hormones and metabolic factors Etc with inside tracker. ', 'You get the numbers back in terms of your levels, but they also give you very clear. ', 'Directives. ', \"In terms of Lifestyle nutrition and supplementation that can help you bring those values into the ranges that are best for you and your health goals and that's very different than a lot of the other programs where you get a lot of information. \", \"We don't really know what to do with that information inside tracker makes that all very easy to understand and very actionable based on the very easy-to-use dashboard at inside tracker. \", \"If you'd like to try inside track, You can visit inside tracker.com huberman to get 20% off any of inside. \", 'Trackers plans. ', 'Just use the code huberman at checkout. ', \"Okay, let's talk about sugar. \", \"Let's talk about how sugar impacts your brain and how your brain impacts your pursuit or your avoidance of sugar. \", \"Let's get a few things out of the way. \"]\n",
            "['First. ', \"The first thing is that there's nothing inherently bad about sugar. \", \"I know the word sugar gets a bad rap nowadays and indeed, you're going to hear over and over again. \", 'During this podcast that consuming a lot of refined sugars in particular, high fructose, corn syrup is known to have a very large number of bad effects on the brain and body. ', \"I don't know that there's any one that really debates that anymore, even if we just agree and I think we should all agree on the so-called calories in calories out principle, right? \", \"It's a principle of thermodynamics that if we ingest more energy than we burn, we are going to gain weight. \", 'If we ingest less energy than we burn, we are generally going to lose weight and if The two things are imbalance ingestion and burning of energy. ', \"Well, then we're going to maintain weight. \", 'So everyone agrees on that. ', 'I agree on that. ', \"But beyond that there are a number of ways in which particular nutrients in the case of today's episode sugar impact. \", 'The way that the brain works such that we tend to seek out more of particular nutrients. ', 'For instance. ', 'If we eat sugar, there are two or at least two mechanisms by which we will crave more sugar. ', 'I think. ', 'People are aware of that experience. ', \"But today I'm going to explain exactly how that works. \", 'But also that when we ingest sugar, it has a bunch of different effects on the way that our neural circuits work that can allow us to be more or less focused more or less agitated more or less happy more or less depressed in some cases. ', 'So today as we explore this thing. ', \"We're calling Sugar, We're Going to explore that mainly in the context of the nervous system, but also in the context of how the nervous system regulates many many. \", 'Functions and behaviors that are important to all of you, your ability to think your ability, to exercise, your ability to gain weight lose weight. ', 'Whatever your goals might happen, to be sugar, plays a critical role in achieving those goals. ', \"And in some cases, if you're ingesting too much at the wrong times of the wrong forms, sugar can actually impede those goals. \", 'In fact, sugar can prevent all the right behaviors from allowing you to achieve the goals that you want. ', 'So today we are going to place sugar into its proper context. ', 'The way I want to start. ', 'Start off by doing that is to tell you a little bit of what happens when we eat and a little bit of what the brain does to respond to those events. ', 'So what happens when we eat? ', \"Well, I've done an entire episode on metabolism. \", \"So if you're interested in the full Cascade of hormonal and neural events that occurs when we eat, please check out that episode. \", \"But for sake of today's discussion, let's just take a what I call Top Contour view of the hormonal response to ingesting food. \", 'Now, any time we eat, that is the consequence of a number of things that happen. ', \"Before we ate, there's a hormone in our brain and body called ghrelin. \", 'Spelled GH reli. ', \"N ghrelin is a hormone that increases depending on how long it's been since we ate last. \", 'Okay. ', \"So the longer it's been since we had a meal ghrelin levels are going to be higher and higher and higher and it essentially makes us hungry by interacting with particular neurons in an area of the brain called the arcuate nucleus of the hypothalamus.- \", 'and some other areas as well, like the lateral hypothalamus. ', \"You don't need to know the names of those brain areas. \", \"But if you'd like to know them, there they are ghrelin increases. \", 'It tends to make us hungry. ', 'And then when we eat typically, what happens is ghrelin levels, go down. ']\n",
            "[\"So it's a very logical system. \", 'Now when we eat assuming that we eat carbohydrates, but even if we just eat some protein and some fats, we will experience a slight or in some cases, a large rise in blood. ', 'Glucose blood. ', \"Glucose is simply blood sugar and the body and brain, we should say particular the nervous system doesn't function. \", 'Well, if blood sugar is too high or too low. ', 'So as a consequence we have another hormone, which is released from the pancreas, which is called insulin which helps regulate the amount of glucose in the bloodstream. ', 'So even if you were to ingest, an entire cup and 8 ounce cup of pure table sugar, which would send your blood glucose very very high assuming that you have a normal. ']\n",
            "[\"Insulin response that you're not diabetic that insulin response would help clamp that blood glucose level so that it did not cause damage to your brain and body. \", \"Because if blood sugar goes too high, it's actually toxic to neurons and other cells of your body can kill them off and neurons of the central nervous system in the brain and spinal cord. \", 'Once they are dead. ', 'They do not come back. ', 'So your biological systems understand this at a biological level that is and prevent that death of cells due to high blood sugar by keeping. ', 'Insulin around in order to clamp blood glucose diabetics. ', \"We call them type 1 diabetics who don't make insulin have to take insulin when they eat in particular, when they foods that raise their blood sugar specifically to avoid that neurotoxicity in the other deleterious effects of high blood sugar. \", 'Okay. ', 'So ghrelin is a hormone that goes up the longer. ', \"It's been since we've eaten it tends to stimulate hunger when we eat ghrelin is suppressed blood glucose typically goes up, especially when we a carbohydrate containing meal. \", 'When blood glucose goes up, its regulated in the body meaning its Peaks and its valleys are more less smoothed out and that glucose is sequestered. ', \"It's taken away where it needs to be taken away. \", \"And in certain locations, it's delivered to cells so that those cells can use the glucose. \", 'Now, one of the chief organs for glucose utilization is the brain neurons are tremendously metabolically active and their preferred mode of metabolism is glucose metabolism. ', \"The words neurons basically run on sugar, which is not to say that you should eat a lot of sugar as you'll see today. \", 'There are states of mind and body. ', 'For instance, fasted States in which people report having immense amounts of mental Clarity and their blood glucose is actually quite low. ', 'So it is simply not the case that the more sugar that you ingest the better that your brain will function. ', 'But it is the case that for most people, meaning people who are not on a ketogenic or very low carbohydrate diet. ', \"They're not adapted to low carbohydrate. \", 'Diets that neurons in their brain and body are using glucose in order to function. ', \"That's what allows those neurons to fire electrical, potentials. \", \"That's how we refer to it. \", 'Firing meaning, sending electrical signals down their lengths to communicate with other neurons. ']\n"
          ]
        }
      ]
    },
    {
      "cell_type": "code",
      "source": [
        "# 將每個段落內的句子合起來變成string\n",
        "podcast_test = [\"\"]*len(segmented_text)\n",
        "for i in range(len(segmented_text)):\n",
        "  for j in range(len(segmented_text[i])):\n",
        "    podcast_test[i]+=segmented_text[i][j]"
      ],
      "metadata": {
        "id": "t2WSn6cikSTM"
      },
      "execution_count": null,
      "outputs": []
    },
    {
      "cell_type": "code",
      "source": [
        "headlines = headlineGenerator(podcast_test, min_length, max_length)"
      ],
      "metadata": {
        "id": "7QVXj81ikiWu",
        "outputId": "6c3ca3d8-f503-408f-fddc-3bfe905e59c2",
        "colab": {
          "base_uri": "https://localhost:8080/"
        }
      },
      "execution_count": null,
      "outputs": [
        {
          "output_type": "stream",
          "name": "stderr",
          "text": [
            "Ignoring args : (5, 150)\n"
          ]
        }
      ]
    },
    {
      "cell_type": "code",
      "source": [
        "for headline in headlines:\n",
        "  print(headline)\n",
        "  "
      ],
      "metadata": {
        "id": "-rdoPJtkko4j",
        "outputId": "2da2164a-328f-4320-caaf-4613a1d47c2b",
        "colab": {
          "base_uri": "https://localhost:8080/"
        }
      },
      "execution_count": null,
      "outputs": [
        {
          "output_type": "stream",
          "name": "stdout",
          "text": [
            "{'generated_text': 'The Ins and Outs of Sugar'}\n",
            "{'generated_text': 'The Brain-Body Contract Live Event - Seattle on May 17th and Portland on May'}\n",
            "{'generated_text': 'The Inside Tracker Podcast - Let It Greens'}\n",
            "{'generated_text': 'The Effects of Sugar on the Nervous System'}\n",
            "{'generated_text': 'Glucose Blood - What Is It?'}\n",
            "{'generated_text': 'Insulin Response to Clamp Blood Glucose Levels'}\n"
          ]
        }
      ]
    },
    {
      "cell_type": "code",
      "source": [
        "import re\n",
        "sentence_tokenizer2 = SimpleSentenceTokenizer()\n",
        "index=0\n",
        "headlines_string = [\"\"]*len(headlines)\n",
        "for headline in headlines:\n",
        "  sentenced_healine = re.split(r'([;,\\.\\*\\n-])',headline['generated_text'])\n",
        "  #print(sentenced_healine)\n",
        "  for i in range(len(sentenced_healine)):\n",
        "    sentenced_healine[i] = sentenced_healine[i].strip()\n",
        "    #ss = s1\n",
        "    #print(\"!!!\"+ss+\"!!!\")\n",
        "  print(sentenced_healine)\n",
        "  strs = \" \"  \n",
        "  #headlines_string[index]+=sentenced_healine[0]\n",
        "  for i in range(0,(len(sentenced_healine))):\n",
        "    if(sentenced_healine[i] != \" \"):\n",
        "      strs = sentenced_healine[i]\n",
        "      for j in range(i+1,(len(sentenced_healine))):\n",
        "        if(strs == sentenced_healine[j]):\n",
        "          sentenced_healine[j]=\" \"\n",
        "        #if(sentenced_healine[j] != \" \"):\n",
        "          #strs = sentenced_healine[j]\n",
        "  print(sentenced_healine)\n",
        "  for k in range(len(sentenced_healine)):\n",
        "    if(sentenced_healine[k] != \" \"):\n",
        "      headlines_string[index]+=\" \"\n",
        "      headlines_string[index]+=sentenced_healine[k]\n",
        "  print(type(headlines_string[index]))\n",
        "  headlines_string[index]=headlines_string[index].rstrip(\"-\")\n",
        "  index+=1"
      ],
      "metadata": {
        "id": "8XhAZ-2ek5CL",
        "outputId": "698e10ee-66a3-4b79-9414-3f4c0e11b559",
        "colab": {
          "base_uri": "https://localhost:8080/"
        }
      },
      "execution_count": null,
      "outputs": [
        {
          "output_type": "stream",
          "name": "stdout",
          "text": [
            "['The Ins and Outs of Sugar']\n",
            "['The Ins and Outs of Sugar']\n",
            "<class 'str'>\n",
            "['The Brain', '-', 'Body Contract Live Event', '-', 'Seattle on May 17th and Portland on May']\n",
            "['The Brain', '-', 'Body Contract Live Event', ' ', 'Seattle on May 17th and Portland on May']\n",
            "<class 'str'>\n",
            "['The Inside Tracker Podcast', '-', 'Let It Greens']\n",
            "['The Inside Tracker Podcast', '-', 'Let It Greens']\n",
            "<class 'str'>\n",
            "['The Effects of Sugar on the Nervous System']\n",
            "['The Effects of Sugar on the Nervous System']\n",
            "<class 'str'>\n",
            "['Glucose Blood', '-', 'What Is It?']\n",
            "['Glucose Blood', '-', 'What Is It?']\n",
            "<class 'str'>\n",
            "['Insulin Response to Clamp Blood Glucose Levels']\n",
            "['Insulin Response to Clamp Blood Glucose Levels']\n",
            "<class 'str'>\n"
          ]
        }
      ]
    },
    {
      "cell_type": "code",
      "source": [
        "for headline_string in headlines_string:\n",
        "  print(headline_string)"
      ],
      "metadata": {
        "id": "nRSHPWdMk79T",
        "outputId": "c6f57803-d81d-4142-b491-a0499e7fa281",
        "colab": {
          "base_uri": "https://localhost:8080/"
        }
      },
      "execution_count": null,
      "outputs": [
        {
          "output_type": "stream",
          "name": "stdout",
          "text": [
            " The Ins and Outs of Sugar\n",
            " The Brain - Body Contract Live Event Seattle on May 17th and Portland on May\n",
            " The Inside Tracker Podcast - Let It Greens\n",
            " The Effects of Sugar on the Nervous System\n",
            " Glucose Blood - What Is It?\n",
            " Insulin Response to Clamp Blood Glucose Levels\n"
          ]
        }
      ]
    }
  ]
}
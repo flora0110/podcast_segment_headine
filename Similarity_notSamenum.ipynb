{
  "nbformat": 4,
  "nbformat_minor": 0,
  "metadata": {
    "colab": {
      "name": "Similarity_notSamenum.ipynb",
      "provenance": [],
      "collapsed_sections": [],
      "authorship_tag": "ABX9TyN5CCtmJdLOCydw5PofnP7J",
      "include_colab_link": true
    },
    "kernelspec": {
      "name": "python3",
      "display_name": "Python 3"
    },
    "language_info": {
      "name": "python"
    }
  },
  "cells": [
    {
      "cell_type": "markdown",
      "metadata": {
        "id": "view-in-github",
        "colab_type": "text"
      },
      "source": [
        "<a href=\"https://colab.research.google.com/github/flora0110/podcast_segment_headine/blob/main/Similarity_notSamenum.ipynb\" target=\"_parent\"><img src=\"https://colab.research.google.com/assets/colab-badge.svg\" alt=\"Open In Colab\"/></a>"
      ]
    },
    {
      "cell_type": "code",
      "execution_count": null,
      "metadata": {
        "colab": {
          "base_uri": "https://localhost:8080/"
        },
        "id": "9jwQmb_fX7R6",
        "outputId": "2d794309-f3fa-427f-c523-0424bbd4284f"
      },
      "outputs": [
        {
          "output_type": "stream",
          "name": "stdout",
          "text": [
            "Requirement already satisfied: sentence-transformers in /usr/local/lib/python3.7/dist-packages (2.2.0)\n",
            "Requirement already satisfied: transformers<5.0.0,>=4.6.0 in /usr/local/lib/python3.7/dist-packages (from sentence-transformers) (4.18.0)\n",
            "Requirement already satisfied: tqdm in /usr/local/lib/python3.7/dist-packages (from sentence-transformers) (4.64.0)\n",
            "Requirement already satisfied: torchvision in /usr/local/lib/python3.7/dist-packages (from sentence-transformers) (0.12.0+cu113)\n",
            "Requirement already satisfied: sentencepiece in /usr/local/lib/python3.7/dist-packages (from sentence-transformers) (0.1.96)\n",
            "Requirement already satisfied: numpy in /usr/local/lib/python3.7/dist-packages (from sentence-transformers) (1.21.6)\n",
            "Requirement already satisfied: nltk in /usr/local/lib/python3.7/dist-packages (from sentence-transformers) (3.2.5)\n",
            "Requirement already satisfied: huggingface-hub in /usr/local/lib/python3.7/dist-packages (from sentence-transformers) (0.5.1)\n",
            "Requirement already satisfied: torch>=1.6.0 in /usr/local/lib/python3.7/dist-packages (from sentence-transformers) (1.11.0+cu113)\n",
            "Requirement already satisfied: scipy in /usr/local/lib/python3.7/dist-packages (from sentence-transformers) (1.4.1)\n",
            "Requirement already satisfied: scikit-learn in /usr/local/lib/python3.7/dist-packages (from sentence-transformers) (1.0.2)\n",
            "Requirement already satisfied: typing-extensions in /usr/local/lib/python3.7/dist-packages (from torch>=1.6.0->sentence-transformers) (4.2.0)\n",
            "Requirement already satisfied: sacremoses in /usr/local/lib/python3.7/dist-packages (from transformers<5.0.0,>=4.6.0->sentence-transformers) (0.0.49)\n",
            "Requirement already satisfied: filelock in /usr/local/lib/python3.7/dist-packages (from transformers<5.0.0,>=4.6.0->sentence-transformers) (3.6.0)\n",
            "Requirement already satisfied: importlib-metadata in /usr/local/lib/python3.7/dist-packages (from transformers<5.0.0,>=4.6.0->sentence-transformers) (4.11.3)\n",
            "Requirement already satisfied: regex!=2019.12.17 in /usr/local/lib/python3.7/dist-packages (from transformers<5.0.0,>=4.6.0->sentence-transformers) (2019.12.20)\n",
            "Requirement already satisfied: requests in /usr/local/lib/python3.7/dist-packages (from transformers<5.0.0,>=4.6.0->sentence-transformers) (2.23.0)\n",
            "Requirement already satisfied: tokenizers!=0.11.3,<0.13,>=0.11.1 in /usr/local/lib/python3.7/dist-packages (from transformers<5.0.0,>=4.6.0->sentence-transformers) (0.12.1)\n",
            "Requirement already satisfied: pyyaml>=5.1 in /usr/local/lib/python3.7/dist-packages (from transformers<5.0.0,>=4.6.0->sentence-transformers) (6.0)\n",
            "Requirement already satisfied: packaging>=20.0 in /usr/local/lib/python3.7/dist-packages (from transformers<5.0.0,>=4.6.0->sentence-transformers) (21.3)\n",
            "Requirement already satisfied: pyparsing!=3.0.5,>=2.0.2 in /usr/local/lib/python3.7/dist-packages (from packaging>=20.0->transformers<5.0.0,>=4.6.0->sentence-transformers) (3.0.8)\n",
            "Requirement already satisfied: zipp>=0.5 in /usr/local/lib/python3.7/dist-packages (from importlib-metadata->transformers<5.0.0,>=4.6.0->sentence-transformers) (3.8.0)\n",
            "Requirement already satisfied: six in /usr/local/lib/python3.7/dist-packages (from nltk->sentence-transformers) (1.15.0)\n",
            "Requirement already satisfied: urllib3!=1.25.0,!=1.25.1,<1.26,>=1.21.1 in /usr/local/lib/python3.7/dist-packages (from requests->transformers<5.0.0,>=4.6.0->sentence-transformers) (1.24.3)\n",
            "Requirement already satisfied: certifi>=2017.4.17 in /usr/local/lib/python3.7/dist-packages (from requests->transformers<5.0.0,>=4.6.0->sentence-transformers) (2021.10.8)\n",
            "Requirement already satisfied: chardet<4,>=3.0.2 in /usr/local/lib/python3.7/dist-packages (from requests->transformers<5.0.0,>=4.6.0->sentence-transformers) (3.0.4)\n",
            "Requirement already satisfied: idna<3,>=2.5 in /usr/local/lib/python3.7/dist-packages (from requests->transformers<5.0.0,>=4.6.0->sentence-transformers) (2.10)\n",
            "Requirement already satisfied: click in /usr/local/lib/python3.7/dist-packages (from sacremoses->transformers<5.0.0,>=4.6.0->sentence-transformers) (7.1.2)\n",
            "Requirement already satisfied: joblib in /usr/local/lib/python3.7/dist-packages (from sacremoses->transformers<5.0.0,>=4.6.0->sentence-transformers) (1.1.0)\n",
            "Requirement already satisfied: threadpoolctl>=2.0.0 in /usr/local/lib/python3.7/dist-packages (from scikit-learn->sentence-transformers) (3.1.0)\n",
            "Requirement already satisfied: pillow!=8.3.*,>=5.3.0 in /usr/local/lib/python3.7/dist-packages (from torchvision->sentence-transformers) (7.1.2)\n"
          ]
        }
      ],
      "source": [
        "!pip install -U sentence-transformers"
      ]
    },
    {
      "cell_type": "code",
      "source": [
        "from sentence_transformers import SentenceTransformer, util\n",
        "#Load the model\n",
        "model = SentenceTransformer('sentence-transformers/multi-qa-MiniLM-L6-cos-v1')"
      ],
      "metadata": {
        "id": "etzrdM4BX-YV"
      },
      "execution_count": null,
      "outputs": []
    },
    {
      "cell_type": "code",
      "source": [
        "query = \"That is a happy person\"\n",
        "docs = [\"That is a happy dog\", \"That is a very happy person\",\"Today is a sunny day\"]\n",
        "#Encode query and documents\n",
        "query_emb = model.encode(query)\n",
        "doc_emb = model.encode(docs)\n",
        "\n",
        "#Compute dot score between query and all document embeddings\n",
        "scores = util.dot_score(query_emb, doc_emb)[0].cpu().tolist()\n",
        "\n",
        "#Combine docs & scores\n",
        "doc_score_pairs = list(zip(docs, scores))\n",
        "\n",
        "#Sort by decreasing score\n",
        "doc_score_pairs = sorted(doc_score_pairs, key=lambda x: x[1], reverse=True)\n",
        "\n",
        "#Output passages & scores\n",
        "for doc, score in doc_score_pairs:\n",
        "    print(score, doc)"
      ],
      "metadata": {
        "colab": {
          "base_uri": "https://localhost:8080/"
        },
        "id": "EPw5fk1XYTX1",
        "outputId": "b19cd92b-f226-4f19-ee27-39309b5eadfc"
      },
      "execution_count": null,
      "outputs": [
        {
          "output_type": "stream",
          "name": "stdout",
          "text": [
            "0.9576370120048523 That is a very happy person\n",
            "0.658355712890625 That is a happy dog\n",
            "0.2588384747505188 Today is a sunny day\n"
          ]
        }
      ]
    },
    {
      "cell_type": "code",
      "source": [
        "query = \"How many people live in London?\"\n",
        "docs = [\"Around 9 Million people live in London\", \"London is known for its financial district\"]\n",
        "#Encode query and documents\n",
        "query_emb = model.encode(query)\n",
        "doc_emb = model.encode(docs)\n",
        "\n",
        "#Compute dot score between query and all document embeddings\n",
        "scores = util.dot_score(query_emb, doc_emb)[0].cpu().tolist()\n",
        "\n",
        "#Combine docs & scores\n",
        "doc_score_pairs = list(zip(docs, scores))\n",
        "\n",
        "#Sort by decreasing score\n",
        "doc_score_pairs = sorted(doc_score_pairs, key=lambda x: x[1], reverse=True)\n",
        "\n",
        "#Output passages & scores\n",
        "for doc, score in doc_score_pairs:\n",
        "    print(score, doc)"
      ],
      "metadata": {
        "colab": {
          "base_uri": "https://localhost:8080/"
        },
        "id": "qBzI6RSgYyht",
        "outputId": "7460d744-ea0b-4b87-d57e-73175e4f3827"
      },
      "execution_count": null,
      "outputs": [
        {
          "output_type": "stream",
          "name": "stdout",
          "text": [
            "0.915637195110321 Around 9 Million people live in London\n",
            "0.4947577118873596 London is known for its financial district\n"
          ]
        }
      ]
    },
    {
      "cell_type": "code",
      "source": [
        "myheadline = [\"The Ins and Outs of Sugar\",\"The Brain - Body Contract Live Event Seattle on May 17th and Portland on May\",\"The Inside Tracker Podcast - Let It Greens\",\"The Effects of Sugar on the Nervous System\",\"Glucose Blood - What Is It?\",\"Insulin Response to Clamp Blood Glucose Levels\"]\n",
        "sample = [\"Sugar & Physiology\",\"The Brain-Body Contract\",\"Thesis, AG1 (Athletic Greens), InsideTracker\",\"Sugar & the Brain\",\"Appetite & Hormones: Ghrelin & Insulin\",\"Glucose & Brain Function\"]"
      ],
      "metadata": {
        "id": "u0900O38ZFN-"
      },
      "execution_count": null,
      "outputs": []
    },
    {
      "cell_type": "code",
      "source": [
        "#Encode query and documents\n",
        "myheadline_emb = model.encode(myheadline)\n",
        "sample_emb = model.encode(sample)\n",
        "print(\"myheadline_emb\",myheadline_emb)\n",
        "print(\"sample\",sample_emb)"
      ],
      "metadata": {
        "colab": {
          "base_uri": "https://localhost:8080/"
        },
        "id": "xqCHlDhBZNR9",
        "outputId": "95369514-54c7-4afb-e6a1-e912b2a411e3"
      },
      "execution_count": null,
      "outputs": [
        {
          "output_type": "stream",
          "name": "stdout",
          "text": [
            "myheadline_emb [[-0.03947009  0.00799378  0.00099913 ... -0.06485693  0.01239177\n",
            "  -0.06557371]\n",
            " [ 0.0345479  -0.01467851  0.01911106 ...  0.01962836 -0.02304271\n",
            "   0.01671176]\n",
            " [-0.01286481 -0.1362585  -0.00964092 ...  0.007663    0.04924422\n",
            "   0.03239091]\n",
            " [-0.01155816 -0.09844825  0.01115044 ...  0.01095763 -0.09191871\n",
            "  -0.05985062]\n",
            " [-0.06011287  0.03680063 -0.06651629 ...  0.01878191 -0.00861048\n",
            "  -0.07652605]\n",
            " [-0.07989226 -0.01196291 -0.03619696 ...  0.00904925 -0.05222866\n",
            "  -0.09425225]]\n",
            "sample [[-5.92983551e-02 -9.56707969e-02 -3.55525612e-04 ...  3.21702324e-02\n",
            "   9.03570544e-05 -1.26351580e-01]\n",
            " [-4.18485813e-02 -2.76039094e-02 -3.47211510e-02 ...  7.09715560e-02\n",
            "   3.93294021e-02 -3.24822403e-02]\n",
            " [-2.05071066e-02  1.06242700e-02 -4.92052622e-02 ...  9.57814045e-04\n",
            "   6.28610477e-02 -4.04073624e-03]\n",
            " [-2.89281793e-02 -9.31608751e-02 -5.67009486e-02 ...  7.43404478e-02\n",
            "   3.22503410e-02 -8.32503960e-02]\n",
            " [-4.67102826e-02 -9.37246829e-02 -2.68693995e-02 ... -2.50445143e-03\n",
            "  -9.45503823e-03 -5.89747317e-02]\n",
            " [-5.98013923e-02 -1.17421150e-02 -6.72675893e-02 ...  5.52331768e-02\n",
            "   1.82463583e-02 -1.16368756e-01]]\n"
          ]
        }
      ]
    },
    {
      "cell_type": "code",
      "source": [
        "#Compute dot score between query and all document embeddings\n",
        "scores = []\n",
        "length = 6\n",
        "for i in range(length):\n",
        "  print(myheadline[i])\n",
        "  print(sample[i])\n",
        "  print(util.dot_score(myheadline_emb[i], sample_emb[i]))\n",
        "  scores.append(util.dot_score(myheadline_emb[i], sample_emb[i]))\n",
        "scores"
      ],
      "metadata": {
        "colab": {
          "base_uri": "https://localhost:8080/"
        },
        "id": "oqpR465XZfqd",
        "outputId": "e47244e9-c581-4812-fdc0-56f5892d1045"
      },
      "execution_count": null,
      "outputs": [
        {
          "output_type": "stream",
          "name": "stdout",
          "text": [
            "The Ins and Outs of Sugar\n",
            "Sugar & Physiology\n",
            "tensor([[0.6548]])\n",
            "The Brain - Body Contract Live Event Seattle on May 17th and Portland on May\n",
            "The Brain-Body Contract\n",
            "tensor([[0.5088]])\n",
            "The Inside Tracker Podcast - Let It Greens\n",
            "Thesis, AG1 (Athletic Greens), InsideTracker\n",
            "tensor([[0.4137]])\n",
            "The Effects of Sugar on the Nervous System\n",
            "Sugar & the Brain\n",
            "tensor([[0.6515]])\n",
            "Glucose Blood - What Is It?\n",
            "Appetite & Hormones: Ghrelin & Insulin\n",
            "tensor([[0.3350]])\n",
            "Insulin Response to Clamp Blood Glucose Levels\n",
            "Glucose & Brain Function\n",
            "tensor([[0.4585]])\n"
          ]
        },
        {
          "output_type": "execute_result",
          "data": {
            "text/plain": [
              "[tensor([[0.6548]]),\n",
              " tensor([[0.5088]]),\n",
              " tensor([[0.4137]]),\n",
              " tensor([[0.6515]]),\n",
              " tensor([[0.3350]]),\n",
              " tensor([[0.4585]])]"
            ]
          },
          "metadata": {},
          "execution_count": 59
        }
      ]
    },
    {
      "cell_type": "code",
      "source": [
        "sum = 0\n",
        "for i in range(length):\n",
        "  sum+=float(scores[i])\n",
        "sum/length"
      ],
      "metadata": {
        "colab": {
          "base_uri": "https://localhost:8080/"
        },
        "id": "d8DlUPJLbv_O",
        "outputId": "53daf353-f98d-490c-a135-33907a469052"
      },
      "execution_count": null,
      "outputs": [
        {
          "output_type": "execute_result",
          "data": {
            "text/plain": [
              "0.5037240336338679"
            ]
          },
          "metadata": {},
          "execution_count": 60
        }
      ]
    },
    {
      "cell_type": "markdown",
      "source": [
        "# all-MiniLM-L6-v2"
      ],
      "metadata": {
        "id": "zVnxUdMbdG1e"
      }
    },
    {
      "cell_type": "code",
      "source": [
        "from sentence_transformers import SentenceTransformer, util\n",
        "sentences = [\"I'm happy\", \"I'm full of happiness\"]\n",
        "\n",
        "model = SentenceTransformer('sentence-transformers/all-MiniLM-L6-v2')\n",
        "\n",
        "#Compute embedding for both lists\n",
        "embedding_1= model.encode(sentences[0], convert_to_tensor=True)\n",
        "embedding_2 = model.encode(sentences[1], convert_to_tensor=True)\n",
        "\n",
        "util.pytorch_cos_sim(embedding_1, embedding_2)"
      ],
      "metadata": {
        "colab": {
          "base_uri": "https://localhost:8080/"
        },
        "id": "R3q-xDRtcjwv",
        "outputId": "e57fa4d0-0da3-4b99-d92b-8f51e4af9fad"
      },
      "execution_count": null,
      "outputs": [
        {
          "output_type": "execute_result",
          "data": {
            "text/plain": [
              "tensor([[0.6003]])"
            ]
          },
          "metadata": {},
          "execution_count": 61
        }
      ]
    },
    {
      "cell_type": "code",
      "source": [
        "score = []\n",
        "for i in range(length):\n",
        "  #Compute embedding for both lists\n",
        "  embedding_1= model.encode(myheadline[i], convert_to_tensor=True)\n",
        "  embedding_2 = model.encode(sample[i], convert_to_tensor=True)\n",
        "\n",
        "  score.append(util.pytorch_cos_sim(embedding_1, embedding_2))\n",
        "print(score)"
      ],
      "metadata": {
        "colab": {
          "base_uri": "https://localhost:8080/"
        },
        "id": "Auj6uUCocnf1",
        "outputId": "1fc8981b-d6f8-4437-cb99-797ab5e14782"
      },
      "execution_count": null,
      "outputs": [
        {
          "output_type": "stream",
          "name": "stdout",
          "text": [
            "[tensor([[0.7301]]), tensor([[0.5879]]), tensor([[0.3730]]), tensor([[0.7489]]), tensor([[0.3178]]), tensor([[0.4151]])]\n"
          ]
        }
      ]
    },
    {
      "cell_type": "code",
      "source": [
        "sum = 0\n",
        "for i in range(length):\n",
        "  sum+=float(score[i])\n",
        "sum/length"
      ],
      "metadata": {
        "colab": {
          "base_uri": "https://localhost:8080/"
        },
        "id": "cjiFlgD6dD63",
        "outputId": "d07e2910-02e8-4bd5-8202-57a07425ebef"
      },
      "execution_count": null,
      "outputs": [
        {
          "output_type": "execute_result",
          "data": {
            "text/plain": [
              "0.5288069099187851"
            ]
          },
          "metadata": {},
          "execution_count": 63
        }
      ]
    },
    {
      "cell_type": "code",
      "source": [
        ""
      ],
      "metadata": {
        "id": "QYGQNzsv4LNT"
      },
      "execution_count": null,
      "outputs": []
    },
    {
      "cell_type": "markdown",
      "source": [
        "# how to start a bug\n",
        "# len = 25"
      ],
      "metadata": {
        "id": "pIzlVyHm4Nba"
      }
    },
    {
      "cell_type": "code",
      "source": [
        "myHeadlineDict =[{'time': 0.0, 'headline': 'Podcasting - How to Start Your Own Podcast'}, {'time': 345.1, 'headline': 'USB Microphones - The Best USB Microphones For Podcasting'}, {'time': 417.4, 'headline': 'Reaper - How to Record a Podcast'}, {'time': 436.0, 'headline': 'How to Edit a Podcast and Get Going in Reaper'}, {'time': 489.7, 'headline': 'Podcasting Tips - The Scarlett to I 20'}, {'time': 591.8, 'headline': 'Podcasting - The Ultimate Con'}, {'time': 745.8, 'headline': ''}]\n",
        "sampleDict = [{'time': 0.0, 'headline': 'Video Start'}, {'time': 67.0, 'headline': 'How Does Podcasting Work?'}, {'time': 152.0, 'headline': 'Podcast Name and Podcast Topic '}, {'time': 231.0, 'headline': 'Start a Podcast Using Your SmartPhone'}, {'time': 332.0, 'headline': 'Start a Podcast Using a USB Microphone and Computer'}, {'time': 348.0, 'headline': 'Best USB Microphone for Podcast'}, {'time': 375.0, 'headline': 'Best Audio Editing Software for Podcast'}, {'time': 490.0, 'headline': 'Podcast professional set up'}, {'time': 518.0, 'headline': 'Best Podcast Microphones XLR and Audio Interface'}, {'time': 602.0, 'headline': 'Video Podcasting'},{'time': 745.8, 'headline': ''}]"
      ],
      "metadata": {
        "id": "LpYiMUxU31BQ"
      },
      "execution_count": null,
      "outputs": []
    },
    {
      "cell_type": "code",
      "source": [
        "arr = []\n",
        "#index = 0\n",
        "myHeadlineN = len(myHeadlineDict)-1\n",
        "sampleN = len(sampleDict)-1\n",
        "for i in range(myHeadlineN):\n",
        "  #print(i)\n",
        "  start = myHeadlineDict[i]['time']\n",
        "  end = myHeadlineDict[i+1]['time']\n",
        "  #print(\"start: \"+str(start)+\" end: \"+str(end))\n",
        "  for j in range(sampleN):\n",
        "    #print(\"j: \"+str(j))\n",
        "    if(start>=sampleDict[j]['time'] and end<=sampleDict[j+1]['time']):\n",
        "      #print(\"continue\")\n",
        "      arr.append({'start_match':j,'ratio_start':(end-start)/(sampleDict[j+1]['time']-sampleDict[j]['time']),'end_match':-1,'ratio_end':-1})\n",
        "      #print(len(arr))\n",
        "      #index+=1\n",
        "      break\n",
        "    elif(start>=sampleDict[j]['time'] and start<=sampleDict[j+1]['time']):\n",
        "      #print(\"not con\")\n",
        "      arr.append({'start_match':j,'ratio_start':(sampleDict[j+1]['time']-start)/(sampleDict[j+1]['time']-sampleDict[j]['time'])})\n",
        "      #print(len(arr))\n",
        "      for k in range(j,sampleN):\n",
        "        if(end<=sampleDict[k+1]['time'] and end>=sampleDict[k]['time']):\n",
        "          #print(\"update\")\n",
        "          arr[len(arr)-1].update({'end_match':k,'ratio_end':(end-sampleDict[k]['time'])/(sampleDict[k+1]['time']-sampleDict[k]['time'])})\n",
        "          #print(len(arr))\n",
        "          #index+=1\n",
        "      break\n",
        "\n",
        "print(arr)\n",
        "for a in arr:\n",
        "  print(a)\n",
        "print(len(myHeadlineDict))\n",
        "print(len(sampleDict))\n",
        "print(len(arr))"
      ],
      "metadata": {
        "colab": {
          "base_uri": "https://localhost:8080/"
        },
        "id": "aaSMw3vYIcA2",
        "outputId": "feac14ed-accd-4295-c607-d3b87c2e752b"
      },
      "execution_count": null,
      "outputs": [
        {
          "output_type": "stream",
          "name": "stdout",
          "text": [
            "[{'start_match': 0, 'ratio_start': 1.0, 'end_match': 4, 'ratio_end': 0.8187500000000014}, {'start_match': 4, 'ratio_start': 0.18124999999999858, 'end_match': 6, 'ratio_end': 0.36869565217391287}, {'start_match': 6, 'ratio_start': 0.1617391304347828, 'end_match': -1, 'ratio_end': -1}, {'start_match': 6, 'ratio_start': 0.4669565217391303, 'end_match': -1, 'ratio_end': -1}, {'start_match': 6, 'ratio_start': 0.0026086956521740117, 'end_match': 8, 'ratio_end': 0.878571428571428}, {'start_match': 8, 'ratio_start': 0.12142857142857197, 'end_match': 9, 'ratio_end': 1.0}]\n",
            "{'start_match': 0, 'ratio_start': 1.0, 'end_match': 4, 'ratio_end': 0.8187500000000014}\n",
            "{'start_match': 4, 'ratio_start': 0.18124999999999858, 'end_match': 6, 'ratio_end': 0.36869565217391287}\n",
            "{'start_match': 6, 'ratio_start': 0.1617391304347828, 'end_match': -1, 'ratio_end': -1}\n",
            "{'start_match': 6, 'ratio_start': 0.4669565217391303, 'end_match': -1, 'ratio_end': -1}\n",
            "{'start_match': 6, 'ratio_start': 0.0026086956521740117, 'end_match': 8, 'ratio_end': 0.878571428571428}\n",
            "{'start_match': 8, 'ratio_start': 0.12142857142857197, 'end_match': 9, 'ratio_end': 1.0}\n",
            "7\n",
            "11\n",
            "6\n"
          ]
        }
      ]
    },
    {
      "cell_type": "code",
      "source": [
        "scores = []\n",
        "for i in range(len(arr)):\n",
        "  if(arr[i]['end_match']==-1):\n",
        "    embedding_1= model.encode(myHeadlineDict[i]['headline'], convert_to_tensor=True)\n",
        "    embedding_2 = model.encode(sampleDict[arr[i]['start_match']]['headline'], convert_to_tensor=True)\n",
        "    score_temp = float(util.pytorch_cos_sim(embedding_1, embedding_2))\n",
        "    score_temp*=arr[i]['ratio_start']\n",
        "    scores.append(score_temp)\n",
        "\n",
        "  else:\n",
        "\n",
        "    embedding_1= model.encode(myHeadlineDict[i]['headline'], convert_to_tensor=True)\n",
        "    embedding_2 = model.encode(sampleDict[arr[i]['start_match']]['headline'], convert_to_tensor=True)\n",
        "    score_temp = float(util.pytorch_cos_sim(embedding_1, embedding_2))\n",
        "    score_temp*=arr[i]['ratio_start']\n",
        "    score_temp_sum=score_temp\n",
        "    for j in range(arr[i]['start_match']+1,arr[i]['end_match']):\n",
        "      embedding_1= model.encode(myHeadlineDict[i]['headline'], convert_to_tensor=True)\n",
        "      embedding_2 = model.encode(sampleDict[j]['headline'], convert_to_tensor=True)\n",
        "      score_temp = float(util.pytorch_cos_sim(embedding_1, embedding_2))\n",
        "      score_temp_sum+=score_temp\n",
        "    embedding_1= model.encode(myHeadlineDict[i]['headline'], convert_to_tensor=True)\n",
        "    embedding_2 = model.encode(sampleDict[j]['headline'], convert_to_tensor=True)\n",
        "    score_temp = float(util.pytorch_cos_sim(embedding_1, embedding_2))\n",
        "    score_temp*=arr[i]['ratio_end']\n",
        "    score_temp_sum+=score_temp\n",
        "    scores.append(score_temp_sum/(arr[i]['end_match']-arr[i]['start_match']+1))\n",
        "print(scores)\n",
        "sum = 0\n",
        "for score in scores:\n",
        "  sum +=score\n",
        "print(sum/len(arr))"
      ],
      "metadata": {
        "colab": {
          "base_uri": "https://localhost:8080/"
        },
        "id": "SGr-9Ka_R3FZ",
        "outputId": "85bd0a9b-29e0-4355-8282-a103e6687150"
      },
      "execution_count": null,
      "outputs": [
        {
          "output_type": "stream",
          "name": "stdout",
          "text": [
            "[0.627487835288048, 0.4772197517536685, 0.09025278195090927, 0.30298012997793106, 0.37002231693045684, 0.44450963245970876]\n",
            "0.38541207472678707\n"
          ]
        }
      ]
    },
    {
      "cell_type": "markdown",
      "source": [
        "# how to start podcast\n",
        "# 0.6"
      ],
      "metadata": {
        "id": "RlYTmIhT4WLK"
      }
    },
    {
      "cell_type": "code",
      "source": [
        "# podcastDict = [{'time': 0.0, 'headline': ' Starting Your Podcast - The Four Different Ways'}, {'time': 52.3, 'headline': ' Starting Your Podcast - The Four Different Ways'}, {'time': 134.3, 'headline': ' Starting Your Podcast - The Four Different Ways'}, {'time': 209.7, 'headline': ' Starting Your Podcast - The Four Different Ways'}, {'time': 333.4, 'headline': ' Starting Your Podcast - The Four Different Ways'}, {'time': 403.2, 'headline': ' Starting Your Podcast - The Four Different Ways'}, {'time': 417.4, 'headline': ' Starting Your Podcast - The Four Different Ways'}, {'time': 436.0, 'headline': ' Starting Your Podcast - The Four Different Ways'}, {'time': 473.4, 'headline': ' Starting Your Podcast - The Four Different Ways'}, {'time':489.7, 'headline':'Podcasting Tips - Number 3' }, {'time': 574.3, 'headline': ' Starting Your Podcast - The Four Different Ways'}, {'time': 601.9, 'headline': ' Starting Your Podcast - The Four Different Ways'},{'time': 745.8, 'headline': ''}]\n",
        "podcastDict = [{'time': 0.0, 'headline': ' Starting Your Podcast - The Four Different Ways'}, {'time': 52.3, 'headline': ' Podcasts - How to Create a Podcast'}, {'time': 134.3, 'headline': ' Podcast Coaching - How to Start Your Podcast Today'}, {'time': 209.7, 'headline': ' Podcasting - How to Start Your Own Podcast'}, {'time': 333.4, 'headline': ' USB Microphones For Independent Podcasters'}, {'time': 403.2, 'headline': ' GarageBand Pro Tools vs GarageBand Pro Tools'}, {'time': 417.4, 'headline': ' Reaper - How to Record a Podcast'}, {'time': 436.0, 'headline': ' How to Edit a Podcast'}, {'time': 473.4, 'headline': ' Reaper Training - Free Training'},{'time':489.7, 'headline':'Podcasting Tips - Number 3' }, {'time': 574.3, 'headline': ' The Reaper Microphone - The Keyboard Controls'}, {'time': 601.9, 'headline': ' Video Podcasting - The Ultimate Con'},{'time': 745.8, 'headline': ''}]\n",
        "sampleDict = [{'time': 0.0, 'headline': 'Video Start'}, {'time': 67.0, 'headline': 'How Does Podcasting Work?'}, {'time': 152.0, 'headline': 'Podcast Name and Podcast Topic '}, {'time': 231.0, 'headline': 'Start a Podcast Using Your SmartPhone'}, {'time': 332.0, 'headline': 'Start a Podcast Using a USB Microphone and Computer'}, {'time': 348.0, 'headline': 'Best USB Microphone for Podcast'}, {'time': 375.0, 'headline': 'Best Audio Editing Software for Podcast'}, {'time': 490.0, 'headline': 'Podcast professional set up'}, {'time': 518.0, 'headline': 'Best Podcast Microphones XLR and Audio Interface'}, {'time': 602.0, 'headline': 'Video Podcasting'},{'time': 745.8, 'headline': ''}]"
      ],
      "metadata": {
        "id": "7CE8z-9ekv6F"
      },
      "execution_count": null,
      "outputs": []
    },
    {
      "cell_type": "code",
      "source": [
        "print(len(podcastDict))\n",
        "print(len(sampleDict))"
      ],
      "metadata": {
        "colab": {
          "base_uri": "https://localhost:8080/"
        },
        "id": "Fa0Z4sc05KlT",
        "outputId": "e3c3c8c0-d566-4a53-96b9-0e8e3f273bfe"
      },
      "execution_count": null,
      "outputs": [
        {
          "output_type": "stream",
          "name": "stdout",
          "text": [
            "13\n",
            "11\n"
          ]
        }
      ]
    },
    {
      "cell_type": "code",
      "source": [
        "arr = []\n",
        "#index = 0\n",
        "podcastN = len(podcastDict)-1\n",
        "sampleN = len(sampleDict)-1\n",
        "for i in range(podcastN):\n",
        "  #print(i)\n",
        "  start = podcastDict[i]['time']\n",
        "  end = podcastDict[i+1]['time']\n",
        "  #print(\"start: \"+str(start)+\" end: \"+str(end))\n",
        "  for j in range(sampleN):\n",
        "    #print(\"j: \"+str(j))\n",
        "    if(start>=sampleDict[j]['time'] and end<=sampleDict[j+1]['time']):\n",
        "      #print(\"continue\")\n",
        "      arr.append({'start_match':j,'ratio_start':(end-start)/(sampleDict[j+1]['time']-sampleDict[j]['time']),'end_match':-1,'ratio_end':-1})\n",
        "      #print(len(arr))\n",
        "      #index+=1\n",
        "      break\n",
        "    elif(start>=sampleDict[j]['time'] and start<=sampleDict[j+1]['time']):\n",
        "      #print(\"not con\")\n",
        "      arr.append({'start_match':j,'ratio_start':(sampleDict[j+1]['time']-start)/(sampleDict[j+1]['time']-sampleDict[j]['time'])})\n",
        "      #print(len(arr))\n",
        "      for k in range(j,sampleN):\n",
        "        if(end<=sampleDict[k+1]['time'] and end>=sampleDict[k]['time']):\n",
        "          #print(\"update\")\n",
        "          arr[len(arr)-1].update({'end_match':k,'ratio_end':(end-sampleDict[k]['time'])/(sampleDict[k+1]['time']-sampleDict[k]['time'])})\n",
        "          #print(len(arr))\n",
        "          #index+=1\n",
        "      break\n",
        "\n",
        "print(arr)\n",
        "for a in arr:\n",
        "  print(a)\n",
        "print(len(podcastDict))\n",
        "print(len(sampleDict))\n",
        "print(len(arr))"
      ],
      "metadata": {
        "colab": {
          "base_uri": "https://localhost:8080/"
        },
        "id": "UG7BHvgt5k_T",
        "outputId": "47163f39-d372-4986-dcf7-44e07b491892"
      },
      "execution_count": null,
      "outputs": [
        {
          "output_type": "stream",
          "name": "stdout",
          "text": [
            "[{'start_match': 0, 'ratio_start': 0.7805970149253731, 'end_match': -1, 'ratio_end': -1}, {'start_match': 0, 'ratio_start': 0.2194029850746269, 'end_match': 1, 'ratio_end': 0.791764705882353}, {'start_match': 1, 'ratio_start': 0.20823529411764694, 'end_match': 2, 'ratio_end': 0.7303797468354429}, {'start_match': 2, 'ratio_start': 0.2696202531645571, 'end_match': 4, 'ratio_end': 0.08749999999999858}, {'start_match': 4, 'ratio_start': 0.9125000000000014, 'end_match': 6, 'ratio_end': 0.24521739130434772}, {'start_match': 6, 'ratio_start': 0.12347826086956512, 'end_match': -1, 'ratio_end': -1}, {'start_match': 6, 'ratio_start': 0.1617391304347828, 'end_match': -1, 'ratio_end': -1}, {'start_match': 6, 'ratio_start': 0.3252173913043476, 'end_match': -1, 'ratio_end': -1}, {'start_match': 6, 'ratio_start': 0.1417391304347827, 'end_match': -1, 'ratio_end': -1}, {'start_match': 6, 'ratio_start': 0.0026086956521740117, 'end_match': 8, 'ratio_end': 0.6702380952380947}, {'start_match': 8, 'ratio_start': 0.32857142857142885, 'end_match': -1, 'ratio_end': -1}, {'start_match': 8, 'ratio_start': 0.0011904761904764612, 'end_match': 9, 'ratio_end': 1.0}]\n",
            "{'start_match': 0, 'ratio_start': 0.7805970149253731, 'end_match': -1, 'ratio_end': -1}\n",
            "{'start_match': 0, 'ratio_start': 0.2194029850746269, 'end_match': 1, 'ratio_end': 0.791764705882353}\n",
            "{'start_match': 1, 'ratio_start': 0.20823529411764694, 'end_match': 2, 'ratio_end': 0.7303797468354429}\n",
            "{'start_match': 2, 'ratio_start': 0.2696202531645571, 'end_match': 4, 'ratio_end': 0.08749999999999858}\n",
            "{'start_match': 4, 'ratio_start': 0.9125000000000014, 'end_match': 6, 'ratio_end': 0.24521739130434772}\n",
            "{'start_match': 6, 'ratio_start': 0.12347826086956512, 'end_match': -1, 'ratio_end': -1}\n",
            "{'start_match': 6, 'ratio_start': 0.1617391304347828, 'end_match': -1, 'ratio_end': -1}\n",
            "{'start_match': 6, 'ratio_start': 0.3252173913043476, 'end_match': -1, 'ratio_end': -1}\n",
            "{'start_match': 6, 'ratio_start': 0.1417391304347827, 'end_match': -1, 'ratio_end': -1}\n",
            "{'start_match': 6, 'ratio_start': 0.0026086956521740117, 'end_match': 8, 'ratio_end': 0.6702380952380947}\n",
            "{'start_match': 8, 'ratio_start': 0.32857142857142885, 'end_match': -1, 'ratio_end': -1}\n",
            "{'start_match': 8, 'ratio_start': 0.0011904761904764612, 'end_match': 9, 'ratio_end': 1.0}\n",
            "13\n",
            "11\n",
            "12\n"
          ]
        }
      ]
    },
    {
      "cell_type": "code",
      "source": [
        "scores = []\n",
        "for i in range(len(arr)):\n",
        "  if(arr[i]['end_match']==-1):\n",
        "    embedding_1= model.encode(podcastDict[i]['headline'], convert_to_tensor=True)\n",
        "    embedding_2 = model.encode(sampleDict[arr[i]['start_match']]['headline'], convert_to_tensor=True)\n",
        "    score_temp = float(util.pytorch_cos_sim(embedding_1, embedding_2))\n",
        "    score_temp*=arr[i]['ratio_start']\n",
        "    scores.append(score_temp)\n",
        "\n",
        "  else:\n",
        "\n",
        "    embedding_1= model.encode(podcastDict[i]['headline'], convert_to_tensor=True)\n",
        "    embedding_2 = model.encode(sampleDict[arr[i]['start_match']]['headline'], convert_to_tensor=True)\n",
        "    score_temp = float(util.pytorch_cos_sim(embedding_1, embedding_2))\n",
        "    score_temp*=arr[i]['ratio_start']\n",
        "    score_temp_sum=score_temp\n",
        "    for j in range(arr[i]['start_match']+1,arr[i]['end_match']):\n",
        "      embedding_1= model.encode(podcastDict[i]['headline'], convert_to_tensor=True)\n",
        "      embedding_2 = model.encode(sampleDict[j]['headline'], convert_to_tensor=True)\n",
        "      score_temp = float(util.pytorch_cos_sim(embedding_1, embedding_2))\n",
        "      score_temp_sum+=score_temp\n",
        "    embedding_1= model.encode(podcastDict[i]['headline'], convert_to_tensor=True)\n",
        "    embedding_2 = model.encode(sampleDict[j]['headline'], convert_to_tensor=True)\n",
        "    score_temp = float(util.pytorch_cos_sim(embedding_1, embedding_2))\n",
        "    score_temp*=arr[i]['ratio_end']\n",
        "    score_temp_sum+=score_temp\n",
        "    scores.append(score_temp_sum/(arr[i]['end_match']-arr[i]['start_match']+1))\n",
        "print(scores)\n",
        "sum = 0\n",
        "for score in scores:\n",
        "  sum +=score\n",
        "print(sum/len(arr))"
      ],
      "metadata": {
        "colab": {
          "base_uri": "https://localhost:8080/"
        },
        "id": "CKBomKUF6DqD",
        "outputId": "633bbe05-34bf-4923-99cd-c3e9aa87bde6"
      },
      "execution_count": null,
      "outputs": [
        {
          "output_type": "stream",
          "name": "stdout",
          "text": [
            "[0.2856186641685998, 0.21077335291467708, 0.22233850642606023, 0.3282974031152602, 0.584463310826948, 0.03877466284710425, 0.09025278195090927, 0.23345671301302687, 0.026938223786976044, 0.4040290110392188, 0.1564616748264859, 0.38012697764095815]\n",
            "0.24679427354635206\n"
          ]
        }
      ]
    },
    {
      "cell_type": "markdown",
      "source": [
        "# 0.5"
      ],
      "metadata": {
        "id": "pxhqbQtV9sYM"
      }
    },
    {
      "cell_type": "code",
      "source": [
        "sampleDict = [{'time': 0.0, 'headline': 'Video Start'}, {'time': 67.0, 'headline': 'How Does Podcasting Work?'}, {'time': 152.0, 'headline': 'Podcast Name and Podcast Topic '}, {'time': 231.0, 'headline': 'Start a Podcast Using Your SmartPhone'}, {'time': 332.0, 'headline': 'Start a Podcast Using a USB Microphone and Computer'}, {'time': 348.0, 'headline': 'Best USB Microphone for Podcast'}, {'time': 375.0, 'headline': 'Best Audio Editing Software for Podcast'}, {'time': 490.0, 'headline': 'Podcast professional set up'}, {'time': 518.0, 'headline': 'Best Podcast Microphones XLR and Audio Interface'}, {'time': 602.0, 'headline': 'Video Podcasting'},{'time': 745.8, 'headline': ''}]\n",
        "#podcastDict = [{'time': 0.0, 'headline': {'generated_text': 'Starting Your Podcast - The Four Different Ways'}}, {'time': 52.3, 'headline': {'generated_text': 'Podcasts - How to Create a Podcast'}}, {'time': 134.3, 'headline': {'generated_text': 'Podcast Coaching - How to Start Your Podcast Today'}},{'time':209.7,'headline':'Podcasting - How to Start Your Own Podcast'}, {'time': 333.4, 'headline': {'generated_text': 'USB Microphones For Independent Podcasters'}}, {'time': 403.2, 'headline': {'generated_text': 'GarageBand Pro Tools vs GarageBand Pro Tools'}}, {'time': 417.4, 'headline': {'generated_text': 'Reaper - How to Record a Podcast'}}, {'time': 436.0, 'headline': {'generated_text': 'How to Edit a Podcast'}}, {'time': 473.4, 'headline': {'generated_text': 'Reaper Training - Free Training'}},{'time':489.7, 'headline':'Podcasting - Podcasting Tips' }, {'time': 534.9, 'headline': {'generated_text': 'The Scarlett to I-20 Focusrite Scarlett to I-20 Focusrite Scarlet'}}, {'time': 591.8, 'headline': {'generated_text': 'Video Podcasting - Video Podcasting'}}, {'time': 613.3, 'headline': {'generated_text': 'Podcasting - The Ultimate Con'}}, {'time': 644.5, 'headline': {'generated_text': 'Podcasting Tips - How to Start a Podcast'}}]\n",
        "podcastDict = [{'time': 0.0, 'headline': ' Starting Your Podcast - The Four Different Ways'}, {'time': 52.3, 'headline': ' Podcasts - How to Create a Podcast'}, {'time': 134.3, 'headline': ' Podcast Coaching - How to Start Your Podcast Today'},{'time':209.7,'headline':'Podcasting - How to Start Your Own Podcast'}, {'time': 333.4, 'headline': ' USB Microphones For Independent Podcasters'}, {'time': 403.2, 'headline': ' GarageBand Pro Tools vs GarageBand Pro Tools'}, {'time': 417.4, 'headline': ' Reaper - How to Record a Podcast'}, {'time': 436.0, 'headline': ' How to Edit a Podcast'}, {'time': 473.4, 'headline': ' Reaper Training - Free Training'},{'time':489.7, 'headline':'Podcasting - Podcasting Tips' }, {'time': 534.9, 'headline': ' The Scarlett to I - 20 Focusrite Scarlett to I 20 Focusrite Scarlet'}, {'time': 591.8, 'headline': ' Video Podcasting '}, {'time': 613.3, 'headline': ' Podcasting - The Ultimate Con'}, {'time': 644.5, 'headline': ' Podcasting Tips - How to Start a Podcast'}]"
      ],
      "metadata": {
        "id": "jRAL_UIx9rf2"
      },
      "execution_count": null,
      "outputs": []
    },
    {
      "cell_type": "code",
      "source": [
        "print(len(podcastDict))\n",
        "print(len(sampleDict))\n",
        "for t in podcastDict:\n",
        "  print(t)"
      ],
      "metadata": {
        "colab": {
          "base_uri": "https://localhost:8080/"
        },
        "id": "zx2SHGIfCZqf",
        "outputId": "f9d499d9-1bb9-494a-9cf1-bc67b4930a6c"
      },
      "execution_count": null,
      "outputs": [
        {
          "output_type": "stream",
          "name": "stdout",
          "text": [
            "14\n",
            "11\n",
            "{'time': 0.0, 'headline': ' Starting Your Podcast - The Four Different Ways'}\n",
            "{'time': 52.3, 'headline': ' Podcasts - How to Create a Podcast'}\n",
            "{'time': 134.3, 'headline': ' Podcast Coaching - How to Start Your Podcast Today'}\n",
            "{'time': 209.7, 'headline': 'Podcasting - How to Start Your Own Podcast'}\n",
            "{'time': 333.4, 'headline': ' USB Microphones For Independent Podcasters'}\n",
            "{'time': 403.2, 'headline': ' GarageBand Pro Tools vs GarageBand Pro Tools'}\n",
            "{'time': 417.4, 'headline': ' Reaper - How to Record a Podcast'}\n",
            "{'time': 436.0, 'headline': ' How to Edit a Podcast'}\n",
            "{'time': 473.4, 'headline': ' Reaper Training - Free Training'}\n",
            "{'time': 489.7, 'headline': 'Podcasting - Podcasting Tips'}\n",
            "{'time': 534.9, 'headline': ' The Scarlett to I - 20 Focusrite Scarlett to I 20 Focusrite Scarlet'}\n",
            "{'time': 591.8, 'headline': ' Video Podcasting '}\n",
            "{'time': 613.3, 'headline': ' Podcasting - The Ultimate Con'}\n",
            "{'time': 644.5, 'headline': ' Podcasting Tips - How to Start a Podcast'}\n"
          ]
        }
      ]
    },
    {
      "cell_type": "code",
      "source": [
        "arr = []\n",
        "#index = 0\n",
        "podcastN = len(podcastDict)-1\n",
        "sampleN = len(sampleDict)-1\n",
        "for i in range(podcastN):\n",
        "  #print(i)\n",
        "  start = podcastDict[i]['time']\n",
        "  end = podcastDict[i+1]['time']\n",
        "  #print(\"start: \"+str(start)+\" end: \"+str(end))\n",
        "  for j in range(sampleN):\n",
        "    #print(\"j: \"+str(j))\n",
        "    if(start>=sampleDict[j]['time'] and end<=sampleDict[j+1]['time']):\n",
        "      #print(\"continue\")\n",
        "      arr.append({'start_match':j,'ratio_start':(end-start)/(sampleDict[j+1]['time']-sampleDict[j]['time']),'end_match':-1,'ratio_end':-1})\n",
        "      #print(len(arr))\n",
        "      #index+=1\n",
        "      break\n",
        "    elif(start>=sampleDict[j]['time'] and start<=sampleDict[j+1]['time']):\n",
        "      #print(\"not con\")\n",
        "      arr.append({'start_match':j,'ratio_start':(sampleDict[j+1]['time']-start)/(sampleDict[j+1]['time']-sampleDict[j]['time'])})\n",
        "      #print(len(arr))\n",
        "      for k in range(j,sampleN):\n",
        "        if(end<=sampleDict[k+1]['time'] and end>=sampleDict[k]['time']):\n",
        "          #print(\"update\")\n",
        "          arr[len(arr)-1].update({'end_match':k,'ratio_end':(end-sampleDict[k]['time'])/(sampleDict[k+1]['time']-sampleDict[k]['time'])})\n",
        "          #print(len(arr))\n",
        "          #index+=1\n",
        "      break\n",
        "\n",
        "print(arr)\n",
        "for a in arr:\n",
        "  print(a)\n",
        "print(len(podcastDict))\n",
        "print(len(sampleDict))\n",
        "print(len(arr))"
      ],
      "metadata": {
        "colab": {
          "base_uri": "https://localhost:8080/"
        },
        "outputId": "df0fe2dd-e4f6-4a63-a6cf-c5d7ecd5cabb",
        "id": "h_HOTR0OA9E9"
      },
      "execution_count": null,
      "outputs": [
        {
          "output_type": "stream",
          "name": "stdout",
          "text": [
            "[{'start_match': 0, 'ratio_start': 0.7805970149253731, 'end_match': -1, 'ratio_end': -1}, {'start_match': 0, 'ratio_start': 0.2194029850746269, 'end_match': 1, 'ratio_end': 0.791764705882353}, {'start_match': 1, 'ratio_start': 0.20823529411764694, 'end_match': 2, 'ratio_end': 0.7303797468354429}, {'start_match': 2, 'ratio_start': 0.2696202531645571, 'end_match': 4, 'ratio_end': 0.08749999999999858}, {'start_match': 4, 'ratio_start': 0.9125000000000014, 'end_match': 6, 'ratio_end': 0.24521739130434772}, {'start_match': 6, 'ratio_start': 0.12347826086956512, 'end_match': -1, 'ratio_end': -1}, {'start_match': 6, 'ratio_start': 0.1617391304347828, 'end_match': -1, 'ratio_end': -1}, {'start_match': 6, 'ratio_start': 0.3252173913043476, 'end_match': -1, 'ratio_end': -1}, {'start_match': 6, 'ratio_start': 0.1417391304347827, 'end_match': -1, 'ratio_end': -1}, {'start_match': 6, 'ratio_start': 0.0026086956521740117, 'end_match': 8, 'ratio_end': 0.20119047619047592}, {'start_match': 8, 'ratio_start': 0.6773809523809521, 'end_match': -1, 'ratio_end': -1}, {'start_match': 8, 'ratio_start': 0.12142857142857197, 'end_match': 9, 'ratio_end': 0.07858136300417216}, {'start_match': 9, 'ratio_start': 0.21696801112656505, 'end_match': -1, 'ratio_end': -1}]\n",
            "{'start_match': 0, 'ratio_start': 0.7805970149253731, 'end_match': -1, 'ratio_end': -1}\n",
            "{'start_match': 0, 'ratio_start': 0.2194029850746269, 'end_match': 1, 'ratio_end': 0.791764705882353}\n",
            "{'start_match': 1, 'ratio_start': 0.20823529411764694, 'end_match': 2, 'ratio_end': 0.7303797468354429}\n",
            "{'start_match': 2, 'ratio_start': 0.2696202531645571, 'end_match': 4, 'ratio_end': 0.08749999999999858}\n",
            "{'start_match': 4, 'ratio_start': 0.9125000000000014, 'end_match': 6, 'ratio_end': 0.24521739130434772}\n",
            "{'start_match': 6, 'ratio_start': 0.12347826086956512, 'end_match': -1, 'ratio_end': -1}\n",
            "{'start_match': 6, 'ratio_start': 0.1617391304347828, 'end_match': -1, 'ratio_end': -1}\n",
            "{'start_match': 6, 'ratio_start': 0.3252173913043476, 'end_match': -1, 'ratio_end': -1}\n",
            "{'start_match': 6, 'ratio_start': 0.1417391304347827, 'end_match': -1, 'ratio_end': -1}\n",
            "{'start_match': 6, 'ratio_start': 0.0026086956521740117, 'end_match': 8, 'ratio_end': 0.20119047619047592}\n",
            "{'start_match': 8, 'ratio_start': 0.6773809523809521, 'end_match': -1, 'ratio_end': -1}\n",
            "{'start_match': 8, 'ratio_start': 0.12142857142857197, 'end_match': 9, 'ratio_end': 0.07858136300417216}\n",
            "{'start_match': 9, 'ratio_start': 0.21696801112656505, 'end_match': -1, 'ratio_end': -1}\n",
            "14\n",
            "11\n",
            "13\n"
          ]
        }
      ]
    },
    {
      "cell_type": "code",
      "source": [
        "scores = []\n",
        "for i in range(0,len(arr)):\n",
        "  if(arr[i]['end_match']==-1):\n",
        "    embedding_1= model.encode(podcastDict[i]['headline'], convert_to_tensor=True)\n",
        "    embedding_2 = model.encode(sampleDict[arr[i]['start_match']]['headline'], convert_to_tensor=True)\n",
        "    score_temp = float(util.pytorch_cos_sim(embedding_1, embedding_2))\n",
        "    score_temp*=arr[i]['ratio_start']\n",
        "    scores.append(score_temp)\n",
        "\n",
        "  else:\n",
        "\n",
        "    embedding_1= model.encode(podcastDict[i]['headline'], convert_to_tensor=True)\n",
        "    embedding_2 = model.encode(sampleDict[arr[i]['start_match']]['headline'], convert_to_tensor=True)\n",
        "    score_temp = float(util.pytorch_cos_sim(embedding_1, embedding_2))\n",
        "    score_temp*=arr[i]['ratio_start']\n",
        "    score_temp_sum=score_temp\n",
        "    for j in range(arr[i]['start_match']+1,arr[i]['end_match']):\n",
        "      embedding_1= model.encode(podcastDict[i]['headline'], convert_to_tensor=True)\n",
        "      embedding_2 = model.encode(sampleDict[j]['headline'], convert_to_tensor=True)\n",
        "      score_temp = float(util.pytorch_cos_sim(embedding_1, embedding_2))\n",
        "      score_temp_sum+=score_temp\n",
        "    embedding_1= model.encode(podcastDict[i]['headline'], convert_to_tensor=True)\n",
        "    embedding_2 = model.encode(sampleDict[j]['headline'], convert_to_tensor=True)\n",
        "    score_temp = float(util.pytorch_cos_sim(embedding_1, embedding_2))\n",
        "    score_temp*=arr[i]['ratio_end']\n",
        "    score_temp_sum+=score_temp\n",
        "    scores.append(score_temp_sum/(arr[i]['end_match']-arr[i]['start_match']+1))\n",
        "print(scores)\n",
        "sum = 0\n",
        "for score in scores:\n",
        "  sum +=score\n",
        "print(sum/len(arr))"
      ],
      "metadata": {
        "colab": {
          "base_uri": "https://localhost:8080/"
        },
        "outputId": "feedce1d-9d53-49be-be8d-eae34c1f7d9e",
        "id": "mQvqFn2lA_46"
      },
      "execution_count": null,
      "outputs": [
        {
          "output_type": "stream",
          "name": "stdout",
          "text": [
            "[0.2856186641685998, 0.3509761725495634, 0.34871598627127015, 0.3282974031152602, 0.584463310826948, 0.03877466284710425, 0.09025278195090927, 0.23345671301302687, 0.026938223786976044, 0.3155021245714875, 0.15262139735832095, 0.06021172142297642, 0.16529710501722594]\n",
            "0.2293174051461283\n"
          ]
        }
      ]
    },
    {
      "cell_type": "markdown",
      "source": [
        "# 0.7"
      ],
      "metadata": {
        "id": "hzO2i8T1Eh_9"
      }
    },
    {
      "cell_type": "code",
      "source": [
        "podcastDict = [{'time': 0.0, 'headline': ' How to Start Your Own Podcast'}, {'time': 369.2, 'headline': ' The Best Podcasting Apps For Free'}, {'time': 417.4, 'headline': ' Reaper - How to Record a Podcast'}, {'time': 436.0, 'headline': ' How to Edit a Podcast and Get Going in Reaper'},{'time':489.7, 'headline':'Podcasting Tips - The Scarlett to I 20' }, {'time': 591.8, 'headline': ' Podcasting - The Ultimate Con'}]"
      ],
      "metadata": {
        "id": "19aBd7ruEhch"
      },
      "execution_count": null,
      "outputs": []
    },
    {
      "cell_type": "code",
      "source": [
        "arr = []\n",
        "#index = 0\n",
        "podcastN = len(podcastDict)-1\n",
        "sampleN = len(sampleDict)-1\n",
        "for i in range(podcastN):\n",
        "  #print(i)\n",
        "  start = podcastDict[i]['time']\n",
        "  end = podcastDict[i+1]['time']\n",
        "  #print(\"start: \"+str(start)+\" end: \"+str(end))\n",
        "  for j in range(sampleN):\n",
        "    #print(\"j: \"+str(j))\n",
        "    if(start>=sampleDict[j]['time'] and end<=sampleDict[j+1]['time']):\n",
        "      #print(\"continue\")\n",
        "      arr.append({'start_match':j,'ratio_start':(end-start)/(sampleDict[j+1]['time']-sampleDict[j]['time']),'end_match':-1,'ratio_end':-1})\n",
        "      #print(len(arr))\n",
        "      #index+=1\n",
        "      break\n",
        "    elif(start>=sampleDict[j]['time'] and start<=sampleDict[j+1]['time']):\n",
        "      #print(\"not con\")\n",
        "      arr.append({'start_match':j,'ratio_start':(sampleDict[j+1]['time']-start)/(sampleDict[j+1]['time']-sampleDict[j]['time'])})\n",
        "      #print(len(arr))\n",
        "      for k in range(j,sampleN):\n",
        "        if(end<=sampleDict[k+1]['time'] and end>=sampleDict[k]['time']):\n",
        "          #print(\"update\")\n",
        "          arr[len(arr)-1].update({'end_match':k,'ratio_end':(end-sampleDict[k]['time'])/(sampleDict[k+1]['time']-sampleDict[k]['time'])})\n",
        "          #print(len(arr))\n",
        "          #index+=1\n",
        "      break\n",
        "\n",
        "print(arr)\n",
        "for a in arr:\n",
        "  print(a)\n",
        "print(len(podcastDict))\n",
        "print(len(sampleDict))\n",
        "print(len(arr))"
      ],
      "metadata": {
        "colab": {
          "base_uri": "https://localhost:8080/"
        },
        "outputId": "2c40ccde-bf17-46f9-d389-93df4b6c2bba",
        "id": "uqwTS0X3Eyzt"
      },
      "execution_count": null,
      "outputs": [
        {
          "output_type": "stream",
          "name": "stdout",
          "text": [
            "[{'start_match': 0, 'ratio_start': 1.0, 'end_match': 5, 'ratio_end': 0.7851851851851848}, {'start_match': 5, 'ratio_start': 0.21481481481481524, 'end_match': 6, 'ratio_end': 0.36869565217391287}, {'start_match': 6, 'ratio_start': 0.1617391304347828, 'end_match': -1, 'ratio_end': -1}, {'start_match': 6, 'ratio_start': 0.4669565217391303, 'end_match': -1, 'ratio_end': -1}, {'start_match': 6, 'ratio_start': 0.0026086956521740117, 'end_match': 8, 'ratio_end': 0.878571428571428}]\n",
            "{'start_match': 0, 'ratio_start': 1.0, 'end_match': 5, 'ratio_end': 0.7851851851851848}\n",
            "{'start_match': 5, 'ratio_start': 0.21481481481481524, 'end_match': 6, 'ratio_end': 0.36869565217391287}\n",
            "{'start_match': 6, 'ratio_start': 0.1617391304347828, 'end_match': -1, 'ratio_end': -1}\n",
            "{'start_match': 6, 'ratio_start': 0.4669565217391303, 'end_match': -1, 'ratio_end': -1}\n",
            "{'start_match': 6, 'ratio_start': 0.0026086956521740117, 'end_match': 8, 'ratio_end': 0.878571428571428}\n",
            "6\n",
            "11\n",
            "5\n"
          ]
        }
      ]
    },
    {
      "cell_type": "code",
      "source": [
        "scores = []\n",
        "for i in range(0,len(arr)):\n",
        "  if(arr[i]['end_match']==-1):\n",
        "    embedding_1= model.encode(podcastDict[i]['headline'], convert_to_tensor=True)\n",
        "    embedding_2 = model.encode(sampleDict[arr[i]['start_match']]['headline'], convert_to_tensor=True)\n",
        "    score_temp = float(util.pytorch_cos_sim(embedding_1, embedding_2))\n",
        "    score_temp*=arr[i]['ratio_start']\n",
        "    scores.append(score_temp)\n",
        "\n",
        "  else:\n",
        "\n",
        "    embedding_1= model.encode(podcastDict[i]['headline'], convert_to_tensor=True)\n",
        "    embedding_2 = model.encode(sampleDict[arr[i]['start_match']]['headline'], convert_to_tensor=True)\n",
        "    score_temp = float(util.pytorch_cos_sim(embedding_1, embedding_2))\n",
        "    score_temp*=arr[i]['ratio_start']\n",
        "    score_temp_sum=score_temp\n",
        "    for j in range(arr[i]['start_match']+1,arr[i]['end_match']):\n",
        "      embedding_1= model.encode(podcastDict[i]['headline'], convert_to_tensor=True)\n",
        "      embedding_2 = model.encode(sampleDict[j]['headline'], convert_to_tensor=True)\n",
        "      score_temp = float(util.pytorch_cos_sim(embedding_1, embedding_2))\n",
        "      score_temp_sum+=score_temp\n",
        "    embedding_1= model.encode(podcastDict[i]['headline'], convert_to_tensor=True)\n",
        "    embedding_2 = model.encode(sampleDict[j]['headline'], convert_to_tensor=True)\n",
        "    score_temp = float(util.pytorch_cos_sim(embedding_1, embedding_2))\n",
        "    score_temp*=arr[i]['ratio_end']\n",
        "    score_temp_sum+=score_temp\n",
        "    scores.append(score_temp_sum/(arr[i]['end_match']-arr[i]['start_match']+1))\n",
        "print(scores)\n",
        "sum = 0\n",
        "for score in scores:\n",
        "  sum +=score\n",
        "print(sum/len(arr))"
      ],
      "metadata": {
        "colab": {
          "base_uri": "https://localhost:8080/"
        },
        "outputId": "fe8928d8-eab8-4038-d965-d10ce6794337",
        "id": "wb9DwwMxE2Zc"
      },
      "execution_count": null,
      "outputs": [
        {
          "output_type": "stream",
          "name": "stdout",
          "text": [
            "[0.6202355189455879, 0.18299414964305805, 0.09025278195090927, 0.30298012997793106, 0.37002231693045684]\n",
            "0.3132969794895886\n"
          ]
        }
      ]
    },
    {
      "cell_type": "markdown",
      "source": [
        "# history"
      ],
      "metadata": {
        "id": "miK3G5iaIG__"
      }
    },
    {
      "cell_type": "code",
      "source": [
        "sampleDict = [{'time': 0.0, 'headline': 'Intro'}, {'time': 210.0, 'headline': 'The Town of Rosewood'}, {'time': 476.0, 'headline': 'The Beginning'}, {'time': 615.0, 'headline': 'The Rumor'}, {'time': 771.0, 'headline': 'Jesse Hunter and Sam Carter'}, {'time': 1111.0, 'headline': 'The Mob'}, {'time': 1300.0, 'headline': 'The Carrier House'}, {'time': 1452.0, 'headline': 'Fleeing Rosewood'}, {'time': 1670.0, 'headline': 'The Bryce Brothers'}, {'time': 1826.0, 'headline': 'The Final Day'}, {'time': 1997.0, 'headline': 'The Aftermath'}, {'time': 2260.0, 'headline': 'The Victims'}, {'time': 2454.0, 'headline': 'Rosewood Today'}]\n",
        "podcastDict = "
      ],
      "metadata": {
        "id": "l16M3UohIGnJ"
      },
      "execution_count": null,
      "outputs": []
    }
  ]
}
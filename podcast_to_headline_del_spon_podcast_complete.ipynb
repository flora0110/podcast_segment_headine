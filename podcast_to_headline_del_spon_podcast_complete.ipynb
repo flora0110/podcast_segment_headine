{
  "nbformat": 4,
  "nbformat_minor": 0,
  "metadata": {
    "colab": {
      "name": "podcast_to_headline_del_spon_podcast_complete.ipynb",
      "provenance": [],
      "collapsed_sections": [],
      "include_colab_link": true
    },
    "kernelspec": {
      "name": "python3",
      "display_name": "Python 3"
    },
    "language_info": {
      "name": "python"
    },
    "widgets": {
      "application/vnd.jupyter.widget-state+json": {
        "306331d0a86547e68313768e70e6e59f": {
          "model_module": "@jupyter-widgets/controls",
          "model_name": "HBoxModel",
          "model_module_version": "1.5.0",
          "state": {
            "_dom_classes": [],
            "_model_module": "@jupyter-widgets/controls",
            "_model_module_version": "1.5.0",
            "_model_name": "HBoxModel",
            "_view_count": null,
            "_view_module": "@jupyter-widgets/controls",
            "_view_module_version": "1.5.0",
            "_view_name": "HBoxView",
            "box_style": "",
            "children": [
              "IPY_MODEL_df072bdad3c24c9ab79f2ee2b85dad4a",
              "IPY_MODEL_fd94d9fdd7b34915b64dce301029815c",
              "IPY_MODEL_638b6709ec244c79931aa8d6139740c4"
            ],
            "layout": "IPY_MODEL_cd556a794c14477b9efe8e68b0a06297"
          }
        },
        "df072bdad3c24c9ab79f2ee2b85dad4a": {
          "model_module": "@jupyter-widgets/controls",
          "model_name": "HTMLModel",
          "model_module_version": "1.5.0",
          "state": {
            "_dom_classes": [],
            "_model_module": "@jupyter-widgets/controls",
            "_model_module_version": "1.5.0",
            "_model_name": "HTMLModel",
            "_view_count": null,
            "_view_module": "@jupyter-widgets/controls",
            "_view_module_version": "1.5.0",
            "_view_name": "HTMLView",
            "description": "",
            "description_tooltip": null,
            "layout": "IPY_MODEL_d692f3754fdf448aa809003af55834ac",
            "placeholder": "​",
            "style": "IPY_MODEL_51fe06ce1fa04e3ebf518ea39378bec2",
            "value": "Downloading: 100%"
          }
        },
        "fd94d9fdd7b34915b64dce301029815c": {
          "model_module": "@jupyter-widgets/controls",
          "model_name": "FloatProgressModel",
          "model_module_version": "1.5.0",
          "state": {
            "_dom_classes": [],
            "_model_module": "@jupyter-widgets/controls",
            "_model_module_version": "1.5.0",
            "_model_name": "FloatProgressModel",
            "_view_count": null,
            "_view_module": "@jupyter-widgets/controls",
            "_view_module_version": "1.5.0",
            "_view_name": "ProgressView",
            "bar_style": "success",
            "description": "",
            "description_tooltip": null,
            "layout": "IPY_MODEL_1eb3eda038f148f093c44dfe372ac17a",
            "max": 1345,
            "min": 0,
            "orientation": "horizontal",
            "style": "IPY_MODEL_6be9a837011b4adb9d9c1a46b8d1a8e6",
            "value": 1345
          }
        },
        "638b6709ec244c79931aa8d6139740c4": {
          "model_module": "@jupyter-widgets/controls",
          "model_name": "HTMLModel",
          "model_module_version": "1.5.0",
          "state": {
            "_dom_classes": [],
            "_model_module": "@jupyter-widgets/controls",
            "_model_module_version": "1.5.0",
            "_model_name": "HTMLModel",
            "_view_count": null,
            "_view_module": "@jupyter-widgets/controls",
            "_view_module_version": "1.5.0",
            "_view_name": "HTMLView",
            "description": "",
            "description_tooltip": null,
            "layout": "IPY_MODEL_465fad31b7914343a494ac270318c459",
            "placeholder": "​",
            "style": "IPY_MODEL_348d25295ac2452287d512ec32a59f25",
            "value": " 1.31k/1.31k [00:00&lt;00:00, 9.50kB/s]"
          }
        },
        "cd556a794c14477b9efe8e68b0a06297": {
          "model_module": "@jupyter-widgets/base",
          "model_name": "LayoutModel",
          "model_module_version": "1.2.0",
          "state": {
            "_model_module": "@jupyter-widgets/base",
            "_model_module_version": "1.2.0",
            "_model_name": "LayoutModel",
            "_view_count": null,
            "_view_module": "@jupyter-widgets/base",
            "_view_module_version": "1.2.0",
            "_view_name": "LayoutView",
            "align_content": null,
            "align_items": null,
            "align_self": null,
            "border": null,
            "bottom": null,
            "display": null,
            "flex": null,
            "flex_flow": null,
            "grid_area": null,
            "grid_auto_columns": null,
            "grid_auto_flow": null,
            "grid_auto_rows": null,
            "grid_column": null,
            "grid_gap": null,
            "grid_row": null,
            "grid_template_areas": null,
            "grid_template_columns": null,
            "grid_template_rows": null,
            "height": null,
            "justify_content": null,
            "justify_items": null,
            "left": null,
            "margin": null,
            "max_height": null,
            "max_width": null,
            "min_height": null,
            "min_width": null,
            "object_fit": null,
            "object_position": null,
            "order": null,
            "overflow": null,
            "overflow_x": null,
            "overflow_y": null,
            "padding": null,
            "right": null,
            "top": null,
            "visibility": null,
            "width": null
          }
        },
        "d692f3754fdf448aa809003af55834ac": {
          "model_module": "@jupyter-widgets/base",
          "model_name": "LayoutModel",
          "model_module_version": "1.2.0",
          "state": {
            "_model_module": "@jupyter-widgets/base",
            "_model_module_version": "1.2.0",
            "_model_name": "LayoutModel",
            "_view_count": null,
            "_view_module": "@jupyter-widgets/base",
            "_view_module_version": "1.2.0",
            "_view_name": "LayoutView",
            "align_content": null,
            "align_items": null,
            "align_self": null,
            "border": null,
            "bottom": null,
            "display": null,
            "flex": null,
            "flex_flow": null,
            "grid_area": null,
            "grid_auto_columns": null,
            "grid_auto_flow": null,
            "grid_auto_rows": null,
            "grid_column": null,
            "grid_gap": null,
            "grid_row": null,
            "grid_template_areas": null,
            "grid_template_columns": null,
            "grid_template_rows": null,
            "height": null,
            "justify_content": null,
            "justify_items": null,
            "left": null,
            "margin": null,
            "max_height": null,
            "max_width": null,
            "min_height": null,
            "min_width": null,
            "object_fit": null,
            "object_position": null,
            "order": null,
            "overflow": null,
            "overflow_x": null,
            "overflow_y": null,
            "padding": null,
            "right": null,
            "top": null,
            "visibility": null,
            "width": null
          }
        },
        "51fe06ce1fa04e3ebf518ea39378bec2": {
          "model_module": "@jupyter-widgets/controls",
          "model_name": "DescriptionStyleModel",
          "model_module_version": "1.5.0",
          "state": {
            "_model_module": "@jupyter-widgets/controls",
            "_model_module_version": "1.5.0",
            "_model_name": "DescriptionStyleModel",
            "_view_count": null,
            "_view_module": "@jupyter-widgets/base",
            "_view_module_version": "1.2.0",
            "_view_name": "StyleView",
            "description_width": ""
          }
        },
        "1eb3eda038f148f093c44dfe372ac17a": {
          "model_module": "@jupyter-widgets/base",
          "model_name": "LayoutModel",
          "model_module_version": "1.2.0",
          "state": {
            "_model_module": "@jupyter-widgets/base",
            "_model_module_version": "1.2.0",
            "_model_name": "LayoutModel",
            "_view_count": null,
            "_view_module": "@jupyter-widgets/base",
            "_view_module_version": "1.2.0",
            "_view_name": "LayoutView",
            "align_content": null,
            "align_items": null,
            "align_self": null,
            "border": null,
            "bottom": null,
            "display": null,
            "flex": null,
            "flex_flow": null,
            "grid_area": null,
            "grid_auto_columns": null,
            "grid_auto_flow": null,
            "grid_auto_rows": null,
            "grid_column": null,
            "grid_gap": null,
            "grid_row": null,
            "grid_template_areas": null,
            "grid_template_columns": null,
            "grid_template_rows": null,
            "height": null,
            "justify_content": null,
            "justify_items": null,
            "left": null,
            "margin": null,
            "max_height": null,
            "max_width": null,
            "min_height": null,
            "min_width": null,
            "object_fit": null,
            "object_position": null,
            "order": null,
            "overflow": null,
            "overflow_x": null,
            "overflow_y": null,
            "padding": null,
            "right": null,
            "top": null,
            "visibility": null,
            "width": null
          }
        },
        "6be9a837011b4adb9d9c1a46b8d1a8e6": {
          "model_module": "@jupyter-widgets/controls",
          "model_name": "ProgressStyleModel",
          "model_module_version": "1.5.0",
          "state": {
            "_model_module": "@jupyter-widgets/controls",
            "_model_module_version": "1.5.0",
            "_model_name": "ProgressStyleModel",
            "_view_count": null,
            "_view_module": "@jupyter-widgets/base",
            "_view_module_version": "1.2.0",
            "_view_name": "StyleView",
            "bar_color": null,
            "description_width": ""
          }
        },
        "465fad31b7914343a494ac270318c459": {
          "model_module": "@jupyter-widgets/base",
          "model_name": "LayoutModel",
          "model_module_version": "1.2.0",
          "state": {
            "_model_module": "@jupyter-widgets/base",
            "_model_module_version": "1.2.0",
            "_model_name": "LayoutModel",
            "_view_count": null,
            "_view_module": "@jupyter-widgets/base",
            "_view_module_version": "1.2.0",
            "_view_name": "LayoutView",
            "align_content": null,
            "align_items": null,
            "align_self": null,
            "border": null,
            "bottom": null,
            "display": null,
            "flex": null,
            "flex_flow": null,
            "grid_area": null,
            "grid_auto_columns": null,
            "grid_auto_flow": null,
            "grid_auto_rows": null,
            "grid_column": null,
            "grid_gap": null,
            "grid_row": null,
            "grid_template_areas": null,
            "grid_template_columns": null,
            "grid_template_rows": null,
            "height": null,
            "justify_content": null,
            "justify_items": null,
            "left": null,
            "margin": null,
            "max_height": null,
            "max_width": null,
            "min_height": null,
            "min_width": null,
            "object_fit": null,
            "object_position": null,
            "order": null,
            "overflow": null,
            "overflow_x": null,
            "overflow_y": null,
            "padding": null,
            "right": null,
            "top": null,
            "visibility": null,
            "width": null
          }
        },
        "348d25295ac2452287d512ec32a59f25": {
          "model_module": "@jupyter-widgets/controls",
          "model_name": "DescriptionStyleModel",
          "model_module_version": "1.5.0",
          "state": {
            "_model_module": "@jupyter-widgets/controls",
            "_model_module_version": "1.5.0",
            "_model_name": "DescriptionStyleModel",
            "_view_count": null,
            "_view_module": "@jupyter-widgets/base",
            "_view_module_version": "1.2.0",
            "_view_name": "StyleView",
            "description_width": ""
          }
        },
        "814506e45df84a828c0a75d26a2bcbee": {
          "model_module": "@jupyter-widgets/controls",
          "model_name": "HBoxModel",
          "model_module_version": "1.5.0",
          "state": {
            "_dom_classes": [],
            "_model_module": "@jupyter-widgets/controls",
            "_model_module_version": "1.5.0",
            "_model_name": "HBoxModel",
            "_view_count": null,
            "_view_module": "@jupyter-widgets/controls",
            "_view_module_version": "1.5.0",
            "_view_name": "HBoxView",
            "box_style": "",
            "children": [
              "IPY_MODEL_45b44b422f3b41a7a4cba44aeece9320",
              "IPY_MODEL_1e93ac6c5f5f407aba512db7ff8b14b4",
              "IPY_MODEL_2b43aa1fec924d0ca836cf6b85d1343d"
            ],
            "layout": "IPY_MODEL_25f3d07b43a0466cb5e71333870e9742"
          }
        },
        "45b44b422f3b41a7a4cba44aeece9320": {
          "model_module": "@jupyter-widgets/controls",
          "model_name": "HTMLModel",
          "model_module_version": "1.5.0",
          "state": {
            "_dom_classes": [],
            "_model_module": "@jupyter-widgets/controls",
            "_model_module_version": "1.5.0",
            "_model_name": "HTMLModel",
            "_view_count": null,
            "_view_module": "@jupyter-widgets/controls",
            "_view_module_version": "1.5.0",
            "_view_name": "HTMLView",
            "description": "",
            "description_tooltip": null,
            "layout": "IPY_MODEL_0cfbf53e3dd543fcae566c552931c561",
            "placeholder": "​",
            "style": "IPY_MODEL_3f2bef4c64a6472987851ff90bdcd2e6",
            "value": "Downloading: 100%"
          }
        },
        "1e93ac6c5f5f407aba512db7ff8b14b4": {
          "model_module": "@jupyter-widgets/controls",
          "model_name": "FloatProgressModel",
          "model_module_version": "1.5.0",
          "state": {
            "_dom_classes": [],
            "_model_module": "@jupyter-widgets/controls",
            "_model_module_version": "1.5.0",
            "_model_name": "FloatProgressModel",
            "_view_count": null,
            "_view_module": "@jupyter-widgets/controls",
            "_view_module_version": "1.5.0",
            "_view_name": "ProgressView",
            "bar_style": "success",
            "description": "",
            "description_tooltip": null,
            "layout": "IPY_MODEL_eb01fdeb0a8846408e01aeaddf0301e1",
            "max": 1236,
            "min": 0,
            "orientation": "horizontal",
            "style": "IPY_MODEL_30b05244c5b54f16b2e523d32534e271",
            "value": 1236
          }
        },
        "2b43aa1fec924d0ca836cf6b85d1343d": {
          "model_module": "@jupyter-widgets/controls",
          "model_name": "HTMLModel",
          "model_module_version": "1.5.0",
          "state": {
            "_dom_classes": [],
            "_model_module": "@jupyter-widgets/controls",
            "_model_module_version": "1.5.0",
            "_model_name": "HTMLModel",
            "_view_count": null,
            "_view_module": "@jupyter-widgets/controls",
            "_view_module_version": "1.5.0",
            "_view_name": "HTMLView",
            "description": "",
            "description_tooltip": null,
            "layout": "IPY_MODEL_724f51776b8541669ec9be1650bea4ca",
            "placeholder": "​",
            "style": "IPY_MODEL_174d81b18faa429fb6964ecd7fc9414f",
            "value": " 1.21k/1.21k [00:00&lt;00:00, 13.4kB/s]"
          }
        },
        "25f3d07b43a0466cb5e71333870e9742": {
          "model_module": "@jupyter-widgets/base",
          "model_name": "LayoutModel",
          "model_module_version": "1.2.0",
          "state": {
            "_model_module": "@jupyter-widgets/base",
            "_model_module_version": "1.2.0",
            "_model_name": "LayoutModel",
            "_view_count": null,
            "_view_module": "@jupyter-widgets/base",
            "_view_module_version": "1.2.0",
            "_view_name": "LayoutView",
            "align_content": null,
            "align_items": null,
            "align_self": null,
            "border": null,
            "bottom": null,
            "display": null,
            "flex": null,
            "flex_flow": null,
            "grid_area": null,
            "grid_auto_columns": null,
            "grid_auto_flow": null,
            "grid_auto_rows": null,
            "grid_column": null,
            "grid_gap": null,
            "grid_row": null,
            "grid_template_areas": null,
            "grid_template_columns": null,
            "grid_template_rows": null,
            "height": null,
            "justify_content": null,
            "justify_items": null,
            "left": null,
            "margin": null,
            "max_height": null,
            "max_width": null,
            "min_height": null,
            "min_width": null,
            "object_fit": null,
            "object_position": null,
            "order": null,
            "overflow": null,
            "overflow_x": null,
            "overflow_y": null,
            "padding": null,
            "right": null,
            "top": null,
            "visibility": null,
            "width": null
          }
        },
        "0cfbf53e3dd543fcae566c552931c561": {
          "model_module": "@jupyter-widgets/base",
          "model_name": "LayoutModel",
          "model_module_version": "1.2.0",
          "state": {
            "_model_module": "@jupyter-widgets/base",
            "_model_module_version": "1.2.0",
            "_model_name": "LayoutModel",
            "_view_count": null,
            "_view_module": "@jupyter-widgets/base",
            "_view_module_version": "1.2.0",
            "_view_name": "LayoutView",
            "align_content": null,
            "align_items": null,
            "align_self": null,
            "border": null,
            "bottom": null,
            "display": null,
            "flex": null,
            "flex_flow": null,
            "grid_area": null,
            "grid_auto_columns": null,
            "grid_auto_flow": null,
            "grid_auto_rows": null,
            "grid_column": null,
            "grid_gap": null,
            "grid_row": null,
            "grid_template_areas": null,
            "grid_template_columns": null,
            "grid_template_rows": null,
            "height": null,
            "justify_content": null,
            "justify_items": null,
            "left": null,
            "margin": null,
            "max_height": null,
            "max_width": null,
            "min_height": null,
            "min_width": null,
            "object_fit": null,
            "object_position": null,
            "order": null,
            "overflow": null,
            "overflow_x": null,
            "overflow_y": null,
            "padding": null,
            "right": null,
            "top": null,
            "visibility": null,
            "width": null
          }
        },
        "3f2bef4c64a6472987851ff90bdcd2e6": {
          "model_module": "@jupyter-widgets/controls",
          "model_name": "DescriptionStyleModel",
          "model_module_version": "1.5.0",
          "state": {
            "_model_module": "@jupyter-widgets/controls",
            "_model_module_version": "1.5.0",
            "_model_name": "DescriptionStyleModel",
            "_view_count": null,
            "_view_module": "@jupyter-widgets/base",
            "_view_module_version": "1.2.0",
            "_view_name": "StyleView",
            "description_width": ""
          }
        },
        "eb01fdeb0a8846408e01aeaddf0301e1": {
          "model_module": "@jupyter-widgets/base",
          "model_name": "LayoutModel",
          "model_module_version": "1.2.0",
          "state": {
            "_model_module": "@jupyter-widgets/base",
            "_model_module_version": "1.2.0",
            "_model_name": "LayoutModel",
            "_view_count": null,
            "_view_module": "@jupyter-widgets/base",
            "_view_module_version": "1.2.0",
            "_view_name": "LayoutView",
            "align_content": null,
            "align_items": null,
            "align_self": null,
            "border": null,
            "bottom": null,
            "display": null,
            "flex": null,
            "flex_flow": null,
            "grid_area": null,
            "grid_auto_columns": null,
            "grid_auto_flow": null,
            "grid_auto_rows": null,
            "grid_column": null,
            "grid_gap": null,
            "grid_row": null,
            "grid_template_areas": null,
            "grid_template_columns": null,
            "grid_template_rows": null,
            "height": null,
            "justify_content": null,
            "justify_items": null,
            "left": null,
            "margin": null,
            "max_height": null,
            "max_width": null,
            "min_height": null,
            "min_width": null,
            "object_fit": null,
            "object_position": null,
            "order": null,
            "overflow": null,
            "overflow_x": null,
            "overflow_y": null,
            "padding": null,
            "right": null,
            "top": null,
            "visibility": null,
            "width": null
          }
        },
        "30b05244c5b54f16b2e523d32534e271": {
          "model_module": "@jupyter-widgets/controls",
          "model_name": "ProgressStyleModel",
          "model_module_version": "1.5.0",
          "state": {
            "_model_module": "@jupyter-widgets/controls",
            "_model_module_version": "1.5.0",
            "_model_name": "ProgressStyleModel",
            "_view_count": null,
            "_view_module": "@jupyter-widgets/base",
            "_view_module_version": "1.2.0",
            "_view_name": "StyleView",
            "bar_color": null,
            "description_width": ""
          }
        },
        "724f51776b8541669ec9be1650bea4ca": {
          "model_module": "@jupyter-widgets/base",
          "model_name": "LayoutModel",
          "model_module_version": "1.2.0",
          "state": {
            "_model_module": "@jupyter-widgets/base",
            "_model_module_version": "1.2.0",
            "_model_name": "LayoutModel",
            "_view_count": null,
            "_view_module": "@jupyter-widgets/base",
            "_view_module_version": "1.2.0",
            "_view_name": "LayoutView",
            "align_content": null,
            "align_items": null,
            "align_self": null,
            "border": null,
            "bottom": null,
            "display": null,
            "flex": null,
            "flex_flow": null,
            "grid_area": null,
            "grid_auto_columns": null,
            "grid_auto_flow": null,
            "grid_auto_rows": null,
            "grid_column": null,
            "grid_gap": null,
            "grid_row": null,
            "grid_template_areas": null,
            "grid_template_columns": null,
            "grid_template_rows": null,
            "height": null,
            "justify_content": null,
            "justify_items": null,
            "left": null,
            "margin": null,
            "max_height": null,
            "max_width": null,
            "min_height": null,
            "min_width": null,
            "object_fit": null,
            "object_position": null,
            "order": null,
            "overflow": null,
            "overflow_x": null,
            "overflow_y": null,
            "padding": null,
            "right": null,
            "top": null,
            "visibility": null,
            "width": null
          }
        },
        "174d81b18faa429fb6964ecd7fc9414f": {
          "model_module": "@jupyter-widgets/controls",
          "model_name": "DescriptionStyleModel",
          "model_module_version": "1.5.0",
          "state": {
            "_model_module": "@jupyter-widgets/controls",
            "_model_module_version": "1.5.0",
            "_model_name": "DescriptionStyleModel",
            "_view_count": null,
            "_view_module": "@jupyter-widgets/base",
            "_view_module_version": "1.2.0",
            "_view_name": "StyleView",
            "description_width": ""
          }
        },
        "edc89367a76b4106a61534d28de661f8": {
          "model_module": "@jupyter-widgets/controls",
          "model_name": "HBoxModel",
          "model_module_version": "1.5.0",
          "state": {
            "_dom_classes": [],
            "_model_module": "@jupyter-widgets/controls",
            "_model_module_version": "1.5.0",
            "_model_name": "HBoxModel",
            "_view_count": null,
            "_view_module": "@jupyter-widgets/controls",
            "_view_module_version": "1.5.0",
            "_view_name": "HBoxView",
            "box_style": "",
            "children": [
              "IPY_MODEL_feecc7d49a23467da81400a42a3ddaee",
              "IPY_MODEL_ffcde004443b4d5cbc0dd6c93655ce03",
              "IPY_MODEL_6953a9e036f74ba48dda6c526f34f4e4"
            ],
            "layout": "IPY_MODEL_21485c86bfa54e6ead778c9dfd1c7a23"
          }
        },
        "feecc7d49a23467da81400a42a3ddaee": {
          "model_module": "@jupyter-widgets/controls",
          "model_name": "HTMLModel",
          "model_module_version": "1.5.0",
          "state": {
            "_dom_classes": [],
            "_model_module": "@jupyter-widgets/controls",
            "_model_module_version": "1.5.0",
            "_model_name": "HTMLModel",
            "_view_count": null,
            "_view_module": "@jupyter-widgets/controls",
            "_view_module_version": "1.5.0",
            "_view_name": "HTMLView",
            "description": "",
            "description_tooltip": null,
            "layout": "IPY_MODEL_cf03156b222d453faf4196b33d9a0d26",
            "placeholder": "​",
            "style": "IPY_MODEL_3a8dc2120f9242599e6d350a2c4810cb",
            "value": "Downloading: 100%"
          }
        },
        "ffcde004443b4d5cbc0dd6c93655ce03": {
          "model_module": "@jupyter-widgets/controls",
          "model_name": "FloatProgressModel",
          "model_module_version": "1.5.0",
          "state": {
            "_dom_classes": [],
            "_model_module": "@jupyter-widgets/controls",
            "_model_module_version": "1.5.0",
            "_model_name": "FloatProgressModel",
            "_view_count": null,
            "_view_module": "@jupyter-widgets/controls",
            "_view_module_version": "1.5.0",
            "_view_name": "ProgressView",
            "bar_style": "success",
            "description": "",
            "description_tooltip": null,
            "layout": "IPY_MODEL_5a52d90f32c04d64baff5e4d605ef466",
            "max": 891695056,
            "min": 0,
            "orientation": "horizontal",
            "style": "IPY_MODEL_2c01c920899f4100816f7b7d5d4400c6",
            "value": 891695056
          }
        },
        "6953a9e036f74ba48dda6c526f34f4e4": {
          "model_module": "@jupyter-widgets/controls",
          "model_name": "HTMLModel",
          "model_module_version": "1.5.0",
          "state": {
            "_dom_classes": [],
            "_model_module": "@jupyter-widgets/controls",
            "_model_module_version": "1.5.0",
            "_model_name": "HTMLModel",
            "_view_count": null,
            "_view_module": "@jupyter-widgets/controls",
            "_view_module_version": "1.5.0",
            "_view_name": "HTMLView",
            "description": "",
            "description_tooltip": null,
            "layout": "IPY_MODEL_1acfb0feb5214024b2cce8fa3a7f7158",
            "placeholder": "​",
            "style": "IPY_MODEL_2409102d3a6c453ea56744672c83682b",
            "value": " 850M/850M [00:40&lt;00:00, 48.5MB/s]"
          }
        },
        "21485c86bfa54e6ead778c9dfd1c7a23": {
          "model_module": "@jupyter-widgets/base",
          "model_name": "LayoutModel",
          "model_module_version": "1.2.0",
          "state": {
            "_model_module": "@jupyter-widgets/base",
            "_model_module_version": "1.2.0",
            "_model_name": "LayoutModel",
            "_view_count": null,
            "_view_module": "@jupyter-widgets/base",
            "_view_module_version": "1.2.0",
            "_view_name": "LayoutView",
            "align_content": null,
            "align_items": null,
            "align_self": null,
            "border": null,
            "bottom": null,
            "display": null,
            "flex": null,
            "flex_flow": null,
            "grid_area": null,
            "grid_auto_columns": null,
            "grid_auto_flow": null,
            "grid_auto_rows": null,
            "grid_column": null,
            "grid_gap": null,
            "grid_row": null,
            "grid_template_areas": null,
            "grid_template_columns": null,
            "grid_template_rows": null,
            "height": null,
            "justify_content": null,
            "justify_items": null,
            "left": null,
            "margin": null,
            "max_height": null,
            "max_width": null,
            "min_height": null,
            "min_width": null,
            "object_fit": null,
            "object_position": null,
            "order": null,
            "overflow": null,
            "overflow_x": null,
            "overflow_y": null,
            "padding": null,
            "right": null,
            "top": null,
            "visibility": null,
            "width": null
          }
        },
        "cf03156b222d453faf4196b33d9a0d26": {
          "model_module": "@jupyter-widgets/base",
          "model_name": "LayoutModel",
          "model_module_version": "1.2.0",
          "state": {
            "_model_module": "@jupyter-widgets/base",
            "_model_module_version": "1.2.0",
            "_model_name": "LayoutModel",
            "_view_count": null,
            "_view_module": "@jupyter-widgets/base",
            "_view_module_version": "1.2.0",
            "_view_name": "LayoutView",
            "align_content": null,
            "align_items": null,
            "align_self": null,
            "border": null,
            "bottom": null,
            "display": null,
            "flex": null,
            "flex_flow": null,
            "grid_area": null,
            "grid_auto_columns": null,
            "grid_auto_flow": null,
            "grid_auto_rows": null,
            "grid_column": null,
            "grid_gap": null,
            "grid_row": null,
            "grid_template_areas": null,
            "grid_template_columns": null,
            "grid_template_rows": null,
            "height": null,
            "justify_content": null,
            "justify_items": null,
            "left": null,
            "margin": null,
            "max_height": null,
            "max_width": null,
            "min_height": null,
            "min_width": null,
            "object_fit": null,
            "object_position": null,
            "order": null,
            "overflow": null,
            "overflow_x": null,
            "overflow_y": null,
            "padding": null,
            "right": null,
            "top": null,
            "visibility": null,
            "width": null
          }
        },
        "3a8dc2120f9242599e6d350a2c4810cb": {
          "model_module": "@jupyter-widgets/controls",
          "model_name": "DescriptionStyleModel",
          "model_module_version": "1.5.0",
          "state": {
            "_model_module": "@jupyter-widgets/controls",
            "_model_module_version": "1.5.0",
            "_model_name": "DescriptionStyleModel",
            "_view_count": null,
            "_view_module": "@jupyter-widgets/base",
            "_view_module_version": "1.2.0",
            "_view_name": "StyleView",
            "description_width": ""
          }
        },
        "5a52d90f32c04d64baff5e4d605ef466": {
          "model_module": "@jupyter-widgets/base",
          "model_name": "LayoutModel",
          "model_module_version": "1.2.0",
          "state": {
            "_model_module": "@jupyter-widgets/base",
            "_model_module_version": "1.2.0",
            "_model_name": "LayoutModel",
            "_view_count": null,
            "_view_module": "@jupyter-widgets/base",
            "_view_module_version": "1.2.0",
            "_view_name": "LayoutView",
            "align_content": null,
            "align_items": null,
            "align_self": null,
            "border": null,
            "bottom": null,
            "display": null,
            "flex": null,
            "flex_flow": null,
            "grid_area": null,
            "grid_auto_columns": null,
            "grid_auto_flow": null,
            "grid_auto_rows": null,
            "grid_column": null,
            "grid_gap": null,
            "grid_row": null,
            "grid_template_areas": null,
            "grid_template_columns": null,
            "grid_template_rows": null,
            "height": null,
            "justify_content": null,
            "justify_items": null,
            "left": null,
            "margin": null,
            "max_height": null,
            "max_width": null,
            "min_height": null,
            "min_width": null,
            "object_fit": null,
            "object_position": null,
            "order": null,
            "overflow": null,
            "overflow_x": null,
            "overflow_y": null,
            "padding": null,
            "right": null,
            "top": null,
            "visibility": null,
            "width": null
          }
        },
        "2c01c920899f4100816f7b7d5d4400c6": {
          "model_module": "@jupyter-widgets/controls",
          "model_name": "ProgressStyleModel",
          "model_module_version": "1.5.0",
          "state": {
            "_model_module": "@jupyter-widgets/controls",
            "_model_module_version": "1.5.0",
            "_model_name": "ProgressStyleModel",
            "_view_count": null,
            "_view_module": "@jupyter-widgets/base",
            "_view_module_version": "1.2.0",
            "_view_name": "StyleView",
            "bar_color": null,
            "description_width": ""
          }
        },
        "1acfb0feb5214024b2cce8fa3a7f7158": {
          "model_module": "@jupyter-widgets/base",
          "model_name": "LayoutModel",
          "model_module_version": "1.2.0",
          "state": {
            "_model_module": "@jupyter-widgets/base",
            "_model_module_version": "1.2.0",
            "_model_name": "LayoutModel",
            "_view_count": null,
            "_view_module": "@jupyter-widgets/base",
            "_view_module_version": "1.2.0",
            "_view_name": "LayoutView",
            "align_content": null,
            "align_items": null,
            "align_self": null,
            "border": null,
            "bottom": null,
            "display": null,
            "flex": null,
            "flex_flow": null,
            "grid_area": null,
            "grid_auto_columns": null,
            "grid_auto_flow": null,
            "grid_auto_rows": null,
            "grid_column": null,
            "grid_gap": null,
            "grid_row": null,
            "grid_template_areas": null,
            "grid_template_columns": null,
            "grid_template_rows": null,
            "height": null,
            "justify_content": null,
            "justify_items": null,
            "left": null,
            "margin": null,
            "max_height": null,
            "max_width": null,
            "min_height": null,
            "min_width": null,
            "object_fit": null,
            "object_position": null,
            "order": null,
            "overflow": null,
            "overflow_x": null,
            "overflow_y": null,
            "padding": null,
            "right": null,
            "top": null,
            "visibility": null,
            "width": null
          }
        },
        "2409102d3a6c453ea56744672c83682b": {
          "model_module": "@jupyter-widgets/controls",
          "model_name": "DescriptionStyleModel",
          "model_module_version": "1.5.0",
          "state": {
            "_model_module": "@jupyter-widgets/controls",
            "_model_module_version": "1.5.0",
            "_model_name": "DescriptionStyleModel",
            "_view_count": null,
            "_view_module": "@jupyter-widgets/base",
            "_view_module_version": "1.2.0",
            "_view_name": "StyleView",
            "description_width": ""
          }
        },
        "19235415b12b40a8b1c91ebeb9dc9af4": {
          "model_module": "@jupyter-widgets/controls",
          "model_name": "HBoxModel",
          "model_module_version": "1.5.0",
          "state": {
            "_dom_classes": [],
            "_model_module": "@jupyter-widgets/controls",
            "_model_module_version": "1.5.0",
            "_model_name": "HBoxModel",
            "_view_count": null,
            "_view_module": "@jupyter-widgets/controls",
            "_view_module_version": "1.5.0",
            "_view_name": "HBoxView",
            "box_style": "",
            "children": [
              "IPY_MODEL_e41bc62a9eeb4c6e9c0ea45600cd0464",
              "IPY_MODEL_8f2c7f4912f344fc856ea3f997803338",
              "IPY_MODEL_12852a8f84764b3da7a319cae82d54cd"
            ],
            "layout": "IPY_MODEL_9a33b861e2b4406682088104a8cbd588"
          }
        },
        "e41bc62a9eeb4c6e9c0ea45600cd0464": {
          "model_module": "@jupyter-widgets/controls",
          "model_name": "HTMLModel",
          "model_module_version": "1.5.0",
          "state": {
            "_dom_classes": [],
            "_model_module": "@jupyter-widgets/controls",
            "_model_module_version": "1.5.0",
            "_model_name": "HTMLModel",
            "_view_count": null,
            "_view_module": "@jupyter-widgets/controls",
            "_view_module_version": "1.5.0",
            "_view_name": "HTMLView",
            "description": "",
            "description_tooltip": null,
            "layout": "IPY_MODEL_9c253813e6f94234ae37989bfd1dfbd6",
            "placeholder": "​",
            "style": "IPY_MODEL_ed53f6a0212345f18006ef000c07cbe5",
            "value": "Downloading: 100%"
          }
        },
        "8f2c7f4912f344fc856ea3f997803338": {
          "model_module": "@jupyter-widgets/controls",
          "model_name": "FloatProgressModel",
          "model_module_version": "1.5.0",
          "state": {
            "_dom_classes": [],
            "_model_module": "@jupyter-widgets/controls",
            "_model_module_version": "1.5.0",
            "_model_name": "FloatProgressModel",
            "_view_count": null,
            "_view_module": "@jupyter-widgets/controls",
            "_view_module_version": "1.5.0",
            "_view_name": "ProgressView",
            "bar_style": "success",
            "description": "",
            "description_tooltip": null,
            "layout": "IPY_MODEL_f9009e377ddb498eb099dec0d83d6307",
            "max": 43,
            "min": 0,
            "orientation": "horizontal",
            "style": "IPY_MODEL_f407c87a951545bdb639a016235e7949",
            "value": 43
          }
        },
        "12852a8f84764b3da7a319cae82d54cd": {
          "model_module": "@jupyter-widgets/controls",
          "model_name": "HTMLModel",
          "model_module_version": "1.5.0",
          "state": {
            "_dom_classes": [],
            "_model_module": "@jupyter-widgets/controls",
            "_model_module_version": "1.5.0",
            "_model_name": "HTMLModel",
            "_view_count": null,
            "_view_module": "@jupyter-widgets/controls",
            "_view_module_version": "1.5.0",
            "_view_name": "HTMLView",
            "description": "",
            "description_tooltip": null,
            "layout": "IPY_MODEL_6208a1c73970421eb5b6adb363af9777",
            "placeholder": "​",
            "style": "IPY_MODEL_e2e7c325209a4df1a6c6f4c05ae332c9",
            "value": " 43.0/43.0 [00:00&lt;00:00, 1.07kB/s]"
          }
        },
        "9a33b861e2b4406682088104a8cbd588": {
          "model_module": "@jupyter-widgets/base",
          "model_name": "LayoutModel",
          "model_module_version": "1.2.0",
          "state": {
            "_model_module": "@jupyter-widgets/base",
            "_model_module_version": "1.2.0",
            "_model_name": "LayoutModel",
            "_view_count": null,
            "_view_module": "@jupyter-widgets/base",
            "_view_module_version": "1.2.0",
            "_view_name": "LayoutView",
            "align_content": null,
            "align_items": null,
            "align_self": null,
            "border": null,
            "bottom": null,
            "display": null,
            "flex": null,
            "flex_flow": null,
            "grid_area": null,
            "grid_auto_columns": null,
            "grid_auto_flow": null,
            "grid_auto_rows": null,
            "grid_column": null,
            "grid_gap": null,
            "grid_row": null,
            "grid_template_areas": null,
            "grid_template_columns": null,
            "grid_template_rows": null,
            "height": null,
            "justify_content": null,
            "justify_items": null,
            "left": null,
            "margin": null,
            "max_height": null,
            "max_width": null,
            "min_height": null,
            "min_width": null,
            "object_fit": null,
            "object_position": null,
            "order": null,
            "overflow": null,
            "overflow_x": null,
            "overflow_y": null,
            "padding": null,
            "right": null,
            "top": null,
            "visibility": null,
            "width": null
          }
        },
        "9c253813e6f94234ae37989bfd1dfbd6": {
          "model_module": "@jupyter-widgets/base",
          "model_name": "LayoutModel",
          "model_module_version": "1.2.0",
          "state": {
            "_model_module": "@jupyter-widgets/base",
            "_model_module_version": "1.2.0",
            "_model_name": "LayoutModel",
            "_view_count": null,
            "_view_module": "@jupyter-widgets/base",
            "_view_module_version": "1.2.0",
            "_view_name": "LayoutView",
            "align_content": null,
            "align_items": null,
            "align_self": null,
            "border": null,
            "bottom": null,
            "display": null,
            "flex": null,
            "flex_flow": null,
            "grid_area": null,
            "grid_auto_columns": null,
            "grid_auto_flow": null,
            "grid_auto_rows": null,
            "grid_column": null,
            "grid_gap": null,
            "grid_row": null,
            "grid_template_areas": null,
            "grid_template_columns": null,
            "grid_template_rows": null,
            "height": null,
            "justify_content": null,
            "justify_items": null,
            "left": null,
            "margin": null,
            "max_height": null,
            "max_width": null,
            "min_height": null,
            "min_width": null,
            "object_fit": null,
            "object_position": null,
            "order": null,
            "overflow": null,
            "overflow_x": null,
            "overflow_y": null,
            "padding": null,
            "right": null,
            "top": null,
            "visibility": null,
            "width": null
          }
        },
        "ed53f6a0212345f18006ef000c07cbe5": {
          "model_module": "@jupyter-widgets/controls",
          "model_name": "DescriptionStyleModel",
          "model_module_version": "1.5.0",
          "state": {
            "_model_module": "@jupyter-widgets/controls",
            "_model_module_version": "1.5.0",
            "_model_name": "DescriptionStyleModel",
            "_view_count": null,
            "_view_module": "@jupyter-widgets/base",
            "_view_module_version": "1.2.0",
            "_view_name": "StyleView",
            "description_width": ""
          }
        },
        "f9009e377ddb498eb099dec0d83d6307": {
          "model_module": "@jupyter-widgets/base",
          "model_name": "LayoutModel",
          "model_module_version": "1.2.0",
          "state": {
            "_model_module": "@jupyter-widgets/base",
            "_model_module_version": "1.2.0",
            "_model_name": "LayoutModel",
            "_view_count": null,
            "_view_module": "@jupyter-widgets/base",
            "_view_module_version": "1.2.0",
            "_view_name": "LayoutView",
            "align_content": null,
            "align_items": null,
            "align_self": null,
            "border": null,
            "bottom": null,
            "display": null,
            "flex": null,
            "flex_flow": null,
            "grid_area": null,
            "grid_auto_columns": null,
            "grid_auto_flow": null,
            "grid_auto_rows": null,
            "grid_column": null,
            "grid_gap": null,
            "grid_row": null,
            "grid_template_areas": null,
            "grid_template_columns": null,
            "grid_template_rows": null,
            "height": null,
            "justify_content": null,
            "justify_items": null,
            "left": null,
            "margin": null,
            "max_height": null,
            "max_width": null,
            "min_height": null,
            "min_width": null,
            "object_fit": null,
            "object_position": null,
            "order": null,
            "overflow": null,
            "overflow_x": null,
            "overflow_y": null,
            "padding": null,
            "right": null,
            "top": null,
            "visibility": null,
            "width": null
          }
        },
        "f407c87a951545bdb639a016235e7949": {
          "model_module": "@jupyter-widgets/controls",
          "model_name": "ProgressStyleModel",
          "model_module_version": "1.5.0",
          "state": {
            "_model_module": "@jupyter-widgets/controls",
            "_model_module_version": "1.5.0",
            "_model_name": "ProgressStyleModel",
            "_view_count": null,
            "_view_module": "@jupyter-widgets/base",
            "_view_module_version": "1.2.0",
            "_view_name": "StyleView",
            "bar_color": null,
            "description_width": ""
          }
        },
        "6208a1c73970421eb5b6adb363af9777": {
          "model_module": "@jupyter-widgets/base",
          "model_name": "LayoutModel",
          "model_module_version": "1.2.0",
          "state": {
            "_model_module": "@jupyter-widgets/base",
            "_model_module_version": "1.2.0",
            "_model_name": "LayoutModel",
            "_view_count": null,
            "_view_module": "@jupyter-widgets/base",
            "_view_module_version": "1.2.0",
            "_view_name": "LayoutView",
            "align_content": null,
            "align_items": null,
            "align_self": null,
            "border": null,
            "bottom": null,
            "display": null,
            "flex": null,
            "flex_flow": null,
            "grid_area": null,
            "grid_auto_columns": null,
            "grid_auto_flow": null,
            "grid_auto_rows": null,
            "grid_column": null,
            "grid_gap": null,
            "grid_row": null,
            "grid_template_areas": null,
            "grid_template_columns": null,
            "grid_template_rows": null,
            "height": null,
            "justify_content": null,
            "justify_items": null,
            "left": null,
            "margin": null,
            "max_height": null,
            "max_width": null,
            "min_height": null,
            "min_width": null,
            "object_fit": null,
            "object_position": null,
            "order": null,
            "overflow": null,
            "overflow_x": null,
            "overflow_y": null,
            "padding": null,
            "right": null,
            "top": null,
            "visibility": null,
            "width": null
          }
        },
        "e2e7c325209a4df1a6c6f4c05ae332c9": {
          "model_module": "@jupyter-widgets/controls",
          "model_name": "DescriptionStyleModel",
          "model_module_version": "1.5.0",
          "state": {
            "_model_module": "@jupyter-widgets/controls",
            "_model_module_version": "1.5.0",
            "_model_name": "DescriptionStyleModel",
            "_view_count": null,
            "_view_module": "@jupyter-widgets/base",
            "_view_module_version": "1.2.0",
            "_view_name": "StyleView",
            "description_width": ""
          }
        },
        "d719b3c5f5be4a4f86312b6bc4d78a08": {
          "model_module": "@jupyter-widgets/controls",
          "model_name": "HBoxModel",
          "model_module_version": "1.5.0",
          "state": {
            "_dom_classes": [],
            "_model_module": "@jupyter-widgets/controls",
            "_model_module_version": "1.5.0",
            "_model_name": "HBoxModel",
            "_view_count": null,
            "_view_module": "@jupyter-widgets/controls",
            "_view_module_version": "1.5.0",
            "_view_name": "HBoxView",
            "box_style": "",
            "children": [
              "IPY_MODEL_9998b0ddaba84fec98733d6f540f934c",
              "IPY_MODEL_9655ac3ed1dc44a3b2751f69e89e5aa9",
              "IPY_MODEL_76e4edf59bed4b0f9442166cfb69ad08"
            ],
            "layout": "IPY_MODEL_6e49091a0acc43eea49a133d924320f3"
          }
        },
        "9998b0ddaba84fec98733d6f540f934c": {
          "model_module": "@jupyter-widgets/controls",
          "model_name": "HTMLModel",
          "model_module_version": "1.5.0",
          "state": {
            "_dom_classes": [],
            "_model_module": "@jupyter-widgets/controls",
            "_model_module_version": "1.5.0",
            "_model_name": "HTMLModel",
            "_view_count": null,
            "_view_module": "@jupyter-widgets/controls",
            "_view_module_version": "1.5.0",
            "_view_name": "HTMLView",
            "description": "",
            "description_tooltip": null,
            "layout": "IPY_MODEL_9db180bb34a24e33b9d25652483c12d8",
            "placeholder": "​",
            "style": "IPY_MODEL_943072b32dd0443fa4eee20ed8f54505",
            "value": "Downloading: 100%"
          }
        },
        "9655ac3ed1dc44a3b2751f69e89e5aa9": {
          "model_module": "@jupyter-widgets/controls",
          "model_name": "FloatProgressModel",
          "model_module_version": "1.5.0",
          "state": {
            "_dom_classes": [],
            "_model_module": "@jupyter-widgets/controls",
            "_model_module_version": "1.5.0",
            "_model_name": "FloatProgressModel",
            "_view_count": null,
            "_view_module": "@jupyter-widgets/controls",
            "_view_module_version": "1.5.0",
            "_view_name": "ProgressView",
            "bar_style": "success",
            "description": "",
            "description_tooltip": null,
            "layout": "IPY_MODEL_c18b418838004724bcbd5eee4d0fa3a9",
            "max": 791656,
            "min": 0,
            "orientation": "horizontal",
            "style": "IPY_MODEL_095360cc81db41e18184e0ede302e6e8",
            "value": 791656
          }
        },
        "76e4edf59bed4b0f9442166cfb69ad08": {
          "model_module": "@jupyter-widgets/controls",
          "model_name": "HTMLModel",
          "model_module_version": "1.5.0",
          "state": {
            "_dom_classes": [],
            "_model_module": "@jupyter-widgets/controls",
            "_model_module_version": "1.5.0",
            "_model_name": "HTMLModel",
            "_view_count": null,
            "_view_module": "@jupyter-widgets/controls",
            "_view_module_version": "1.5.0",
            "_view_name": "HTMLView",
            "description": "",
            "description_tooltip": null,
            "layout": "IPY_MODEL_ff27f29cff514176880ecff9c35efd92",
            "placeholder": "​",
            "style": "IPY_MODEL_8e1f8b23fa83464184945ce94e1b31d6",
            "value": " 773k/773k [00:00&lt;00:00, 1.08MB/s]"
          }
        },
        "6e49091a0acc43eea49a133d924320f3": {
          "model_module": "@jupyter-widgets/base",
          "model_name": "LayoutModel",
          "model_module_version": "1.2.0",
          "state": {
            "_model_module": "@jupyter-widgets/base",
            "_model_module_version": "1.2.0",
            "_model_name": "LayoutModel",
            "_view_count": null,
            "_view_module": "@jupyter-widgets/base",
            "_view_module_version": "1.2.0",
            "_view_name": "LayoutView",
            "align_content": null,
            "align_items": null,
            "align_self": null,
            "border": null,
            "bottom": null,
            "display": null,
            "flex": null,
            "flex_flow": null,
            "grid_area": null,
            "grid_auto_columns": null,
            "grid_auto_flow": null,
            "grid_auto_rows": null,
            "grid_column": null,
            "grid_gap": null,
            "grid_row": null,
            "grid_template_areas": null,
            "grid_template_columns": null,
            "grid_template_rows": null,
            "height": null,
            "justify_content": null,
            "justify_items": null,
            "left": null,
            "margin": null,
            "max_height": null,
            "max_width": null,
            "min_height": null,
            "min_width": null,
            "object_fit": null,
            "object_position": null,
            "order": null,
            "overflow": null,
            "overflow_x": null,
            "overflow_y": null,
            "padding": null,
            "right": null,
            "top": null,
            "visibility": null,
            "width": null
          }
        },
        "9db180bb34a24e33b9d25652483c12d8": {
          "model_module": "@jupyter-widgets/base",
          "model_name": "LayoutModel",
          "model_module_version": "1.2.0",
          "state": {
            "_model_module": "@jupyter-widgets/base",
            "_model_module_version": "1.2.0",
            "_model_name": "LayoutModel",
            "_view_count": null,
            "_view_module": "@jupyter-widgets/base",
            "_view_module_version": "1.2.0",
            "_view_name": "LayoutView",
            "align_content": null,
            "align_items": null,
            "align_self": null,
            "border": null,
            "bottom": null,
            "display": null,
            "flex": null,
            "flex_flow": null,
            "grid_area": null,
            "grid_auto_columns": null,
            "grid_auto_flow": null,
            "grid_auto_rows": null,
            "grid_column": null,
            "grid_gap": null,
            "grid_row": null,
            "grid_template_areas": null,
            "grid_template_columns": null,
            "grid_template_rows": null,
            "height": null,
            "justify_content": null,
            "justify_items": null,
            "left": null,
            "margin": null,
            "max_height": null,
            "max_width": null,
            "min_height": null,
            "min_width": null,
            "object_fit": null,
            "object_position": null,
            "order": null,
            "overflow": null,
            "overflow_x": null,
            "overflow_y": null,
            "padding": null,
            "right": null,
            "top": null,
            "visibility": null,
            "width": null
          }
        },
        "943072b32dd0443fa4eee20ed8f54505": {
          "model_module": "@jupyter-widgets/controls",
          "model_name": "DescriptionStyleModel",
          "model_module_version": "1.5.0",
          "state": {
            "_model_module": "@jupyter-widgets/controls",
            "_model_module_version": "1.5.0",
            "_model_name": "DescriptionStyleModel",
            "_view_count": null,
            "_view_module": "@jupyter-widgets/base",
            "_view_module_version": "1.2.0",
            "_view_name": "StyleView",
            "description_width": ""
          }
        },
        "c18b418838004724bcbd5eee4d0fa3a9": {
          "model_module": "@jupyter-widgets/base",
          "model_name": "LayoutModel",
          "model_module_version": "1.2.0",
          "state": {
            "_model_module": "@jupyter-widgets/base",
            "_model_module_version": "1.2.0",
            "_model_name": "LayoutModel",
            "_view_count": null,
            "_view_module": "@jupyter-widgets/base",
            "_view_module_version": "1.2.0",
            "_view_name": "LayoutView",
            "align_content": null,
            "align_items": null,
            "align_self": null,
            "border": null,
            "bottom": null,
            "display": null,
            "flex": null,
            "flex_flow": null,
            "grid_area": null,
            "grid_auto_columns": null,
            "grid_auto_flow": null,
            "grid_auto_rows": null,
            "grid_column": null,
            "grid_gap": null,
            "grid_row": null,
            "grid_template_areas": null,
            "grid_template_columns": null,
            "grid_template_rows": null,
            "height": null,
            "justify_content": null,
            "justify_items": null,
            "left": null,
            "margin": null,
            "max_height": null,
            "max_width": null,
            "min_height": null,
            "min_width": null,
            "object_fit": null,
            "object_position": null,
            "order": null,
            "overflow": null,
            "overflow_x": null,
            "overflow_y": null,
            "padding": null,
            "right": null,
            "top": null,
            "visibility": null,
            "width": null
          }
        },
        "095360cc81db41e18184e0ede302e6e8": {
          "model_module": "@jupyter-widgets/controls",
          "model_name": "ProgressStyleModel",
          "model_module_version": "1.5.0",
          "state": {
            "_model_module": "@jupyter-widgets/controls",
            "_model_module_version": "1.5.0",
            "_model_name": "ProgressStyleModel",
            "_view_count": null,
            "_view_module": "@jupyter-widgets/base",
            "_view_module_version": "1.2.0",
            "_view_name": "StyleView",
            "bar_color": null,
            "description_width": ""
          }
        },
        "ff27f29cff514176880ecff9c35efd92": {
          "model_module": "@jupyter-widgets/base",
          "model_name": "LayoutModel",
          "model_module_version": "1.2.0",
          "state": {
            "_model_module": "@jupyter-widgets/base",
            "_model_module_version": "1.2.0",
            "_model_name": "LayoutModel",
            "_view_count": null,
            "_view_module": "@jupyter-widgets/base",
            "_view_module_version": "1.2.0",
            "_view_name": "LayoutView",
            "align_content": null,
            "align_items": null,
            "align_self": null,
            "border": null,
            "bottom": null,
            "display": null,
            "flex": null,
            "flex_flow": null,
            "grid_area": null,
            "grid_auto_columns": null,
            "grid_auto_flow": null,
            "grid_auto_rows": null,
            "grid_column": null,
            "grid_gap": null,
            "grid_row": null,
            "grid_template_areas": null,
            "grid_template_columns": null,
            "grid_template_rows": null,
            "height": null,
            "justify_content": null,
            "justify_items": null,
            "left": null,
            "margin": null,
            "max_height": null,
            "max_width": null,
            "min_height": null,
            "min_width": null,
            "object_fit": null,
            "object_position": null,
            "order": null,
            "overflow": null,
            "overflow_x": null,
            "overflow_y": null,
            "padding": null,
            "right": null,
            "top": null,
            "visibility": null,
            "width": null
          }
        },
        "8e1f8b23fa83464184945ce94e1b31d6": {
          "model_module": "@jupyter-widgets/controls",
          "model_name": "DescriptionStyleModel",
          "model_module_version": "1.5.0",
          "state": {
            "_model_module": "@jupyter-widgets/controls",
            "_model_module_version": "1.5.0",
            "_model_name": "DescriptionStyleModel",
            "_view_count": null,
            "_view_module": "@jupyter-widgets/base",
            "_view_module_version": "1.2.0",
            "_view_name": "StyleView",
            "description_width": ""
          }
        },
        "1d9e41b1539049d6adb678d13e931ea7": {
          "model_module": "@jupyter-widgets/controls",
          "model_name": "HBoxModel",
          "model_module_version": "1.5.0",
          "state": {
            "_dom_classes": [],
            "_model_module": "@jupyter-widgets/controls",
            "_model_module_version": "1.5.0",
            "_model_name": "HBoxModel",
            "_view_count": null,
            "_view_module": "@jupyter-widgets/controls",
            "_view_module_version": "1.5.0",
            "_view_name": "HBoxView",
            "box_style": "",
            "children": [
              "IPY_MODEL_2a9b4f65fefb4a39a94ce0705b3be991",
              "IPY_MODEL_dd5c0aea38b3493ebde8a57b78d6fd83",
              "IPY_MODEL_a94f6145166348fbaf84d644898f291c"
            ],
            "layout": "IPY_MODEL_f8959ed816fb4df29ecac39629a83252"
          }
        },
        "2a9b4f65fefb4a39a94ce0705b3be991": {
          "model_module": "@jupyter-widgets/controls",
          "model_name": "HTMLModel",
          "model_module_version": "1.5.0",
          "state": {
            "_dom_classes": [],
            "_model_module": "@jupyter-widgets/controls",
            "_model_module_version": "1.5.0",
            "_model_name": "HTMLModel",
            "_view_count": null,
            "_view_module": "@jupyter-widgets/controls",
            "_view_module_version": "1.5.0",
            "_view_name": "HTMLView",
            "description": "",
            "description_tooltip": null,
            "layout": "IPY_MODEL_640405209cc54828be3a85f51f005ce1",
            "placeholder": "​",
            "style": "IPY_MODEL_0012e68d5f8a4bf5a87c151172e096d7",
            "value": "Downloading: 100%"
          }
        },
        "dd5c0aea38b3493ebde8a57b78d6fd83": {
          "model_module": "@jupyter-widgets/controls",
          "model_name": "FloatProgressModel",
          "model_module_version": "1.5.0",
          "state": {
            "_dom_classes": [],
            "_model_module": "@jupyter-widgets/controls",
            "_model_module_version": "1.5.0",
            "_model_name": "FloatProgressModel",
            "_view_count": null,
            "_view_module": "@jupyter-widgets/controls",
            "_view_module_version": "1.5.0",
            "_view_name": "ProgressView",
            "bar_style": "success",
            "description": "",
            "description_tooltip": null,
            "layout": "IPY_MODEL_eaa162319be542c999c8e6e54b4dc264",
            "max": 1786,
            "min": 0,
            "orientation": "horizontal",
            "style": "IPY_MODEL_8116a723c087479b84a9fd876795998b",
            "value": 1786
          }
        },
        "a94f6145166348fbaf84d644898f291c": {
          "model_module": "@jupyter-widgets/controls",
          "model_name": "HTMLModel",
          "model_module_version": "1.5.0",
          "state": {
            "_dom_classes": [],
            "_model_module": "@jupyter-widgets/controls",
            "_model_module_version": "1.5.0",
            "_model_name": "HTMLModel",
            "_view_count": null,
            "_view_module": "@jupyter-widgets/controls",
            "_view_module_version": "1.5.0",
            "_view_name": "HTMLView",
            "description": "",
            "description_tooltip": null,
            "layout": "IPY_MODEL_d5b56f5cd82449778bb17fa7313397fb",
            "placeholder": "​",
            "style": "IPY_MODEL_8556491d327341e7841d544c66f196b5",
            "value": " 1.74k/1.74k [00:00&lt;00:00, 46.6kB/s]"
          }
        },
        "f8959ed816fb4df29ecac39629a83252": {
          "model_module": "@jupyter-widgets/base",
          "model_name": "LayoutModel",
          "model_module_version": "1.2.0",
          "state": {
            "_model_module": "@jupyter-widgets/base",
            "_model_module_version": "1.2.0",
            "_model_name": "LayoutModel",
            "_view_count": null,
            "_view_module": "@jupyter-widgets/base",
            "_view_module_version": "1.2.0",
            "_view_name": "LayoutView",
            "align_content": null,
            "align_items": null,
            "align_self": null,
            "border": null,
            "bottom": null,
            "display": null,
            "flex": null,
            "flex_flow": null,
            "grid_area": null,
            "grid_auto_columns": null,
            "grid_auto_flow": null,
            "grid_auto_rows": null,
            "grid_column": null,
            "grid_gap": null,
            "grid_row": null,
            "grid_template_areas": null,
            "grid_template_columns": null,
            "grid_template_rows": null,
            "height": null,
            "justify_content": null,
            "justify_items": null,
            "left": null,
            "margin": null,
            "max_height": null,
            "max_width": null,
            "min_height": null,
            "min_width": null,
            "object_fit": null,
            "object_position": null,
            "order": null,
            "overflow": null,
            "overflow_x": null,
            "overflow_y": null,
            "padding": null,
            "right": null,
            "top": null,
            "visibility": null,
            "width": null
          }
        },
        "640405209cc54828be3a85f51f005ce1": {
          "model_module": "@jupyter-widgets/base",
          "model_name": "LayoutModel",
          "model_module_version": "1.2.0",
          "state": {
            "_model_module": "@jupyter-widgets/base",
            "_model_module_version": "1.2.0",
            "_model_name": "LayoutModel",
            "_view_count": null,
            "_view_module": "@jupyter-widgets/base",
            "_view_module_version": "1.2.0",
            "_view_name": "LayoutView",
            "align_content": null,
            "align_items": null,
            "align_self": null,
            "border": null,
            "bottom": null,
            "display": null,
            "flex": null,
            "flex_flow": null,
            "grid_area": null,
            "grid_auto_columns": null,
            "grid_auto_flow": null,
            "grid_auto_rows": null,
            "grid_column": null,
            "grid_gap": null,
            "grid_row": null,
            "grid_template_areas": null,
            "grid_template_columns": null,
            "grid_template_rows": null,
            "height": null,
            "justify_content": null,
            "justify_items": null,
            "left": null,
            "margin": null,
            "max_height": null,
            "max_width": null,
            "min_height": null,
            "min_width": null,
            "object_fit": null,
            "object_position": null,
            "order": null,
            "overflow": null,
            "overflow_x": null,
            "overflow_y": null,
            "padding": null,
            "right": null,
            "top": null,
            "visibility": null,
            "width": null
          }
        },
        "0012e68d5f8a4bf5a87c151172e096d7": {
          "model_module": "@jupyter-widgets/controls",
          "model_name": "DescriptionStyleModel",
          "model_module_version": "1.5.0",
          "state": {
            "_model_module": "@jupyter-widgets/controls",
            "_model_module_version": "1.5.0",
            "_model_name": "DescriptionStyleModel",
            "_view_count": null,
            "_view_module": "@jupyter-widgets/base",
            "_view_module_version": "1.2.0",
            "_view_name": "StyleView",
            "description_width": ""
          }
        },
        "eaa162319be542c999c8e6e54b4dc264": {
          "model_module": "@jupyter-widgets/base",
          "model_name": "LayoutModel",
          "model_module_version": "1.2.0",
          "state": {
            "_model_module": "@jupyter-widgets/base",
            "_model_module_version": "1.2.0",
            "_model_name": "LayoutModel",
            "_view_count": null,
            "_view_module": "@jupyter-widgets/base",
            "_view_module_version": "1.2.0",
            "_view_name": "LayoutView",
            "align_content": null,
            "align_items": null,
            "align_self": null,
            "border": null,
            "bottom": null,
            "display": null,
            "flex": null,
            "flex_flow": null,
            "grid_area": null,
            "grid_auto_columns": null,
            "grid_auto_flow": null,
            "grid_auto_rows": null,
            "grid_column": null,
            "grid_gap": null,
            "grid_row": null,
            "grid_template_areas": null,
            "grid_template_columns": null,
            "grid_template_rows": null,
            "height": null,
            "justify_content": null,
            "justify_items": null,
            "left": null,
            "margin": null,
            "max_height": null,
            "max_width": null,
            "min_height": null,
            "min_width": null,
            "object_fit": null,
            "object_position": null,
            "order": null,
            "overflow": null,
            "overflow_x": null,
            "overflow_y": null,
            "padding": null,
            "right": null,
            "top": null,
            "visibility": null,
            "width": null
          }
        },
        "8116a723c087479b84a9fd876795998b": {
          "model_module": "@jupyter-widgets/controls",
          "model_name": "ProgressStyleModel",
          "model_module_version": "1.5.0",
          "state": {
            "_model_module": "@jupyter-widgets/controls",
            "_model_module_version": "1.5.0",
            "_model_name": "ProgressStyleModel",
            "_view_count": null,
            "_view_module": "@jupyter-widgets/base",
            "_view_module_version": "1.2.0",
            "_view_name": "StyleView",
            "bar_color": null,
            "description_width": ""
          }
        },
        "d5b56f5cd82449778bb17fa7313397fb": {
          "model_module": "@jupyter-widgets/base",
          "model_name": "LayoutModel",
          "model_module_version": "1.2.0",
          "state": {
            "_model_module": "@jupyter-widgets/base",
            "_model_module_version": "1.2.0",
            "_model_name": "LayoutModel",
            "_view_count": null,
            "_view_module": "@jupyter-widgets/base",
            "_view_module_version": "1.2.0",
            "_view_name": "LayoutView",
            "align_content": null,
            "align_items": null,
            "align_self": null,
            "border": null,
            "bottom": null,
            "display": null,
            "flex": null,
            "flex_flow": null,
            "grid_area": null,
            "grid_auto_columns": null,
            "grid_auto_flow": null,
            "grid_auto_rows": null,
            "grid_column": null,
            "grid_gap": null,
            "grid_row": null,
            "grid_template_areas": null,
            "grid_template_columns": null,
            "grid_template_rows": null,
            "height": null,
            "justify_content": null,
            "justify_items": null,
            "left": null,
            "margin": null,
            "max_height": null,
            "max_width": null,
            "min_height": null,
            "min_width": null,
            "object_fit": null,
            "object_position": null,
            "order": null,
            "overflow": null,
            "overflow_x": null,
            "overflow_y": null,
            "padding": null,
            "right": null,
            "top": null,
            "visibility": null,
            "width": null
          }
        },
        "8556491d327341e7841d544c66f196b5": {
          "model_module": "@jupyter-widgets/controls",
          "model_name": "DescriptionStyleModel",
          "model_module_version": "1.5.0",
          "state": {
            "_model_module": "@jupyter-widgets/controls",
            "_model_module_version": "1.5.0",
            "_model_name": "DescriptionStyleModel",
            "_view_count": null,
            "_view_module": "@jupyter-widgets/base",
            "_view_module_version": "1.2.0",
            "_view_name": "StyleView",
            "description_width": ""
          }
        }
      }
    }
  },
  "cells": [
    {
      "cell_type": "markdown",
      "metadata": {
        "id": "view-in-github",
        "colab_type": "text"
      },
      "source": [
        "<a href=\"https://colab.research.google.com/github/flora0110/podcast_segment_headine/blob/main/podcast_to_headline_del_spon_podcast_complete.ipynb\" target=\"_parent\"><img src=\"https://colab.research.google.com/assets/colab-badge.svg\" alt=\"Open In Colab\"/></a>"
      ]
    },
    {
      "cell_type": "markdown",
      "source": [
        "# Textsplit"
      ],
      "metadata": {
        "id": "gKH2OWuXr3Oc"
      }
    },
    {
      "cell_type": "code",
      "execution_count": 1,
      "metadata": {
        "colab": {
          "base_uri": "https://localhost:8080/"
        },
        "id": "ZtpEpr1erfko",
        "outputId": "4856e088-63f8-4d96-905b-3d91dde29f69"
      },
      "outputs": [
        {
          "output_type": "stream",
          "name": "stdout",
          "text": [
            "Collecting word2vec\n",
            "  Downloading word2vec-0.11.1.tar.gz (42 kB)\n",
            "\u001b[?25l\r\u001b[K     |███████▊                        | 10 kB 19.6 MB/s eta 0:00:01\r\u001b[K     |███████████████▌                | 20 kB 13.1 MB/s eta 0:00:01\r\u001b[K     |███████████████████████▎        | 30 kB 9.8 MB/s eta 0:00:01\r\u001b[K     |███████████████████████████████ | 40 kB 4.7 MB/s eta 0:00:01\r\u001b[K     |████████████████████████████████| 42 kB 799 kB/s \n",
            "\u001b[?25h  Installing build dependencies ... \u001b[?25l\u001b[?25hdone\n",
            "  Getting requirements to build wheel ... \u001b[?25l\u001b[?25hdone\n",
            "    Preparing wheel metadata ... \u001b[?25l\u001b[?25hdone\n",
            "Requirement already satisfied: joblib in /usr/local/lib/python3.7/dist-packages (from word2vec) (1.1.0)\n",
            "Requirement already satisfied: numpy>=1.9.2 in /usr/local/lib/python3.7/dist-packages (from word2vec) (1.21.6)\n",
            "Building wheels for collected packages: word2vec\n",
            "  Building wheel for word2vec (PEP 517) ... \u001b[?25l\u001b[?25hdone\n",
            "  Created wheel for word2vec: filename=word2vec-0.11.1-py2.py3-none-any.whl size=156420 sha256=c3b7df51354246a7e4d6a43d5b0845870dbf664a29ab7d2b03a060fbc34c0d35\n",
            "  Stored in directory: /root/.cache/pip/wheels/c9/c0/d4/29d797817e268124a32b6cf8beb8b8fe87b86f099d5a049e61\n",
            "Successfully built word2vec\n",
            "Installing collected packages: word2vec\n",
            "Successfully installed word2vec-0.11.1\n"
          ]
        }
      ],
      "source": [
        "!pip install word2vec"
      ]
    },
    {
      "cell_type": "code",
      "source": [
        "import os\n",
        "from gensim.models import word2vec\n",
        "import pandas as pd\n",
        "import numpy as np\n",
        "from sklearn.feature_extraction.text import CountVectorizer"
      ],
      "metadata": {
        "id": "IhACuETwsAZy"
      },
      "execution_count": 2,
      "outputs": []
    },
    {
      "cell_type": "markdown",
      "source": [
        "## Download toy corpus for wordvector training and example text"
      ],
      "metadata": {
        "id": "-fDUTHDJsOFK"
      }
    },
    {
      "cell_type": "code",
      "source": [
        "corpus_path = './text8'  # be sure your corpus is cleaned from punctuation and lowercased\n",
        "if not os.path.exists(corpus_path):\n",
        "    !wget http://mattmahoney.net/dc/text8.zip\n",
        "    !unzip {corpus_path}"
      ],
      "metadata": {
        "id": "yW89tWVysQOZ",
        "colab": {
          "base_uri": "https://localhost:8080/"
        },
        "outputId": "f4a169ce-039b-4a07-ec83-de598aaecb07"
      },
      "execution_count": 3,
      "outputs": [
        {
          "output_type": "stream",
          "name": "stdout",
          "text": [
            "--2022-04-30 22:22:14--  http://mattmahoney.net/dc/text8.zip\n",
            "Resolving mattmahoney.net (mattmahoney.net)... 67.195.197.24\n",
            "Connecting to mattmahoney.net (mattmahoney.net)|67.195.197.24|:80... connected.\n",
            "HTTP request sent, awaiting response... 200 OK\n",
            "Length: 31344016 (30M) [application/zip]\n",
            "Saving to: ‘text8.zip’\n",
            "\n",
            "text8.zip           100%[===================>]  29.89M  2.04MB/s    in 15s     \n",
            "\n",
            "2022-04-30 22:22:29 (2.04 MB/s) - ‘text8.zip’ saved [31344016/31344016]\n",
            "\n",
            "Archive:  ./text8.zip\n",
            "  inflating: text8                   \n"
          ]
        }
      ]
    },
    {
      "cell_type": "code",
      "source": [
        "links = {'podcast_text': 'https://raw.githubusercontent.com/grace-boop/podcast/main/flora_podcast'}  # siddartha\n",
        "\n",
        "for link in links.values():\n",
        "    text_path = os.path.basename(link)\n",
        "    if not os.path.exists(text_path):\n",
        "        !wget {link}"
      ],
      "metadata": {
        "id": "ZuUN-5ITzk8F",
        "colab": {
          "base_uri": "https://localhost:8080/"
        },
        "outputId": "2bcb28be-1c5f-4b19-d2f1-d0c1303d4192"
      },
      "execution_count": 4,
      "outputs": [
        {
          "output_type": "stream",
          "name": "stdout",
          "text": [
            "--2022-04-30 22:22:31--  https://raw.githubusercontent.com/grace-boop/podcast/main/flora_podcast\n",
            "Resolving raw.githubusercontent.com (raw.githubusercontent.com)... 185.199.108.133, 185.199.109.133, 185.199.110.133, ...\n",
            "Connecting to raw.githubusercontent.com (raw.githubusercontent.com)|185.199.108.133|:443... connected.\n",
            "HTTP request sent, awaiting response... 200 OK\n",
            "Length: 13074 (13K) [text/plain]\n",
            "Saving to: ‘flora_podcast’\n",
            "\n",
            "flora_podcast       100%[===================>]  12.77K  --.-KB/s    in 0s      \n",
            "\n",
            "2022-04-30 22:22:31 (89.1 MB/s) - ‘flora_podcast’ saved [13074/13074]\n",
            "\n"
          ]
        }
      ]
    },
    {
      "cell_type": "markdown",
      "source": [
        "## Train wordvectors"
      ],
      "metadata": {
        "id": "yeEijQ0ttOvr"
      }
    },
    {
      "cell_type": "code",
      "source": [
        "import logging\n",
        "wrdvec_path = 'wrdvecs.bin'\n",
        "if not os.path.exists(wrdvec_path):\n",
        "  sentences = word2vec.Text8Corpus('./text8')\n",
        "  model = word2vec.Word2Vec(sentences, cbow_mean=1, iter=5, hs=1, sample=0.00001, window=15, size=200)"
      ],
      "metadata": {
        "id": "W18gaxqMtRfK"
      },
      "execution_count": 5,
      "outputs": []
    },
    {
      "cell_type": "code",
      "source": [
        "model.save(wrdvec_path)"
      ],
      "metadata": {
        "id": "kllPGhebtdv0"
      },
      "execution_count": 6,
      "outputs": []
    },
    {
      "cell_type": "code",
      "source": [
        "model = word2vec.Word2Vec.load(wrdvec_path)\n",
        "wrdvecs = pd.DataFrame(model.wv.vectors, index=model.wv.vocab)"
      ],
      "metadata": {
        "id": "azdJN5OUtg4q"
      },
      "execution_count": 7,
      "outputs": []
    },
    {
      "cell_type": "markdown",
      "source": [
        "## get sentence tokenizer"
      ],
      "metadata": {
        "id": "8MZoiGawtn5M"
      }
    },
    {
      "cell_type": "code",
      "source": [
        "!pip install textsplit"
      ],
      "metadata": {
        "id": "1LQZtqFjtp-s",
        "outputId": "1b94c4f7-fa2c-45e4-d22f-62e94141d684",
        "colab": {
          "base_uri": "https://localhost:8080/"
        }
      },
      "execution_count": 8,
      "outputs": [
        {
          "output_type": "stream",
          "name": "stdout",
          "text": [
            "Collecting textsplit\n",
            "  Downloading textsplit-0.5-py3-none-any.whl (9.6 kB)\n",
            "Requirement already satisfied: numpy>=1.13.1 in /usr/local/lib/python3.7/dist-packages (from textsplit) (1.21.6)\n",
            "Collecting nose>=1.3.7\n",
            "  Downloading nose-1.3.7-py3-none-any.whl (154 kB)\n",
            "\u001b[K     |████████████████████████████████| 154 kB 5.4 MB/s \n",
            "\u001b[?25hInstalling collected packages: nose, textsplit\n",
            "Successfully installed nose-1.3.7 textsplit-0.5\n"
          ]
        }
      ]
    },
    {
      "cell_type": "code",
      "source": [
        "from textsplit.tools import SimpleSentenceTokenizer\n",
        "sentence_tokenizer = SimpleSentenceTokenizer()"
      ],
      "metadata": {
        "id": "nCqbCLb4tre6"
      },
      "execution_count": 9,
      "outputs": []
    },
    {
      "cell_type": "markdown",
      "source": [
        "## run get_penalty and split_optimal"
      ],
      "metadata": {
        "id": "TwRHiwHlt7Oy"
      }
    },
    {
      "cell_type": "code",
      "source": [
        "%matplotlib inline\n",
        "from textsplit.tools import get_penalty, get_segments\n",
        "from textsplit.algorithm import split_optimal, split_greedy, get_total"
      ],
      "metadata": {
        "id": "RNI8RZOGt68T"
      },
      "execution_count": 10,
      "outputs": []
    },
    {
      "cell_type": "markdown",
      "source": [
        "### podcast"
      ],
      "metadata": {
        "id": "t-EySFDdwZ3U"
      }
    },
    {
      "cell_type": "code",
      "source": [
        "#@title segment target length in sentences { display-mode: \"form\" }\n",
        "segment_len =  25#@param {type:\"integer\"}"
      ],
      "metadata": {
        "id": "paSWEfbGv0-t"
      },
      "execution_count": 11,
      "outputs": []
    },
    {
      "cell_type": "code",
      "source": [
        "link = links['podcast_text']\n",
        "book_path = os.path.basename(link)\n",
        "\n",
        "with open(book_path, 'rt') as f:\n",
        "    text = f.read()  #.replace('\\n', ' ')  # punkt tokenizer handles newlines not so nice\n",
        "\n",
        "sentenced_text = sentence_tokenizer(text)\n",
        "strs = \" \"\n",
        "for i in range(len(sentenced_text)):\n",
        "  if(sentenced_text[i] != \" \"):\n",
        "    strs =sentenced_text[i]\n",
        "  if(i+1<len(sentenced_text)):\n",
        "    if(strs == sentenced_text[i+1]):\n",
        "      sentenced_text[i+1]=\" \"\n",
        "vecr = CountVectorizer(vocabulary=wrdvecs.index)\n",
        "\n",
        "sentence_vectors = vecr.transform(sentenced_text).dot(wrdvecs)\n",
        "\n",
        "penalty = get_penalty([sentence_vectors], segment_len)\n",
        "print('penalty %4.2f' % penalty)\n",
        "\n",
        "optimal_segmentation = split_optimal(sentence_vectors, penalty, seg_limit=250)\n",
        "segmented_text = get_segments(sentenced_text, optimal_segmentation)\n",
        "\n",
        "print('%d sentences, %d segments, avg %4.2f sentences per segment' % (\n",
        "    len(sentenced_text), len(segmented_text), len(sentenced_text) / len(segmented_text)))\n",
        "\n",
        "with open(book_path + '.seg', 'wt') as f:\n",
        "    for i, segment_sentences in enumerate(segmented_text):\n",
        "        segment_str = ' // '.join(segment_sentences)\n",
        "        gain = optimal_segmentation.gains[i] if i < len(segmented_text) - 1 else 0\n",
        "        segment_info = ' [%d sentences, %4.3f] ' % (len(segment_sentences), gain) \n",
        "        print(segment_str + '\\n8<' + '=' * 30 + segment_info + \"=\" * 30, file=f)\n",
        "\n",
        "greedy_segmentation = split_greedy(sentence_vectors, max_splits=len(optimal_segmentation.splits))\n",
        "greedy_segmented_text = get_segments(sentenced_text, greedy_segmentation)\n",
        "lengths_optimal = [len(segment) for segment in segmented_text for sentence in segment]\n",
        "lengths_greedy = [len(segment) for segment in greedy_segmented_text for sentence in segment]\n",
        "df = pd.DataFrame({'greedy':lengths_greedy, 'optimal': lengths_optimal})\n",
        "df.plot.line(figsize=(18, 3), title='Segment lenghts over text')\n",
        "df.plot.hist(bins=30, alpha=0.5, figsize=(10, 3), title='Histogram of segment lengths')\n",
        "\n",
        "totals = [get_total(sentence_vectors, seg.splits, penalty) \n",
        "          for seg in [optimal_segmentation, greedy_segmentation]]\n",
        "print('optimal score %4.2f, greedy score %4.2f' % tuple(totals))\n",
        "print(totals)\n",
        "print(tuple(totals))\n",
        "print('ratio of scores %5.4f' % (totals[0] / totals[1]))"
      ],
      "metadata": {
        "colab": {
          "base_uri": "https://localhost:8080/",
          "height": 547
        },
        "id": "0saLwQ6huDLq",
        "outputId": "329799a4-0a0f-4e6a-cc43-0365c8354198"
      },
      "execution_count": 12,
      "outputs": [
        {
          "output_type": "stream",
          "name": "stdout",
          "text": [
            "penalty 42.46\n",
            "166 sentences, 9 segments, avg 18.44 sentences per segment\n",
            "optimal score 4695.00, greedy score 4670.26\n",
            "[4695.003641359826, 4670.2623081657475]\n",
            "(4695.003641359826, 4670.2623081657475)\n",
            "ratio of scores 1.0053\n"
          ]
        },
        {
          "output_type": "display_data",
          "data": {
            "text/plain": [
              "<Figure size 1296x216 with 1 Axes>"
            ],
            "image/png": "[encoded data removed]"
          },
          "metadata": {
            "needs_background": "light"
          }
        },
        {
          "output_type": "display_data",
          "data": {
            "text/plain": [
              "<Figure size 720x216 with 1 Axes>"
            ],
            "image/png": "[encoded data removed]"
          },
          "metadata": {
            "needs_background": "light"
          }
        }
      ]
    },
    {
      "cell_type": "markdown",
      "source": [
        "#### 顯示分段"
      ],
      "metadata": {
        "id": "zqp55X5LyUdd"
      }
    },
    {
      "cell_type": "code",
      "source": [
        "for i in range(len(segmented_text)):\n",
        "  print(segmented_text[i])"
      ],
      "metadata": {
        "colab": {
          "base_uri": "https://localhost:8080/"
        },
        "id": "Rsb59khayAck",
        "outputId": "f6cffdc2-e3d1-446e-b2da-841d99fb878c"
      },
      "execution_count": 13,
      "outputs": [
        {
          "output_type": "stream",
          "name": "stdout",
          "text": [
            "[\" Even thinking about starting your podcast even obsessing about the idea for months and years ahead or you're overwhelmed by all the different technical stuff that goes into starting a podcast. \", \"Well, and we're going to show you the four different ways. \", 'You can start your podcast this year. ', 'Hey, welcome to the Pod, sounds cool. ', \"I'm Studio. \", \"Steve, it weird podcast coaches podcast producers and we've helped dozens of clients and hundreds of students to get some really amazing results, their podcast, and we want to do the same for you and us video. \", \"We're going to show you the four different ways. \", 'You can start your podcast from the very basic to a professional level. ', \"And we're going to show you also the pros and cons of each option. \", 'By the end of this video. ', \"You're going to know everything you need to know in order to start your podcast today. \", 'We are going to cover a lot in this video. ', 'So make sure you stick around until the end. ', 'And for those of you who like to skip ahead, we left some time stamps in the description below of each of the topics will be covering the different ways that we can create a podcast thing works. ', 'How do we get the audio files from our phones? ', 'Or computers, all the way up to Google podcasts. ', 'Apple podcasts in Spotify about podcasting. ', 'Is it the podcast directories like Apple, and Google and Spotify. ', \"They don't actually hold your MP3 file. \", 'Actually need to upload your MP3 file. ', 'To would call the podcast host, has all the information regarding your podcast, your podcast, cover art. ', 'And your episodes are worth a screenshot of us uploading. ', 'One of our Pottstown School podcast episodes to our podcast host simplecast. ', 'We add a title, we had episode description, some episode artwork, and some key words. ', 'Once we update it, here. ', 'It is. ', 'Updated to all of the podcast directories via something called an RSS feed. ', 'What do you have at least one episode, you can distribute your podcast to the different podcast directories using this RSS link. ', 'This link will go to the different podcast directories and it will automatically update your podcast. ', 'Every time you post a new episode is. ', 'So hopefully that helps the whole thing. ']\n",
            "['Makes sense to you a little bit more. ', \"Don't worry? \", \"Just get a podcast host and it'll all make sense as you start uploading episodes, and before we get into the four, Ways that you can start your podcast today? \", \"Because we're podcast coaches. \", \"We couldn't let you just jump into starting a podcast without at least. \", 'Sharing 3 really important tips that you keep in mind before starting your podcast. ', 'Cuz we want to said you have for success to take. ', 'Number one would be to do a preliminary name check. ', \"You don't want to use the same name that all the podcast out of using, you want to be original. \", 'And also, you want your name to be easy to spell and easy to pronounce and took number to take the time to listen to some other podcasts that are similar in topic and find ways that you can bring your secret sauce and that you can be different and stand out. ', 'I like to make a list of what I like about the podcast. ', \"And what I don't like about the podcast bad. \", \"We don't want you to get discouraged. \", 'If you find that there are other podcast doing. ', \"While you're thinking about doing remember that this is your podcast and you're going to bring your personality and your creativity, and your uniqueness, to this project, make a list of all of your passions and all of the topics you be interested in covering. \", 'Sometimes. ', \"It's good to make sure that you have a topic, you can talk about 4 hours. \", 'Jean and that you would never get bored of make a list of all of those things that can be really helpful for coming up with episode ideas. ', 'And for your podcast idea in general. ', 'Do you know what you guys are planning? ']\n",
            "['And if you need more help with finding the right topic for you, I have this video right here taking you through the exact steps. ', 'I take my clients and students to find the right topic for them. ', 'Now. ', \"Let's talk about the different ways. \", 'You can start your podcast so you can decide which one is right for you. ', 'Number one. ', 'You can start your podcast, using your smartphone really popular option that a lot of people are getting into podcast using, we recommend to apps for this that you can get on your smartphone, either Apple or Android phones and that is Anchor FM or spreaker studio. ', 'And then from there, distributed to the different podcast directory, have a lot of really cool options and little bells and whistles on them. ', 'The anchor app is our favorite and it allows you to do minor edits. ', 'You can cut out big Songs in the middle of your performance. ', \"If it wasn't good. \", \"You can also trim the beginning in the end, but that's about it with the editing. \", \"So it's important to know that you're not really going to be able to do any advanced editing or any kind of professional editing or control any of this accuser, the compression or any of that fancy professional stuff actually on your phone. \", \"And as you can imagine the microphones on your phone aren't as great sounding as some of the professional podcasting microphone out there. \", 'This is a good solution. ', \"If you are new to podcasting and you don't want to invest a lot of money and equipment, and you're not sure if podcasting is your saying, so this is a low-risk glow investment way for you to start your product and you actually be surprised with the results. \", 'You can get. ', \"Lastly, the other really cool thing about the anchor app is it comes with a bunch of royalty free music, you can use and it's owned by Spotify. \", 'So right, when you publish your first episode usually within minutes your podcast will go live on Spotify songs. ', 'You can plug into your smartphone to make the sound quality even better yet. ', 'The whole playlist that we did all about smartphone podcasting that you can find right here. ', 'If you think this is the option that you want to start with your computer and are using my. ']\n",
            "[\"Yeah, and this is probably the most popular option for independent podcasters, because USB microphones, are affordable, and they sound really good, and you don't need to get an audio interface. \", \"All you have to do is plug it into your computer and you're ready to go. \", 'So, our big to recommendations for USB microphones, are the stamps and cute to you and the Audio Technica atr2100 X. ', \"Both of these are great sounding microphones and they're also upgradable when we move on to option number 3, which were not to you. \", 'And in addition to a USB microphone. ', 'You are also going to need to download an audio editing software onto your computer. ', \"There's a lot of different options ranging from free to very expensive here by all-around best. \", 'Top choice for independent podcasters is Reaper and you could download Reaper for free and try it free for 60 days. ', 'The one-time $60 after that he also hear a lot of people recommend audacity, which is a free diw. ', 'But I would really recommend that you steer clear from audacity. ', \"It really just causes a lot of headache and it's worth the $60 to just get a better vaw from the beginning. \", \"If you're stuck and and really want to stick to a free option. \"]\n",
            "['I would say GarageBand better than even better than GarageBand would be Pro Tools. ', 'First. ', 'The Pro Tools, first takes a lot longer to learn then Reaper. ', 'So the way you set this up is pretty simple. ', \"In this illustration here Veronica's, using the Samson q2u. \"]\n",
            "[\"She's going to plug it directly into the computer. \", \"Then all she has to do is open up Reaper set up a track and press record when she's done recording. \", 'She can press stop. ', 'She can she can, she can add music? ', 'And then finally she can export this recording as an MP3 to share with her podcast host. ']\n",
            "[\"I don't want you to feel Still, technically challenged and I learned how to edit a podcast. \", \"And I've seen my students in client's learning how to edit their own pasta is going to have to take a few hours to get familiar with how it works. \", \"And it first, it can seem like you're moving so slow and it could be painful and you want to pull out your hair, but just stick with it, a little practice and you will be up and running in no time. \", \"I spent many years teaching people how to use the alw's and I've developed a really fun learning style that cuts through all the BS and just teaches you what you need to know right now to get started. \", 'We have some videos here on our Channel, you can watch about Reaper and I also put together a free 40-minute training, all about editing a podcast and getting going in Reaper. ', 'You can find that by going to Pottstown School. ', 'Com training and grab your seat for that pre-training option. ']\n",
            "['Number 3, you can use them XLR microphone and an audio interface and this is where we get into professional podcast into people being intimidated by podcasting. ', 'Not that complicated. ', 'Once you break it down. ', \"So the first thing you're going to need is an XLR microphone. \", \"We call it an XLR microphone because that's the output of the microphone is an XLR cable is what you would plug into it. \", 'For this. ', 'We have to top picks for those on a budget. ', 'We really liked the shirt sm58. ', 'Is that classic vocal microphone? ', 'And then next we really liked the shirt sm70. ', 'This is a really classic podcasting microphone used by many professional podcasters. ', \"Once you've chosen a microphone, then you'll need to choose an audio interface. \", 'There are tons of audio interfaces. ', 'Many that sound really good. ', 'Ranging from pretty cheap too. ', 'Very expensive, but my top recommendations for podcasters of all budgets is the focusrite Scarlett to I to this has two inputs. ', 'You can record two microphones at the same time, but Scarlett also has a single in the option. ', \"That's even cheaper. \", \"If you know that you're only ever going to be using one microphone or has it for him. \", 'Put option. ', \"If you're going to be using more than two microphones do in this illustration Veronica's, going to use the Scarlet to I-20 and simply plug. \", 'Into the USB input on her computer. ', 'Now all she needs to do is plug a microphone into the focusrite. ', \"So she'll use an XLR cable. \", 'Put one end into the microphone and the other end of the cable Shield plug into the Focus. ', 'Right? ', \"And you'll see she chose input number one and right next to input. \", 'Number one. ', \"There's a game. \", 'This knob allows us to adjust volume or the gain of the microphone. ', 'Usually with dynamic microphone. ', \"We're going to want to crank this knob pretty much as high as it goes. \", \"And that's a good place to start. \", 'Now much like she did with the USB microphone. ']\n",
            "[\"All she has to do is open up Reaper, set up, a track and press record, and she's recording some sweet podcast vocals, for our last option. \", 'Video podcasting, video podcasting is becoming more and more popular among podcasters. ', 'You are already recording your voice and you have your podcast episode. ', 'The only thing you need to do throughout it camera. ', 'This will allow you to record different videos that can go on different platforms. ', \"They can go here on YouTube or on your social media and it's the ultimate con. \", 'Repurposing for you or fight. ', 'That be so it. ', \"Yes, but this is also the most complex way to podcast, but we couldn't let you go without telling you more about it. \", 'So this really just requires three more elements to your podcast, set up. ', 'The first one like Veronica mentioned, is it camera? ', 'Most people will start with just using the camera on their phone. ', 'We have very impressive cameras on their phones nowadays or the camera on your laptop or on your computer. ', 'And then you can upgrade to a webcam or a more professional camera. ', \"Then you're also going to want to pick up some lighting. \", 'We really like reading lights, reading, lights blast, all the Shadows off of your face, and help you to look more youthful and beautiful. ', 'And I can help you to feel more confident on camera. ', \"And then after that, you're also going to need to pick up some video editing software to actually be able to edit the video together, but this is a great way like Veronica said, to repurpose your podcast and it can be a bit intimidating, a great option, but we don't want you to get too overwhelmed with recording your pockets and recording video at the same time. \", \"Specially if you're new to both the important thing is for you to start to start podcasting to get into Podcasting fits, you put your ideas out there and to start reading content, no more procrastination. \", 'Come out of the gate with your podcast. ', \"You got us here to help you if you haven't subscribe to our Channel yet. \", 'Do so. ', 'Now we post really fun podcasting videos, every week here on our Channel. ', \"Also, don't forget that we've left the link to all the gear. \", 'We talked about the microphones USB microphones, everything you can find the link in the description of this video and also to be able to have an audience even before launching your podcast. ', \"And for this, we have a free training and it's called the smart way to launch your podcast. \", 'You can snag your seed by going to podcast is more that comes to things. ', \"That would be Vanessa club that area and don't forget to like And subscribe to our Channel. \", 'Germany accessories shoes. ', 'Do you want a pair of shoes?\\n']\n"
          ]
        }
      ]
    },
    {
      "cell_type": "code",
      "source": [
        "print(sentenced_text)"
      ],
      "metadata": {
        "id": "uW9wjmyOhdOg",
        "outputId": "258ae8a7-599c-4c18-b5d1-1a490a11db1b",
        "colab": {
          "base_uri": "https://localhost:8080/"
        }
      },
      "execution_count": 14,
      "outputs": [
        {
          "output_type": "stream",
          "name": "stdout",
          "text": [
            "[\" Even thinking about starting your podcast even obsessing about the idea for months and years ahead or you're overwhelmed by all the different technical stuff that goes into starting a podcast. \", \"Well, and we're going to show you the four different ways. \", 'You can start your podcast this year. ', 'Hey, welcome to the Pod, sounds cool. ', \"I'm Studio. \", \"Steve, it weird podcast coaches podcast producers and we've helped dozens of clients and hundreds of students to get some really amazing results, their podcast, and we want to do the same for you and us video. \", \"We're going to show you the four different ways. \", 'You can start your podcast from the very basic to a professional level. ', \"And we're going to show you also the pros and cons of each option. \", 'By the end of this video. ', \"You're going to know everything you need to know in order to start your podcast today. \", 'We are going to cover a lot in this video. ', 'So make sure you stick around until the end. ', 'And for those of you who like to skip ahead, we left some time stamps in the description below of each of the topics will be covering the different ways that we can create a podcast thing works. ', 'How do we get the audio files from our phones? ', 'Or computers, all the way up to Google podcasts. ', 'Apple podcasts in Spotify about podcasting. ', 'Is it the podcast directories like Apple, and Google and Spotify. ', \"They don't actually hold your MP3 file. \", 'Actually need to upload your MP3 file. ', 'To would call the podcast host, has all the information regarding your podcast, your podcast, cover art. ', 'And your episodes are worth a screenshot of us uploading. ', 'One of our Pottstown School podcast episodes to our podcast host simplecast. ', 'We add a title, we had episode description, some episode artwork, and some key words. ', 'Once we update it, here. ', 'It is. ', 'Updated to all of the podcast directories via something called an RSS feed. ', 'What do you have at least one episode, you can distribute your podcast to the different podcast directories using this RSS link. ', 'This link will go to the different podcast directories and it will automatically update your podcast. ', 'Every time you post a new episode is. ', 'So hopefully that helps the whole thing. ', 'Makes sense to you a little bit more. ', \"Don't worry? \", \"Just get a podcast host and it'll all make sense as you start uploading episodes, and before we get into the four, Ways that you can start your podcast today? \", \"Because we're podcast coaches. \", \"We couldn't let you just jump into starting a podcast without at least. \", 'Sharing 3 really important tips that you keep in mind before starting your podcast. ', 'Cuz we want to said you have for success to take. ', 'Number one would be to do a preliminary name check. ', \"You don't want to use the same name that all the podcast out of using, you want to be original. \", 'And also, you want your name to be easy to spell and easy to pronounce and took number to take the time to listen to some other podcasts that are similar in topic and find ways that you can bring your secret sauce and that you can be different and stand out. ', 'I like to make a list of what I like about the podcast. ', \"And what I don't like about the podcast bad. \", \"We don't want you to get discouraged. \", 'If you find that there are other podcast doing. ', \"While you're thinking about doing remember that this is your podcast and you're going to bring your personality and your creativity, and your uniqueness, to this project, make a list of all of your passions and all of the topics you be interested in covering. \", 'Sometimes. ', \"It's good to make sure that you have a topic, you can talk about 4 hours. \", 'Jean and that you would never get bored of make a list of all of those things that can be really helpful for coming up with episode ideas. ', 'And for your podcast idea in general. ', 'Do you know what you guys are planning? ', 'And if you need more help with finding the right topic for you, I have this video right here taking you through the exact steps. ', 'I take my clients and students to find the right topic for them. ', 'Now. ', \"Let's talk about the different ways. \", 'You can start your podcast so you can decide which one is right for you. ', 'Number one. ', 'You can start your podcast, using your smartphone really popular option that a lot of people are getting into podcast using, we recommend to apps for this that you can get on your smartphone, either Apple or Android phones and that is Anchor FM or spreaker studio. ', 'And then from there, distributed to the different podcast directory, have a lot of really cool options and little bells and whistles on them. ', 'The anchor app is our favorite and it allows you to do minor edits. ', 'You can cut out big Songs in the middle of your performance. ', \"If it wasn't good. \", \"You can also trim the beginning in the end, but that's about it with the editing. \", \"So it's important to know that you're not really going to be able to do any advanced editing or any kind of professional editing or control any of this accuser, the compression or any of that fancy professional stuff actually on your phone. \", \"And as you can imagine the microphones on your phone aren't as great sounding as some of the professional podcasting microphone out there. \", 'This is a good solution. ', \"If you are new to podcasting and you don't want to invest a lot of money and equipment, and you're not sure if podcasting is your saying, so this is a low-risk glow investment way for you to start your product and you actually be surprised with the results. \", 'You can get. ', \"Lastly, the other really cool thing about the anchor app is it comes with a bunch of royalty free music, you can use and it's owned by Spotify. \", 'So right, when you publish your first episode usually within minutes your podcast will go live on Spotify songs. ', 'You can plug into your smartphone to make the sound quality even better yet. ', 'The whole playlist that we did all about smartphone podcasting that you can find right here. ', 'If you think this is the option that you want to start with your computer and are using my. ', \"Yeah, and this is probably the most popular option for independent podcasters, because USB microphones, are affordable, and they sound really good, and you don't need to get an audio interface. \", \"All you have to do is plug it into your computer and you're ready to go. \", 'So, our big to recommendations for USB microphones, are the stamps and cute to you and the Audio Technica atr2100 X. ', \"Both of these are great sounding microphones and they're also upgradable when we move on to option number 3, which were not to you. \", 'And in addition to a USB microphone. ', 'You are also going to need to download an audio editing software onto your computer. ', \"There's a lot of different options ranging from free to very expensive here by all-around best. \", 'Top choice for independent podcasters is Reaper and you could download Reaper for free and try it free for 60 days. ', 'The one-time $60 after that he also hear a lot of people recommend audacity, which is a free diw. ', 'But I would really recommend that you steer clear from audacity. ', \"It really just causes a lot of headache and it's worth the $60 to just get a better vaw from the beginning. \", \"If you're stuck and and really want to stick to a free option. \", 'I would say GarageBand better than even better than GarageBand would be Pro Tools. ', 'First. ', 'The Pro Tools, first takes a lot longer to learn then Reaper. ', 'So the way you set this up is pretty simple. ', \"In this illustration here Veronica's, using the Samson q2u. \", \"She's going to plug it directly into the computer. \", \"Then all she has to do is open up Reaper set up a track and press record when she's done recording. \", 'She can press stop. ', 'She can she can, she can add music? ', 'And then finally she can export this recording as an MP3 to share with her podcast host. ', \"I don't want you to feel Still, technically challenged and I learned how to edit a podcast. \", \"And I've seen my students in client's learning how to edit their own pasta is going to have to take a few hours to get familiar with how it works. \", \"And it first, it can seem like you're moving so slow and it could be painful and you want to pull out your hair, but just stick with it, a little practice and you will be up and running in no time. \", \"I spent many years teaching people how to use the alw's and I've developed a really fun learning style that cuts through all the BS and just teaches you what you need to know right now to get started. \", 'We have some videos here on our Channel, you can watch about Reaper and I also put together a free 40-minute training, all about editing a podcast and getting going in Reaper. ', 'You can find that by going to Pottstown School. ', 'Com training and grab your seat for that pre-training option. ', 'Number 3, you can use them XLR microphone and an audio interface and this is where we get into professional podcast into people being intimidated by podcasting. ', 'Not that complicated. ', 'Once you break it down. ', \"So the first thing you're going to need is an XLR microphone. \", \"We call it an XLR microphone because that's the output of the microphone is an XLR cable is what you would plug into it. \", 'For this. ', 'We have to top picks for those on a budget. ', 'We really liked the shirt sm58. ', 'Is that classic vocal microphone? ', 'And then next we really liked the shirt sm70. ', 'This is a really classic podcasting microphone used by many professional podcasters. ', \"Once you've chosen a microphone, then you'll need to choose an audio interface. \", 'There are tons of audio interfaces. ', 'Many that sound really good. ', 'Ranging from pretty cheap too. ', 'Very expensive, but my top recommendations for podcasters of all budgets is the focusrite Scarlett to I to this has two inputs. ', 'You can record two microphones at the same time, but Scarlett also has a single in the option. ', \"That's even cheaper. \", \"If you know that you're only ever going to be using one microphone or has it for him. \", 'Put option. ', \"If you're going to be using more than two microphones do in this illustration Veronica's, going to use the Scarlet to I-20 and simply plug. \", 'Into the USB input on her computer. ', 'Now all she needs to do is plug a microphone into the focusrite. ', \"So she'll use an XLR cable. \", 'Put one end into the microphone and the other end of the cable Shield plug into the Focus. ', 'Right? ', \"And you'll see she chose input number one and right next to input. \", 'Number one. ', \"There's a game. \", 'This knob allows us to adjust volume or the gain of the microphone. ', 'Usually with dynamic microphone. ', \"We're going to want to crank this knob pretty much as high as it goes. \", \"And that's a good place to start. \", 'Now much like she did with the USB microphone. ', \"All she has to do is open up Reaper, set up, a track and press record, and she's recording some sweet podcast vocals, for our last option. \", 'Video podcasting, video podcasting is becoming more and more popular among podcasters. ', 'You are already recording your voice and you have your podcast episode. ', 'The only thing you need to do throughout it camera. ', 'This will allow you to record different videos that can go on different platforms. ', \"They can go here on YouTube or on your social media and it's the ultimate con. \", 'Repurposing for you or fight. ', 'That be so it. ', \"Yes, but this is also the most complex way to podcast, but we couldn't let you go without telling you more about it. \", 'So this really just requires three more elements to your podcast, set up. ', 'The first one like Veronica mentioned, is it camera? ', 'Most people will start with just using the camera on their phone. ', 'We have very impressive cameras on their phones nowadays or the camera on your laptop or on your computer. ', 'And then you can upgrade to a webcam or a more professional camera. ', \"Then you're also going to want to pick up some lighting. \", 'We really like reading lights, reading, lights blast, all the Shadows off of your face, and help you to look more youthful and beautiful. ', 'And I can help you to feel more confident on camera. ', \"And then after that, you're also going to need to pick up some video editing software to actually be able to edit the video together, but this is a great way like Veronica said, to repurpose your podcast and it can be a bit intimidating, a great option, but we don't want you to get too overwhelmed with recording your pockets and recording video at the same time. \", \"Specially if you're new to both the important thing is for you to start to start podcasting to get into Podcasting fits, you put your ideas out there and to start reading content, no more procrastination. \", 'Come out of the gate with your podcast. ', \"You got us here to help you if you haven't subscribe to our Channel yet. \", 'Do so. ', 'Now we post really fun podcasting videos, every week here on our Channel. ', \"Also, don't forget that we've left the link to all the gear. \", 'We talked about the microphones USB microphones, everything you can find the link in the description of this video and also to be able to have an audience even before launching your podcast. ', \"And for this, we have a free training and it's called the smart way to launch your podcast. \", 'You can snag your seed by going to podcast is more that comes to things. ', \"That would be Vanessa club that area and don't forget to like And subscribe to our Channel. \", 'Germany accessories shoes. ', 'Do you want a pair of shoes?\\n']\n"
          ]
        }
      ]
    },
    {
      "cell_type": "markdown",
      "source": [
        "### 處理輸入"
      ],
      "metadata": {
        "id": "hK8qwE7U5VSG"
      }
    },
    {
      "cell_type": "code",
      "source": [
        "# 將每個段落內的句子合起來變成string\n",
        "podcast_test = [\"\"]*len(segmented_text)\n",
        "for i in range(len(segmented_text)):\n",
        "  for j in range(len(segmented_text[i])):\n",
        "    podcast_test[i]+=segmented_text[i][j]"
      ],
      "metadata": {
        "id": "STBbCVmZ5UzG"
      },
      "execution_count": 15,
      "outputs": []
    },
    {
      "cell_type": "code",
      "source": [
        "print(podcast_test)"
      ],
      "metadata": {
        "id": "CO9z3rq8hpNg",
        "outputId": "1b77b28b-e14d-4099-e7ab-31379cfca452",
        "colab": {
          "base_uri": "https://localhost:8080/"
        }
      },
      "execution_count": 16,
      "outputs": [
        {
          "output_type": "stream",
          "name": "stdout",
          "text": [
            "[\" Even thinking about starting your podcast even obsessing about the idea for months and years ahead or you're overwhelmed by all the different technical stuff that goes into starting a podcast. Well, and we're going to show you the four different ways. You can start your podcast this year. Hey, welcome to the Pod, sounds cool. I'm Studio. Steve, it weird podcast coaches podcast producers and we've helped dozens of clients and hundreds of students to get some really amazing results, their podcast, and we want to do the same for you and us video. We're going to show you the four different ways. You can start your podcast from the very basic to a professional level. And we're going to show you also the pros and cons of each option. By the end of this video. You're going to know everything you need to know in order to start your podcast today. We are going to cover a lot in this video. So make sure you stick around until the end. And for those of you who like to skip ahead, we left some time stamps in the description below of each of the topics will be covering the different ways that we can create a podcast thing works. How do we get the audio files from our phones? Or computers, all the way up to Google podcasts. Apple podcasts in Spotify about podcasting. Is it the podcast directories like Apple, and Google and Spotify. They don't actually hold your MP3 file. Actually need to upload your MP3 file. To would call the podcast host, has all the information regarding your podcast, your podcast, cover art. And your episodes are worth a screenshot of us uploading. One of our Pottstown School podcast episodes to our podcast host simplecast. We add a title, we had episode description, some episode artwork, and some key words. Once we update it, here. It is. Updated to all of the podcast directories via something called an RSS feed. What do you have at least one episode, you can distribute your podcast to the different podcast directories using this RSS link. This link will go to the different podcast directories and it will automatically update your podcast. Every time you post a new episode is. So hopefully that helps the whole thing. \", \"Makes sense to you a little bit more. Don't worry? Just get a podcast host and it'll all make sense as you start uploading episodes, and before we get into the four, Ways that you can start your podcast today? Because we're podcast coaches. We couldn't let you just jump into starting a podcast without at least. Sharing 3 really important tips that you keep in mind before starting your podcast. Cuz we want to said you have for success to take. Number one would be to do a preliminary name check. You don't want to use the same name that all the podcast out of using, you want to be original. And also, you want your name to be easy to spell and easy to pronounce and took number to take the time to listen to some other podcasts that are similar in topic and find ways that you can bring your secret sauce and that you can be different and stand out. I like to make a list of what I like about the podcast. And what I don't like about the podcast bad. We don't want you to get discouraged. If you find that there are other podcast doing. While you're thinking about doing remember that this is your podcast and you're going to bring your personality and your creativity, and your uniqueness, to this project, make a list of all of your passions and all of the topics you be interested in covering. Sometimes. It's good to make sure that you have a topic, you can talk about 4 hours. Jean and that you would never get bored of make a list of all of those things that can be really helpful for coming up with episode ideas. And for your podcast idea in general. Do you know what you guys are planning? \", \"And if you need more help with finding the right topic for you, I have this video right here taking you through the exact steps. I take my clients and students to find the right topic for them. Now. Let's talk about the different ways. You can start your podcast so you can decide which one is right for you. Number one. You can start your podcast, using your smartphone really popular option that a lot of people are getting into podcast using, we recommend to apps for this that you can get on your smartphone, either Apple or Android phones and that is Anchor FM or spreaker studio. And then from there, distributed to the different podcast directory, have a lot of really cool options and little bells and whistles on them. The anchor app is our favorite and it allows you to do minor edits. You can cut out big Songs in the middle of your performance. If it wasn't good. You can also trim the beginning in the end, but that's about it with the editing. So it's important to know that you're not really going to be able to do any advanced editing or any kind of professional editing or control any of this accuser, the compression or any of that fancy professional stuff actually on your phone. And as you can imagine the microphones on your phone aren't as great sounding as some of the professional podcasting microphone out there. This is a good solution. If you are new to podcasting and you don't want to invest a lot of money and equipment, and you're not sure if podcasting is your saying, so this is a low-risk glow investment way for you to start your product and you actually be surprised with the results. You can get. Lastly, the other really cool thing about the anchor app is it comes with a bunch of royalty free music, you can use and it's owned by Spotify. So right, when you publish your first episode usually within minutes your podcast will go live on Spotify songs. You can plug into your smartphone to make the sound quality even better yet. The whole playlist that we did all about smartphone podcasting that you can find right here. If you think this is the option that you want to start with your computer and are using my. \", \"Yeah, and this is probably the most popular option for independent podcasters, because USB microphones, are affordable, and they sound really good, and you don't need to get an audio interface. All you have to do is plug it into your computer and you're ready to go. So, our big to recommendations for USB microphones, are the stamps and cute to you and the Audio Technica atr2100 X. Both of these are great sounding microphones and they're also upgradable when we move on to option number 3, which were not to you. And in addition to a USB microphone. You are also going to need to download an audio editing software onto your computer. There's a lot of different options ranging from free to very expensive here by all-around best. Top choice for independent podcasters is Reaper and you could download Reaper for free and try it free for 60 days. The one-time $60 after that he also hear a lot of people recommend audacity, which is a free diw. But I would really recommend that you steer clear from audacity. It really just causes a lot of headache and it's worth the $60 to just get a better vaw from the beginning. If you're stuck and and really want to stick to a free option. \", \"I would say GarageBand better than even better than GarageBand would be Pro Tools. First. The Pro Tools, first takes a lot longer to learn then Reaper. So the way you set this up is pretty simple. In this illustration here Veronica's, using the Samson q2u. \", \"She's going to plug it directly into the computer. Then all she has to do is open up Reaper set up a track and press record when she's done recording. She can press stop. She can she can, she can add music? And then finally she can export this recording as an MP3 to share with her podcast host. \", \"I don't want you to feel Still, technically challenged and I learned how to edit a podcast. And I've seen my students in client's learning how to edit their own pasta is going to have to take a few hours to get familiar with how it works. And it first, it can seem like you're moving so slow and it could be painful and you want to pull out your hair, but just stick with it, a little practice and you will be up and running in no time. I spent many years teaching people how to use the alw's and I've developed a really fun learning style that cuts through all the BS and just teaches you what you need to know right now to get started. We have some videos here on our Channel, you can watch about Reaper and I also put together a free 40-minute training, all about editing a podcast and getting going in Reaper. You can find that by going to Pottstown School. Com training and grab your seat for that pre-training option. \", \"Number 3, you can use them XLR microphone and an audio interface and this is where we get into professional podcast into people being intimidated by podcasting. Not that complicated. Once you break it down. So the first thing you're going to need is an XLR microphone. We call it an XLR microphone because that's the output of the microphone is an XLR cable is what you would plug into it. For this. We have to top picks for those on a budget. We really liked the shirt sm58. Is that classic vocal microphone? And then next we really liked the shirt sm70. This is a really classic podcasting microphone used by many professional podcasters. Once you've chosen a microphone, then you'll need to choose an audio interface. There are tons of audio interfaces. Many that sound really good. Ranging from pretty cheap too. Very expensive, but my top recommendations for podcasters of all budgets is the focusrite Scarlett to I to this has two inputs. You can record two microphones at the same time, but Scarlett also has a single in the option. That's even cheaper. If you know that you're only ever going to be using one microphone or has it for him. Put option. If you're going to be using more than two microphones do in this illustration Veronica's, going to use the Scarlet to I-20 and simply plug. Into the USB input on her computer. Now all she needs to do is plug a microphone into the focusrite. So she'll use an XLR cable. Put one end into the microphone and the other end of the cable Shield plug into the Focus. Right? And you'll see she chose input number one and right next to input. Number one. There's a game. This knob allows us to adjust volume or the gain of the microphone. Usually with dynamic microphone. We're going to want to crank this knob pretty much as high as it goes. And that's a good place to start. Now much like she did with the USB microphone. \", \"All she has to do is open up Reaper, set up, a track and press record, and she's recording some sweet podcast vocals, for our last option. Video podcasting, video podcasting is becoming more and more popular among podcasters. You are already recording your voice and you have your podcast episode. The only thing you need to do throughout it camera. This will allow you to record different videos that can go on different platforms. They can go here on YouTube or on your social media and it's the ultimate con. Repurposing for you or fight. That be so it. Yes, but this is also the most complex way to podcast, but we couldn't let you go without telling you more about it. So this really just requires three more elements to your podcast, set up. The first one like Veronica mentioned, is it camera? Most people will start with just using the camera on their phone. We have very impressive cameras on their phones nowadays or the camera on your laptop or on your computer. And then you can upgrade to a webcam or a more professional camera. Then you're also going to want to pick up some lighting. We really like reading lights, reading, lights blast, all the Shadows off of your face, and help you to look more youthful and beautiful. And I can help you to feel more confident on camera. And then after that, you're also going to need to pick up some video editing software to actually be able to edit the video together, but this is a great way like Veronica said, to repurpose your podcast and it can be a bit intimidating, a great option, but we don't want you to get too overwhelmed with recording your pockets and recording video at the same time. Specially if you're new to both the important thing is for you to start to start podcasting to get into Podcasting fits, you put your ideas out there and to start reading content, no more procrastination. Come out of the gate with your podcast. You got us here to help you if you haven't subscribe to our Channel yet. Do so. Now we post really fun podcasting videos, every week here on our Channel. Also, don't forget that we've left the link to all the gear. We talked about the microphones USB microphones, everything you can find the link in the description of this video and also to be able to have an audience even before launching your podcast. And for this, we have a free training and it's called the smart way to launch your podcast. You can snag your seed by going to podcast is more that comes to things. That would be Vanessa club that area and don't forget to like And subscribe to our Channel. Germany accessories shoes. Do you want a pair of shoes?\\n\"]\n"
          ]
        }
      ]
    },
    {
      "cell_type": "markdown",
      "source": [
        "# Headline generator"
      ],
      "metadata": {
        "id": "NvjchzbJ4w-1"
      }
    },
    {
      "cell_type": "code",
      "source": [
        "! pip install transformers datasets"
      ],
      "metadata": {
        "colab": {
          "base_uri": "https://localhost:8080/",
          "height": 1000
        },
        "id": "3C2ZaL7C47bW",
        "outputId": "9d6cea9c-5c88-4662-991f-12991680a7f3"
      },
      "execution_count": 17,
      "outputs": [
        {
          "output_type": "stream",
          "name": "stdout",
          "text": [
            "Collecting transformers\n",
            "  Downloading transformers-4.18.0-py3-none-any.whl (4.0 MB)\n",
            "\u001b[K     |████████████████████████████████| 4.0 MB 5.3 MB/s \n",
            "\u001b[?25hCollecting datasets\n",
            "  Downloading datasets-2.1.0-py3-none-any.whl (325 kB)\n",
            "\u001b[K     |████████████████████████████████| 325 kB 62.5 MB/s \n",
            "\u001b[?25hCollecting pyyaml>=5.1\n",
            "  Downloading PyYAML-6.0-cp37-cp37m-manylinux_2_5_x86_64.manylinux1_x86_64.manylinux_2_12_x86_64.manylinux2010_x86_64.whl (596 kB)\n",
            "\u001b[K     |████████████████████████████████| 596 kB 41.4 MB/s \n",
            "\u001b[?25hRequirement already satisfied: packaging>=20.0 in /usr/local/lib/python3.7/dist-packages (from transformers) (21.3)\n",
            "Requirement already satisfied: regex!=2019.12.17 in /usr/local/lib/python3.7/dist-packages (from transformers) (2019.12.20)\n",
            "Requirement already satisfied: importlib-metadata in /usr/local/lib/python3.7/dist-packages (from transformers) (4.11.3)\n",
            "Requirement already satisfied: numpy>=1.17 in /usr/local/lib/python3.7/dist-packages (from transformers) (1.21.6)\n",
            "Requirement already satisfied: tqdm>=4.27 in /usr/local/lib/python3.7/dist-packages (from transformers) (4.64.0)\n",
            "Collecting sacremoses\n",
            "  Downloading sacremoses-0.0.49-py3-none-any.whl (895 kB)\n",
            "\u001b[K     |████████████████████████████████| 895 kB 59.6 MB/s \n",
            "\u001b[?25hRequirement already satisfied: requests in /usr/local/lib/python3.7/dist-packages (from transformers) (2.23.0)\n",
            "Collecting tokenizers!=0.11.3,<0.13,>=0.11.1\n",
            "  Downloading tokenizers-0.12.1-cp37-cp37m-manylinux_2_12_x86_64.manylinux2010_x86_64.whl (6.6 MB)\n",
            "\u001b[K     |████████████████████████████████| 6.6 MB 42.4 MB/s \n",
            "\u001b[?25hRequirement already satisfied: filelock in /usr/local/lib/python3.7/dist-packages (from transformers) (3.6.0)\n",
            "Collecting huggingface-hub<1.0,>=0.1.0\n",
            "  Downloading huggingface_hub-0.5.1-py3-none-any.whl (77 kB)\n",
            "\u001b[K     |████████████████████████████████| 77 kB 3.3 MB/s \n",
            "\u001b[?25hRequirement already satisfied: typing-extensions>=3.7.4.3 in /usr/local/lib/python3.7/dist-packages (from huggingface-hub<1.0,>=0.1.0->transformers) (4.2.0)\n",
            "Requirement already satisfied: pyparsing!=3.0.5,>=2.0.2 in /usr/local/lib/python3.7/dist-packages (from packaging>=20.0->transformers) (3.0.8)\n",
            "Requirement already satisfied: multiprocess in /usr/local/lib/python3.7/dist-packages (from datasets) (0.70.12.2)\n",
            "Collecting fsspec[http]>=2021.05.0\n",
            "  Downloading fsspec-2022.3.0-py3-none-any.whl (136 kB)\n",
            "\u001b[K     |████████████████████████████████| 136 kB 45.4 MB/s \n",
            "\u001b[?25hRequirement already satisfied: pandas in /usr/local/lib/python3.7/dist-packages (from datasets) (1.3.5)\n",
            "Requirement already satisfied: pyarrow>=5.0.0 in /usr/local/lib/python3.7/dist-packages (from datasets) (6.0.1)\n",
            "Collecting xxhash\n",
            "  Downloading xxhash-3.0.0-cp37-cp37m-manylinux_2_17_x86_64.manylinux2014_x86_64.whl (212 kB)\n",
            "\u001b[K     |████████████████████████████████| 212 kB 43.7 MB/s \n",
            "\u001b[?25hRequirement already satisfied: dill in /usr/local/lib/python3.7/dist-packages (from datasets) (0.3.4)\n",
            "Collecting responses<0.19\n",
            "  Downloading responses-0.18.0-py3-none-any.whl (38 kB)\n",
            "Collecting aiohttp\n",
            "  Downloading aiohttp-3.8.1-cp37-cp37m-manylinux_2_5_x86_64.manylinux1_x86_64.manylinux_2_12_x86_64.manylinux2010_x86_64.whl (1.1 MB)\n",
            "\u001b[K     |████████████████████████████████| 1.1 MB 11.9 MB/s \n",
            "\u001b[?25hRequirement already satisfied: chardet<4,>=3.0.2 in /usr/local/lib/python3.7/dist-packages (from requests->transformers) (3.0.4)\n",
            "Requirement already satisfied: urllib3!=1.25.0,!=1.25.1,<1.26,>=1.21.1 in /usr/local/lib/python3.7/dist-packages (from requests->transformers) (1.24.3)\n",
            "Requirement already satisfied: certifi>=2017.4.17 in /usr/local/lib/python3.7/dist-packages (from requests->transformers) (2021.10.8)\n",
            "Requirement already satisfied: idna<3,>=2.5 in /usr/local/lib/python3.7/dist-packages (from requests->transformers) (2.10)\n",
            "Collecting urllib3!=1.25.0,!=1.25.1,<1.26,>=1.21.1\n",
            "  Downloading urllib3-1.25.11-py2.py3-none-any.whl (127 kB)\n",
            "\u001b[K     |████████████████████████████████| 127 kB 42.4 MB/s \n",
            "\u001b[?25hCollecting asynctest==0.13.0\n",
            "  Downloading asynctest-0.13.0-py3-none-any.whl (26 kB)\n",
            "Requirement already satisfied: charset-normalizer<3.0,>=2.0 in /usr/local/lib/python3.7/dist-packages (from aiohttp->datasets) (2.0.12)\n",
            "Collecting async-timeout<5.0,>=4.0.0a3\n",
            "  Downloading async_timeout-4.0.2-py3-none-any.whl (5.8 kB)\n",
            "Collecting yarl<2.0,>=1.0\n",
            "  Downloading yarl-1.7.2-cp37-cp37m-manylinux_2_5_x86_64.manylinux1_x86_64.manylinux_2_12_x86_64.manylinux2010_x86_64.whl (271 kB)\n",
            "\u001b[K     |████████████████████████████████| 271 kB 42.0 MB/s \n",
            "\u001b[?25hRequirement already satisfied: attrs>=17.3.0 in /usr/local/lib/python3.7/dist-packages (from aiohttp->datasets) (21.4.0)\n",
            "Collecting multidict<7.0,>=4.5\n",
            "  Downloading multidict-6.0.2-cp37-cp37m-manylinux_2_17_x86_64.manylinux2014_x86_64.whl (94 kB)\n",
            "\u001b[K     |████████████████████████████████| 94 kB 2.0 MB/s \n",
            "\u001b[?25hCollecting aiosignal>=1.1.2\n",
            "  Downloading aiosignal-1.2.0-py3-none-any.whl (8.2 kB)\n",
            "Collecting frozenlist>=1.1.1\n",
            "  Downloading frozenlist-1.3.0-cp37-cp37m-manylinux_2_5_x86_64.manylinux1_x86_64.manylinux_2_17_x86_64.manylinux2014_x86_64.whl (144 kB)\n",
            "\u001b[K     |████████████████████████████████| 144 kB 27.8 MB/s \n",
            "\u001b[?25hRequirement already satisfied: zipp>=0.5 in /usr/local/lib/python3.7/dist-packages (from importlib-metadata->transformers) (3.8.0)\n",
            "Requirement already satisfied: pytz>=2017.3 in /usr/local/lib/python3.7/dist-packages (from pandas->datasets) (2022.1)\n",
            "Requirement already satisfied: python-dateutil>=2.7.3 in /usr/local/lib/python3.7/dist-packages (from pandas->datasets) (2.8.2)\n",
            "Requirement already satisfied: six>=1.5 in /usr/local/lib/python3.7/dist-packages (from python-dateutil>=2.7.3->pandas->datasets) (1.15.0)\n",
            "Requirement already satisfied: click in /usr/local/lib/python3.7/dist-packages (from sacremoses->transformers) (7.1.2)\n",
            "Requirement already satisfied: joblib in /usr/local/lib/python3.7/dist-packages (from sacremoses->transformers) (1.1.0)\n",
            "Installing collected packages: multidict, frozenlist, yarl, urllib3, asynctest, async-timeout, aiosignal, pyyaml, fsspec, aiohttp, xxhash, tokenizers, sacremoses, responses, huggingface-hub, transformers, datasets\n",
            "  Attempting uninstall: urllib3\n",
            "    Found existing installation: urllib3 1.24.3\n",
            "    Uninstalling urllib3-1.24.3:\n",
            "      Successfully uninstalled urllib3-1.24.3\n",
            "  Attempting uninstall: pyyaml\n",
            "    Found existing installation: PyYAML 3.13\n",
            "    Uninstalling PyYAML-3.13:\n",
            "      Successfully uninstalled PyYAML-3.13\n",
            "\u001b[31mERROR: pip's dependency resolver does not currently take into account all the packages that are installed. This behaviour is the source of the following dependency conflicts.\n",
            "datascience 0.10.6 requires folium==0.2.1, but you have folium 0.8.3 which is incompatible.\u001b[0m\n",
            "Successfully installed aiohttp-3.8.1 aiosignal-1.2.0 async-timeout-4.0.2 asynctest-0.13.0 datasets-2.1.0 frozenlist-1.3.0 fsspec-2022.3.0 huggingface-hub-0.5.1 multidict-6.0.2 pyyaml-6.0 responses-0.18.0 sacremoses-0.0.49 tokenizers-0.12.1 transformers-4.18.0 urllib3-1.25.11 xxhash-3.0.0 yarl-1.7.2\n"
          ]
        },
        {
          "output_type": "display_data",
          "data": {
            "application/vnd.colab-display-data+json": {
              "pip_warning": {
                "packages": [
                  "urllib3"
                ]
              }
            }
          },
          "metadata": {}
        }
      ]
    },
    {
      "cell_type": "code",
      "source": [
        "!pip install sentencepiece"
      ],
      "metadata": {
        "colab": {
          "base_uri": "https://localhost:8080/"
        },
        "id": "W43bXEDi5S3f",
        "outputId": "b837411f-ecf5-40eb-b507-d62c9fbf91a7"
      },
      "execution_count": 18,
      "outputs": [
        {
          "output_type": "stream",
          "name": "stdout",
          "text": [
            "Collecting sentencepiece\n",
            "  Downloading sentencepiece-0.1.96-cp37-cp37m-manylinux_2_17_x86_64.manylinux2014_x86_64.whl (1.2 MB)\n",
            "\u001b[K     |████████████████████████████████| 1.2 MB 4.7 MB/s \n",
            "\u001b[?25hInstalling collected packages: sentencepiece\n",
            "Successfully installed sentencepiece-0.1.96\n"
          ]
        }
      ]
    },
    {
      "cell_type": "code",
      "source": [
        "from transformers import pipeline"
      ],
      "metadata": {
        "id": "xpFk5A6q5c9_"
      },
      "execution_count": 19,
      "outputs": []
    },
    {
      "cell_type": "markdown",
      "source": [
        "## 使用Michau/t5-base-en-generate-headline"
      ],
      "metadata": {
        "id": "eASYWVCsypFk"
      }
    },
    {
      "cell_type": "code",
      "source": [
        "headlineGenerator = pipeline(model=\"Michau/t5-base-en-generate-headline\", tokenizer=\"Michau/t5-base-en-generate-headline\")"
      ],
      "metadata": {
        "colab": {
          "base_uri": "https://localhost:8080/",
          "height": 209,
          "referenced_widgets": [
            "306331d0a86547e68313768e70e6e59f",
            "df072bdad3c24c9ab79f2ee2b85dad4a",
            "fd94d9fdd7b34915b64dce301029815c",
            "638b6709ec244c79931aa8d6139740c4",
            "cd556a794c14477b9efe8e68b0a06297",
            "d692f3754fdf448aa809003af55834ac",
            "51fe06ce1fa04e3ebf518ea39378bec2",
            "1eb3eda038f148f093c44dfe372ac17a",
            "6be9a837011b4adb9d9c1a46b8d1a8e6",
            "465fad31b7914343a494ac270318c459",
            "348d25295ac2452287d512ec32a59f25",
            "814506e45df84a828c0a75d26a2bcbee",
            "45b44b422f3b41a7a4cba44aeece9320",
            "1e93ac6c5f5f407aba512db7ff8b14b4",
            "2b43aa1fec924d0ca836cf6b85d1343d",
            "25f3d07b43a0466cb5e71333870e9742",
            "0cfbf53e3dd543fcae566c552931c561",
            "3f2bef4c64a6472987851ff90bdcd2e6",
            "eb01fdeb0a8846408e01aeaddf0301e1",
            "30b05244c5b54f16b2e523d32534e271",
            "724f51776b8541669ec9be1650bea4ca",
            "174d81b18faa429fb6964ecd7fc9414f",
            "edc89367a76b4106a61534d28de661f8",
            "feecc7d49a23467da81400a42a3ddaee",
            "ffcde004443b4d5cbc0dd6c93655ce03",
            "6953a9e036f74ba48dda6c526f34f4e4",
            "21485c86bfa54e6ead778c9dfd1c7a23",
            "cf03156b222d453faf4196b33d9a0d26",
            "3a8dc2120f9242599e6d350a2c4810cb",
            "5a52d90f32c04d64baff5e4d605ef466",
            "2c01c920899f4100816f7b7d5d4400c6",
            "1acfb0feb5214024b2cce8fa3a7f7158",
            "2409102d3a6c453ea56744672c83682b",
            "19235415b12b40a8b1c91ebeb9dc9af4",
            "e41bc62a9eeb4c6e9c0ea45600cd0464",
            "8f2c7f4912f344fc856ea3f997803338",
            "12852a8f84764b3da7a319cae82d54cd",
            "9a33b861e2b4406682088104a8cbd588",
            "9c253813e6f94234ae37989bfd1dfbd6",
            "ed53f6a0212345f18006ef000c07cbe5",
            "f9009e377ddb498eb099dec0d83d6307",
            "f407c87a951545bdb639a016235e7949",
            "6208a1c73970421eb5b6adb363af9777",
            "e2e7c325209a4df1a6c6f4c05ae332c9",
            "d719b3c5f5be4a4f86312b6bc4d78a08",
            "9998b0ddaba84fec98733d6f540f934c",
            "9655ac3ed1dc44a3b2751f69e89e5aa9",
            "76e4edf59bed4b0f9442166cfb69ad08",
            "6e49091a0acc43eea49a133d924320f3",
            "9db180bb34a24e33b9d25652483c12d8",
            "943072b32dd0443fa4eee20ed8f54505",
            "c18b418838004724bcbd5eee4d0fa3a9",
            "095360cc81db41e18184e0ede302e6e8",
            "ff27f29cff514176880ecff9c35efd92",
            "8e1f8b23fa83464184945ce94e1b31d6",
            "1d9e41b1539049d6adb678d13e931ea7",
            "2a9b4f65fefb4a39a94ce0705b3be991",
            "dd5c0aea38b3493ebde8a57b78d6fd83",
            "a94f6145166348fbaf84d644898f291c",
            "f8959ed816fb4df29ecac39629a83252",
            "640405209cc54828be3a85f51f005ce1",
            "0012e68d5f8a4bf5a87c151172e096d7",
            "eaa162319be542c999c8e6e54b4dc264",
            "8116a723c087479b84a9fd876795998b",
            "d5b56f5cd82449778bb17fa7313397fb",
            "8556491d327341e7841d544c66f196b5"
          ]
        },
        "id": "zw95k5Qh69LA",
        "outputId": "3503243e-b43e-4c0a-996c-bb0e21d91f07"
      },
      "execution_count": 20,
      "outputs": [
        {
          "output_type": "display_data",
          "data": {
            "text/plain": [
              "Downloading:   0%|          | 0.00/1.31k [00:00<?, ?B/s]"
            ],
            "application/vnd.jupyter.widget-view+json": {
              "version_major": 2,
              "version_minor": 0,
              "model_id": "306331d0a86547e68313768e70e6e59f"
            }
          },
          "metadata": {}
        },
        {
          "output_type": "display_data",
          "data": {
            "text/plain": [
              "Downloading:   0%|          | 0.00/1.21k [00:00<?, ?B/s]"
            ],
            "application/vnd.jupyter.widget-view+json": {
              "version_major": 2,
              "version_minor": 0,
              "model_id": "814506e45df84a828c0a75d26a2bcbee"
            }
          },
          "metadata": {}
        },
        {
          "output_type": "display_data",
          "data": {
            "text/plain": [
              "Downloading:   0%|          | 0.00/850M [00:00<?, ?B/s]"
            ],
            "application/vnd.jupyter.widget-view+json": {
              "version_major": 2,
              "version_minor": 0,
              "model_id": "edc89367a76b4106a61534d28de661f8"
            }
          },
          "metadata": {}
        },
        {
          "output_type": "display_data",
          "data": {
            "text/plain": [
              "Downloading:   0%|          | 0.00/43.0 [00:00<?, ?B/s]"
            ],
            "application/vnd.jupyter.widget-view+json": {
              "version_major": 2,
              "version_minor": 0,
              "model_id": "19235415b12b40a8b1c91ebeb9dc9af4"
            }
          },
          "metadata": {}
        },
        {
          "output_type": "display_data",
          "data": {
            "text/plain": [
              "Downloading:   0%|          | 0.00/773k [00:00<?, ?B/s]"
            ],
            "application/vnd.jupyter.widget-view+json": {
              "version_major": 2,
              "version_minor": 0,
              "model_id": "d719b3c5f5be4a4f86312b6bc4d78a08"
            }
          },
          "metadata": {}
        },
        {
          "output_type": "display_data",
          "data": {
            "text/plain": [
              "Downloading:   0%|          | 0.00/1.74k [00:00<?, ?B/s]"
            ],
            "application/vnd.jupyter.widget-view+json": {
              "version_major": 2,
              "version_minor": 0,
              "model_id": "1d9e41b1539049d6adb678d13e931ea7"
            }
          },
          "metadata": {}
        }
      ]
    },
    {
      "cell_type": "code",
      "source": [
        "#@title 生成標題的長度 { display-mode: \"form\" }\n",
        "min_length =  5#@param {type:\"integer\"}\n",
        "max_length = 150#@param {type:\"integer\"}"
      ],
      "metadata": {
        "id": "CIC2gCtlqgiS"
      },
      "execution_count": 21,
      "outputs": []
    },
    {
      "cell_type": "code",
      "source": [
        "headlines = headlineGenerator(podcast_test, min_length, max_length)\n"
      ],
      "metadata": {
        "colab": {
          "base_uri": "https://localhost:8080/"
        },
        "id": "-NIsP3SV7FQO",
        "outputId": "a4d7ae61-c3a3-4a2a-a446-4748b6a5f535"
      },
      "execution_count": 22,
      "outputs": [
        {
          "output_type": "stream",
          "name": "stderr",
          "text": [
            "Ignoring args : (5, 150)\n",
            "Token indices sequence length is longer than the specified maximum sequence length for this model (605 > 512). Running this sequence through the model will result in indexing errors\n"
          ]
        }
      ]
    },
    {
      "cell_type": "markdown",
      "source": [
        "### 顯示結果"
      ],
      "metadata": {
        "id": "1X4gK_W77HYq"
      }
    },
    {
      "cell_type": "code",
      "source": [
        "for headline in headlines:\n",
        "  print(headline)\n",
        "  print(type(headline))"
      ],
      "metadata": {
        "colab": {
          "base_uri": "https://localhost:8080/"
        },
        "id": "Zqyd9Sp37Jon",
        "outputId": "470453a9-1aef-49d7-d4a8-3eebcebf5a78"
      },
      "execution_count": 23,
      "outputs": [
        {
          "output_type": "stream",
          "name": "stdout",
          "text": [
            "{'generated_text': 'How to Start Your Podcast'}\n",
            "<class 'dict'>\n",
            "{'generated_text': 'Podcast Coaching - How to Start Your Podcast Today'}\n",
            "<class 'dict'>\n",
            "{'generated_text': 'Podcasting - How to Start Your Own Podcast'}\n",
            "<class 'dict'>\n",
            "{'generated_text': 'USB Microphones For Independent Podcasters'}\n",
            "<class 'dict'>\n",
            "{'generated_text': 'GarageBand Pro Tools vs GarageBand Pro Tools'}\n",
            "<class 'dict'>\n",
            "{'generated_text': 'Reaper - How to Record a Podcast'}\n",
            "<class 'dict'>\n",
            "{'generated_text': 'How to Edit a Podcast and Get Going in Reaper'}\n",
            "<class 'dict'>\n",
            "{'generated_text': 'Podcasting Tips - The Scarlett to I-20'}\n",
            "<class 'dict'>\n",
            "{'generated_text': 'Podcasting - The Ultimate Con'}\n",
            "<class 'dict'>\n"
          ]
        }
      ]
    },
    {
      "cell_type": "code",
      "source": [
        "import re\n",
        "sentence_tokenizer2 = SimpleSentenceTokenizer()\n",
        "index=0\n",
        "headlines_string = [\"\"]*len(headlines)\n",
        "for headline in headlines:\n",
        "  sentenced_healine = re.split(r'([;,\\.\\*\\n-])',headline['generated_text'])\n",
        "  #print(sentenced_healine)\n",
        "  for i in range(len(sentenced_healine)):\n",
        "    sentenced_healine[i] = sentenced_healine[i].strip()\n",
        "    #ss = s1\n",
        "    #print(\"!!!\"+ss+\"!!!\")\n",
        "  print(sentenced_healine)\n",
        "  strs = \" \"  \n",
        "  #headlines_string[index]+=sentenced_healine[0]\n",
        "  for i in range(0,(len(sentenced_healine))):\n",
        "    if(sentenced_healine[i] != \" \"):\n",
        "      strs = sentenced_healine[i]\n",
        "      for j in range(i+1,(len(sentenced_healine))):\n",
        "        if(strs == sentenced_healine[j]):\n",
        "          sentenced_healine[j]=\" \"\n",
        "        #if(sentenced_healine[j] != \" \"):\n",
        "          #strs = sentenced_healine[j]\n",
        "  print(sentenced_healine)\n",
        "  for k in range(len(sentenced_healine)):\n",
        "    if(sentenced_healine[k] != \" \"):\n",
        "      headlines_string[index]+=\" \"\n",
        "      headlines_string[index]+=sentenced_healine[k]\n",
        "  print(type(headlines_string[index]))\n",
        "  headlines_string[index]=headlines_string[index].rstrip(\"-\")\n",
        "  index+=1"
      ],
      "metadata": {
        "id": "ex-Qd6aGN0oH",
        "colab": {
          "base_uri": "https://localhost:8080/"
        },
        "outputId": "3867adcb-1085-414b-ec7c-467a9aa8ed07"
      },
      "execution_count": 24,
      "outputs": [
        {
          "output_type": "stream",
          "name": "stdout",
          "text": [
            "['How to Start Your Podcast']\n",
            "['How to Start Your Podcast']\n",
            "<class 'str'>\n",
            "['Podcast Coaching', '-', 'How to Start Your Podcast Today']\n",
            "['Podcast Coaching', '-', 'How to Start Your Podcast Today']\n",
            "<class 'str'>\n",
            "['Podcasting', '-', 'How to Start Your Own Podcast']\n",
            "['Podcasting', '-', 'How to Start Your Own Podcast']\n",
            "<class 'str'>\n",
            "['USB Microphones For Independent Podcasters']\n",
            "['USB Microphones For Independent Podcasters']\n",
            "<class 'str'>\n",
            "['GarageBand Pro Tools vs GarageBand Pro Tools']\n",
            "['GarageBand Pro Tools vs GarageBand Pro Tools']\n",
            "<class 'str'>\n",
            "['Reaper', '-', 'How to Record a Podcast']\n",
            "['Reaper', '-', 'How to Record a Podcast']\n",
            "<class 'str'>\n",
            "['How to Edit a Podcast and Get Going in Reaper']\n",
            "['How to Edit a Podcast and Get Going in Reaper']\n",
            "<class 'str'>\n",
            "['Podcasting Tips', '-', 'The Scarlett to I', '-', '20']\n",
            "['Podcasting Tips', '-', 'The Scarlett to I', ' ', '20']\n",
            "<class 'str'>\n",
            "['Podcasting', '-', 'The Ultimate Con']\n",
            "['Podcasting', '-', 'The Ultimate Con']\n",
            "<class 'str'>\n"
          ]
        }
      ]
    },
    {
      "cell_type": "code",
      "source": [
        "for headline_string in headlines_string:\n",
        "  print(headline_string)"
      ],
      "metadata": {
        "colab": {
          "base_uri": "https://localhost:8080/"
        },
        "id": "1hrzGKDrSQoY",
        "outputId": "843b9590-bcd7-495d-803e-e3fba5ff8476"
      },
      "execution_count": 25,
      "outputs": [
        {
          "output_type": "stream",
          "name": "stdout",
          "text": [
            " How to Start Your Podcast\n",
            " Podcast Coaching - How to Start Your Podcast Today\n",
            " Podcasting - How to Start Your Own Podcast\n",
            " USB Microphones For Independent Podcasters\n",
            " GarageBand Pro Tools vs GarageBand Pro Tools\n",
            " Reaper - How to Record a Podcast\n",
            " How to Edit a Podcast and Get Going in Reaper\n",
            " Podcasting Tips - The Scarlett to I 20\n",
            " Podcasting - The Ultimate Con\n"
          ]
        }
      ]
    },
    {
      "cell_type": "code",
      "source": [
        "b = \"abc, ss dd, www\"\n",
        "a = re.split(r\"([,])\",b)\n",
        "print(a)"
      ],
      "metadata": {
        "colab": {
          "base_uri": "https://localhost:8080/"
        },
        "id": "xfT5GLL8B-RX",
        "outputId": "77946f2c-d9f5-4d0a-f6fb-5f2eae0b586b"
      },
      "execution_count": 26,
      "outputs": [
        {
          "output_type": "stream",
          "name": "stdout",
          "text": [
            "['abc', ',', ' ss dd', ',', ' www']\n"
          ]
        }
      ]
    },
    {
      "cell_type": "markdown",
      "source": [
        "# 去掉廣告"
      ],
      "metadata": {
        "id": "bJM-zFcqZO5X"
      }
    },
    {
      "cell_type": "code",
      "source": [
        "!pip install -U scikit-learn\n",
        "!pip install --user -U nltk"
      ],
      "metadata": {
        "id": "4qrAVWgzZUN_",
        "outputId": "a505d335-fe67-447b-a82b-34a1b5c9f82f",
        "colab": {
          "base_uri": "https://localhost:8080/"
        }
      },
      "execution_count": 27,
      "outputs": [
        {
          "output_type": "stream",
          "name": "stdout",
          "text": [
            "Requirement already satisfied: scikit-learn in /usr/local/lib/python3.7/dist-packages (1.0.2)\n",
            "Requirement already satisfied: scipy>=1.1.0 in /usr/local/lib/python3.7/dist-packages (from scikit-learn) (1.4.1)\n",
            "Requirement already satisfied: numpy>=1.14.6 in /usr/local/lib/python3.7/dist-packages (from scikit-learn) (1.21.6)\n",
            "Requirement already satisfied: joblib>=0.11 in /usr/local/lib/python3.7/dist-packages (from scikit-learn) (1.1.0)\n",
            "Requirement already satisfied: threadpoolctl>=2.0.0 in /usr/local/lib/python3.7/dist-packages (from scikit-learn) (3.1.0)\n",
            "Requirement already satisfied: nltk in /usr/local/lib/python3.7/dist-packages (3.2.5)\n",
            "Collecting nltk\n",
            "  Downloading nltk-3.7-py3-none-any.whl (1.5 MB)\n",
            "\u001b[K     |████████████████████████████████| 1.5 MB 5.2 MB/s \n",
            "\u001b[?25hRequirement already satisfied: joblib in /usr/local/lib/python3.7/dist-packages (from nltk) (1.1.0)\n",
            "Requirement already satisfied: click in /usr/local/lib/python3.7/dist-packages (from nltk) (7.1.2)\n",
            "Requirement already satisfied: tqdm in /usr/local/lib/python3.7/dist-packages (from nltk) (4.64.0)\n",
            "Collecting regex>=2021.8.3\n",
            "  Downloading regex-2022.4.24-cp37-cp37m-manylinux_2_17_x86_64.manylinux2014_x86_64.whl (749 kB)\n",
            "\u001b[K     |████████████████████████████████| 749 kB 54.5 MB/s \n",
            "\u001b[?25hInstalling collected packages: regex, nltk\n",
            "\u001b[33m  WARNING: The script nltk is installed in '/root/.local/bin' which is not on PATH.\n",
            "  Consider adding this directory to PATH or, if you prefer to suppress this warning, use --no-warn-script-location.\u001b[0m\n",
            "Successfully installed nltk-3.7 regex-2022.4.24\n"
          ]
        }
      ]
    },
    {
      "cell_type": "code",
      "source": [
        "from sklearn.feature_extraction.text import CountVectorizer\n",
        "from sklearn.feature_extraction.text import TfidfTransformer"
      ],
      "metadata": {
        "id": "39F-cSaoZceI"
      },
      "execution_count": 28,
      "outputs": []
    },
    {
      "cell_type": "markdown",
      "source": [
        "## 使用停使用停用詞(NLTK)"
      ],
      "metadata": {
        "id": "dPCYHOs1aKGY"
      }
    },
    {
      "cell_type": "code",
      "source": [
        "# 下面的代碼是使用nltk從句子中去除停用詞 \n",
        "# 導入包 \n",
        "import nltk \n",
        "from nltk.corpus import stopwords \n",
        "from nltk.tokenize import word_tokenize \n",
        "nltk.download(\"stopwords\")\n",
        "#set(stopwords.words('english')) \n",
        "# 例句 \n",
        "#text = \"\"\"He determined to drop his litigation with the monastry, and relinguish his claims to the wood-cuting and fishery rihgts at once. He was the more ready to do this becuase the rights had become much less valuable, and he had indeed the vaguest idea where the wood and river in question were.\"\"\" \n",
        "# 停用詞集合 \n",
        "stop_words = set(stopwords.words('english')) \n",
        "# 分詞 \n",
        "nltk.download('punkt')\n",
        "result_nltk = []\n",
        "for sent in podcast_test:\n",
        "  word_tokens = word_tokenize(sent) \n",
        "  filtered_sentence = [] \n",
        "  for w in word_tokens: \n",
        "    if w not in stop_words: \n",
        "      filtered_sentence.append(w) \n",
        "  result_nltk.append(\" \".join(filtered_sentence))"
      ],
      "metadata": {
        "id": "bzS0ux52aNyT",
        "outputId": "431763f6-6721-481b-fffb-1b3ae636c0df",
        "colab": {
          "base_uri": "https://localhost:8080/"
        }
      },
      "execution_count": 29,
      "outputs": [
        {
          "output_type": "stream",
          "name": "stdout",
          "text": [
            "[nltk_data] Downloading package stopwords to /root/nltk_data...\n",
            "[nltk_data]   Unzipping corpora/stopwords.zip.\n",
            "[nltk_data] Downloading package punkt to /root/nltk_data...\n",
            "[nltk_data]   Unzipping tokenizers/punkt.zip.\n"
          ]
        }
      ]
    },
    {
      "cell_type": "code",
      "source": [
        "print(len(result_nltk))\n",
        "print(result_nltk)"
      ],
      "metadata": {
        "id": "s3EKhQ0Cdrej",
        "outputId": "3fa8b2c3-a8c1-481d-ef4d-d02cc2b88eac",
        "colab": {
          "base_uri": "https://localhost:8080/"
        }
      },
      "execution_count": 30,
      "outputs": [
        {
          "output_type": "stream",
          "name": "stdout",
          "text": [
            "9\n",
            "[\"Even thinking starting podcast even obsessing idea months years ahead 're overwhelmed different technical stuff goes starting podcast . Well , 're going show four different ways . You start podcast year . Hey , welcome Pod , sounds cool . I 'm Studio . Steve , weird podcast coaches podcast producers 've helped dozens clients hundreds students get really amazing results , podcast , want us video . We 're going show four different ways . You start podcast basic professional level . And 're going show also pros cons option . By end video . You 're going know everything need know order start podcast today . We going cover lot video . So make sure stick around end . And like skip ahead , left time stamps description topics covering different ways create podcast thing works . How get audio files phones ? Or computers , way Google podcasts . Apple podcasts Spotify podcasting . Is podcast directories like Apple , Google Spotify . They n't actually hold MP3 file . Actually need upload MP3 file . To would call podcast host , information regarding podcast , podcast , cover art . And episodes worth screenshot us uploading . One Pottstown School podcast episodes podcast host simplecast . We add title , episode description , episode artwork , key words . Once update , . It . Updated podcast directories via something called RSS feed . What least one episode , distribute podcast different podcast directories using RSS link . This link go different podcast directories automatically update podcast . Every time post new episode . So hopefully helps whole thing .\", \"Makes sense little bit . Do n't worry ? Just get podcast host 'll make sense start uploading episodes , get four , Ways start podcast today ? Because 're podcast coaches . We could n't let jump starting podcast without least . Sharing 3 really important tips keep mind starting podcast . Cuz want said success take . Number one would preliminary name check . You n't want use name podcast using , want original . And also , want name easy spell easy pronounce took number take time listen podcasts similar topic find ways bring secret sauce different stand . I like make list I like podcast . And I n't like podcast bad . We n't want get discouraged . If find podcast . While 're thinking remember podcast 're going bring personality creativity , uniqueness , project , make list passions topics interested covering . Sometimes . It 's good make sure topic , talk 4 hours . Jean would never get bored make list things really helpful coming episode ideas . And podcast idea general . Do know guys planning ?\", \"And need help finding right topic , I video right taking exact steps . I take clients students find right topic . Now . Let 's talk different ways . You start podcast decide one right . Number one . You start podcast , using smartphone really popular option lot people getting podcast using , recommend apps get smartphone , either Apple Android phones Anchor FM spreaker studio . And , distributed different podcast directory , lot really cool options little bells whistles . The anchor app favorite allows minor edits . You cut big Songs middle performance . If n't good . You also trim beginning end , 's editing . So 's important know 're really going able advanced editing kind professional editing control accuser , compression fancy professional stuff actually phone . And imagine microphones phone n't great sounding professional podcasting microphone . This good solution . If new podcasting n't want invest lot money equipment , 're sure podcasting saying , low-risk glow investment way start product actually surprised results . You get . Lastly , really cool thing anchor app comes bunch royalty free music , use 's owned Spotify . So right , publish first episode usually within minutes podcast go live Spotify songs . You plug smartphone make sound quality even better yet . The whole playlist smartphone podcasting find right . If think option want start computer using .\", \"Yeah , probably popular option independent podcasters , USB microphones , affordable , sound really good , n't need get audio interface . All plug computer 're ready go . So , big recommendations USB microphones , stamps cute Audio Technica atr2100 X . Both great sounding microphones 're also upgradable move option number 3 , . And addition USB microphone . You also going need download audio editing software onto computer . There 's lot different options ranging free expensive all-around best . Top choice independent podcasters Reaper could download Reaper free try free 60 days . The one-time $ 60 also hear lot people recommend audacity , free diw . But I would really recommend steer clear audacity . It really causes lot headache 's worth $ 60 get better vaw beginning . If 're stuck really want stick free option .\", \"I would say GarageBand better even better GarageBand would Pro Tools . First . The Pro Tools , first takes lot longer learn Reaper . So way set pretty simple . In illustration Veronica 's , using Samson q2u .\", \"She 's going plug directly computer . Then open Reaper set track press record 's done recording . She press stop . She , add music ? And finally export recording MP3 share podcast host .\", \"I n't want feel Still , technically challenged I learned edit podcast . And I 've seen students client 's learning edit pasta going take hours get familiar works . And first , seem like 're moving slow could painful want pull hair , stick , little practice running time . I spent many years teaching people use alw 's I 've developed really fun learning style cuts BS teaches need know right get started . We videos Channel , watch Reaper I also put together free 40-minute training , editing podcast getting going Reaper . You find going Pottstown School . Com training grab seat pre-training option .\", \"Number 3 , use XLR microphone audio interface get professional podcast people intimidated podcasting . Not complicated . Once break . So first thing 're going need XLR microphone . We call XLR microphone 's output microphone XLR cable would plug . For . We top picks budget . We really liked shirt sm58 . Is classic vocal microphone ? And next really liked shirt sm70 . This really classic podcasting microphone used many professional podcasters . Once 've chosen microphone , 'll need choose audio interface . There tons audio interfaces . Many sound really good . Ranging pretty cheap . Very expensive , top recommendations podcasters budgets focusrite Scarlett I two inputs . You record two microphones time , Scarlett also single option . That 's even cheaper . If know 're ever going using one microphone . Put option . If 're going using two microphones illustration Veronica 's , going use Scarlet I-20 simply plug . Into USB input computer . Now needs plug microphone focusrite . So 'll use XLR cable . Put one end microphone end cable Shield plug Focus . Right ? And 'll see chose input number one right next input . Number one . There 's game . This knob allows us adjust volume gain microphone . Usually dynamic microphone . We 're going want crank knob pretty much high goes . And 's good place start . Now much like USB microphone .\", \"All open Reaper , set , track press record , 's recording sweet podcast vocals , last option . Video podcasting , video podcasting becoming popular among podcasters . You already recording voice podcast episode . The thing need throughout camera . This allow record different videos go different platforms . They go YouTube social media 's ultimate con . Repurposing fight . That . Yes , also complex way podcast , could n't let go without telling . So really requires three elements podcast , set . The first one like Veronica mentioned , camera ? Most people start using camera phone . We impressive cameras phones nowadays camera laptop computer . And upgrade webcam professional camera . Then 're also going want pick lighting . We really like reading lights , reading , lights blast , Shadows face , help look youthful beautiful . And I help feel confident camera . And , 're also going need pick video editing software actually able edit video together , great way like Veronica said , repurpose podcast bit intimidating , great option , n't want get overwhelmed recording pockets recording video time . Specially 're new important thing start start podcasting get Podcasting fits , put ideas start reading content , procrastination . Come gate podcast . You got us help n't subscribe Channel yet . Do . Now post really fun podcasting videos , every week Channel . Also , n't forget 've left link gear . We talked microphones USB microphones , everything find link description video also able audience even launching podcast . And , free training 's called smart way launch podcast . You snag seed going podcast comes things . That would Vanessa club area n't forget like And subscribe Channel . Germany accessories shoes . Do want pair shoes ?\"]\n"
          ]
        }
      ]
    },
    {
      "cell_type": "code",
      "source": [
        "vectorizer_nltk = CountVectorizer()\n",
        "transformer_nltk = TfidfTransformer()\n",
        "tfidf_nltk = transformer_nltk.fit_transform(vectorizer_nltk.fit_transform(result_nltk))\n",
        "feature_name_nltk = vectorizer_nltk.get_feature_names()"
      ],
      "metadata": {
        "id": "5bTe_ikKdtJy",
        "outputId": "7e8522f7-2e25-4b3a-9bf8-9cf0d7407036",
        "colab": {
          "base_uri": "https://localhost:8080/"
        }
      },
      "execution_count": 31,
      "outputs": [
        {
          "output_type": "stream",
          "name": "stderr",
          "text": [
            "/usr/local/lib/python3.7/dist-packages/sklearn/utils/deprecation.py:87: FutureWarning: Function get_feature_names is deprecated; get_feature_names is deprecated in 1.0 and will be removed in 1.2. Please use get_feature_names_out instead.\n",
            "  warnings.warn(msg, category=FutureWarning)\n"
          ]
        }
      ]
    },
    {
      "cell_type": "code",
      "source": [
        "print(len(feature_name_nltk))\n",
        "print(feature_name_nltk)"
      ],
      "metadata": {
        "id": "vdI4EN96d025",
        "outputId": "2b108d12-01d5-4b73-871d-f88ef374ebeb",
        "colab": {
          "base_uri": "https://localhost:8080/"
        }
      },
      "execution_count": 32,
      "outputs": [
        {
          "output_type": "stream",
          "name": "stdout",
          "text": [
            "527\n",
            "['20', '40', '60', 'able', 'accessories', 'accuser', 'actually', 'add', 'addition', 'adjust', 'advanced', 'affordable', 'ahead', 'all', 'allow', 'allows', 'already', 'also', 'alw', 'amazing', 'among', 'anchor', 'and', 'android', 'app', 'apple', 'apps', 'area', 'around', 'art', 'artwork', 'atr2100', 'audacity', 'audience', 'audio', 'automatically', 'bad', 'basic', 'beautiful', 'because', 'becoming', 'beginning', 'bells', 'best', 'better', 'big', 'bit', 'blast', 'bored', 'both', 'break', 'bring', 'bs', 'budget', 'budgets', 'bunch', 'but', 'by', 'cable', 'call', 'called', 'camera', 'cameras', 'causes', 'challenged', 'channel', 'cheap', 'cheaper', 'check', 'choice', 'choose', 'chose', 'chosen', 'classic', 'clear', 'client', 'clients', 'club', 'coaches', 'com', 'come', 'comes', 'coming', 'complex', 'complicated', 'compression', 'computer', 'computers', 'con', 'confident', 'cons', 'content', 'control', 'cool', 'could', 'cover', 'covering', 'crank', 'create', 'creativity', 'cut', 'cute', 'cuts', 'cuz', 'days', 'decide', 'description', 'developed', 'different', 'directly', 'directories', 'directory', 'discouraged', 'distribute', 'distributed', 'diw', 'do', 'done', 'download', 'dozens', 'dynamic', 'easy', 'edit', 'editing', 'edits', 'either', 'elements', 'end', 'episode', 'episodes', 'equipment', 'even', 'ever', 'every', 'everything', 'exact', 'expensive', 'export', 'face', 'familiar', 'fancy', 'favorite', 'feed', 'feel', 'fight', 'file', 'files', 'finally', 'find', 'finding', 'first', 'fits', 'fm', 'focus', 'focusrite', 'for', 'forget', 'four', 'free', 'fun', 'gain', 'game', 'garageband', 'gate', 'gear', 'general', 'germany', 'get', 'getting', 'glow', 'go', 'goes', 'going', 'good', 'google', 'got', 'grab', 'great', 'guys', 'hair', 'headache', 'hear', 'help', 'helped', 'helpful', 'helps', 'hey', 'high', 'hold', 'hopefully', 'host', 'hours', 'how', 'hundreds', 'idea', 'ideas', 'if', 'illustration', 'imagine', 'important', 'impressive', 'in', 'independent', 'information', 'input', 'inputs', 'interested', 'interface', 'interfaces', 'intimidated', 'intimidating', 'into', 'invest', 'investment', 'is', 'it', 'jean', 'jump', 'just', 'keep', 'key', 'kind', 'knob', 'know', 'laptop', 'last', 'lastly', 'launch', 'launching', 'learn', 'learned', 'learning', 'least', 'left', 'let', 'level', 'lighting', 'lights', 'like', 'liked', 'link', 'list', 'listen', 'little', 'live', 'll', 'longer', 'look', 'lot', 'low', 'make', 'makes', 'many', 'media', 'mentioned', 'microphone', 'microphones', 'middle', 'mind', 'minor', 'minute', 'minutes', 'money', 'months', 'most', 'move', 'moving', 'mp3', 'much', 'music', 'name', 'need', 'needs', 'never', 'new', 'next', 'not', 'now', 'nowadays', 'number', 'obsessing', 'once', 'one', 'onto', 'open', 'option', 'options', 'or', 'order', 'original', 'output', 'overwhelmed', 'owned', 'painful', 'pair', 'passions', 'pasta', 'people', 'performance', 'personality', 'phone', 'phones', 'pick', 'picks', 'place', 'planning', 'platforms', 'playlist', 'plug', 'pockets', 'pod', 'podcast', 'podcasters', 'podcasting', 'podcasts', 'popular', 'post', 'pottstown', 'practice', 'pre', 'preliminary', 'press', 'pretty', 'pro', 'probably', 'procrastination', 'producers', 'product', 'professional', 'project', 'pronounce', 'pros', 'publish', 'pull', 'put', 'q2u', 'quality', 'ranging', 're', 'reading', 'ready', 'really', 'reaper', 'recommend', 'recommendations', 'record', 'recording', 'regarding', 'remember', 'repurpose', 'repurposing', 'requires', 'results', 'right', 'risk', 'royalty', 'rss', 'running', 'said', 'samson', 'sauce', 'say', 'saying', 'scarlet', 'scarlett', 'school', 'screenshot', 'seat', 'secret', 'see', 'seed', 'seem', 'seen', 'sense', 'set', 'shadows', 'share', 'sharing', 'she', 'shield', 'shirt', 'shoes', 'show', 'similar', 'simple', 'simplecast', 'simply', 'single', 'skip', 'slow', 'sm58', 'sm70', 'smart', 'smartphone', 'snag', 'so', 'social', 'software', 'solution', 'something', 'sometimes', 'songs', 'sound', 'sounding', 'sounds', 'specially', 'spell', 'spent', 'spotify', 'spreaker', 'stamps', 'stand', 'start', 'started', 'starting', 'steer', 'steps', 'steve', 'stick', 'still', 'stop', 'stuck', 'students', 'studio', 'stuff', 'style', 'subscribe', 'success', 'sure', 'surprised', 'sweet', 'take', 'takes', 'taking', 'talk', 'talked', 'teaches', 'teaching', 'technica', 'technical', 'technically', 'telling', 'that', 'the', 'then', 'there', 'they', 'thing', 'things', 'think', 'thinking', 'this', 'three', 'throughout', 'time', 'tips', 'title', 'to', 'today', 'together', 'tons', 'took', 'tools', 'top', 'topic', 'topics', 'track', 'training', 'trim', 'try', 'two', 'ultimate', 'uniqueness', 'update', 'updated', 'upgradable', 'upgrade', 'upload', 'uploading', 'us', 'usb', 'use', 'used', 'using', 'usually', 'vanessa', 'vaw', 've', 'veronica', 'very', 'via', 'video', 'videos', 'vocal', 'vocals', 'voice', 'volume', 'want', 'watch', 'way', 'ways', 'we', 'webcam', 'week', 'weird', 'welcome', 'well', 'what', 'while', 'whistles', 'whole', 'within', 'without', 'words', 'works', 'worry', 'worth', 'would', 'xlr', 'yeah', 'year', 'years', 'yes', 'yet', 'you', 'youthful', 'youtube']\n"
          ]
        }
      ]
    },
    {
      "cell_type": "code",
      "source": [
        "sponsor_n =0\n",
        "for i in range(len(feature_name_nltk)):\n",
        "  if feature_name_nltk[i]=='sponsor':\n",
        "    sponsor_n =i\n",
        "    print(i)"
      ],
      "metadata": {
        "id": "U4gdpbdtd2Ca"
      },
      "execution_count": 33,
      "outputs": []
    },
    {
      "cell_type": "code",
      "source": [
        "# 找出含sponsor的段落內的keyword和其tfidf\n",
        "from nltk.util import pr\n",
        "print(type(tfidf_nltk))\n",
        "keyword_segment = []\n",
        "tfidf_segment = []\n",
        "#print(tfidf_nltk)\n",
        "#print(tfidf_nltk.toarray())\n",
        "array_tfidf_nltk = tfidf_nltk.toarray()\n",
        "#print(array_tfidf_nltk)\n",
        "#print(array_tfidf_nltk[0])\n",
        "for i in range(len(array_tfidf_nltk)):\n",
        "  if(array_tfidf_nltk[i][sponsor_n]>0):\n",
        "    print(i)\n",
        "    for j in range(len(array_tfidf_nltk[i])):\n",
        "      if(array_tfidf_nltk[i][j]>0):\n",
        "        keyword_segment.append(feature_name_nltk[j])\n",
        "        tfidf_segment.append(array_tfidf_nltk[i][j])\n",
        "        print(feature_name_nltk[j],\" \",array_tfidf_nltk[i][j])"
      ],
      "metadata": {
        "id": "tURlFXlrd4F7",
        "outputId": "e155ac07-ec65-4e7a-bf5a-55f15e58e4bc",
        "colab": {
          "base_uri": "https://localhost:8080/"
        }
      },
      "execution_count": 34,
      "outputs": [
        {
          "output_type": "stream",
          "name": "stdout",
          "text": [
            "<class 'scipy.sparse.csr.csr_matrix'>\n",
            "7\n",
            "20   0.05571378162230826\n",
            "adjust   0.05571378162230826\n",
            "allows   0.047056746947920544\n",
            "also   0.026115184571334556\n",
            "and   0.07080124124413797\n",
            "audio   0.12274344929046423\n",
            "break   0.05571378162230826\n",
            "budget   0.05571378162230826\n",
            "budgets   0.05571378162230826\n",
            "cable   0.16714134486692478\n",
            "call   0.047056746947920544\n",
            "cheap   0.05571378162230826\n",
            "cheaper   0.05571378162230826\n",
            "choose   0.05571378162230826\n",
            "chose   0.05571378162230826\n",
            "chosen   0.05571378162230826\n",
            "classic   0.11142756324461651\n",
            "complicated   0.05571378162230826\n",
            "computer   0.0322574484224337\n",
            "crank   0.05571378162230826\n",
            "dynamic   0.05571378162230826\n",
            "end   0.08182896619364281\n",
            "even   0.0322574484224337\n",
            "ever   0.05571378162230826\n",
            "expensive   0.047056746947920544\n",
            "first   0.0322574484224337\n",
            "focus   0.05571378162230826\n",
            "focusrite   0.11142756324461651\n",
            "for   0.05571378162230826\n",
            "gain   0.05571378162230826\n",
            "game   0.05571378162230826\n",
            "get   0.026115184571334556\n",
            "goes   0.047056746947920544\n",
            "going   0.11800206874022998\n",
            "good   0.07230034623368416\n",
            "high   0.05571378162230826\n",
            "if   0.07230034623368416\n",
            "illustration   0.047056746947920544\n",
            "input   0.16714134486692478\n",
            "inputs   0.05571378162230826\n",
            "interface   0.09411349389584109\n",
            "interfaces   0.05571378162230826\n",
            "intimidated   0.05571378162230826\n",
            "into   0.05571378162230826\n",
            "is   0.047056746947920544\n",
            "knob   0.11142756324461651\n",
            "know   0.0322574484224337\n",
            "like   0.0322574484224337\n",
            "liked   0.11142756324461651\n",
            "ll   0.14117024084376165\n",
            "many   0.09411349389584109\n",
            "microphone   0.5318882802586783\n",
            "microphones   0.07230034623368416\n",
            "much   0.11142756324461651\n",
            "need   0.057932393178539515\n",
            "needs   0.05571378162230826\n",
            "next   0.11142756324461651\n",
            "not   0.05571378162230826\n",
            "now   0.08182896619364281\n",
            "number   0.10845051935052623\n",
            "once   0.09411349389584109\n",
            "one   0.11586478635707903\n",
            "option   0.057932393178539515\n",
            "output   0.05571378162230826\n",
            "people   0.0322574484224337\n",
            "picks   0.05571378162230826\n",
            "place   0.05571378162230826\n",
            "plug   0.1446006924673683\n",
            "podcast   0.026115184571334556\n",
            "podcasters   0.08182896619364281\n",
            "podcasting   0.07230034623368416\n",
            "pretty   0.09411349389584109\n",
            "professional   0.07230034623368416\n",
            "put   0.08182896619364281\n",
            "ranging   0.047056746947920544\n",
            "re   0.10446073828533822\n",
            "really   0.10446073828533822\n",
            "recommendations   0.047056746947920544\n",
            "record   0.04091448309682141\n",
            "right   0.08182896619364281\n",
            "scarlet   0.05571378162230826\n",
            "scarlett   0.11142756324461651\n",
            "see   0.05571378162230826\n",
            "shield   0.05571378162230826\n",
            "shirt   0.11142756324461651\n",
            "simply   0.05571378162230826\n",
            "single   0.05571378162230826\n",
            "sm58   0.05571378162230826\n",
            "sm70   0.05571378162230826\n",
            "so   0.057932393178539515\n",
            "sound   0.04091448309682141\n",
            "start   0.0322574484224337\n",
            "that   0.047056746947920544\n",
            "there   0.09411349389584109\n",
            "thing   0.03615017311684208\n",
            "this   0.07230034623368416\n",
            "time   0.028966196589269758\n",
            "tons   0.05571378162230826\n",
            "top   0.09411349389584109\n",
            "two   0.16714134486692478\n",
            "us   0.04091448309682141\n",
            "usb   0.08182896619364281\n",
            "use   0.10845051935052623\n",
            "used   0.05571378162230826\n",
            "using   0.057932393178539515\n",
            "usually   0.047056746947920544\n",
            "ve   0.03615017311684208\n",
            "veronica   0.04091448309682141\n",
            "very   0.05571378162230826\n",
            "vocal   0.05571378162230826\n",
            "volume   0.05571378162230826\n",
            "want   0.026115184571334556\n",
            "we   0.1290297936897348\n",
            "would   0.028966196589269758\n",
            "xlr   0.2785689081115413\n",
            "you   0.026115184571334556\n"
          ]
        }
      ]
    },
    {
      "cell_type": "code",
      "source": [
        "print(keyword_segment)\n",
        "print(tfidf_segment)"
      ],
      "metadata": {
        "id": "qp2nIQa_d7eD",
        "outputId": "3d84f3cf-0f77-47c4-c7e1-1e1d7b8f4d2b",
        "colab": {
          "base_uri": "https://localhost:8080/"
        }
      },
      "execution_count": 35,
      "outputs": [
        {
          "output_type": "stream",
          "name": "stdout",
          "text": [
            "['20', 'adjust', 'allows', 'also', 'and', 'audio', 'break', 'budget', 'budgets', 'cable', 'call', 'cheap', 'cheaper', 'choose', 'chose', 'chosen', 'classic', 'complicated', 'computer', 'crank', 'dynamic', 'end', 'even', 'ever', 'expensive', 'first', 'focus', 'focusrite', 'for', 'gain', 'game', 'get', 'goes', 'going', 'good', 'high', 'if', 'illustration', 'input', 'inputs', 'interface', 'interfaces', 'intimidated', 'into', 'is', 'knob', 'know', 'like', 'liked', 'll', 'many', 'microphone', 'microphones', 'much', 'need', 'needs', 'next', 'not', 'now', 'number', 'once', 'one', 'option', 'output', 'people', 'picks', 'place', 'plug', 'podcast', 'podcasters', 'podcasting', 'pretty', 'professional', 'put', 'ranging', 're', 'really', 'recommendations', 'record', 'right', 'scarlet', 'scarlett', 'see', 'shield', 'shirt', 'simply', 'single', 'sm58', 'sm70', 'so', 'sound', 'start', 'that', 'there', 'thing', 'this', 'time', 'tons', 'top', 'two', 'us', 'usb', 'use', 'used', 'using', 'usually', 've', 'veronica', 'very', 'vocal', 'volume', 'want', 'we', 'would', 'xlr', 'you']\n",
            "[0.05571378162230826, 0.05571378162230826, 0.047056746947920544, 0.026115184571334556, 0.07080124124413797, 0.12274344929046423, 0.05571378162230826, 0.05571378162230826, 0.05571378162230826, 0.16714134486692478, 0.047056746947920544, 0.05571378162230826, 0.05571378162230826, 0.05571378162230826, 0.05571378162230826, 0.05571378162230826, 0.11142756324461651, 0.05571378162230826, 0.0322574484224337, 0.05571378162230826, 0.05571378162230826, 0.08182896619364281, 0.0322574484224337, 0.05571378162230826, 0.047056746947920544, 0.0322574484224337, 0.05571378162230826, 0.11142756324461651, 0.05571378162230826, 0.05571378162230826, 0.05571378162230826, 0.026115184571334556, 0.047056746947920544, 0.11800206874022998, 0.07230034623368416, 0.05571378162230826, 0.07230034623368416, 0.047056746947920544, 0.16714134486692478, 0.05571378162230826, 0.09411349389584109, 0.05571378162230826, 0.05571378162230826, 0.05571378162230826, 0.047056746947920544, 0.11142756324461651, 0.0322574484224337, 0.0322574484224337, 0.11142756324461651, 0.14117024084376165, 0.09411349389584109, 0.5318882802586783, 0.07230034623368416, 0.11142756324461651, 0.057932393178539515, 0.05571378162230826, 0.11142756324461651, 0.05571378162230826, 0.08182896619364281, 0.10845051935052623, 0.09411349389584109, 0.11586478635707903, 0.057932393178539515, 0.05571378162230826, 0.0322574484224337, 0.05571378162230826, 0.05571378162230826, 0.1446006924673683, 0.026115184571334556, 0.08182896619364281, 0.07230034623368416, 0.09411349389584109, 0.07230034623368416, 0.08182896619364281, 0.047056746947920544, 0.10446073828533822, 0.10446073828533822, 0.047056746947920544, 0.04091448309682141, 0.08182896619364281, 0.05571378162230826, 0.11142756324461651, 0.05571378162230826, 0.05571378162230826, 0.11142756324461651, 0.05571378162230826, 0.05571378162230826, 0.05571378162230826, 0.05571378162230826, 0.057932393178539515, 0.04091448309682141, 0.0322574484224337, 0.047056746947920544, 0.09411349389584109, 0.03615017311684208, 0.07230034623368416, 0.028966196589269758, 0.05571378162230826, 0.09411349389584109, 0.16714134486692478, 0.04091448309682141, 0.08182896619364281, 0.10845051935052623, 0.05571378162230826, 0.057932393178539515, 0.047056746947920544, 0.03615017311684208, 0.04091448309682141, 0.05571378162230826, 0.05571378162230826, 0.05571378162230826, 0.026115184571334556, 0.1290297936897348, 0.028966196589269758, 0.2785689081115413, 0.026115184571334556]\n"
          ]
        }
      ]
    },
    {
      "cell_type": "code",
      "source": [
        "# 把含sponsor的後lenth句都作為極有可能是sponaor的區塊\n",
        "length = 10\n",
        "sponsor_block = []\n",
        "for i in range(len(sentenced_text)):\n",
        "  ws = word_tokenize(sentenced_text[i])\n",
        "  for w in ws:\n",
        "    if(\"sponsor\" == w):\n",
        "      sponsor_block.append(sentenced_text[i])\n",
        "      for h in range(length):\n",
        "        if((i+h)<len(sentenced_text)): sponsor_block.append(sentenced_text[i+h])\n",
        "        \n",
        "      \n",
        "sponsor_block = \" \".join(sponsor_block)\n",
        "print(sponsor_block)"
      ],
      "metadata": {
        "id": "cxazD3cNd731",
        "outputId": "103c751f-fee0-49ea-92ef-909654f9e3fb",
        "colab": {
          "base_uri": "https://localhost:8080/"
        }
      },
      "execution_count": 36,
      "outputs": [
        {
          "output_type": "stream",
          "name": "stdout",
          "text": [
            "\n"
          ]
        }
      ]
    },
    {
      "cell_type": "code",
      "source": [
        "# 把sponsor block內的keyword和tdidf記下來\n",
        "sponsor_word = word_tokenize(sponsor_block)\n",
        "print(sponsor_word)\n",
        "\n",
        "keyword_sponsor=[]\n",
        "tfidf_sponsor=[]\n",
        "for i in range(len(sponsor_word)):\n",
        "  if(sponsor_word[i] in keyword_segment and sponsor_word[i] not in keyword_sponsor):\n",
        "    keyword_sponsor.append(sponsor_word[i])\n",
        "    tfidf_sponsor.append(tfidf_segment[keyword_segment.index(sponsor_word[i])])\n",
        "print(len(keyword_sponsor))\n",
        "print(len(tfidf_sponsor))\n",
        "n = len(keyword_sponsor)\n",
        "for i in range(n):\n",
        "  for j in range(0,n-i-1):\n",
        "    \n",
        "    if(tfidf_sponsor[j]>tfidf_sponsor[j+1]):\n",
        "      tfidf_sponsor[j], tfidf_sponsor[j+1] =  tfidf_sponsor[j+1], tfidf_sponsor[j]\n",
        "      keyword_sponsor[j], keyword_sponsor[j+1] =  keyword_sponsor[j+1], keyword_sponsor[j]\n",
        "for i in range(0,n):\n",
        "  print(keyword_sponsor[i],\" \",tfidf_sponsor[i])"
      ],
      "metadata": {
        "id": "lXmpUUzLekqs",
        "outputId": "d6fea064-1fc0-4613-a704-a8d94a4d63b9",
        "colab": {
          "base_uri": "https://localhost:8080/"
        }
      },
      "execution_count": 37,
      "outputs": [
        {
          "output_type": "stream",
          "name": "stdout",
          "text": [
            "[]\n",
            "0\n",
            "0\n"
          ]
        }
      ]
    },
    {
      "cell_type": "markdown",
      "source": [
        "## 篩選出名詞和形容詞"
      ],
      "metadata": {
        "id": "iw4YcQmaiSHl"
      }
    },
    {
      "cell_type": "code",
      "source": [
        "import nltk\n",
        "from nltk.tokenize import word_tokenize\n",
        "from nltk.tag import pos_tag\n",
        "nltk.download('averaged_perceptron_tagger')\n",
        "def preprocess(sent):\n",
        "    sent = nltk.pos_tag(sent)\n",
        "    return sent\n",
        "part = preprocess(keyword_sponsor)"
      ],
      "metadata": {
        "id": "L1BV7VcneoLu",
        "outputId": "00ef6e1c-8e72-462d-d8b8-052fc1968e4e",
        "colab": {
          "base_uri": "https://localhost:8080/"
        }
      },
      "execution_count": 38,
      "outputs": [
        {
          "output_type": "stream",
          "name": "stdout",
          "text": [
            "[nltk_data] Downloading package averaged_perceptron_tagger to\n",
            "[nltk_data]     /root/nltk_data...\n",
            "[nltk_data]   Unzipping taggers/averaged_perceptron_tagger.zip.\n"
          ]
        }
      ]
    },
    {
      "cell_type": "code",
      "source": [
        "select_word = []\n",
        "#part = part.reverse()\n",
        "for i in range(len(part)):\n",
        "  if(part[i][1]=='NN' or part[i][1]=='NNS' or part[i][1]=='JJ'or part[i][1]=='JJR'):\n",
        "    select_word.append(part[i][0])"
      ],
      "metadata": {
        "id": "lpNmMcV-iXRq"
      },
      "execution_count": 39,
      "outputs": []
    },
    {
      "cell_type": "code",
      "source": [
        "select_word"
      ],
      "metadata": {
        "id": "qHcsaaLWiaid",
        "outputId": "ca055446-401d-4362-9afd-690a2201cc83",
        "colab": {
          "base_uri": "https://localhost:8080/"
        }
      },
      "execution_count": 40,
      "outputs": [
        {
          "output_type": "execute_result",
          "data": {
            "text/plain": [
              "[]"
            ]
          },
          "metadata": {},
          "execution_count": 40
        }
      ]
    },
    {
      "cell_type": "markdown",
      "source": [
        "## 去掉sponsor"
      ],
      "metadata": {
        "id": "HjftTxNiiqLk"
      }
    },
    {
      "cell_type": "code",
      "source": [
        "for i in range(len(sentenced_text)):\n",
        "  matches = [a for a in select_word if a in sentenced_text[i]]\n",
        "  #print(all_sentence[i])\n",
        "  print(matches)"
      ],
      "metadata": {
        "id": "140ai3jZipN1",
        "outputId": "9d57e61a-8b20-4724-c2a2-38346c22852f",
        "colab": {
          "base_uri": "https://localhost:8080/"
        }
      },
      "execution_count": 41,
      "outputs": [
        {
          "output_type": "stream",
          "name": "stdout",
          "text": [
            "[]\n",
            "[]\n",
            "[]\n",
            "[]\n",
            "[]\n",
            "[]\n",
            "[]\n",
            "[]\n",
            "[]\n",
            "[]\n",
            "[]\n",
            "[]\n",
            "[]\n",
            "[]\n",
            "[]\n",
            "[]\n",
            "[]\n",
            "[]\n",
            "[]\n",
            "[]\n",
            "[]\n",
            "[]\n",
            "[]\n",
            "[]\n",
            "[]\n",
            "[]\n",
            "[]\n",
            "[]\n",
            "[]\n",
            "[]\n",
            "[]\n",
            "[]\n",
            "[]\n",
            "[]\n",
            "[]\n",
            "[]\n",
            "[]\n",
            "[]\n",
            "[]\n",
            "[]\n",
            "[]\n",
            "[]\n",
            "[]\n",
            "[]\n",
            "[]\n",
            "[]\n",
            "[]\n",
            "[]\n",
            "[]\n",
            "[]\n",
            "[]\n",
            "[]\n",
            "[]\n",
            "[]\n",
            "[]\n",
            "[]\n",
            "[]\n",
            "[]\n",
            "[]\n",
            "[]\n",
            "[]\n",
            "[]\n",
            "[]\n",
            "[]\n",
            "[]\n",
            "[]\n",
            "[]\n",
            "[]\n",
            "[]\n",
            "[]\n",
            "[]\n",
            "[]\n",
            "[]\n",
            "[]\n",
            "[]\n",
            "[]\n",
            "[]\n",
            "[]\n",
            "[]\n",
            "[]\n",
            "[]\n",
            "[]\n",
            "[]\n",
            "[]\n",
            "[]\n",
            "[]\n",
            "[]\n",
            "[]\n",
            "[]\n",
            "[]\n",
            "[]\n",
            "[]\n",
            "[]\n",
            "[]\n",
            "[]\n",
            "[]\n",
            "[]\n",
            "[]\n",
            "[]\n",
            "[]\n",
            "[]\n",
            "[]\n",
            "[]\n",
            "[]\n",
            "[]\n",
            "[]\n",
            "[]\n",
            "[]\n",
            "[]\n",
            "[]\n",
            "[]\n",
            "[]\n",
            "[]\n",
            "[]\n",
            "[]\n",
            "[]\n",
            "[]\n",
            "[]\n",
            "[]\n",
            "[]\n",
            "[]\n",
            "[]\n",
            "[]\n",
            "[]\n",
            "[]\n",
            "[]\n",
            "[]\n",
            "[]\n",
            "[]\n",
            "[]\n",
            "[]\n",
            "[]\n",
            "[]\n",
            "[]\n",
            "[]\n",
            "[]\n",
            "[]\n",
            "[]\n",
            "[]\n",
            "[]\n",
            "[]\n",
            "[]\n",
            "[]\n",
            "[]\n",
            "[]\n",
            "[]\n",
            "[]\n",
            "[]\n",
            "[]\n",
            "[]\n",
            "[]\n",
            "[]\n",
            "[]\n",
            "[]\n",
            "[]\n",
            "[]\n",
            "[]\n",
            "[]\n",
            "[]\n",
            "[]\n",
            "[]\n",
            "[]\n",
            "[]\n",
            "[]\n",
            "[]\n",
            "[]\n"
          ]
        }
      ]
    },
    {
      "cell_type": "code",
      "source": [
        "num = 5\n",
        "match_num=1\n",
        "before_flag = [0]*num\n",
        "is_sponsor = []\n",
        "for i in range(len(sentenced_text)):\n",
        "  if(\"sponsor\" in sentenced_text[i]):\n",
        "    \n",
        "    for j in range(i,len(sentenced_text)):\n",
        "      matches = [a for a in select_word if a in sentenced_text[j]]\n",
        "      \n",
        "      for f in range(num-1,0,-1):\n",
        "        before_flag[f] = before_flag[f-1]\n",
        "      if(len(matches)>match_num or i==j): before_flag[0] = 1\n",
        "      else: before_flag[0] = 0\n",
        "      print(before_flag)\n",
        "      flag=0\n",
        "      for f in range(num):\n",
        "        if(before_flag[f]==1): \n",
        "          flag=1\n",
        "          break\n",
        "      if(flag==1):\n",
        "        if((j-num-1)>=i): is_sponsor.append(sentenced_text[j-num-1])\n",
        "        \n",
        "      else:\n",
        "        is_sponsor.append(\"----------------------------------------------------------------\")\n",
        "        break\n",
        "    break"
      ],
      "metadata": {
        "id": "z3aYkc0kjOnc"
      },
      "execution_count": 42,
      "outputs": []
    },
    {
      "cell_type": "code",
      "source": [
        "for sent in is_sponsor: \n",
        "  print(sent)"
      ],
      "metadata": {
        "id": "tjRtFEbhjbMC"
      },
      "execution_count": 43,
      "outputs": []
    },
    {
      "cell_type": "code",
      "source": [
        "del_sponsor_sentence = []\n",
        "for i in range(len(sentenced_text)):\n",
        "  if (sentenced_text[i] not in is_sponsor):\n",
        "    del_sponsor_sentence.append(sentenced_text[i])\n",
        "for sent in del_sponsor_sentence: \n",
        "  print(sent)"
      ],
      "metadata": {
        "id": "a9jrZcTPjhfD",
        "outputId": "c3385269-089f-4a0f-c122-5ae6b9177c3c",
        "colab": {
          "base_uri": "https://localhost:8080/"
        }
      },
      "execution_count": 44,
      "outputs": [
        {
          "output_type": "stream",
          "name": "stdout",
          "text": [
            " Even thinking about starting your podcast even obsessing about the idea for months and years ahead or you're overwhelmed by all the different technical stuff that goes into starting a podcast. \n",
            "Well, and we're going to show you the four different ways. \n",
            "You can start your podcast this year. \n",
            "Hey, welcome to the Pod, sounds cool. \n",
            "I'm Studio. \n",
            "Steve, it weird podcast coaches podcast producers and we've helped dozens of clients and hundreds of students to get some really amazing results, their podcast, and we want to do the same for you and us video. \n",
            "We're going to show you the four different ways. \n",
            "You can start your podcast from the very basic to a professional level. \n",
            "And we're going to show you also the pros and cons of each option. \n",
            "By the end of this video. \n",
            "You're going to know everything you need to know in order to start your podcast today. \n",
            "We are going to cover a lot in this video. \n",
            "So make sure you stick around until the end. \n",
            "And for those of you who like to skip ahead, we left some time stamps in the description below of each of the topics will be covering the different ways that we can create a podcast thing works. \n",
            "How do we get the audio files from our phones? \n",
            "Or computers, all the way up to Google podcasts. \n",
            "Apple podcasts in Spotify about podcasting. \n",
            "Is it the podcast directories like Apple, and Google and Spotify. \n",
            "They don't actually hold your MP3 file. \n",
            "Actually need to upload your MP3 file. \n",
            "To would call the podcast host, has all the information regarding your podcast, your podcast, cover art. \n",
            "And your episodes are worth a screenshot of us uploading. \n",
            "One of our Pottstown School podcast episodes to our podcast host simplecast. \n",
            "We add a title, we had episode description, some episode artwork, and some key words. \n",
            "Once we update it, here. \n",
            "It is. \n",
            "Updated to all of the podcast directories via something called an RSS feed. \n",
            "What do you have at least one episode, you can distribute your podcast to the different podcast directories using this RSS link. \n",
            "This link will go to the different podcast directories and it will automatically update your podcast. \n",
            "Every time you post a new episode is. \n",
            "So hopefully that helps the whole thing. \n",
            "Makes sense to you a little bit more. \n",
            "Don't worry? \n",
            "Just get a podcast host and it'll all make sense as you start uploading episodes, and before we get into the four, Ways that you can start your podcast today? \n",
            "Because we're podcast coaches. \n",
            "We couldn't let you just jump into starting a podcast without at least. \n",
            "Sharing 3 really important tips that you keep in mind before starting your podcast. \n",
            "Cuz we want to said you have for success to take. \n",
            "Number one would be to do a preliminary name check. \n",
            "You don't want to use the same name that all the podcast out of using, you want to be original. \n",
            "And also, you want your name to be easy to spell and easy to pronounce and took number to take the time to listen to some other podcasts that are similar in topic and find ways that you can bring your secret sauce and that you can be different and stand out. \n",
            "I like to make a list of what I like about the podcast. \n",
            "And what I don't like about the podcast bad. \n",
            "We don't want you to get discouraged. \n",
            "If you find that there are other podcast doing. \n",
            "While you're thinking about doing remember that this is your podcast and you're going to bring your personality and your creativity, and your uniqueness, to this project, make a list of all of your passions and all of the topics you be interested in covering. \n",
            "Sometimes. \n",
            "It's good to make sure that you have a topic, you can talk about 4 hours. \n",
            "Jean and that you would never get bored of make a list of all of those things that can be really helpful for coming up with episode ideas. \n",
            "And for your podcast idea in general. \n",
            "Do you know what you guys are planning? \n",
            "And if you need more help with finding the right topic for you, I have this video right here taking you through the exact steps. \n",
            "I take my clients and students to find the right topic for them. \n",
            "Now. \n",
            "Let's talk about the different ways. \n",
            "You can start your podcast so you can decide which one is right for you. \n",
            "Number one. \n",
            "You can start your podcast, using your smartphone really popular option that a lot of people are getting into podcast using, we recommend to apps for this that you can get on your smartphone, either Apple or Android phones and that is Anchor FM or spreaker studio. \n",
            "And then from there, distributed to the different podcast directory, have a lot of really cool options and little bells and whistles on them. \n",
            "The anchor app is our favorite and it allows you to do minor edits. \n",
            "You can cut out big Songs in the middle of your performance. \n",
            "If it wasn't good. \n",
            "You can also trim the beginning in the end, but that's about it with the editing. \n",
            "So it's important to know that you're not really going to be able to do any advanced editing or any kind of professional editing or control any of this accuser, the compression or any of that fancy professional stuff actually on your phone. \n",
            "And as you can imagine the microphones on your phone aren't as great sounding as some of the professional podcasting microphone out there. \n",
            "This is a good solution. \n",
            "If you are new to podcasting and you don't want to invest a lot of money and equipment, and you're not sure if podcasting is your saying, so this is a low-risk glow investment way for you to start your product and you actually be surprised with the results. \n",
            "You can get. \n",
            "Lastly, the other really cool thing about the anchor app is it comes with a bunch of royalty free music, you can use and it's owned by Spotify. \n",
            "So right, when you publish your first episode usually within minutes your podcast will go live on Spotify songs. \n",
            "You can plug into your smartphone to make the sound quality even better yet. \n",
            "The whole playlist that we did all about smartphone podcasting that you can find right here. \n",
            "If you think this is the option that you want to start with your computer and are using my. \n",
            "Yeah, and this is probably the most popular option for independent podcasters, because USB microphones, are affordable, and they sound really good, and you don't need to get an audio interface. \n",
            "All you have to do is plug it into your computer and you're ready to go. \n",
            "So, our big to recommendations for USB microphones, are the stamps and cute to you and the Audio Technica atr2100 X. \n",
            "Both of these are great sounding microphones and they're also upgradable when we move on to option number 3, which were not to you. \n",
            "And in addition to a USB microphone. \n",
            "You are also going to need to download an audio editing software onto your computer. \n",
            "There's a lot of different options ranging from free to very expensive here by all-around best. \n",
            "Top choice for independent podcasters is Reaper and you could download Reaper for free and try it free for 60 days. \n",
            "The one-time $60 after that he also hear a lot of people recommend audacity, which is a free diw. \n",
            "But I would really recommend that you steer clear from audacity. \n",
            "It really just causes a lot of headache and it's worth the $60 to just get a better vaw from the beginning. \n",
            "If you're stuck and and really want to stick to a free option. \n",
            "I would say GarageBand better than even better than GarageBand would be Pro Tools. \n",
            "First. \n",
            "The Pro Tools, first takes a lot longer to learn then Reaper. \n",
            "So the way you set this up is pretty simple. \n",
            "In this illustration here Veronica's, using the Samson q2u. \n",
            "She's going to plug it directly into the computer. \n",
            "Then all she has to do is open up Reaper set up a track and press record when she's done recording. \n",
            "She can press stop. \n",
            "She can she can, she can add music? \n",
            "And then finally she can export this recording as an MP3 to share with her podcast host. \n",
            "I don't want you to feel Still, technically challenged and I learned how to edit a podcast. \n",
            "And I've seen my students in client's learning how to edit their own pasta is going to have to take a few hours to get familiar with how it works. \n",
            "And it first, it can seem like you're moving so slow and it could be painful and you want to pull out your hair, but just stick with it, a little practice and you will be up and running in no time. \n",
            "I spent many years teaching people how to use the alw's and I've developed a really fun learning style that cuts through all the BS and just teaches you what you need to know right now to get started. \n",
            "We have some videos here on our Channel, you can watch about Reaper and I also put together a free 40-minute training, all about editing a podcast and getting going in Reaper. \n",
            "You can find that by going to Pottstown School. \n",
            "Com training and grab your seat for that pre-training option. \n",
            "Number 3, you can use them XLR microphone and an audio interface and this is where we get into professional podcast into people being intimidated by podcasting. \n",
            "Not that complicated. \n",
            "Once you break it down. \n",
            "So the first thing you're going to need is an XLR microphone. \n",
            "We call it an XLR microphone because that's the output of the microphone is an XLR cable is what you would plug into it. \n",
            "For this. \n",
            "We have to top picks for those on a budget. \n",
            "We really liked the shirt sm58. \n",
            "Is that classic vocal microphone? \n",
            "And then next we really liked the shirt sm70. \n",
            "This is a really classic podcasting microphone used by many professional podcasters. \n",
            "Once you've chosen a microphone, then you'll need to choose an audio interface. \n",
            "There are tons of audio interfaces. \n",
            "Many that sound really good. \n",
            "Ranging from pretty cheap too. \n",
            "Very expensive, but my top recommendations for podcasters of all budgets is the focusrite Scarlett to I to this has two inputs. \n",
            "You can record two microphones at the same time, but Scarlett also has a single in the option. \n",
            "That's even cheaper. \n",
            "If you know that you're only ever going to be using one microphone or has it for him. \n",
            "Put option. \n",
            "If you're going to be using more than two microphones do in this illustration Veronica's, going to use the Scarlet to I-20 and simply plug. \n",
            "Into the USB input on her computer. \n",
            "Now all she needs to do is plug a microphone into the focusrite. \n",
            "So she'll use an XLR cable. \n",
            "Put one end into the microphone and the other end of the cable Shield plug into the Focus. \n",
            "Right? \n",
            "And you'll see she chose input number one and right next to input. \n",
            "Number one. \n",
            "There's a game. \n",
            "This knob allows us to adjust volume or the gain of the microphone. \n",
            "Usually with dynamic microphone. \n",
            "We're going to want to crank this knob pretty much as high as it goes. \n",
            "And that's a good place to start. \n",
            "Now much like she did with the USB microphone. \n",
            "All she has to do is open up Reaper, set up, a track and press record, and she's recording some sweet podcast vocals, for our last option. \n",
            "Video podcasting, video podcasting is becoming more and more popular among podcasters. \n",
            "You are already recording your voice and you have your podcast episode. \n",
            "The only thing you need to do throughout it camera. \n",
            "This will allow you to record different videos that can go on different platforms. \n",
            "They can go here on YouTube or on your social media and it's the ultimate con. \n",
            "Repurposing for you or fight. \n",
            "That be so it. \n",
            "Yes, but this is also the most complex way to podcast, but we couldn't let you go without telling you more about it. \n",
            "So this really just requires three more elements to your podcast, set up. \n",
            "The first one like Veronica mentioned, is it camera? \n",
            "Most people will start with just using the camera on their phone. \n",
            "We have very impressive cameras on their phones nowadays or the camera on your laptop or on your computer. \n",
            "And then you can upgrade to a webcam or a more professional camera. \n",
            "Then you're also going to want to pick up some lighting. \n",
            "We really like reading lights, reading, lights blast, all the Shadows off of your face, and help you to look more youthful and beautiful. \n",
            "And I can help you to feel more confident on camera. \n",
            "And then after that, you're also going to need to pick up some video editing software to actually be able to edit the video together, but this is a great way like Veronica said, to repurpose your podcast and it can be a bit intimidating, a great option, but we don't want you to get too overwhelmed with recording your pockets and recording video at the same time. \n",
            "Specially if you're new to both the important thing is for you to start to start podcasting to get into Podcasting fits, you put your ideas out there and to start reading content, no more procrastination. \n",
            "Come out of the gate with your podcast. \n",
            "You got us here to help you if you haven't subscribe to our Channel yet. \n",
            "Do so. \n",
            "Now we post really fun podcasting videos, every week here on our Channel. \n",
            "Also, don't forget that we've left the link to all the gear. \n",
            "We talked about the microphones USB microphones, everything you can find the link in the description of this video and also to be able to have an audience even before launching your podcast. \n",
            "And for this, we have a free training and it's called the smart way to launch your podcast. \n",
            "You can snag your seed by going to podcast is more that comes to things. \n",
            "That would be Vanessa club that area and don't forget to like And subscribe to our Channel. \n",
            "Germany accessories shoes. \n",
            "Do you want a pair of shoes?\n",
            "\n"
          ]
        }
      ]
    },
    {
      "cell_type": "markdown",
      "source": [
        "# 重新來分段一次"
      ],
      "metadata": {
        "id": "e54KIYnfj3Mr"
      }
    },
    {
      "cell_type": "code",
      "source": [
        "strs = \" \"\n",
        "for i in range(len(del_sponsor_sentence)):\n",
        "  if(del_sponsor_sentence[i] != \" \"):\n",
        "    strs =del_sponsor_sentence[i]\n",
        "  if(i+1<len(del_sponsor_sentence)):\n",
        "    if(strs == del_sponsor_sentence[i+1]):\n",
        "      del_sponsor_sentence[i+1]=\" \"\n",
        "vecr = CountVectorizer(vocabulary=wrdvecs.index)\n",
        "\n",
        "sentence_vectors = vecr.transform(del_sponsor_sentence).dot(wrdvecs)\n",
        "\n",
        "penalty = get_penalty([sentence_vectors], segment_len)\n",
        "print('penalty %4.2f' % penalty)\n",
        "\n",
        "optimal_segmentation = split_optimal(sentence_vectors, penalty, seg_limit=250)\n",
        "segmented_text = get_segments(del_sponsor_sentence, optimal_segmentation)\n",
        "\n",
        "print('%d sentences, %d segments, avg %4.2f sentences per segment' % (\n",
        "    len(del_sponsor_sentence), len(segmented_text), len(del_sponsor_sentence) / len(segmented_text)))\n",
        "\n",
        "with open(book_path + '.seg', 'wt') as f:\n",
        "    for i, segment_sentences in enumerate(segmented_text):\n",
        "        segment_str = ' // '.join(segment_sentences)\n",
        "        gain = optimal_segmentation.gains[i] if i < len(segmented_text) - 1 else 0\n",
        "        segment_info = ' [%d sentences, %4.3f] ' % (len(segment_sentences), gain) \n",
        "        print(segment_str + '\\n8<' + '=' * 30 + segment_info + \"=\" * 30, file=f)\n",
        "\n",
        "greedy_segmentation = split_greedy(sentence_vectors, max_splits=len(optimal_segmentation.splits))\n",
        "greedy_segmented_text = get_segments(del_sponsor_sentence, greedy_segmentation)\n",
        "lengths_optimal = [len(segment) for segment in segmented_text for sentence in segment]\n",
        "lengths_greedy = [len(segment) for segment in greedy_segmented_text for sentence in segment]\n",
        "df = pd.DataFrame({'greedy':lengths_greedy, 'optimal': lengths_optimal})\n",
        "df.plot.line(figsize=(18, 3), title='Segment lenghts over text')\n",
        "df.plot.hist(bins=30, alpha=0.5, figsize=(10, 3), title='Histogram of segment lengths')\n",
        "\n",
        "totals = [get_total(sentence_vectors, seg.splits, penalty) \n",
        "          for seg in [optimal_segmentation, greedy_segmentation]]\n",
        "print('optimal score %4.2f, greedy score %4.2f' % tuple(totals))\n",
        "print(totals)\n",
        "print(tuple(totals))\n",
        "print('ratio of scores %5.4f' % (totals[0] / totals[1]))"
      ],
      "metadata": {
        "id": "boaB1_ULj7Xt",
        "outputId": "6b6dd169-5839-4980-83b6-5bc0025865ac",
        "colab": {
          "base_uri": "https://localhost:8080/",
          "height": 547
        }
      },
      "execution_count": 45,
      "outputs": [
        {
          "output_type": "stream",
          "name": "stdout",
          "text": [
            "penalty 43.46\n",
            "166 sentences, 6 segments, avg 27.67 sentences per segment\n",
            "optimal score 4687.22, greedy score 4670.18\n",
            "[4687.217306351976, 4670.179503553744]\n",
            "(4687.217306351976, 4670.179503553744)\n",
            "ratio of scores 1.0036\n"
          ]
        },
        {
          "output_type": "display_data",
          "data": {
            "text/plain": [
              "<Figure size 1296x216 with 1 Axes>"
            ],
            "image/png": "[encoded data removed]"
          },
          "metadata": {
            "needs_background": "light"
          }
        },
        {
          "output_type": "display_data",
          "data": {
            "text/plain": [
              "<Figure size 720x216 with 1 Axes>"
            ],
            "image/png": "[encoded data removed]"
          },
          "metadata": {
            "needs_background": "light"
          }
        }
      ]
    },
    {
      "cell_type": "code",
      "source": [
        "for i in range(len(segmented_text)):\n",
        "  print(segmented_text[i])"
      ],
      "metadata": {
        "id": "7sTKAqBAkNs8",
        "outputId": "aa06542a-ecfa-4297-bdd2-445160faeb39",
        "colab": {
          "base_uri": "https://localhost:8080/"
        }
      },
      "execution_count": 46,
      "outputs": [
        {
          "output_type": "stream",
          "name": "stdout",
          "text": [
            "[\" Even thinking about starting your podcast even obsessing about the idea for months and years ahead or you're overwhelmed by all the different technical stuff that goes into starting a podcast. \", \"Well, and we're going to show you the four different ways. \", 'You can start your podcast this year. ', 'Hey, welcome to the Pod, sounds cool. ', \"I'm Studio. \", \"Steve, it weird podcast coaches podcast producers and we've helped dozens of clients and hundreds of students to get some really amazing results, their podcast, and we want to do the same for you and us video. \", \"We're going to show you the four different ways. \", 'You can start your podcast from the very basic to a professional level. ', \"And we're going to show you also the pros and cons of each option. \", 'By the end of this video. ', \"You're going to know everything you need to know in order to start your podcast today. \", 'We are going to cover a lot in this video. ', 'So make sure you stick around until the end. ', 'And for those of you who like to skip ahead, we left some time stamps in the description below of each of the topics will be covering the different ways that we can create a podcast thing works. ', 'How do we get the audio files from our phones? ', 'Or computers, all the way up to Google podcasts. ', 'Apple podcasts in Spotify about podcasting. ', 'Is it the podcast directories like Apple, and Google and Spotify. ', \"They don't actually hold your MP3 file. \", 'Actually need to upload your MP3 file. ', 'To would call the podcast host, has all the information regarding your podcast, your podcast, cover art. ', 'And your episodes are worth a screenshot of us uploading. ', 'One of our Pottstown School podcast episodes to our podcast host simplecast. ', 'We add a title, we had episode description, some episode artwork, and some key words. ', 'Once we update it, here. ', 'It is. ', 'Updated to all of the podcast directories via something called an RSS feed. ', 'What do you have at least one episode, you can distribute your podcast to the different podcast directories using this RSS link. ', 'This link will go to the different podcast directories and it will automatically update your podcast. ', 'Every time you post a new episode is. ', 'So hopefully that helps the whole thing. ', 'Makes sense to you a little bit more. ', \"Don't worry? \", \"Just get a podcast host and it'll all make sense as you start uploading episodes, and before we get into the four, Ways that you can start your podcast today? \", \"Because we're podcast coaches. \", \"We couldn't let you just jump into starting a podcast without at least. \", 'Sharing 3 really important tips that you keep in mind before starting your podcast. ', 'Cuz we want to said you have for success to take. ', 'Number one would be to do a preliminary name check. ', \"You don't want to use the same name that all the podcast out of using, you want to be original. \", 'And also, you want your name to be easy to spell and easy to pronounce and took number to take the time to listen to some other podcasts that are similar in topic and find ways that you can bring your secret sauce and that you can be different and stand out. ', 'I like to make a list of what I like about the podcast. ', \"And what I don't like about the podcast bad. \", \"We don't want you to get discouraged. \", 'If you find that there are other podcast doing. ', \"While you're thinking about doing remember that this is your podcast and you're going to bring your personality and your creativity, and your uniqueness, to this project, make a list of all of your passions and all of the topics you be interested in covering. \", 'Sometimes. ', \"It's good to make sure that you have a topic, you can talk about 4 hours. \", 'Jean and that you would never get bored of make a list of all of those things that can be really helpful for coming up with episode ideas. ', 'And for your podcast idea in general. ', 'Do you know what you guys are planning? ', 'And if you need more help with finding the right topic for you, I have this video right here taking you through the exact steps. ', 'I take my clients and students to find the right topic for them. ', 'Now. ', \"Let's talk about the different ways. \", 'You can start your podcast so you can decide which one is right for you. ', 'Number one. ', 'You can start your podcast, using your smartphone really popular option that a lot of people are getting into podcast using, we recommend to apps for this that you can get on your smartphone, either Apple or Android phones and that is Anchor FM or spreaker studio. ', 'And then from there, distributed to the different podcast directory, have a lot of really cool options and little bells and whistles on them. ', 'The anchor app is our favorite and it allows you to do minor edits. ', 'You can cut out big Songs in the middle of your performance. ', \"If it wasn't good. \", \"You can also trim the beginning in the end, but that's about it with the editing. \", \"So it's important to know that you're not really going to be able to do any advanced editing or any kind of professional editing or control any of this accuser, the compression or any of that fancy professional stuff actually on your phone. \", \"And as you can imagine the microphones on your phone aren't as great sounding as some of the professional podcasting microphone out there. \", 'This is a good solution. ', \"If you are new to podcasting and you don't want to invest a lot of money and equipment, and you're not sure if podcasting is your saying, so this is a low-risk glow investment way for you to start your product and you actually be surprised with the results. \", 'You can get. ', \"Lastly, the other really cool thing about the anchor app is it comes with a bunch of royalty free music, you can use and it's owned by Spotify. \", 'So right, when you publish your first episode usually within minutes your podcast will go live on Spotify songs. ', 'You can plug into your smartphone to make the sound quality even better yet. ', 'The whole playlist that we did all about smartphone podcasting that you can find right here. ', 'If you think this is the option that you want to start with your computer and are using my. ', \"Yeah, and this is probably the most popular option for independent podcasters, because USB microphones, are affordable, and they sound really good, and you don't need to get an audio interface. \", \"All you have to do is plug it into your computer and you're ready to go. \"]\n",
            "['So, our big to recommendations for USB microphones, are the stamps and cute to you and the Audio Technica atr2100 X. ', \"Both of these are great sounding microphones and they're also upgradable when we move on to option number 3, which were not to you. \", 'And in addition to a USB microphone. ', 'You are also going to need to download an audio editing software onto your computer. ', \"There's a lot of different options ranging from free to very expensive here by all-around best. \", 'Top choice for independent podcasters is Reaper and you could download Reaper for free and try it free for 60 days. ', 'The one-time $60 after that he also hear a lot of people recommend audacity, which is a free diw. ', 'But I would really recommend that you steer clear from audacity. ', \"It really just causes a lot of headache and it's worth the $60 to just get a better vaw from the beginning. \", \"If you're stuck and and really want to stick to a free option. \", 'I would say GarageBand better than even better than GarageBand would be Pro Tools. ', 'First. ', 'The Pro Tools, first takes a lot longer to learn then Reaper. ', 'So the way you set this up is pretty simple. ', \"In this illustration here Veronica's, using the Samson q2u. \"]\n",
            "[\"She's going to plug it directly into the computer. \", \"Then all she has to do is open up Reaper set up a track and press record when she's done recording. \", 'She can press stop. ', 'She can she can, she can add music? ', 'And then finally she can export this recording as an MP3 to share with her podcast host. ']\n",
            "[\"I don't want you to feel Still, technically challenged and I learned how to edit a podcast. \", \"And I've seen my students in client's learning how to edit their own pasta is going to have to take a few hours to get familiar with how it works. \", \"And it first, it can seem like you're moving so slow and it could be painful and you want to pull out your hair, but just stick with it, a little practice and you will be up and running in no time. \", \"I spent many years teaching people how to use the alw's and I've developed a really fun learning style that cuts through all the BS and just teaches you what you need to know right now to get started. \", 'We have some videos here on our Channel, you can watch about Reaper and I also put together a free 40-minute training, all about editing a podcast and getting going in Reaper. ', 'You can find that by going to Pottstown School. ', 'Com training and grab your seat for that pre-training option. ']\n",
            "['Number 3, you can use them XLR microphone and an audio interface and this is where we get into professional podcast into people being intimidated by podcasting. ', 'Not that complicated. ', 'Once you break it down. ', \"So the first thing you're going to need is an XLR microphone. \", \"We call it an XLR microphone because that's the output of the microphone is an XLR cable is what you would plug into it. \", 'For this. ', 'We have to top picks for those on a budget. ', 'We really liked the shirt sm58. ', 'Is that classic vocal microphone? ', 'And then next we really liked the shirt sm70. ', 'This is a really classic podcasting microphone used by many professional podcasters. ', \"Once you've chosen a microphone, then you'll need to choose an audio interface. \", 'There are tons of audio interfaces. ', 'Many that sound really good. ', 'Ranging from pretty cheap too. ', 'Very expensive, but my top recommendations for podcasters of all budgets is the focusrite Scarlett to I to this has two inputs. ', 'You can record two microphones at the same time, but Scarlett also has a single in the option. ', \"That's even cheaper. \", \"If you know that you're only ever going to be using one microphone or has it for him. \", 'Put option. ', \"If you're going to be using more than two microphones do in this illustration Veronica's, going to use the Scarlet to I-20 and simply plug. \", 'Into the USB input on her computer. ', 'Now all she needs to do is plug a microphone into the focusrite. ', \"So she'll use an XLR cable. \", 'Put one end into the microphone and the other end of the cable Shield plug into the Focus. ', 'Right? ', \"And you'll see she chose input number one and right next to input. \", 'Number one. ', \"There's a game. \", 'This knob allows us to adjust volume or the gain of the microphone. ', 'Usually with dynamic microphone. ', \"We're going to want to crank this knob pretty much as high as it goes. \", \"And that's a good place to start. \", 'Now much like she did with the USB microphone. ']\n",
            "[\"All she has to do is open up Reaper, set up, a track and press record, and she's recording some sweet podcast vocals, for our last option. \", 'Video podcasting, video podcasting is becoming more and more popular among podcasters. ', 'You are already recording your voice and you have your podcast episode. ', 'The only thing you need to do throughout it camera. ', 'This will allow you to record different videos that can go on different platforms. ', \"They can go here on YouTube or on your social media and it's the ultimate con. \", 'Repurposing for you or fight. ', 'That be so it. ', \"Yes, but this is also the most complex way to podcast, but we couldn't let you go without telling you more about it. \", 'So this really just requires three more elements to your podcast, set up. ', 'The first one like Veronica mentioned, is it camera? ', 'Most people will start with just using the camera on their phone. ', 'We have very impressive cameras on their phones nowadays or the camera on your laptop or on your computer. ', 'And then you can upgrade to a webcam or a more professional camera. ', \"Then you're also going to want to pick up some lighting. \", 'We really like reading lights, reading, lights blast, all the Shadows off of your face, and help you to look more youthful and beautiful. ', 'And I can help you to feel more confident on camera. ', \"And then after that, you're also going to need to pick up some video editing software to actually be able to edit the video together, but this is a great way like Veronica said, to repurpose your podcast and it can be a bit intimidating, a great option, but we don't want you to get too overwhelmed with recording your pockets and recording video at the same time. \", \"Specially if you're new to both the important thing is for you to start to start podcasting to get into Podcasting fits, you put your ideas out there and to start reading content, no more procrastination. \", 'Come out of the gate with your podcast. ', \"You got us here to help you if you haven't subscribe to our Channel yet. \", 'Do so. ', 'Now we post really fun podcasting videos, every week here on our Channel. ', \"Also, don't forget that we've left the link to all the gear. \", 'We talked about the microphones USB microphones, everything you can find the link in the description of this video and also to be able to have an audience even before launching your podcast. ', \"And for this, we have a free training and it's called the smart way to launch your podcast. \", 'You can snag your seed by going to podcast is more that comes to things. ', \"That would be Vanessa club that area and don't forget to like And subscribe to our Channel. \", 'Germany accessories shoes. ', 'Do you want a pair of shoes?\\n']\n"
          ]
        }
      ]
    },
    {
      "cell_type": "code",
      "source": [
        "# 將每個段落內的句子合起來變成string\n",
        "podcast_test = [\"\"]*len(segmented_text)\n",
        "for i in range(len(segmented_text)):\n",
        "  for j in range(len(segmented_text[i])):\n",
        "    podcast_test[i]+=segmented_text[i][j]"
      ],
      "metadata": {
        "id": "t2WSn6cikSTM"
      },
      "execution_count": 47,
      "outputs": []
    },
    {
      "cell_type": "code",
      "source": [
        "headlines = headlineGenerator(podcast_test, min_length, max_length)"
      ],
      "metadata": {
        "id": "7QVXj81ikiWu",
        "outputId": "7c9e0681-2bf1-4771-98d3-614286d4e42f",
        "colab": {
          "base_uri": "https://localhost:8080/"
        }
      },
      "execution_count": 48,
      "outputs": [
        {
          "output_type": "stream",
          "name": "stderr",
          "text": [
            "Ignoring args : (5, 150)\n"
          ]
        }
      ]
    },
    {
      "cell_type": "code",
      "source": [
        "for headline in headlines:\n",
        "  print(headline)\n",
        "  "
      ],
      "metadata": {
        "id": "-rdoPJtkko4j",
        "outputId": "9ee9324f-8397-4df1-af4f-bdaf4ccde48f",
        "colab": {
          "base_uri": "https://localhost:8080/"
        }
      },
      "execution_count": 49,
      "outputs": [
        {
          "output_type": "stream",
          "name": "stdout",
          "text": [
            "{'generated_text': 'Podcasting - How to Start Your Own Podcast'}\n",
            "{'generated_text': 'USB Microphones - The Best USB Microphones For Podcasting'}\n",
            "{'generated_text': 'Reaper - How to Record a Podcast'}\n",
            "{'generated_text': 'How to Edit a Podcast and Get Going in Reaper'}\n",
            "{'generated_text': 'Podcasting Tips - The Scarlett to I-20'}\n",
            "{'generated_text': 'Podcasting - The Ultimate Con'}\n"
          ]
        }
      ]
    },
    {
      "cell_type": "code",
      "source": [
        "import re\n",
        "sentence_tokenizer2 = SimpleSentenceTokenizer()\n",
        "index=0\n",
        "headlines_string = [\"\"]*len(headlines)\n",
        "for headline in headlines:\n",
        "  sentenced_healine = re.split(r'([;,\\.\\*\\n-])',headline['generated_text'])\n",
        "  #print(sentenced_healine)\n",
        "  for i in range(len(sentenced_healine)):\n",
        "    sentenced_healine[i] = sentenced_healine[i].strip()\n",
        "    #ss = s1\n",
        "    #print(\"!!!\"+ss+\"!!!\")\n",
        "  print(sentenced_healine)\n",
        "  strs = \" \"  \n",
        "  #headlines_string[index]+=sentenced_healine[0]\n",
        "  for i in range(0,(len(sentenced_healine))):\n",
        "    if(sentenced_healine[i] != \" \"):\n",
        "      strs = sentenced_healine[i]\n",
        "      for j in range(i+1,(len(sentenced_healine))):\n",
        "        if(strs == sentenced_healine[j]):\n",
        "          sentenced_healine[j]=\" \"\n",
        "        #if(sentenced_healine[j] != \" \"):\n",
        "          #strs = sentenced_healine[j]\n",
        "  print(sentenced_healine)\n",
        "  for k in range(len(sentenced_healine)):\n",
        "    if(sentenced_healine[k] != \" \"):\n",
        "      headlines_string[index]+=\" \"\n",
        "      headlines_string[index]+=sentenced_healine[k]\n",
        "  print(type(headlines_string[index]))\n",
        "  headlines_string[index]=headlines_string[index].rstrip(\"-\")\n",
        "  index+=1"
      ],
      "metadata": {
        "id": "8XhAZ-2ek5CL",
        "outputId": "55bd5f85-5f95-45db-badf-f5574d49c551",
        "colab": {
          "base_uri": "https://localhost:8080/"
        }
      },
      "execution_count": 50,
      "outputs": [
        {
          "output_type": "stream",
          "name": "stdout",
          "text": [
            "['Podcasting', '-', 'How to Start Your Own Podcast']\n",
            "['Podcasting', '-', 'How to Start Your Own Podcast']\n",
            "<class 'str'>\n",
            "['USB Microphones', '-', 'The Best USB Microphones For Podcasting']\n",
            "['USB Microphones', '-', 'The Best USB Microphones For Podcasting']\n",
            "<class 'str'>\n",
            "['Reaper', '-', 'How to Record a Podcast']\n",
            "['Reaper', '-', 'How to Record a Podcast']\n",
            "<class 'str'>\n",
            "['How to Edit a Podcast and Get Going in Reaper']\n",
            "['How to Edit a Podcast and Get Going in Reaper']\n",
            "<class 'str'>\n",
            "['Podcasting Tips', '-', 'The Scarlett to I', '-', '20']\n",
            "['Podcasting Tips', '-', 'The Scarlett to I', ' ', '20']\n",
            "<class 'str'>\n",
            "['Podcasting', '-', 'The Ultimate Con']\n",
            "['Podcasting', '-', 'The Ultimate Con']\n",
            "<class 'str'>\n"
          ]
        }
      ]
    },
    {
      "cell_type": "code",
      "source": [
        "for headline_string in headlines_string:\n",
        "  print(headline_string)"
      ],
      "metadata": {
        "id": "nRSHPWdMk79T",
        "outputId": "14fa1e5d-4e1e-4269-a12d-63aba5858f3c",
        "colab": {
          "base_uri": "https://localhost:8080/"
        }
      },
      "execution_count": 51,
      "outputs": [
        {
          "output_type": "stream",
          "name": "stdout",
          "text": [
            " Podcasting - How to Start Your Own Podcast\n",
            " USB Microphones - The Best USB Microphones For Podcasting\n",
            " Reaper - How to Record a Podcast\n",
            " How to Edit a Podcast and Get Going in Reaper\n",
            " Podcasting Tips - The Scarlett to I 20\n",
            " Podcasting - The Ultimate Con\n"
          ]
        }
      ]
    }
  ]
}
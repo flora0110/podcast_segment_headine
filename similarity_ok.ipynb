{
  "nbformat": 4,
  "nbformat_minor": 0,
  "metadata": {
    "colab": {
      "name": "similarity_ok.ipynb",
      "provenance": [],
      "authorship_tag": "ABX9TyNazNaO6Qe3BrnHqFijQQbW",
      "include_colab_link": true
    },
    "kernelspec": {
      "name": "python3",
      "display_name": "Python 3"
    },
    "language_info": {
      "name": "python"
    },
    "widgets": {
      "application/vnd.jupyter.widget-state+json": {
        "ca6d6ac077ed46568dc96a12e88638ac": {
          "model_module": "@jupyter-widgets/controls",
          "model_name": "HBoxModel",
          "model_module_version": "1.5.0",
          "state": {
            "_dom_classes": [],
            "_model_module": "@jupyter-widgets/controls",
            "_model_module_version": "1.5.0",
            "_model_name": "HBoxModel",
            "_view_count": null,
            "_view_module": "@jupyter-widgets/controls",
            "_view_module_version": "1.5.0",
            "_view_name": "HBoxView",
            "box_style": "",
            "children": [
              "IPY_MODEL_b2932ab54fa640f7ac200ffabc53ed24",
              "IPY_MODEL_c7f6f2e5adae4d5abe2722d88da16f89",
              "IPY_MODEL_becf83c8031a48c4ace92f15df90a261"
            ],
            "layout": "IPY_MODEL_bec4746461004ed98516a4c71a3256e4"
          }
        },
        "b2932ab54fa640f7ac200ffabc53ed24": {
          "model_module": "@jupyter-widgets/controls",
          "model_name": "HTMLModel",
          "model_module_version": "1.5.0",
          "state": {
            "_dom_classes": [],
            "_model_module": "@jupyter-widgets/controls",
            "_model_module_version": "1.5.0",
            "_model_name": "HTMLModel",
            "_view_count": null,
            "_view_module": "@jupyter-widgets/controls",
            "_view_module_version": "1.5.0",
            "_view_name": "HTMLView",
            "description": "",
            "description_tooltip": null,
            "layout": "IPY_MODEL_ce46220174ca462ea6df61c66e54c4a9",
            "placeholder": "​",
            "style": "IPY_MODEL_d127138883604606b6be8e9c80802d13",
            "value": "Downloading: 100%"
          }
        },
        "c7f6f2e5adae4d5abe2722d88da16f89": {
          "model_module": "@jupyter-widgets/controls",
          "model_name": "FloatProgressModel",
          "model_module_version": "1.5.0",
          "state": {
            "_dom_classes": [],
            "_model_module": "@jupyter-widgets/controls",
            "_model_module_version": "1.5.0",
            "_model_name": "FloatProgressModel",
            "_view_count": null,
            "_view_module": "@jupyter-widgets/controls",
            "_view_module_version": "1.5.0",
            "_view_name": "ProgressView",
            "bar_style": "success",
            "description": "",
            "description_tooltip": null,
            "layout": "IPY_MODEL_53aad196f3c342bf87013a4108db3c04",
            "max": 737,
            "min": 0,
            "orientation": "horizontal",
            "style": "IPY_MODEL_95beed8f0382462eb2c5668f5bb2db7e",
            "value": 737
          }
        },
        "becf83c8031a48c4ace92f15df90a261": {
          "model_module": "@jupyter-widgets/controls",
          "model_name": "HTMLModel",
          "model_module_version": "1.5.0",
          "state": {
            "_dom_classes": [],
            "_model_module": "@jupyter-widgets/controls",
            "_model_module_version": "1.5.0",
            "_model_name": "HTMLModel",
            "_view_count": null,
            "_view_module": "@jupyter-widgets/controls",
            "_view_module_version": "1.5.0",
            "_view_name": "HTMLView",
            "description": "",
            "description_tooltip": null,
            "layout": "IPY_MODEL_2841719ec63f4b088c2006b8c14d3b99",
            "placeholder": "​",
            "style": "IPY_MODEL_b349c5ed8fa64e54a3337e0db6ffcdce",
            "value": " 737/737 [00:00&lt;00:00, 10.9kB/s]"
          }
        },
        "bec4746461004ed98516a4c71a3256e4": {
          "model_module": "@jupyter-widgets/base",
          "model_name": "LayoutModel",
          "model_module_version": "1.2.0",
          "state": {
            "_model_module": "@jupyter-widgets/base",
            "_model_module_version": "1.2.0",
            "_model_name": "LayoutModel",
            "_view_count": null,
            "_view_module": "@jupyter-widgets/base",
            "_view_module_version": "1.2.0",
            "_view_name": "LayoutView",
            "align_content": null,
            "align_items": null,
            "align_self": null,
            "border": null,
            "bottom": null,
            "display": null,
            "flex": null,
            "flex_flow": null,
            "grid_area": null,
            "grid_auto_columns": null,
            "grid_auto_flow": null,
            "grid_auto_rows": null,
            "grid_column": null,
            "grid_gap": null,
            "grid_row": null,
            "grid_template_areas": null,
            "grid_template_columns": null,
            "grid_template_rows": null,
            "height": null,
            "justify_content": null,
            "justify_items": null,
            "left": null,
            "margin": null,
            "max_height": null,
            "max_width": null,
            "min_height": null,
            "min_width": null,
            "object_fit": null,
            "object_position": null,
            "order": null,
            "overflow": null,
            "overflow_x": null,
            "overflow_y": null,
            "padding": null,
            "right": null,
            "top": null,
            "visibility": null,
            "width": null
          }
        },
        "ce46220174ca462ea6df61c66e54c4a9": {
          "model_module": "@jupyter-widgets/base",
          "model_name": "LayoutModel",
          "model_module_version": "1.2.0",
          "state": {
            "_model_module": "@jupyter-widgets/base",
            "_model_module_version": "1.2.0",
            "_model_name": "LayoutModel",
            "_view_count": null,
            "_view_module": "@jupyter-widgets/base",
            "_view_module_version": "1.2.0",
            "_view_name": "LayoutView",
            "align_content": null,
            "align_items": null,
            "align_self": null,
            "border": null,
            "bottom": null,
            "display": null,
            "flex": null,
            "flex_flow": null,
            "grid_area": null,
            "grid_auto_columns": null,
            "grid_auto_flow": null,
            "grid_auto_rows": null,
            "grid_column": null,
            "grid_gap": null,
            "grid_row": null,
            "grid_template_areas": null,
            "grid_template_columns": null,
            "grid_template_rows": null,
            "height": null,
            "justify_content": null,
            "justify_items": null,
            "left": null,
            "margin": null,
            "max_height": null,
            "max_width": null,
            "min_height": null,
            "min_width": null,
            "object_fit": null,
            "object_position": null,
            "order": null,
            "overflow": null,
            "overflow_x": null,
            "overflow_y": null,
            "padding": null,
            "right": null,
            "top": null,
            "visibility": null,
            "width": null
          }
        },
        "d127138883604606b6be8e9c80802d13": {
          "model_module": "@jupyter-widgets/controls",
          "model_name": "DescriptionStyleModel",
          "model_module_version": "1.5.0",
          "state": {
            "_model_module": "@jupyter-widgets/controls",
            "_model_module_version": "1.5.0",
            "_model_name": "DescriptionStyleModel",
            "_view_count": null,
            "_view_module": "@jupyter-widgets/base",
            "_view_module_version": "1.2.0",
            "_view_name": "StyleView",
            "description_width": ""
          }
        },
        "53aad196f3c342bf87013a4108db3c04": {
          "model_module": "@jupyter-widgets/base",
          "model_name": "LayoutModel",
          "model_module_version": "1.2.0",
          "state": {
            "_model_module": "@jupyter-widgets/base",
            "_model_module_version": "1.2.0",
            "_model_name": "LayoutModel",
            "_view_count": null,
            "_view_module": "@jupyter-widgets/base",
            "_view_module_version": "1.2.0",
            "_view_name": "LayoutView",
            "align_content": null,
            "align_items": null,
            "align_self": null,
            "border": null,
            "bottom": null,
            "display": null,
            "flex": null,
            "flex_flow": null,
            "grid_area": null,
            "grid_auto_columns": null,
            "grid_auto_flow": null,
            "grid_auto_rows": null,
            "grid_column": null,
            "grid_gap": null,
            "grid_row": null,
            "grid_template_areas": null,
            "grid_template_columns": null,
            "grid_template_rows": null,
            "height": null,
            "justify_content": null,
            "justify_items": null,
            "left": null,
            "margin": null,
            "max_height": null,
            "max_width": null,
            "min_height": null,
            "min_width": null,
            "object_fit": null,
            "object_position": null,
            "order": null,
            "overflow": null,
            "overflow_x": null,
            "overflow_y": null,
            "padding": null,
            "right": null,
            "top": null,
            "visibility": null,
            "width": null
          }
        },
        "95beed8f0382462eb2c5668f5bb2db7e": {
          "model_module": "@jupyter-widgets/controls",
          "model_name": "ProgressStyleModel",
          "model_module_version": "1.5.0",
          "state": {
            "_model_module": "@jupyter-widgets/controls",
            "_model_module_version": "1.5.0",
            "_model_name": "ProgressStyleModel",
            "_view_count": null,
            "_view_module": "@jupyter-widgets/base",
            "_view_module_version": "1.2.0",
            "_view_name": "StyleView",
            "bar_color": null,
            "description_width": ""
          }
        },
        "2841719ec63f4b088c2006b8c14d3b99": {
          "model_module": "@jupyter-widgets/base",
          "model_name": "LayoutModel",
          "model_module_version": "1.2.0",
          "state": {
            "_model_module": "@jupyter-widgets/base",
            "_model_module_version": "1.2.0",
            "_model_name": "LayoutModel",
            "_view_count": null,
            "_view_module": "@jupyter-widgets/base",
            "_view_module_version": "1.2.0",
            "_view_name": "LayoutView",
            "align_content": null,
            "align_items": null,
            "align_self": null,
            "border": null,
            "bottom": null,
            "display": null,
            "flex": null,
            "flex_flow": null,
            "grid_area": null,
            "grid_auto_columns": null,
            "grid_auto_flow": null,
            "grid_auto_rows": null,
            "grid_column": null,
            "grid_gap": null,
            "grid_row": null,
            "grid_template_areas": null,
            "grid_template_columns": null,
            "grid_template_rows": null,
            "height": null,
            "justify_content": null,
            "justify_items": null,
            "left": null,
            "margin": null,
            "max_height": null,
            "max_width": null,
            "min_height": null,
            "min_width": null,
            "object_fit": null,
            "object_position": null,
            "order": null,
            "overflow": null,
            "overflow_x": null,
            "overflow_y": null,
            "padding": null,
            "right": null,
            "top": null,
            "visibility": null,
            "width": null
          }
        },
        "b349c5ed8fa64e54a3337e0db6ffcdce": {
          "model_module": "@jupyter-widgets/controls",
          "model_name": "DescriptionStyleModel",
          "model_module_version": "1.5.0",
          "state": {
            "_model_module": "@jupyter-widgets/controls",
            "_model_module_version": "1.5.0",
            "_model_name": "DescriptionStyleModel",
            "_view_count": null,
            "_view_module": "@jupyter-widgets/base",
            "_view_module_version": "1.2.0",
            "_view_name": "StyleView",
            "description_width": ""
          }
        },
        "c75e76b30a7a4bf196089bd36708f126": {
          "model_module": "@jupyter-widgets/controls",
          "model_name": "HBoxModel",
          "model_module_version": "1.5.0",
          "state": {
            "_dom_classes": [],
            "_model_module": "@jupyter-widgets/controls",
            "_model_module_version": "1.5.0",
            "_model_name": "HBoxModel",
            "_view_count": null,
            "_view_module": "@jupyter-widgets/controls",
            "_view_module_version": "1.5.0",
            "_view_name": "HBoxView",
            "box_style": "",
            "children": [
              "IPY_MODEL_31b06263c73f41599fbf8d3d436d2839",
              "IPY_MODEL_4729a4dee60349b882f5344828ac4a13",
              "IPY_MODEL_f81febf5288a458a92ec7cce67f2c9f2"
            ],
            "layout": "IPY_MODEL_47aa1b9db231419abd99bacb31ff85da"
          }
        },
        "31b06263c73f41599fbf8d3d436d2839": {
          "model_module": "@jupyter-widgets/controls",
          "model_name": "HTMLModel",
          "model_module_version": "1.5.0",
          "state": {
            "_dom_classes": [],
            "_model_module": "@jupyter-widgets/controls",
            "_model_module_version": "1.5.0",
            "_model_name": "HTMLModel",
            "_view_count": null,
            "_view_module": "@jupyter-widgets/controls",
            "_view_module_version": "1.5.0",
            "_view_name": "HTMLView",
            "description": "",
            "description_tooltip": null,
            "layout": "IPY_MODEL_1ad86edd7dbe4180a3e5c53df2a94ad4",
            "placeholder": "​",
            "style": "IPY_MODEL_41c1176b16cd422f8020712f6915e4c7",
            "value": "Downloading: 100%"
          }
        },
        "4729a4dee60349b882f5344828ac4a13": {
          "model_module": "@jupyter-widgets/controls",
          "model_name": "FloatProgressModel",
          "model_module_version": "1.5.0",
          "state": {
            "_dom_classes": [],
            "_model_module": "@jupyter-widgets/controls",
            "_model_module_version": "1.5.0",
            "_model_name": "FloatProgressModel",
            "_view_count": null,
            "_view_module": "@jupyter-widgets/controls",
            "_view_module_version": "1.5.0",
            "_view_name": "ProgressView",
            "bar_style": "success",
            "description": "",
            "description_tooltip": null,
            "layout": "IPY_MODEL_849b011bf0864e6283b0eb7971c91b57",
            "max": 190,
            "min": 0,
            "orientation": "horizontal",
            "style": "IPY_MODEL_ab4f3bb932eb4c64b569101f02c375e7",
            "value": 190
          }
        },
        "f81febf5288a458a92ec7cce67f2c9f2": {
          "model_module": "@jupyter-widgets/controls",
          "model_name": "HTMLModel",
          "model_module_version": "1.5.0",
          "state": {
            "_dom_classes": [],
            "_model_module": "@jupyter-widgets/controls",
            "_model_module_version": "1.5.0",
            "_model_name": "HTMLModel",
            "_view_count": null,
            "_view_module": "@jupyter-widgets/controls",
            "_view_module_version": "1.5.0",
            "_view_name": "HTMLView",
            "description": "",
            "description_tooltip": null,
            "layout": "IPY_MODEL_8149b5d414ed4ee0ab93698defacd14a",
            "placeholder": "​",
            "style": "IPY_MODEL_139d214ea47e44beb7bea4a18b5c5147",
            "value": " 190/190 [00:00&lt;00:00, 5.82kB/s]"
          }
        },
        "47aa1b9db231419abd99bacb31ff85da": {
          "model_module": "@jupyter-widgets/base",
          "model_name": "LayoutModel",
          "model_module_version": "1.2.0",
          "state": {
            "_model_module": "@jupyter-widgets/base",
            "_model_module_version": "1.2.0",
            "_model_name": "LayoutModel",
            "_view_count": null,
            "_view_module": "@jupyter-widgets/base",
            "_view_module_version": "1.2.0",
            "_view_name": "LayoutView",
            "align_content": null,
            "align_items": null,
            "align_self": null,
            "border": null,
            "bottom": null,
            "display": null,
            "flex": null,
            "flex_flow": null,
            "grid_area": null,
            "grid_auto_columns": null,
            "grid_auto_flow": null,
            "grid_auto_rows": null,
            "grid_column": null,
            "grid_gap": null,
            "grid_row": null,
            "grid_template_areas": null,
            "grid_template_columns": null,
            "grid_template_rows": null,
            "height": null,
            "justify_content": null,
            "justify_items": null,
            "left": null,
            "margin": null,
            "max_height": null,
            "max_width": null,
            "min_height": null,
            "min_width": null,
            "object_fit": null,
            "object_position": null,
            "order": null,
            "overflow": null,
            "overflow_x": null,
            "overflow_y": null,
            "padding": null,
            "right": null,
            "top": null,
            "visibility": null,
            "width": null
          }
        },
        "1ad86edd7dbe4180a3e5c53df2a94ad4": {
          "model_module": "@jupyter-widgets/base",
          "model_name": "LayoutModel",
          "model_module_version": "1.2.0",
          "state": {
            "_model_module": "@jupyter-widgets/base",
            "_model_module_version": "1.2.0",
            "_model_name": "LayoutModel",
            "_view_count": null,
            "_view_module": "@jupyter-widgets/base",
            "_view_module_version": "1.2.0",
            "_view_name": "LayoutView",
            "align_content": null,
            "align_items": null,
            "align_self": null,
            "border": null,
            "bottom": null,
            "display": null,
            "flex": null,
            "flex_flow": null,
            "grid_area": null,
            "grid_auto_columns": null,
            "grid_auto_flow": null,
            "grid_auto_rows": null,
            "grid_column": null,
            "grid_gap": null,
            "grid_row": null,
            "grid_template_areas": null,
            "grid_template_columns": null,
            "grid_template_rows": null,
            "height": null,
            "justify_content": null,
            "justify_items": null,
            "left": null,
            "margin": null,
            "max_height": null,
            "max_width": null,
            "min_height": null,
            "min_width": null,
            "object_fit": null,
            "object_position": null,
            "order": null,
            "overflow": null,
            "overflow_x": null,
            "overflow_y": null,
            "padding": null,
            "right": null,
            "top": null,
            "visibility": null,
            "width": null
          }
        },
        "41c1176b16cd422f8020712f6915e4c7": {
          "model_module": "@jupyter-widgets/controls",
          "model_name": "DescriptionStyleModel",
          "model_module_version": "1.5.0",
          "state": {
            "_model_module": "@jupyter-widgets/controls",
            "_model_module_version": "1.5.0",
            "_model_name": "DescriptionStyleModel",
            "_view_count": null,
            "_view_module": "@jupyter-widgets/base",
            "_view_module_version": "1.2.0",
            "_view_name": "StyleView",
            "description_width": ""
          }
        },
        "849b011bf0864e6283b0eb7971c91b57": {
          "model_module": "@jupyter-widgets/base",
          "model_name": "LayoutModel",
          "model_module_version": "1.2.0",
          "state": {
            "_model_module": "@jupyter-widgets/base",
            "_model_module_version": "1.2.0",
            "_model_name": "LayoutModel",
            "_view_count": null,
            "_view_module": "@jupyter-widgets/base",
            "_view_module_version": "1.2.0",
            "_view_name": "LayoutView",
            "align_content": null,
            "align_items": null,
            "align_self": null,
            "border": null,
            "bottom": null,
            "display": null,
            "flex": null,
            "flex_flow": null,
            "grid_area": null,
            "grid_auto_columns": null,
            "grid_auto_flow": null,
            "grid_auto_rows": null,
            "grid_column": null,
            "grid_gap": null,
            "grid_row": null,
            "grid_template_areas": null,
            "grid_template_columns": null,
            "grid_template_rows": null,
            "height": null,
            "justify_content": null,
            "justify_items": null,
            "left": null,
            "margin": null,
            "max_height": null,
            "max_width": null,
            "min_height": null,
            "min_width": null,
            "object_fit": null,
            "object_position": null,
            "order": null,
            "overflow": null,
            "overflow_x": null,
            "overflow_y": null,
            "padding": null,
            "right": null,
            "top": null,
            "visibility": null,
            "width": null
          }
        },
        "ab4f3bb932eb4c64b569101f02c375e7": {
          "model_module": "@jupyter-widgets/controls",
          "model_name": "ProgressStyleModel",
          "model_module_version": "1.5.0",
          "state": {
            "_model_module": "@jupyter-widgets/controls",
            "_model_module_version": "1.5.0",
            "_model_name": "ProgressStyleModel",
            "_view_count": null,
            "_view_module": "@jupyter-widgets/base",
            "_view_module_version": "1.2.0",
            "_view_name": "StyleView",
            "bar_color": null,
            "description_width": ""
          }
        },
        "8149b5d414ed4ee0ab93698defacd14a": {
          "model_module": "@jupyter-widgets/base",
          "model_name": "LayoutModel",
          "model_module_version": "1.2.0",
          "state": {
            "_model_module": "@jupyter-widgets/base",
            "_model_module_version": "1.2.0",
            "_model_name": "LayoutModel",
            "_view_count": null,
            "_view_module": "@jupyter-widgets/base",
            "_view_module_version": "1.2.0",
            "_view_name": "LayoutView",
            "align_content": null,
            "align_items": null,
            "align_self": null,
            "border": null,
            "bottom": null,
            "display": null,
            "flex": null,
            "flex_flow": null,
            "grid_area": null,
            "grid_auto_columns": null,
            "grid_auto_flow": null,
            "grid_auto_rows": null,
            "grid_column": null,
            "grid_gap": null,
            "grid_row": null,
            "grid_template_areas": null,
            "grid_template_columns": null,
            "grid_template_rows": null,
            "height": null,
            "justify_content": null,
            "justify_items": null,
            "left": null,
            "margin": null,
            "max_height": null,
            "max_width": null,
            "min_height": null,
            "min_width": null,
            "object_fit": null,
            "object_position": null,
            "order": null,
            "overflow": null,
            "overflow_x": null,
            "overflow_y": null,
            "padding": null,
            "right": null,
            "top": null,
            "visibility": null,
            "width": null
          }
        },
        "139d214ea47e44beb7bea4a18b5c5147": {
          "model_module": "@jupyter-widgets/controls",
          "model_name": "DescriptionStyleModel",
          "model_module_version": "1.5.0",
          "state": {
            "_model_module": "@jupyter-widgets/controls",
            "_model_module_version": "1.5.0",
            "_model_name": "DescriptionStyleModel",
            "_view_count": null,
            "_view_module": "@jupyter-widgets/base",
            "_view_module_version": "1.2.0",
            "_view_name": "StyleView",
            "description_width": ""
          }
        },
        "22cb33986d0b4c479d9e164b68a3bc2b": {
          "model_module": "@jupyter-widgets/controls",
          "model_name": "HBoxModel",
          "model_module_version": "1.5.0",
          "state": {
            "_dom_classes": [],
            "_model_module": "@jupyter-widgets/controls",
            "_model_module_version": "1.5.0",
            "_model_name": "HBoxModel",
            "_view_count": null,
            "_view_module": "@jupyter-widgets/controls",
            "_view_module_version": "1.5.0",
            "_view_name": "HBoxView",
            "box_style": "",
            "children": [
              "IPY_MODEL_8cda421da9254bfd90464938e8bfa964",
              "IPY_MODEL_cd0aeecba8594cd1acb774fcc355e995",
              "IPY_MODEL_28bd3f7a061f416fa46149364c9190b7"
            ],
            "layout": "IPY_MODEL_e46c3731a5a9416bae41c90d3e8f28f7"
          }
        },
        "8cda421da9254bfd90464938e8bfa964": {
          "model_module": "@jupyter-widgets/controls",
          "model_name": "HTMLModel",
          "model_module_version": "1.5.0",
          "state": {
            "_dom_classes": [],
            "_model_module": "@jupyter-widgets/controls",
            "_model_module_version": "1.5.0",
            "_model_name": "HTMLModel",
            "_view_count": null,
            "_view_module": "@jupyter-widgets/controls",
            "_view_module_version": "1.5.0",
            "_view_name": "HTMLView",
            "description": "",
            "description_tooltip": null,
            "layout": "IPY_MODEL_95a9ff880d654c36b43245e4b635c25e",
            "placeholder": "​",
            "style": "IPY_MODEL_d3f06a4dc67944e88258afbc5c17bb4e",
            "value": "Downloading: 100%"
          }
        },
        "cd0aeecba8594cd1acb774fcc355e995": {
          "model_module": "@jupyter-widgets/controls",
          "model_name": "FloatProgressModel",
          "model_module_version": "1.5.0",
          "state": {
            "_dom_classes": [],
            "_model_module": "@jupyter-widgets/controls",
            "_model_module_version": "1.5.0",
            "_model_name": "FloatProgressModel",
            "_view_count": null,
            "_view_module": "@jupyter-widgets/controls",
            "_view_module_version": "1.5.0",
            "_view_name": "ProgressView",
            "bar_style": "success",
            "description": "",
            "description_tooltip": null,
            "layout": "IPY_MODEL_c5cc1963720b47328c512be7e0b842cb",
            "max": 9216,
            "min": 0,
            "orientation": "horizontal",
            "style": "IPY_MODEL_539f975c193b466fa81c0e32a435416f",
            "value": 9216
          }
        },
        "28bd3f7a061f416fa46149364c9190b7": {
          "model_module": "@jupyter-widgets/controls",
          "model_name": "HTMLModel",
          "model_module_version": "1.5.0",
          "state": {
            "_dom_classes": [],
            "_model_module": "@jupyter-widgets/controls",
            "_model_module_version": "1.5.0",
            "_model_name": "HTMLModel",
            "_view_count": null,
            "_view_module": "@jupyter-widgets/controls",
            "_view_module_version": "1.5.0",
            "_view_name": "HTMLView",
            "description": "",
            "description_tooltip": null,
            "layout": "IPY_MODEL_73950f0412624f94b572e627e5d9df73",
            "placeholder": "​",
            "style": "IPY_MODEL_84d89ed93e534cc7bbfe7edc45766ca2",
            "value": " 9.22k/9.22k [00:00&lt;00:00, 165kB/s]"
          }
        },
        "e46c3731a5a9416bae41c90d3e8f28f7": {
          "model_module": "@jupyter-widgets/base",
          "model_name": "LayoutModel",
          "model_module_version": "1.2.0",
          "state": {
            "_model_module": "@jupyter-widgets/base",
            "_model_module_version": "1.2.0",
            "_model_name": "LayoutModel",
            "_view_count": null,
            "_view_module": "@jupyter-widgets/base",
            "_view_module_version": "1.2.0",
            "_view_name": "LayoutView",
            "align_content": null,
            "align_items": null,
            "align_self": null,
            "border": null,
            "bottom": null,
            "display": null,
            "flex": null,
            "flex_flow": null,
            "grid_area": null,
            "grid_auto_columns": null,
            "grid_auto_flow": null,
            "grid_auto_rows": null,
            "grid_column": null,
            "grid_gap": null,
            "grid_row": null,
            "grid_template_areas": null,
            "grid_template_columns": null,
            "grid_template_rows": null,
            "height": null,
            "justify_content": null,
            "justify_items": null,
            "left": null,
            "margin": null,
            "max_height": null,
            "max_width": null,
            "min_height": null,
            "min_width": null,
            "object_fit": null,
            "object_position": null,
            "order": null,
            "overflow": null,
            "overflow_x": null,
            "overflow_y": null,
            "padding": null,
            "right": null,
            "top": null,
            "visibility": null,
            "width": null
          }
        },
        "95a9ff880d654c36b43245e4b635c25e": {
          "model_module": "@jupyter-widgets/base",
          "model_name": "LayoutModel",
          "model_module_version": "1.2.0",
          "state": {
            "_model_module": "@jupyter-widgets/base",
            "_model_module_version": "1.2.0",
            "_model_name": "LayoutModel",
            "_view_count": null,
            "_view_module": "@jupyter-widgets/base",
            "_view_module_version": "1.2.0",
            "_view_name": "LayoutView",
            "align_content": null,
            "align_items": null,
            "align_self": null,
            "border": null,
            "bottom": null,
            "display": null,
            "flex": null,
            "flex_flow": null,
            "grid_area": null,
            "grid_auto_columns": null,
            "grid_auto_flow": null,
            "grid_auto_rows": null,
            "grid_column": null,
            "grid_gap": null,
            "grid_row": null,
            "grid_template_areas": null,
            "grid_template_columns": null,
            "grid_template_rows": null,
            "height": null,
            "justify_content": null,
            "justify_items": null,
            "left": null,
            "margin": null,
            "max_height": null,
            "max_width": null,
            "min_height": null,
            "min_width": null,
            "object_fit": null,
            "object_position": null,
            "order": null,
            "overflow": null,
            "overflow_x": null,
            "overflow_y": null,
            "padding": null,
            "right": null,
            "top": null,
            "visibility": null,
            "width": null
          }
        },
        "d3f06a4dc67944e88258afbc5c17bb4e": {
          "model_module": "@jupyter-widgets/controls",
          "model_name": "DescriptionStyleModel",
          "model_module_version": "1.5.0",
          "state": {
            "_model_module": "@jupyter-widgets/controls",
            "_model_module_version": "1.5.0",
            "_model_name": "DescriptionStyleModel",
            "_view_count": null,
            "_view_module": "@jupyter-widgets/base",
            "_view_module_version": "1.2.0",
            "_view_name": "StyleView",
            "description_width": ""
          }
        },
        "c5cc1963720b47328c512be7e0b842cb": {
          "model_module": "@jupyter-widgets/base",
          "model_name": "LayoutModel",
          "model_module_version": "1.2.0",
          "state": {
            "_model_module": "@jupyter-widgets/base",
            "_model_module_version": "1.2.0",
            "_model_name": "LayoutModel",
            "_view_count": null,
            "_view_module": "@jupyter-widgets/base",
            "_view_module_version": "1.2.0",
            "_view_name": "LayoutView",
            "align_content": null,
            "align_items": null,
            "align_self": null,
            "border": null,
            "bottom": null,
            "display": null,
            "flex": null,
            "flex_flow": null,
            "grid_area": null,
            "grid_auto_columns": null,
            "grid_auto_flow": null,
            "grid_auto_rows": null,
            "grid_column": null,
            "grid_gap": null,
            "grid_row": null,
            "grid_template_areas": null,
            "grid_template_columns": null,
            "grid_template_rows": null,
            "height": null,
            "justify_content": null,
            "justify_items": null,
            "left": null,
            "margin": null,
            "max_height": null,
            "max_width": null,
            "min_height": null,
            "min_width": null,
            "object_fit": null,
            "object_position": null,
            "order": null,
            "overflow": null,
            "overflow_x": null,
            "overflow_y": null,
            "padding": null,
            "right": null,
            "top": null,
            "visibility": null,
            "width": null
          }
        },
        "539f975c193b466fa81c0e32a435416f": {
          "model_module": "@jupyter-widgets/controls",
          "model_name": "ProgressStyleModel",
          "model_module_version": "1.5.0",
          "state": {
            "_model_module": "@jupyter-widgets/controls",
            "_model_module_version": "1.5.0",
            "_model_name": "ProgressStyleModel",
            "_view_count": null,
            "_view_module": "@jupyter-widgets/base",
            "_view_module_version": "1.2.0",
            "_view_name": "StyleView",
            "bar_color": null,
            "description_width": ""
          }
        },
        "73950f0412624f94b572e627e5d9df73": {
          "model_module": "@jupyter-widgets/base",
          "model_name": "LayoutModel",
          "model_module_version": "1.2.0",
          "state": {
            "_model_module": "@jupyter-widgets/base",
            "_model_module_version": "1.2.0",
            "_model_name": "LayoutModel",
            "_view_count": null,
            "_view_module": "@jupyter-widgets/base",
            "_view_module_version": "1.2.0",
            "_view_name": "LayoutView",
            "align_content": null,
            "align_items": null,
            "align_self": null,
            "border": null,
            "bottom": null,
            "display": null,
            "flex": null,
            "flex_flow": null,
            "grid_area": null,
            "grid_auto_columns": null,
            "grid_auto_flow": null,
            "grid_auto_rows": null,
            "grid_column": null,
            "grid_gap": null,
            "grid_row": null,
            "grid_template_areas": null,
            "grid_template_columns": null,
            "grid_template_rows": null,
            "height": null,
            "justify_content": null,
            "justify_items": null,
            "left": null,
            "margin": null,
            "max_height": null,
            "max_width": null,
            "min_height": null,
            "min_width": null,
            "object_fit": null,
            "object_position": null,
            "order": null,
            "overflow": null,
            "overflow_x": null,
            "overflow_y": null,
            "padding": null,
            "right": null,
            "top": null,
            "visibility": null,
            "width": null
          }
        },
        "84d89ed93e534cc7bbfe7edc45766ca2": {
          "model_module": "@jupyter-widgets/controls",
          "model_name": "DescriptionStyleModel",
          "model_module_version": "1.5.0",
          "state": {
            "_model_module": "@jupyter-widgets/controls",
            "_model_module_version": "1.5.0",
            "_model_name": "DescriptionStyleModel",
            "_view_count": null,
            "_view_module": "@jupyter-widgets/base",
            "_view_module_version": "1.2.0",
            "_view_name": "StyleView",
            "description_width": ""
          }
        },
        "d2f4d67ee861465ab7e6816ac493972b": {
          "model_module": "@jupyter-widgets/controls",
          "model_name": "HBoxModel",
          "model_module_version": "1.5.0",
          "state": {
            "_dom_classes": [],
            "_model_module": "@jupyter-widgets/controls",
            "_model_module_version": "1.5.0",
            "_model_name": "HBoxModel",
            "_view_count": null,
            "_view_module": "@jupyter-widgets/controls",
            "_view_module_version": "1.5.0",
            "_view_name": "HBoxView",
            "box_style": "",
            "children": [
              "IPY_MODEL_47477969b22244d69b2ef877c58fee20",
              "IPY_MODEL_6379d629120348fe9793789d6cc96666",
              "IPY_MODEL_c78be8a90aba48dc991bbd7d0f8123cb"
            ],
            "layout": "IPY_MODEL_721998f9ae78422fb07226f21ab0ff72"
          }
        },
        "47477969b22244d69b2ef877c58fee20": {
          "model_module": "@jupyter-widgets/controls",
          "model_name": "HTMLModel",
          "model_module_version": "1.5.0",
          "state": {
            "_dom_classes": [],
            "_model_module": "@jupyter-widgets/controls",
            "_model_module_version": "1.5.0",
            "_model_name": "HTMLModel",
            "_view_count": null,
            "_view_module": "@jupyter-widgets/controls",
            "_view_module_version": "1.5.0",
            "_view_name": "HTMLView",
            "description": "",
            "description_tooltip": null,
            "layout": "IPY_MODEL_0a7f1f88682344579478f6c7a8034715",
            "placeholder": "​",
            "style": "IPY_MODEL_668b5238e89f4d32aa2dbca50f78dc44",
            "value": "Downloading: 100%"
          }
        },
        "6379d629120348fe9793789d6cc96666": {
          "model_module": "@jupyter-widgets/controls",
          "model_name": "FloatProgressModel",
          "model_module_version": "1.5.0",
          "state": {
            "_dom_classes": [],
            "_model_module": "@jupyter-widgets/controls",
            "_model_module_version": "1.5.0",
            "_model_name": "FloatProgressModel",
            "_view_count": null,
            "_view_module": "@jupyter-widgets/controls",
            "_view_module_version": "1.5.0",
            "_view_name": "ProgressView",
            "bar_style": "success",
            "description": "",
            "description_tooltip": null,
            "layout": "IPY_MODEL_ba385472333f42888f259e9d871b9887",
            "max": 612,
            "min": 0,
            "orientation": "horizontal",
            "style": "IPY_MODEL_868139a2a4cf412bbe1a52ac6cc904f1",
            "value": 612
          }
        },
        "c78be8a90aba48dc991bbd7d0f8123cb": {
          "model_module": "@jupyter-widgets/controls",
          "model_name": "HTMLModel",
          "model_module_version": "1.5.0",
          "state": {
            "_dom_classes": [],
            "_model_module": "@jupyter-widgets/controls",
            "_model_module_version": "1.5.0",
            "_model_name": "HTMLModel",
            "_view_count": null,
            "_view_module": "@jupyter-widgets/controls",
            "_view_module_version": "1.5.0",
            "_view_name": "HTMLView",
            "description": "",
            "description_tooltip": null,
            "layout": "IPY_MODEL_8cfd5775b5ad487192c6419d6608f5a6",
            "placeholder": "​",
            "style": "IPY_MODEL_607c1d5ee90749679aa6acf2dcf2fcd6",
            "value": " 612/612 [00:00&lt;00:00, 14.8kB/s]"
          }
        },
        "721998f9ae78422fb07226f21ab0ff72": {
          "model_module": "@jupyter-widgets/base",
          "model_name": "LayoutModel",
          "model_module_version": "1.2.0",
          "state": {
            "_model_module": "@jupyter-widgets/base",
            "_model_module_version": "1.2.0",
            "_model_name": "LayoutModel",
            "_view_count": null,
            "_view_module": "@jupyter-widgets/base",
            "_view_module_version": "1.2.0",
            "_view_name": "LayoutView",
            "align_content": null,
            "align_items": null,
            "align_self": null,
            "border": null,
            "bottom": null,
            "display": null,
            "flex": null,
            "flex_flow": null,
            "grid_area": null,
            "grid_auto_columns": null,
            "grid_auto_flow": null,
            "grid_auto_rows": null,
            "grid_column": null,
            "grid_gap": null,
            "grid_row": null,
            "grid_template_areas": null,
            "grid_template_columns": null,
            "grid_template_rows": null,
            "height": null,
            "justify_content": null,
            "justify_items": null,
            "left": null,
            "margin": null,
            "max_height": null,
            "max_width": null,
            "min_height": null,
            "min_width": null,
            "object_fit": null,
            "object_position": null,
            "order": null,
            "overflow": null,
            "overflow_x": null,
            "overflow_y": null,
            "padding": null,
            "right": null,
            "top": null,
            "visibility": null,
            "width": null
          }
        },
        "0a7f1f88682344579478f6c7a8034715": {
          "model_module": "@jupyter-widgets/base",
          "model_name": "LayoutModel",
          "model_module_version": "1.2.0",
          "state": {
            "_model_module": "@jupyter-widgets/base",
            "_model_module_version": "1.2.0",
            "_model_name": "LayoutModel",
            "_view_count": null,
            "_view_module": "@jupyter-widgets/base",
            "_view_module_version": "1.2.0",
            "_view_name": "LayoutView",
            "align_content": null,
            "align_items": null,
            "align_self": null,
            "border": null,
            "bottom": null,
            "display": null,
            "flex": null,
            "flex_flow": null,
            "grid_area": null,
            "grid_auto_columns": null,
            "grid_auto_flow": null,
            "grid_auto_rows": null,
            "grid_column": null,
            "grid_gap": null,
            "grid_row": null,
            "grid_template_areas": null,
            "grid_template_columns": null,
            "grid_template_rows": null,
            "height": null,
            "justify_content": null,
            "justify_items": null,
            "left": null,
            "margin": null,
            "max_height": null,
            "max_width": null,
            "min_height": null,
            "min_width": null,
            "object_fit": null,
            "object_position": null,
            "order": null,
            "overflow": null,
            "overflow_x": null,
            "overflow_y": null,
            "padding": null,
            "right": null,
            "top": null,
            "visibility": null,
            "width": null
          }
        },
        "668b5238e89f4d32aa2dbca50f78dc44": {
          "model_module": "@jupyter-widgets/controls",
          "model_name": "DescriptionStyleModel",
          "model_module_version": "1.5.0",
          "state": {
            "_model_module": "@jupyter-widgets/controls",
            "_model_module_version": "1.5.0",
            "_model_name": "DescriptionStyleModel",
            "_view_count": null,
            "_view_module": "@jupyter-widgets/base",
            "_view_module_version": "1.2.0",
            "_view_name": "StyleView",
            "description_width": ""
          }
        },
        "ba385472333f42888f259e9d871b9887": {
          "model_module": "@jupyter-widgets/base",
          "model_name": "LayoutModel",
          "model_module_version": "1.2.0",
          "state": {
            "_model_module": "@jupyter-widgets/base",
            "_model_module_version": "1.2.0",
            "_model_name": "LayoutModel",
            "_view_count": null,
            "_view_module": "@jupyter-widgets/base",
            "_view_module_version": "1.2.0",
            "_view_name": "LayoutView",
            "align_content": null,
            "align_items": null,
            "align_self": null,
            "border": null,
            "bottom": null,
            "display": null,
            "flex": null,
            "flex_flow": null,
            "grid_area": null,
            "grid_auto_columns": null,
            "grid_auto_flow": null,
            "grid_auto_rows": null,
            "grid_column": null,
            "grid_gap": null,
            "grid_row": null,
            "grid_template_areas": null,
            "grid_template_columns": null,
            "grid_template_rows": null,
            "height": null,
            "justify_content": null,
            "justify_items": null,
            "left": null,
            "margin": null,
            "max_height": null,
            "max_width": null,
            "min_height": null,
            "min_width": null,
            "object_fit": null,
            "object_position": null,
            "order": null,
            "overflow": null,
            "overflow_x": null,
            "overflow_y": null,
            "padding": null,
            "right": null,
            "top": null,
            "visibility": null,
            "width": null
          }
        },
        "868139a2a4cf412bbe1a52ac6cc904f1": {
          "model_module": "@jupyter-widgets/controls",
          "model_name": "ProgressStyleModel",
          "model_module_version": "1.5.0",
          "state": {
            "_model_module": "@jupyter-widgets/controls",
            "_model_module_version": "1.5.0",
            "_model_name": "ProgressStyleModel",
            "_view_count": null,
            "_view_module": "@jupyter-widgets/base",
            "_view_module_version": "1.2.0",
            "_view_name": "StyleView",
            "bar_color": null,
            "description_width": ""
          }
        },
        "8cfd5775b5ad487192c6419d6608f5a6": {
          "model_module": "@jupyter-widgets/base",
          "model_name": "LayoutModel",
          "model_module_version": "1.2.0",
          "state": {
            "_model_module": "@jupyter-widgets/base",
            "_model_module_version": "1.2.0",
            "_model_name": "LayoutModel",
            "_view_count": null,
            "_view_module": "@jupyter-widgets/base",
            "_view_module_version": "1.2.0",
            "_view_name": "LayoutView",
            "align_content": null,
            "align_items": null,
            "align_self": null,
            "border": null,
            "bottom": null,
            "display": null,
            "flex": null,
            "flex_flow": null,
            "grid_area": null,
            "grid_auto_columns": null,
            "grid_auto_flow": null,
            "grid_auto_rows": null,
            "grid_column": null,
            "grid_gap": null,
            "grid_row": null,
            "grid_template_areas": null,
            "grid_template_columns": null,
            "grid_template_rows": null,
            "height": null,
            "justify_content": null,
            "justify_items": null,
            "left": null,
            "margin": null,
            "max_height": null,
            "max_width": null,
            "min_height": null,
            "min_width": null,
            "object_fit": null,
            "object_position": null,
            "order": null,
            "overflow": null,
            "overflow_x": null,
            "overflow_y": null,
            "padding": null,
            "right": null,
            "top": null,
            "visibility": null,
            "width": null
          }
        },
        "607c1d5ee90749679aa6acf2dcf2fcd6": {
          "model_module": "@jupyter-widgets/controls",
          "model_name": "DescriptionStyleModel",
          "model_module_version": "1.5.0",
          "state": {
            "_model_module": "@jupyter-widgets/controls",
            "_model_module_version": "1.5.0",
            "_model_name": "DescriptionStyleModel",
            "_view_count": null,
            "_view_module": "@jupyter-widgets/base",
            "_view_module_version": "1.2.0",
            "_view_name": "StyleView",
            "description_width": ""
          }
        },
        "458fb2109e13496ca36a2feeb854c0ac": {
          "model_module": "@jupyter-widgets/controls",
          "model_name": "HBoxModel",
          "model_module_version": "1.5.0",
          "state": {
            "_dom_classes": [],
            "_model_module": "@jupyter-widgets/controls",
            "_model_module_version": "1.5.0",
            "_model_name": "HBoxModel",
            "_view_count": null,
            "_view_module": "@jupyter-widgets/controls",
            "_view_module_version": "1.5.0",
            "_view_name": "HBoxView",
            "box_style": "",
            "children": [
              "IPY_MODEL_db0c9c8143664fba996766d761db01e1",
              "IPY_MODEL_f07d087ae48a4a0bb9d55bf0291f61c4",
              "IPY_MODEL_d8813379553649c9829f6edac277d024"
            ],
            "layout": "IPY_MODEL_df7881b3db18469aafe0dee5f6d286a4"
          }
        },
        "db0c9c8143664fba996766d761db01e1": {
          "model_module": "@jupyter-widgets/controls",
          "model_name": "HTMLModel",
          "model_module_version": "1.5.0",
          "state": {
            "_dom_classes": [],
            "_model_module": "@jupyter-widgets/controls",
            "_model_module_version": "1.5.0",
            "_model_name": "HTMLModel",
            "_view_count": null,
            "_view_module": "@jupyter-widgets/controls",
            "_view_module_version": "1.5.0",
            "_view_name": "HTMLView",
            "description": "",
            "description_tooltip": null,
            "layout": "IPY_MODEL_3a7f9c8f62df4b4b9a21babb46f9bcea",
            "placeholder": "​",
            "style": "IPY_MODEL_8d2ba173c8a64a47872952d8380c8895",
            "value": "Downloading: 100%"
          }
        },
        "f07d087ae48a4a0bb9d55bf0291f61c4": {
          "model_module": "@jupyter-widgets/controls",
          "model_name": "FloatProgressModel",
          "model_module_version": "1.5.0",
          "state": {
            "_dom_classes": [],
            "_model_module": "@jupyter-widgets/controls",
            "_model_module_version": "1.5.0",
            "_model_name": "FloatProgressModel",
            "_view_count": null,
            "_view_module": "@jupyter-widgets/controls",
            "_view_module_version": "1.5.0",
            "_view_name": "ProgressView",
            "bar_style": "success",
            "description": "",
            "description_tooltip": null,
            "layout": "IPY_MODEL_4ad16cd128f6418b8e85ff6999e163fe",
            "max": 116,
            "min": 0,
            "orientation": "horizontal",
            "style": "IPY_MODEL_7eeebaad62374a3f8edd881a597eafa3",
            "value": 116
          }
        },
        "d8813379553649c9829f6edac277d024": {
          "model_module": "@jupyter-widgets/controls",
          "model_name": "HTMLModel",
          "model_module_version": "1.5.0",
          "state": {
            "_dom_classes": [],
            "_model_module": "@jupyter-widgets/controls",
            "_model_module_version": "1.5.0",
            "_model_name": "HTMLModel",
            "_view_count": null,
            "_view_module": "@jupyter-widgets/controls",
            "_view_module_version": "1.5.0",
            "_view_name": "HTMLView",
            "description": "",
            "description_tooltip": null,
            "layout": "IPY_MODEL_4447fb5566c244deb820fea4161092d0",
            "placeholder": "​",
            "style": "IPY_MODEL_18900608990e4564822158314fd9f43b",
            "value": " 116/116 [00:00&lt;00:00, 3.58kB/s]"
          }
        },
        "df7881b3db18469aafe0dee5f6d286a4": {
          "model_module": "@jupyter-widgets/base",
          "model_name": "LayoutModel",
          "model_module_version": "1.2.0",
          "state": {
            "_model_module": "@jupyter-widgets/base",
            "_model_module_version": "1.2.0",
            "_model_name": "LayoutModel",
            "_view_count": null,
            "_view_module": "@jupyter-widgets/base",
            "_view_module_version": "1.2.0",
            "_view_name": "LayoutView",
            "align_content": null,
            "align_items": null,
            "align_self": null,
            "border": null,
            "bottom": null,
            "display": null,
            "flex": null,
            "flex_flow": null,
            "grid_area": null,
            "grid_auto_columns": null,
            "grid_auto_flow": null,
            "grid_auto_rows": null,
            "grid_column": null,
            "grid_gap": null,
            "grid_row": null,
            "grid_template_areas": null,
            "grid_template_columns": null,
            "grid_template_rows": null,
            "height": null,
            "justify_content": null,
            "justify_items": null,
            "left": null,
            "margin": null,
            "max_height": null,
            "max_width": null,
            "min_height": null,
            "min_width": null,
            "object_fit": null,
            "object_position": null,
            "order": null,
            "overflow": null,
            "overflow_x": null,
            "overflow_y": null,
            "padding": null,
            "right": null,
            "top": null,
            "visibility": null,
            "width": null
          }
        },
        "3a7f9c8f62df4b4b9a21babb46f9bcea": {
          "model_module": "@jupyter-widgets/base",
          "model_name": "LayoutModel",
          "model_module_version": "1.2.0",
          "state": {
            "_model_module": "@jupyter-widgets/base",
            "_model_module_version": "1.2.0",
            "_model_name": "LayoutModel",
            "_view_count": null,
            "_view_module": "@jupyter-widgets/base",
            "_view_module_version": "1.2.0",
            "_view_name": "LayoutView",
            "align_content": null,
            "align_items": null,
            "align_self": null,
            "border": null,
            "bottom": null,
            "display": null,
            "flex": null,
            "flex_flow": null,
            "grid_area": null,
            "grid_auto_columns": null,
            "grid_auto_flow": null,
            "grid_auto_rows": null,
            "grid_column": null,
            "grid_gap": null,
            "grid_row": null,
            "grid_template_areas": null,
            "grid_template_columns": null,
            "grid_template_rows": null,
            "height": null,
            "justify_content": null,
            "justify_items": null,
            "left": null,
            "margin": null,
            "max_height": null,
            "max_width": null,
            "min_height": null,
            "min_width": null,
            "object_fit": null,
            "object_position": null,
            "order": null,
            "overflow": null,
            "overflow_x": null,
            "overflow_y": null,
            "padding": null,
            "right": null,
            "top": null,
            "visibility": null,
            "width": null
          }
        },
        "8d2ba173c8a64a47872952d8380c8895": {
          "model_module": "@jupyter-widgets/controls",
          "model_name": "DescriptionStyleModel",
          "model_module_version": "1.5.0",
          "state": {
            "_model_module": "@jupyter-widgets/controls",
            "_model_module_version": "1.5.0",
            "_model_name": "DescriptionStyleModel",
            "_view_count": null,
            "_view_module": "@jupyter-widgets/base",
            "_view_module_version": "1.2.0",
            "_view_name": "StyleView",
            "description_width": ""
          }
        },
        "4ad16cd128f6418b8e85ff6999e163fe": {
          "model_module": "@jupyter-widgets/base",
          "model_name": "LayoutModel",
          "model_module_version": "1.2.0",
          "state": {
            "_model_module": "@jupyter-widgets/base",
            "_model_module_version": "1.2.0",
            "_model_name": "LayoutModel",
            "_view_count": null,
            "_view_module": "@jupyter-widgets/base",
            "_view_module_version": "1.2.0",
            "_view_name": "LayoutView",
            "align_content": null,
            "align_items": null,
            "align_self": null,
            "border": null,
            "bottom": null,
            "display": null,
            "flex": null,
            "flex_flow": null,
            "grid_area": null,
            "grid_auto_columns": null,
            "grid_auto_flow": null,
            "grid_auto_rows": null,
            "grid_column": null,
            "grid_gap": null,
            "grid_row": null,
            "grid_template_areas": null,
            "grid_template_columns": null,
            "grid_template_rows": null,
            "height": null,
            "justify_content": null,
            "justify_items": null,
            "left": null,
            "margin": null,
            "max_height": null,
            "max_width": null,
            "min_height": null,
            "min_width": null,
            "object_fit": null,
            "object_position": null,
            "order": null,
            "overflow": null,
            "overflow_x": null,
            "overflow_y": null,
            "padding": null,
            "right": null,
            "top": null,
            "visibility": null,
            "width": null
          }
        },
        "7eeebaad62374a3f8edd881a597eafa3": {
          "model_module": "@jupyter-widgets/controls",
          "model_name": "ProgressStyleModel",
          "model_module_version": "1.5.0",
          "state": {
            "_model_module": "@jupyter-widgets/controls",
            "_model_module_version": "1.5.0",
            "_model_name": "ProgressStyleModel",
            "_view_count": null,
            "_view_module": "@jupyter-widgets/base",
            "_view_module_version": "1.2.0",
            "_view_name": "StyleView",
            "bar_color": null,
            "description_width": ""
          }
        },
        "4447fb5566c244deb820fea4161092d0": {
          "model_module": "@jupyter-widgets/base",
          "model_name": "LayoutModel",
          "model_module_version": "1.2.0",
          "state": {
            "_model_module": "@jupyter-widgets/base",
            "_model_module_version": "1.2.0",
            "_model_name": "LayoutModel",
            "_view_count": null,
            "_view_module": "@jupyter-widgets/base",
            "_view_module_version": "1.2.0",
            "_view_name": "LayoutView",
            "align_content": null,
            "align_items": null,
            "align_self": null,
            "border": null,
            "bottom": null,
            "display": null,
            "flex": null,
            "flex_flow": null,
            "grid_area": null,
            "grid_auto_columns": null,
            "grid_auto_flow": null,
            "grid_auto_rows": null,
            "grid_column": null,
            "grid_gap": null,
            "grid_row": null,
            "grid_template_areas": null,
            "grid_template_columns": null,
            "grid_template_rows": null,
            "height": null,
            "justify_content": null,
            "justify_items": null,
            "left": null,
            "margin": null,
            "max_height": null,
            "max_width": null,
            "min_height": null,
            "min_width": null,
            "object_fit": null,
            "object_position": null,
            "order": null,
            "overflow": null,
            "overflow_x": null,
            "overflow_y": null,
            "padding": null,
            "right": null,
            "top": null,
            "visibility": null,
            "width": null
          }
        },
        "18900608990e4564822158314fd9f43b": {
          "model_module": "@jupyter-widgets/controls",
          "model_name": "DescriptionStyleModel",
          "model_module_version": "1.5.0",
          "state": {
            "_model_module": "@jupyter-widgets/controls",
            "_model_module_version": "1.5.0",
            "_model_name": "DescriptionStyleModel",
            "_view_count": null,
            "_view_module": "@jupyter-widgets/base",
            "_view_module_version": "1.2.0",
            "_view_name": "StyleView",
            "description_width": ""
          }
        },
        "d0084a425c534d25979c4fba09b80ea6": {
          "model_module": "@jupyter-widgets/controls",
          "model_name": "HBoxModel",
          "model_module_version": "1.5.0",
          "state": {
            "_dom_classes": [],
            "_model_module": "@jupyter-widgets/controls",
            "_model_module_version": "1.5.0",
            "_model_name": "HBoxModel",
            "_view_count": null,
            "_view_module": "@jupyter-widgets/controls",
            "_view_module_version": "1.5.0",
            "_view_name": "HBoxView",
            "box_style": "",
            "children": [
              "IPY_MODEL_e3603ef0eec74ab085568882e2e462ce",
              "IPY_MODEL_796c43aba1954689a2735a95c54ca4ff",
              "IPY_MODEL_328c539bf31c4c2484273d0e6adaba1c"
            ],
            "layout": "IPY_MODEL_8750824ec89f44b7bc488c9f06e7dbd3"
          }
        },
        "e3603ef0eec74ab085568882e2e462ce": {
          "model_module": "@jupyter-widgets/controls",
          "model_name": "HTMLModel",
          "model_module_version": "1.5.0",
          "state": {
            "_dom_classes": [],
            "_model_module": "@jupyter-widgets/controls",
            "_model_module_version": "1.5.0",
            "_model_name": "HTMLModel",
            "_view_count": null,
            "_view_module": "@jupyter-widgets/controls",
            "_view_module_version": "1.5.0",
            "_view_name": "HTMLView",
            "description": "",
            "description_tooltip": null,
            "layout": "IPY_MODEL_47775270598e432e995bb979dc346996",
            "placeholder": "​",
            "style": "IPY_MODEL_940b8d77f2f6406588e580ea526d44aa",
            "value": "Downloading: 100%"
          }
        },
        "796c43aba1954689a2735a95c54ca4ff": {
          "model_module": "@jupyter-widgets/controls",
          "model_name": "FloatProgressModel",
          "model_module_version": "1.5.0",
          "state": {
            "_dom_classes": [],
            "_model_module": "@jupyter-widgets/controls",
            "_model_module_version": "1.5.0",
            "_model_name": "FloatProgressModel",
            "_view_count": null,
            "_view_module": "@jupyter-widgets/controls",
            "_view_module_version": "1.5.0",
            "_view_name": "ProgressView",
            "bar_style": "success",
            "description": "",
            "description_tooltip": null,
            "layout": "IPY_MODEL_d4355f0aa04c42d49b8d9f1056fc59b4",
            "max": 25457,
            "min": 0,
            "orientation": "horizontal",
            "style": "IPY_MODEL_69502ecec53d47d09cdc7e3ad52b2d9c",
            "value": 25457
          }
        },
        "328c539bf31c4c2484273d0e6adaba1c": {
          "model_module": "@jupyter-widgets/controls",
          "model_name": "HTMLModel",
          "model_module_version": "1.5.0",
          "state": {
            "_dom_classes": [],
            "_model_module": "@jupyter-widgets/controls",
            "_model_module_version": "1.5.0",
            "_model_name": "HTMLModel",
            "_view_count": null,
            "_view_module": "@jupyter-widgets/controls",
            "_view_module_version": "1.5.0",
            "_view_name": "HTMLView",
            "description": "",
            "description_tooltip": null,
            "layout": "IPY_MODEL_3a771840c9fa4e8a952060e9eb125b05",
            "placeholder": "​",
            "style": "IPY_MODEL_67f7c2f3987e44c98cc0d272f0dd93e8",
            "value": " 25.5k/25.5k [00:00&lt;00:00, 684kB/s]"
          }
        },
        "8750824ec89f44b7bc488c9f06e7dbd3": {
          "model_module": "@jupyter-widgets/base",
          "model_name": "LayoutModel",
          "model_module_version": "1.2.0",
          "state": {
            "_model_module": "@jupyter-widgets/base",
            "_model_module_version": "1.2.0",
            "_model_name": "LayoutModel",
            "_view_count": null,
            "_view_module": "@jupyter-widgets/base",
            "_view_module_version": "1.2.0",
            "_view_name": "LayoutView",
            "align_content": null,
            "align_items": null,
            "align_self": null,
            "border": null,
            "bottom": null,
            "display": null,
            "flex": null,
            "flex_flow": null,
            "grid_area": null,
            "grid_auto_columns": null,
            "grid_auto_flow": null,
            "grid_auto_rows": null,
            "grid_column": null,
            "grid_gap": null,
            "grid_row": null,
            "grid_template_areas": null,
            "grid_template_columns": null,
            "grid_template_rows": null,
            "height": null,
            "justify_content": null,
            "justify_items": null,
            "left": null,
            "margin": null,
            "max_height": null,
            "max_width": null,
            "min_height": null,
            "min_width": null,
            "object_fit": null,
            "object_position": null,
            "order": null,
            "overflow": null,
            "overflow_x": null,
            "overflow_y": null,
            "padding": null,
            "right": null,
            "top": null,
            "visibility": null,
            "width": null
          }
        },
        "47775270598e432e995bb979dc346996": {
          "model_module": "@jupyter-widgets/base",
          "model_name": "LayoutModel",
          "model_module_version": "1.2.0",
          "state": {
            "_model_module": "@jupyter-widgets/base",
            "_model_module_version": "1.2.0",
            "_model_name": "LayoutModel",
            "_view_count": null,
            "_view_module": "@jupyter-widgets/base",
            "_view_module_version": "1.2.0",
            "_view_name": "LayoutView",
            "align_content": null,
            "align_items": null,
            "align_self": null,
            "border": null,
            "bottom": null,
            "display": null,
            "flex": null,
            "flex_flow": null,
            "grid_area": null,
            "grid_auto_columns": null,
            "grid_auto_flow": null,
            "grid_auto_rows": null,
            "grid_column": null,
            "grid_gap": null,
            "grid_row": null,
            "grid_template_areas": null,
            "grid_template_columns": null,
            "grid_template_rows": null,
            "height": null,
            "justify_content": null,
            "justify_items": null,
            "left": null,
            "margin": null,
            "max_height": null,
            "max_width": null,
            "min_height": null,
            "min_width": null,
            "object_fit": null,
            "object_position": null,
            "order": null,
            "overflow": null,
            "overflow_x": null,
            "overflow_y": null,
            "padding": null,
            "right": null,
            "top": null,
            "visibility": null,
            "width": null
          }
        },
        "940b8d77f2f6406588e580ea526d44aa": {
          "model_module": "@jupyter-widgets/controls",
          "model_name": "DescriptionStyleModel",
          "model_module_version": "1.5.0",
          "state": {
            "_model_module": "@jupyter-widgets/controls",
            "_model_module_version": "1.5.0",
            "_model_name": "DescriptionStyleModel",
            "_view_count": null,
            "_view_module": "@jupyter-widgets/base",
            "_view_module_version": "1.2.0",
            "_view_name": "StyleView",
            "description_width": ""
          }
        },
        "d4355f0aa04c42d49b8d9f1056fc59b4": {
          "model_module": "@jupyter-widgets/base",
          "model_name": "LayoutModel",
          "model_module_version": "1.2.0",
          "state": {
            "_model_module": "@jupyter-widgets/base",
            "_model_module_version": "1.2.0",
            "_model_name": "LayoutModel",
            "_view_count": null,
            "_view_module": "@jupyter-widgets/base",
            "_view_module_version": "1.2.0",
            "_view_name": "LayoutView",
            "align_content": null,
            "align_items": null,
            "align_self": null,
            "border": null,
            "bottom": null,
            "display": null,
            "flex": null,
            "flex_flow": null,
            "grid_area": null,
            "grid_auto_columns": null,
            "grid_auto_flow": null,
            "grid_auto_rows": null,
            "grid_column": null,
            "grid_gap": null,
            "grid_row": null,
            "grid_template_areas": null,
            "grid_template_columns": null,
            "grid_template_rows": null,
            "height": null,
            "justify_content": null,
            "justify_items": null,
            "left": null,
            "margin": null,
            "max_height": null,
            "max_width": null,
            "min_height": null,
            "min_width": null,
            "object_fit": null,
            "object_position": null,
            "order": null,
            "overflow": null,
            "overflow_x": null,
            "overflow_y": null,
            "padding": null,
            "right": null,
            "top": null,
            "visibility": null,
            "width": null
          }
        },
        "69502ecec53d47d09cdc7e3ad52b2d9c": {
          "model_module": "@jupyter-widgets/controls",
          "model_name": "ProgressStyleModel",
          "model_module_version": "1.5.0",
          "state": {
            "_model_module": "@jupyter-widgets/controls",
            "_model_module_version": "1.5.0",
            "_model_name": "ProgressStyleModel",
            "_view_count": null,
            "_view_module": "@jupyter-widgets/base",
            "_view_module_version": "1.2.0",
            "_view_name": "StyleView",
            "bar_color": null,
            "description_width": ""
          }
        },
        "3a771840c9fa4e8a952060e9eb125b05": {
          "model_module": "@jupyter-widgets/base",
          "model_name": "LayoutModel",
          "model_module_version": "1.2.0",
          "state": {
            "_model_module": "@jupyter-widgets/base",
            "_model_module_version": "1.2.0",
            "_model_name": "LayoutModel",
            "_view_count": null,
            "_view_module": "@jupyter-widgets/base",
            "_view_module_version": "1.2.0",
            "_view_name": "LayoutView",
            "align_content": null,
            "align_items": null,
            "align_self": null,
            "border": null,
            "bottom": null,
            "display": null,
            "flex": null,
            "flex_flow": null,
            "grid_area": null,
            "grid_auto_columns": null,
            "grid_auto_flow": null,
            "grid_auto_rows": null,
            "grid_column": null,
            "grid_gap": null,
            "grid_row": null,
            "grid_template_areas": null,
            "grid_template_columns": null,
            "grid_template_rows": null,
            "height": null,
            "justify_content": null,
            "justify_items": null,
            "left": null,
            "margin": null,
            "max_height": null,
            "max_width": null,
            "min_height": null,
            "min_width": null,
            "object_fit": null,
            "object_position": null,
            "order": null,
            "overflow": null,
            "overflow_x": null,
            "overflow_y": null,
            "padding": null,
            "right": null,
            "top": null,
            "visibility": null,
            "width": null
          }
        },
        "67f7c2f3987e44c98cc0d272f0dd93e8": {
          "model_module": "@jupyter-widgets/controls",
          "model_name": "DescriptionStyleModel",
          "model_module_version": "1.5.0",
          "state": {
            "_model_module": "@jupyter-widgets/controls",
            "_model_module_version": "1.5.0",
            "_model_name": "DescriptionStyleModel",
            "_view_count": null,
            "_view_module": "@jupyter-widgets/base",
            "_view_module_version": "1.2.0",
            "_view_name": "StyleView",
            "description_width": ""
          }
        },
        "8e909ad3a8fc4d79afd8531bc156cadd": {
          "model_module": "@jupyter-widgets/controls",
          "model_name": "HBoxModel",
          "model_module_version": "1.5.0",
          "state": {
            "_dom_classes": [],
            "_model_module": "@jupyter-widgets/controls",
            "_model_module_version": "1.5.0",
            "_model_name": "HBoxModel",
            "_view_count": null,
            "_view_module": "@jupyter-widgets/controls",
            "_view_module_version": "1.5.0",
            "_view_name": "HBoxView",
            "box_style": "",
            "children": [
              "IPY_MODEL_b37f6edd9feb412ca93c761f31538010",
              "IPY_MODEL_807924eb60874a2f8cbffcecfabe4c66",
              "IPY_MODEL_0053d24b31064532b51d7570de3f2515"
            ],
            "layout": "IPY_MODEL_7f0601356a224f11ba9b71e1c8db1ee3"
          }
        },
        "b37f6edd9feb412ca93c761f31538010": {
          "model_module": "@jupyter-widgets/controls",
          "model_name": "HTMLModel",
          "model_module_version": "1.5.0",
          "state": {
            "_dom_classes": [],
            "_model_module": "@jupyter-widgets/controls",
            "_model_module_version": "1.5.0",
            "_model_name": "HTMLModel",
            "_view_count": null,
            "_view_module": "@jupyter-widgets/controls",
            "_view_module_version": "1.5.0",
            "_view_name": "HTMLView",
            "description": "",
            "description_tooltip": null,
            "layout": "IPY_MODEL_5362606d11054c75ada7229f6c60c8fd",
            "placeholder": "​",
            "style": "IPY_MODEL_8818fe589eb44dedb072ef193457f52e",
            "value": "Downloading: 100%"
          }
        },
        "807924eb60874a2f8cbffcecfabe4c66": {
          "model_module": "@jupyter-widgets/controls",
          "model_name": "FloatProgressModel",
          "model_module_version": "1.5.0",
          "state": {
            "_dom_classes": [],
            "_model_module": "@jupyter-widgets/controls",
            "_model_module_version": "1.5.0",
            "_model_name": "FloatProgressModel",
            "_view_count": null,
            "_view_module": "@jupyter-widgets/controls",
            "_view_module_version": "1.5.0",
            "_view_name": "ProgressView",
            "bar_style": "success",
            "description": "",
            "description_tooltip": null,
            "layout": "IPY_MODEL_88800c03bdae46b9a43f4fcc3d45ec0e",
            "max": 349,
            "min": 0,
            "orientation": "horizontal",
            "style": "IPY_MODEL_fb15daa90de54d9e9f5287d64405671a",
            "value": 349
          }
        },
        "0053d24b31064532b51d7570de3f2515": {
          "model_module": "@jupyter-widgets/controls",
          "model_name": "HTMLModel",
          "model_module_version": "1.5.0",
          "state": {
            "_dom_classes": [],
            "_model_module": "@jupyter-widgets/controls",
            "_model_module_version": "1.5.0",
            "_model_name": "HTMLModel",
            "_view_count": null,
            "_view_module": "@jupyter-widgets/controls",
            "_view_module_version": "1.5.0",
            "_view_name": "HTMLView",
            "description": "",
            "description_tooltip": null,
            "layout": "IPY_MODEL_125dd306841c4b57be28c4be0b8b3338",
            "placeholder": "​",
            "style": "IPY_MODEL_04ddd52b475c49e0a442084598e8e006",
            "value": " 349/349 [00:00&lt;00:00, 5.93kB/s]"
          }
        },
        "7f0601356a224f11ba9b71e1c8db1ee3": {
          "model_module": "@jupyter-widgets/base",
          "model_name": "LayoutModel",
          "model_module_version": "1.2.0",
          "state": {
            "_model_module": "@jupyter-widgets/base",
            "_model_module_version": "1.2.0",
            "_model_name": "LayoutModel",
            "_view_count": null,
            "_view_module": "@jupyter-widgets/base",
            "_view_module_version": "1.2.0",
            "_view_name": "LayoutView",
            "align_content": null,
            "align_items": null,
            "align_self": null,
            "border": null,
            "bottom": null,
            "display": null,
            "flex": null,
            "flex_flow": null,
            "grid_area": null,
            "grid_auto_columns": null,
            "grid_auto_flow": null,
            "grid_auto_rows": null,
            "grid_column": null,
            "grid_gap": null,
            "grid_row": null,
            "grid_template_areas": null,
            "grid_template_columns": null,
            "grid_template_rows": null,
            "height": null,
            "justify_content": null,
            "justify_items": null,
            "left": null,
            "margin": null,
            "max_height": null,
            "max_width": null,
            "min_height": null,
            "min_width": null,
            "object_fit": null,
            "object_position": null,
            "order": null,
            "overflow": null,
            "overflow_x": null,
            "overflow_y": null,
            "padding": null,
            "right": null,
            "top": null,
            "visibility": null,
            "width": null
          }
        },
        "5362606d11054c75ada7229f6c60c8fd": {
          "model_module": "@jupyter-widgets/base",
          "model_name": "LayoutModel",
          "model_module_version": "1.2.0",
          "state": {
            "_model_module": "@jupyter-widgets/base",
            "_model_module_version": "1.2.0",
            "_model_name": "LayoutModel",
            "_view_count": null,
            "_view_module": "@jupyter-widgets/base",
            "_view_module_version": "1.2.0",
            "_view_name": "LayoutView",
            "align_content": null,
            "align_items": null,
            "align_self": null,
            "border": null,
            "bottom": null,
            "display": null,
            "flex": null,
            "flex_flow": null,
            "grid_area": null,
            "grid_auto_columns": null,
            "grid_auto_flow": null,
            "grid_auto_rows": null,
            "grid_column": null,
            "grid_gap": null,
            "grid_row": null,
            "grid_template_areas": null,
            "grid_template_columns": null,
            "grid_template_rows": null,
            "height": null,
            "justify_content": null,
            "justify_items": null,
            "left": null,
            "margin": null,
            "max_height": null,
            "max_width": null,
            "min_height": null,
            "min_width": null,
            "object_fit": null,
            "object_position": null,
            "order": null,
            "overflow": null,
            "overflow_x": null,
            "overflow_y": null,
            "padding": null,
            "right": null,
            "top": null,
            "visibility": null,
            "width": null
          }
        },
        "8818fe589eb44dedb072ef193457f52e": {
          "model_module": "@jupyter-widgets/controls",
          "model_name": "DescriptionStyleModel",
          "model_module_version": "1.5.0",
          "state": {
            "_model_module": "@jupyter-widgets/controls",
            "_model_module_version": "1.5.0",
            "_model_name": "DescriptionStyleModel",
            "_view_count": null,
            "_view_module": "@jupyter-widgets/base",
            "_view_module_version": "1.2.0",
            "_view_name": "StyleView",
            "description_width": ""
          }
        },
        "88800c03bdae46b9a43f4fcc3d45ec0e": {
          "model_module": "@jupyter-widgets/base",
          "model_name": "LayoutModel",
          "model_module_version": "1.2.0",
          "state": {
            "_model_module": "@jupyter-widgets/base",
            "_model_module_version": "1.2.0",
            "_model_name": "LayoutModel",
            "_view_count": null,
            "_view_module": "@jupyter-widgets/base",
            "_view_module_version": "1.2.0",
            "_view_name": "LayoutView",
            "align_content": null,
            "align_items": null,
            "align_self": null,
            "border": null,
            "bottom": null,
            "display": null,
            "flex": null,
            "flex_flow": null,
            "grid_area": null,
            "grid_auto_columns": null,
            "grid_auto_flow": null,
            "grid_auto_rows": null,
            "grid_column": null,
            "grid_gap": null,
            "grid_row": null,
            "grid_template_areas": null,
            "grid_template_columns": null,
            "grid_template_rows": null,
            "height": null,
            "justify_content": null,
            "justify_items": null,
            "left": null,
            "margin": null,
            "max_height": null,
            "max_width": null,
            "min_height": null,
            "min_width": null,
            "object_fit": null,
            "object_position": null,
            "order": null,
            "overflow": null,
            "overflow_x": null,
            "overflow_y": null,
            "padding": null,
            "right": null,
            "top": null,
            "visibility": null,
            "width": null
          }
        },
        "fb15daa90de54d9e9f5287d64405671a": {
          "model_module": "@jupyter-widgets/controls",
          "model_name": "ProgressStyleModel",
          "model_module_version": "1.5.0",
          "state": {
            "_model_module": "@jupyter-widgets/controls",
            "_model_module_version": "1.5.0",
            "_model_name": "ProgressStyleModel",
            "_view_count": null,
            "_view_module": "@jupyter-widgets/base",
            "_view_module_version": "1.2.0",
            "_view_name": "StyleView",
            "bar_color": null,
            "description_width": ""
          }
        },
        "125dd306841c4b57be28c4be0b8b3338": {
          "model_module": "@jupyter-widgets/base",
          "model_name": "LayoutModel",
          "model_module_version": "1.2.0",
          "state": {
            "_model_module": "@jupyter-widgets/base",
            "_model_module_version": "1.2.0",
            "_model_name": "LayoutModel",
            "_view_count": null,
            "_view_module": "@jupyter-widgets/base",
            "_view_module_version": "1.2.0",
            "_view_name": "LayoutView",
            "align_content": null,
            "align_items": null,
            "align_self": null,
            "border": null,
            "bottom": null,
            "display": null,
            "flex": null,
            "flex_flow": null,
            "grid_area": null,
            "grid_auto_columns": null,
            "grid_auto_flow": null,
            "grid_auto_rows": null,
            "grid_column": null,
            "grid_gap": null,
            "grid_row": null,
            "grid_template_areas": null,
            "grid_template_columns": null,
            "grid_template_rows": null,
            "height": null,
            "justify_content": null,
            "justify_items": null,
            "left": null,
            "margin": null,
            "max_height": null,
            "max_width": null,
            "min_height": null,
            "min_width": null,
            "object_fit": null,
            "object_position": null,
            "order": null,
            "overflow": null,
            "overflow_x": null,
            "overflow_y": null,
            "padding": null,
            "right": null,
            "top": null,
            "visibility": null,
            "width": null
          }
        },
        "04ddd52b475c49e0a442084598e8e006": {
          "model_module": "@jupyter-widgets/controls",
          "model_name": "DescriptionStyleModel",
          "model_module_version": "1.5.0",
          "state": {
            "_model_module": "@jupyter-widgets/controls",
            "_model_module_version": "1.5.0",
            "_model_name": "DescriptionStyleModel",
            "_view_count": null,
            "_view_module": "@jupyter-widgets/base",
            "_view_module_version": "1.2.0",
            "_view_name": "StyleView",
            "description_width": ""
          }
        },
        "4459c380a0204c128b933e899dc967ac": {
          "model_module": "@jupyter-widgets/controls",
          "model_name": "HBoxModel",
          "model_module_version": "1.5.0",
          "state": {
            "_dom_classes": [],
            "_model_module": "@jupyter-widgets/controls",
            "_model_module_version": "1.5.0",
            "_model_name": "HBoxModel",
            "_view_count": null,
            "_view_module": "@jupyter-widgets/controls",
            "_view_module_version": "1.5.0",
            "_view_name": "HBoxView",
            "box_style": "",
            "children": [
              "IPY_MODEL_8cbf2ea4393f473b96bc29fa702a297a",
              "IPY_MODEL_9484ae9c542b40b4b8e693a010f20a73",
              "IPY_MODEL_8cbbb996c6a941e5b533ecc9ba7fff3f"
            ],
            "layout": "IPY_MODEL_edde2d688e0d487f80d9c01f38220080"
          }
        },
        "8cbf2ea4393f473b96bc29fa702a297a": {
          "model_module": "@jupyter-widgets/controls",
          "model_name": "HTMLModel",
          "model_module_version": "1.5.0",
          "state": {
            "_dom_classes": [],
            "_model_module": "@jupyter-widgets/controls",
            "_model_module_version": "1.5.0",
            "_model_name": "HTMLModel",
            "_view_count": null,
            "_view_module": "@jupyter-widgets/controls",
            "_view_module_version": "1.5.0",
            "_view_name": "HTMLView",
            "description": "",
            "description_tooltip": null,
            "layout": "IPY_MODEL_a6962fdce72f46978354de1ef846181a",
            "placeholder": "​",
            "style": "IPY_MODEL_e4413eb10b7341ffb4add8a1eecb346e",
            "value": "Downloading: 100%"
          }
        },
        "9484ae9c542b40b4b8e693a010f20a73": {
          "model_module": "@jupyter-widgets/controls",
          "model_name": "FloatProgressModel",
          "model_module_version": "1.5.0",
          "state": {
            "_dom_classes": [],
            "_model_module": "@jupyter-widgets/controls",
            "_model_module_version": "1.5.0",
            "_model_name": "FloatProgressModel",
            "_view_count": null,
            "_view_module": "@jupyter-widgets/controls",
            "_view_module_version": "1.5.0",
            "_view_name": "ProgressView",
            "bar_style": "success",
            "description": "",
            "description_tooltip": null,
            "layout": "IPY_MODEL_0c729d5d14f841adb9cbfd6d99010522",
            "max": 90888945,
            "min": 0,
            "orientation": "horizontal",
            "style": "IPY_MODEL_1e3fd54fc41a453aa63816747c394989",
            "value": 90888945
          }
        },
        "8cbbb996c6a941e5b533ecc9ba7fff3f": {
          "model_module": "@jupyter-widgets/controls",
          "model_name": "HTMLModel",
          "model_module_version": "1.5.0",
          "state": {
            "_dom_classes": [],
            "_model_module": "@jupyter-widgets/controls",
            "_model_module_version": "1.5.0",
            "_model_name": "HTMLModel",
            "_view_count": null,
            "_view_module": "@jupyter-widgets/controls",
            "_view_module_version": "1.5.0",
            "_view_name": "HTMLView",
            "description": "",
            "description_tooltip": null,
            "layout": "IPY_MODEL_eae62b2b824240a0a7a6024e8e3f1bdd",
            "placeholder": "​",
            "style": "IPY_MODEL_5e2b51d42e164d0db64adf30c098079b",
            "value": " 90.9M/90.9M [00:04&lt;00:00, 19.3MB/s]"
          }
        },
        "edde2d688e0d487f80d9c01f38220080": {
          "model_module": "@jupyter-widgets/base",
          "model_name": "LayoutModel",
          "model_module_version": "1.2.0",
          "state": {
            "_model_module": "@jupyter-widgets/base",
            "_model_module_version": "1.2.0",
            "_model_name": "LayoutModel",
            "_view_count": null,
            "_view_module": "@jupyter-widgets/base",
            "_view_module_version": "1.2.0",
            "_view_name": "LayoutView",
            "align_content": null,
            "align_items": null,
            "align_self": null,
            "border": null,
            "bottom": null,
            "display": null,
            "flex": null,
            "flex_flow": null,
            "grid_area": null,
            "grid_auto_columns": null,
            "grid_auto_flow": null,
            "grid_auto_rows": null,
            "grid_column": null,
            "grid_gap": null,
            "grid_row": null,
            "grid_template_areas": null,
            "grid_template_columns": null,
            "grid_template_rows": null,
            "height": null,
            "justify_content": null,
            "justify_items": null,
            "left": null,
            "margin": null,
            "max_height": null,
            "max_width": null,
            "min_height": null,
            "min_width": null,
            "object_fit": null,
            "object_position": null,
            "order": null,
            "overflow": null,
            "overflow_x": null,
            "overflow_y": null,
            "padding": null,
            "right": null,
            "top": null,
            "visibility": null,
            "width": null
          }
        },
        "a6962fdce72f46978354de1ef846181a": {
          "model_module": "@jupyter-widgets/base",
          "model_name": "LayoutModel",
          "model_module_version": "1.2.0",
          "state": {
            "_model_module": "@jupyter-widgets/base",
            "_model_module_version": "1.2.0",
            "_model_name": "LayoutModel",
            "_view_count": null,
            "_view_module": "@jupyter-widgets/base",
            "_view_module_version": "1.2.0",
            "_view_name": "LayoutView",
            "align_content": null,
            "align_items": null,
            "align_self": null,
            "border": null,
            "bottom": null,
            "display": null,
            "flex": null,
            "flex_flow": null,
            "grid_area": null,
            "grid_auto_columns": null,
            "grid_auto_flow": null,
            "grid_auto_rows": null,
            "grid_column": null,
            "grid_gap": null,
            "grid_row": null,
            "grid_template_areas": null,
            "grid_template_columns": null,
            "grid_template_rows": null,
            "height": null,
            "justify_content": null,
            "justify_items": null,
            "left": null,
            "margin": null,
            "max_height": null,
            "max_width": null,
            "min_height": null,
            "min_width": null,
            "object_fit": null,
            "object_position": null,
            "order": null,
            "overflow": null,
            "overflow_x": null,
            "overflow_y": null,
            "padding": null,
            "right": null,
            "top": null,
            "visibility": null,
            "width": null
          }
        },
        "e4413eb10b7341ffb4add8a1eecb346e": {
          "model_module": "@jupyter-widgets/controls",
          "model_name": "DescriptionStyleModel",
          "model_module_version": "1.5.0",
          "state": {
            "_model_module": "@jupyter-widgets/controls",
            "_model_module_version": "1.5.0",
            "_model_name": "DescriptionStyleModel",
            "_view_count": null,
            "_view_module": "@jupyter-widgets/base",
            "_view_module_version": "1.2.0",
            "_view_name": "StyleView",
            "description_width": ""
          }
        },
        "0c729d5d14f841adb9cbfd6d99010522": {
          "model_module": "@jupyter-widgets/base",
          "model_name": "LayoutModel",
          "model_module_version": "1.2.0",
          "state": {
            "_model_module": "@jupyter-widgets/base",
            "_model_module_version": "1.2.0",
            "_model_name": "LayoutModel",
            "_view_count": null,
            "_view_module": "@jupyter-widgets/base",
            "_view_module_version": "1.2.0",
            "_view_name": "LayoutView",
            "align_content": null,
            "align_items": null,
            "align_self": null,
            "border": null,
            "bottom": null,
            "display": null,
            "flex": null,
            "flex_flow": null,
            "grid_area": null,
            "grid_auto_columns": null,
            "grid_auto_flow": null,
            "grid_auto_rows": null,
            "grid_column": null,
            "grid_gap": null,
            "grid_row": null,
            "grid_template_areas": null,
            "grid_template_columns": null,
            "grid_template_rows": null,
            "height": null,
            "justify_content": null,
            "justify_items": null,
            "left": null,
            "margin": null,
            "max_height": null,
            "max_width": null,
            "min_height": null,
            "min_width": null,
            "object_fit": null,
            "object_position": null,
            "order": null,
            "overflow": null,
            "overflow_x": null,
            "overflow_y": null,
            "padding": null,
            "right": null,
            "top": null,
            "visibility": null,
            "width": null
          }
        },
        "1e3fd54fc41a453aa63816747c394989": {
          "model_module": "@jupyter-widgets/controls",
          "model_name": "ProgressStyleModel",
          "model_module_version": "1.5.0",
          "state": {
            "_model_module": "@jupyter-widgets/controls",
            "_model_module_version": "1.5.0",
            "_model_name": "ProgressStyleModel",
            "_view_count": null,
            "_view_module": "@jupyter-widgets/base",
            "_view_module_version": "1.2.0",
            "_view_name": "StyleView",
            "bar_color": null,
            "description_width": ""
          }
        },
        "eae62b2b824240a0a7a6024e8e3f1bdd": {
          "model_module": "@jupyter-widgets/base",
          "model_name": "LayoutModel",
          "model_module_version": "1.2.0",
          "state": {
            "_model_module": "@jupyter-widgets/base",
            "_model_module_version": "1.2.0",
            "_model_name": "LayoutModel",
            "_view_count": null,
            "_view_module": "@jupyter-widgets/base",
            "_view_module_version": "1.2.0",
            "_view_name": "LayoutView",
            "align_content": null,
            "align_items": null,
            "align_self": null,
            "border": null,
            "bottom": null,
            "display": null,
            "flex": null,
            "flex_flow": null,
            "grid_area": null,
            "grid_auto_columns": null,
            "grid_auto_flow": null,
            "grid_auto_rows": null,
            "grid_column": null,
            "grid_gap": null,
            "grid_row": null,
            "grid_template_areas": null,
            "grid_template_columns": null,
            "grid_template_rows": null,
            "height": null,
            "justify_content": null,
            "justify_items": null,
            "left": null,
            "margin": null,
            "max_height": null,
            "max_width": null,
            "min_height": null,
            "min_width": null,
            "object_fit": null,
            "object_position": null,
            "order": null,
            "overflow": null,
            "overflow_x": null,
            "overflow_y": null,
            "padding": null,
            "right": null,
            "top": null,
            "visibility": null,
            "width": null
          }
        },
        "5e2b51d42e164d0db64adf30c098079b": {
          "model_module": "@jupyter-widgets/controls",
          "model_name": "DescriptionStyleModel",
          "model_module_version": "1.5.0",
          "state": {
            "_model_module": "@jupyter-widgets/controls",
            "_model_module_version": "1.5.0",
            "_model_name": "DescriptionStyleModel",
            "_view_count": null,
            "_view_module": "@jupyter-widgets/base",
            "_view_module_version": "1.2.0",
            "_view_name": "StyleView",
            "description_width": ""
          }
        },
        "ecb98fda22c14816b1e1ff7a2a262c85": {
          "model_module": "@jupyter-widgets/controls",
          "model_name": "HBoxModel",
          "model_module_version": "1.5.0",
          "state": {
            "_dom_classes": [],
            "_model_module": "@jupyter-widgets/controls",
            "_model_module_version": "1.5.0",
            "_model_name": "HBoxModel",
            "_view_count": null,
            "_view_module": "@jupyter-widgets/controls",
            "_view_module_version": "1.5.0",
            "_view_name": "HBoxView",
            "box_style": "",
            "children": [
              "IPY_MODEL_870aa1eba252491f932c88cabf760562",
              "IPY_MODEL_659223d5641849e89a34f355e7e794bb",
              "IPY_MODEL_8445740b7c0748149e587319908ce8d6"
            ],
            "layout": "IPY_MODEL_46755b87216541d5a3cece459a7ddaa4"
          }
        },
        "870aa1eba252491f932c88cabf760562": {
          "model_module": "@jupyter-widgets/controls",
          "model_name": "HTMLModel",
          "model_module_version": "1.5.0",
          "state": {
            "_dom_classes": [],
            "_model_module": "@jupyter-widgets/controls",
            "_model_module_version": "1.5.0",
            "_model_name": "HTMLModel",
            "_view_count": null,
            "_view_module": "@jupyter-widgets/controls",
            "_view_module_version": "1.5.0",
            "_view_name": "HTMLView",
            "description": "",
            "description_tooltip": null,
            "layout": "IPY_MODEL_83467d9dbe2f41dfafa7b5a10bcd3e03",
            "placeholder": "​",
            "style": "IPY_MODEL_cf82baf1aa21410399f613818634a824",
            "value": "Downloading: 100%"
          }
        },
        "659223d5641849e89a34f355e7e794bb": {
          "model_module": "@jupyter-widgets/controls",
          "model_name": "FloatProgressModel",
          "model_module_version": "1.5.0",
          "state": {
            "_dom_classes": [],
            "_model_module": "@jupyter-widgets/controls",
            "_model_module_version": "1.5.0",
            "_model_name": "FloatProgressModel",
            "_view_count": null,
            "_view_module": "@jupyter-widgets/controls",
            "_view_module_version": "1.5.0",
            "_view_name": "ProgressView",
            "bar_style": "success",
            "description": "",
            "description_tooltip": null,
            "layout": "IPY_MODEL_0c488a1b3ce042269c5cea4c1f02004b",
            "max": 53,
            "min": 0,
            "orientation": "horizontal",
            "style": "IPY_MODEL_47baaaafd85948588bcbbf170737b811",
            "value": 53
          }
        },
        "8445740b7c0748149e587319908ce8d6": {
          "model_module": "@jupyter-widgets/controls",
          "model_name": "HTMLModel",
          "model_module_version": "1.5.0",
          "state": {
            "_dom_classes": [],
            "_model_module": "@jupyter-widgets/controls",
            "_model_module_version": "1.5.0",
            "_model_name": "HTMLModel",
            "_view_count": null,
            "_view_module": "@jupyter-widgets/controls",
            "_view_module_version": "1.5.0",
            "_view_name": "HTMLView",
            "description": "",
            "description_tooltip": null,
            "layout": "IPY_MODEL_6ecc9d87686349ebb612dd5456b5f255",
            "placeholder": "​",
            "style": "IPY_MODEL_6174c39bd5284b7b886d7616751a20b6",
            "value": " 53.0/53.0 [00:00&lt;00:00, 1.42kB/s]"
          }
        },
        "46755b87216541d5a3cece459a7ddaa4": {
          "model_module": "@jupyter-widgets/base",
          "model_name": "LayoutModel",
          "model_module_version": "1.2.0",
          "state": {
            "_model_module": "@jupyter-widgets/base",
            "_model_module_version": "1.2.0",
            "_model_name": "LayoutModel",
            "_view_count": null,
            "_view_module": "@jupyter-widgets/base",
            "_view_module_version": "1.2.0",
            "_view_name": "LayoutView",
            "align_content": null,
            "align_items": null,
            "align_self": null,
            "border": null,
            "bottom": null,
            "display": null,
            "flex": null,
            "flex_flow": null,
            "grid_area": null,
            "grid_auto_columns": null,
            "grid_auto_flow": null,
            "grid_auto_rows": null,
            "grid_column": null,
            "grid_gap": null,
            "grid_row": null,
            "grid_template_areas": null,
            "grid_template_columns": null,
            "grid_template_rows": null,
            "height": null,
            "justify_content": null,
            "justify_items": null,
            "left": null,
            "margin": null,
            "max_height": null,
            "max_width": null,
            "min_height": null,
            "min_width": null,
            "object_fit": null,
            "object_position": null,
            "order": null,
            "overflow": null,
            "overflow_x": null,
            "overflow_y": null,
            "padding": null,
            "right": null,
            "top": null,
            "visibility": null,
            "width": null
          }
        },
        "83467d9dbe2f41dfafa7b5a10bcd3e03": {
          "model_module": "@jupyter-widgets/base",
          "model_name": "LayoutModel",
          "model_module_version": "1.2.0",
          "state": {
            "_model_module": "@jupyter-widgets/base",
            "_model_module_version": "1.2.0",
            "_model_name": "LayoutModel",
            "_view_count": null,
            "_view_module": "@jupyter-widgets/base",
            "_view_module_version": "1.2.0",
            "_view_name": "LayoutView",
            "align_content": null,
            "align_items": null,
            "align_self": null,
            "border": null,
            "bottom": null,
            "display": null,
            "flex": null,
            "flex_flow": null,
            "grid_area": null,
            "grid_auto_columns": null,
            "grid_auto_flow": null,
            "grid_auto_rows": null,
            "grid_column": null,
            "grid_gap": null,
            "grid_row": null,
            "grid_template_areas": null,
            "grid_template_columns": null,
            "grid_template_rows": null,
            "height": null,
            "justify_content": null,
            "justify_items": null,
            "left": null,
            "margin": null,
            "max_height": null,
            "max_width": null,
            "min_height": null,
            "min_width": null,
            "object_fit": null,
            "object_position": null,
            "order": null,
            "overflow": null,
            "overflow_x": null,
            "overflow_y": null,
            "padding": null,
            "right": null,
            "top": null,
            "visibility": null,
            "width": null
          }
        },
        "cf82baf1aa21410399f613818634a824": {
          "model_module": "@jupyter-widgets/controls",
          "model_name": "DescriptionStyleModel",
          "model_module_version": "1.5.0",
          "state": {
            "_model_module": "@jupyter-widgets/controls",
            "_model_module_version": "1.5.0",
            "_model_name": "DescriptionStyleModel",
            "_view_count": null,
            "_view_module": "@jupyter-widgets/base",
            "_view_module_version": "1.2.0",
            "_view_name": "StyleView",
            "description_width": ""
          }
        },
        "0c488a1b3ce042269c5cea4c1f02004b": {
          "model_module": "@jupyter-widgets/base",
          "model_name": "LayoutModel",
          "model_module_version": "1.2.0",
          "state": {
            "_model_module": "@jupyter-widgets/base",
            "_model_module_version": "1.2.0",
            "_model_name": "LayoutModel",
            "_view_count": null,
            "_view_module": "@jupyter-widgets/base",
            "_view_module_version": "1.2.0",
            "_view_name": "LayoutView",
            "align_content": null,
            "align_items": null,
            "align_self": null,
            "border": null,
            "bottom": null,
            "display": null,
            "flex": null,
            "flex_flow": null,
            "grid_area": null,
            "grid_auto_columns": null,
            "grid_auto_flow": null,
            "grid_auto_rows": null,
            "grid_column": null,
            "grid_gap": null,
            "grid_row": null,
            "grid_template_areas": null,
            "grid_template_columns": null,
            "grid_template_rows": null,
            "height": null,
            "justify_content": null,
            "justify_items": null,
            "left": null,
            "margin": null,
            "max_height": null,
            "max_width": null,
            "min_height": null,
            "min_width": null,
            "object_fit": null,
            "object_position": null,
            "order": null,
            "overflow": null,
            "overflow_x": null,
            "overflow_y": null,
            "padding": null,
            "right": null,
            "top": null,
            "visibility": null,
            "width": null
          }
        },
        "47baaaafd85948588bcbbf170737b811": {
          "model_module": "@jupyter-widgets/controls",
          "model_name": "ProgressStyleModel",
          "model_module_version": "1.5.0",
          "state": {
            "_model_module": "@jupyter-widgets/controls",
            "_model_module_version": "1.5.0",
            "_model_name": "ProgressStyleModel",
            "_view_count": null,
            "_view_module": "@jupyter-widgets/base",
            "_view_module_version": "1.2.0",
            "_view_name": "StyleView",
            "bar_color": null,
            "description_width": ""
          }
        },
        "6ecc9d87686349ebb612dd5456b5f255": {
          "model_module": "@jupyter-widgets/base",
          "model_name": "LayoutModel",
          "model_module_version": "1.2.0",
          "state": {
            "_model_module": "@jupyter-widgets/base",
            "_model_module_version": "1.2.0",
            "_model_name": "LayoutModel",
            "_view_count": null,
            "_view_module": "@jupyter-widgets/base",
            "_view_module_version": "1.2.0",
            "_view_name": "LayoutView",
            "align_content": null,
            "align_items": null,
            "align_self": null,
            "border": null,
            "bottom": null,
            "display": null,
            "flex": null,
            "flex_flow": null,
            "grid_area": null,
            "grid_auto_columns": null,
            "grid_auto_flow": null,
            "grid_auto_rows": null,
            "grid_column": null,
            "grid_gap": null,
            "grid_row": null,
            "grid_template_areas": null,
            "grid_template_columns": null,
            "grid_template_rows": null,
            "height": null,
            "justify_content": null,
            "justify_items": null,
            "left": null,
            "margin": null,
            "max_height": null,
            "max_width": null,
            "min_height": null,
            "min_width": null,
            "object_fit": null,
            "object_position": null,
            "order": null,
            "overflow": null,
            "overflow_x": null,
            "overflow_y": null,
            "padding": null,
            "right": null,
            "top": null,
            "visibility": null,
            "width": null
          }
        },
        "6174c39bd5284b7b886d7616751a20b6": {
          "model_module": "@jupyter-widgets/controls",
          "model_name": "DescriptionStyleModel",
          "model_module_version": "1.5.0",
          "state": {
            "_model_module": "@jupyter-widgets/controls",
            "_model_module_version": "1.5.0",
            "_model_name": "DescriptionStyleModel",
            "_view_count": null,
            "_view_module": "@jupyter-widgets/base",
            "_view_module_version": "1.2.0",
            "_view_name": "StyleView",
            "description_width": ""
          }
        },
        "c2844034bbe5479aa07fce04495216b1": {
          "model_module": "@jupyter-widgets/controls",
          "model_name": "HBoxModel",
          "model_module_version": "1.5.0",
          "state": {
            "_dom_classes": [],
            "_model_module": "@jupyter-widgets/controls",
            "_model_module_version": "1.5.0",
            "_model_name": "HBoxModel",
            "_view_count": null,
            "_view_module": "@jupyter-widgets/controls",
            "_view_module_version": "1.5.0",
            "_view_name": "HBoxView",
            "box_style": "",
            "children": [
              "IPY_MODEL_656f1e34a87e4f19afa4fdc5f65cca9f",
              "IPY_MODEL_966199cb16f249f284e3d50e61135bcf",
              "IPY_MODEL_eb9d1bcc0d9f4e949456d4b0be3cda69"
            ],
            "layout": "IPY_MODEL_d0685682c32d430e90b36e21c06df688"
          }
        },
        "656f1e34a87e4f19afa4fdc5f65cca9f": {
          "model_module": "@jupyter-widgets/controls",
          "model_name": "HTMLModel",
          "model_module_version": "1.5.0",
          "state": {
            "_dom_classes": [],
            "_model_module": "@jupyter-widgets/controls",
            "_model_module_version": "1.5.0",
            "_model_name": "HTMLModel",
            "_view_count": null,
            "_view_module": "@jupyter-widgets/controls",
            "_view_module_version": "1.5.0",
            "_view_name": "HTMLView",
            "description": "",
            "description_tooltip": null,
            "layout": "IPY_MODEL_6b051b970d2344b38119591b756abf73",
            "placeholder": "​",
            "style": "IPY_MODEL_12eb065a6c7e46ddbd66a4511d247609",
            "value": "Downloading: 100%"
          }
        },
        "966199cb16f249f284e3d50e61135bcf": {
          "model_module": "@jupyter-widgets/controls",
          "model_name": "FloatProgressModel",
          "model_module_version": "1.5.0",
          "state": {
            "_dom_classes": [],
            "_model_module": "@jupyter-widgets/controls",
            "_model_module_version": "1.5.0",
            "_model_name": "FloatProgressModel",
            "_view_count": null,
            "_view_module": "@jupyter-widgets/controls",
            "_view_module_version": "1.5.0",
            "_view_name": "ProgressView",
            "bar_style": "success",
            "description": "",
            "description_tooltip": null,
            "layout": "IPY_MODEL_a09be31a46d74504a9da126f4758eea6",
            "max": 112,
            "min": 0,
            "orientation": "horizontal",
            "style": "IPY_MODEL_ef3a602f3443489b96e9e22a450adebb",
            "value": 112
          }
        },
        "eb9d1bcc0d9f4e949456d4b0be3cda69": {
          "model_module": "@jupyter-widgets/controls",
          "model_name": "HTMLModel",
          "model_module_version": "1.5.0",
          "state": {
            "_dom_classes": [],
            "_model_module": "@jupyter-widgets/controls",
            "_model_module_version": "1.5.0",
            "_model_name": "HTMLModel",
            "_view_count": null,
            "_view_module": "@jupyter-widgets/controls",
            "_view_module_version": "1.5.0",
            "_view_name": "HTMLView",
            "description": "",
            "description_tooltip": null,
            "layout": "IPY_MODEL_c5c9a5e319014ef296607fabe8395507",
            "placeholder": "​",
            "style": "IPY_MODEL_484191679d6c4a5dabd055bf3d714986",
            "value": " 112/112 [00:00&lt;00:00, 3.13kB/s]"
          }
        },
        "d0685682c32d430e90b36e21c06df688": {
          "model_module": "@jupyter-widgets/base",
          "model_name": "LayoutModel",
          "model_module_version": "1.2.0",
          "state": {
            "_model_module": "@jupyter-widgets/base",
            "_model_module_version": "1.2.0",
            "_model_name": "LayoutModel",
            "_view_count": null,
            "_view_module": "@jupyter-widgets/base",
            "_view_module_version": "1.2.0",
            "_view_name": "LayoutView",
            "align_content": null,
            "align_items": null,
            "align_self": null,
            "border": null,
            "bottom": null,
            "display": null,
            "flex": null,
            "flex_flow": null,
            "grid_area": null,
            "grid_auto_columns": null,
            "grid_auto_flow": null,
            "grid_auto_rows": null,
            "grid_column": null,
            "grid_gap": null,
            "grid_row": null,
            "grid_template_areas": null,
            "grid_template_columns": null,
            "grid_template_rows": null,
            "height": null,
            "justify_content": null,
            "justify_items": null,
            "left": null,
            "margin": null,
            "max_height": null,
            "max_width": null,
            "min_height": null,
            "min_width": null,
            "object_fit": null,
            "object_position": null,
            "order": null,
            "overflow": null,
            "overflow_x": null,
            "overflow_y": null,
            "padding": null,
            "right": null,
            "top": null,
            "visibility": null,
            "width": null
          }
        },
        "6b051b970d2344b38119591b756abf73": {
          "model_module": "@jupyter-widgets/base",
          "model_name": "LayoutModel",
          "model_module_version": "1.2.0",
          "state": {
            "_model_module": "@jupyter-widgets/base",
            "_model_module_version": "1.2.0",
            "_model_name": "LayoutModel",
            "_view_count": null,
            "_view_module": "@jupyter-widgets/base",
            "_view_module_version": "1.2.0",
            "_view_name": "LayoutView",
            "align_content": null,
            "align_items": null,
            "align_self": null,
            "border": null,
            "bottom": null,
            "display": null,
            "flex": null,
            "flex_flow": null,
            "grid_area": null,
            "grid_auto_columns": null,
            "grid_auto_flow": null,
            "grid_auto_rows": null,
            "grid_column": null,
            "grid_gap": null,
            "grid_row": null,
            "grid_template_areas": null,
            "grid_template_columns": null,
            "grid_template_rows": null,
            "height": null,
            "justify_content": null,
            "justify_items": null,
            "left": null,
            "margin": null,
            "max_height": null,
            "max_width": null,
            "min_height": null,
            "min_width": null,
            "object_fit": null,
            "object_position": null,
            "order": null,
            "overflow": null,
            "overflow_x": null,
            "overflow_y": null,
            "padding": null,
            "right": null,
            "top": null,
            "visibility": null,
            "width": null
          }
        },
        "12eb065a6c7e46ddbd66a4511d247609": {
          "model_module": "@jupyter-widgets/controls",
          "model_name": "DescriptionStyleModel",
          "model_module_version": "1.5.0",
          "state": {
            "_model_module": "@jupyter-widgets/controls",
            "_model_module_version": "1.5.0",
            "_model_name": "DescriptionStyleModel",
            "_view_count": null,
            "_view_module": "@jupyter-widgets/base",
            "_view_module_version": "1.2.0",
            "_view_name": "StyleView",
            "description_width": ""
          }
        },
        "a09be31a46d74504a9da126f4758eea6": {
          "model_module": "@jupyter-widgets/base",
          "model_name": "LayoutModel",
          "model_module_version": "1.2.0",
          "state": {
            "_model_module": "@jupyter-widgets/base",
            "_model_module_version": "1.2.0",
            "_model_name": "LayoutModel",
            "_view_count": null,
            "_view_module": "@jupyter-widgets/base",
            "_view_module_version": "1.2.0",
            "_view_name": "LayoutView",
            "align_content": null,
            "align_items": null,
            "align_self": null,
            "border": null,
            "bottom": null,
            "display": null,
            "flex": null,
            "flex_flow": null,
            "grid_area": null,
            "grid_auto_columns": null,
            "grid_auto_flow": null,
            "grid_auto_rows": null,
            "grid_column": null,
            "grid_gap": null,
            "grid_row": null,
            "grid_template_areas": null,
            "grid_template_columns": null,
            "grid_template_rows": null,
            "height": null,
            "justify_content": null,
            "justify_items": null,
            "left": null,
            "margin": null,
            "max_height": null,
            "max_width": null,
            "min_height": null,
            "min_width": null,
            "object_fit": null,
            "object_position": null,
            "order": null,
            "overflow": null,
            "overflow_x": null,
            "overflow_y": null,
            "padding": null,
            "right": null,
            "top": null,
            "visibility": null,
            "width": null
          }
        },
        "ef3a602f3443489b96e9e22a450adebb": {
          "model_module": "@jupyter-widgets/controls",
          "model_name": "ProgressStyleModel",
          "model_module_version": "1.5.0",
          "state": {
            "_model_module": "@jupyter-widgets/controls",
            "_model_module_version": "1.5.0",
            "_model_name": "ProgressStyleModel",
            "_view_count": null,
            "_view_module": "@jupyter-widgets/base",
            "_view_module_version": "1.2.0",
            "_view_name": "StyleView",
            "bar_color": null,
            "description_width": ""
          }
        },
        "c5c9a5e319014ef296607fabe8395507": {
          "model_module": "@jupyter-widgets/base",
          "model_name": "LayoutModel",
          "model_module_version": "1.2.0",
          "state": {
            "_model_module": "@jupyter-widgets/base",
            "_model_module_version": "1.2.0",
            "_model_name": "LayoutModel",
            "_view_count": null,
            "_view_module": "@jupyter-widgets/base",
            "_view_module_version": "1.2.0",
            "_view_name": "LayoutView",
            "align_content": null,
            "align_items": null,
            "align_self": null,
            "border": null,
            "bottom": null,
            "display": null,
            "flex": null,
            "flex_flow": null,
            "grid_area": null,
            "grid_auto_columns": null,
            "grid_auto_flow": null,
            "grid_auto_rows": null,
            "grid_column": null,
            "grid_gap": null,
            "grid_row": null,
            "grid_template_areas": null,
            "grid_template_columns": null,
            "grid_template_rows": null,
            "height": null,
            "justify_content": null,
            "justify_items": null,
            "left": null,
            "margin": null,
            "max_height": null,
            "max_width": null,
            "min_height": null,
            "min_width": null,
            "object_fit": null,
            "object_position": null,
            "order": null,
            "overflow": null,
            "overflow_x": null,
            "overflow_y": null,
            "padding": null,
            "right": null,
            "top": null,
            "visibility": null,
            "width": null
          }
        },
        "484191679d6c4a5dabd055bf3d714986": {
          "model_module": "@jupyter-widgets/controls",
          "model_name": "DescriptionStyleModel",
          "model_module_version": "1.5.0",
          "state": {
            "_model_module": "@jupyter-widgets/controls",
            "_model_module_version": "1.5.0",
            "_model_name": "DescriptionStyleModel",
            "_view_count": null,
            "_view_module": "@jupyter-widgets/base",
            "_view_module_version": "1.2.0",
            "_view_name": "StyleView",
            "description_width": ""
          }
        },
        "da7b651f977e407f87e9ee7944d14d68": {
          "model_module": "@jupyter-widgets/controls",
          "model_name": "HBoxModel",
          "model_module_version": "1.5.0",
          "state": {
            "_dom_classes": [],
            "_model_module": "@jupyter-widgets/controls",
            "_model_module_version": "1.5.0",
            "_model_name": "HBoxModel",
            "_view_count": null,
            "_view_module": "@jupyter-widgets/controls",
            "_view_module_version": "1.5.0",
            "_view_name": "HBoxView",
            "box_style": "",
            "children": [
              "IPY_MODEL_f3535ca4e9ef4cbfa326137fa5b16d6b",
              "IPY_MODEL_6f0cce46631e4c19aeecedee2c0c00d2",
              "IPY_MODEL_529ee47aa13a46828b5f75218c9c0814"
            ],
            "layout": "IPY_MODEL_639c380cfd8b41918901d59bb1f58139"
          }
        },
        "f3535ca4e9ef4cbfa326137fa5b16d6b": {
          "model_module": "@jupyter-widgets/controls",
          "model_name": "HTMLModel",
          "model_module_version": "1.5.0",
          "state": {
            "_dom_classes": [],
            "_model_module": "@jupyter-widgets/controls",
            "_model_module_version": "1.5.0",
            "_model_name": "HTMLModel",
            "_view_count": null,
            "_view_module": "@jupyter-widgets/controls",
            "_view_module_version": "1.5.0",
            "_view_name": "HTMLView",
            "description": "",
            "description_tooltip": null,
            "layout": "IPY_MODEL_708eb6a915564bc5a5da8e36dda45539",
            "placeholder": "​",
            "style": "IPY_MODEL_d5b126e0e9404053a6d6317e0c483db6",
            "value": "Downloading: 100%"
          }
        },
        "6f0cce46631e4c19aeecedee2c0c00d2": {
          "model_module": "@jupyter-widgets/controls",
          "model_name": "FloatProgressModel",
          "model_module_version": "1.5.0",
          "state": {
            "_dom_classes": [],
            "_model_module": "@jupyter-widgets/controls",
            "_model_module_version": "1.5.0",
            "_model_name": "FloatProgressModel",
            "_view_count": null,
            "_view_module": "@jupyter-widgets/controls",
            "_view_module_version": "1.5.0",
            "_view_name": "ProgressView",
            "bar_style": "success",
            "description": "",
            "description_tooltip": null,
            "layout": "IPY_MODEL_ec0c697e07f94d4f8ede24fcdea2507f",
            "max": 466247,
            "min": 0,
            "orientation": "horizontal",
            "style": "IPY_MODEL_11e01c979ec745eaa7bfb9973d99f86b",
            "value": 466247
          }
        },
        "529ee47aa13a46828b5f75218c9c0814": {
          "model_module": "@jupyter-widgets/controls",
          "model_name": "HTMLModel",
          "model_module_version": "1.5.0",
          "state": {
            "_dom_classes": [],
            "_model_module": "@jupyter-widgets/controls",
            "_model_module_version": "1.5.0",
            "_model_name": "HTMLModel",
            "_view_count": null,
            "_view_module": "@jupyter-widgets/controls",
            "_view_module_version": "1.5.0",
            "_view_name": "HTMLView",
            "description": "",
            "description_tooltip": null,
            "layout": "IPY_MODEL_bb9336599de840a29295a1105a484890",
            "placeholder": "​",
            "style": "IPY_MODEL_434bf3110aa64aaeab4e714b433c571e",
            "value": " 466k/466k [00:00&lt;00:00, 8.51MB/s]"
          }
        },
        "639c380cfd8b41918901d59bb1f58139": {
          "model_module": "@jupyter-widgets/base",
          "model_name": "LayoutModel",
          "model_module_version": "1.2.0",
          "state": {
            "_model_module": "@jupyter-widgets/base",
            "_model_module_version": "1.2.0",
            "_model_name": "LayoutModel",
            "_view_count": null,
            "_view_module": "@jupyter-widgets/base",
            "_view_module_version": "1.2.0",
            "_view_name": "LayoutView",
            "align_content": null,
            "align_items": null,
            "align_self": null,
            "border": null,
            "bottom": null,
            "display": null,
            "flex": null,
            "flex_flow": null,
            "grid_area": null,
            "grid_auto_columns": null,
            "grid_auto_flow": null,
            "grid_auto_rows": null,
            "grid_column": null,
            "grid_gap": null,
            "grid_row": null,
            "grid_template_areas": null,
            "grid_template_columns": null,
            "grid_template_rows": null,
            "height": null,
            "justify_content": null,
            "justify_items": null,
            "left": null,
            "margin": null,
            "max_height": null,
            "max_width": null,
            "min_height": null,
            "min_width": null,
            "object_fit": null,
            "object_position": null,
            "order": null,
            "overflow": null,
            "overflow_x": null,
            "overflow_y": null,
            "padding": null,
            "right": null,
            "top": null,
            "visibility": null,
            "width": null
          }
        },
        "708eb6a915564bc5a5da8e36dda45539": {
          "model_module": "@jupyter-widgets/base",
          "model_name": "LayoutModel",
          "model_module_version": "1.2.0",
          "state": {
            "_model_module": "@jupyter-widgets/base",
            "_model_module_version": "1.2.0",
            "_model_name": "LayoutModel",
            "_view_count": null,
            "_view_module": "@jupyter-widgets/base",
            "_view_module_version": "1.2.0",
            "_view_name": "LayoutView",
            "align_content": null,
            "align_items": null,
            "align_self": null,
            "border": null,
            "bottom": null,
            "display": null,
            "flex": null,
            "flex_flow": null,
            "grid_area": null,
            "grid_auto_columns": null,
            "grid_auto_flow": null,
            "grid_auto_rows": null,
            "grid_column": null,
            "grid_gap": null,
            "grid_row": null,
            "grid_template_areas": null,
            "grid_template_columns": null,
            "grid_template_rows": null,
            "height": null,
            "justify_content": null,
            "justify_items": null,
            "left": null,
            "margin": null,
            "max_height": null,
            "max_width": null,
            "min_height": null,
            "min_width": null,
            "object_fit": null,
            "object_position": null,
            "order": null,
            "overflow": null,
            "overflow_x": null,
            "overflow_y": null,
            "padding": null,
            "right": null,
            "top": null,
            "visibility": null,
            "width": null
          }
        },
        "d5b126e0e9404053a6d6317e0c483db6": {
          "model_module": "@jupyter-widgets/controls",
          "model_name": "DescriptionStyleModel",
          "model_module_version": "1.5.0",
          "state": {
            "_model_module": "@jupyter-widgets/controls",
            "_model_module_version": "1.5.0",
            "_model_name": "DescriptionStyleModel",
            "_view_count": null,
            "_view_module": "@jupyter-widgets/base",
            "_view_module_version": "1.2.0",
            "_view_name": "StyleView",
            "description_width": ""
          }
        },
        "ec0c697e07f94d4f8ede24fcdea2507f": {
          "model_module": "@jupyter-widgets/base",
          "model_name": "LayoutModel",
          "model_module_version": "1.2.0",
          "state": {
            "_model_module": "@jupyter-widgets/base",
            "_model_module_version": "1.2.0",
            "_model_name": "LayoutModel",
            "_view_count": null,
            "_view_module": "@jupyter-widgets/base",
            "_view_module_version": "1.2.0",
            "_view_name": "LayoutView",
            "align_content": null,
            "align_items": null,
            "align_self": null,
            "border": null,
            "bottom": null,
            "display": null,
            "flex": null,
            "flex_flow": null,
            "grid_area": null,
            "grid_auto_columns": null,
            "grid_auto_flow": null,
            "grid_auto_rows": null,
            "grid_column": null,
            "grid_gap": null,
            "grid_row": null,
            "grid_template_areas": null,
            "grid_template_columns": null,
            "grid_template_rows": null,
            "height": null,
            "justify_content": null,
            "justify_items": null,
            "left": null,
            "margin": null,
            "max_height": null,
            "max_width": null,
            "min_height": null,
            "min_width": null,
            "object_fit": null,
            "object_position": null,
            "order": null,
            "overflow": null,
            "overflow_x": null,
            "overflow_y": null,
            "padding": null,
            "right": null,
            "top": null,
            "visibility": null,
            "width": null
          }
        },
        "11e01c979ec745eaa7bfb9973d99f86b": {
          "model_module": "@jupyter-widgets/controls",
          "model_name": "ProgressStyleModel",
          "model_module_version": "1.5.0",
          "state": {
            "_model_module": "@jupyter-widgets/controls",
            "_model_module_version": "1.5.0",
            "_model_name": "ProgressStyleModel",
            "_view_count": null,
            "_view_module": "@jupyter-widgets/base",
            "_view_module_version": "1.2.0",
            "_view_name": "StyleView",
            "bar_color": null,
            "description_width": ""
          }
        },
        "bb9336599de840a29295a1105a484890": {
          "model_module": "@jupyter-widgets/base",
          "model_name": "LayoutModel",
          "model_module_version": "1.2.0",
          "state": {
            "_model_module": "@jupyter-widgets/base",
            "_model_module_version": "1.2.0",
            "_model_name": "LayoutModel",
            "_view_count": null,
            "_view_module": "@jupyter-widgets/base",
            "_view_module_version": "1.2.0",
            "_view_name": "LayoutView",
            "align_content": null,
            "align_items": null,
            "align_self": null,
            "border": null,
            "bottom": null,
            "display": null,
            "flex": null,
            "flex_flow": null,
            "grid_area": null,
            "grid_auto_columns": null,
            "grid_auto_flow": null,
            "grid_auto_rows": null,
            "grid_column": null,
            "grid_gap": null,
            "grid_row": null,
            "grid_template_areas": null,
            "grid_template_columns": null,
            "grid_template_rows": null,
            "height": null,
            "justify_content": null,
            "justify_items": null,
            "left": null,
            "margin": null,
            "max_height": null,
            "max_width": null,
            "min_height": null,
            "min_width": null,
            "object_fit": null,
            "object_position": null,
            "order": null,
            "overflow": null,
            "overflow_x": null,
            "overflow_y": null,
            "padding": null,
            "right": null,
            "top": null,
            "visibility": null,
            "width": null
          }
        },
        "434bf3110aa64aaeab4e714b433c571e": {
          "model_module": "@jupyter-widgets/controls",
          "model_name": "DescriptionStyleModel",
          "model_module_version": "1.5.0",
          "state": {
            "_model_module": "@jupyter-widgets/controls",
            "_model_module_version": "1.5.0",
            "_model_name": "DescriptionStyleModel",
            "_view_count": null,
            "_view_module": "@jupyter-widgets/base",
            "_view_module_version": "1.2.0",
            "_view_name": "StyleView",
            "description_width": ""
          }
        },
        "e55a1c7db48646ae94892b7ec6bfce63": {
          "model_module": "@jupyter-widgets/controls",
          "model_name": "HBoxModel",
          "model_module_version": "1.5.0",
          "state": {
            "_dom_classes": [],
            "_model_module": "@jupyter-widgets/controls",
            "_model_module_version": "1.5.0",
            "_model_name": "HBoxModel",
            "_view_count": null,
            "_view_module": "@jupyter-widgets/controls",
            "_view_module_version": "1.5.0",
            "_view_name": "HBoxView",
            "box_style": "",
            "children": [
              "IPY_MODEL_659248726be04bc7a6759d8893c16e56",
              "IPY_MODEL_84b0f6bf1fdc4882aca070bd55abc69c",
              "IPY_MODEL_683b39801794410eb95f26fa14a6ab90"
            ],
            "layout": "IPY_MODEL_aaea18163cd647cd910548911e248e99"
          }
        },
        "659248726be04bc7a6759d8893c16e56": {
          "model_module": "@jupyter-widgets/controls",
          "model_name": "HTMLModel",
          "model_module_version": "1.5.0",
          "state": {
            "_dom_classes": [],
            "_model_module": "@jupyter-widgets/controls",
            "_model_module_version": "1.5.0",
            "_model_name": "HTMLModel",
            "_view_count": null,
            "_view_module": "@jupyter-widgets/controls",
            "_view_module_version": "1.5.0",
            "_view_name": "HTMLView",
            "description": "",
            "description_tooltip": null,
            "layout": "IPY_MODEL_a50f219ca53d437e9be6040ab94dbb92",
            "placeholder": "​",
            "style": "IPY_MODEL_7872b79ddb3047aa8d183577822e9f59",
            "value": "Downloading: 100%"
          }
        },
        "84b0f6bf1fdc4882aca070bd55abc69c": {
          "model_module": "@jupyter-widgets/controls",
          "model_name": "FloatProgressModel",
          "model_module_version": "1.5.0",
          "state": {
            "_dom_classes": [],
            "_model_module": "@jupyter-widgets/controls",
            "_model_module_version": "1.5.0",
            "_model_name": "FloatProgressModel",
            "_view_count": null,
            "_view_module": "@jupyter-widgets/controls",
            "_view_module_version": "1.5.0",
            "_view_name": "ProgressView",
            "bar_style": "success",
            "description": "",
            "description_tooltip": null,
            "layout": "IPY_MODEL_0c8c08e4e9824e25bec85ccc84f4faa6",
            "max": 383,
            "min": 0,
            "orientation": "horizontal",
            "style": "IPY_MODEL_462133b6476944e58fa57f962698040d",
            "value": 383
          }
        },
        "683b39801794410eb95f26fa14a6ab90": {
          "model_module": "@jupyter-widgets/controls",
          "model_name": "HTMLModel",
          "model_module_version": "1.5.0",
          "state": {
            "_dom_classes": [],
            "_model_module": "@jupyter-widgets/controls",
            "_model_module_version": "1.5.0",
            "_model_name": "HTMLModel",
            "_view_count": null,
            "_view_module": "@jupyter-widgets/controls",
            "_view_module_version": "1.5.0",
            "_view_name": "HTMLView",
            "description": "",
            "description_tooltip": null,
            "layout": "IPY_MODEL_bae09b0399f5441e86fc4fd799c80282",
            "placeholder": "​",
            "style": "IPY_MODEL_4a84a7ff24324aa2abdced9921779d97",
            "value": " 383/383 [00:00&lt;00:00, 7.29kB/s]"
          }
        },
        "aaea18163cd647cd910548911e248e99": {
          "model_module": "@jupyter-widgets/base",
          "model_name": "LayoutModel",
          "model_module_version": "1.2.0",
          "state": {
            "_model_module": "@jupyter-widgets/base",
            "_model_module_version": "1.2.0",
            "_model_name": "LayoutModel",
            "_view_count": null,
            "_view_module": "@jupyter-widgets/base",
            "_view_module_version": "1.2.0",
            "_view_name": "LayoutView",
            "align_content": null,
            "align_items": null,
            "align_self": null,
            "border": null,
            "bottom": null,
            "display": null,
            "flex": null,
            "flex_flow": null,
            "grid_area": null,
            "grid_auto_columns": null,
            "grid_auto_flow": null,
            "grid_auto_rows": null,
            "grid_column": null,
            "grid_gap": null,
            "grid_row": null,
            "grid_template_areas": null,
            "grid_template_columns": null,
            "grid_template_rows": null,
            "height": null,
            "justify_content": null,
            "justify_items": null,
            "left": null,
            "margin": null,
            "max_height": null,
            "max_width": null,
            "min_height": null,
            "min_width": null,
            "object_fit": null,
            "object_position": null,
            "order": null,
            "overflow": null,
            "overflow_x": null,
            "overflow_y": null,
            "padding": null,
            "right": null,
            "top": null,
            "visibility": null,
            "width": null
          }
        },
        "a50f219ca53d437e9be6040ab94dbb92": {
          "model_module": "@jupyter-widgets/base",
          "model_name": "LayoutModel",
          "model_module_version": "1.2.0",
          "state": {
            "_model_module": "@jupyter-widgets/base",
            "_model_module_version": "1.2.0",
            "_model_name": "LayoutModel",
            "_view_count": null,
            "_view_module": "@jupyter-widgets/base",
            "_view_module_version": "1.2.0",
            "_view_name": "LayoutView",
            "align_content": null,
            "align_items": null,
            "align_self": null,
            "border": null,
            "bottom": null,
            "display": null,
            "flex": null,
            "flex_flow": null,
            "grid_area": null,
            "grid_auto_columns": null,
            "grid_auto_flow": null,
            "grid_auto_rows": null,
            "grid_column": null,
            "grid_gap": null,
            "grid_row": null,
            "grid_template_areas": null,
            "grid_template_columns": null,
            "grid_template_rows": null,
            "height": null,
            "justify_content": null,
            "justify_items": null,
            "left": null,
            "margin": null,
            "max_height": null,
            "max_width": null,
            "min_height": null,
            "min_width": null,
            "object_fit": null,
            "object_position": null,
            "order": null,
            "overflow": null,
            "overflow_x": null,
            "overflow_y": null,
            "padding": null,
            "right": null,
            "top": null,
            "visibility": null,
            "width": null
          }
        },
        "7872b79ddb3047aa8d183577822e9f59": {
          "model_module": "@jupyter-widgets/controls",
          "model_name": "DescriptionStyleModel",
          "model_module_version": "1.5.0",
          "state": {
            "_model_module": "@jupyter-widgets/controls",
            "_model_module_version": "1.5.0",
            "_model_name": "DescriptionStyleModel",
            "_view_count": null,
            "_view_module": "@jupyter-widgets/base",
            "_view_module_version": "1.2.0",
            "_view_name": "StyleView",
            "description_width": ""
          }
        },
        "0c8c08e4e9824e25bec85ccc84f4faa6": {
          "model_module": "@jupyter-widgets/base",
          "model_name": "LayoutModel",
          "model_module_version": "1.2.0",
          "state": {
            "_model_module": "@jupyter-widgets/base",
            "_model_module_version": "1.2.0",
            "_model_name": "LayoutModel",
            "_view_count": null,
            "_view_module": "@jupyter-widgets/base",
            "_view_module_version": "1.2.0",
            "_view_name": "LayoutView",
            "align_content": null,
            "align_items": null,
            "align_self": null,
            "border": null,
            "bottom": null,
            "display": null,
            "flex": null,
            "flex_flow": null,
            "grid_area": null,
            "grid_auto_columns": null,
            "grid_auto_flow": null,
            "grid_auto_rows": null,
            "grid_column": null,
            "grid_gap": null,
            "grid_row": null,
            "grid_template_areas": null,
            "grid_template_columns": null,
            "grid_template_rows": null,
            "height": null,
            "justify_content": null,
            "justify_items": null,
            "left": null,
            "margin": null,
            "max_height": null,
            "max_width": null,
            "min_height": null,
            "min_width": null,
            "object_fit": null,
            "object_position": null,
            "order": null,
            "overflow": null,
            "overflow_x": null,
            "overflow_y": null,
            "padding": null,
            "right": null,
            "top": null,
            "visibility": null,
            "width": null
          }
        },
        "462133b6476944e58fa57f962698040d": {
          "model_module": "@jupyter-widgets/controls",
          "model_name": "ProgressStyleModel",
          "model_module_version": "1.5.0",
          "state": {
            "_model_module": "@jupyter-widgets/controls",
            "_model_module_version": "1.5.0",
            "_model_name": "ProgressStyleModel",
            "_view_count": null,
            "_view_module": "@jupyter-widgets/base",
            "_view_module_version": "1.2.0",
            "_view_name": "StyleView",
            "bar_color": null,
            "description_width": ""
          }
        },
        "bae09b0399f5441e86fc4fd799c80282": {
          "model_module": "@jupyter-widgets/base",
          "model_name": "LayoutModel",
          "model_module_version": "1.2.0",
          "state": {
            "_model_module": "@jupyter-widgets/base",
            "_model_module_version": "1.2.0",
            "_model_name": "LayoutModel",
            "_view_count": null,
            "_view_module": "@jupyter-widgets/base",
            "_view_module_version": "1.2.0",
            "_view_name": "LayoutView",
            "align_content": null,
            "align_items": null,
            "align_self": null,
            "border": null,
            "bottom": null,
            "display": null,
            "flex": null,
            "flex_flow": null,
            "grid_area": null,
            "grid_auto_columns": null,
            "grid_auto_flow": null,
            "grid_auto_rows": null,
            "grid_column": null,
            "grid_gap": null,
            "grid_row": null,
            "grid_template_areas": null,
            "grid_template_columns": null,
            "grid_template_rows": null,
            "height": null,
            "justify_content": null,
            "justify_items": null,
            "left": null,
            "margin": null,
            "max_height": null,
            "max_width": null,
            "min_height": null,
            "min_width": null,
            "object_fit": null,
            "object_position": null,
            "order": null,
            "overflow": null,
            "overflow_x": null,
            "overflow_y": null,
            "padding": null,
            "right": null,
            "top": null,
            "visibility": null,
            "width": null
          }
        },
        "4a84a7ff24324aa2abdced9921779d97": {
          "model_module": "@jupyter-widgets/controls",
          "model_name": "DescriptionStyleModel",
          "model_module_version": "1.5.0",
          "state": {
            "_model_module": "@jupyter-widgets/controls",
            "_model_module_version": "1.5.0",
            "_model_name": "DescriptionStyleModel",
            "_view_count": null,
            "_view_module": "@jupyter-widgets/base",
            "_view_module_version": "1.2.0",
            "_view_name": "StyleView",
            "description_width": ""
          }
        },
        "8ca0c5c8136e4fe1a4d1a8389ddfea71": {
          "model_module": "@jupyter-widgets/controls",
          "model_name": "HBoxModel",
          "model_module_version": "1.5.0",
          "state": {
            "_dom_classes": [],
            "_model_module": "@jupyter-widgets/controls",
            "_model_module_version": "1.5.0",
            "_model_name": "HBoxModel",
            "_view_count": null,
            "_view_module": "@jupyter-widgets/controls",
            "_view_module_version": "1.5.0",
            "_view_name": "HBoxView",
            "box_style": "",
            "children": [
              "IPY_MODEL_30848b5200014d6ca7d4333677ca7706",
              "IPY_MODEL_bd98593ac7bd4549bffbdf1e98baca51",
              "IPY_MODEL_f54d5abe4e13407fa50c16b99e67e147"
            ],
            "layout": "IPY_MODEL_124b61f406cc4d869f1fc21a62dc370c"
          }
        },
        "30848b5200014d6ca7d4333677ca7706": {
          "model_module": "@jupyter-widgets/controls",
          "model_name": "HTMLModel",
          "model_module_version": "1.5.0",
          "state": {
            "_dom_classes": [],
            "_model_module": "@jupyter-widgets/controls",
            "_model_module_version": "1.5.0",
            "_model_name": "HTMLModel",
            "_view_count": null,
            "_view_module": "@jupyter-widgets/controls",
            "_view_module_version": "1.5.0",
            "_view_name": "HTMLView",
            "description": "",
            "description_tooltip": null,
            "layout": "IPY_MODEL_b05c0d01b81041dab8219cb4c2b43bc7",
            "placeholder": "​",
            "style": "IPY_MODEL_abb22bdbe03946628c94aec4d59889f7",
            "value": "Downloading: 100%"
          }
        },
        "bd98593ac7bd4549bffbdf1e98baca51": {
          "model_module": "@jupyter-widgets/controls",
          "model_name": "FloatProgressModel",
          "model_module_version": "1.5.0",
          "state": {
            "_dom_classes": [],
            "_model_module": "@jupyter-widgets/controls",
            "_model_module_version": "1.5.0",
            "_model_name": "FloatProgressModel",
            "_view_count": null,
            "_view_module": "@jupyter-widgets/controls",
            "_view_module_version": "1.5.0",
            "_view_name": "ProgressView",
            "bar_style": "success",
            "description": "",
            "description_tooltip": null,
            "layout": "IPY_MODEL_4c2fd3dcd6014851b780e02e267a0d82",
            "max": 13846,
            "min": 0,
            "orientation": "horizontal",
            "style": "IPY_MODEL_eff0e0d2b82346abb74e3ac0ca6352f5",
            "value": 13846
          }
        },
        "f54d5abe4e13407fa50c16b99e67e147": {
          "model_module": "@jupyter-widgets/controls",
          "model_name": "HTMLModel",
          "model_module_version": "1.5.0",
          "state": {
            "_dom_classes": [],
            "_model_module": "@jupyter-widgets/controls",
            "_model_module_version": "1.5.0",
            "_model_name": "HTMLModel",
            "_view_count": null,
            "_view_module": "@jupyter-widgets/controls",
            "_view_module_version": "1.5.0",
            "_view_name": "HTMLView",
            "description": "",
            "description_tooltip": null,
            "layout": "IPY_MODEL_68ef332a3d944b54b2166aa0d18a7f7b",
            "placeholder": "​",
            "style": "IPY_MODEL_e0533897cd6e4ba6aa3e06fcbf5b2cbf",
            "value": " 13.8k/13.8k [00:00&lt;00:00, 354kB/s]"
          }
        },
        "124b61f406cc4d869f1fc21a62dc370c": {
          "model_module": "@jupyter-widgets/base",
          "model_name": "LayoutModel",
          "model_module_version": "1.2.0",
          "state": {
            "_model_module": "@jupyter-widgets/base",
            "_model_module_version": "1.2.0",
            "_model_name": "LayoutModel",
            "_view_count": null,
            "_view_module": "@jupyter-widgets/base",
            "_view_module_version": "1.2.0",
            "_view_name": "LayoutView",
            "align_content": null,
            "align_items": null,
            "align_self": null,
            "border": null,
            "bottom": null,
            "display": null,
            "flex": null,
            "flex_flow": null,
            "grid_area": null,
            "grid_auto_columns": null,
            "grid_auto_flow": null,
            "grid_auto_rows": null,
            "grid_column": null,
            "grid_gap": null,
            "grid_row": null,
            "grid_template_areas": null,
            "grid_template_columns": null,
            "grid_template_rows": null,
            "height": null,
            "justify_content": null,
            "justify_items": null,
            "left": null,
            "margin": null,
            "max_height": null,
            "max_width": null,
            "min_height": null,
            "min_width": null,
            "object_fit": null,
            "object_position": null,
            "order": null,
            "overflow": null,
            "overflow_x": null,
            "overflow_y": null,
            "padding": null,
            "right": null,
            "top": null,
            "visibility": null,
            "width": null
          }
        },
        "b05c0d01b81041dab8219cb4c2b43bc7": {
          "model_module": "@jupyter-widgets/base",
          "model_name": "LayoutModel",
          "model_module_version": "1.2.0",
          "state": {
            "_model_module": "@jupyter-widgets/base",
            "_model_module_version": "1.2.0",
            "_model_name": "LayoutModel",
            "_view_count": null,
            "_view_module": "@jupyter-widgets/base",
            "_view_module_version": "1.2.0",
            "_view_name": "LayoutView",
            "align_content": null,
            "align_items": null,
            "align_self": null,
            "border": null,
            "bottom": null,
            "display": null,
            "flex": null,
            "flex_flow": null,
            "grid_area": null,
            "grid_auto_columns": null,
            "grid_auto_flow": null,
            "grid_auto_rows": null,
            "grid_column": null,
            "grid_gap": null,
            "grid_row": null,
            "grid_template_areas": null,
            "grid_template_columns": null,
            "grid_template_rows": null,
            "height": null,
            "justify_content": null,
            "justify_items": null,
            "left": null,
            "margin": null,
            "max_height": null,
            "max_width": null,
            "min_height": null,
            "min_width": null,
            "object_fit": null,
            "object_position": null,
            "order": null,
            "overflow": null,
            "overflow_x": null,
            "overflow_y": null,
            "padding": null,
            "right": null,
            "top": null,
            "visibility": null,
            "width": null
          }
        },
        "abb22bdbe03946628c94aec4d59889f7": {
          "model_module": "@jupyter-widgets/controls",
          "model_name": "DescriptionStyleModel",
          "model_module_version": "1.5.0",
          "state": {
            "_model_module": "@jupyter-widgets/controls",
            "_model_module_version": "1.5.0",
            "_model_name": "DescriptionStyleModel",
            "_view_count": null,
            "_view_module": "@jupyter-widgets/base",
            "_view_module_version": "1.2.0",
            "_view_name": "StyleView",
            "description_width": ""
          }
        },
        "4c2fd3dcd6014851b780e02e267a0d82": {
          "model_module": "@jupyter-widgets/base",
          "model_name": "LayoutModel",
          "model_module_version": "1.2.0",
          "state": {
            "_model_module": "@jupyter-widgets/base",
            "_model_module_version": "1.2.0",
            "_model_name": "LayoutModel",
            "_view_count": null,
            "_view_module": "@jupyter-widgets/base",
            "_view_module_version": "1.2.0",
            "_view_name": "LayoutView",
            "align_content": null,
            "align_items": null,
            "align_self": null,
            "border": null,
            "bottom": null,
            "display": null,
            "flex": null,
            "flex_flow": null,
            "grid_area": null,
            "grid_auto_columns": null,
            "grid_auto_flow": null,
            "grid_auto_rows": null,
            "grid_column": null,
            "grid_gap": null,
            "grid_row": null,
            "grid_template_areas": null,
            "grid_template_columns": null,
            "grid_template_rows": null,
            "height": null,
            "justify_content": null,
            "justify_items": null,
            "left": null,
            "margin": null,
            "max_height": null,
            "max_width": null,
            "min_height": null,
            "min_width": null,
            "object_fit": null,
            "object_position": null,
            "order": null,
            "overflow": null,
            "overflow_x": null,
            "overflow_y": null,
            "padding": null,
            "right": null,
            "top": null,
            "visibility": null,
            "width": null
          }
        },
        "eff0e0d2b82346abb74e3ac0ca6352f5": {
          "model_module": "@jupyter-widgets/controls",
          "model_name": "ProgressStyleModel",
          "model_module_version": "1.5.0",
          "state": {
            "_model_module": "@jupyter-widgets/controls",
            "_model_module_version": "1.5.0",
            "_model_name": "ProgressStyleModel",
            "_view_count": null,
            "_view_module": "@jupyter-widgets/base",
            "_view_module_version": "1.2.0",
            "_view_name": "StyleView",
            "bar_color": null,
            "description_width": ""
          }
        },
        "68ef332a3d944b54b2166aa0d18a7f7b": {
          "model_module": "@jupyter-widgets/base",
          "model_name": "LayoutModel",
          "model_module_version": "1.2.0",
          "state": {
            "_model_module": "@jupyter-widgets/base",
            "_model_module_version": "1.2.0",
            "_model_name": "LayoutModel",
            "_view_count": null,
            "_view_module": "@jupyter-widgets/base",
            "_view_module_version": "1.2.0",
            "_view_name": "LayoutView",
            "align_content": null,
            "align_items": null,
            "align_self": null,
            "border": null,
            "bottom": null,
            "display": null,
            "flex": null,
            "flex_flow": null,
            "grid_area": null,
            "grid_auto_columns": null,
            "grid_auto_flow": null,
            "grid_auto_rows": null,
            "grid_column": null,
            "grid_gap": null,
            "grid_row": null,
            "grid_template_areas": null,
            "grid_template_columns": null,
            "grid_template_rows": null,
            "height": null,
            "justify_content": null,
            "justify_items": null,
            "left": null,
            "margin": null,
            "max_height": null,
            "max_width": null,
            "min_height": null,
            "min_width": null,
            "object_fit": null,
            "object_position": null,
            "order": null,
            "overflow": null,
            "overflow_x": null,
            "overflow_y": null,
            "padding": null,
            "right": null,
            "top": null,
            "visibility": null,
            "width": null
          }
        },
        "e0533897cd6e4ba6aa3e06fcbf5b2cbf": {
          "model_module": "@jupyter-widgets/controls",
          "model_name": "DescriptionStyleModel",
          "model_module_version": "1.5.0",
          "state": {
            "_model_module": "@jupyter-widgets/controls",
            "_model_module_version": "1.5.0",
            "_model_name": "DescriptionStyleModel",
            "_view_count": null,
            "_view_module": "@jupyter-widgets/base",
            "_view_module_version": "1.2.0",
            "_view_name": "StyleView",
            "description_width": ""
          }
        },
        "9436f68a38804462853acdc14228ca23": {
          "model_module": "@jupyter-widgets/controls",
          "model_name": "HBoxModel",
          "model_module_version": "1.5.0",
          "state": {
            "_dom_classes": [],
            "_model_module": "@jupyter-widgets/controls",
            "_model_module_version": "1.5.0",
            "_model_name": "HBoxModel",
            "_view_count": null,
            "_view_module": "@jupyter-widgets/controls",
            "_view_module_version": "1.5.0",
            "_view_name": "HBoxView",
            "box_style": "",
            "children": [
              "IPY_MODEL_cfc07d5bc81d43f3b6ab94c09f4cd6ef",
              "IPY_MODEL_622984dfb1d4434c96c7a48727d3e0dc",
              "IPY_MODEL_bf0cb86874fb4c38917890f117fdf338"
            ],
            "layout": "IPY_MODEL_55fb7da440c3487e999d8f840440462f"
          }
        },
        "cfc07d5bc81d43f3b6ab94c09f4cd6ef": {
          "model_module": "@jupyter-widgets/controls",
          "model_name": "HTMLModel",
          "model_module_version": "1.5.0",
          "state": {
            "_dom_classes": [],
            "_model_module": "@jupyter-widgets/controls",
            "_model_module_version": "1.5.0",
            "_model_name": "HTMLModel",
            "_view_count": null,
            "_view_module": "@jupyter-widgets/controls",
            "_view_module_version": "1.5.0",
            "_view_name": "HTMLView",
            "description": "",
            "description_tooltip": null,
            "layout": "IPY_MODEL_dc26f35dd58e40fc91c25b9c8689eab4",
            "placeholder": "​",
            "style": "IPY_MODEL_0ba2661af871479faef496073bc456f9",
            "value": "Downloading: 100%"
          }
        },
        "622984dfb1d4434c96c7a48727d3e0dc": {
          "model_module": "@jupyter-widgets/controls",
          "model_name": "FloatProgressModel",
          "model_module_version": "1.5.0",
          "state": {
            "_dom_classes": [],
            "_model_module": "@jupyter-widgets/controls",
            "_model_module_version": "1.5.0",
            "_model_name": "FloatProgressModel",
            "_view_count": null,
            "_view_module": "@jupyter-widgets/controls",
            "_view_module_version": "1.5.0",
            "_view_name": "ProgressView",
            "bar_style": "success",
            "description": "",
            "description_tooltip": null,
            "layout": "IPY_MODEL_6d7df08abd1f4ec5b35adc010a27088e",
            "max": 231508,
            "min": 0,
            "orientation": "horizontal",
            "style": "IPY_MODEL_24e35424e8b0459f904e90f3c5753ceb",
            "value": 231508
          }
        },
        "bf0cb86874fb4c38917890f117fdf338": {
          "model_module": "@jupyter-widgets/controls",
          "model_name": "HTMLModel",
          "model_module_version": "1.5.0",
          "state": {
            "_dom_classes": [],
            "_model_module": "@jupyter-widgets/controls",
            "_model_module_version": "1.5.0",
            "_model_name": "HTMLModel",
            "_view_count": null,
            "_view_module": "@jupyter-widgets/controls",
            "_view_module_version": "1.5.0",
            "_view_name": "HTMLView",
            "description": "",
            "description_tooltip": null,
            "layout": "IPY_MODEL_e528141794c94479a40c335334e9e1b5",
            "placeholder": "​",
            "style": "IPY_MODEL_99de335005a14b189ed05e1739d027a2",
            "value": " 232k/232k [00:00&lt;00:00, 3.87MB/s]"
          }
        },
        "55fb7da440c3487e999d8f840440462f": {
          "model_module": "@jupyter-widgets/base",
          "model_name": "LayoutModel",
          "model_module_version": "1.2.0",
          "state": {
            "_model_module": "@jupyter-widgets/base",
            "_model_module_version": "1.2.0",
            "_model_name": "LayoutModel",
            "_view_count": null,
            "_view_module": "@jupyter-widgets/base",
            "_view_module_version": "1.2.0",
            "_view_name": "LayoutView",
            "align_content": null,
            "align_items": null,
            "align_self": null,
            "border": null,
            "bottom": null,
            "display": null,
            "flex": null,
            "flex_flow": null,
            "grid_area": null,
            "grid_auto_columns": null,
            "grid_auto_flow": null,
            "grid_auto_rows": null,
            "grid_column": null,
            "grid_gap": null,
            "grid_row": null,
            "grid_template_areas": null,
            "grid_template_columns": null,
            "grid_template_rows": null,
            "height": null,
            "justify_content": null,
            "justify_items": null,
            "left": null,
            "margin": null,
            "max_height": null,
            "max_width": null,
            "min_height": null,
            "min_width": null,
            "object_fit": null,
            "object_position": null,
            "order": null,
            "overflow": null,
            "overflow_x": null,
            "overflow_y": null,
            "padding": null,
            "right": null,
            "top": null,
            "visibility": null,
            "width": null
          }
        },
        "dc26f35dd58e40fc91c25b9c8689eab4": {
          "model_module": "@jupyter-widgets/base",
          "model_name": "LayoutModel",
          "model_module_version": "1.2.0",
          "state": {
            "_model_module": "@jupyter-widgets/base",
            "_model_module_version": "1.2.0",
            "_model_name": "LayoutModel",
            "_view_count": null,
            "_view_module": "@jupyter-widgets/base",
            "_view_module_version": "1.2.0",
            "_view_name": "LayoutView",
            "align_content": null,
            "align_items": null,
            "align_self": null,
            "border": null,
            "bottom": null,
            "display": null,
            "flex": null,
            "flex_flow": null,
            "grid_area": null,
            "grid_auto_columns": null,
            "grid_auto_flow": null,
            "grid_auto_rows": null,
            "grid_column": null,
            "grid_gap": null,
            "grid_row": null,
            "grid_template_areas": null,
            "grid_template_columns": null,
            "grid_template_rows": null,
            "height": null,
            "justify_content": null,
            "justify_items": null,
            "left": null,
            "margin": null,
            "max_height": null,
            "max_width": null,
            "min_height": null,
            "min_width": null,
            "object_fit": null,
            "object_position": null,
            "order": null,
            "overflow": null,
            "overflow_x": null,
            "overflow_y": null,
            "padding": null,
            "right": null,
            "top": null,
            "visibility": null,
            "width": null
          }
        },
        "0ba2661af871479faef496073bc456f9": {
          "model_module": "@jupyter-widgets/controls",
          "model_name": "DescriptionStyleModel",
          "model_module_version": "1.5.0",
          "state": {
            "_model_module": "@jupyter-widgets/controls",
            "_model_module_version": "1.5.0",
            "_model_name": "DescriptionStyleModel",
            "_view_count": null,
            "_view_module": "@jupyter-widgets/base",
            "_view_module_version": "1.2.0",
            "_view_name": "StyleView",
            "description_width": ""
          }
        },
        "6d7df08abd1f4ec5b35adc010a27088e": {
          "model_module": "@jupyter-widgets/base",
          "model_name": "LayoutModel",
          "model_module_version": "1.2.0",
          "state": {
            "_model_module": "@jupyter-widgets/base",
            "_model_module_version": "1.2.0",
            "_model_name": "LayoutModel",
            "_view_count": null,
            "_view_module": "@jupyter-widgets/base",
            "_view_module_version": "1.2.0",
            "_view_name": "LayoutView",
            "align_content": null,
            "align_items": null,
            "align_self": null,
            "border": null,
            "bottom": null,
            "display": null,
            "flex": null,
            "flex_flow": null,
            "grid_area": null,
            "grid_auto_columns": null,
            "grid_auto_flow": null,
            "grid_auto_rows": null,
            "grid_column": null,
            "grid_gap": null,
            "grid_row": null,
            "grid_template_areas": null,
            "grid_template_columns": null,
            "grid_template_rows": null,
            "height": null,
            "justify_content": null,
            "justify_items": null,
            "left": null,
            "margin": null,
            "max_height": null,
            "max_width": null,
            "min_height": null,
            "min_width": null,
            "object_fit": null,
            "object_position": null,
            "order": null,
            "overflow": null,
            "overflow_x": null,
            "overflow_y": null,
            "padding": null,
            "right": null,
            "top": null,
            "visibility": null,
            "width": null
          }
        },
        "24e35424e8b0459f904e90f3c5753ceb": {
          "model_module": "@jupyter-widgets/controls",
          "model_name": "ProgressStyleModel",
          "model_module_version": "1.5.0",
          "state": {
            "_model_module": "@jupyter-widgets/controls",
            "_model_module_version": "1.5.0",
            "_model_name": "ProgressStyleModel",
            "_view_count": null,
            "_view_module": "@jupyter-widgets/base",
            "_view_module_version": "1.2.0",
            "_view_name": "StyleView",
            "bar_color": null,
            "description_width": ""
          }
        },
        "e528141794c94479a40c335334e9e1b5": {
          "model_module": "@jupyter-widgets/base",
          "model_name": "LayoutModel",
          "model_module_version": "1.2.0",
          "state": {
            "_model_module": "@jupyter-widgets/base",
            "_model_module_version": "1.2.0",
            "_model_name": "LayoutModel",
            "_view_count": null,
            "_view_module": "@jupyter-widgets/base",
            "_view_module_version": "1.2.0",
            "_view_name": "LayoutView",
            "align_content": null,
            "align_items": null,
            "align_self": null,
            "border": null,
            "bottom": null,
            "display": null,
            "flex": null,
            "flex_flow": null,
            "grid_area": null,
            "grid_auto_columns": null,
            "grid_auto_flow": null,
            "grid_auto_rows": null,
            "grid_column": null,
            "grid_gap": null,
            "grid_row": null,
            "grid_template_areas": null,
            "grid_template_columns": null,
            "grid_template_rows": null,
            "height": null,
            "justify_content": null,
            "justify_items": null,
            "left": null,
            "margin": null,
            "max_height": null,
            "max_width": null,
            "min_height": null,
            "min_width": null,
            "object_fit": null,
            "object_position": null,
            "order": null,
            "overflow": null,
            "overflow_x": null,
            "overflow_y": null,
            "padding": null,
            "right": null,
            "top": null,
            "visibility": null,
            "width": null
          }
        },
        "99de335005a14b189ed05e1739d027a2": {
          "model_module": "@jupyter-widgets/controls",
          "model_name": "DescriptionStyleModel",
          "model_module_version": "1.5.0",
          "state": {
            "_model_module": "@jupyter-widgets/controls",
            "_model_module_version": "1.5.0",
            "_model_name": "DescriptionStyleModel",
            "_view_count": null,
            "_view_module": "@jupyter-widgets/base",
            "_view_module_version": "1.2.0",
            "_view_name": "StyleView",
            "description_width": ""
          }
        }
      }
    }
  },
  "cells": [
    {
      "cell_type": "markdown",
      "metadata": {
        "id": "view-in-github",
        "colab_type": "text"
      },
      "source": [
        "<a href=\"https://colab.research.google.com/github/flora0110/podcast_segment_headine/blob/main/similarity_ok.ipynb\" target=\"_parent\"><img src=\"https://colab.research.google.com/assets/colab-badge.svg\" alt=\"Open In Colab\"/></a>"
      ]
    },
    {
      "cell_type": "code",
      "source": [
        "!pip install -U sentence-transformers"
      ],
      "metadata": {
        "colab": {
          "base_uri": "https://localhost:8080/"
        },
        "id": "rVpRy3KZJxI7",
        "outputId": "cf3477b8-9140-4f99-dfdd-aff4b7eb2021"
      },
      "execution_count": null,
      "outputs": [
        {
          "output_type": "stream",
          "name": "stdout",
          "text": [
            "Collecting sentence-transformers\n",
            "  Downloading sentence-transformers-2.2.0.tar.gz (79 kB)\n",
            "\u001b[K     |████████████████████████████████| 79 kB 5.3 MB/s \n",
            "\u001b[?25hCollecting transformers<5.0.0,>=4.6.0\n",
            "  Downloading transformers-4.18.0-py3-none-any.whl (4.0 MB)\n",
            "\u001b[K     |████████████████████████████████| 4.0 MB 42.7 MB/s \n",
            "\u001b[?25hRequirement already satisfied: tqdm in /usr/local/lib/python3.7/dist-packages (from sentence-transformers) (4.64.0)\n",
            "Requirement already satisfied: torch>=1.6.0 in /usr/local/lib/python3.7/dist-packages (from sentence-transformers) (1.11.0+cu113)\n",
            "Requirement already satisfied: torchvision in /usr/local/lib/python3.7/dist-packages (from sentence-transformers) (0.12.0+cu113)\n",
            "Requirement already satisfied: numpy in /usr/local/lib/python3.7/dist-packages (from sentence-transformers) (1.21.6)\n",
            "Requirement already satisfied: scikit-learn in /usr/local/lib/python3.7/dist-packages (from sentence-transformers) (1.0.2)\n",
            "Requirement already satisfied: scipy in /usr/local/lib/python3.7/dist-packages (from sentence-transformers) (1.4.1)\n",
            "Requirement already satisfied: nltk in /usr/local/lib/python3.7/dist-packages (from sentence-transformers) (3.2.5)\n",
            "Collecting sentencepiece\n",
            "  Downloading sentencepiece-0.1.96-cp37-cp37m-manylinux_2_17_x86_64.manylinux2014_x86_64.whl (1.2 MB)\n",
            "\u001b[K     |████████████████████████████████| 1.2 MB 60.6 MB/s \n",
            "\u001b[?25hCollecting huggingface-hub\n",
            "  Downloading huggingface_hub-0.5.1-py3-none-any.whl (77 kB)\n",
            "\u001b[K     |████████████████████████████████| 77 kB 5.8 MB/s \n",
            "\u001b[?25hRequirement already satisfied: typing-extensions in /usr/local/lib/python3.7/dist-packages (from torch>=1.6.0->sentence-transformers) (4.2.0)\n",
            "Collecting pyyaml>=5.1\n",
            "  Downloading PyYAML-6.0-cp37-cp37m-manylinux_2_5_x86_64.manylinux1_x86_64.manylinux_2_12_x86_64.manylinux2010_x86_64.whl (596 kB)\n",
            "\u001b[K     |████████████████████████████████| 596 kB 50.7 MB/s \n",
            "\u001b[?25hRequirement already satisfied: regex!=2019.12.17 in /usr/local/lib/python3.7/dist-packages (from transformers<5.0.0,>=4.6.0->sentence-transformers) (2019.12.20)\n",
            "Collecting tokenizers!=0.11.3,<0.13,>=0.11.1\n",
            "  Downloading tokenizers-0.12.1-cp37-cp37m-manylinux_2_12_x86_64.manylinux2010_x86_64.whl (6.6 MB)\n",
            "\u001b[K     |████████████████████████████████| 6.6 MB 55.9 MB/s \n",
            "\u001b[?25hRequirement already satisfied: packaging>=20.0 in /usr/local/lib/python3.7/dist-packages (from transformers<5.0.0,>=4.6.0->sentence-transformers) (21.3)\n",
            "Requirement already satisfied: filelock in /usr/local/lib/python3.7/dist-packages (from transformers<5.0.0,>=4.6.0->sentence-transformers) (3.6.0)\n",
            "Requirement already satisfied: requests in /usr/local/lib/python3.7/dist-packages (from transformers<5.0.0,>=4.6.0->sentence-transformers) (2.23.0)\n",
            "Collecting sacremoses\n",
            "  Downloading sacremoses-0.0.49-py3-none-any.whl (895 kB)\n",
            "\u001b[K     |████████████████████████████████| 895 kB 56.6 MB/s \n",
            "\u001b[?25hRequirement already satisfied: importlib-metadata in /usr/local/lib/python3.7/dist-packages (from transformers<5.0.0,>=4.6.0->sentence-transformers) (4.11.3)\n",
            "Requirement already satisfied: pyparsing!=3.0.5,>=2.0.2 in /usr/local/lib/python3.7/dist-packages (from packaging>=20.0->transformers<5.0.0,>=4.6.0->sentence-transformers) (3.0.8)\n",
            "Requirement already satisfied: zipp>=0.5 in /usr/local/lib/python3.7/dist-packages (from importlib-metadata->transformers<5.0.0,>=4.6.0->sentence-transformers) (3.8.0)\n",
            "Requirement already satisfied: six in /usr/local/lib/python3.7/dist-packages (from nltk->sentence-transformers) (1.15.0)\n",
            "Requirement already satisfied: urllib3!=1.25.0,!=1.25.1,<1.26,>=1.21.1 in /usr/local/lib/python3.7/dist-packages (from requests->transformers<5.0.0,>=4.6.0->sentence-transformers) (1.24.3)\n",
            "Requirement already satisfied: certifi>=2017.4.17 in /usr/local/lib/python3.7/dist-packages (from requests->transformers<5.0.0,>=4.6.0->sentence-transformers) (2021.10.8)\n",
            "Requirement already satisfied: chardet<4,>=3.0.2 in /usr/local/lib/python3.7/dist-packages (from requests->transformers<5.0.0,>=4.6.0->sentence-transformers) (3.0.4)\n",
            "Requirement already satisfied: idna<3,>=2.5 in /usr/local/lib/python3.7/dist-packages (from requests->transformers<5.0.0,>=4.6.0->sentence-transformers) (2.10)\n",
            "Requirement already satisfied: joblib in /usr/local/lib/python3.7/dist-packages (from sacremoses->transformers<5.0.0,>=4.6.0->sentence-transformers) (1.1.0)\n",
            "Requirement already satisfied: click in /usr/local/lib/python3.7/dist-packages (from sacremoses->transformers<5.0.0,>=4.6.0->sentence-transformers) (7.1.2)\n",
            "Requirement already satisfied: threadpoolctl>=2.0.0 in /usr/local/lib/python3.7/dist-packages (from scikit-learn->sentence-transformers) (3.1.0)\n",
            "Requirement already satisfied: pillow!=8.3.*,>=5.3.0 in /usr/local/lib/python3.7/dist-packages (from torchvision->sentence-transformers) (7.1.2)\n",
            "Building wheels for collected packages: sentence-transformers\n",
            "  Building wheel for sentence-transformers (setup.py) ... \u001b[?25l\u001b[?25hdone\n",
            "  Created wheel for sentence-transformers: filename=sentence_transformers-2.2.0-py3-none-any.whl size=120747 sha256=369d7eaffe17cd917457d7246ee3a251598d7cf99ca2be25fb284a06bf0b56b2\n",
            "  Stored in directory: /root/.cache/pip/wheels/83/c0/df/b6873ab7aac3f2465aa9144b6b4c41c4391cfecc027c8b07e7\n",
            "Successfully built sentence-transformers\n",
            "Installing collected packages: pyyaml, tokenizers, sacremoses, huggingface-hub, transformers, sentencepiece, sentence-transformers\n",
            "  Attempting uninstall: pyyaml\n",
            "    Found existing installation: PyYAML 3.13\n",
            "    Uninstalling PyYAML-3.13:\n",
            "      Successfully uninstalled PyYAML-3.13\n",
            "Successfully installed huggingface-hub-0.5.1 pyyaml-6.0 sacremoses-0.0.49 sentence-transformers-2.2.0 sentencepiece-0.1.96 tokenizers-0.12.1 transformers-4.18.0\n"
          ]
        }
      ]
    },
    {
      "cell_type": "code",
      "source": [
        "from sentence_transformers import SentenceTransformer, util\n",
        "#Load the model\n",
        "model = SentenceTransformer('sentence-transformers/multi-qa-MiniLM-L6-cos-v1')"
      ],
      "metadata": {
        "id": "etzrdM4BX-YV",
        "colab": {
          "base_uri": "https://localhost:8080/",
          "height": 465,
          "referenced_widgets": [
            "ca6d6ac077ed46568dc96a12e88638ac",
            "b2932ab54fa640f7ac200ffabc53ed24",
            "c7f6f2e5adae4d5abe2722d88da16f89",
            "becf83c8031a48c4ace92f15df90a261",
            "bec4746461004ed98516a4c71a3256e4",
            "ce46220174ca462ea6df61c66e54c4a9",
            "d127138883604606b6be8e9c80802d13",
            "53aad196f3c342bf87013a4108db3c04",
            "95beed8f0382462eb2c5668f5bb2db7e",
            "2841719ec63f4b088c2006b8c14d3b99",
            "b349c5ed8fa64e54a3337e0db6ffcdce",
            "c75e76b30a7a4bf196089bd36708f126",
            "31b06263c73f41599fbf8d3d436d2839",
            "4729a4dee60349b882f5344828ac4a13",
            "f81febf5288a458a92ec7cce67f2c9f2",
            "47aa1b9db231419abd99bacb31ff85da",
            "1ad86edd7dbe4180a3e5c53df2a94ad4",
            "41c1176b16cd422f8020712f6915e4c7",
            "849b011bf0864e6283b0eb7971c91b57",
            "ab4f3bb932eb4c64b569101f02c375e7",
            "8149b5d414ed4ee0ab93698defacd14a",
            "139d214ea47e44beb7bea4a18b5c5147",
            "22cb33986d0b4c479d9e164b68a3bc2b",
            "8cda421da9254bfd90464938e8bfa964",
            "cd0aeecba8594cd1acb774fcc355e995",
            "28bd3f7a061f416fa46149364c9190b7",
            "e46c3731a5a9416bae41c90d3e8f28f7",
            "95a9ff880d654c36b43245e4b635c25e",
            "d3f06a4dc67944e88258afbc5c17bb4e",
            "c5cc1963720b47328c512be7e0b842cb",
            "539f975c193b466fa81c0e32a435416f",
            "73950f0412624f94b572e627e5d9df73",
            "84d89ed93e534cc7bbfe7edc45766ca2",
            "d2f4d67ee861465ab7e6816ac493972b",
            "47477969b22244d69b2ef877c58fee20",
            "6379d629120348fe9793789d6cc96666",
            "c78be8a90aba48dc991bbd7d0f8123cb",
            "721998f9ae78422fb07226f21ab0ff72",
            "0a7f1f88682344579478f6c7a8034715",
            "668b5238e89f4d32aa2dbca50f78dc44",
            "ba385472333f42888f259e9d871b9887",
            "868139a2a4cf412bbe1a52ac6cc904f1",
            "8cfd5775b5ad487192c6419d6608f5a6",
            "607c1d5ee90749679aa6acf2dcf2fcd6",
            "458fb2109e13496ca36a2feeb854c0ac",
            "db0c9c8143664fba996766d761db01e1",
            "f07d087ae48a4a0bb9d55bf0291f61c4",
            "d8813379553649c9829f6edac277d024",
            "df7881b3db18469aafe0dee5f6d286a4",
            "3a7f9c8f62df4b4b9a21babb46f9bcea",
            "8d2ba173c8a64a47872952d8380c8895",
            "4ad16cd128f6418b8e85ff6999e163fe",
            "7eeebaad62374a3f8edd881a597eafa3",
            "4447fb5566c244deb820fea4161092d0",
            "18900608990e4564822158314fd9f43b",
            "d0084a425c534d25979c4fba09b80ea6",
            "e3603ef0eec74ab085568882e2e462ce",
            "796c43aba1954689a2735a95c54ca4ff",
            "328c539bf31c4c2484273d0e6adaba1c",
            "8750824ec89f44b7bc488c9f06e7dbd3",
            "47775270598e432e995bb979dc346996",
            "940b8d77f2f6406588e580ea526d44aa",
            "d4355f0aa04c42d49b8d9f1056fc59b4",
            "69502ecec53d47d09cdc7e3ad52b2d9c",
            "3a771840c9fa4e8a952060e9eb125b05",
            "67f7c2f3987e44c98cc0d272f0dd93e8",
            "8e909ad3a8fc4d79afd8531bc156cadd",
            "b37f6edd9feb412ca93c761f31538010",
            "807924eb60874a2f8cbffcecfabe4c66",
            "0053d24b31064532b51d7570de3f2515",
            "7f0601356a224f11ba9b71e1c8db1ee3",
            "5362606d11054c75ada7229f6c60c8fd",
            "8818fe589eb44dedb072ef193457f52e",
            "88800c03bdae46b9a43f4fcc3d45ec0e",
            "fb15daa90de54d9e9f5287d64405671a",
            "125dd306841c4b57be28c4be0b8b3338",
            "04ddd52b475c49e0a442084598e8e006",
            "4459c380a0204c128b933e899dc967ac",
            "8cbf2ea4393f473b96bc29fa702a297a",
            "9484ae9c542b40b4b8e693a010f20a73",
            "8cbbb996c6a941e5b533ecc9ba7fff3f",
            "edde2d688e0d487f80d9c01f38220080",
            "a6962fdce72f46978354de1ef846181a",
            "e4413eb10b7341ffb4add8a1eecb346e",
            "0c729d5d14f841adb9cbfd6d99010522",
            "1e3fd54fc41a453aa63816747c394989",
            "eae62b2b824240a0a7a6024e8e3f1bdd",
            "5e2b51d42e164d0db64adf30c098079b",
            "ecb98fda22c14816b1e1ff7a2a262c85",
            "870aa1eba252491f932c88cabf760562",
            "659223d5641849e89a34f355e7e794bb",
            "8445740b7c0748149e587319908ce8d6",
            "46755b87216541d5a3cece459a7ddaa4",
            "83467d9dbe2f41dfafa7b5a10bcd3e03",
            "cf82baf1aa21410399f613818634a824",
            "0c488a1b3ce042269c5cea4c1f02004b",
            "47baaaafd85948588bcbbf170737b811",
            "6ecc9d87686349ebb612dd5456b5f255",
            "6174c39bd5284b7b886d7616751a20b6",
            "c2844034bbe5479aa07fce04495216b1",
            "656f1e34a87e4f19afa4fdc5f65cca9f",
            "966199cb16f249f284e3d50e61135bcf",
            "eb9d1bcc0d9f4e949456d4b0be3cda69",
            "d0685682c32d430e90b36e21c06df688",
            "6b051b970d2344b38119591b756abf73",
            "12eb065a6c7e46ddbd66a4511d247609",
            "a09be31a46d74504a9da126f4758eea6",
            "ef3a602f3443489b96e9e22a450adebb",
            "c5c9a5e319014ef296607fabe8395507",
            "484191679d6c4a5dabd055bf3d714986",
            "da7b651f977e407f87e9ee7944d14d68",
            "f3535ca4e9ef4cbfa326137fa5b16d6b",
            "6f0cce46631e4c19aeecedee2c0c00d2",
            "529ee47aa13a46828b5f75218c9c0814",
            "639c380cfd8b41918901d59bb1f58139",
            "708eb6a915564bc5a5da8e36dda45539",
            "d5b126e0e9404053a6d6317e0c483db6",
            "ec0c697e07f94d4f8ede24fcdea2507f",
            "11e01c979ec745eaa7bfb9973d99f86b",
            "bb9336599de840a29295a1105a484890",
            "434bf3110aa64aaeab4e714b433c571e",
            "e55a1c7db48646ae94892b7ec6bfce63",
            "659248726be04bc7a6759d8893c16e56",
            "84b0f6bf1fdc4882aca070bd55abc69c",
            "683b39801794410eb95f26fa14a6ab90",
            "aaea18163cd647cd910548911e248e99",
            "a50f219ca53d437e9be6040ab94dbb92",
            "7872b79ddb3047aa8d183577822e9f59",
            "0c8c08e4e9824e25bec85ccc84f4faa6",
            "462133b6476944e58fa57f962698040d",
            "bae09b0399f5441e86fc4fd799c80282",
            "4a84a7ff24324aa2abdced9921779d97",
            "8ca0c5c8136e4fe1a4d1a8389ddfea71",
            "30848b5200014d6ca7d4333677ca7706",
            "bd98593ac7bd4549bffbdf1e98baca51",
            "f54d5abe4e13407fa50c16b99e67e147",
            "124b61f406cc4d869f1fc21a62dc370c",
            "b05c0d01b81041dab8219cb4c2b43bc7",
            "abb22bdbe03946628c94aec4d59889f7",
            "4c2fd3dcd6014851b780e02e267a0d82",
            "eff0e0d2b82346abb74e3ac0ca6352f5",
            "68ef332a3d944b54b2166aa0d18a7f7b",
            "e0533897cd6e4ba6aa3e06fcbf5b2cbf",
            "9436f68a38804462853acdc14228ca23",
            "cfc07d5bc81d43f3b6ab94c09f4cd6ef",
            "622984dfb1d4434c96c7a48727d3e0dc",
            "bf0cb86874fb4c38917890f117fdf338",
            "55fb7da440c3487e999d8f840440462f",
            "dc26f35dd58e40fc91c25b9c8689eab4",
            "0ba2661af871479faef496073bc456f9",
            "6d7df08abd1f4ec5b35adc010a27088e",
            "24e35424e8b0459f904e90f3c5753ceb",
            "e528141794c94479a40c335334e9e1b5",
            "99de335005a14b189ed05e1739d027a2"
          ]
        },
        "outputId": "990de4f4-dede-4829-d2af-467b3196ec01"
      },
      "execution_count": null,
      "outputs": [
        {
          "output_type": "display_data",
          "data": {
            "text/plain": [
              "Downloading:   0%|          | 0.00/737 [00:00<?, ?B/s]"
            ],
            "application/vnd.jupyter.widget-view+json": {
              "version_major": 2,
              "version_minor": 0,
              "model_id": "ca6d6ac077ed46568dc96a12e88638ac"
            }
          },
          "metadata": {}
        },
        {
          "output_type": "display_data",
          "data": {
            "text/plain": [
              "Downloading:   0%|          | 0.00/190 [00:00<?, ?B/s]"
            ],
            "application/vnd.jupyter.widget-view+json": {
              "version_major": 2,
              "version_minor": 0,
              "model_id": "c75e76b30a7a4bf196089bd36708f126"
            }
          },
          "metadata": {}
        },
        {
          "output_type": "display_data",
          "data": {
            "text/plain": [
              "Downloading:   0%|          | 0.00/9.22k [00:00<?, ?B/s]"
            ],
            "application/vnd.jupyter.widget-view+json": {
              "version_major": 2,
              "version_minor": 0,
              "model_id": "22cb33986d0b4c479d9e164b68a3bc2b"
            }
          },
          "metadata": {}
        },
        {
          "output_type": "display_data",
          "data": {
            "text/plain": [
              "Downloading:   0%|          | 0.00/612 [00:00<?, ?B/s]"
            ],
            "application/vnd.jupyter.widget-view+json": {
              "version_major": 2,
              "version_minor": 0,
              "model_id": "d2f4d67ee861465ab7e6816ac493972b"
            }
          },
          "metadata": {}
        },
        {
          "output_type": "display_data",
          "data": {
            "text/plain": [
              "Downloading:   0%|          | 0.00/116 [00:00<?, ?B/s]"
            ],
            "application/vnd.jupyter.widget-view+json": {
              "version_major": 2,
              "version_minor": 0,
              "model_id": "458fb2109e13496ca36a2feeb854c0ac"
            }
          },
          "metadata": {}
        },
        {
          "output_type": "display_data",
          "data": {
            "text/plain": [
              "Downloading:   0%|          | 0.00/25.5k [00:00<?, ?B/s]"
            ],
            "application/vnd.jupyter.widget-view+json": {
              "version_major": 2,
              "version_minor": 0,
              "model_id": "d0084a425c534d25979c4fba09b80ea6"
            }
          },
          "metadata": {}
        },
        {
          "output_type": "display_data",
          "data": {
            "text/plain": [
              "Downloading:   0%|          | 0.00/349 [00:00<?, ?B/s]"
            ],
            "application/vnd.jupyter.widget-view+json": {
              "version_major": 2,
              "version_minor": 0,
              "model_id": "8e909ad3a8fc4d79afd8531bc156cadd"
            }
          },
          "metadata": {}
        },
        {
          "output_type": "display_data",
          "data": {
            "text/plain": [
              "Downloading:   0%|          | 0.00/90.9M [00:00<?, ?B/s]"
            ],
            "application/vnd.jupyter.widget-view+json": {
              "version_major": 2,
              "version_minor": 0,
              "model_id": "4459c380a0204c128b933e899dc967ac"
            }
          },
          "metadata": {}
        },
        {
          "output_type": "display_data",
          "data": {
            "text/plain": [
              "Downloading:   0%|          | 0.00/53.0 [00:00<?, ?B/s]"
            ],
            "application/vnd.jupyter.widget-view+json": {
              "version_major": 2,
              "version_minor": 0,
              "model_id": "ecb98fda22c14816b1e1ff7a2a262c85"
            }
          },
          "metadata": {}
        },
        {
          "output_type": "display_data",
          "data": {
            "text/plain": [
              "Downloading:   0%|          | 0.00/112 [00:00<?, ?B/s]"
            ],
            "application/vnd.jupyter.widget-view+json": {
              "version_major": 2,
              "version_minor": 0,
              "model_id": "c2844034bbe5479aa07fce04495216b1"
            }
          },
          "metadata": {}
        },
        {
          "output_type": "display_data",
          "data": {
            "text/plain": [
              "Downloading:   0%|          | 0.00/466k [00:00<?, ?B/s]"
            ],
            "application/vnd.jupyter.widget-view+json": {
              "version_major": 2,
              "version_minor": 0,
              "model_id": "da7b651f977e407f87e9ee7944d14d68"
            }
          },
          "metadata": {}
        },
        {
          "output_type": "display_data",
          "data": {
            "text/plain": [
              "Downloading:   0%|          | 0.00/383 [00:00<?, ?B/s]"
            ],
            "application/vnd.jupyter.widget-view+json": {
              "version_major": 2,
              "version_minor": 0,
              "model_id": "e55a1c7db48646ae94892b7ec6bfce63"
            }
          },
          "metadata": {}
        },
        {
          "output_type": "display_data",
          "data": {
            "text/plain": [
              "Downloading:   0%|          | 0.00/13.8k [00:00<?, ?B/s]"
            ],
            "application/vnd.jupyter.widget-view+json": {
              "version_major": 2,
              "version_minor": 0,
              "model_id": "8ca0c5c8136e4fe1a4d1a8389ddfea71"
            }
          },
          "metadata": {}
        },
        {
          "output_type": "display_data",
          "data": {
            "text/plain": [
              "Downloading:   0%|          | 0.00/232k [00:00<?, ?B/s]"
            ],
            "application/vnd.jupyter.widget-view+json": {
              "version_major": 2,
              "version_minor": 0,
              "model_id": "9436f68a38804462853acdc14228ca23"
            }
          },
          "metadata": {}
        }
      ]
    },
    {
      "cell_type": "code",
      "execution_count": null,
      "metadata": {
        "id": "QkhIXGjHI-OU"
      },
      "outputs": [],
      "source": [
        "def similarity(podcastDict, sampleDict):\n",
        "  print(len(sampleDict))\n",
        "  arr = []\n",
        "  #index = 0\n",
        "  podcastN = len(podcastDict)-1\n",
        "  sampleN = len(sampleDict)-1\n",
        "  print(sampleN)\n",
        "  for i in range(podcastN):\n",
        "    #print(i)\n",
        "    start = podcastDict[i]['time']\n",
        "    end = podcastDict[i+1]['time']\n",
        "    #print(arr)\n",
        "    #print(\"start: \"+str(start)+\" end: \"+str(end))\n",
        "    for j in range(sampleN):\n",
        "      #print(\"j: \"+str(j))\n",
        "      if(start>=sampleDict[j]['time'] and end<=sampleDict[j+1]['time']):\n",
        "        #print(\"continue \"+str(j))\n",
        "        #print(sampleDict[j]['time'])\n",
        "        #print(sampleDict[j+1]['time'])\n",
        "        arr.append({'start_match':j,'ratio_start':(end-start)/(sampleDict[j+1]['time']-sampleDict[j]['time']),'end_match':-1,'ratio_end':-1})\n",
        "        #print(len(arr))\n",
        "        #index+=1\n",
        "        break\n",
        "      elif(start>=sampleDict[j]['time'] and start<=sampleDict[j+1]['time']):\n",
        "        #print(\"not con \"+str(j))\n",
        "        #print(sampleDict[j]['time'])\n",
        "        #print(sampleDict[j+1]['time'])\n",
        "        arr.append({'start_match':j,'ratio_start':(sampleDict[j+1]['time']-start)/(sampleDict[j+1]['time']-sampleDict[j]['time'])})\n",
        "        #print(len(arr))\n",
        "        for k in range(j,sampleN):\n",
        "          #print(\"kkkk \"+str(k))\n",
        "          #print(sampleDict[k]['time'])\n",
        "          #print(sampleDict[k+1]['time'])\n",
        "          if(end<=sampleDict[k+1]['time'] and end>=sampleDict[k]['time']):\n",
        "            #print(\"update\")\n",
        "            arr[len(arr)-1].update({'end_match':k,'ratio_end':(end-sampleDict[k]['time'])/(sampleDict[k+1]['time']-sampleDict[k]['time'])})\n",
        "            #print(len(arr))\n",
        "            #index+=1\n",
        "        break\n",
        "\n",
        "  #print(arr)\n",
        "  #for a in arr:\n",
        "  #  print(a)\n",
        "  print(len(podcastDict))\n",
        "  print(len(sampleDict))\n",
        "  print(len(arr))\n",
        "  scores = []\n",
        "  for i in range(0,len(arr)):\n",
        "    #print(i)\n",
        "    if(arr[i]['end_match']==-1):\n",
        "      embedding_1= model.encode(podcastDict[i]['headline'], convert_to_tensor=True)\n",
        "      embedding_2 = model.encode(sampleDict[arr[i]['start_match']]['headline'], convert_to_tensor=True)\n",
        "      #print(podcastDict[i]['headline'])\n",
        "      #print(sampleDict[arr[i]['start_match']]['headline'])\n",
        "      score_temp = float(util.pytorch_cos_sim(embedding_1, embedding_2))\n",
        "      score_temp*=arr[i]['ratio_start']\n",
        "      scores.append(score_temp)\n",
        "      #print(score_temp)\n",
        "    else:\n",
        "\n",
        "      embedding_1= model.encode(podcastDict[i]['headline'], convert_to_tensor=True)\n",
        "      embedding_2 = model.encode(sampleDict[arr[i]['start_match']]['headline'], convert_to_tensor=True)\n",
        "      score_temp = float(util.pytorch_cos_sim(embedding_1, embedding_2))\n",
        "      score_temp*=arr[i]['ratio_start']\n",
        "      score_temp_sum=score_temp\n",
        "      for j in range(arr[i]['start_match']+1,arr[i]['end_match']):\n",
        "        embedding_1= model.encode(podcastDict[i]['headline'], convert_to_tensor=True)\n",
        "        embedding_2 = model.encode(sampleDict[j]['headline'], convert_to_tensor=True)\n",
        "        score_temp = float(util.pytorch_cos_sim(embedding_1, embedding_2))\n",
        "        score_temp_sum+=score_temp\n",
        "      embedding_1= model.encode(podcastDict[i]['headline'], convert_to_tensor=True)\n",
        "      embedding_2 = model.encode(sampleDict[j]['headline'], convert_to_tensor=True)\n",
        "      score_temp = float(util.pytorch_cos_sim(embedding_1, embedding_2))\n",
        "      score_temp*=arr[i]['ratio_end']\n",
        "      score_temp_sum+=score_temp\n",
        "      scores.append(score_temp_sum/(arr[i]['end_match']-arr[i]['start_match']+1))\n",
        "  print(scores)\n",
        "  sum = 0\n",
        "  for score in scores:\n",
        "    sum +=score\n",
        "  print(sum/len(sampleDict))"
      ]
    },
    {
      "cell_type": "markdown",
      "source": [
        "# social"
      ],
      "metadata": {
        "id": "IB7vUpa9LX_D"
      }
    },
    {
      "cell_type": "code",
      "source": [
        "sampleDict = [{'time': 0.0, 'headline': 'Social Bonding: Child-Parent, Romantic, Friendship, Breakups'}, {'time': 175.0, 'headline': 'ROKA, Athletic Greens, Headspace'}, {'time': 428.0, 'headline': 'Social Bonding as a Biological Process'}, {'time': 603.0, 'headline': 'Social Isolation'}, {'time': 812.0, 'headline': 'Social Homeostasis & Neural Circuits for Social Drive '}, {'time': 1135.0, 'headline': 'Brain Areas & (Neuro)Chemistry of Social Drive '}, {'time': 1368.0, 'headline': 'What is Social Homeostasis & Dopamine'}, {'time': 1620.0, 'headline': 'When We Lack Social Interactions: Short- Versus Long-Term'}, {'time': 1690.0, 'headline': 'Introverts & Extroverts'}, {'time': 1860.0, 'headline': '\"Good\" Versus \"Bad\" Social Interactions & Hierarchies'}, {'time': 2034.0, 'headline': 'Loneliness & Dorsal Raphe Nucleus & Social Hunger '}, {'time': 2253.0, 'headline': 'Tools'}, {'time': 2285.0, 'headline': 'Socializing & Food Appetite: Crossover Craving'}, {'time': 2565.0, 'headline': 'Falling in Love'}, {'time': 2705.0, 'headline': 'Tools for Social Bonds: Merging Physiologies; Story'}, {'time': 3234.0, 'headline': 'Childhood Attachment Patterns in Adulthood'}, {'time': 3825.0, 'headline': 'Attachment Styles: Autonomic Versus Intellectual Attachment'}, {'time': 3970.0, 'headline': 'Emotional Empathy & Cognitive Empathy, Arguing'}, {'time': 4185.0, 'headline': 'Allan N. Schore & \"Right Brain Psychotherapy\"'}, {'time': 4240.0, 'headline': 'Oxytocin & Trust, In Males Versus Females, Hormonal Glue'}, {'time': 4570.0, 'headline': 'Repairing Broken Bonds to Self & Others'}, {'time': 4736.0, 'headline': 'Social (Media) Butterflies: Biological Basis'}, {'time': 5048.0, 'headline': 'Key Points for Bonding & Understanding Social Bonds'}, {'time': 5227.0, 'headline': 'Breaking Up'}, {'time': 5316.0, 'headline': 'Synthesis '}, {'time': 5477.0, 'headline': 'Zero-Cost Support, Sponsors, Patreon, Thorne, Instagram, Twitter'},{'time':5596.9,'headline':\"\"}]\n"
      ],
      "metadata": {
        "id": "A2gWx_QlKkFT"
      },
      "execution_count": null,
      "outputs": []
    },
    {
      "cell_type": "markdown",
      "source": [
        "#0.5 not dele"
      ],
      "metadata": {
        "id": "bkLcQHMqLbYS"
      }
    },
    {
      "cell_type": "code",
      "source": [
        "#podcastDict = [{'time': 0.2, 'headline': ' The Biology Psychology Practices of Social Bonding'}, {'time': 56.9, 'headline': ' The Brain and Nervous System and How to Boost Your Social Bond'}, {'time': 121.8, 'headline': ' Roca Eyeglasses and Sunglasses - The Best Eyeglasse'}, {'time': 237.8, 'headline': ' Headspace Special Offer - Get Your Athletic Greens Today'}, {'time': 429.0, 'headline': ' The Biology of Social Bonding'}, {'time': 610.7, 'headline': ' The Biology of Social Isolation'}, {'time': 825.7, 'headline': ' The Homeostasis of the Homeostatic Circuit'}, {'time': 933.8, 'headline': ' The Social Homeostasis Control Center and Effector'}, {'time': 1188.1, 'headline': ' The Sensory System of Stasis'}, {'time': 1209.1, 'headline': ' Dopamine Neurons in the Dorsal Hypothalamus'}, {'time': 1454.0, 'headline': ' Dopamine and the Dopamine Craving'}, {'time': 1660.5, 'headline': ' Fasting - Is it a Good Idea?'}, {'time': 1677.7, 'headline': ' The Social Homeostasis Circuit'}, {'time': 1868.3, 'headline': ' The Hypothalamus and the Brain Centers of the Brain'}, {'time': 1895.5, 'headline': ' The Prefrontal Cortex Is Responsible For Creating a Social Homeostas'}, {'time': 1977.3, 'headline': ' The Dopamine Neurons of the Dorsal Raffi Nucleus'}, {'time': 2308.8, 'headline': ' The Homeostatic Drive of the Human Brain'}, {'time': 2380.8, 'headline': ' Dopamine and the Relationships That We Have With Food'}, {'time': 2667.0, 'headline': ' How to Develop a Social Bond'}, {'time': 3156.1, 'headline': ' The Final Common Pathway'}, {'time': 3168.4, 'headline': ' The Relationship , the Relationship'}, {'time': 3234.3, 'headline': ' The Human Lab Podcast '}, {'time': 3367.8, 'headline': ' The Soco , Unconscious or Unconscious'}, {'time': 3434.5, 'headline': \" When You're Born?\"}, {'time': 3451.2, 'headline': ' The Right Brain System Is a Parent - Child Interaction'}, {'time': 3593.5, 'headline': ' The Left Brain System Is Engaged in Parenting'}, {'time': 3727.6, 'headline': ' Children and the Cognitive Development of Children'}, {'time': 3745.0, 'headline': \" Bonding in the Child's Brain\"}, {'time': 3879.6, 'headline': ' Cognitive Connections'}, {'time': 3917.5, 'headline': ' Empathy is the ability to Feel or at least Sink'}, {'time': 4014.4, 'headline': ' The Relationship Between Child and Caregivers'}, {'time': 4217.3, 'headline': ' Alan Shore on the Podcast?'}, {'time': 4240.8, 'headline': ' Activation of a Set of Neurons'}, {'time': 4262.3, 'headline': ' Oxytocin and Its Effects on the Body'}, {'time': 4392.7, 'headline': ' Lactation and Milk Let - Down Reflex Lactation'}, {'time': 4409.9, 'headline': ' Oxytocin Released in Females and Males'}, {'time': 4492.4, 'headline': ' The Effect of Oxytocin Release on the Body of the Other'}, {'time': 4534.0, 'headline': \" MDMA and the 'Bad' Bonding Effects\"}, {'time': 4617.7, 'headline': ' The Relationship Between Oxytocin and MDMA'}, {'time': 4915.7, 'headline': ' The Social Interactions of the Child Parent'}, {'time': 5031.7, 'headline': ' Social Bonding - The Basics'}, {'time': 5124.7, 'headline': ' The Importance of Social Bonding'}, {'time': 5475.4, 'headline': ' The Human Lab Podcast'}, {'time': 5512.2, 'headline': ' Thorne Supplements - What Are They?'}, {'time': 5574.7, 'headline': \" Psychic Neuroscience - What's Next?\"},{'time':5596.9,'headline':\"\"}]\n",
        "#podcastDict = [{'time': 0.2, 'headline': ' The Biology Psychology Practices of Social Bonding'}, {'time': 56.9, 'headline': ' The Brain and Nervous System and How to Boost Your Social Bond'}, {'time': 121.8, 'headline': ' Roca Eyeglasses and Sunglasses - The Best Eyeglasse'}, {'time': 237.8, 'headline': ' Headspace Special Offer - Get Your Athletic Greens Today'}, {'time': 429.0, 'headline': ' The Biology of Social Bonding'}, {'time': 610.7, 'headline': ' The Biology of Social Isolation'}, {'time': 825.7, 'headline': ' The Homeostasis of the Homeostatic Circuit'}, {'time': 933.8, 'headline': ' The Social Homeostasis Control Center and Effector'}, {'time': 1188.1, 'headline': ' The Sensory System of Stasis'}, {'time': 1209.1, 'headline': ' Dopamine Neurons in the Dorsal Hypothalamus'}, {'time': 1454.0, 'headline': ' Dopamine and the Dopamine Craving'}, {'time': 1660.5, 'headline': ' Fasting - Is it a Good Idea?'}, {'time': 1677.7, 'headline': ' The Social Homeostasis Circuit'}, {'time': 1868.3, 'headline': ' The Hypothalamus and the Brain Centers of the Brain'}, {'time': 1895.5, 'headline': ' The Prefrontal Cortex Is Responsible For Creating a Social Homeostas'}, {'time': 1977.3, 'headline': ' The Dopamine Neurons of the Dorsal Raffi Nucleus'}, {'time': 2308.8, 'headline': ' The Homeostatic Drive of the Human Brain'}, {'time': 2380.8, 'headline': ' Dopamine and the Relationships That We Have With Food'}, {'time': 2667.0, 'headline': ' How to Develop a Social Bond'}, {'time': 3156.1, 'headline': ' The Final Common Pathway'}, {'time': 3168.4, 'headline': ' The Relationship , the Relationship'}, {'time': 3234.3, 'headline': ' The Human Lab Podcast '}, {'time': 3367.8, 'headline': ' The Soco , Unconscious or Unconscious'}, {'time': 3434.5, 'headline': \" When You're Born?\"}, {'time': 3451.2, 'headline': ' The Right Brain System Is a Parent - Child Interaction'}, {'time': 3593.5, 'headline': ' The Left Brain System Is Engaged in Parenting'}, {'time': 3727.6, 'headline': ' Children and the Cognitive Development of Children'}, {'time': 3745.0, 'headline': \" Bonding in the Child's Brain\"}, {'time': 3879.6, 'headline': ' Cognitive Connections'}, {'time': 3917.5, 'headline': ' Empathy is the ability to Feel or at least Sink'}, {'time': 4014.4, 'headline': ' The Relationship Between Child and Caregivers'}, {'time': 4217.3, 'headline': ' Alan Shore on the Podcast?'}, {'time': 4240.8, 'headline': ' Activation of a Set of Neurons'}, {'time': 4262.3, 'headline': ' Oxytocin and Its Effects on the Body'}, {'time': 4392.7, 'headline': ' Lactation and Milk Let - Down Reflex Lactation'}, {'time': 4409.9, 'headline': ' Oxytocin Released in Females and Males'}, {'time': 4492.4, 'headline': ' The Effect of Oxytocin Release on the Body of the Other'}, {'time': 4534.0, 'headline': \" MDMA and the 'Bad' Bonding Effects\"}, {'time': 4617.7, 'headline': ' The Relationship Between Oxytocin and MDMA'}, {'time': 4915.7, 'headline': ' The Social Interactions of the Child Parent'}, {'time': 5031.7, 'headline': ' Social Bonding - The Basics'}, {'time': 5124.7, 'headline': ' The Importance of Social Bonding'}, {'time': 5475.4, 'headline': ' The Human Lab Podcast'}, {'time': 5512.2, 'headline': ' Thorne Supplements - What Are They?'}, {'time': 5574.7, 'headline': \" Psychic Neuroscience - What's Next?\"},{'time':5596.9,'headline':\"\"}]\n",
        "#podcastDict = [{'time': 0.2, 'headline': ' The Biology Psychology Practices of Social Bonding'}, {'time': 56.9, 'headline': ' The Brain and Nervous System and How to Boost Your Social Bond'}, {'time': 121.8, 'headline': ' Roca Eyeglasses and Sunglasses - The Best Eyeglasse'}, {'time': 237.8, 'headline': ' Headspace Special Offer - Get Your Athletic Greens Today'}, {'time': 429.0, 'headline': ' The Biology of Social Bonding'}, {'time': 610.7, 'headline': ' The Biology of Social Isolation'}, {'time': 825.7, 'headline': ' The Homeostasis of the Homeostatic Circuit'}, {'time': 933.8, 'headline': ' The Social Homeostasis Control Center and Effector'}, {'time': 1188.1, 'headline': ' The Sensory System of Stasis'}, {'time': 1209.1, 'headline': ' Dopamine Neurons in the Dorsal Hypothalamus'}, {'time': 1454.0, 'headline': ' Dopamine and the Dopamine Craving'}, {'time': 1660.5, 'headline': ' Fasting - Is it a Good Idea?'}, {'time': 1677.7, 'headline': ' The Social Homeostasis Circuit'}, {'time': 1868.3, 'headline': ' The Hypothalamus and the Brain Centers of the Brain'}, {'time': 1895.5, 'headline': ' The Prefrontal Cortex Is Responsible For Creating a Social Homeostas'}, {'time': 1977.3, 'headline': ' The Dopamine Neurons of the Dorsal Raffi Nucleus'}, {'time': 2308.8, 'headline': ' The Homeostatic Drive of the Human Brain'}, {'time': 2380.8, 'headline': ' Dopamine and the Relationships That We Have With Food'}, {'time': 2667.0, 'headline': ' How to Develop a Social Bond'}, {'time': 3156.1, 'headline': ' The Final Common Pathway'}, {'time': 3168.4, 'headline': ' The Relationship , the Relationship'}, {'time': 3234.3, 'headline': ' The Human Lab Podcast '}, {'time': 3367.8, 'headline': ' The Soco , Unconscious or Unconscious'}, {'time': 3434.5, 'headline': \" When You're Born?\"}, {'time': 3451.2, 'headline': ' The Right Brain System Is a Parent - Child Interaction'}, {'time': 3593.5, 'headline': ' The Left Brain System Is Engaged in Parenting'}, {'time': 3727.6, 'headline': ' Children and the Cognitive Development of Children'}, {'time': 3745.0, 'headline': \" Bonding in the Child's Brain\"}, {'time': 3879.6, 'headline': ' Cognitive Connections'}, {'time': 3917.5, 'headline': ' Empathy is the ability to Feel or at least Sink'}, {'time': 4014.4, 'headline': ' The Relationship Between Child and Caregivers'}, {'time': 4217.3, 'headline': ' Alan Shore on the Podcast?'}, {'time': 4240.8, 'headline': ' Activation of a Set of Neurons'}, {'time': 4262.3, 'headline': ' Oxytocin and Its Effects on the Body'}, {'time': 4392.7, 'headline': ' Lactation and Milk Let - Down Reflex Lactation'}, {'time': 4409.9, 'headline': ' Oxytocin Released in Females and Males'}, {'time': 4492.4, 'headline': ' The Effect of Oxytocin Release on the Body of the Other'}, {'time': 4534.0, 'headline': \" MDMA and the 'Bad' Bonding Effects\"}, {'time': 4617.7, 'headline': ' The Relationship Between Oxytocin and MDMA'}, {'time': 4915.7, 'headline': ' The Social Interactions of the Child Parent'}, {'time': 5031.7, 'headline': ' Social Bonding - The Basics'}, {'time': 5124.7, 'headline': ' The Importance of Social Bonding'}, {'time': 5475.4, 'headline': ' The Human Lab Podcast'}, {'time': 5512.2, 'headline': ' Thorne Supplements - What Are They?'}, {'time': 5574.7, 'headline': \" Psychic Neuroscience - What's Next?\"},{'time':5596.9,'headline':\"\"}]\n",
        "podcastDict = [{'time': 0.2, 'headline': ' The Biology Psychology Practices of Social Bonding'}, {'time': 56.9, 'headline': ' The Brain and Nervous System and How to Boost Your Social Bond'}, {'time': 121.8, 'headline': ' Roca Eyeglasses and Sunglasses - The Best Eyeglasse'}, {'time': 237.8, 'headline': ' Headspace Special Offer - Get Your Athletic Greens Today'}, {'time': 429.0, 'headline': ' The Biology of Social Bonding'}, {'time': 610.7, 'headline': ' The Biology of Social Isolation'}, {'time': 825.7, 'headline': ' The Homeostasis of the Homeostatic Circuit'}, {'time': 933.8, 'headline': ' The Social Homeostasis Control Center and Effector'}, {'time': 1188.1, 'headline': ' The Sensory System of Stasis'}, {'time': 1209.1, 'headline': ' Dopamine Neurons in the Dorsal Hypothalamus'}, {'time': 1454.0, 'headline': ' Dopamine and the Dopamine Craving'}, {'time': 1660.5, 'headline': ' Fasting - Is it a Good Idea?'}, {'time': 1677.7, 'headline': ' The Social Homeostasis Circuit'}, {'time': 1868.3, 'headline': ' The Hypothalamus and the Brain Centers of the Brain'}, {'time': 1895.5, 'headline': ' The Prefrontal Cortex Is Responsible For Creating a Social Homeostas'}, {'time': 1977.3, 'headline': ' The Dopamine Neurons of the Dorsal Raffi Nucleus'}, {'time': 2308.8, 'headline': ' The Homeostatic Drive of the Human Brain'}, {'time': 2380.8, 'headline': ' Dopamine and the Relationships That We Have With Food'}, {'time': 2667.0, 'headline': ' How to Develop a Social Bond'}, {'time': 3156.1, 'headline': ' The Final Common Pathway'}, {'time': 3168.4, 'headline': ' The Relationship , the Relationship'}, {'time': 3234.3, 'headline': ' The Human Lab Podcast '}, {'time': 3367.8, 'headline': ' The Soco , Unconscious or Unconscious'}, {'time': 3434.5, 'headline': \" When You're Born?\"}, {'time': 3451.2, 'headline': ' The Right Brain System Is a Parent - Child Interaction'}, {'time': 3593.5, 'headline': ' The Left Brain System Is Engaged in Parenting'}, {'time': 3727.6, 'headline': ' Children and the Cognitive Development of Children'}, {'time': 3745.0, 'headline': \" Bonding in the Child's Brain\"}, {'time': 3879.6, 'headline': ' Cognitive Connections'}, {'time': 3917.5, 'headline': ' Empathy is the ability to Feel or at least Sink'}, {'time': 4014.4, 'headline': ' The Relationship Between Child and Caregivers'}, {'time': 4217.3, 'headline': ' Alan Shore on the Podcast?'}, {'time': 4240.8, 'headline': ' Activation of a Set of Neurons'}, {'time': 4262.3, 'headline': ' Oxytocin and Its Effects on the Body'}, {'time': 4392.7, 'headline': ' Lactation and Milk Let - Down Reflex Lactation'}, {'time': 4409.9, 'headline': ' Oxytocin Released in Females and Males'}, {'time': 4492.4, 'headline': ' The Effect of Oxytocin Release on the Body of the Other'}, {'time': 4534.0, 'headline': \" MDMA and the 'Bad' Bonding Effects\"}, {'time': 4617.7, 'headline': ' The Relationship Between Oxytocin and MDMA'}, {'time': 4915.7, 'headline': ' The Social Interactions of the Child Parent'}, {'time': 5031.7, 'headline': ' Social Bonding - The Basics'}, {'time': 5124.7, 'headline': ' The Importance of Social Bonding'}, {'time': 5475.4, 'headline': ' The Human Lab Podcast'}, {'time': 5512.2, 'headline': ' Thorne Supplements - What Are They?'}, {'time': 5574.7, 'headline': \" Psychic Neuroscience - What's Next?\"},{'time':5596.9,'headline':\"\"}]\n",
        "print(len(podcastDict))"
      ],
      "metadata": {
        "colab": {
          "base_uri": "https://localhost:8080/"
        },
        "id": "8Xf9cLmKKFzb",
        "outputId": "7c145374-5a63-40f0-c452-60d7f1cc2b84"
      },
      "execution_count": null,
      "outputs": [
        {
          "output_type": "stream",
          "name": "stdout",
          "text": [
            "46\n"
          ]
        }
      ]
    },
    {
      "cell_type": "code",
      "source": [
        "similarity(sampleDict,podcastDict)"
      ],
      "metadata": {
        "colab": {
          "base_uri": "https://localhost:8080/"
        },
        "id": "nmEv5KpjKlUz",
        "outputId": "44ee0977-fa50-47e4-ef9b-a30008bf6140"
      },
      "execution_count": null,
      "outputs": [
        {
          "output_type": "stream",
          "name": "stdout",
          "text": [
            "46\n",
            "45\n",
            "27\n",
            "46\n",
            "25\n",
            "[0.018658763423540958, 0.08208069683681998, 0.05339618959143983, 0.04056734047238806, 0.22446321726299787, 0.1864418546316589, 0.031053371264989846, 0.2577594544930074, 0.06420580514747933, 0.032529187047373634, 0.04070488827620514, -0.00026563274637221514, 0.09112313007580154, 0.134130311162976, 0.1611819586179194, 0.20082982758680878, 0.12691268144823983, 0.2306863266301242, -7.646688606712169e-05, 0.15384305223189215, 0.024315105637765382, 0.19057990236749858, 0.21076274676169304, 0.03396446962263871, 0.09295047452484308]\n",
            "0.05832170990181875\n"
          ]
        }
      ]
    },
    {
      "cell_type": "markdown",
      "source": [
        "## 0.5 dele spon"
      ],
      "metadata": {
        "id": "AKPUAx9fL8kp"
      }
    },
    {
      "cell_type": "code",
      "source": [
        "podcastDict = [{'time': 0.2, 'headline': ' The Biology Psychology Practices of Social Bonding'}, {'time': 56.9, 'headline': ' The Brain and Nervous System and How to Boost Your Social Bond'}, {'time': 121.8, 'headline': ' Roca Eyeglasses and Sunglasses - The Best Eyeglasse'}, {'time': 237.8, 'headline': ' Headspace - The Best Deals'}, {'time': 429.0, 'headline': ' The Biology of Social Bonding'}, {'time': 610.7, 'headline': ' The Biology of Social Isolation'}, {'time': 825.7, 'headline': ' The Homeostasis of the Homeostatic Circuit'}, {'time': 933.8, 'headline': ' The Social Homeostasis Control Center and Effector'}, {'time': 1188.1, 'headline': ' The Sensory System of Stasis'}, {'time': 1209.1, 'headline': ' Dopamine Neurons in the Dorsal Hypothalamus'}, {'time': 1454.0, 'headline': ' Dopamine and the Dopamine Craving'}, {'time': 1660.5, 'headline': ' Fasting - Is it a Good Idea?'}, {'time': 1677.7, 'headline': ' The Social Homeostasis Circuit'}, {'time': 1868.3, 'headline': ' The Hypothalamus and the Brain Centers of the Brain'}, {'time': 1895.5, 'headline': ' The Prefrontal Cortex Is Responsible For Creating a Social Homeostas'}, {'time': 1977.3, 'headline': ' The Dopamine Neurons of the Dorsal Raffi Nucleus'}, {'time': 2308.8, 'headline': ' The Homeostatic Drive of the Human Brain'}, {'time': 2380.8, 'headline': ' Dopamine and the Relationships That We Have With Food'}, {'time': 2667.0, 'headline': ' How to Develop a Social Bond'}, {'time': 3156.1, 'headline': ' The Final Common Pathway'}, {'time': 3168.4, 'headline': ' The Relationship , the Relationship'}, {'time': 3234.3, 'headline': ' The Human Lab Podcast '}, {'time': 3367.8, 'headline': ' The Soco , Unconscious or Unconscious'}, {'time': 3434.5, 'headline': \" When You're Born?\"}, {'time': 3451.2, 'headline': ' The Right Brain System Is a Parent - Child Interaction'}, {'time': 3593.5, 'headline': ' The Left Brain System Is Engaged in Parenting'}, {'time': 3727.6, 'headline': ' Children and the Cognitive Development of Children'}, {'time': 3745.0, 'headline': \" Bonding in the Child's Brain\"}, {'time': 3879.6, 'headline': ' Cognitive Connections'}, {'time': 3917.5, 'headline': ' Empathy is the ability to Feel or at least Sink'}, {'time': 4014.4, 'headline': ' The Relationship Between Child and Caregivers'}, {'time': 4217.3, 'headline': ' Alan Shore on the Podcast?'}, {'time': 4240.8, 'headline': ' Activation of a Set of Neurons'}, {'time': 4262.3, 'headline': ' Oxytocin and Its Effects on the Body'}, {'time': 4392.7, 'headline': ' Lactation and Milk Let - Down Reflex Lactation'}, {'time': 4409.9, 'headline': ' Oxytocin Released in Females and Males'}, {'time': 4492.4, 'headline': ' The Effect of Oxytocin Release on the Body of the Other'}, {'time': 4534.0, 'headline': \" MDMA and the 'Bad' Bonding Effects\"}, {'time': 4617.7, 'headline': ' The Relationship Between Oxytocin and MDMA'}, {'time': 4915.7, 'headline': ' The Social Interactions of the Child Parent'}, {'time': 5031.7, 'headline': ' Social Bonding - The Basics'}, {'time': 5124.7, 'headline': ' The Importance of Social Bonding'}, {'time': 5475.4, 'headline': ' The Human Lab Podcast'}, {'time': 5512.2, 'headline': ' Thorne Supplements - What Are They?'}, {'time': 5574.7, 'headline': \" Psychic Neuroscience - What's Next?\"},{'time':5596.9,'headline':\"\"}]\n",
        "print(len(podcastDict))"
      ],
      "metadata": {
        "colab": {
          "base_uri": "https://localhost:8080/"
        },
        "id": "YoCm9s-PL8Hi",
        "outputId": "d53cbb74-0e87-4b51-bdf8-a8265b822bd8"
      },
      "execution_count": null,
      "outputs": [
        {
          "output_type": "stream",
          "name": "stdout",
          "text": [
            "46\n"
          ]
        }
      ]
    },
    {
      "cell_type": "code",
      "source": [
        "similarity(sampleDict,podcastDict)"
      ],
      "metadata": {
        "colab": {
          "base_uri": "https://localhost:8080/"
        },
        "id": "fKBShjbIMD6S",
        "outputId": "e38af581-5f8f-4625-d46c-4b95f6ffc8a0"
      },
      "execution_count": null,
      "outputs": [
        {
          "output_type": "stream",
          "name": "stdout",
          "text": [
            "46\n",
            "45\n",
            "27\n",
            "46\n",
            "25\n",
            "[0.018658763423540958, 0.08122123012422545, 0.05339618959143983, 0.04056734047238806, 0.22446321726299787, 0.1864418546316589, 0.031053371264989846, 0.2577594544930074, 0.06420580514747933, 0.032529187047373634, 0.04070488827620514, -0.00026563274637221514, 0.09112313007580154, 0.134130311162976, 0.1611819586179194, 0.20082982758680878, 0.12691268144823983, 0.2306863266301242, -7.646688606712169e-05, 0.15384305223189215, 0.024315105637765382, 0.19057990236749858, 0.21076274676169304, 0.03396446962263871, 0.09295047452484308]\n",
            "0.05830302584284929\n"
          ]
        }
      ]
    },
    {
      "cell_type": "markdown",
      "source": [
        "## 0.6 not dele"
      ],
      "metadata": {
        "id": "tgwAxCFGMqS6"
      }
    },
    {
      "cell_type": "code",
      "source": [
        "podcastDict = [{'time': 0.2, 'headline': ' The Biology Psychology Practices of Social Bonding'}, {'time': 56.9, 'headline': ' The Biology of Social Bonding'}, {'time': 1164.5, 'headline': ' The Social Homeostasis Circuit , a Neuronal Response to the Dop'}, {'time': 1369.0, 'headline': ' The Social Homeostasis Effect'}, {'time': 2727.5, 'headline': ' How to Enhance the Quality and Depth of Social Bonds'}, {'time': 3168.4, 'headline': ' The Relationship , the Relationship'}, {'time': 3234.3, 'headline': ' The Human Lab Podcast '}, {'time': 3367.8, 'headline': ' The Autonomic Nervous System of the Infant Mother'}, {'time': 3580.3, 'headline': ' Bonding in Children and Adults'}, {'time': 3879.6, 'headline': ' Cognitive Connections'}, {'time': 3917.5, 'headline': ' The Relationship Between Cognitive Empathy and Emotional Empathy'}, {'time': 4262.3, 'headline': ' The Effects of MDMA on the Body and Mind'}, {'time': 4823.5, 'headline': ' Social Bonding - What Are the Keys to Social Bonding?'}, {'time': 5475.4, 'headline': ' The Human Lab Podcast - Andrew Huberman'},{'time':5596.9,'headline':\"\"}]\n",
        "print(len(podcastDict))"
      ],
      "metadata": {
        "colab": {
          "base_uri": "https://localhost:8080/"
        },
        "id": "XzzhR9UTMtxZ",
        "outputId": "04b73a6d-5597-41c7-e3e8-fe3d6577a064"
      },
      "execution_count": null,
      "outputs": [
        {
          "output_type": "stream",
          "name": "stdout",
          "text": [
            "15\n"
          ]
        }
      ]
    },
    {
      "cell_type": "code",
      "source": [
        "similarity(sampleDict,podcastDict)"
      ],
      "metadata": {
        "colab": {
          "base_uri": "https://localhost:8080/"
        },
        "outputId": "024cc346-2f2e-4a76-c9a8-bac528831ca0",
        "id": "TsUSSTudMzTd"
      },
      "execution_count": null,
      "outputs": [
        {
          "output_type": "stream",
          "name": "stdout",
          "text": [
            "15\n",
            "14\n",
            "27\n",
            "15\n",
            "25\n",
            "[0.14562761661979687, 0.013833481760587277, 0.1658694192621845, 0.12624794105387374, 0.04164150847254268, 0.009568685388004296, 0.04046132031898091, 0.046032916371946085, 0.019898537089818535, 0.056302319061769295, 0.010507354062402954, -0.03602597745938208, 0.035403221461717635, 0.04117410892592322, 0.11901714133497229, 0.13945982128879278, 0.22016500280586573, 0.1390637963871944, 0.09128128736351976, 0.04087723988086433, 0.023819854413129296, 0.0810125101232551, 0.11992376546293598, 0.02522587688485945, 0.14028362404907638]\n",
            "0.12377815815897542\n"
          ]
        }
      ]
    },
    {
      "cell_type": "markdown",
      "source": [
        "## 0.6 dele spon"
      ],
      "metadata": {
        "id": "krDltUDdM36S"
      }
    },
    {
      "cell_type": "code",
      "source": [
        "podcastDict = [{'time': 0.2, 'headline': ' The Biology Psychology Practices of Social Bonding'}, {'time': 56.9, 'headline': ' The Biology of Social Bonding'}, {'time': 1164.5, 'headline': ' The Social Homeostasis Circuit , a Neuronal Response to the Dop'}, {'time': 1369.0, 'headline': ' The Social Homeostasis Effect'}, {'time': 2727.5, 'headline': ' How to Enhance the Quality and Depth of Social Bonds'}, {'time': 3168.4, 'headline': ' The Relationship , the Relationship'}, {'time': 3234.3, 'headline': ' The Human Lab Podcast '}, {'time': 3367.8, 'headline': ' The Autonomic Nervous System of the Infant Mother'}, {'time': 3580.3, 'headline': ' Bonding in Children and Adults'}, {'time': 3879.6, 'headline': ' Cognitive Connections'}, {'time': 3917.5, 'headline': ' The Relationship Between Cognitive Empathy and Emotional Empathy'}, {'time': 4262.3, 'headline': ' The Effects of MDMA on the Body and Mind'}, {'time': 4823.5, 'headline': ' Social Bonding - What Are the Keys to Social Bonding?'}, {'time': 5475.4, 'headline': ' The Human Lab Podcast - Andrew Huberman'},{'time':5596.9,'headline':\"\"}]\n",
        "print(len(podcastDict))\n"
      ],
      "metadata": {
        "colab": {
          "base_uri": "https://localhost:8080/"
        },
        "id": "tUggXPJkM6Jr",
        "outputId": "a3f19f94-447b-4a3c-fcfe-fb8aa4ab7082"
      },
      "execution_count": null,
      "outputs": [
        {
          "output_type": "stream",
          "name": "stdout",
          "text": [
            "15\n"
          ]
        }
      ]
    },
    {
      "cell_type": "code",
      "source": [
        "similarity(sampleDict,podcastDict)"
      ],
      "metadata": {
        "colab": {
          "base_uri": "https://localhost:8080/"
        },
        "outputId": "9440bbc6-ee23-4370-f26c-05144e265f44",
        "id": "kAfgDfsuM7-v"
      },
      "execution_count": null,
      "outputs": [
        {
          "output_type": "stream",
          "name": "stdout",
          "text": [
            "15\n",
            "14\n",
            "27\n",
            "15\n",
            "25\n",
            "[0.14562761661979687, 0.013833481760587277, 0.1658694192621845, 0.12624794105387374, 0.04164150847254268, 0.009568685388004296, 0.04046132031898091, 0.046032916371946085, 0.019898537089818535, 0.056302319061769295, 0.010507354062402954, -0.03602597745938208, 0.035403221461717635, 0.04117410892592322, 0.11901714133497229, 0.13945982128879278, 0.22016500280586573, 0.1390637963871944, 0.09128128736351976, 0.04087723988086433, 0.023819854413129296, 0.0810125101232551, 0.11992376546293598, 0.02522587688485945, 0.14028362404907638]\n",
            "0.12377815815897542\n"
          ]
        }
      ]
    },
    {
      "cell_type": "markdown",
      "source": [
        "## 0.7 no dele"
      ],
      "metadata": {
        "id": "i_8rOaFAXHBI"
      }
    },
    {
      "cell_type": "code",
      "source": [
        "podcastDict = [{'time': 0.2, 'headline': ' The Biology of Social Bonding'}, {'time': 933.8, 'headline': ' The Social Homeostasis Circuit'}, {'time': 1428.3, 'headline': ' The Social Homeostasis Circuit'}, {'time': 2727.5, 'headline': ' How to Enhance the Quality and Depth of Social Bonds'}, {'time': 3234.3, 'headline': ' The Relationship Between Parent and Child , And The Relationship Between Right Brain and Left Brain'}, {'time': 3873.9, 'headline': ' Cognitive Connections - How to Have a Deep Emotional Connection'}, {'time': 3917.5, 'headline': ' The Relationship Between Cognitive Empathy and Emotional Empathy'}, {'time': 4262.3, 'headline': ' The Effects of MDMA on the Body and Mind'}, {'time': 4823.5, 'headline': ' Social Bonding - What Are the Keys to Social Bonding?'}, {'time': 5482.1, 'headline': ' The Human Lab Podcast - Andrew Huberman'},{'time':5596.9,'headline':\"\"}]\n",
        "print(len(podcastDict))\n"
      ],
      "metadata": {
        "colab": {
          "base_uri": "https://localhost:8080/"
        },
        "id": "QCOtCbUNXJMA",
        "outputId": "6ffc9d11-e0a5-4f12-8dbd-d2b5a0a27568"
      },
      "execution_count": null,
      "outputs": [
        {
          "output_type": "stream",
          "name": "stdout",
          "text": [
            "11\n"
          ]
        }
      ]
    },
    {
      "cell_type": "code",
      "source": [
        "similarity(sampleDict,podcastDict)"
      ],
      "metadata": {
        "colab": {
          "base_uri": "https://localhost:8080/"
        },
        "outputId": "3821b78f-4034-413f-d73d-4fe98af24886",
        "id": "MdCIuZ5XXk98"
      },
      "execution_count": null,
      "outputs": [
        {
          "output_type": "stream",
          "name": "stdout",
          "text": [
            "11\n",
            "10\n",
            "27\n",
            "11\n",
            "25\n",
            "[0.17276901046281815, 0.016411701368922952, 0.19678338557711605, 0.11398429959170356, 0.3923715142075526, 0.05499107993914762, 0.04149103408743595, 0.03781477218778262, 0.01753067265131644, 0.0544999157688741, 0.011226154606917808, -0.010619299678966916, 0.03397302894756712, 0.08051995408282317, 0.26950695780501155, 0.13995029398788514, 0.22016500280586573, 0.1390637963871944, 0.09818767723501645, 0.04087723988086433, 0.033047575904156704, 0.0801883622067263, 0.11870376967095034, 0.04938301564421363, 0.017917310921693075]\n",
            "0.22006711147732624\n"
          ]
        }
      ]
    },
    {
      "cell_type": "markdown",
      "source": [
        "## dele spon"
      ],
      "metadata": {
        "id": "YBM3pcVlX2wH"
      }
    },
    {
      "cell_type": "code",
      "source": [
        "podcastDict = [{'time': 0.2, 'headline': ' The Biology of Social Bonding'}, {'time': 933.8, 'headline': ' The Social Homeostasis Circuit'}, {'time': 1428.3, 'headline': ' The Social Homeostasis Circuit'}, {'time': 2727.5, 'headline': ' How to Enhance the Quality and Depth of Social Bonds'}, {'time': 3234.3, 'headline': ' The Relationship Between Parent and Child , And The Relationship Between Right Brain and Left Brain'}, {'time': 3873.9, 'headline': ' Cognitive Connections - How to Have a Deep Emotional Connection'}, {'time': 3917.5, 'headline': ' The Relationship Between Cognitive Empathy and Emotional Empathy'}, {'time': 4262.3, 'headline': ' The Effects of MDMA on the Body and Mind'}, {'time': 4823.5, 'headline': ' Social Bonding - What Are the Keys to Social Bonding?'}, {'time': 5482.1, 'headline': ' The Human Lab Podcast - Andrew Huberman'},{'time':5596.9,'headline':\"\"}]\n",
        "print(len(podcastDict))"
      ],
      "metadata": {
        "colab": {
          "base_uri": "https://localhost:8080/"
        },
        "id": "E6kYgEtzX4An",
        "outputId": "ea6ca719-3059-421a-fc17-b4189692193b"
      },
      "execution_count": null,
      "outputs": [
        {
          "output_type": "stream",
          "name": "stdout",
          "text": [
            "11\n"
          ]
        }
      ]
    },
    {
      "cell_type": "code",
      "source": [
        "similarity(sampleDict,podcastDict)"
      ],
      "metadata": {
        "colab": {
          "base_uri": "https://localhost:8080/"
        },
        "outputId": "01f1290c-84c4-40e7-db52-7204c4f59c85",
        "id": "1DC6J4SdX8eI"
      },
      "execution_count": null,
      "outputs": [
        {
          "output_type": "stream",
          "name": "stdout",
          "text": [
            "11\n",
            "10\n",
            "27\n",
            "11\n",
            "25\n",
            "[0.17276901046281815, 0.016411701368922952, 0.19678338557711605, 0.11398429959170356, 0.3923715142075526, 0.05499107993914762, 0.04149103408743595, 0.03781477218778262, 0.01753067265131644, 0.0544999157688741, 0.011226154606917808, -0.010619299678966916, 0.03397302894756712, 0.08051995408282317, 0.26950695780501155, 0.13995029398788514, 0.22016500280586573, 0.1390637963871944, 0.09818767723501645, 0.04087723988086433, 0.033047575904156704, 0.0801883622067263, 0.11870376967095034, 0.04938301564421363, 0.017917310921693075]\n",
            "0.22006711147732624\n"
          ]
        }
      ]
    },
    {
      "cell_type": "markdown",
      "source": [
        "# brain"
      ],
      "metadata": {
        "id": "biYEQfFzYWSJ"
      }
    },
    {
      "cell_type": "code",
      "source": [
        "sampleDict = [{'time': 0.0, 'headline': '- Introduction'}, {'time': 86.0, 'headline': '- Andrew’s Background'}, {'time': 929.0, 'headline': '- How Andrew Turned His Life Around'}, {'time': 1427.0, 'headline': '- How Andrew Combines Neuroscience with His Past'}, {'time': 1603.0, 'headline': '- The Human Brain: Internal State & External State'}, {'time': 2106.0, 'headline': '- Neural Plasticity - Steering the Nervous System'}, {'time': 2545.0, 'headline': '- State of Flow - The Dopamine System'}, {'time': 3547.0, 'headline': '- Process of Internal Rewards'},{'time': 3955.0, 'headline': '- Studying Fear, Courage, and Resilience'}, {'time': 4563.0, 'headline': '- How to Deal with Problems of Motivation and Focus'}, {'time': 5081.0, 'headline': '- Panoramic Vision vs Focal Vision'}, {'time': 5445.0, 'headline': '- Methods of Focus and Deep Rest'}, {'time': 5690.0, 'headline': '- Optic Flow and EMDR'}, {'time': 5930.0, 'headline': '- Andrew’s Work in Addiction'}, {'time': 6426.0, 'headline': '- A Bio-Marker for Addicts to Avoid Relapse'}, {'time': 6576.0, 'headline': '- Neuroscience Perspective on Political Polarization'}, {'time': 7155.0, 'headline': '- The Importance of Internal Control'}, {'time': 7497.0, 'headline': '- Is There Hope for Us?'},{'time':7936.6,'headline':''}]\n",
        "print(len(podcastDict))"
      ],
      "metadata": {
        "colab": {
          "base_uri": "https://localhost:8080/"
        },
        "id": "T4lQqt5BYaqP",
        "outputId": "3971ae49-4162-46d1-9566-17032078573b"
      },
      "execution_count": null,
      "outputs": [
        {
          "output_type": "stream",
          "name": "stdout",
          "text": [
            "11\n"
          ]
        }
      ]
    },
    {
      "cell_type": "markdown",
      "source": [
        "##0.6"
      ],
      "metadata": {
        "id": "HhYnbEvBdWyP"
      }
    },
    {
      "cell_type": "markdown",
      "source": [
        "## not dele"
      ],
      "metadata": {
        "id": "Bg6eYNLKeKs9"
      }
    },
    {
      "cell_type": "code",
      "source": [
        "podcastDict = [{'time': 0.1, 'headline': ' The Origin of the Brain'}, {'time': 299.8, 'headline': ' Then I Become a Professional Skateboarder and I Love the Community'}, {'time': 427.9, 'headline': ' Palo Alto Gunn High School - The Infamous High School'}, {'time': 479.8, 'headline': ' The Power of Mindfulness'}, {'time': 1616.4, 'headline': ' The Brain and Nervous System'}, {'time': 1710.3, 'headline': ' The Importance of Sensations in the Body'}, {'time': 2106.4, 'headline': \" The Brain's Ability to Adapt to Experience\"}, {'time': 2420.0, 'headline': ' Dopamine and the Growth Mindset'}, {'time': 3108.2, 'headline': \" If it's Podcasting Great , If it's Building a Business Great If\"}, {'time': 3119.8, 'headline': ' The Power of Dopamine'}, {'time': 3497.2, 'headline': ' The Selection Process Is Not Enough'}, {'time': 3914.9, 'headline': ' The Neuroscience of the Brain'}, {'time': 4626.8, 'headline': \" Rapid , and we're actually running a human study on this now . \"}, {'time': 4636.3, 'headline': ' How to Control Your Autonomic Nervous System'}, {'time': 5003.2, 'headline': ' The Visual Focus Is What Brings the Mind to the Brain'}, {'time': 5210.6, 'headline': ' How to Recover From Stress'}, {'time': 5679.6, 'headline': ' The Effect of Eye Movements on Addiction'}, {'time': 6012.5, 'headline': ' The Visual System and the Addiction Tree'}, {'time': 6319.0, 'headline': ' Is There a Way to Control Your Autonomic Nervous System?'}, {'time': 6709.5, 'headline': ' The Human Brain Deal , Deep into the Brain'}, {'time': 6763.1, 'headline': ' The Key to a Successful Addiction Treatment Program is to Listen to the Brain and Listen to'}, {'time': 7131.3, 'headline': ' The Next Generation of Addiction'}, {'time': 7864.9, 'headline': \" I'm Doing It , You Paid For It You're Not a\"},{'time':7936.6,'headline':''}]\n",
        "print(len(podcastDict))"
      ],
      "metadata": {
        "colab": {
          "base_uri": "https://localhost:8080/"
        },
        "id": "Uh644_Z7dXw-",
        "outputId": "b8e55fbf-3fa7-437e-be88-c9c2dab11081"
      },
      "execution_count": null,
      "outputs": [
        {
          "output_type": "stream",
          "name": "stdout",
          "text": [
            "24\n"
          ]
        }
      ]
    },
    {
      "cell_type": "code",
      "source": [
        "similarity(sampleDict,podcastDict)"
      ],
      "metadata": {
        "colab": {
          "base_uri": "https://localhost:8080/"
        },
        "outputId": "9e58614a-9e54-4928-eb77-e0f3d3c3dab0",
        "id": "5euDO6qXdehZ"
      },
      "execution_count": null,
      "outputs": [
        {
          "output_type": "stream",
          "name": "stdout",
          "text": [
            "24\n",
            "23\n",
            "19\n",
            "24\n",
            "17\n",
            "[0.09909526454134628, 0.022159261022962017, 0.02104208059510609, 0.23791098600326796, 0.14898699032062707, 0.004103383659765672, 0.05709460300261242, -0.018745994179381765, 0.1382128334895394, 0.17231837768424166, -0.006053520878253477, 0.1576495192078867, 0.11284009176530313, 0.04068149227491567, 0.1990290672186749, 0.08542324681415948, 0.12488923248842017]\n",
            "0.06652653812629973\n"
          ]
        }
      ]
    },
    {
      "cell_type": "markdown",
      "source": [
        "## dele spon"
      ],
      "metadata": {
        "id": "rYAXnxw-eMWt"
      }
    },
    {
      "cell_type": "code",
      "source": [
        "podcastDict = [{'time': 0.1, 'headline': ' The Brain and the Neuroscience Podcast'}, {'time': 299.8, 'headline': ' Then I Become a Professional Skateboarder and I Love the Community'}, {'time': 427.9, 'headline': ' Palo Alto Gunn High School - The Infamous High School'}, {'time': 479.8, 'headline': ' The Power of Mindfulness'}, {'time': 1616.4, 'headline': ' The Brain and Nervous System'}, {'time': 1710.3, 'headline': ' The Importance of Sensations in the Body'}, {'time': 2106.4, 'headline': \" The Brain's Ability to Adapt to Experience\"}, {'time': 2420.0, 'headline': ' Dopamine and the Growth Mindset'}, {'time': 3108.2, 'headline': \" If it's Podcasting Great , If it's Building a Business Great If\"}, {'time': 3119.8, 'headline': ' The Power of Dopamine'}, {'time': 3497.2, 'headline': ' The Selection Process Is Not Enough'}, {'time': 3914.9, 'headline': ' The Neuroscience of the Brain'}, {'time': 4626.8, 'headline': \" Rapid , and we're actually running a human study on this now . \"}, {'time': 4636.3, 'headline': ' How to Control Your Autonomic Nervous System'}, {'time': 5003.2, 'headline': ' The Visual Focus Is What Brings the Mind to the Brain'}, {'time': 5210.6, 'headline': ' How to Recover From Stress'}, {'time': 5679.6, 'headline': ' The Effect of Eye Movements on Addiction'}, {'time': 6012.5, 'headline': ' The Visual System and the Addiction Tree'}, {'time': 6319.0, 'headline': ' Is There a Way to Control Your Autonomic Nervous System?'}, {'time': 6709.5, 'headline': ' The Human Brain Deal , Deep into the Brain'}, {'time': 6763.1, 'headline': ' The Key to a Successful Addiction Treatment Program is to Listen to the Brain and Listen to'}, {'time': 7131.3, 'headline': ' The Next Generation of Addiction'}, {'time': 7864.9, 'headline': \" I'm Doing It , You Paid For It You're Not a\"},{'time':7936.6,'headline':''}]\n",
        "print(len(podcastDict))"
      ],
      "metadata": {
        "colab": {
          "base_uri": "https://localhost:8080/"
        },
        "id": "eT9olhV5eFC2",
        "outputId": "5e358c14-3c19-499a-b401-f2ec9d01262d"
      },
      "execution_count": null,
      "outputs": [
        {
          "output_type": "stream",
          "name": "stdout",
          "text": [
            "24\n"
          ]
        }
      ]
    },
    {
      "cell_type": "code",
      "source": [
        "similarity(sampleDict,podcastDict)"
      ],
      "metadata": {
        "colab": {
          "base_uri": "https://localhost:8080/"
        },
        "outputId": "e4f3da0e-3bf3-437b-a2a0-abeb05182764",
        "id": "6Qy0NCLEePYK"
      },
      "execution_count": null,
      "outputs": [
        {
          "output_type": "stream",
          "name": "stdout",
          "text": [
            "24\n",
            "23\n",
            "19\n",
            "24\n",
            "17\n",
            "[0.11252932264199765, 0.022159261022962017, 0.02104208059510609, 0.23791098600326796, 0.14898699032062707, 0.004103383659765672, 0.05709460300261242, -0.018745994179381765, 0.1382128334895394, 0.17231837768424166, -0.006053520878253477, 0.1576495192078867, 0.11284009176530313, 0.04068149227491567, 0.1990290672186749, 0.08542324681415948, 0.12488923248842017]\n",
            "0.06708629054716021\n"
          ]
        }
      ]
    },
    {
      "cell_type": "markdown",
      "source": [
        "## 0.7 not dele"
      ],
      "metadata": {
        "id": "mw4BdEXWe63v"
      }
    },
    {
      "cell_type": "code",
      "source": [
        "podcastDict = [{'time': 0.1, 'headline': ' The Origin of Skateboarding'}, {'time': 429.2, 'headline': ' Palo Alto Gunn High School - I Got Removed From High School'}, {'time': 479.8, 'headline': ' The Power of Mindfulness'}, {'time': 1616.4, 'headline': ' The Brain and Nervous System'}, {'time': 1710.3, 'headline': ' The Importance of Sensations in the Body'}, {'time': 2106.4, 'headline': ' The Dopamine System and the Growth Mindset'}, {'time': 3108.2, 'headline': \" If it's Podcasting Great , If it's Building a Business Great If\"}, {'time': 3119.8, 'headline': ' The Power of Dopamine'}, {'time': 3497.2, 'headline': ' The Selection Process Is Not Enough'}, {'time': 3914.9, 'headline': ' The Secret of the Neuronal Brain'}, {'time': 5003.2, 'headline': ' The Visual Focus Is What Brings the Mind to the Brain'}, {'time': 5210.6, 'headline': ' How to Recover From Addiction'}, {'time': 6217.8, 'headline': ' Is There a Future for Addiction Treatment?'}, {'time': 6709.5, 'headline': ' The Next Generation of Addiction and Neuroplasticity'},{'time':7936.6,'headline':''}]\n",
        "print(len(podcastDict))"
      ],
      "metadata": {
        "colab": {
          "base_uri": "https://localhost:8080/"
        },
        "id": "IR6NGDete9E_",
        "outputId": "a434ed05-316d-4262-d6fd-260b4cd12870"
      },
      "execution_count": null,
      "outputs": [
        {
          "output_type": "stream",
          "name": "stdout",
          "text": [
            "15\n"
          ]
        }
      ]
    },
    {
      "cell_type": "code",
      "source": [
        "similarity(sampleDict,podcastDict)"
      ],
      "metadata": {
        "colab": {
          "base_uri": "https://localhost:8080/"
        },
        "outputId": "12014386-9e94-4db9-ab87-d8f01760b1ed",
        "id": "ITyIqfPRfBJp"
      },
      "execution_count": null,
      "outputs": [
        {
          "output_type": "stream",
          "name": "stdout",
          "text": [
            "15\n",
            "14\n",
            "19\n",
            "15\n",
            "17\n",
            "[0.06500269743338932, 0.022159261022962017, 0.02104208059510609, 0.23791098600326796, 0.10876618291447837, 0.006641148350180645, 0.051778125303359734, 0.03855349221650615, 0.065877548089264, 0.13063756531462556, -0.01240681884240735, 0.034944091740821075, 0.00431123942276989, 0.16113728412118467, 0.11177689100352299, 0.09365165717404952, 0.08168352789288583]\n",
            "0.08156446398373111\n"
          ]
        }
      ]
    },
    {
      "cell_type": "markdown",
      "source": [
        "## dele spon"
      ],
      "metadata": {
        "id": "1ybucPE0f_tm"
      }
    },
    {
      "cell_type": "code",
      "source": [
        "podcastDict = [{'time': 0.1, 'headline': ' The Brain and the Brain'}, {'time': 429.2, 'headline': ' Palo Alto Gunn High School - I Got Removed From High School'}, {'time': 479.8, 'headline': ' The Power of Mindfulness'}, {'time': 1616.4, 'headline': ' The Brain and Nervous System'}, {'time': 1680.3, 'headline': \" The Brain and the Brain - The Brain's Ability to Adapt to the Environment\"}, {'time': 2523.9, 'headline': ' Dopamine Releases the Dopamine System and How to Restore It'}, {'time': 3497.2, 'headline': ' The Selection Process Is Not Enough'}, {'time': 3914.9, 'headline': ' The Secret of the Neuronal Brain'}, {'time': 5003.2, 'headline': ' The Visual Focus Is What Brings the Mind to the Brain'}, {'time': 5210.6, 'headline': ' How to Recover From Addiction'}, {'time': 6217.8, 'headline': ' Is There a Future for Addiction Treatment?'}, {'time': 6709.5, 'headline': ' The Next Generation of Addiction and Neuroplasticity'},{'time':7936.6,'headline':''}]\n",
        "print(len(podcastDict))"
      ],
      "metadata": {
        "colab": {
          "base_uri": "https://localhost:8080/"
        },
        "id": "FloiUNRmgB-F",
        "outputId": "5d5d164c-0bee-45f0-e533-8038ed05daae"
      },
      "execution_count": null,
      "outputs": [
        {
          "output_type": "stream",
          "name": "stdout",
          "text": [
            "13\n"
          ]
        }
      ]
    },
    {
      "cell_type": "code",
      "source": [
        "similarity(sampleDict,podcastDict)"
      ],
      "metadata": {
        "colab": {
          "base_uri": "https://localhost:8080/"
        },
        "outputId": "6e39148f-d177-48ca-8ac9-66f975eee801",
        "id": "B9hCUwnVgNNW"
      },
      "execution_count": null,
      "outputs": [
        {
          "output_type": "stream",
          "name": "stdout",
          "text": [
            "13\n",
            "12\n",
            "19\n",
            "13\n",
            "17\n",
            "[0.07743612951592357, 0.022159261022962017, 0.02104208059510609, 0.17928570084002707, 0.11423096050421165, 0.06535770872960973, 0.047823952485722306, 0.03855349221650615, 0.07468246820527057, 0.13899771567281768, -0.01240681884240735, 0.034944091740821075, 0.024633927001196647, 0.16113728412118467, 0.09674173091120193, 0.09365165717404952, 0.08168352789288583]\n",
            "0.09691960536823761\n"
          ]
        }
      ]
    },
    {
      "cell_type": "markdown",
      "source": [
        "## 0.5"
      ],
      "metadata": {
        "id": "nha0LtVdhowG"
      }
    },
    {
      "cell_type": "code",
      "source": [
        "podcastDict = [{'time': 0.1, 'headline': ' Neuroscientist Dr Andrew Huberman , Welcome to the Podcast'}, {'time': 84.2, 'headline': ' The Life of a Skateboarder'}, {'time': 299.8, 'headline': ' Then I Become a Professional Skateboarder and I Love the Community'}, {'time': 427.9, 'headline': ' Palo Alto Gunn High School'}, {'time': 466.6, 'headline': ' The Power of Concentration'}, {'time': 1174.1, 'headline': ' Learning How to Speak Properly'}, {'time': 1183.4, 'headline': ' The Power of Mindfulness'}, {'time': 1616.4, 'headline': ' The Brain and Nervous System'}, {'time': 1710.3, 'headline': ' Sensations , Perception Thoughts and Behaviors'}, {'time': 1797.7, 'headline': ' The Nervous System in Iraq'}, {'time': 1866.1, 'headline': \" Impatience Is Not a Problem When You're In Line At The Store\"}, {'time': 1938.5, 'headline': \" The Brain's Ability to Adapt to the Environment\"}, {'time': 2563.3, 'headline': \" 'It's not a good thing , ' he said . \"}, {'time': 2571.0, 'headline': ' The State of the State'}, {'time': 2715.9, 'headline': \" I've Got an Hour . I'm Going to Write Beautifully for an Hour or\"}, {'time': 2761.8, 'headline': ' Dopamine System - The Dopamine System'}, {'time': 2839.0, 'headline': ' Dopamine Release - Is It a Good Idea?'}, {'time': 2894.2, 'headline': ' Dopamine Released in Addictions'}, {'time': 2920.2, 'headline': ' The Growth Mindset'}, {'time': 3108.2, 'headline': \" If it's Podcasting Great , If it's Building a Business Great If\"}, {'time': 3119.8, 'headline': ' The Power of Dopamine'}, {'time': 3413.9, 'headline': ' Dopamine Suspressing Norepinephrine - Is It'}, {'time': 3443.2, 'headline': ' The Selection Process Is Not Enough'}, {'time': 3815.1, 'headline': ' TPO Cysts - Cold Water and Sleep Deprivation'}, {'time': 3843.9, 'headline': ' Sleep Deprivation and the Autonomic Nervous System'}, {'time': 3914.9, 'headline': \" The Ultimate Determinant Isn't Your Physical Conditioning , But Your Resilience\"}, {'time': 4114.5, 'headline': ' The Holy Grail of Neuroscience'}, {'time': 4320.4, 'headline': \" The Brain's Control Panel for Addiction Behavior\"}, {'time': 4456.7, 'headline': ' The Moving Forward Response to Stress'}, {'time': 4626.8, 'headline': \" Rapid , and we're actually running a human study on this now . \"}, {'time': 4636.3, 'headline': ' How to Control Your Autonomic Nervous System'}, {'time': 4777.1, 'headline': ' The Secret of Breathing'}, {'time': 4904.3, 'headline': ' The Power of Focus'}, {'time': 5003.2, 'headline': ' The Visual Focus Is What Brings the Mind to the Brain'}, {'time': 5210.6, 'headline': ' How to Reset Your Focus in Wakefulness'}, {'time': 4081.0, 'headline': \" 'Tis the Season to Do Things\"}, {'time': 5397.8, 'headline': ' Hypnosis Scripts - How to Turn Off Your Brain and Fall Asle'}, {'time': 5673.9, 'headline': ' EMDR - The Brain State of Stress'}, {'time': 5783.2, 'headline': ' The Effect of Eye Movements on Addiction'}, {'time': 5982.0, 'headline': ' Stress and Stress and Stress and Stress and Stress and Stress and Stress and Stress and Stress and Stress'}, {'time': 6012.5, 'headline': ' The Visual System and the Addiction Tree'}, {'time': 6319.0, 'headline': ' Is There a Way to Control Your Autonomic Nervous System?'}, {'time': 6709.5, 'headline': ' The Human Brain Deal , Deep into the Brain'}, {'time': 6763.1, 'headline': ' The Key to Recovery From Addiction'}, {'time': 7007.9, 'headline': ' We Love the Way We Feel'}, {'time': 7018.2, 'headline': ' The Next Generation of Kids Need to Learn to Regulate Their Nervous System'}, {'time': 7131.3, 'headline': ' The Next Generation of Neuroplasticity'}, {'time': 7637.4, 'headline': '  - I think that , once people start to realize that your high performing military military'}, {'time': 7647.7, 'headline': ' The Next Generation of Addiction and Trauma'}, {'time': 7870.9, 'headline': \" I'm Doing It , You Paid For It You Did It You Pai\"},{'time':7936.6,'headline':''}]\n",
        "print(len(podcastDict))"
      ],
      "metadata": {
        "colab": {
          "base_uri": "https://localhost:8080/"
        },
        "id": "KKMkUmPRhpvt",
        "outputId": "81c9134a-f2c2-40c6-856a-45f3e653e231"
      },
      "execution_count": null,
      "outputs": [
        {
          "output_type": "stream",
          "name": "stdout",
          "text": [
            "51\n"
          ]
        }
      ]
    },
    {
      "cell_type": "code",
      "source": [
        "similarity(sampleDict,podcastDict)"
      ],
      "metadata": {
        "colab": {
          "base_uri": "https://localhost:8080/"
        },
        "outputId": "4c4c3498-5ef6-4799-fd1b-8494306cb7cf",
        "id": "EuAWvVaUhu7K"
      },
      "execution_count": null,
      "outputs": [
        {
          "output_type": "stream",
          "name": "stdout",
          "text": [
            "51\n",
            "50\n",
            "19\n",
            "51\n",
            "17\n",
            "[0.08792662706843596, 0.026688500271737706, 0.05523424666142629, 0.127169627049365, 0.3023514862287975, 0.0404218356651204, 0.136372970525178, 0.060694151311080156, 0.22632934798300497, 0.21870639917870038, -0.007531029486369583, 0.1361338063902218, 0.10639754202723152, 0.04068149227491567, 0.17935666152334004, 0.25831836811805126, 0.11600187652267924]\n",
            "0.04139713547672384\n"
          ]
        }
      ]
    },
    {
      "cell_type": "markdown",
      "source": [
        "## dele spon"
      ],
      "metadata": {
        "id": "zAgImWLTiFN2"
      }
    },
    {
      "cell_type": "code",
      "source": [
        "podcastDict = [{'time': 0.1, 'headline': ' Neuroscientist Dr Andrew Huberman , Welcome to the Podcast'}, {'time': 84.2, 'headline': ' The History of Chaos Theory'}, {'time': 299.8, 'headline': ' Then I Become a Professional Skateboarder and I Love the Community'}, {'time': 427.9, 'headline': ' Palo Alto Gunn High School'}, {'time': 466.6, 'headline': ' The Power of Concentration'}, {'time': 1174.1, 'headline': ' Learning How to Speak Properly'}, {'time': 1183.4, 'headline': ' The Power of Mindfulness'}, {'time': 1616.4, 'headline': ' The Brain and Nervous System'}, {'time': 1710.3, 'headline': ' Sensations , Perception Thoughts and Behaviors'}, {'time': 1797.7, 'headline': ' The Nervous System in Iraq'}, {'time': 1866.1, 'headline': \" Impatience Is Not a Problem When You're In Line At The Store\"}, {'time': 1938.5, 'headline': \" The Brain's Ability to Adapt to the Environment\"}, {'time': 2563.3, 'headline': \" 'It's not a good thing , ' he said . \"}, {'time': 2571.0, 'headline': ' The State of the State'}, {'time': 2715.9, 'headline': \" I've Got an Hour . I'm Going to Write Beautifully for an Hour or\"}, {'time': 2761.8, 'headline': ' Dopamine System - The Dopamine System'}, {'time': 2839.0, 'headline': ' Dopamine Release - Is It a Good Idea?'}, {'time': 2894.2, 'headline': ' Dopamine Released in Addictions'}, {'time': 2920.2, 'headline': ' The Growth Mindset'}, {'time': 3108.2, 'headline': \" If it's Podcasting Great , If it's Building a Business Great If\"}, {'time': 3119.8, 'headline': ' The Power of Dopamine'}, {'time': 3413.9, 'headline': ' Dopamine Suspressing Norepinephrine - Is It'}, {'time': 3443.2, 'headline': ' The Selection Process Is Not Enough'}, {'time': 3815.1, 'headline': ' TPO Cysts - Cold Water and Sleep Deprivation'}, {'time': 3843.9, 'headline': ' Sleep Deprivation and the Autonomic Nervous System'}, {'time': 3914.9, 'headline': \" The Ultimate Determinant Isn't Your Physical Conditioning , But Your Resilience\"}, {'time': 4114.5, 'headline': ' The Holy Grail of Neuroscience'}, {'time': 4320.4, 'headline': \" The Brain's Control Panel for Addiction Behavior\"}, {'time': 4456.7, 'headline': ' The Moving Forward Response to Stress'}, {'time': 4626.8, 'headline': \" Rapid , and we're actually running a human study on this now . \"}, {'time': 4636.3, 'headline': ' How to Control Your Autonomic Nervous System'}, {'time': 4777.1, 'headline': ' The Secret of Breathing'}, {'time': 4904.3, 'headline': ' The Power of Focus'}, {'time': 5003.2, 'headline': ' The Visual Focus Is What Brings the Mind to the Brain'}, {'time': 5210.6, 'headline': ' How to Reset Your Focus in Wakefulness'}, {'time': 4081.0, 'headline': \" 'Tis the Season to Do Things\"}, {'time': 5397.8, 'headline': ' Hypnosis Scripts - How to Turn Off Your Brain and Fall Asle'}, {'time': 5673.9, 'headline': ' EMDR - The Brain State of Stress'}, {'time': 5783.2, 'headline': ' The Effect of Eye Movements on Addiction'}, {'time': 5982.0, 'headline': ' Stress and Stress and Stress and Stress and Stress and Stress and Stress and Stress and Stress and Stress'}, {'time': 6012.5, 'headline': ' The Visual System and the Addiction Tree'}, {'time': 6319.0, 'headline': ' Is There a Way to Control Your Autonomic Nervous System?'}, {'time': 6709.5, 'headline': ' The Human Brain Deal , Deep into the Brain'}, {'time': 6763.1, 'headline': ' The Key to Recovery From Addiction'}, {'time': 7007.9, 'headline': ' We Love the Way We Feel'}, {'time': 7018.2, 'headline': ' The Next Generation of Kids Need to Learn to Regulate Their Nervous System'}, {'time': 7131.3, 'headline': ' The Next Generation of Neuroplasticity'}, {'time': 7637.4, 'headline': '  - I think that , once people start to realize that your high performing military military'}, {'time': 7647.7, 'headline': ' The Next Generation of Addiction and Trauma'}, {'time': 7870.9, 'headline': \" I'm Doing It , You Paid For It You Did It You Pai\"},{'time':7936.6,'headline':''}]\n",
        "print(len(podcastDict))"
      ],
      "metadata": {
        "colab": {
          "base_uri": "https://localhost:8080/"
        },
        "id": "rF4HuaV-iGrp",
        "outputId": "4f0d75e9-47a2-43d9-8663-7acfe423c6df"
      },
      "execution_count": null,
      "outputs": [
        {
          "output_type": "stream",
          "name": "stdout",
          "text": [
            "51\n"
          ]
        }
      ]
    },
    {
      "cell_type": "code",
      "source": [
        "similarity(sampleDict,podcastDict)"
      ],
      "metadata": {
        "colab": {
          "base_uri": "https://localhost:8080/"
        },
        "outputId": "5d604bd7-d1a3-45c3-e8cb-78db5920926d",
        "id": "yro6YYSRiKl2"
      },
      "execution_count": null,
      "outputs": [
        {
          "output_type": "stream",
          "name": "stdout",
          "text": [
            "51\n",
            "50\n",
            "19\n",
            "51\n",
            "17\n",
            "[0.15945433595309977, 0.026688500271737706, 0.05523424666142629, 0.127169627049365, 0.3023514862287975, 0.0404218356651204, 0.136372970525178, 0.060694151311080156, 0.22632934798300497, 0.21870639917870038, -0.007531029486369583, 0.1361338063902218, 0.10639754202723152, 0.04068149227491567, 0.17935666152334004, 0.25831836811805126, 0.11600187652267924]\n",
            "0.04279963957250157\n"
          ]
        }
      ]
    },
    {
      "cell_type": "markdown",
      "source": [
        "# sugar"
      ],
      "metadata": {
        "id": "deNYoEutoGiI"
      }
    },
    {
      "cell_type": "code",
      "source": [
        "sampleDict = [{'time': 0.0, 'headline': 'Sugar & Physiology   '}, {'time': 145.0, 'headline': 'The Brain-Body Contract '}, {'time': 193.0, 'headline': 'Thesis, AG1 (Athletic Greens), InsideTracker '}, {'time': 460.0, 'headline': 'Sugar & the Brain '}, {'time': 606.0, 'headline': 'Appetite & Hormones: Ghrelin & Insulin '}, {'time': 857.0, 'headline': 'Glucose & Brain Function'}, {'time': 1459.0, 'headline': 'Glucose & Physical Activity '}, {'time': 1576.0, 'headline': 'Fructose vs. Glucose '}, {'time': 1961.0, 'headline': 'When to Eat High-Sugar Foods?  '}, {'time': 2101.0, 'headline': 'Sugar’s Taste vs. Nutritive Pathways, Sugar Cravings  '}, {'time': 2506.0, 'headline': 'Tool: Sugar & the Dopamine, Pleasure - Pain Dichotomy  '}, {'time': 2923.0, 'headline': 'Subconscious Sugar Circuits, Hidden Sugars in Food '}, {'time': 3483.0, 'headline': 'Glucose Metabolism in the Brain '}, {'time': 3780.0, 'headline': 'Tool: Glycemic Index, Blunting Sugar Cravings   '}, {'time': 4328.0, 'headline': 'Sugary Drinks, Highly Refined Sugars '}, {'time': 4473.0, 'headline': 'Artificial Sweeteners'}, {'time': 4956.0, 'headline': 'ADHD, Omega-3s '}, {'time': 5418.0, 'headline': 'Tools: Reduce Sugar Cravings with EPA Omega-3s & Glutamine'}, {'time': 5715.0, 'headline': 'Tool: Blunt Sugar Peaks & Craving with Lemon Juice'}, {'time': 6189.0, 'headline': 'Tool: Reduce Sugar Cravings & Spikes with Cinnamon  '}, {'time': 6310.0, 'headline': 'Berberine, Sustained Low Blood Glucose Levels'}, {'time': 6684.0, 'headline': 'Tool: Sleep & Sugar Cravings'}, {'time': 6993.0, 'headline': 'Zero-Cost Support, YouTube Feedback, Spotify, Apple Reviews, Sponsors, Patreon, Instagram, Twitter, Thorne, Neural Network Newsletter'},{'time':7131.0,'headline':''}]"
      ],
      "metadata": {
        "id": "zOe_JaNEoWxs"
      },
      "execution_count": null,
      "outputs": []
    },
    {
      "cell_type": "markdown",
      "source": [
        "## 0.7 not dele"
      ],
      "metadata": {
        "id": "nzAiKUKDoHpN"
      }
    },
    {
      "cell_type": "code",
      "source": [
        "podcastDict = [{'time': 0.1, 'headline': ' The Brain and the Brain - The Science and Science Podcast'}, {'time': 675.9, 'headline': ' Type 1 Diabetes - How to Clamp Blood Glucose Levels'}, {'time': 782.2, 'headline': ' The Importance of Glucose in the Nervous System'}, {'time': 1595.4, 'headline': ' Is Fructose a Good Thing?'}, {'time': 2076.4, 'headline': ' Dopamine and the Pleasure Pain - The Secret of the Mood and'}, {'time': 2983.2, 'headline': ' The Preference for Sweet Taste in Foods'}, {'time': 62.4, 'headline': ' The Effects of Sugary Foods on Your Blood Sugar'}, {'time': 4478.6, 'headline': ' Is There a Conversion of Artificial Sweeteners?'}, {'time': 4749.8, 'headline': ' Is This a Fair Experiment?'}, {'time': 4796.1, 'headline': ' ADHD and the Effects of Sugar Consumption'}, {'time': 5656.2, 'headline': ' Can Lemon Juice And Lime Juice Reduce Blood Glucose?'}, {'time': 6656.8, 'headline': ' The Importance of Sleep in Controlling Appetite'},{'time':7131.0,'headline':''}]\n",
        "print(len(podcastDict))"
      ],
      "metadata": {
        "colab": {
          "base_uri": "https://localhost:8080/"
        },
        "id": "010ox_TVoKFU",
        "outputId": "bf7463ab-15e2-46c6-81cf-b06e0287ec68"
      },
      "execution_count": null,
      "outputs": [
        {
          "output_type": "stream",
          "name": "stdout",
          "text": [
            "13\n"
          ]
        }
      ]
    },
    {
      "cell_type": "code",
      "source": [
        "similarity(sampleDict,podcastDict)"
      ],
      "metadata": {
        "colab": {
          "base_uri": "https://localhost:8080/"
        },
        "outputId": "3edd2444-c603-493c-8026-da2b25f34ff6",
        "id": "hfv_66gDol_n"
      },
      "execution_count": null,
      "outputs": [
        {
          "output_type": "stream",
          "name": "stdout",
          "text": [
            "13\n",
            "12\n",
            "24\n",
            "13\n",
            "22\n",
            "[0.00813933405236896, 0.18275988356853315, 0.029590832927799255, 0.26702019860875625, 0.2658997775150295, 0.10518458123519041, 0.09884381798928084, 0.1568169289768871, 0.040875466677668774, 0.1538194188158787, 0.17307717401676634, 0.03925139133299958, 0.046541421052030844, 0.015878926148249838, 0.12863252530692662, 0.17075273938240565, 0.0686439185349002, 0.17975376131485485, 0.05688130408793525, 0.05985877058611977, 0.06366020658507927, 0.16802900303068774]\n",
            "0.1907624139804884\n"
          ]
        }
      ]
    },
    {
      "cell_type": "markdown",
      "source": [
        "## dele spon"
      ],
      "metadata": {
        "id": "H6ODwoOLo1J0"
      }
    },
    {
      "cell_type": "code",
      "source": [
        "podcastDict = [{'time': 0.1, 'headline': ' The Brain and the Body - The Brain and the Brain'}, {'time': 675.9, 'headline': ' Type 1 Diabetes - How to Clamp Blood Glucose Levels'}, {'time': 782.2, 'headline': ' The Importance of Glucose in the Nervous System'}, {'time': 1595.4, 'headline': ' Is Fructose a Good Thing?'}, {'time': 2076.4, 'headline': ' Dopamine and the Pleasure Pain - The Secret of the Mood and'}, {'time': 2983.2, 'headline': ' The Preference for Sweet Taste in Foods'}, {'time': 62.4, 'headline': ' The Effects of Sugary Foods on Your Blood Sugar'}, {'time': 4478.6, 'headline': ' Is There a Conversion of Artificial Sweeteners?'}, {'time': 4749.8, 'headline': ' Is This a Fair Experiment?'}, {'time': 4796.1, 'headline': ' ADHD and the Effects of Sugar Consumption'}, {'time': 5656.2, 'headline': ' Can Lemon Juice And Lime Juice Reduce Blood Glucose?'}, {'time': 6656.8, 'headline': ' The Importance of Sleep in Controlling Appetite'},{'time':7131.0,'headline':''}]\n",
        "print(len(podcastDict))"
      ],
      "metadata": {
        "colab": {
          "base_uri": "https://localhost:8080/"
        },
        "id": "yvJDDP6fo2lU",
        "outputId": "ca2f1ea7-da9b-4bfc-a26b-ac23b983ec82"
      },
      "execution_count": null,
      "outputs": [
        {
          "output_type": "stream",
          "name": "stdout",
          "text": [
            "13\n"
          ]
        }
      ]
    },
    {
      "cell_type": "code",
      "source": [
        "for p in podcastDict:\n",
        "  print(p['headline'])"
      ],
      "metadata": {
        "id": "kTboC0WISsMK",
        "outputId": "9d07dee8-a412-4820-b70f-c6bfe7cc7da0",
        "colab": {
          "base_uri": "https://localhost:8080/"
        }
      },
      "execution_count": null,
      "outputs": [
        {
          "output_type": "stream",
          "name": "stdout",
          "text": [
            " The Brain and the Body - The Brain and the Brain\n",
            " Type 1 Diabetes - How to Clamp Blood Glucose Levels\n",
            " The Importance of Glucose in the Nervous System\n",
            " Is Fructose a Good Thing?\n",
            " Dopamine and the Pleasure Pain - The Secret of the Mood and\n",
            " The Preference for Sweet Taste in Foods\n",
            " The Effects of Sugary Foods on Your Blood Sugar\n",
            " Is There a Conversion of Artificial Sweeteners?\n",
            " Is This a Fair Experiment?\n",
            " ADHD and the Effects of Sugar Consumption\n",
            " Can Lemon Juice And Lime Juice Reduce Blood Glucose?\n",
            " The Importance of Sleep in Controlling Appetite\n",
            "\n"
          ]
        }
      ]
    },
    {
      "cell_type": "code",
      "source": [
        "similarity(sampleDict,podcastDict)"
      ],
      "metadata": {
        "colab": {
          "base_uri": "https://localhost:8080/"
        },
        "outputId": "3f2172ad-ff77-4b95-d215-757813f32c5b",
        "id": "GLJSwinbo6e0"
      },
      "execution_count": null,
      "outputs": [
        {
          "output_type": "stream",
          "name": "stdout",
          "text": [
            "13\n",
            "12\n",
            "24\n",
            "13\n",
            "22\n",
            "[0.011061036258662513, 0.24736743578017553, 0.010257389437220935, 0.26768553021454206, 0.2658997775150295, 0.10518458123519041, 0.09884381798928084, 0.1568169289768871, 0.040875466677668774, 0.1538194188158787, 0.17307717401676634, 0.03925139133299958, 0.046541421052030844, 0.015878926148249838, 0.12863252530692662, 0.17075273938240565, 0.0686439185349002, 0.17975376131485485, 0.05688130408793525, 0.05985877058611977, 0.06366020658507927, 0.16802900303068774]\n",
            "0.19452096340611486\n"
          ]
        }
      ]
    },
    {
      "cell_type": "markdown",
      "source": [
        "## 0.6 not dele"
      ],
      "metadata": {
        "id": "QM1KrAU6sjP-"
      }
    },
    {
      "cell_type": "code",
      "source": [
        "podcastDict = [{'time': 0.1, 'headline': ' The Sweet Taste of Sugar and How It Impacts Your Brain and Body'}, {'time': 121.0, 'headline': ' The Brain Body Contract - Live Event May 1st'}, {'time': 184.9, 'headline': ' The Nootropics Podcast - The Best of the Best'}, {'time': 488.0, 'headline': ' The Effects of Sugar on the Nervous System'}, {'time': 690.4, 'headline': ' Glucose is Complete Blood Sugar'}, {'time': 718.1, 'headline': ' Diabetes - Is It a Good Idea to Avoid Diabetes?'}, {'time': 875.4, 'headline': \" Ketogenic , I'm a Ketoholic I'm a Ke\"}, {'time': 912.4, 'headline': ' Orientation Tuning in the Visual System'}, {'time': 1000.6, 'headline': ' Is It Dependent On Blood Glucose Level?'}, {'time': 1249.9, 'headline': ' Glucose is the Preferable Source of Fuel for the Nervous System'}, {'time': 1595.4, 'headline': ' Is Fructose a Good Thing for Weight Loss?'}, {'time': 2101.0, 'headline': ' Dopamine and the Pleasure Pain - The Secret of the Mood and'}, {'time': 3000.4, 'headline': ' The Preference for Sweet Taste in Foods'}, {'time': 62.4, 'headline': ' The Secret of the Ketogenic Diet'}, {'time': 4113.0, 'headline': ' Drug Cocaine Causes Sharp Increases in Dopamine , Within the Brain'}, {'time': 4167.0, 'headline': ' The New Evidence for Type 2 Diabetes'}, {'time': 4478.6, 'headline': ' Is There a Conversion of Artificial Sweeteners?'}, {'time': 4749.8, 'headline': ' Is That a Fair Experiment Or Is It Not Our Natural World Experi'}, {'time': 4781.2, 'headline': ' ADHD - Is Sugar Consumption a Good Idea?'}, {'time': 5128.7, 'headline': ' Sugar , Consumption of Sugar - Sugar Beverages and'}, {'time': 5157.7, 'headline': ' Can Glutamine Reduce Sugar Cravings?'}, {'time': 5717.2, 'headline': ' The Secret of Blood Glucose Monitoring'}, {'time': 6012.6, 'headline': ' Lemon Juice and Lime Juice Can Reduce Blood Sugar'}, {'time': 6207.0, 'headline': ' The Best Way to Lower Blood Glucose Is Toxic Cinnamon'}, {'time': 6443.1, 'headline': ' Increasing Blood Sugar Through Berberine'}, {'time': 6656.8, 'headline': ' The Role of Sleep in Controlling Sugar Cravings'}, {'time': 6941.8, 'headline': ' The Government Lab Podcast - Is It Worth It?'},{'time':7131.0,'headline':''}]\n",
        "print(len(podcastDict))"
      ],
      "metadata": {
        "colab": {
          "base_uri": "https://localhost:8080/"
        },
        "id": "87_nUbG7slGj",
        "outputId": "881dc6fc-b1c6-40a3-9331-0161d459e888"
      },
      "execution_count": null,
      "outputs": [
        {
          "output_type": "stream",
          "name": "stdout",
          "text": [
            "28\n"
          ]
        }
      ]
    },
    {
      "cell_type": "code",
      "source": [
        "similarity(sampleDict,podcastDict)"
      ],
      "metadata": {
        "colab": {
          "base_uri": "https://localhost:8080/"
        },
        "outputId": "1efd0f1f-7817-44ca-b0bd-c359ebb8c7b3",
        "id": "Ml4_-22nsqvD"
      },
      "execution_count": null,
      "outputs": [
        {
          "output_type": "stream",
          "name": "stdout",
          "text": [
            "28\n",
            "27\n",
            "24\n",
            "28\n",
            "22\n",
            "[0.2766183718108807, -0.03663562142349477, 0.010272212410804678, 0.2839935172858208, 0.17611554083916092, 0.18277545741256515, 0.11287360790219239, 0.17234671955244452, 0.26422229400287656, 0.15508499998025213, 0.18403394401329312, 0.026820052567984757, 0.13655759434540318, 0.12122194147614966, 0.13827987775820752, 0.23424157204136467, -0.079651783522588, 0.19751629714835525, 0.07497772254297673, 0.28547911901078654, 0.22785078613934312, 0.03066019810751934]\n",
            "0.1134162293357964\n"
          ]
        }
      ]
    },
    {
      "cell_type": "markdown",
      "source": [
        "## dele spon"
      ],
      "metadata": {
        "id": "1rsHsYVes3jC"
      }
    },
    {
      "cell_type": "code",
      "source": [
        "podcastDict = [{'time': 0.1, 'headline': ' The Huberman Lab Podcast - The Brain Body Contract'}, {'time': 488.0, 'headline': ' The Effects of Sugar on the Nervous System'}, {'time': 690.4, 'headline': ' Type 1 Diabetes - Insulin Response to Clamp Blood Glucose Level'}, {'time': 782.2, 'headline': ' The Effects of Glucose on Brain Function'}, {'time': 912.4, 'headline': ' Orientation Tuning in the Visual System'}, {'time': 1000.6, 'headline': ' Is It Dependent On Blood Glucose Level?'}, {'time': 1249.9, 'headline': ' Glucose is the Preferable Source of Fuel for the Nervous System'}, {'time': 1595.4, 'headline': ' Is Fructose a Good Thing for Weight Loss?'}, {'time': 2101.0, 'headline': ' Dopamine and the Pleasure Pain - The Secret of the Mood and'}, {'time': 3000.4, 'headline': ' The Preference for Sweet Taste in Foods'}, {'time': 62.4, 'headline': ' The Effects of Sugary Foods on Your Blood Sugar'}, {'time': 4478.6, 'headline': ' Is There a Conversion of Artificial Sweeteners?'}, {'time': 4749.8, 'headline': ' Is That a Fair Experiment Or Is It Not Our Natural World Experi'}, {'time': 4781.2, 'headline': ' ADHD - Is Sugar Consumption a Good Idea?'}, {'time': 5128.7, 'headline': ' Sugar , Consumption of Sugar - Sugar Beverages and'}, {'time': 5157.7, 'headline': ' Can Glutamine Reduce Sugar Cravings?'}, {'time': 5717.2, 'headline': ' How Lemon Juice and Lime Juice Can Decrease Blood Glucose'}, {'time': 6218.6, 'headline': ' The Effects of Berberine on Blood Glucose'}, {'time': 6656.8, 'headline': ' The Role of Sleep in Controlling Sugar Cravings'}, {'time': 6941.8, 'headline': ' The Government Lab Podcast - Is It Worth It?'},{'time':7131.0,'headline':''}]\n",
        "print(len(podcastDict))"
      ],
      "metadata": {
        "colab": {
          "base_uri": "https://localhost:8080/"
        },
        "id": "Th3RLr3Us5VV",
        "outputId": "c7a41399-ba9d-4ede-d9f0-b0733aff890f"
      },
      "execution_count": null,
      "outputs": [
        {
          "output_type": "stream",
          "name": "stdout",
          "text": [
            "21\n"
          ]
        }
      ]
    },
    {
      "cell_type": "code",
      "source": [
        "for p in podcastDict:\n",
        "  print(p['headline'])"
      ],
      "metadata": {
        "colab": {
          "base_uri": "https://localhost:8080/"
        },
        "id": "yrYtxkBJOZcb",
        "outputId": "026d8309-6156-49a7-cabf-354dda71fcc9"
      },
      "execution_count": null,
      "outputs": [
        {
          "output_type": "stream",
          "name": "stdout",
          "text": [
            " The Huberman Lab Podcast - The Brain Body Contract\n",
            " The Effects of Sugar on the Nervous System\n",
            " Type 1 Diabetes - Insulin Response to Clamp Blood Glucose Level\n",
            " The Effects of Glucose on Brain Function\n",
            " Orientation Tuning in the Visual System\n",
            " Is It Dependent On Blood Glucose Level?\n",
            " Glucose is the Preferable Source of Fuel for the Nervous System\n",
            " Is Fructose a Good Thing for Weight Loss?\n",
            " Dopamine and the Pleasure Pain - The Secret of the Mood and\n",
            " The Preference for Sweet Taste in Foods\n",
            " The Effects of Sugary Foods on Your Blood Sugar\n",
            " Is There a Conversion of Artificial Sweeteners?\n",
            " Is That a Fair Experiment Or Is It Not Our Natural World Experi\n",
            " ADHD - Is Sugar Consumption a Good Idea?\n",
            " Sugar , Consumption of Sugar - Sugar Beverages and\n",
            " Can Glutamine Reduce Sugar Cravings?\n",
            " How Lemon Juice and Lime Juice Can Decrease Blood Glucose\n",
            " The Effects of Berberine on Blood Glucose\n",
            " The Role of Sleep in Controlling Sugar Cravings\n",
            " The Government Lab Podcast - Is It Worth It?\n",
            "\n"
          ]
        }
      ]
    },
    {
      "cell_type": "code",
      "source": [
        "similarity(sampleDict,podcastDict)"
      ],
      "metadata": {
        "colab": {
          "base_uri": "https://localhost:8080/"
        },
        "outputId": "94c340ce-0470-4d73-b449-d61610c7111e",
        "id": "B2odJOXftA_D"
      },
      "execution_count": null,
      "outputs": [
        {
          "output_type": "stream",
          "name": "stdout",
          "text": [
            "21\n",
            "20\n",
            "24\n",
            "21\n",
            "22\n",
            "[0.005327329256417786, 0.33583526436386846, 0.006812431314892924, 0.30771431335165367, 0.19477075437673233, 0.18277545741256515, 0.11223195383803822, 0.17234671955244452, 0.25670441998298144, 0.15508499998025213, 0.17785003524785284, 0.03925139133299958, 0.046541421052030844, 0.015878926148249838, 0.13722190154525749, 0.23424157204136467, -0.079651783522588, 0.17283049535507794, 0.04463980448229888, 0.11566994061769716, 0.15514652740808998, 0.03066019810751934]\n",
            "0.13428019396408084\n"
          ]
        }
      ]
    },
    {
      "cell_type": "markdown",
      "source": [
        "## 0.5 not de"
      ],
      "metadata": {
        "id": "eNxlz2ymuDaD"
      }
    },
    {
      "cell_type": "code",
      "source": [
        "podcastDict = [{'time': 0.1, 'headline': ' The Ins and Outs of Sugar and Other Foods Today'}, {'time': 147.4, 'headline': ' The Brain Body Contract - Live Event in Seattle , Washington on May 17th and Portland '}, {'time': 184.9, 'headline': ' The Nootropics Podcast - The Best of the Best'}, {'time': 488.0, 'headline': ' The Effects of Sugar on the Nervous System'}, {'time': 690.4, 'headline': ' Glucose is Complete Blood Sugar'}, {'time': 718.1, 'headline': ' Diabetes - Is It a Good Idea to Avoid Diabetes?'}, {'time': 875.4, 'headline': \" Ketogenic , I'm a Ketoholic I'm a Ke\"}, {'time': 912.4, 'headline': ' Orientation Tuning in the Visual System'}, {'time': 1000.6, 'headline': ' Is It Dependent On Blood Glucose Level?'}, {'time': 1249.9, 'headline': ' Glucose is the Preferable Source of Fuel for the Nervous System'}, {'time': 1595.4, 'headline': ' The Effects of Fructose in Fruits'}, {'time': 1739.7, 'headline': ' Is Fructose a Good Thing For Your Appetite?'}, {'time': 1962.8, 'headline': ' Sugar Is So Attractive'}, {'time': 2074.3, 'headline': ' The Parallel Pathways in the Brain and Body Control Sugar Cravings'}, {'time': 2360.4, 'headline': ' Neuroimaging Study - When You Inhale Something Sweet , You Taste It'}, {'time': 2454.6, 'headline': ' Dopamine and the Olympic Reward Pathway'}, {'time': 2670.3, 'headline': ' Dopamine and the Pleasure - Pain Balance'}, {'time': 2845.0, 'headline': ' Dopamine - The Secret of Sex and Reproduction'}, {'time': 457.1, 'headline': ' The Subconscious Circuits for Sugar Perception'}, {'time': 3128.7, 'headline': ' So this experiment is so crucial . '}, {'time': 3131.5, 'headline': ' Post Injective Effect - What Is It?'}, {'time': 3172.8, 'headline': ' Neuro pods , Sells Dura and the Neuronal Pathways'}, {'time': 3272.2, 'headline': ' The Sweet Taste of Sugary Foods'}, {'time': 3691.6, 'headline': ' The Pathway of the quickest source of fuel for the brain and the rest of the nervous'}, {'time': 3705.3, 'headline': ' The Glycemic Index and the Neuronal Circuits'}, {'time': 4113.0, 'headline': ' Drug Cocaine Causes Sharp Increases in Dopamine , Within the Brain'}, {'time': 4167.0, 'headline': ' The New Evidence for Type 2 Diabetes'}, {'time': 4478.6, 'headline': ' Is There a Conversion of Artificial Sweeteners?'}, {'time': 4749.8, 'headline': ' Is That a Fair Experiment Or Is It Not Our Natural World Experi'}, {'time': 4781.2, 'headline': ' ADHD - Is It Good For ADHD?'}, {'time': 5117.9, 'headline': ' Sugar Consumption and Highly Refined Sugar Consumption As Potentially Bad For ADHD'}, {'time': 5157.7, 'headline': ' The Importance of Omega - 3 Fatty Acids in ADHD'}, {'time': 5624.8, 'headline': ' Reduce Sugar Cravings - Is It Safe?'}, {'time': 5696.6, 'headline': ' The Secret of the Blood Sugar Monitor'}, {'time': 5894.4, 'headline': ' Lemon Juice and Water Lime Juice and Water Can Decrease Blood Glucos'}, {'time': 5963.8, 'headline': ' Changes in PH . '}, {'time': 5999.2, 'headline': ' Lemon Juice For Lime Juice - Is It a Good Tool For Control'}, {'time': 6214.6, 'headline': ' The Best Way to Lower Blood Glucose Is Toxic Cinnamon'}, {'time': 6459.4, 'headline': ' Increasing Blood Glucose Through Berberine'}, {'time': 6656.8, 'headline': ' The Importance of Sleep in Controlling Sugar Cravings'}, {'time': 7026.1, 'headline': ' The Government Lab Podcast - Part 2'},{'time':7131.0,'headline':''}]\n",
        "print(len(podcastDict))"
      ],
      "metadata": {
        "colab": {
          "base_uri": "https://localhost:8080/"
        },
        "id": "4ue1ZxlpuFty",
        "outputId": "f82a87ab-727a-427b-fadd-b11b710dcd48"
      },
      "execution_count": null,
      "outputs": [
        {
          "output_type": "stream",
          "name": "stdout",
          "text": [
            "42\n"
          ]
        }
      ]
    },
    {
      "cell_type": "code",
      "source": [
        "similarity(sampleDict,podcastDict)"
      ],
      "metadata": {
        "colab": {
          "base_uri": "https://localhost:8080/"
        },
        "outputId": "7240f0ae-7e64-4318-a890-def2a1e3fb86",
        "id": "ETXtP2GSuJUS"
      },
      "execution_count": null,
      "outputs": [
        {
          "output_type": "stream",
          "name": "stdout",
          "text": [
            "42\n",
            "41\n",
            "24\n",
            "42\n",
            "22\n",
            "[0.00858365487908698, -0.03663562142349477, 0.023802718538608755, 0.3222369410402331, 0.23552027636146064, 0.18277545741256515, 0.2220763300196691, 0.1554072187823394, 0.18079505840191515, 0.2119919067235504, 0.1697013992916716, 0.2041831949576802, 0.2520646237612392, 0.12122194147614966, 0.1385259891120696, 0.19268119723848373, 0.11395042751768532, 0.16156382719077958, 0.045797895242661, 0.24653257762797684, 0.22293280916035793, 0.15189795490407798]\n",
            "0.0839906613861135\n"
          ]
        }
      ]
    },
    {
      "cell_type": "markdown",
      "source": [
        "## 0.5 dele spon"
      ],
      "metadata": {
        "id": "s2PZjMo6ud2K"
      }
    },
    {
      "cell_type": "code",
      "source": [
        "podcastDict = [{'time': 0.1, 'headline': ' The Sweet Taste of Sugar and How It Impacts Your Brain and Body'}, {'time': 121.0, 'headline': ' The Brain Body Contract - Live Event May 1st'}, {'time': 165.7, 'headline': ' The Huberman Lab Podcast '}, {'time': 675.9, 'headline': ' Glucose is Complete Blood Sugar'}, {'time': 718.1, 'headline': ' Diabetes - Is It a Good Idea to Avoid Diabetes?'}, {'time': 875.4, 'headline': \" Ketogenic , I'm a Ketoholic I'm a Ke\"}, {'time': 912.4, 'headline': ' Orientation Tuning in the Visual System'}, {'time': 1000.6, 'headline': ' Is It Dependent On Blood Glucose Level?'}, {'time': 1249.9, 'headline': ' Glucose is the Preferable Source of Fuel for the Nervous System'}, {'time': 1595.4, 'headline': ' The Effects of Fructose in Fruits'}, {'time': 1739.7, 'headline': ' Is Fructose a Good Thing For Your Appetite?'}, {'time': 1962.8, 'headline': ' Sugar Is So Attractive'}, {'time': 2074.3, 'headline': ' The Parallel Pathways in the Brain and Body Control Sugar Cravings'}, {'time': 2360.4, 'headline': ' Neuroimaging Study - When You Inhale Something Sweet , You Taste It'}, {'time': 2454.6, 'headline': ' Dopamine and the Olympic Reward Pathway'}, {'time': 2670.3, 'headline': ' Dopamine and the Pleasure - Pain Balance'}, {'time': 2845.0, 'headline': ' Dopamine - The Secret of Sex and Reproduction'}, {'time': 2922.9, 'headline': ' The Subconscious Circuits for Sugar Perception'}, {'time': 3128.7, 'headline': ' So this experiment is so crucial . '}, {'time': 3131.5, 'headline': ' Post Injective Effect - What Is It?'}, {'time': 3172.8, 'headline': ' Neuro pods , Sells Dura and the Neuronal Pathways'}, {'time': 3272.2, 'headline': ' The Sweet Taste of Sugary Foods'}, {'time': 3691.6, 'headline': ' The Pathway of the quickest source of fuel for the brain and the rest of the nervous'}, {'time': 3705.3, 'headline': ' The Glycemic Index and the Neuronal Circuits'}, {'time': 4113.0, 'headline': ' Drug Cocaine Causes Sharp Increases in Dopamine , Within the Brain'}, {'time': 4167.0, 'headline': ' The New Evidence for Type 2 Diabetes'}, {'time': 4478.6, 'headline': ' Is There a Conversion of Artificial Sweeteners?'}, {'time': 4749.8, 'headline': ' Is That a Fair Experiment Or Is It Not Our Natural World Experi'}, {'time': 4781.2, 'headline': ' ADHD - Is It Good For ADHD?'}, {'time': 5117.9, 'headline': ' Sugar Consumption and Highly Refined Sugar Consumption As Potentially Bad For ADHD'}, {'time': 5157.7, 'headline': ' The Importance of Omega - 3 Fatty Acids in ADHD'}, {'time': 5624.8, 'headline': ' Reduce Sugar Cravings - Is It Safe?'}, {'time': 5696.6, 'headline': ' The Secret of the Blood Sugar Monitor'}, {'time': 5894.4, 'headline': ' Lemon Juice and Water Lime Juice and Water Can Decrease Blood Glucos'}, {'time': 5963.8, 'headline': ' Changes in PH . '}, {'time': 5999.2, 'headline': ' Lemon Juice For Lime Juice - Is It a Good Tool For Control'}, {'time': 6214.6, 'headline': ' The Best Way to Lower Blood Glucose Is Toxic Cinnamon'}, {'time': 6459.4, 'headline': ' Increasing Blood Glucose Through Berberine'}, {'time': 6656.8, 'headline': ' The Importance of Sleep in Controlling Sugar Cravings'}, {'time': 7026.1, 'headline': ' The Government Lab Podcast - Part 2'},{'time':7131.0,'headline':''}]\n",
        "print(len(podcastDict))"
      ],
      "metadata": {
        "colab": {
          "base_uri": "https://localhost:8080/"
        },
        "id": "qHPIB3i3ugJK",
        "outputId": "9441b365-08ae-49f2-aa93-0ead1774ec81"
      },
      "execution_count": null,
      "outputs": [
        {
          "output_type": "stream",
          "name": "stdout",
          "text": [
            "41\n"
          ]
        }
      ]
    },
    {
      "cell_type": "code",
      "source": [
        "similarity(sampleDict,podcastDict)"
      ],
      "metadata": {
        "colab": {
          "base_uri": "https://localhost:8080/"
        },
        "outputId": "47ad9724-8635-4aef-d243-e1da73664224",
        "id": "eRRZrAHYujZC"
      },
      "execution_count": null,
      "outputs": [
        {
          "output_type": "stream",
          "name": "stdout",
          "text": [
            "41\n",
            "40\n",
            "24\n",
            "41\n",
            "22\n",
            "[0.03208254699798035, -0.007362916177742531, 0.049303612174916765, 0.28769582758737977, 0.16150883801742902, 0.18277545741256515, 0.15464714737217303, 0.14497188497058225, 0.28556287122020313, 0.16739625052897644, 0.2567469354040395, 0.2041831949576802, 0.2520646237612392, 0.12122194147614966, 0.1385259891120696, 0.19268119723848373, 0.11395042751768532, 0.16156382719077958, 0.045797895242661, 0.24653257762797684, 0.22293280916035793, 0.15189795490407798]\n",
            "0.08699221691945522\n"
          ]
        }
      ]
    },
    {
      "cell_type": "code",
      "source": [
        "headline = [' The Sweet Taste of Sugar and How It Impacts Your Brain and Body', ' The Brain Body Contract - Live Event May 1st', ' The Nootropics Podcast - The Best of the Best', ' The Effects of Sugar on the Nervous System', ' Glucose is Complete Blood Sugar', ' Diabetes - Is It a Good Idea to Avoid Diabetes?', \" Ketogenic , I'm a Ketoholic I'm a Ke\", ' Orientation Tuning in the Visual System', ' Is It Dependent On Blood Glucose Level?', ' Glucose is the Preferable Source of Fuel for the Nervous System', ' Is Fructose a Good Thing for Weight Loss?', ' Dopamine and the Pleasure Pain - The Secret of the Mood and', ' The Preference for Sweet Taste in Foods', ' The Secret of the Ketogenic Diet',' Drug Cocaine Causes Sharp Increases in Dopamine , Within the Brain', ' The New Evidence for Type 2 Diabetes', ' Is There a Conversion of Artificial Sweeteners?', ' Is That a Fair Experiment Or Is It Not Our Natural World Experi', ' ADHD - Is Sugar Consumption a Good Idea?', ' Sugar , Consumption of Sugar - Sugar Beverages and', ' Can Glutamine Reduce Sugar Cravings?', ' The Secret of Blood Glucose Monitoring', ' Lemon Juice and Lime Juice Can Reduce Blood Sugar', ' The Best Way to Lower Blood Glucose Is Toxic Cinnamon', ' Increasing Blood Sugar Through Berberine', ' The Role of Sleep in Controlling Sugar Cravings', ' The Government Lab Podcast - Is It Worth It?']\n"
      ],
      "metadata": {
        "id": "iv0respGNQAb"
      },
      "execution_count": null,
      "outputs": []
    },
    {
      "cell_type": "code",
      "source": [
        "for h in headline:\n",
        "  print(h)"
      ],
      "metadata": {
        "colab": {
          "base_uri": "https://localhost:8080/"
        },
        "id": "93oLGoC3NRJT",
        "outputId": "186f609d-6b72-468d-cd4a-bd1ada82b7f2"
      },
      "execution_count": null,
      "outputs": [
        {
          "output_type": "stream",
          "name": "stdout",
          "text": [
            " The Sweet Taste of Sugar and How It Impacts Your Brain and Body\n",
            " The Brain Body Contract - Live Event May 1st\n",
            " The Nootropics Podcast - The Best of the Best\n",
            " The Effects of Sugar on the Nervous System\n",
            " Glucose is Complete Blood Sugar\n",
            " Diabetes - Is It a Good Idea to Avoid Diabetes?\n",
            " Ketogenic , I'm a Ketoholic I'm a Ke\n",
            " Orientation Tuning in the Visual System\n",
            " Is It Dependent On Blood Glucose Level?\n",
            " Glucose is the Preferable Source of Fuel for the Nervous System\n",
            " Is Fructose a Good Thing for Weight Loss?\n",
            " Dopamine and the Pleasure Pain - The Secret of the Mood and\n",
            " The Preference for Sweet Taste in Foods\n",
            " The Secret of the Ketogenic Diet\n",
            " Drug Cocaine Causes Sharp Increases in Dopamine , Within the Brain\n",
            " The New Evidence for Type 2 Diabetes\n",
            " Is There a Conversion of Artificial Sweeteners?\n",
            " Is That a Fair Experiment Or Is It Not Our Natural World Experi\n",
            " ADHD - Is Sugar Consumption a Good Idea?\n",
            " Sugar , Consumption of Sugar - Sugar Beverages and\n",
            " Can Glutamine Reduce Sugar Cravings?\n",
            " The Secret of Blood Glucose Monitoring\n",
            " Lemon Juice and Lime Juice Can Reduce Blood Sugar\n",
            " The Best Way to Lower Blood Glucose Is Toxic Cinnamon\n",
            " Increasing Blood Sugar Through Berberine\n",
            " The Role of Sleep in Controlling Sugar Cravings\n",
            " The Government Lab Podcast - Is It Worth It?\n"
          ]
        }
      ]
    }
  ]
}
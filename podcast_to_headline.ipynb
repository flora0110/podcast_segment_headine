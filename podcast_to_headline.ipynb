{
  "nbformat": 4,
  "nbformat_minor": 0,
  "metadata": {
    "colab": {
      "name": "podcast_to_headline.ipynb",
      "provenance": [],
      "authorship_tag": "ABX9TyOJ7KlaBNBxPyZlMvX9n86Y",
      "include_colab_link": true
    },
    "kernelspec": {
      "name": "python3",
      "display_name": "Python 3"
    },
    "language_info": {
      "name": "python"
    },
    "widgets": {
      "application/vnd.jupyter.widget-state+json": {
        "391af1658a5a45a2ab68f8f0a44c4724": {
          "model_module": "@jupyter-widgets/controls",
          "model_name": "HBoxModel",
          "model_module_version": "1.5.0",
          "state": {
            "_dom_classes": [],
            "_model_module": "@jupyter-widgets/controls",
            "_model_module_version": "1.5.0",
            "_model_name": "HBoxModel",
            "_view_count": null,
            "_view_module": "@jupyter-widgets/controls",
            "_view_module_version": "1.5.0",
            "_view_name": "HBoxView",
            "box_style": "",
            "children": [
              "IPY_MODEL_e2ee4e15804c4e6c9658d459be892a9b",
              "IPY_MODEL_8c67140f8d11453fab41797db15fa2cd",
              "IPY_MODEL_0934ad478ab24ed88c26995684484ed3"
            ],
            "layout": "IPY_MODEL_dbaba94b12d04cc0b780659935fd1c2c"
          }
        },
        "e2ee4e15804c4e6c9658d459be892a9b": {
          "model_module": "@jupyter-widgets/controls",
          "model_name": "HTMLModel",
          "model_module_version": "1.5.0",
          "state": {
            "_dom_classes": [],
            "_model_module": "@jupyter-widgets/controls",
            "_model_module_version": "1.5.0",
            "_model_name": "HTMLModel",
            "_view_count": null,
            "_view_module": "@jupyter-widgets/controls",
            "_view_module_version": "1.5.0",
            "_view_name": "HTMLView",
            "description": "",
            "description_tooltip": null,
            "layout": "IPY_MODEL_e4d012e975e6425cb3482b3ede559976",
            "placeholder": "​",
            "style": "IPY_MODEL_c3955ccfc9054b649af11df7f2575e0d",
            "value": "Downloading: 100%"
          }
        },
        "8c67140f8d11453fab41797db15fa2cd": {
          "model_module": "@jupyter-widgets/controls",
          "model_name": "FloatProgressModel",
          "model_module_version": "1.5.0",
          "state": {
            "_dom_classes": [],
            "_model_module": "@jupyter-widgets/controls",
            "_model_module_version": "1.5.0",
            "_model_name": "FloatProgressModel",
            "_view_count": null,
            "_view_module": "@jupyter-widgets/controls",
            "_view_module_version": "1.5.0",
            "_view_name": "ProgressView",
            "bar_style": "success",
            "description": "",
            "description_tooltip": null,
            "layout": "IPY_MODEL_7111e3379b8c42f98df0a2c8edb127b8",
            "max": 1345,
            "min": 0,
            "orientation": "horizontal",
            "style": "IPY_MODEL_15cf4565b4ad4fe6b467018b237bf5a2",
            "value": 1345
          }
        },
        "0934ad478ab24ed88c26995684484ed3": {
          "model_module": "@jupyter-widgets/controls",
          "model_name": "HTMLModel",
          "model_module_version": "1.5.0",
          "state": {
            "_dom_classes": [],
            "_model_module": "@jupyter-widgets/controls",
            "_model_module_version": "1.5.0",
            "_model_name": "HTMLModel",
            "_view_count": null,
            "_view_module": "@jupyter-widgets/controls",
            "_view_module_version": "1.5.0",
            "_view_name": "HTMLView",
            "description": "",
            "description_tooltip": null,
            "layout": "IPY_MODEL_cf475fb1ccdb46f9baf5eb5328a7c95b",
            "placeholder": "​",
            "style": "IPY_MODEL_4e5cc802b0c94c338b1f7d8d8b767036",
            "value": " 1.31k/1.31k [00:00&lt;00:00, 24.1kB/s]"
          }
        },
        "dbaba94b12d04cc0b780659935fd1c2c": {
          "model_module": "@jupyter-widgets/base",
          "model_name": "LayoutModel",
          "model_module_version": "1.2.0",
          "state": {
            "_model_module": "@jupyter-widgets/base",
            "_model_module_version": "1.2.0",
            "_model_name": "LayoutModel",
            "_view_count": null,
            "_view_module": "@jupyter-widgets/base",
            "_view_module_version": "1.2.0",
            "_view_name": "LayoutView",
            "align_content": null,
            "align_items": null,
            "align_self": null,
            "border": null,
            "bottom": null,
            "display": null,
            "flex": null,
            "flex_flow": null,
            "grid_area": null,
            "grid_auto_columns": null,
            "grid_auto_flow": null,
            "grid_auto_rows": null,
            "grid_column": null,
            "grid_gap": null,
            "grid_row": null,
            "grid_template_areas": null,
            "grid_template_columns": null,
            "grid_template_rows": null,
            "height": null,
            "justify_content": null,
            "justify_items": null,
            "left": null,
            "margin": null,
            "max_height": null,
            "max_width": null,
            "min_height": null,
            "min_width": null,
            "object_fit": null,
            "object_position": null,
            "order": null,
            "overflow": null,
            "overflow_x": null,
            "overflow_y": null,
            "padding": null,
            "right": null,
            "top": null,
            "visibility": null,
            "width": null
          }
        },
        "e4d012e975e6425cb3482b3ede559976": {
          "model_module": "@jupyter-widgets/base",
          "model_name": "LayoutModel",
          "model_module_version": "1.2.0",
          "state": {
            "_model_module": "@jupyter-widgets/base",
            "_model_module_version": "1.2.0",
            "_model_name": "LayoutModel",
            "_view_count": null,
            "_view_module": "@jupyter-widgets/base",
            "_view_module_version": "1.2.0",
            "_view_name": "LayoutView",
            "align_content": null,
            "align_items": null,
            "align_self": null,
            "border": null,
            "bottom": null,
            "display": null,
            "flex": null,
            "flex_flow": null,
            "grid_area": null,
            "grid_auto_columns": null,
            "grid_auto_flow": null,
            "grid_auto_rows": null,
            "grid_column": null,
            "grid_gap": null,
            "grid_row": null,
            "grid_template_areas": null,
            "grid_template_columns": null,
            "grid_template_rows": null,
            "height": null,
            "justify_content": null,
            "justify_items": null,
            "left": null,
            "margin": null,
            "max_height": null,
            "max_width": null,
            "min_height": null,
            "min_width": null,
            "object_fit": null,
            "object_position": null,
            "order": null,
            "overflow": null,
            "overflow_x": null,
            "overflow_y": null,
            "padding": null,
            "right": null,
            "top": null,
            "visibility": null,
            "width": null
          }
        },
        "c3955ccfc9054b649af11df7f2575e0d": {
          "model_module": "@jupyter-widgets/controls",
          "model_name": "DescriptionStyleModel",
          "model_module_version": "1.5.0",
          "state": {
            "_model_module": "@jupyter-widgets/controls",
            "_model_module_version": "1.5.0",
            "_model_name": "DescriptionStyleModel",
            "_view_count": null,
            "_view_module": "@jupyter-widgets/base",
            "_view_module_version": "1.2.0",
            "_view_name": "StyleView",
            "description_width": ""
          }
        },
        "7111e3379b8c42f98df0a2c8edb127b8": {
          "model_module": "@jupyter-widgets/base",
          "model_name": "LayoutModel",
          "model_module_version": "1.2.0",
          "state": {
            "_model_module": "@jupyter-widgets/base",
            "_model_module_version": "1.2.0",
            "_model_name": "LayoutModel",
            "_view_count": null,
            "_view_module": "@jupyter-widgets/base",
            "_view_module_version": "1.2.0",
            "_view_name": "LayoutView",
            "align_content": null,
            "align_items": null,
            "align_self": null,
            "border": null,
            "bottom": null,
            "display": null,
            "flex": null,
            "flex_flow": null,
            "grid_area": null,
            "grid_auto_columns": null,
            "grid_auto_flow": null,
            "grid_auto_rows": null,
            "grid_column": null,
            "grid_gap": null,
            "grid_row": null,
            "grid_template_areas": null,
            "grid_template_columns": null,
            "grid_template_rows": null,
            "height": null,
            "justify_content": null,
            "justify_items": null,
            "left": null,
            "margin": null,
            "max_height": null,
            "max_width": null,
            "min_height": null,
            "min_width": null,
            "object_fit": null,
            "object_position": null,
            "order": null,
            "overflow": null,
            "overflow_x": null,
            "overflow_y": null,
            "padding": null,
            "right": null,
            "top": null,
            "visibility": null,
            "width": null
          }
        },
        "15cf4565b4ad4fe6b467018b237bf5a2": {
          "model_module": "@jupyter-widgets/controls",
          "model_name": "ProgressStyleModel",
          "model_module_version": "1.5.0",
          "state": {
            "_model_module": "@jupyter-widgets/controls",
            "_model_module_version": "1.5.0",
            "_model_name": "ProgressStyleModel",
            "_view_count": null,
            "_view_module": "@jupyter-widgets/base",
            "_view_module_version": "1.2.0",
            "_view_name": "StyleView",
            "bar_color": null,
            "description_width": ""
          }
        },
        "cf475fb1ccdb46f9baf5eb5328a7c95b": {
          "model_module": "@jupyter-widgets/base",
          "model_name": "LayoutModel",
          "model_module_version": "1.2.0",
          "state": {
            "_model_module": "@jupyter-widgets/base",
            "_model_module_version": "1.2.0",
            "_model_name": "LayoutModel",
            "_view_count": null,
            "_view_module": "@jupyter-widgets/base",
            "_view_module_version": "1.2.0",
            "_view_name": "LayoutView",
            "align_content": null,
            "align_items": null,
            "align_self": null,
            "border": null,
            "bottom": null,
            "display": null,
            "flex": null,
            "flex_flow": null,
            "grid_area": null,
            "grid_auto_columns": null,
            "grid_auto_flow": null,
            "grid_auto_rows": null,
            "grid_column": null,
            "grid_gap": null,
            "grid_row": null,
            "grid_template_areas": null,
            "grid_template_columns": null,
            "grid_template_rows": null,
            "height": null,
            "justify_content": null,
            "justify_items": null,
            "left": null,
            "margin": null,
            "max_height": null,
            "max_width": null,
            "min_height": null,
            "min_width": null,
            "object_fit": null,
            "object_position": null,
            "order": null,
            "overflow": null,
            "overflow_x": null,
            "overflow_y": null,
            "padding": null,
            "right": null,
            "top": null,
            "visibility": null,
            "width": null
          }
        },
        "4e5cc802b0c94c338b1f7d8d8b767036": {
          "model_module": "@jupyter-widgets/controls",
          "model_name": "DescriptionStyleModel",
          "model_module_version": "1.5.0",
          "state": {
            "_model_module": "@jupyter-widgets/controls",
            "_model_module_version": "1.5.0",
            "_model_name": "DescriptionStyleModel",
            "_view_count": null,
            "_view_module": "@jupyter-widgets/base",
            "_view_module_version": "1.2.0",
            "_view_name": "StyleView",
            "description_width": ""
          }
        },
        "20fbdad0961f41f6928dd98a1b3dbb86": {
          "model_module": "@jupyter-widgets/controls",
          "model_name": "HBoxModel",
          "model_module_version": "1.5.0",
          "state": {
            "_dom_classes": [],
            "_model_module": "@jupyter-widgets/controls",
            "_model_module_version": "1.5.0",
            "_model_name": "HBoxModel",
            "_view_count": null,
            "_view_module": "@jupyter-widgets/controls",
            "_view_module_version": "1.5.0",
            "_view_name": "HBoxView",
            "box_style": "",
            "children": [
              "IPY_MODEL_c5bacc7fab034af59691f26b806474c1",
              "IPY_MODEL_6e0ac03f8096481b879f36832b9deaf2",
              "IPY_MODEL_b357b88f203d4536889b82a9e0f388c6"
            ],
            "layout": "IPY_MODEL_c7ba853257da4bc7bd3143946f6b24a3"
          }
        },
        "c5bacc7fab034af59691f26b806474c1": {
          "model_module": "@jupyter-widgets/controls",
          "model_name": "HTMLModel",
          "model_module_version": "1.5.0",
          "state": {
            "_dom_classes": [],
            "_model_module": "@jupyter-widgets/controls",
            "_model_module_version": "1.5.0",
            "_model_name": "HTMLModel",
            "_view_count": null,
            "_view_module": "@jupyter-widgets/controls",
            "_view_module_version": "1.5.0",
            "_view_name": "HTMLView",
            "description": "",
            "description_tooltip": null,
            "layout": "IPY_MODEL_7e637408f4b94d299452478849c09f3a",
            "placeholder": "​",
            "style": "IPY_MODEL_0502425107d74aa497149a16e96e8bd9",
            "value": "Downloading: 100%"
          }
        },
        "6e0ac03f8096481b879f36832b9deaf2": {
          "model_module": "@jupyter-widgets/controls",
          "model_name": "FloatProgressModel",
          "model_module_version": "1.5.0",
          "state": {
            "_dom_classes": [],
            "_model_module": "@jupyter-widgets/controls",
            "_model_module_version": "1.5.0",
            "_model_name": "FloatProgressModel",
            "_view_count": null,
            "_view_module": "@jupyter-widgets/controls",
            "_view_module_version": "1.5.0",
            "_view_name": "ProgressView",
            "bar_style": "success",
            "description": "",
            "description_tooltip": null,
            "layout": "IPY_MODEL_bc698994b3cd489d8b20347fad98529b",
            "max": 1236,
            "min": 0,
            "orientation": "horizontal",
            "style": "IPY_MODEL_79ae1ac9ada0475695e6b1d83c142985",
            "value": 1236
          }
        },
        "b357b88f203d4536889b82a9e0f388c6": {
          "model_module": "@jupyter-widgets/controls",
          "model_name": "HTMLModel",
          "model_module_version": "1.5.0",
          "state": {
            "_dom_classes": [],
            "_model_module": "@jupyter-widgets/controls",
            "_model_module_version": "1.5.0",
            "_model_name": "HTMLModel",
            "_view_count": null,
            "_view_module": "@jupyter-widgets/controls",
            "_view_module_version": "1.5.0",
            "_view_name": "HTMLView",
            "description": "",
            "description_tooltip": null,
            "layout": "IPY_MODEL_f1350def4f484fb3a4ac594a9b2132b6",
            "placeholder": "​",
            "style": "IPY_MODEL_5f8aa00383124001946b837b29281c2b",
            "value": " 1.21k/1.21k [00:00&lt;00:00, 25.4kB/s]"
          }
        },
        "c7ba853257da4bc7bd3143946f6b24a3": {
          "model_module": "@jupyter-widgets/base",
          "model_name": "LayoutModel",
          "model_module_version": "1.2.0",
          "state": {
            "_model_module": "@jupyter-widgets/base",
            "_model_module_version": "1.2.0",
            "_model_name": "LayoutModel",
            "_view_count": null,
            "_view_module": "@jupyter-widgets/base",
            "_view_module_version": "1.2.0",
            "_view_name": "LayoutView",
            "align_content": null,
            "align_items": null,
            "align_self": null,
            "border": null,
            "bottom": null,
            "display": null,
            "flex": null,
            "flex_flow": null,
            "grid_area": null,
            "grid_auto_columns": null,
            "grid_auto_flow": null,
            "grid_auto_rows": null,
            "grid_column": null,
            "grid_gap": null,
            "grid_row": null,
            "grid_template_areas": null,
            "grid_template_columns": null,
            "grid_template_rows": null,
            "height": null,
            "justify_content": null,
            "justify_items": null,
            "left": null,
            "margin": null,
            "max_height": null,
            "max_width": null,
            "min_height": null,
            "min_width": null,
            "object_fit": null,
            "object_position": null,
            "order": null,
            "overflow": null,
            "overflow_x": null,
            "overflow_y": null,
            "padding": null,
            "right": null,
            "top": null,
            "visibility": null,
            "width": null
          }
        },
        "7e637408f4b94d299452478849c09f3a": {
          "model_module": "@jupyter-widgets/base",
          "model_name": "LayoutModel",
          "model_module_version": "1.2.0",
          "state": {
            "_model_module": "@jupyter-widgets/base",
            "_model_module_version": "1.2.0",
            "_model_name": "LayoutModel",
            "_view_count": null,
            "_view_module": "@jupyter-widgets/base",
            "_view_module_version": "1.2.0",
            "_view_name": "LayoutView",
            "align_content": null,
            "align_items": null,
            "align_self": null,
            "border": null,
            "bottom": null,
            "display": null,
            "flex": null,
            "flex_flow": null,
            "grid_area": null,
            "grid_auto_columns": null,
            "grid_auto_flow": null,
            "grid_auto_rows": null,
            "grid_column": null,
            "grid_gap": null,
            "grid_row": null,
            "grid_template_areas": null,
            "grid_template_columns": null,
            "grid_template_rows": null,
            "height": null,
            "justify_content": null,
            "justify_items": null,
            "left": null,
            "margin": null,
            "max_height": null,
            "max_width": null,
            "min_height": null,
            "min_width": null,
            "object_fit": null,
            "object_position": null,
            "order": null,
            "overflow": null,
            "overflow_x": null,
            "overflow_y": null,
            "padding": null,
            "right": null,
            "top": null,
            "visibility": null,
            "width": null
          }
        },
        "0502425107d74aa497149a16e96e8bd9": {
          "model_module": "@jupyter-widgets/controls",
          "model_name": "DescriptionStyleModel",
          "model_module_version": "1.5.0",
          "state": {
            "_model_module": "@jupyter-widgets/controls",
            "_model_module_version": "1.5.0",
            "_model_name": "DescriptionStyleModel",
            "_view_count": null,
            "_view_module": "@jupyter-widgets/base",
            "_view_module_version": "1.2.0",
            "_view_name": "StyleView",
            "description_width": ""
          }
        },
        "bc698994b3cd489d8b20347fad98529b": {
          "model_module": "@jupyter-widgets/base",
          "model_name": "LayoutModel",
          "model_module_version": "1.2.0",
          "state": {
            "_model_module": "@jupyter-widgets/base",
            "_model_module_version": "1.2.0",
            "_model_name": "LayoutModel",
            "_view_count": null,
            "_view_module": "@jupyter-widgets/base",
            "_view_module_version": "1.2.0",
            "_view_name": "LayoutView",
            "align_content": null,
            "align_items": null,
            "align_self": null,
            "border": null,
            "bottom": null,
            "display": null,
            "flex": null,
            "flex_flow": null,
            "grid_area": null,
            "grid_auto_columns": null,
            "grid_auto_flow": null,
            "grid_auto_rows": null,
            "grid_column": null,
            "grid_gap": null,
            "grid_row": null,
            "grid_template_areas": null,
            "grid_template_columns": null,
            "grid_template_rows": null,
            "height": null,
            "justify_content": null,
            "justify_items": null,
            "left": null,
            "margin": null,
            "max_height": null,
            "max_width": null,
            "min_height": null,
            "min_width": null,
            "object_fit": null,
            "object_position": null,
            "order": null,
            "overflow": null,
            "overflow_x": null,
            "overflow_y": null,
            "padding": null,
            "right": null,
            "top": null,
            "visibility": null,
            "width": null
          }
        },
        "79ae1ac9ada0475695e6b1d83c142985": {
          "model_module": "@jupyter-widgets/controls",
          "model_name": "ProgressStyleModel",
          "model_module_version": "1.5.0",
          "state": {
            "_model_module": "@jupyter-widgets/controls",
            "_model_module_version": "1.5.0",
            "_model_name": "ProgressStyleModel",
            "_view_count": null,
            "_view_module": "@jupyter-widgets/base",
            "_view_module_version": "1.2.0",
            "_view_name": "StyleView",
            "bar_color": null,
            "description_width": ""
          }
        },
        "f1350def4f484fb3a4ac594a9b2132b6": {
          "model_module": "@jupyter-widgets/base",
          "model_name": "LayoutModel",
          "model_module_version": "1.2.0",
          "state": {
            "_model_module": "@jupyter-widgets/base",
            "_model_module_version": "1.2.0",
            "_model_name": "LayoutModel",
            "_view_count": null,
            "_view_module": "@jupyter-widgets/base",
            "_view_module_version": "1.2.0",
            "_view_name": "LayoutView",
            "align_content": null,
            "align_items": null,
            "align_self": null,
            "border": null,
            "bottom": null,
            "display": null,
            "flex": null,
            "flex_flow": null,
            "grid_area": null,
            "grid_auto_columns": null,
            "grid_auto_flow": null,
            "grid_auto_rows": null,
            "grid_column": null,
            "grid_gap": null,
            "grid_row": null,
            "grid_template_areas": null,
            "grid_template_columns": null,
            "grid_template_rows": null,
            "height": null,
            "justify_content": null,
            "justify_items": null,
            "left": null,
            "margin": null,
            "max_height": null,
            "max_width": null,
            "min_height": null,
            "min_width": null,
            "object_fit": null,
            "object_position": null,
            "order": null,
            "overflow": null,
            "overflow_x": null,
            "overflow_y": null,
            "padding": null,
            "right": null,
            "top": null,
            "visibility": null,
            "width": null
          }
        },
        "5f8aa00383124001946b837b29281c2b": {
          "model_module": "@jupyter-widgets/controls",
          "model_name": "DescriptionStyleModel",
          "model_module_version": "1.5.0",
          "state": {
            "_model_module": "@jupyter-widgets/controls",
            "_model_module_version": "1.5.0",
            "_model_name": "DescriptionStyleModel",
            "_view_count": null,
            "_view_module": "@jupyter-widgets/base",
            "_view_module_version": "1.2.0",
            "_view_name": "StyleView",
            "description_width": ""
          }
        },
        "4856603df9b040c18ad423eaef30b6fe": {
          "model_module": "@jupyter-widgets/controls",
          "model_name": "HBoxModel",
          "model_module_version": "1.5.0",
          "state": {
            "_dom_classes": [],
            "_model_module": "@jupyter-widgets/controls",
            "_model_module_version": "1.5.0",
            "_model_name": "HBoxModel",
            "_view_count": null,
            "_view_module": "@jupyter-widgets/controls",
            "_view_module_version": "1.5.0",
            "_view_name": "HBoxView",
            "box_style": "",
            "children": [
              "IPY_MODEL_3b493bfdffd04d68b265003c8a17a1d8",
              "IPY_MODEL_635d6303f4084e88954571cd0d55610c",
              "IPY_MODEL_561a3bfaa06148a8adea1789bb57e9ce"
            ],
            "layout": "IPY_MODEL_04d6ad3e3a554ce3bf42ce6a6e5e3532"
          }
        },
        "3b493bfdffd04d68b265003c8a17a1d8": {
          "model_module": "@jupyter-widgets/controls",
          "model_name": "HTMLModel",
          "model_module_version": "1.5.0",
          "state": {
            "_dom_classes": [],
            "_model_module": "@jupyter-widgets/controls",
            "_model_module_version": "1.5.0",
            "_model_name": "HTMLModel",
            "_view_count": null,
            "_view_module": "@jupyter-widgets/controls",
            "_view_module_version": "1.5.0",
            "_view_name": "HTMLView",
            "description": "",
            "description_tooltip": null,
            "layout": "IPY_MODEL_e876a3f77de54d7393df0ceb3692f0f4",
            "placeholder": "​",
            "style": "IPY_MODEL_3272ab5aba6747d7bd0b525d315fa600",
            "value": "Downloading: 100%"
          }
        },
        "635d6303f4084e88954571cd0d55610c": {
          "model_module": "@jupyter-widgets/controls",
          "model_name": "FloatProgressModel",
          "model_module_version": "1.5.0",
          "state": {
            "_dom_classes": [],
            "_model_module": "@jupyter-widgets/controls",
            "_model_module_version": "1.5.0",
            "_model_name": "FloatProgressModel",
            "_view_count": null,
            "_view_module": "@jupyter-widgets/controls",
            "_view_module_version": "1.5.0",
            "_view_name": "ProgressView",
            "bar_style": "success",
            "description": "",
            "description_tooltip": null,
            "layout": "IPY_MODEL_ca2e955368bd48be918224aa254c3f40",
            "max": 891695056,
            "min": 0,
            "orientation": "horizontal",
            "style": "IPY_MODEL_7d2db0dae76a44daada5af19bec6bc03",
            "value": 891695056
          }
        },
        "561a3bfaa06148a8adea1789bb57e9ce": {
          "model_module": "@jupyter-widgets/controls",
          "model_name": "HTMLModel",
          "model_module_version": "1.5.0",
          "state": {
            "_dom_classes": [],
            "_model_module": "@jupyter-widgets/controls",
            "_model_module_version": "1.5.0",
            "_model_name": "HTMLModel",
            "_view_count": null,
            "_view_module": "@jupyter-widgets/controls",
            "_view_module_version": "1.5.0",
            "_view_name": "HTMLView",
            "description": "",
            "description_tooltip": null,
            "layout": "IPY_MODEL_5822cf6161ff4b719267ec4ed21ce200",
            "placeholder": "​",
            "style": "IPY_MODEL_db1588a91a404c239d88474a5b869912",
            "value": " 850M/850M [00:26&lt;00:00, 42.1MB/s]"
          }
        },
        "04d6ad3e3a554ce3bf42ce6a6e5e3532": {
          "model_module": "@jupyter-widgets/base",
          "model_name": "LayoutModel",
          "model_module_version": "1.2.0",
          "state": {
            "_model_module": "@jupyter-widgets/base",
            "_model_module_version": "1.2.0",
            "_model_name": "LayoutModel",
            "_view_count": null,
            "_view_module": "@jupyter-widgets/base",
            "_view_module_version": "1.2.0",
            "_view_name": "LayoutView",
            "align_content": null,
            "align_items": null,
            "align_self": null,
            "border": null,
            "bottom": null,
            "display": null,
            "flex": null,
            "flex_flow": null,
            "grid_area": null,
            "grid_auto_columns": null,
            "grid_auto_flow": null,
            "grid_auto_rows": null,
            "grid_column": null,
            "grid_gap": null,
            "grid_row": null,
            "grid_template_areas": null,
            "grid_template_columns": null,
            "grid_template_rows": null,
            "height": null,
            "justify_content": null,
            "justify_items": null,
            "left": null,
            "margin": null,
            "max_height": null,
            "max_width": null,
            "min_height": null,
            "min_width": null,
            "object_fit": null,
            "object_position": null,
            "order": null,
            "overflow": null,
            "overflow_x": null,
            "overflow_y": null,
            "padding": null,
            "right": null,
            "top": null,
            "visibility": null,
            "width": null
          }
        },
        "e876a3f77de54d7393df0ceb3692f0f4": {
          "model_module": "@jupyter-widgets/base",
          "model_name": "LayoutModel",
          "model_module_version": "1.2.0",
          "state": {
            "_model_module": "@jupyter-widgets/base",
            "_model_module_version": "1.2.0",
            "_model_name": "LayoutModel",
            "_view_count": null,
            "_view_module": "@jupyter-widgets/base",
            "_view_module_version": "1.2.0",
            "_view_name": "LayoutView",
            "align_content": null,
            "align_items": null,
            "align_self": null,
            "border": null,
            "bottom": null,
            "display": null,
            "flex": null,
            "flex_flow": null,
            "grid_area": null,
            "grid_auto_columns": null,
            "grid_auto_flow": null,
            "grid_auto_rows": null,
            "grid_column": null,
            "grid_gap": null,
            "grid_row": null,
            "grid_template_areas": null,
            "grid_template_columns": null,
            "grid_template_rows": null,
            "height": null,
            "justify_content": null,
            "justify_items": null,
            "left": null,
            "margin": null,
            "max_height": null,
            "max_width": null,
            "min_height": null,
            "min_width": null,
            "object_fit": null,
            "object_position": null,
            "order": null,
            "overflow": null,
            "overflow_x": null,
            "overflow_y": null,
            "padding": null,
            "right": null,
            "top": null,
            "visibility": null,
            "width": null
          }
        },
        "3272ab5aba6747d7bd0b525d315fa600": {
          "model_module": "@jupyter-widgets/controls",
          "model_name": "DescriptionStyleModel",
          "model_module_version": "1.5.0",
          "state": {
            "_model_module": "@jupyter-widgets/controls",
            "_model_module_version": "1.5.0",
            "_model_name": "DescriptionStyleModel",
            "_view_count": null,
            "_view_module": "@jupyter-widgets/base",
            "_view_module_version": "1.2.0",
            "_view_name": "StyleView",
            "description_width": ""
          }
        },
        "ca2e955368bd48be918224aa254c3f40": {
          "model_module": "@jupyter-widgets/base",
          "model_name": "LayoutModel",
          "model_module_version": "1.2.0",
          "state": {
            "_model_module": "@jupyter-widgets/base",
            "_model_module_version": "1.2.0",
            "_model_name": "LayoutModel",
            "_view_count": null,
            "_view_module": "@jupyter-widgets/base",
            "_view_module_version": "1.2.0",
            "_view_name": "LayoutView",
            "align_content": null,
            "align_items": null,
            "align_self": null,
            "border": null,
            "bottom": null,
            "display": null,
            "flex": null,
            "flex_flow": null,
            "grid_area": null,
            "grid_auto_columns": null,
            "grid_auto_flow": null,
            "grid_auto_rows": null,
            "grid_column": null,
            "grid_gap": null,
            "grid_row": null,
            "grid_template_areas": null,
            "grid_template_columns": null,
            "grid_template_rows": null,
            "height": null,
            "justify_content": null,
            "justify_items": null,
            "left": null,
            "margin": null,
            "max_height": null,
            "max_width": null,
            "min_height": null,
            "min_width": null,
            "object_fit": null,
            "object_position": null,
            "order": null,
            "overflow": null,
            "overflow_x": null,
            "overflow_y": null,
            "padding": null,
            "right": null,
            "top": null,
            "visibility": null,
            "width": null
          }
        },
        "7d2db0dae76a44daada5af19bec6bc03": {
          "model_module": "@jupyter-widgets/controls",
          "model_name": "ProgressStyleModel",
          "model_module_version": "1.5.0",
          "state": {
            "_model_module": "@jupyter-widgets/controls",
            "_model_module_version": "1.5.0",
            "_model_name": "ProgressStyleModel",
            "_view_count": null,
            "_view_module": "@jupyter-widgets/base",
            "_view_module_version": "1.2.0",
            "_view_name": "StyleView",
            "bar_color": null,
            "description_width": ""
          }
        },
        "5822cf6161ff4b719267ec4ed21ce200": {
          "model_module": "@jupyter-widgets/base",
          "model_name": "LayoutModel",
          "model_module_version": "1.2.0",
          "state": {
            "_model_module": "@jupyter-widgets/base",
            "_model_module_version": "1.2.0",
            "_model_name": "LayoutModel",
            "_view_count": null,
            "_view_module": "@jupyter-widgets/base",
            "_view_module_version": "1.2.0",
            "_view_name": "LayoutView",
            "align_content": null,
            "align_items": null,
            "align_self": null,
            "border": null,
            "bottom": null,
            "display": null,
            "flex": null,
            "flex_flow": null,
            "grid_area": null,
            "grid_auto_columns": null,
            "grid_auto_flow": null,
            "grid_auto_rows": null,
            "grid_column": null,
            "grid_gap": null,
            "grid_row": null,
            "grid_template_areas": null,
            "grid_template_columns": null,
            "grid_template_rows": null,
            "height": null,
            "justify_content": null,
            "justify_items": null,
            "left": null,
            "margin": null,
            "max_height": null,
            "max_width": null,
            "min_height": null,
            "min_width": null,
            "object_fit": null,
            "object_position": null,
            "order": null,
            "overflow": null,
            "overflow_x": null,
            "overflow_y": null,
            "padding": null,
            "right": null,
            "top": null,
            "visibility": null,
            "width": null
          }
        },
        "db1588a91a404c239d88474a5b869912": {
          "model_module": "@jupyter-widgets/controls",
          "model_name": "DescriptionStyleModel",
          "model_module_version": "1.5.0",
          "state": {
            "_model_module": "@jupyter-widgets/controls",
            "_model_module_version": "1.5.0",
            "_model_name": "DescriptionStyleModel",
            "_view_count": null,
            "_view_module": "@jupyter-widgets/base",
            "_view_module_version": "1.2.0",
            "_view_name": "StyleView",
            "description_width": ""
          }
        },
        "6d54777d4f774a8c91fade86a627cd0c": {
          "model_module": "@jupyter-widgets/controls",
          "model_name": "HBoxModel",
          "model_module_version": "1.5.0",
          "state": {
            "_dom_classes": [],
            "_model_module": "@jupyter-widgets/controls",
            "_model_module_version": "1.5.0",
            "_model_name": "HBoxModel",
            "_view_count": null,
            "_view_module": "@jupyter-widgets/controls",
            "_view_module_version": "1.5.0",
            "_view_name": "HBoxView",
            "box_style": "",
            "children": [
              "IPY_MODEL_792b0464a7ae4e46967059a7cf6b5024",
              "IPY_MODEL_29e4c8f1b34e449884db7b380aac813d",
              "IPY_MODEL_8adc8c78f17d4659a6f3fc8b22338a4e"
            ],
            "layout": "IPY_MODEL_7df3cb40d3694c8aa98dd0eb9982e9aa"
          }
        },
        "792b0464a7ae4e46967059a7cf6b5024": {
          "model_module": "@jupyter-widgets/controls",
          "model_name": "HTMLModel",
          "model_module_version": "1.5.0",
          "state": {
            "_dom_classes": [],
            "_model_module": "@jupyter-widgets/controls",
            "_model_module_version": "1.5.0",
            "_model_name": "HTMLModel",
            "_view_count": null,
            "_view_module": "@jupyter-widgets/controls",
            "_view_module_version": "1.5.0",
            "_view_name": "HTMLView",
            "description": "",
            "description_tooltip": null,
            "layout": "IPY_MODEL_864a5a4196344fe39ae669cd4f5d3202",
            "placeholder": "​",
            "style": "IPY_MODEL_ed1f5543afb24dcf93843f6524b471ad",
            "value": "Downloading: 100%"
          }
        },
        "29e4c8f1b34e449884db7b380aac813d": {
          "model_module": "@jupyter-widgets/controls",
          "model_name": "FloatProgressModel",
          "model_module_version": "1.5.0",
          "state": {
            "_dom_classes": [],
            "_model_module": "@jupyter-widgets/controls",
            "_model_module_version": "1.5.0",
            "_model_name": "FloatProgressModel",
            "_view_count": null,
            "_view_module": "@jupyter-widgets/controls",
            "_view_module_version": "1.5.0",
            "_view_name": "ProgressView",
            "bar_style": "success",
            "description": "",
            "description_tooltip": null,
            "layout": "IPY_MODEL_1d90a0c1131045948c9cf94fa44294b1",
            "max": 43,
            "min": 0,
            "orientation": "horizontal",
            "style": "IPY_MODEL_1f913b52d9504db7a104cde8ab7128bc",
            "value": 43
          }
        },
        "8adc8c78f17d4659a6f3fc8b22338a4e": {
          "model_module": "@jupyter-widgets/controls",
          "model_name": "HTMLModel",
          "model_module_version": "1.5.0",
          "state": {
            "_dom_classes": [],
            "_model_module": "@jupyter-widgets/controls",
            "_model_module_version": "1.5.0",
            "_model_name": "HTMLModel",
            "_view_count": null,
            "_view_module": "@jupyter-widgets/controls",
            "_view_module_version": "1.5.0",
            "_view_name": "HTMLView",
            "description": "",
            "description_tooltip": null,
            "layout": "IPY_MODEL_59624d78e9864259926e6dc94d17d132",
            "placeholder": "​",
            "style": "IPY_MODEL_c99330e86a5e43eca828c938a33ed317",
            "value": " 43.0/43.0 [00:00&lt;00:00, 989B/s]"
          }
        },
        "7df3cb40d3694c8aa98dd0eb9982e9aa": {
          "model_module": "@jupyter-widgets/base",
          "model_name": "LayoutModel",
          "model_module_version": "1.2.0",
          "state": {
            "_model_module": "@jupyter-widgets/base",
            "_model_module_version": "1.2.0",
            "_model_name": "LayoutModel",
            "_view_count": null,
            "_view_module": "@jupyter-widgets/base",
            "_view_module_version": "1.2.0",
            "_view_name": "LayoutView",
            "align_content": null,
            "align_items": null,
            "align_self": null,
            "border": null,
            "bottom": null,
            "display": null,
            "flex": null,
            "flex_flow": null,
            "grid_area": null,
            "grid_auto_columns": null,
            "grid_auto_flow": null,
            "grid_auto_rows": null,
            "grid_column": null,
            "grid_gap": null,
            "grid_row": null,
            "grid_template_areas": null,
            "grid_template_columns": null,
            "grid_template_rows": null,
            "height": null,
            "justify_content": null,
            "justify_items": null,
            "left": null,
            "margin": null,
            "max_height": null,
            "max_width": null,
            "min_height": null,
            "min_width": null,
            "object_fit": null,
            "object_position": null,
            "order": null,
            "overflow": null,
            "overflow_x": null,
            "overflow_y": null,
            "padding": null,
            "right": null,
            "top": null,
            "visibility": null,
            "width": null
          }
        },
        "864a5a4196344fe39ae669cd4f5d3202": {
          "model_module": "@jupyter-widgets/base",
          "model_name": "LayoutModel",
          "model_module_version": "1.2.0",
          "state": {
            "_model_module": "@jupyter-widgets/base",
            "_model_module_version": "1.2.0",
            "_model_name": "LayoutModel",
            "_view_count": null,
            "_view_module": "@jupyter-widgets/base",
            "_view_module_version": "1.2.0",
            "_view_name": "LayoutView",
            "align_content": null,
            "align_items": null,
            "align_self": null,
            "border": null,
            "bottom": null,
            "display": null,
            "flex": null,
            "flex_flow": null,
            "grid_area": null,
            "grid_auto_columns": null,
            "grid_auto_flow": null,
            "grid_auto_rows": null,
            "grid_column": null,
            "grid_gap": null,
            "grid_row": null,
            "grid_template_areas": null,
            "grid_template_columns": null,
            "grid_template_rows": null,
            "height": null,
            "justify_content": null,
            "justify_items": null,
            "left": null,
            "margin": null,
            "max_height": null,
            "max_width": null,
            "min_height": null,
            "min_width": null,
            "object_fit": null,
            "object_position": null,
            "order": null,
            "overflow": null,
            "overflow_x": null,
            "overflow_y": null,
            "padding": null,
            "right": null,
            "top": null,
            "visibility": null,
            "width": null
          }
        },
        "ed1f5543afb24dcf93843f6524b471ad": {
          "model_module": "@jupyter-widgets/controls",
          "model_name": "DescriptionStyleModel",
          "model_module_version": "1.5.0",
          "state": {
            "_model_module": "@jupyter-widgets/controls",
            "_model_module_version": "1.5.0",
            "_model_name": "DescriptionStyleModel",
            "_view_count": null,
            "_view_module": "@jupyter-widgets/base",
            "_view_module_version": "1.2.0",
            "_view_name": "StyleView",
            "description_width": ""
          }
        },
        "1d90a0c1131045948c9cf94fa44294b1": {
          "model_module": "@jupyter-widgets/base",
          "model_name": "LayoutModel",
          "model_module_version": "1.2.0",
          "state": {
            "_model_module": "@jupyter-widgets/base",
            "_model_module_version": "1.2.0",
            "_model_name": "LayoutModel",
            "_view_count": null,
            "_view_module": "@jupyter-widgets/base",
            "_view_module_version": "1.2.0",
            "_view_name": "LayoutView",
            "align_content": null,
            "align_items": null,
            "align_self": null,
            "border": null,
            "bottom": null,
            "display": null,
            "flex": null,
            "flex_flow": null,
            "grid_area": null,
            "grid_auto_columns": null,
            "grid_auto_flow": null,
            "grid_auto_rows": null,
            "grid_column": null,
            "grid_gap": null,
            "grid_row": null,
            "grid_template_areas": null,
            "grid_template_columns": null,
            "grid_template_rows": null,
            "height": null,
            "justify_content": null,
            "justify_items": null,
            "left": null,
            "margin": null,
            "max_height": null,
            "max_width": null,
            "min_height": null,
            "min_width": null,
            "object_fit": null,
            "object_position": null,
            "order": null,
            "overflow": null,
            "overflow_x": null,
            "overflow_y": null,
            "padding": null,
            "right": null,
            "top": null,
            "visibility": null,
            "width": null
          }
        },
        "1f913b52d9504db7a104cde8ab7128bc": {
          "model_module": "@jupyter-widgets/controls",
          "model_name": "ProgressStyleModel",
          "model_module_version": "1.5.0",
          "state": {
            "_model_module": "@jupyter-widgets/controls",
            "_model_module_version": "1.5.0",
            "_model_name": "ProgressStyleModel",
            "_view_count": null,
            "_view_module": "@jupyter-widgets/base",
            "_view_module_version": "1.2.0",
            "_view_name": "StyleView",
            "bar_color": null,
            "description_width": ""
          }
        },
        "59624d78e9864259926e6dc94d17d132": {
          "model_module": "@jupyter-widgets/base",
          "model_name": "LayoutModel",
          "model_module_version": "1.2.0",
          "state": {
            "_model_module": "@jupyter-widgets/base",
            "_model_module_version": "1.2.0",
            "_model_name": "LayoutModel",
            "_view_count": null,
            "_view_module": "@jupyter-widgets/base",
            "_view_module_version": "1.2.0",
            "_view_name": "LayoutView",
            "align_content": null,
            "align_items": null,
            "align_self": null,
            "border": null,
            "bottom": null,
            "display": null,
            "flex": null,
            "flex_flow": null,
            "grid_area": null,
            "grid_auto_columns": null,
            "grid_auto_flow": null,
            "grid_auto_rows": null,
            "grid_column": null,
            "grid_gap": null,
            "grid_row": null,
            "grid_template_areas": null,
            "grid_template_columns": null,
            "grid_template_rows": null,
            "height": null,
            "justify_content": null,
            "justify_items": null,
            "left": null,
            "margin": null,
            "max_height": null,
            "max_width": null,
            "min_height": null,
            "min_width": null,
            "object_fit": null,
            "object_position": null,
            "order": null,
            "overflow": null,
            "overflow_x": null,
            "overflow_y": null,
            "padding": null,
            "right": null,
            "top": null,
            "visibility": null,
            "width": null
          }
        },
        "c99330e86a5e43eca828c938a33ed317": {
          "model_module": "@jupyter-widgets/controls",
          "model_name": "DescriptionStyleModel",
          "model_module_version": "1.5.0",
          "state": {
            "_model_module": "@jupyter-widgets/controls",
            "_model_module_version": "1.5.0",
            "_model_name": "DescriptionStyleModel",
            "_view_count": null,
            "_view_module": "@jupyter-widgets/base",
            "_view_module_version": "1.2.0",
            "_view_name": "StyleView",
            "description_width": ""
          }
        },
        "1bfa9e589b2847fc84f923f1c42f4a43": {
          "model_module": "@jupyter-widgets/controls",
          "model_name": "HBoxModel",
          "model_module_version": "1.5.0",
          "state": {
            "_dom_classes": [],
            "_model_module": "@jupyter-widgets/controls",
            "_model_module_version": "1.5.0",
            "_model_name": "HBoxModel",
            "_view_count": null,
            "_view_module": "@jupyter-widgets/controls",
            "_view_module_version": "1.5.0",
            "_view_name": "HBoxView",
            "box_style": "",
            "children": [
              "IPY_MODEL_e8d5b3dd1f1c432a9294fc3ad1f0b312",
              "IPY_MODEL_c64511702e0646dea61585ca630798ef",
              "IPY_MODEL_c8757a5d5f20402ea0498b7c5b394df2"
            ],
            "layout": "IPY_MODEL_7460df24bc1640ae9fa8d452028c8027"
          }
        },
        "e8d5b3dd1f1c432a9294fc3ad1f0b312": {
          "model_module": "@jupyter-widgets/controls",
          "model_name": "HTMLModel",
          "model_module_version": "1.5.0",
          "state": {
            "_dom_classes": [],
            "_model_module": "@jupyter-widgets/controls",
            "_model_module_version": "1.5.0",
            "_model_name": "HTMLModel",
            "_view_count": null,
            "_view_module": "@jupyter-widgets/controls",
            "_view_module_version": "1.5.0",
            "_view_name": "HTMLView",
            "description": "",
            "description_tooltip": null,
            "layout": "IPY_MODEL_4e99a47514fb4b2f81a03bc4495115e8",
            "placeholder": "​",
            "style": "IPY_MODEL_c5f53f0b2ef441239b1f2382b4728989",
            "value": "Downloading: 100%"
          }
        },
        "c64511702e0646dea61585ca630798ef": {
          "model_module": "@jupyter-widgets/controls",
          "model_name": "FloatProgressModel",
          "model_module_version": "1.5.0",
          "state": {
            "_dom_classes": [],
            "_model_module": "@jupyter-widgets/controls",
            "_model_module_version": "1.5.0",
            "_model_name": "FloatProgressModel",
            "_view_count": null,
            "_view_module": "@jupyter-widgets/controls",
            "_view_module_version": "1.5.0",
            "_view_name": "ProgressView",
            "bar_style": "success",
            "description": "",
            "description_tooltip": null,
            "layout": "IPY_MODEL_c365eaa1846840768002367640181241",
            "max": 791656,
            "min": 0,
            "orientation": "horizontal",
            "style": "IPY_MODEL_fb2c6e70afcf4befac1442e798f628c5",
            "value": 791656
          }
        },
        "c8757a5d5f20402ea0498b7c5b394df2": {
          "model_module": "@jupyter-widgets/controls",
          "model_name": "HTMLModel",
          "model_module_version": "1.5.0",
          "state": {
            "_dom_classes": [],
            "_model_module": "@jupyter-widgets/controls",
            "_model_module_version": "1.5.0",
            "_model_name": "HTMLModel",
            "_view_count": null,
            "_view_module": "@jupyter-widgets/controls",
            "_view_module_version": "1.5.0",
            "_view_name": "HTMLView",
            "description": "",
            "description_tooltip": null,
            "layout": "IPY_MODEL_36e317e3997f4048b27f325c7275d69b",
            "placeholder": "​",
            "style": "IPY_MODEL_987a01d02e9a423eb921027539ae09d5",
            "value": " 773k/773k [00:00&lt;00:00, 1.61MB/s]"
          }
        },
        "7460df24bc1640ae9fa8d452028c8027": {
          "model_module": "@jupyter-widgets/base",
          "model_name": "LayoutModel",
          "model_module_version": "1.2.0",
          "state": {
            "_model_module": "@jupyter-widgets/base",
            "_model_module_version": "1.2.0",
            "_model_name": "LayoutModel",
            "_view_count": null,
            "_view_module": "@jupyter-widgets/base",
            "_view_module_version": "1.2.0",
            "_view_name": "LayoutView",
            "align_content": null,
            "align_items": null,
            "align_self": null,
            "border": null,
            "bottom": null,
            "display": null,
            "flex": null,
            "flex_flow": null,
            "grid_area": null,
            "grid_auto_columns": null,
            "grid_auto_flow": null,
            "grid_auto_rows": null,
            "grid_column": null,
            "grid_gap": null,
            "grid_row": null,
            "grid_template_areas": null,
            "grid_template_columns": null,
            "grid_template_rows": null,
            "height": null,
            "justify_content": null,
            "justify_items": null,
            "left": null,
            "margin": null,
            "max_height": null,
            "max_width": null,
            "min_height": null,
            "min_width": null,
            "object_fit": null,
            "object_position": null,
            "order": null,
            "overflow": null,
            "overflow_x": null,
            "overflow_y": null,
            "padding": null,
            "right": null,
            "top": null,
            "visibility": null,
            "width": null
          }
        },
        "4e99a47514fb4b2f81a03bc4495115e8": {
          "model_module": "@jupyter-widgets/base",
          "model_name": "LayoutModel",
          "model_module_version": "1.2.0",
          "state": {
            "_model_module": "@jupyter-widgets/base",
            "_model_module_version": "1.2.0",
            "_model_name": "LayoutModel",
            "_view_count": null,
            "_view_module": "@jupyter-widgets/base",
            "_view_module_version": "1.2.0",
            "_view_name": "LayoutView",
            "align_content": null,
            "align_items": null,
            "align_self": null,
            "border": null,
            "bottom": null,
            "display": null,
            "flex": null,
            "flex_flow": null,
            "grid_area": null,
            "grid_auto_columns": null,
            "grid_auto_flow": null,
            "grid_auto_rows": null,
            "grid_column": null,
            "grid_gap": null,
            "grid_row": null,
            "grid_template_areas": null,
            "grid_template_columns": null,
            "grid_template_rows": null,
            "height": null,
            "justify_content": null,
            "justify_items": null,
            "left": null,
            "margin": null,
            "max_height": null,
            "max_width": null,
            "min_height": null,
            "min_width": null,
            "object_fit": null,
            "object_position": null,
            "order": null,
            "overflow": null,
            "overflow_x": null,
            "overflow_y": null,
            "padding": null,
            "right": null,
            "top": null,
            "visibility": null,
            "width": null
          }
        },
        "c5f53f0b2ef441239b1f2382b4728989": {
          "model_module": "@jupyter-widgets/controls",
          "model_name": "DescriptionStyleModel",
          "model_module_version": "1.5.0",
          "state": {
            "_model_module": "@jupyter-widgets/controls",
            "_model_module_version": "1.5.0",
            "_model_name": "DescriptionStyleModel",
            "_view_count": null,
            "_view_module": "@jupyter-widgets/base",
            "_view_module_version": "1.2.0",
            "_view_name": "StyleView",
            "description_width": ""
          }
        },
        "c365eaa1846840768002367640181241": {
          "model_module": "@jupyter-widgets/base",
          "model_name": "LayoutModel",
          "model_module_version": "1.2.0",
          "state": {
            "_model_module": "@jupyter-widgets/base",
            "_model_module_version": "1.2.0",
            "_model_name": "LayoutModel",
            "_view_count": null,
            "_view_module": "@jupyter-widgets/base",
            "_view_module_version": "1.2.0",
            "_view_name": "LayoutView",
            "align_content": null,
            "align_items": null,
            "align_self": null,
            "border": null,
            "bottom": null,
            "display": null,
            "flex": null,
            "flex_flow": null,
            "grid_area": null,
            "grid_auto_columns": null,
            "grid_auto_flow": null,
            "grid_auto_rows": null,
            "grid_column": null,
            "grid_gap": null,
            "grid_row": null,
            "grid_template_areas": null,
            "grid_template_columns": null,
            "grid_template_rows": null,
            "height": null,
            "justify_content": null,
            "justify_items": null,
            "left": null,
            "margin": null,
            "max_height": null,
            "max_width": null,
            "min_height": null,
            "min_width": null,
            "object_fit": null,
            "object_position": null,
            "order": null,
            "overflow": null,
            "overflow_x": null,
            "overflow_y": null,
            "padding": null,
            "right": null,
            "top": null,
            "visibility": null,
            "width": null
          }
        },
        "fb2c6e70afcf4befac1442e798f628c5": {
          "model_module": "@jupyter-widgets/controls",
          "model_name": "ProgressStyleModel",
          "model_module_version": "1.5.0",
          "state": {
            "_model_module": "@jupyter-widgets/controls",
            "_model_module_version": "1.5.0",
            "_model_name": "ProgressStyleModel",
            "_view_count": null,
            "_view_module": "@jupyter-widgets/base",
            "_view_module_version": "1.2.0",
            "_view_name": "StyleView",
            "bar_color": null,
            "description_width": ""
          }
        },
        "36e317e3997f4048b27f325c7275d69b": {
          "model_module": "@jupyter-widgets/base",
          "model_name": "LayoutModel",
          "model_module_version": "1.2.0",
          "state": {
            "_model_module": "@jupyter-widgets/base",
            "_model_module_version": "1.2.0",
            "_model_name": "LayoutModel",
            "_view_count": null,
            "_view_module": "@jupyter-widgets/base",
            "_view_module_version": "1.2.0",
            "_view_name": "LayoutView",
            "align_content": null,
            "align_items": null,
            "align_self": null,
            "border": null,
            "bottom": null,
            "display": null,
            "flex": null,
            "flex_flow": null,
            "grid_area": null,
            "grid_auto_columns": null,
            "grid_auto_flow": null,
            "grid_auto_rows": null,
            "grid_column": null,
            "grid_gap": null,
            "grid_row": null,
            "grid_template_areas": null,
            "grid_template_columns": null,
            "grid_template_rows": null,
            "height": null,
            "justify_content": null,
            "justify_items": null,
            "left": null,
            "margin": null,
            "max_height": null,
            "max_width": null,
            "min_height": null,
            "min_width": null,
            "object_fit": null,
            "object_position": null,
            "order": null,
            "overflow": null,
            "overflow_x": null,
            "overflow_y": null,
            "padding": null,
            "right": null,
            "top": null,
            "visibility": null,
            "width": null
          }
        },
        "987a01d02e9a423eb921027539ae09d5": {
          "model_module": "@jupyter-widgets/controls",
          "model_name": "DescriptionStyleModel",
          "model_module_version": "1.5.0",
          "state": {
            "_model_module": "@jupyter-widgets/controls",
            "_model_module_version": "1.5.0",
            "_model_name": "DescriptionStyleModel",
            "_view_count": null,
            "_view_module": "@jupyter-widgets/base",
            "_view_module_version": "1.2.0",
            "_view_name": "StyleView",
            "description_width": ""
          }
        },
        "18d19845fa6940248ab98f8ff1c2a85d": {
          "model_module": "@jupyter-widgets/controls",
          "model_name": "HBoxModel",
          "model_module_version": "1.5.0",
          "state": {
            "_dom_classes": [],
            "_model_module": "@jupyter-widgets/controls",
            "_model_module_version": "1.5.0",
            "_model_name": "HBoxModel",
            "_view_count": null,
            "_view_module": "@jupyter-widgets/controls",
            "_view_module_version": "1.5.0",
            "_view_name": "HBoxView",
            "box_style": "",
            "children": [
              "IPY_MODEL_fb4744f8c6fe46748f5305d568a39927",
              "IPY_MODEL_d7b29d73da0d4f60ae38b19f46192c88",
              "IPY_MODEL_5c85b070bea04c119f756b7e74f6fc9a"
            ],
            "layout": "IPY_MODEL_61c10fd263004a2694ee306c8444a14b"
          }
        },
        "fb4744f8c6fe46748f5305d568a39927": {
          "model_module": "@jupyter-widgets/controls",
          "model_name": "HTMLModel",
          "model_module_version": "1.5.0",
          "state": {
            "_dom_classes": [],
            "_model_module": "@jupyter-widgets/controls",
            "_model_module_version": "1.5.0",
            "_model_name": "HTMLModel",
            "_view_count": null,
            "_view_module": "@jupyter-widgets/controls",
            "_view_module_version": "1.5.0",
            "_view_name": "HTMLView",
            "description": "",
            "description_tooltip": null,
            "layout": "IPY_MODEL_0ffd6e2b971a4ba2a77f97b4bf6b411a",
            "placeholder": "​",
            "style": "IPY_MODEL_b0c94f48987a47cb9d64dfd73d078ba9",
            "value": "Downloading: 100%"
          }
        },
        "d7b29d73da0d4f60ae38b19f46192c88": {
          "model_module": "@jupyter-widgets/controls",
          "model_name": "FloatProgressModel",
          "model_module_version": "1.5.0",
          "state": {
            "_dom_classes": [],
            "_model_module": "@jupyter-widgets/controls",
            "_model_module_version": "1.5.0",
            "_model_name": "FloatProgressModel",
            "_view_count": null,
            "_view_module": "@jupyter-widgets/controls",
            "_view_module_version": "1.5.0",
            "_view_name": "ProgressView",
            "bar_style": "success",
            "description": "",
            "description_tooltip": null,
            "layout": "IPY_MODEL_2d64a95be0284981bc1b2eb212be7d0f",
            "max": 1786,
            "min": 0,
            "orientation": "horizontal",
            "style": "IPY_MODEL_8dcb5ac5229a47c89b1caefab0678454",
            "value": 1786
          }
        },
        "5c85b070bea04c119f756b7e74f6fc9a": {
          "model_module": "@jupyter-widgets/controls",
          "model_name": "HTMLModel",
          "model_module_version": "1.5.0",
          "state": {
            "_dom_classes": [],
            "_model_module": "@jupyter-widgets/controls",
            "_model_module_version": "1.5.0",
            "_model_name": "HTMLModel",
            "_view_count": null,
            "_view_module": "@jupyter-widgets/controls",
            "_view_module_version": "1.5.0",
            "_view_name": "HTMLView",
            "description": "",
            "description_tooltip": null,
            "layout": "IPY_MODEL_264c25a024af4a909b63fb6e295b96c1",
            "placeholder": "​",
            "style": "IPY_MODEL_f2ab2febf9cb4d17b74dcafb3880e521",
            "value": " 1.74k/1.74k [00:00&lt;00:00, 19.3kB/s]"
          }
        },
        "61c10fd263004a2694ee306c8444a14b": {
          "model_module": "@jupyter-widgets/base",
          "model_name": "LayoutModel",
          "model_module_version": "1.2.0",
          "state": {
            "_model_module": "@jupyter-widgets/base",
            "_model_module_version": "1.2.0",
            "_model_name": "LayoutModel",
            "_view_count": null,
            "_view_module": "@jupyter-widgets/base",
            "_view_module_version": "1.2.0",
            "_view_name": "LayoutView",
            "align_content": null,
            "align_items": null,
            "align_self": null,
            "border": null,
            "bottom": null,
            "display": null,
            "flex": null,
            "flex_flow": null,
            "grid_area": null,
            "grid_auto_columns": null,
            "grid_auto_flow": null,
            "grid_auto_rows": null,
            "grid_column": null,
            "grid_gap": null,
            "grid_row": null,
            "grid_template_areas": null,
            "grid_template_columns": null,
            "grid_template_rows": null,
            "height": null,
            "justify_content": null,
            "justify_items": null,
            "left": null,
            "margin": null,
            "max_height": null,
            "max_width": null,
            "min_height": null,
            "min_width": null,
            "object_fit": null,
            "object_position": null,
            "order": null,
            "overflow": null,
            "overflow_x": null,
            "overflow_y": null,
            "padding": null,
            "right": null,
            "top": null,
            "visibility": null,
            "width": null
          }
        },
        "0ffd6e2b971a4ba2a77f97b4bf6b411a": {
          "model_module": "@jupyter-widgets/base",
          "model_name": "LayoutModel",
          "model_module_version": "1.2.0",
          "state": {
            "_model_module": "@jupyter-widgets/base",
            "_model_module_version": "1.2.0",
            "_model_name": "LayoutModel",
            "_view_count": null,
            "_view_module": "@jupyter-widgets/base",
            "_view_module_version": "1.2.0",
            "_view_name": "LayoutView",
            "align_content": null,
            "align_items": null,
            "align_self": null,
            "border": null,
            "bottom": null,
            "display": null,
            "flex": null,
            "flex_flow": null,
            "grid_area": null,
            "grid_auto_columns": null,
            "grid_auto_flow": null,
            "grid_auto_rows": null,
            "grid_column": null,
            "grid_gap": null,
            "grid_row": null,
            "grid_template_areas": null,
            "grid_template_columns": null,
            "grid_template_rows": null,
            "height": null,
            "justify_content": null,
            "justify_items": null,
            "left": null,
            "margin": null,
            "max_height": null,
            "max_width": null,
            "min_height": null,
            "min_width": null,
            "object_fit": null,
            "object_position": null,
            "order": null,
            "overflow": null,
            "overflow_x": null,
            "overflow_y": null,
            "padding": null,
            "right": null,
            "top": null,
            "visibility": null,
            "width": null
          }
        },
        "b0c94f48987a47cb9d64dfd73d078ba9": {
          "model_module": "@jupyter-widgets/controls",
          "model_name": "DescriptionStyleModel",
          "model_module_version": "1.5.0",
          "state": {
            "_model_module": "@jupyter-widgets/controls",
            "_model_module_version": "1.5.0",
            "_model_name": "DescriptionStyleModel",
            "_view_count": null,
            "_view_module": "@jupyter-widgets/base",
            "_view_module_version": "1.2.0",
            "_view_name": "StyleView",
            "description_width": ""
          }
        },
        "2d64a95be0284981bc1b2eb212be7d0f": {
          "model_module": "@jupyter-widgets/base",
          "model_name": "LayoutModel",
          "model_module_version": "1.2.0",
          "state": {
            "_model_module": "@jupyter-widgets/base",
            "_model_module_version": "1.2.0",
            "_model_name": "LayoutModel",
            "_view_count": null,
            "_view_module": "@jupyter-widgets/base",
            "_view_module_version": "1.2.0",
            "_view_name": "LayoutView",
            "align_content": null,
            "align_items": null,
            "align_self": null,
            "border": null,
            "bottom": null,
            "display": null,
            "flex": null,
            "flex_flow": null,
            "grid_area": null,
            "grid_auto_columns": null,
            "grid_auto_flow": null,
            "grid_auto_rows": null,
            "grid_column": null,
            "grid_gap": null,
            "grid_row": null,
            "grid_template_areas": null,
            "grid_template_columns": null,
            "grid_template_rows": null,
            "height": null,
            "justify_content": null,
            "justify_items": null,
            "left": null,
            "margin": null,
            "max_height": null,
            "max_width": null,
            "min_height": null,
            "min_width": null,
            "object_fit": null,
            "object_position": null,
            "order": null,
            "overflow": null,
            "overflow_x": null,
            "overflow_y": null,
            "padding": null,
            "right": null,
            "top": null,
            "visibility": null,
            "width": null
          }
        },
        "8dcb5ac5229a47c89b1caefab0678454": {
          "model_module": "@jupyter-widgets/controls",
          "model_name": "ProgressStyleModel",
          "model_module_version": "1.5.0",
          "state": {
            "_model_module": "@jupyter-widgets/controls",
            "_model_module_version": "1.5.0",
            "_model_name": "ProgressStyleModel",
            "_view_count": null,
            "_view_module": "@jupyter-widgets/base",
            "_view_module_version": "1.2.0",
            "_view_name": "StyleView",
            "bar_color": null,
            "description_width": ""
          }
        },
        "264c25a024af4a909b63fb6e295b96c1": {
          "model_module": "@jupyter-widgets/base",
          "model_name": "LayoutModel",
          "model_module_version": "1.2.0",
          "state": {
            "_model_module": "@jupyter-widgets/base",
            "_model_module_version": "1.2.0",
            "_model_name": "LayoutModel",
            "_view_count": null,
            "_view_module": "@jupyter-widgets/base",
            "_view_module_version": "1.2.0",
            "_view_name": "LayoutView",
            "align_content": null,
            "align_items": null,
            "align_self": null,
            "border": null,
            "bottom": null,
            "display": null,
            "flex": null,
            "flex_flow": null,
            "grid_area": null,
            "grid_auto_columns": null,
            "grid_auto_flow": null,
            "grid_auto_rows": null,
            "grid_column": null,
            "grid_gap": null,
            "grid_row": null,
            "grid_template_areas": null,
            "grid_template_columns": null,
            "grid_template_rows": null,
            "height": null,
            "justify_content": null,
            "justify_items": null,
            "left": null,
            "margin": null,
            "max_height": null,
            "max_width": null,
            "min_height": null,
            "min_width": null,
            "object_fit": null,
            "object_position": null,
            "order": null,
            "overflow": null,
            "overflow_x": null,
            "overflow_y": null,
            "padding": null,
            "right": null,
            "top": null,
            "visibility": null,
            "width": null
          }
        },
        "f2ab2febf9cb4d17b74dcafb3880e521": {
          "model_module": "@jupyter-widgets/controls",
          "model_name": "DescriptionStyleModel",
          "model_module_version": "1.5.0",
          "state": {
            "_model_module": "@jupyter-widgets/controls",
            "_model_module_version": "1.5.0",
            "_model_name": "DescriptionStyleModel",
            "_view_count": null,
            "_view_module": "@jupyter-widgets/base",
            "_view_module_version": "1.2.0",
            "_view_name": "StyleView",
            "description_width": ""
          }
        }
      }
    }
  },
  "cells": [
    {
      "cell_type": "markdown",
      "metadata": {
        "id": "view-in-github",
        "colab_type": "text"
      },
      "source": [
        "<a href=\"https://colab.research.google.com/github/flora0110/spotify_segment_headine/blob/main/podcast_to_headline.ipynb\" target=\"_parent\"><img src=\"https://colab.research.google.com/assets/colab-badge.svg\" alt=\"Open In Colab\"/></a>"
      ]
    },
    {
      "cell_type": "markdown",
      "source": [
        "# Textsplit"
      ],
      "metadata": {
        "id": "gKH2OWuXr3Oc"
      }
    },
    {
      "cell_type": "code",
      "execution_count": 1,
      "metadata": {
        "colab": {
          "base_uri": "https://localhost:8080/"
        },
        "id": "ZtpEpr1erfko",
        "outputId": "231a8218-8d76-4232-845e-8846a8ce4f26"
      },
      "outputs": [
        {
          "output_type": "stream",
          "name": "stdout",
          "text": [
            "Collecting word2vec\n",
            "  Downloading word2vec-0.11.1.tar.gz (42 kB)\n",
            "\u001b[?25l\r\u001b[K     |███████▊                        | 10 kB 18.0 MB/s eta 0:00:01\r\u001b[K     |███████████████▌                | 20 kB 12.2 MB/s eta 0:00:01\r\u001b[K     |███████████████████████▎        | 30 kB 9.4 MB/s eta 0:00:01\r\u001b[K     |███████████████████████████████ | 40 kB 8.5 MB/s eta 0:00:01\r\u001b[K     |████████████████████████████████| 42 kB 510 kB/s \n",
            "\u001b[?25h  Installing build dependencies ... \u001b[?25l\u001b[?25hdone\n",
            "  Getting requirements to build wheel ... \u001b[?25l\u001b[?25hdone\n",
            "    Preparing wheel metadata ... \u001b[?25l\u001b[?25hdone\n",
            "Requirement already satisfied: joblib in /usr/local/lib/python3.7/dist-packages (from word2vec) (1.1.0)\n",
            "Requirement already satisfied: numpy>=1.9.2 in /usr/local/lib/python3.7/dist-packages (from word2vec) (1.21.5)\n",
            "Building wheels for collected packages: word2vec\n",
            "  Building wheel for word2vec (PEP 517) ... \u001b[?25l\u001b[?25hdone\n",
            "  Created wheel for word2vec: filename=word2vec-0.11.1-py2.py3-none-any.whl size=156420 sha256=c95834875818905afa6cdde05547f62422440b8fb328f2a34598bb6d713f2ee9\n",
            "  Stored in directory: /root/.cache/pip/wheels/c9/c0/d4/29d797817e268124a32b6cf8beb8b8fe87b86f099d5a049e61\n",
            "Successfully built word2vec\n",
            "Installing collected packages: word2vec\n",
            "Successfully installed word2vec-0.11.1\n"
          ]
        }
      ],
      "source": [
        "!pip install word2vec"
      ]
    },
    {
      "cell_type": "code",
      "source": [
        "import os\n",
        "from gensim.models import word2vec\n",
        "import pandas as pd\n",
        "import numpy as np\n",
        "from sklearn.feature_extraction.text import CountVectorizer"
      ],
      "metadata": {
        "id": "IhACuETwsAZy"
      },
      "execution_count": 2,
      "outputs": []
    },
    {
      "cell_type": "markdown",
      "source": [
        "## Download toy corpus for wordvector training and example text"
      ],
      "metadata": {
        "id": "-fDUTHDJsOFK"
      }
    },
    {
      "cell_type": "code",
      "source": [
        "corpus_path = './text8'  # be sure your corpus is cleaned from punctuation and lowercased\n",
        "if not os.path.exists(corpus_path):\n",
        "    !wget http://mattmahoney.net/dc/text8.zip\n",
        "    !unzip {corpus_path}"
      ],
      "metadata": {
        "id": "yW89tWVysQOZ"
      },
      "execution_count": 36,
      "outputs": []
    },
    {
      "cell_type": "code",
      "source": [
        "links = {'history': 'https://raw.githubusercontent.com/flora0110/spotify_segment_headine/main/podcast_data/history_comma.txt',  # a tale of two cities\n",
        "         'sugar': 'https://raw.githubusercontent.com/flora0110/spotify_segment_headine/main/podcast_data/SugarCravings.txt'}  # siddartha\n",
        "\n",
        "for link in links.values():\n",
        "    text_path = os.path.basename(link)\n",
        "    if not os.path.exists(text_path):\n",
        "        !wget {link}"
      ],
      "metadata": {
        "id": "ZuUN-5ITzk8F"
      },
      "execution_count": 37,
      "outputs": []
    },
    {
      "cell_type": "markdown",
      "source": [
        "## Train wordvectors"
      ],
      "metadata": {
        "id": "yeEijQ0ttOvr"
      }
    },
    {
      "cell_type": "code",
      "source": [
        "import logging\n",
        "wrdvec_path = 'wrdvecs.bin'\n",
        "if not os.path.exists(wrdvec_path):\n",
        "  sentences = word2vec.Text8Corpus('./text8')\n",
        "  model = word2vec.Word2Vec(sentences, cbow_mean=1, iter=5, hs=1, sample=0.00001, window=15, size=200)"
      ],
      "metadata": {
        "id": "W18gaxqMtRfK"
      },
      "execution_count": 4,
      "outputs": []
    },
    {
      "cell_type": "code",
      "source": [
        "model.save(wrdvec_path)"
      ],
      "metadata": {
        "id": "kllPGhebtdv0"
      },
      "execution_count": 5,
      "outputs": []
    },
    {
      "cell_type": "code",
      "source": [
        "model = word2vec.Word2Vec.load(wrdvec_path)\n",
        "wrdvecs = pd.DataFrame(model.wv.vectors, index=model.wv.vocab)"
      ],
      "metadata": {
        "id": "azdJN5OUtg4q"
      },
      "execution_count": 6,
      "outputs": []
    },
    {
      "cell_type": "markdown",
      "source": [
        "## get sentence tokenizer"
      ],
      "metadata": {
        "id": "8MZoiGawtn5M"
      }
    },
    {
      "cell_type": "code",
      "source": [
        "!pip install textsplit"
      ],
      "metadata": {
        "colab": {
          "base_uri": "https://localhost:8080/"
        },
        "id": "1LQZtqFjtp-s",
        "outputId": "1d038b2d-7fb6-41c7-8c81-9c5aea31ef16"
      },
      "execution_count": 7,
      "outputs": [
        {
          "output_type": "stream",
          "name": "stdout",
          "text": [
            "Collecting textsplit\n",
            "  Downloading textsplit-0.5-py3-none-any.whl (9.6 kB)\n",
            "Requirement already satisfied: numpy>=1.13.1 in /usr/local/lib/python3.7/dist-packages (from textsplit) (1.21.5)\n",
            "Collecting nose>=1.3.7\n",
            "  Downloading nose-1.3.7-py3-none-any.whl (154 kB)\n",
            "\u001b[K     |████████████████████████████████| 154 kB 5.2 MB/s \n",
            "\u001b[?25hInstalling collected packages: nose, textsplit\n",
            "Successfully installed nose-1.3.7 textsplit-0.5\n"
          ]
        }
      ]
    },
    {
      "cell_type": "code",
      "source": [
        "from textsplit.tools import SimpleSentenceTokenizer\n",
        "sentence_tokenizer = SimpleSentenceTokenizer()"
      ],
      "metadata": {
        "id": "nCqbCLb4tre6"
      },
      "execution_count": 8,
      "outputs": []
    },
    {
      "cell_type": "markdown",
      "source": [
        "## run get_penalty and split_optimal"
      ],
      "metadata": {
        "id": "TwRHiwHlt7Oy"
      }
    },
    {
      "cell_type": "code",
      "source": [
        "%matplotlib inline\n",
        "from textsplit.tools import get_penalty, get_segments\n",
        "from textsplit.algorithm import split_optimal, split_greedy, get_total"
      ],
      "metadata": {
        "id": "RNI8RZOGt68T"
      },
      "execution_count": 27,
      "outputs": []
    },
    {
      "cell_type": "markdown",
      "source": [
        "### history podcast"
      ],
      "metadata": {
        "id": "t-EySFDdwZ3U"
      }
    },
    {
      "cell_type": "code",
      "source": [
        "#@title segment target length in sentences { display-mode: \"form\" }\n",
        "segment_len =  30#@param {type:\"integer\"}"
      ],
      "metadata": {
        "id": "paSWEfbGv0-t"
      },
      "execution_count": 32,
      "outputs": []
    },
    {
      "cell_type": "code",
      "source": [
        "link = links['history']\n",
        "book_path = os.path.basename(link)\n",
        "\n",
        "with open(book_path, 'rt') as f:\n",
        "    text = f.read()  #.replace('\\n', ' ')  # punkt tokenizer handles newlines not so nice\n",
        "\n",
        "sentenced_text = sentence_tokenizer(text)\n",
        "strs = \" \"\n",
        "for i in range(len(sentenced_text)):\n",
        "  if(sentenced_text[i] != \" \"):\n",
        "    strs =sentenced_text[i]\n",
        "  if(i+1<len(sentenced_text)):\n",
        "    if(strs == sentenced_text[i+1]):\n",
        "      sentenced_text[i+1]=\" \"\n",
        "vecr = CountVectorizer(vocabulary=wrdvecs.index)\n",
        "\n",
        "sentence_vectors = vecr.transform(sentenced_text).dot(wrdvecs)\n",
        "\n",
        "penalty = get_penalty([sentence_vectors], segment_len)\n",
        "print('penalty %4.2f' % penalty)\n",
        "\n",
        "optimal_segmentation = split_optimal(sentence_vectors, penalty, seg_limit=250)\n",
        "segmented_text = get_segments(sentenced_text, optimal_segmentation)\n",
        "\n",
        "print('%d sentences, %d segments, avg %4.2f sentences per segment' % (\n",
        "    len(sentenced_text), len(segmented_text), len(sentenced_text) / len(segmented_text)))\n",
        "\n",
        "with open(book_path + '.seg', 'wt') as f:\n",
        "    for i, segment_sentences in enumerate(segmented_text):\n",
        "        segment_str = ' // '.join(segment_sentences)\n",
        "        gain = optimal_segmentation.gains[i] if i < len(segmented_text) - 1 else 0\n",
        "        segment_info = ' [%d sentences, %4.3f] ' % (len(segment_sentences), gain) \n",
        "        print(segment_str + '\\n8<' + '=' * 30 + segment_info + \"=\" * 30, file=f)\n",
        "\n",
        "greedy_segmentation = split_greedy(sentence_vectors, max_splits=len(optimal_segmentation.splits))\n",
        "greedy_segmented_text = get_segments(sentenced_text, greedy_segmentation)\n",
        "lengths_optimal = [len(segment) for segment in segmented_text for sentence in segment]\n",
        "lengths_greedy = [len(segment) for segment in greedy_segmented_text for sentence in segment]\n",
        "df = pd.DataFrame({'greedy':lengths_greedy, 'optimal': lengths_optimal})\n",
        "df.plot.line(figsize=(18, 3), title='Segment lenghts over text')\n",
        "df.plot.hist(bins=30, alpha=0.5, figsize=(10, 3), title='Histogram of segment lengths')\n",
        "\n",
        "totals = [get_total(sentence_vectors, seg.splits, penalty) \n",
        "          for seg in [optimal_segmentation, greedy_segmentation]]\n",
        "print('optimal score %4.2f, greedy score %4.2f' % tuple(totals))\n",
        "print(totals)\n",
        "print(tuple(totals))\n",
        "print('ratio of scores %5.4f' % (totals[0] / totals[1]))"
      ],
      "metadata": {
        "colab": {
          "base_uri": "https://localhost:8080/",
          "height": 544
        },
        "id": "0saLwQ6huDLq",
        "outputId": "3dfe57a3-42d4-44a8-cca6-816bdbac041a"
      },
      "execution_count": 33,
      "outputs": [
        {
          "output_type": "stream",
          "name": "stdout",
          "text": [
            "penalty 44.64\n",
            "489 sentences, 20 segments, avg 24.45 sentences per segment\n",
            "optimal score 9999.59, greedy score 9968.71\n",
            "[9999.594204249992, 9968.705992640342]\n",
            "(9999.594204249992, 9968.705992640342)\n",
            "ratio of scores 1.0031\n"
          ]
        },
        {
          "output_type": "display_data",
          "data": {
            "text/plain": [
              "<Figure size 1296x216 with 1 Axes>"
            ],
            "image/png": "[encoded data removed]"
          },
          "metadata": {
            "needs_background": "light"
          }
        },
        {
          "output_type": "display_data",
          "data": {
            "text/plain": [
              "<Figure size 720x216 with 1 Axes>"
            ],
            "image/png": "[encoded data removed]"
          },
          "metadata": {
            "needs_background": "light"
          }
        }
      ]
    },
    {
      "cell_type": "markdown",
      "source": [
        "#### 顯示分段"
      ],
      "metadata": {
        "id": "zqp55X5LyUdd"
      }
    },
    {
      "cell_type": "code",
      "source": [
        "for i in range(len(segmented_text)):\n",
        "  print(segmented_text[i])"
      ],
      "metadata": {
        "colab": {
          "base_uri": "https://localhost:8080/"
        },
        "id": "Rsb59khayAck",
        "outputId": "79f72cbb-a17c-476d-b6e8-435f529d259d"
      },
      "execution_count": 39,
      "outputs": [
        {
          "output_type": "stream",
          "name": "stdout",
          "text": [
            "['Hi friends. ', \"Happy Wednesday or Thursday if you're watching over on YouTube. \", 'Hey, how are you doing? ', \"I hope you're having a wonderful day so far. \", 'My name is Bailey serían and this is the dark History Podcast. ', 'Whew, I need a theme song for dark history. ', \"Don't, I'm anywho, I'm here to talk about some dark ass history that we never learned in school or I should, at least say that. \", 'I never learned in school. ', \"If you're new here. \", 'Hi, welcome. ', 'Come. ', 'Take a seat by me. ', \"Don't be shy if you're And learning about people and events that your history books didn't cover in school. \", \"The maybe should have then you'll fit in right in here with us. \", 'Okay. ', \"Look today's story. \", \"It's uncomfortable. \", \"Okay, it's heartbreaking. \", \"It's just, it's set. \", \"It's awful. \", \"It's sad. \", \"There's, those are all the words. \", \"I can think of it, just doesn't make any sense. \", \"But with all of that being said, there's really like no sugarcoating this. \", 'This is what happened. ', \"And it's when more honest and when we're transparent that we can learn and grow together, you know,but most of all not let history repeat itself. \", \"So let's set the scene. \", \"It's New Years Day 1923 and many people are waking up from celebrating the New Year. \", 'Some of them are still wearing a flapper dress or a suit tired from dancing. ', \"The night away in a jazz club, or maybe they're hung over from buying illegal drinks at a speakeasy. \", 'Yes. ', 'Oh, yes. ', 'It was still illegal to buy alcohol wild, right? ', 'Of course, though. ', 'That was more of like the upscale City Vibe. ', 'If you were in the country had little less. ', 'Pocket change to spend or were to straightedge to visit, like those kind of illegal joints. ', 'Then you probably had a quieter evening of staying at home and ringing in the new year with with your loved ones, you know, now 1923 in general President Warren G, Harding would die in office, the Yankee Stadium would be built in the Bronx and the original Hollywood sign would be built. ', 'Oh, yeah, Hollywood was originally called Hollywood land, but we could say that for another episode, babe. ']\n",
            "['Before all of that, on the morning of January, first, nineteen, twenty three thirty year old James and his 22-year old wife, Fanny, Taylor woke up at a home and a town called Sumner, a neighboring community of Rosewood, Florida, that morning. ', 'James Taylor goes to work like he did any other day. ', 'But while James was at work, something happens to his wife Fanny. ', 'That boy, it just triggers a domino effect, a horrific domino effect. ', 'It leads to the Murders of innocent people, the destruction of a town and the displacement of an entire Community changing Rosewood forever who just sounds traumatic. ']\n",
            "['I know because it is, welcome. ', 'Hi. ', 'This episode friends were going to be talking about the Rosewood Massacre. ', 'Have you heard of it? ', 'Yeah, exactly. ', 'Exactly. ', \"I didn't this one, just it completely blew. \", 'My mind is like why in the Waldo? ', 'Did we not learned about this in school? ', 'Correction? ', 'I can only speak for myself here. ', 'So, why in the Waldo did my history books? ', 'Not teach this Rosewood Massacre? ', 'Yeah. ', 'It happened. ', \"Let's discuss and learn together. \", 'What took place in 1923, Rosewood, Florida. ', 'Buckling, kitty cats. ', 'This is just what? ', \"Yeah, I'm great with words. \", 'Obviously. ', \"That's why I started a podcast. \", 'The beginning, great place. ', 'Start the town of Rosewood was established in the mid eighteen. ', 'Hundreds white families, had moved here prior to the Civil War and black landowner started to move in in the 1870s. ', \"It's located in the State of Florida and it's just nine miles east of the Gulf of Mexico. \", 'The name Rosewood. ', 'It came from the red cedar trees that were all over the land there. ', 'Fun fact, alert Boo. ', 'Boo. ', ' ', 'Did you know that when you cut open a red cedar tree, the cedar has a pale pink color inside? ', \"Yeah, I guess it's like super pretty. \", 'Super beautiful. ', 'But did you also know that if you cut me open? ', \"I've got a little pink inside a LOL. \", 'Anyways, so they called the town Rosewood after the pink color. ', 'Okay. ', 'Nice, right. ', \"Well, as we've learned through history, we can't have nice things. \", 'So when people saw the really pretty color that was inside of these beautiful incredible trees. ', 'What do you think? ', 'They did? ', 'Yes, they cut them all down. ', 'They cut them down and they sold the A now because of this they made a pretty decent amount of money and it supported the economy of the town but still, you know sad for the trees by the year 1886 the town had developed quite a bit. ', 'It had its own post office, a Schoolhouse and they were three churches one for the white people into for the black people. ', \"Remember, we're talking about a time that's very much a segregated America. \", 'So four years later in 1890 the town began to hit some hard times. ', 'All the red cedar trees had been chopped down and without the trees. ', \"There's no money to be made which in turn leads to the town's economic decline because of the loss of income and not many available jobs, many members of the white Community left, Rosewood, and headed to the nearby town of Sumner Sumner was appealing because there was a large Sawmill which provided tons of jobs and right now the people needed work, so, sign me up for Sumner, you know, so by the 1900. \", 'The Rosewood population. ']\n",
            "['Have now shifted to a majority black community. ', 'Now, with, in Rosewood. ', 'There was a really close sense of community. ', 'Like, everyone seemed to know one another and looked out for one another as well. ', 'I mean, rarely did anyone need to leave town like to travel for food or for things? ', 'They may need because they had almost everything right there with in Rosewood, in addition to the three churches Schoolhouse and post office Rosewood also had a train station. ', 'In which will become important later a general store, and a Sugar Mill. ', 'Plus, if you were looking for some fun, they even had a Rosewood baseball team. ', \"What I'm getting at is, Rosewood, was overall, just a nice place. \", \"So, for over 20 years, the people of rosewood's stayed with in Rosewood and the people of Sumner, the neighboring town. \", 'They stayed within Sumner, they coexisted. ', \"They had their own Communities going on and they were just doing their own thing, but unfortunately, that peaceful time was about To end because some shit was a bruin, but before we get into, what was a bruin, let's pause for a word from our sponsor. \", 'Things are kind of getting back to normal, I guess, right? ', 'Yeah, but I swear to you over quarantine. ', 'My brain has felt like mush and need some exercise. ', 'I mean, it is a muscle, right, you know, any who would best fiends. ', 'It feels like my brain. ', 'Got a great workout. ', \"What's best fiends. \", 'You ask? ', \"Well, it's the mobile puzzle game that will put A challenge to your Noggin, and it's kind of like you did a workout. \", 'But again, for your brain, not only that, best fiends is so fun. ', \"You won't want to put it down + best. \", 'Fiends has literally thousands of fun, puzzles to solve. ']\n",
            "[\"I'm currently on level 50 with like a lot more to go. \", \"So, there's really nothing to brag about their. \", \"There's literally something new to play every day. \", 'And the characters are just so adorable. ', 'I want to be best fiends with them. ', \"Best means it's constantly putting out updates. \", \"So there's always something new. \", \"You exciting to explore, whenever I'm feeling a little bored or I have like, you know some time to kill between these Zoom meetings. \", 'I just bust out my phone and go straight to best fiends to tackle. ', 'Some puzzles. ', 'Download the five-star rated puzzle game. ', 'Best fiends free today on the app store or Google Play. ', \"That's best friends without the our best fiends. \", 'Thanks. ', \"Best beans for partnering with me on today's episode. \", 'Okay. ', \"Remember, it's January 1st. \", '1923 our young couple James. ', 'And Fanny Taylor who are white are waking up on the first day of the new year. ']\n",
            "['And James was like, goodbye Fanny. ', \"Like I'm off to work. \", 'I love you. ', 'Babe. ', 'You know and Fanny is like, oh my God. ', 'Yeah. ', \"Have a good day whenever that's probably what they did. \", 'Anyway, so James leaves his wife Fanny home alone because he has to go to work. ', 'He works at The Sawmill in Sumner which was about one mile east of Rosewood. ', 'Now while James is at work, Milling saws Fanny whose back at home. ', 'Rumor had it. ', 'Someone had attacked her. ', 'Oh, yeah. ', 'Oh, yeah, the neighbors heard screams. ', \"They heard screams coming from within the Taylor's home and they were like, oh my God, you know, like what's going on screaming? \", 'Hmm. ', \"So for you and I, we'd probably go and like check it out, right would be like, oh my God, they're screaming. \", \"Are you okay, but for Fanny's neighbors, they heard the screams and then they just left it alone. \", 'Great. ', 'Yeah, awesome. ', 'So some time goes by and James comes home from Mark, and when he gets home, he sees that fanny has a big bruise on her face. ']\n",
            "[\"It's clear that somebody had hit her pretty badly. \", 'So he asked her, you know, who did this to you and Fanny tells him that a black man assaulted her. ', \"She's like, I don't know who it was, but it was definitely a black man. \", 'According to Fanny. ', 'Hmm. ', 'I mean, this could be possible. ', 'This guy came in randomly, beat her, I guess in her own house, but remember, Like this is a small town. ', 'In fact, both Sumner and Rosewood were so small that most people recognize one another. ', 'So Are you sure we honey? ', \"Are you sure that's what you saw Fanny? \", 'The fact that Fanny like, could not name the person who attacked her. ', 'That should have been the first red flag. ', 'Okay. ', 'That maybe this person that quote unquote attacked her was not a resident from Rosewood. ', \"I'm telling you, I'm not kidding you. \", 'If you lived in Rosewood, you would know your neighbors everybody knew each other. ', 'But Fanny would most likely know this person because again, the likelihood of her not knowing is presumptive, not? ', 'So sure Fanny sure. ', \"Again, because it's a 1920s. \", 'Unfortunately, this is a time when a white woman made, bold claims of being attacked by a black person. ', 'Nobody questioned it. ', 'They just believed it to be true. ', \"So they didn't question Fanny story for one second. \", 'Like, oh my God. ', 'She was beaten by a block man. ', \"Like we are so angry and nobody wanted to like double check and make sure she what you she wasn't lying. \", 'They just just went with it. ', 'People are talking with in Rose Water. ', \"Okay, and this story about Fanny gets back to a woman by the name of Sarah carrier and she's like, wait a minute. \", 'Wait a minute. ']\n",
            "[' ', ' ', \"That's not true. \", \"Sarah said that she was at the Taylor's Home, the morning of that so-called attack, and not just that, but her granddaughter was there with her and neither of them saw black man, attack Fanny. \", 'Alone. ', 'Even enter their house. ', \"Well, you're probably wondering really Who the hell's Sarah? \", 'Okay. ', \"Well Sarah, she had been working for the Tailor's for quite some time. \", \"She was there that day with her granddaughter doing the Taylor's laundry. \", 'Now, Sarah said that she actually saw a white man leaving the Taylor house that morning. ', 'She said, she never saw a black man. ', 'Come by the house all day. ', 'Now, get this. ', 'Get this. ', 'Sarah recognize this white man. ', 'She had seen him come by the house once or twice before. ', 'Hmm. ', 'Sarah had believed that this man and Fanny were having some kind of Winky dinky. ', \"If you're not on me. \", \"Sarah said that this man was actually the guy that beat Fanny that morning and that she was just lying to cover her ass because she's probably having an affair. \", \"And she doesn't want people to know Fanny. \", \"So Sarah's version is now going around town. \", \"It's spreading like wildfire within the black community. \", 'They all 100% believed her. ', 'Why would she lie? ', 'Whoa, why would she lie, unfortunately, though the white voices were louder within the community and made it very clear. ', 'That Fanny was quote. ', 'Not a liar. ', 'She was telling the truth, okay. ', 'I freaking roll, right? ']\n",
            "[\"It gets a lot more traumatic talking amongst the accusers and name comes up, Jesse Hunter, and they think they're disgusting. \", \"They're like, hey, Jesse Hunter. \", 'This is our guy. ', 'This is the guy who did it. ', \"Who's Jesse Hunter? \", 'Okay. ', 'Now Jesse Hunter was a black man who recently escaped from the nearby prison. ', \"Now because Jesse was a black man who recently escaped from prison while they're believing. \", 'He must have done. ', 'It must be the same black man. ']\n",
            "['That attacked Fanny. ', 'No, Sarcasm mind you. ', \"There was absolutely 100% zero evidence that Jesse was the perpetrator, but that doesn't matter to them. \", \"They've got their minds set on Jesse Hunter and they go out looking for him while out, looking for him, the county, sheriff, Robert Walker, he joins in on the search. \", 'Now, this County Sheriff, was able to get a bunch of other white men together to form. ', 'What was called a posse to help with the search. ', \"Now, this isn't like your normal Posse today, like a Up of friends hanging out back. \", 'Then a posse was a more formal thing. ', 'It was an official group of men that a sheriff could organize in case of an emergency and this to them at the time. ', 'Well, this was that kind of Emergency. ', 'The sheriff would pull in some guys, from around town. ', \"I don't know how he picked them. \", \"But he did and he made them his temporary deputies, which is wild to think, just ran it like, hey, you your Deputy now like That's you were allowed to do that. \", 'So the county sheriff got the Posse together and they start searching for Jesse. ', 'Now, they were determined to catch him and punish him for his alleged attack towards Fanny. ', 'The Posse even went down to the local prison to borrow a pack of bloodhounds to track Jesse sent. ', 'I mean, they were seeing red. ', 'No common sense, going on here. ', 'The Posse, they hear that. ', 'Jesse was last seen with another black man named Sam. ', 'Carter. ', 'Who worked? ', 'As the local blacksmith. ']\n",
            "[\"Now this alleged sighting has never been confirmed but they don't care. \", 'Now remember again. ', \"I've said it 100 times. \", \"It's a small town. \", 'So they know exactly where Sam Carter lives and they had straight to his house. ', 'They barged in. ', 'Okay, and they interrogated. ', 'Sam and Iceland. ', \"Where's Jesse? \", \"And they're demanding. \", \"And they're like, where's Jesse? \", 'We need to know where he is right now. ', 'Where is he going? ', \"Where's Jesse? \", \"But Sam, he couldn't answer their questions because Yeah, he didn't have the answers. \", \"You know, he doesn't know. \", \"He has no idea what's going on. \", 'Of course. ', \"The Posse doesn't believe him. \", 'They were convinced that Sam, he knew something. ', 'Okay, because they are convinced of this, they get swept up in what becomes this angry mob mentality. ', 'So, they force a man of the house. ', 'The kidnap him. ', 'The posses thought process was that if they torture, Sam like they can probably get some answers as to where Jesse is, so, The kidnaps him, they hung him from a tree by his neck, pushing Sam, to tell the quote-unquote truth. ', 'Hmm, Sam. ', 'He was telling the truth the whole time. ', \"He didn't know where Jesse was but that's not acceptable to the Posse. \", \"They're hell-bent on their mission of quote-unquote Justice. \", 'They shot him to death and left his body in the road between Rosewood and Sumner Sam. ', 'Carter was only 45 years. ']\n",
            "['Sold. ', 'This is just the tip of the iceberg. ', 'So by that night, the original Posse, which was, you know, it was just a small at first. ', 'Oh, babe babe. ', 'We had now, snowballed into a freaking mob. ', 'Oh, yeah, people were talking and the neighboring towns got word about like what had taken place and that this Manhunt for Jesse was going down. ', 'So a bunch of rando white men. ', 'Come out of the freaking would work. ', \"It was like we're we're You guys come from. \", 'They just showed up. ', \"There was no official count of how many men joined this Riot, but that's exactly what it turns into a freaking Riot. \", 'And this is when the massacre begins. ', 'I know this is a little heavy. ', \"We're just going to take a little moment here, break for a sponsor that helps keep dark history going. \", \"Get mouth-watering, seasonal, recipes, and fresh, pre-measured ingredients delivered right to your door with hello fresh, which is America's number one, meal Kit. \", 'Hello fresh makes cooking at home, fun easy and affordable. ', 'They offer 50 menu and Market items each week, including ready to like eat salads sandwiches and soups. ', \"There's something for everyone to enjoy. \", 'I love soup, clam chowder. ', 'Sign me up. ', 'Just love it. ', \"Anyways, all these recipes are designed and tested by professional chefs and nutritional experts to make sure that not only is it super delicious, but it's also Oh simple and just good for you. \", 'Hello fresh. ', 'They cut out that stressful meal planning and prepping that you have to do. ', 'So you can just get back to enjoying cooking and getting dinner on the table and just about 30 minutes. ', 'They even have a 20-minute offer. ', \"It's like a quick and easy option. \", \"So if you're in a rush, you only got 20 minutes. \", 'Hello fresh. ', 'Got you covered. ', \"I love hello fresh because it's just really easy. \", 'Honestly, it breaks down the recipe step by step. ', 'So you cannot mess it up and let me tell you, I usually mess everything up. ', 'Usually I start kitchen fires, but with hellofresh, no, kitchen fires. ', \"It's so easy. \", 'I can do it. ', \"And that's saying a lot. \", \"If you're interested, I would suggest you go to hellofresh.com /, dark history, 14 and use my code dark history. \", '14 for up to 14 free meals, including free shipping. ', 'Thank you. ', \"Hello, fresh for partnering with me on today's episode. \", 'The death of poor Sam. ', 'Carter was the Catalyst for what was about to become. ', 'The Rosewood Massacre. ', 'The Posse is still out searching for Jesse Hunter. ', 'Remember, the prison escapee who the mob believed beat Fanny. ', \"But now, but now the Posse searching for Jesse, it's it's grown bigger and bigger. \", 'And more white men are joining this mob from all over Florida, because his mom had grown to, like such a big, a big site members of the community families, both black and white. ', 'You could sense that things were getting out of control. ', 'Violence was a bruin and this no longer feels like it was just a search for Jesse 9A. ', 'It was turning more aggressive. ']\n",
            "['Angry hate-filled, as this white mob was Now, using this as an excuse to destroy everything in sight. ', \"So the black community is terrified by what they're seeing happening in their own town of Rosewood. \", 'They thought that maybe if they got together in a large group, And like some of their homes, they would be safety in large numbers protecting them. ', \"So they did that a couple of days go by and on day three, there's another rumor spreading around that. \", 'Jesse was actually hiding in one of the homes that they missed back in Rosewood and the home was none. ', 'Other than Sarah carriers house to remember, Sarah carrier from earlier. ', \"She's the one that who did the laundry for the tailors who told the truth? \", 'Who had the L story, Sarah. ', 'Yeah, Sarah, son Sylvester carrier. ', 'He also lived in the house with her. ', 'Now. ', \"There was some tension between Sylvester and the people of the white Community because he was known for speaking up for himself and protecting the women in his family, which I know what's wrong with that. \", \"There's absolutely nothing good for him. \", 'Good for him. ', 'I know. ', 'I agree with you. ', 'But again, this is the 1920s. ', \"It wasn't smart, won't go smart. \", 'Just stand up for yourself or others towards white person, unless you wanted some issues. ', \"So with all that being said, it's kind of not surprising when the Posse looked at Sylvester as their next Target. \", 'Now, in addition to this, angry mob coming their way Sylvester, and Sarah also had another problem. ', 'They were keeping a lot of children from the community within their home. ', \"Although the exact number wasn't known. \", \"You see their home was close to a swamp which in turn made a great location to hide because it provided cover and it wasn't easy to walk around in. \", 'Making it hard to be followed or even get caught. ', 'Unfortunately, the swamp would come to be their best protection on the fourth day of this Riot. ', 'January 4th. ', 'The white mob is headed for the carrier home. ', \"It's a Wester wasn't going to just hide and do nothing. \", 'He was going to defend himself his family, the children. ', \"In his property and it was about to get violent when the mob gets to the carrier's house. \", 'The first thing they do. ', \"I'm sorry, but they shoot the carrier's, dog. \", 'I know, they just like freaking, shoot, the dog. ', 'One of the guys in the mob. ', 'He calls out to Sylvester. ', \"He's like, hey, come out here and present yourself that come face us. \", \"So some time goes by and they're getting no response. \", \"So now they're frustrated. \", \"They're pissed off to of the white men from the They decide to walk up onto the porch and start kicking down the front door. \", 'These two men were Henry, Andrews, and Polly Wilkerson. ', \"And it's Wilkerson who ends up kicking in the front door. \", 'So, inside of the home was Sylvester and Sarah amongst the children. ', 'There was a nine-year-old girl named Minnie Lee Mitchell Langley. ', 'She said that Sylvester saved her that day many recalled when Sylvester put her in a safe spot under the stairway while They got ready to fight. ', 'She also said that he got behind her. ', 'At one point, put a gun on her shoulder pointing it at the front door and waited for poly Wilkerson to kick the door down and when Paulie finally kicked that door down Sylvester started shooting to defend themselves. ', 'They would end up. ', 'Killing both Andrews and Wilkerson. ', 'Great, you know, good. ', 'Can I see that? ', 'Why did, but listen once the mob realized that Andrews and Wilkerson were shot and killed. ', 'It was not good. ', 'They were raging. ', 'Okay, they were livid, they were fuming and a gunfight then ensued. ', 'Sadly, Sarah carrier, and her son Sylvester in the middle of this. ', 'Crossfire were both, tragically murdered. ', \"The mob keeps shooting and they don't freaking Who they're hitting the only reason they eventually stopped firing was because they ran out of bullets. \", 'Great. ', \"Now, we don't know how many men women and children hiding in the house was Sarah and Sylvester survived if any but what we do know is that the ones who were able to sneak out of the house they went and they hid in the swamp they escaped. \", \"But not before they saw things that they wouldn't ever forget. \", 'One of the children are net Goings. ', 'Has spoke later about their struggle to escape going. ', 'Said, he remembers some staying out for two or three long January nights. ', 'In the cold swamp, scared for their lives. ', 'But after days of waiting, they were able to escape the mob. ', 'Now, the guys in the mob are pumped with adrenaline and anger and they are ready to cause more destruction. ', 'They decided to set fire across several houses and a church on their way back home. ', 'So this was no longer about Fanny or I see this was just a mission to destroy any property owned by the black community in Rosewood and the surrounding areas with the mob, on the move, the black people living in Rosewood began to flee, the town in a hurry. ', 'They knew that the mob would be coming back. ', 'Wanting revenge for the murder of Andrews and Wilkerson. ', \"They weren't going to just let that go so many head in the cover of the swamp. \", 'Like the kids did thinking it would be hard to find them or catch them in there. ', 'With in Rosewood lived, a man named John right now. ', 'John Wright was well known within the black community. ']\n",
            "[\"He was a white man, but he was friendly to his neighbor's. \", 'Again. ', 'This is a different time, period, right? ', 'And John, he wanted to help protect them in their time of need. ', \"He's seeing out his window. \", \"What's going down in Rosewood, and he wants to open up his store and help the community. \", \"These are his neighbor's, his friends, his family. \", \"He can't just sit back and watch it because John was white, the mob. \", 'Even think about burning down his house. ', 'No. ', 'No, they did not, they were like, nope. ', \"He's white. \", \"He's good, save his house, but burn all these over here. \"]\n",
            "['There were also white families in Sumner who sheltered and protected, people who they knew often, people who worked for them Friday morning on January 5th, 1923. ', \"It's now day. \", 'Five of the Rosewood Massacre things have been pretty bad so far, but shits about to get even more real. ', 'Two hundred armed White. ', \"Men comes storming into Rosewood and they're coming from all over the state to be a part of this action with those two hundred armed white men. \"]\n",
            "['Some are even members of the Klu Klux Klan. ', 'As you can, probably imagine. ', 'This is not good. ', 'This is very bad. ', 'Why are they even here? ', 'How did they get? ', \"He's like, why are they here? \", 'What are they doing here? ', \"There isn't even much information as to how these guys knew what was going on. \", 'But what we do know is that they showed up. ']\n",
            "[\"So the group, it's A lot larger, right? \", 'And they were causing way more damage and destruction. ', 'They burned more homes. ', 'They burn the second Church, the Masonic lodge and the schoolhouse. ', 'They even burned the baseball field to just everything complete and utter destruction. ', \"Everything is gone except John Wright's house. \", \"So, at this point, it's hard to know how many black residents are still left in their Town. \", 'Those who could they ran for the swamp? ', 'But only those who were too old or sick to run. ', 'They were trapped there, and the members of the mob shot them on site, such as Lexi Gordon. ', 'She was a Rosewood resident. ', 'She ran from her burning home that day trying to escape when she was shot in the back and killed, not just killed. ', 'She was murdered the same day. ', 'A man named Mingo Williams was also murdered. ', 'He was shot in the head. ', \"He wasn't even from Rosewood. \", 'He was literally just in the wrong. ', 'Place at the wrong time Mingo was the seventh recorded person to die in Rosewood so far. ', \"There's Sam, Carter Sylvester carrier his mother Sarah, Lexi garden and now Mingo Williams who are killed by the mob, murdered by the mob and then there's Henry Andrews and Polly Wilkerson who were killed while storming, the carrier house. \", \"So in the early hours of day 6, it's around 4 a.m. \"]\n",
            "['Some help. ', 'Finally comes for. ', 'Oh, those who were trying to escape destruction by this time, word got out about what was going on in Rosewood. ', 'And everybody was talking about it. ', 'Right? ', 'Brothers, John and William, Bryce also got word about what was taking place in Rosewood. ', 'I know, I know. ', 'I know. ', \"I don't know. \", \"What's a lot of names. \", \"I'm throwing at you, but who are John and William Bryce? \"]\n",
            "['Okay. ', \"Well, they, they worked as train conductors who happen to pass through the Rosewood train station all of the time and the Rosewood train station was one of the Only things that wasn't burned down. \", 'So when they found out what was happening taken place, what was going down in Rosewood? ', 'They knew that they had to help out their community. ', 'So the brothers pulled their train into the station to allow women and children, who had been hiding in the swamp, hop on the train and get the heck out of Rosewood as fast as they could with a train full of people. ', 'The brace Brothers stopped in different cities along the Route, allowing the survivors to get off the train. ']\n",
            "['Rain and attempt to begin their lives. ', 'Again and a new city. ', 'They had left everything behind they escaped near death, and now they were forced to live in fear and never return to their homes and Rosewood. ', 'Again, to this day, some of the victims descendants still live in the nearby towns that they went to like Gainesville Florida. ', \"Now, let's take a little pause for a break Squarespace, empowers millions of dreamers makers and Jewelers by providing them with the tools. \", 'They need to bring their creative ideas with Squarespace. ', \"It's an all-in-one platform where you can build a website, claim a domain sell products or even just Market your brand Squarespace, has made it easier than ever to establish your online presence. \", \"It's the perfect option for people who are ready to take, you know that next step and like make their ideas come to life because you can personalize everything when it comes to your website, it can truly. \", 'Be a reflection of who you are and like what your brand stands for. ', \"It's so easy to use. \", 'If you are like new to this at all. ', \"It's not intimidating. \", \"If this sounds up your alley, I would suggest you head to squarespace.com dark history for a free trial and when you're ready to launch your new website, use the offer code dark history to save, 10% off your first purchase of a website or domain big. \", 'Thank you to Squarespace. ', 'Hey, Squarespace on Sunday.\\n']\n"
          ]
        }
      ]
    },
    {
      "cell_type": "markdown",
      "source": [
        "# Headline generator"
      ],
      "metadata": {
        "id": "NvjchzbJ4w-1"
      }
    },
    {
      "cell_type": "code",
      "source": [
        "! pip install transformers datasets"
      ],
      "metadata": {
        "colab": {
          "base_uri": "https://localhost:8080/",
          "height": 1000
        },
        "id": "3C2ZaL7C47bW",
        "outputId": "cd74496a-7a9d-414d-ad89-0896e5b06a7a"
      },
      "execution_count": 38,
      "outputs": [
        {
          "output_type": "stream",
          "name": "stdout",
          "text": [
            "Collecting transformers\n",
            "  Downloading transformers-4.17.0-py3-none-any.whl (3.8 MB)\n",
            "\u001b[K     |████████████████████████████████| 3.8 MB 5.0 MB/s \n",
            "\u001b[?25hCollecting datasets\n",
            "  Downloading datasets-2.0.0-py3-none-any.whl (325 kB)\n",
            "\u001b[K     |████████████████████████████████| 325 kB 61.8 MB/s \n",
            "\u001b[?25hRequirement already satisfied: requests in /usr/local/lib/python3.7/dist-packages (from transformers) (2.23.0)\n",
            "Requirement already satisfied: numpy>=1.17 in /usr/local/lib/python3.7/dist-packages (from transformers) (1.21.5)\n",
            "Collecting huggingface-hub<1.0,>=0.1.0\n",
            "  Downloading huggingface_hub-0.5.0-py3-none-any.whl (77 kB)\n",
            "\u001b[K     |████████████████████████████████| 77 kB 5.4 MB/s \n",
            "\u001b[?25hCollecting tokenizers!=0.11.3,>=0.11.1\n",
            "  Downloading tokenizers-0.11.6-cp37-cp37m-manylinux_2_12_x86_64.manylinux2010_x86_64.whl (6.5 MB)\n",
            "\u001b[K     |████████████████████████████████| 6.5 MB 42.7 MB/s \n",
            "\u001b[?25hRequirement already satisfied: filelock in /usr/local/lib/python3.7/dist-packages (from transformers) (3.6.0)\n",
            "Requirement already satisfied: regex!=2019.12.17 in /usr/local/lib/python3.7/dist-packages (from transformers) (2019.12.20)\n",
            "Collecting sacremoses\n",
            "  Downloading sacremoses-0.0.49-py3-none-any.whl (895 kB)\n",
            "\u001b[K     |████████████████████████████████| 895 kB 68.0 MB/s \n",
            "\u001b[?25hRequirement already satisfied: tqdm>=4.27 in /usr/local/lib/python3.7/dist-packages (from transformers) (4.63.0)\n",
            "Requirement already satisfied: packaging>=20.0 in /usr/local/lib/python3.7/dist-packages (from transformers) (21.3)\n",
            "Requirement already satisfied: importlib-metadata in /usr/local/lib/python3.7/dist-packages (from transformers) (4.11.3)\n",
            "Collecting pyyaml>=5.1\n",
            "  Downloading PyYAML-6.0-cp37-cp37m-manylinux_2_5_x86_64.manylinux1_x86_64.manylinux_2_12_x86_64.manylinux2010_x86_64.whl (596 kB)\n",
            "\u001b[K     |████████████████████████████████| 596 kB 45.3 MB/s \n",
            "\u001b[?25hRequirement already satisfied: typing-extensions>=3.7.4.3 in /usr/local/lib/python3.7/dist-packages (from huggingface-hub<1.0,>=0.1.0->transformers) (3.10.0.2)\n",
            "Requirement already satisfied: pyparsing!=3.0.5,>=2.0.2 in /usr/local/lib/python3.7/dist-packages (from packaging>=20.0->transformers) (3.0.7)\n",
            "Requirement already satisfied: pandas in /usr/local/lib/python3.7/dist-packages (from datasets) (1.3.5)\n",
            "Collecting fsspec[http]>=2021.05.0\n",
            "  Downloading fsspec-2022.3.0-py3-none-any.whl (136 kB)\n",
            "\u001b[K     |████████████████████████████████| 136 kB 42.3 MB/s \n",
            "\u001b[?25hRequirement already satisfied: pyarrow>=5.0.0 in /usr/local/lib/python3.7/dist-packages (from datasets) (6.0.1)\n",
            "Collecting aiohttp\n",
            "  Downloading aiohttp-3.8.1-cp37-cp37m-manylinux_2_5_x86_64.manylinux1_x86_64.manylinux_2_12_x86_64.manylinux2010_x86_64.whl (1.1 MB)\n",
            "\u001b[K     |████████████████████████████████| 1.1 MB 53.7 MB/s \n",
            "\u001b[?25hRequirement already satisfied: multiprocess in /usr/local/lib/python3.7/dist-packages (from datasets) (0.70.12.2)\n",
            "Collecting xxhash\n",
            "  Downloading xxhash-3.0.0-cp37-cp37m-manylinux_2_17_x86_64.manylinux2014_x86_64.whl (212 kB)\n",
            "\u001b[K     |████████████████████████████████| 212 kB 56.4 MB/s \n",
            "\u001b[?25hCollecting responses<0.19\n",
            "  Downloading responses-0.18.0-py3-none-any.whl (38 kB)\n",
            "Requirement already satisfied: dill in /usr/local/lib/python3.7/dist-packages (from datasets) (0.3.4)\n",
            "Requirement already satisfied: chardet<4,>=3.0.2 in /usr/local/lib/python3.7/dist-packages (from requests->transformers) (3.0.4)\n",
            "Requirement already satisfied: urllib3!=1.25.0,!=1.25.1,<1.26,>=1.21.1 in /usr/local/lib/python3.7/dist-packages (from requests->transformers) (1.24.3)\n",
            "Requirement already satisfied: certifi>=2017.4.17 in /usr/local/lib/python3.7/dist-packages (from requests->transformers) (2021.10.8)\n",
            "Requirement already satisfied: idna<3,>=2.5 in /usr/local/lib/python3.7/dist-packages (from requests->transformers) (2.10)\n",
            "Collecting urllib3!=1.25.0,!=1.25.1,<1.26,>=1.21.1\n",
            "  Downloading urllib3-1.25.11-py2.py3-none-any.whl (127 kB)\n",
            "\u001b[K     |████████████████████████████████| 127 kB 41.5 MB/s \n",
            "\u001b[?25hCollecting asynctest==0.13.0\n",
            "  Downloading asynctest-0.13.0-py3-none-any.whl (26 kB)\n",
            "Requirement already satisfied: attrs>=17.3.0 in /usr/local/lib/python3.7/dist-packages (from aiohttp->datasets) (21.4.0)\n",
            "Collecting multidict<7.0,>=4.5\n",
            "  Downloading multidict-6.0.2-cp37-cp37m-manylinux_2_17_x86_64.manylinux2014_x86_64.whl (94 kB)\n",
            "\u001b[K     |████████████████████████████████| 94 kB 3.2 MB/s \n",
            "\u001b[?25hRequirement already satisfied: charset-normalizer<3.0,>=2.0 in /usr/local/lib/python3.7/dist-packages (from aiohttp->datasets) (2.0.12)\n",
            "Collecting aiosignal>=1.1.2\n",
            "  Downloading aiosignal-1.2.0-py3-none-any.whl (8.2 kB)\n",
            "Collecting yarl<2.0,>=1.0\n",
            "  Downloading yarl-1.7.2-cp37-cp37m-manylinux_2_5_x86_64.manylinux1_x86_64.manylinux_2_12_x86_64.manylinux2010_x86_64.whl (271 kB)\n",
            "\u001b[K     |████████████████████████████████| 271 kB 56.1 MB/s \n",
            "\u001b[?25hCollecting async-timeout<5.0,>=4.0.0a3\n",
            "  Downloading async_timeout-4.0.2-py3-none-any.whl (5.8 kB)\n",
            "Collecting frozenlist>=1.1.1\n",
            "  Downloading frozenlist-1.3.0-cp37-cp37m-manylinux_2_5_x86_64.manylinux1_x86_64.manylinux_2_17_x86_64.manylinux2014_x86_64.whl (144 kB)\n",
            "\u001b[K     |████████████████████████████████| 144 kB 53.5 MB/s \n",
            "\u001b[?25hRequirement already satisfied: zipp>=0.5 in /usr/local/lib/python3.7/dist-packages (from importlib-metadata->transformers) (3.7.0)\n",
            "Requirement already satisfied: pytz>=2017.3 in /usr/local/lib/python3.7/dist-packages (from pandas->datasets) (2018.9)\n",
            "Requirement already satisfied: python-dateutil>=2.7.3 in /usr/local/lib/python3.7/dist-packages (from pandas->datasets) (2.8.2)\n",
            "Requirement already satisfied: six>=1.5 in /usr/local/lib/python3.7/dist-packages (from python-dateutil>=2.7.3->pandas->datasets) (1.15.0)\n",
            "Requirement already satisfied: joblib in /usr/local/lib/python3.7/dist-packages (from sacremoses->transformers) (1.1.0)\n",
            "Requirement already satisfied: click in /usr/local/lib/python3.7/dist-packages (from sacremoses->transformers) (7.1.2)\n",
            "Installing collected packages: multidict, frozenlist, yarl, urllib3, asynctest, async-timeout, aiosignal, pyyaml, fsspec, aiohttp, xxhash, tokenizers, sacremoses, responses, huggingface-hub, transformers, datasets\n",
            "  Attempting uninstall: urllib3\n",
            "    Found existing installation: urllib3 1.24.3\n",
            "    Uninstalling urllib3-1.24.3:\n",
            "      Successfully uninstalled urllib3-1.24.3\n",
            "  Attempting uninstall: pyyaml\n",
            "    Found existing installation: PyYAML 3.13\n",
            "    Uninstalling PyYAML-3.13:\n",
            "      Successfully uninstalled PyYAML-3.13\n",
            "\u001b[31mERROR: pip's dependency resolver does not currently take into account all the packages that are installed. This behaviour is the source of the following dependency conflicts.\n",
            "datascience 0.10.6 requires folium==0.2.1, but you have folium 0.8.3 which is incompatible.\u001b[0m\n",
            "Successfully installed aiohttp-3.8.1 aiosignal-1.2.0 async-timeout-4.0.2 asynctest-0.13.0 datasets-2.0.0 frozenlist-1.3.0 fsspec-2022.3.0 huggingface-hub-0.5.0 multidict-6.0.2 pyyaml-6.0 responses-0.18.0 sacremoses-0.0.49 tokenizers-0.11.6 transformers-4.17.0 urllib3-1.25.11 xxhash-3.0.0 yarl-1.7.2\n"
          ]
        },
        {
          "output_type": "display_data",
          "data": {
            "application/vnd.colab-display-data+json": {
              "pip_warning": {
                "packages": [
                  "urllib3"
                ]
              }
            }
          },
          "metadata": {}
        }
      ]
    },
    {
      "cell_type": "code",
      "source": [
        "!pip install sentencepiece"
      ],
      "metadata": {
        "colab": {
          "base_uri": "https://localhost:8080/"
        },
        "id": "W43bXEDi5S3f",
        "outputId": "ba550ba3-d4a1-494a-bf46-02f11189acac"
      },
      "execution_count": 40,
      "outputs": [
        {
          "output_type": "stream",
          "name": "stdout",
          "text": [
            "Collecting sentencepiece\n",
            "  Downloading sentencepiece-0.1.96-cp37-cp37m-manylinux_2_17_x86_64.manylinux2014_x86_64.whl (1.2 MB)\n",
            "\u001b[K     |████████████████████████████████| 1.2 MB 5.1 MB/s \n",
            "\u001b[?25hInstalling collected packages: sentencepiece\n",
            "Successfully installed sentencepiece-0.1.96\n"
          ]
        }
      ]
    },
    {
      "cell_type": "markdown",
      "source": [
        "### 處理輸入"
      ],
      "metadata": {
        "id": "hK8qwE7U5VSG"
      }
    },
    {
      "cell_type": "code",
      "source": [
        "podcast_test = [\"\"]*len(segmented_text)\n",
        "for i in range(len(segmented_text)):\n",
        "  for j in range(len(segmented_text[i])):\n",
        "    podcast_test[i]+=segmented_text[i][j]"
      ],
      "metadata": {
        "id": "STBbCVmZ5UzG"
      },
      "execution_count": 45,
      "outputs": []
    },
    {
      "cell_type": "code",
      "source": [
        "from transformers import pipeline"
      ],
      "metadata": {
        "id": "xpFk5A6q5c9_"
      },
      "execution_count": 46,
      "outputs": []
    },
    {
      "cell_type": "markdown",
      "source": [
        "## 使用Michau/t5-base-en-generate-headline"
      ],
      "metadata": {
        "id": "eASYWVCsypFk"
      }
    },
    {
      "cell_type": "code",
      "source": [
        "summarizer = pipeline(model=\"Michau/t5-base-en-generate-headline\", tokenizer=\"Michau/t5-base-en-generate-headline\")"
      ],
      "metadata": {
        "colab": {
          "base_uri": "https://localhost:8080/",
          "height": 209,
          "referenced_widgets": [
            "391af1658a5a45a2ab68f8f0a44c4724",
            "e2ee4e15804c4e6c9658d459be892a9b",
            "8c67140f8d11453fab41797db15fa2cd",
            "0934ad478ab24ed88c26995684484ed3",
            "dbaba94b12d04cc0b780659935fd1c2c",
            "e4d012e975e6425cb3482b3ede559976",
            "c3955ccfc9054b649af11df7f2575e0d",
            "7111e3379b8c42f98df0a2c8edb127b8",
            "15cf4565b4ad4fe6b467018b237bf5a2",
            "cf475fb1ccdb46f9baf5eb5328a7c95b",
            "4e5cc802b0c94c338b1f7d8d8b767036",
            "20fbdad0961f41f6928dd98a1b3dbb86",
            "c5bacc7fab034af59691f26b806474c1",
            "6e0ac03f8096481b879f36832b9deaf2",
            "b357b88f203d4536889b82a9e0f388c6",
            "c7ba853257da4bc7bd3143946f6b24a3",
            "7e637408f4b94d299452478849c09f3a",
            "0502425107d74aa497149a16e96e8bd9",
            "bc698994b3cd489d8b20347fad98529b",
            "79ae1ac9ada0475695e6b1d83c142985",
            "f1350def4f484fb3a4ac594a9b2132b6",
            "5f8aa00383124001946b837b29281c2b",
            "4856603df9b040c18ad423eaef30b6fe",
            "3b493bfdffd04d68b265003c8a17a1d8",
            "635d6303f4084e88954571cd0d55610c",
            "561a3bfaa06148a8adea1789bb57e9ce",
            "04d6ad3e3a554ce3bf42ce6a6e5e3532",
            "e876a3f77de54d7393df0ceb3692f0f4",
            "3272ab5aba6747d7bd0b525d315fa600",
            "ca2e955368bd48be918224aa254c3f40",
            "7d2db0dae76a44daada5af19bec6bc03",
            "5822cf6161ff4b719267ec4ed21ce200",
            "db1588a91a404c239d88474a5b869912",
            "6d54777d4f774a8c91fade86a627cd0c",
            "792b0464a7ae4e46967059a7cf6b5024",
            "29e4c8f1b34e449884db7b380aac813d",
            "8adc8c78f17d4659a6f3fc8b22338a4e",
            "7df3cb40d3694c8aa98dd0eb9982e9aa",
            "864a5a4196344fe39ae669cd4f5d3202",
            "ed1f5543afb24dcf93843f6524b471ad",
            "1d90a0c1131045948c9cf94fa44294b1",
            "1f913b52d9504db7a104cde8ab7128bc",
            "59624d78e9864259926e6dc94d17d132",
            "c99330e86a5e43eca828c938a33ed317",
            "1bfa9e589b2847fc84f923f1c42f4a43",
            "e8d5b3dd1f1c432a9294fc3ad1f0b312",
            "c64511702e0646dea61585ca630798ef",
            "c8757a5d5f20402ea0498b7c5b394df2",
            "7460df24bc1640ae9fa8d452028c8027",
            "4e99a47514fb4b2f81a03bc4495115e8",
            "c5f53f0b2ef441239b1f2382b4728989",
            "c365eaa1846840768002367640181241",
            "fb2c6e70afcf4befac1442e798f628c5",
            "36e317e3997f4048b27f325c7275d69b",
            "987a01d02e9a423eb921027539ae09d5",
            "18d19845fa6940248ab98f8ff1c2a85d",
            "fb4744f8c6fe46748f5305d568a39927",
            "d7b29d73da0d4f60ae38b19f46192c88",
            "5c85b070bea04c119f756b7e74f6fc9a",
            "61c10fd263004a2694ee306c8444a14b",
            "0ffd6e2b971a4ba2a77f97b4bf6b411a",
            "b0c94f48987a47cb9d64dfd73d078ba9",
            "2d64a95be0284981bc1b2eb212be7d0f",
            "8dcb5ac5229a47c89b1caefab0678454",
            "264c25a024af4a909b63fb6e295b96c1",
            "f2ab2febf9cb4d17b74dcafb3880e521"
          ]
        },
        "id": "zw95k5Qh69LA",
        "outputId": "26654525-8f6a-423c-8643-2559d3cd105d"
      },
      "execution_count": 47,
      "outputs": [
        {
          "output_type": "display_data",
          "data": {
            "text/plain": [
              "Downloading:   0%|          | 0.00/1.31k [00:00<?, ?B/s]"
            ],
            "application/vnd.jupyter.widget-view+json": {
              "version_major": 2,
              "version_minor": 0,
              "model_id": "391af1658a5a45a2ab68f8f0a44c4724"
            }
          },
          "metadata": {}
        },
        {
          "output_type": "display_data",
          "data": {
            "text/plain": [
              "Downloading:   0%|          | 0.00/1.21k [00:00<?, ?B/s]"
            ],
            "application/vnd.jupyter.widget-view+json": {
              "version_major": 2,
              "version_minor": 0,
              "model_id": "20fbdad0961f41f6928dd98a1b3dbb86"
            }
          },
          "metadata": {}
        },
        {
          "output_type": "display_data",
          "data": {
            "text/plain": [
              "Downloading:   0%|          | 0.00/850M [00:00<?, ?B/s]"
            ],
            "application/vnd.jupyter.widget-view+json": {
              "version_major": 2,
              "version_minor": 0,
              "model_id": "4856603df9b040c18ad423eaef30b6fe"
            }
          },
          "metadata": {}
        },
        {
          "output_type": "display_data",
          "data": {
            "text/plain": [
              "Downloading:   0%|          | 0.00/43.0 [00:00<?, ?B/s]"
            ],
            "application/vnd.jupyter.widget-view+json": {
              "version_major": 2,
              "version_minor": 0,
              "model_id": "6d54777d4f774a8c91fade86a627cd0c"
            }
          },
          "metadata": {}
        },
        {
          "output_type": "display_data",
          "data": {
            "text/plain": [
              "Downloading:   0%|          | 0.00/773k [00:00<?, ?B/s]"
            ],
            "application/vnd.jupyter.widget-view+json": {
              "version_major": 2,
              "version_minor": 0,
              "model_id": "1bfa9e589b2847fc84f923f1c42f4a43"
            }
          },
          "metadata": {}
        },
        {
          "output_type": "display_data",
          "data": {
            "text/plain": [
              "Downloading:   0%|          | 0.00/1.74k [00:00<?, ?B/s]"
            ],
            "application/vnd.jupyter.widget-view+json": {
              "version_major": 2,
              "version_minor": 0,
              "model_id": "18d19845fa6940248ab98f8ff1c2a85d"
            }
          },
          "metadata": {}
        }
      ]
    },
    {
      "cell_type": "code",
      "source": [
        "summary = summarizer(podcast_test, min_length=5, max_length=90)"
      ],
      "metadata": {
        "colab": {
          "base_uri": "https://localhost:8080/"
        },
        "id": "-NIsP3SV7FQO",
        "outputId": "07469f53-36fd-464a-9caa-e8ff76ea9da2"
      },
      "execution_count": 48,
      "outputs": [
        {
          "output_type": "stream",
          "name": "stderr",
          "text": [
            "Token indices sequence length is longer than the specified maximum sequence length for this model (526 > 512). Running this sequence through the model will result in indexing errors\n"
          ]
        }
      ]
    },
    {
      "cell_type": "markdown",
      "source": [
        "### 顯示結果"
      ],
      "metadata": {
        "id": "1X4gK_W77HYq"
      }
    },
    {
      "cell_type": "code",
      "source": [
        "for sum in summary:\n",
        "  print(sum['generated_text'])"
      ],
      "metadata": {
        "colab": {
          "base_uri": "https://localhost:8080/"
        },
        "id": "Zqyd9Sp37Jon",
        "outputId": "f91779cb-a0a8-4ac5-a482-234d743eefed"
      },
      "execution_count": 52,
      "outputs": [
        {
          "output_type": "stream",
          "name": "stdout",
          "text": [
            "The Dark History Podcast\n",
            "The Death of James Taylor\n",
            "The Rosewood Massacre\n",
            "Best Fiends - The Mobile Puzzle Game That Will Put A Challenge To Your Noggin\n",
            "Best Fiends - The Best Fiends Game\n",
            "What's Going On Screaming?\n",
            "The Story of Fanny and the Black Man Attacked Her\n",
            "Sarah's Version of the White Man Attacking Fanny\n",
            "Jesse Hunter, Jesse Hunter, Jesse Hunter, Jesse Hunter, Jesse Hunter, Jesse Hunter, Jesse Hunter, Jesse Hunter, Jesse Hunter, Jesse Hunter, Jesse Hunter, Jesse Hunter, Jesse Hunter, Jesse Hunter, Jesse Hunter, Jesse Hunter, Jesse Hunter, Jesse Hunter, Jesse Hunter, Jesse Hunter, Jesse Hunter, Jesse Hunter, J\n",
            "The Posse, The Posse\n",
            "Sam Carter, The Posse, The Posse\n",
            "Hello Fresh - America's Number One Meal Kit\n",
            "The Black Community in Rosewood, Texas\n",
            "John, Save His House, But Burn All These Over Here\n",
            "Rosewood Massacre - Five of the Rosewood Massacre\n",
            "The Klu Klux Klan is a gang of a bunch of people.\n",
            "The Mob Kills Black Residents in Rosewood\n",
            "Rosewood, OH, Those Who Are Trying to Escape Destruction by This Time\n",
            "The Brace Brothers Helped the Rosewood Train Station\n",
            "Squarespace - The Perfect Platform for Dreamers and Jewelers\n"
          ]
        }
      ]
    }
  ]
}
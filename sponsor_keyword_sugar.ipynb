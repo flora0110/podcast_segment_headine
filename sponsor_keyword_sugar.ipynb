{
  "nbformat": 4,
  "nbformat_minor": 0,
  "metadata": {
    "colab": {
      "name": "sponsor_keyword_sugar.ipynb",
      "provenance": [],
      "collapsed_sections": [
        "iTa3NcQ46GLG",
        "ZyeZ6a976Qts",
        "XBLhS9AL7a0d",
        "zDjJtTiq_Kdu"
      ],
      "include_colab_link": true
    },
    "kernelspec": {
      "name": "python3",
      "display_name": "Python 3"
    },
    "language_info": {
      "name": "python"
    }
  },
  "cells": [
    {
      "cell_type": "markdown",
      "metadata": {
        "id": "view-in-github",
        "colab_type": "text"
      },
      "source": [
        "<a href=\"https://colab.research.google.com/github/flora0110/podcast_segment_headine/blob/main/sponsor_keyword_sugar.ipynb\" target=\"_parent\"><img src=\"https://colab.research.google.com/assets/colab-badge.svg\" alt=\"Open In Colab\"/></a>"
      ]
    },
    {
      "cell_type": "markdown",
      "source": [
        "#### input"
      ],
      "metadata": {
        "id": "iTa3NcQ46GLG"
      }
    },
    {
      "cell_type": "code",
      "execution_count": 11,
      "metadata": {
        "id": "Su85dCvzh1iu"
      },
      "outputs": [],
      "source": [
        "segmented_text = [['Welcome to the huberman Lab podcast, where we discuss science and science based tools for everyday life. ', \"I'm Andrew huberman, and I'm a professor of neurobiology and Ophthalmology at Stanford school of medicine. \", 'Today. ', 'We are going to discuss sugar in particular how our nervous system regulates our sugar intake and are seeking of sugar. ', \"We're also going to discuss how sugar regulates our nervous system and as you'll soon, learn sugar really impacts our brain and body by two main mechanisms. \", 'Isms, one of those mechanisms is based on the Sweet Taste of sugar which itself is rewarding. ', \"Even if you're not much of a sweet tooth. \", 'I confess. ', \"I'm not most people enjoy sweet tastes more than bitter tastes and the Sweet Taste of sugar. \", 'And its various forms is strongly reinforcing. ', 'Meaning it triggers the activation of neurons nerve cells in the brain and body that make us want to consume more of that sweet substance. ', 'Incidentally. ', 'Sweet taste also make us want to eat more of other substances. ', 'Senses as well. ', 'You may be familiar with that phenomenon. ', 'Now sugar also triggers mechanisms in the brain and body based on its nutritive content independent of its sweetness. ', 'What that means is that the actual caloric content and the way that Sugar interacts with your nervous system at a subconscious level without your awareness, also impacts your craving and seeking of sugar and other Foods today. ', \"We are going to discuss what happens when you ingest sugar in terms of your body's reaction. \", 'Your brains reaction. ', \"We are also going to talk about what happens when you don't ingest enough sugar, because it turns out sugar is such a powerful fuel for the brain that under conditions, where people don't ingest enough sugar or where their so-called blood glucose, which is basically a blood sugar of a particular form gets too low there neurons, don't function as well. \", 'That said, their conditions of very low blood sugar in which neurons can function even better. ', 'So today we are going to talk about the ins and outs the ups and downs of sugar. ', \"As it relates to your nervous system and by the end of this episode, I'm confident that you have a much clearer picture as to how much sugar you should be ingesting, whether or not you should avoid sugars that you're currently eating, and you will certainly understand much more about the energy and fuel sources that your brain relies on which I'm certain, will allow you to make better informed choices about the foods, you eat, and avoid toward mental health, physical health, and performance. \", \"I'm pleased to announce that I'm hosting to Live Events. \"],['This may the first live event will Hosted in Seattle, Washington on May 17th. ', 'The second live event will be hosted in Portland, Oregon on May 18th. ', 'Both are part of a lecture series entitled, the brain-body contract during which I will discuss science and science based tools for mental health, physical, health, and performance. ', \"I should point out that while some of the material, I'll cover will overlap with information covered here on the huberman Lab podcast and on various social media posts. \", 'Most of the information I will cover is going to be distinct from information covered on the podcast. ', 'Or elsewhere. ', \"So once again, it's Seattle on May 17th. \", 'Portland on May 18th. '],['You can access tickets by going to human lab.com, / tour and I hope to see you there. ', \"Before we begin, I'd like to emphasize that this podcast is separate from my teaching and research roles at Stanford. \", 'It is however, a part of my desire and effort to bring zero cost to Consumer information about science and science related tools to the general public in keeping with that theme. ', \"I'd like to thank the sponsors of today's podcast. \", 'Our first sponsor is thesis thesis makes what are called? ', 'Nootropics, which means smart drugs. ', 'Now, to be honest. ', 'I am not a fan of the term nootropics. ', \"I don't believe in smart drugs. \", \"In the sense that I don't believe that there's any one substance, or collection of substances that can make us smarter. \", 'I do believe based on science. ', 'However, that there are particular, neural circuits and brain functions that allow us to be more focused, more alert access creativity, be more motivated at cetera. ', \"That's just the way that the brain works different, neural circuits for different brain States. \", \"And so the idea of a nootropic that's just going to make a Smarter all around fails to acknowledge that. \", 'Smarter is many things, right? ', \"If you're an artist or a musician, you're doing math, you're doing accounting a different part of the day. \", 'You need to be creative. ', 'These are all different brain, processes thesis understands this. ', 'And as far as I know that the first nootropics company to create targeted, nootropics for specific outcomes. ', 'They only use the highest quality ingredients, which of course is essential. ', \"Some of those I've talked about on the podcast, things like DHA, ginkgo biloba, phosphatidyl serine. \", 'They give you the ability to try several different blends over the course of a month. ', 'Discover which nootropics work best for your unique brain, chemistry and genetics and goals. ', \"And with that personalization design, a kit of nootropics that's ideal for the different brain and body States. \", 'You want to access. ', \"I've been using thesis for more than six months now and I can confidently say that their nootropics have been a total Game Changer. \", \"My go-to formula is the clarity formula or sometimes I'll use their energy formula before training to get your own personalized. \", 'Nootropic starter kit. ', 'Go online to take thesis.com huberman, take a A minute quiz and thesis will send you four different formulas to try in your first month. ', \"That's take thesis.com huberman and use the code huberman at checkout for 10% off. \"],['Your first order. ', \"Today's episode is also brought To Us by athletic greens now called a G1. \", 'Athletic greens is an all-in-one vitamin mineral, probiotic drink. ', \"I've been taking athletic greens since 2012. \", \"So I'm delighted that they're sponsoring the podcast. \", 'The reason I started taking athletic Greens in the reason. ', 'I still take out letter greens once or twice a day, is that it helps me, cover all of my bases. '],['Nutritional needs. ', 'It makes up for any deficiencies that I might have. ', 'In addition. ', 'It has probiotics which are vital for microbiome Health. ', \"I've done a couple of episodes now on the so-called gut microbiome and the ways in which the microbiome interacts, with your immune system, with your brain to regulate mood and essentially with every biological system relevant to health throughout your brain and body without let it greens. \", 'I get the vitamins. ', 'I need the minerals. ', 'I need and the probiotics to support my microbiome. ', \"If you'd like to try out, let it greens, you can go. \", 'Two athletic greens.com huberman and claim a special offer. ', \"They'll give you five free travel packs, which make it easy to mix up athletic greens while you're on the road, plus a year supply of vitamin D3 K to our ton of data. \", \"Now showing that vitamin D3 is essential for various aspects of our brain and body Health, even if we're getting a lot of sunshine, many of us are still deficient in vitamin D3. \", 'And K2 is also important because it regulates things like cardiovascular function calcium in the body. ', 'And so on again, go to athletic greens.com hubermann. ', \"To claim the special offer of the five free travel packs and the year supply of vitamin D3 K to today's episode is also brought To Us by inside tracker inside trackers, a personalized nutrition platform. \", 'That analyzes data from your blood and DNA to help you better understand your body and help you reach your health goals. ', \"I've long been a believer in getting regular blood work done. \", 'For the simple reason that many of the factors that impact your immediate and long-term Health can only be assessed with a quality blood test. ', \"What's unique about inside tracker. \", 'Is that while there are a lot of different Tests out there for hormones and metabolic factors Etc with inside tracker. ', 'You get the numbers back in terms of your levels, but they also give you very clear. ', 'Directives. ', \"In terms of Lifestyle nutrition and supplementation that can help you bring those values into the ranges that are best for you and your health goals and that's very different than a lot of the other programs where you get a lot of information. \", \"We don't really know what to do with that information inside tracker makes that all very easy to understand and very actionable based on the very easy-to-use dashboard at inside tracker. \", \"If you'd like to try inside track, You can visit inside tracker.com huberman to get 20% off any of inside. \", 'Trackers plans. ', 'Just use the code huberman at checkout. ', \"Okay, let's talk about sugar. \", \"Let's talk about how sugar impacts your brain and how your brain impacts your pursuit or your avoidance of sugar. \", \"Let's get a few things out of the way. \", 'First. ', \"The first thing is that there's nothing inherently bad about sugar. \", \"I know the word sugar gets a bad rap nowadays and indeed, you're going to hear over and over again. \", 'During this podcast that consuming a lot of refined sugars in particular, high fructose, corn syrup is known to have a very large number of bad effects on the brain and body. ', \"I don't know that there's any one that really debates that anymore, even if we just agree and I think we should all agree on the so-called calories in calories out principle, right? \"],[\"It's a principle of thermodynamics that if we ingest more energy than we burn, we are going to gain weight. \", 'If we ingest less energy than we burn, we are generally going to lose weight and if The two things are imbalance ingestion and burning of energy. ', \"Well, then we're going to maintain weight. \"],['So everyone agrees on that. ', 'I agree on that. ', \"But beyond that there are a number of ways in which particular nutrients in the case of today's episode sugar impact. \", 'The way that the brain works such that we tend to seek out more of particular nutrients. ', 'For instance. ', 'If we eat sugar, there are two or at least two mechanisms by which we will crave more sugar. ', 'I think. ', 'People are aware of that experience. ', \"But today I'm going to explain exactly how that works. \", 'But also that when we ingest sugar, it has a bunch of different effects on the way that our neural circuits work that can allow us to be more or less focused more or less agitated more or less happy more or less depressed in some cases. ', 'So today as we explore this thing. ', \"We're calling Sugar, We're Going to explore that mainly in the context of the nervous system, but also in the context of how the nervous system regulates many many. \", 'Functions and behaviors that are important to all of you, your ability to think your ability, to exercise, your ability to gain weight lose weight. ', 'Whatever your goals might happen, to be sugar, plays a critical role in achieving those goals. ', \"And in some cases, if you're ingesting too much at the wrong times of the wrong forms, sugar can actually impede those goals. \", 'In fact, sugar can prevent all the right behaviors from allowing you to achieve the goals that you want. ', 'So today we are going to place sugar into its proper context. ', 'The way I want to start. ', 'Start off by doing that is to tell you a little bit of what happens when we eat and a little bit of what the brain does to respond to those events. ', 'So what happens when we eat? ', \"Well, I've done an entire episode on metabolism. \", \"So if you're interested in the full Cascade of hormonal and neural events that occurs when we eat, please check out that episode. \", \"But for sake of today's discussion, let's just take a what I call Top Contour view of the hormonal response to ingesting food. \", 'Now, any time we eat, that is the consequence of a number of things that happen. ', \"Before we ate, there's a hormone in our brain and body called ghrelin. \", 'Spelled GH reli. ', \"N ghrelin is a hormone that increases depending on how long it's been since we ate last. \", 'Okay. ', \"So the longer it's been since we had a meal ghrelin levels are going to be higher and higher and higher and it essentially makes us hungry by interacting with particular neurons in an area of the brain called the arcuate nucleus of the hypothalamus.- \", 'and some other areas as well, like the lateral hypothalamus. ', \"You don't need to know the names of those brain areas. \", \"But if you'd like to know them, there they are ghrelin increases. \", 'It tends to make us hungry. ', 'And then when we eat typically, what happens is ghrelin levels, go down. '],[\"So it's a very logical system. \", 'Now when we eat assuming that we eat carbohydrates, but even if we just eat some protein and some fats, we will experience a slight or in some cases, a large rise in blood. ', 'Glucose blood. ', \"Glucose is simply blood sugar and the body and brain, we should say particular the nervous system doesn't function. \", 'Well, if blood sugar is too high or too low. ', 'So as a consequence we have another hormone, which is released from the pancreas, which is called insulin which helps regulate the amount of glucose in the bloodstream. ', 'So even if you were to ingest, an entire cup and 8 ounce cup of pure table sugar, which would send your blood glucose very very high assuming that you have a normal. '],[\"Insulin response that you're not diabetic that insulin response would help clamp that blood glucose level so that it did not cause damage to your brain and body. \", \"Because if blood sugar goes too high, it's actually toxic to neurons and other cells of your body can kill them off and neurons of the central nervous system in the brain and spinal cord. \", 'Once they are dead. ', 'They do not come back. ', 'So your biological systems understand this at a biological level that is and prevent that death of cells due to high blood sugar by keeping. ', 'Insulin around in order to clamp blood glucose diabetics. ', \"We call them type 1 diabetics who don't make insulin have to take insulin when they eat in particular, when they foods that raise their blood sugar specifically to avoid that neurotoxicity in the other deleterious effects of high blood sugar. \", 'Okay. ', 'So ghrelin is a hormone that goes up the longer. ', \"It's been since we've eaten it tends to stimulate hunger when we eat ghrelin is suppressed blood glucose typically goes up, especially when we a carbohydrate containing meal. \", 'When blood glucose goes up, its regulated in the body meaning its Peaks and its valleys are more less smoothed out and that glucose is sequestered. ', \"It's taken away where it needs to be taken away. \", \"And in certain locations, it's delivered to cells so that those cells can use the glucose. \", 'Now, one of the chief organs for glucose utilization is the brain neurons are tremendously metabolically active and their preferred mode of metabolism is glucose metabolism. ', \"The words neurons basically run on sugar, which is not to say that you should eat a lot of sugar as you'll see today. \", 'There are states of mind and body. ', 'For instance, fasted States in which people report having immense amounts of mental Clarity and their blood glucose is actually quite low. ', 'So it is simply not the case that the more sugar that you ingest the better that your brain will function. ', 'But it is the case that for most people, meaning people who are not on a ketogenic or very low carbohydrate diet. ', \"They're not adapted to low carbohydrate. \", 'Diets that neurons in their brain and body are using glucose in order to function. ', \"That's what allows those neurons to fire electrical, potentials. \", \"That's how we refer to it. \", 'Firing meaning, sending electrical signals down their lengths to communicate with other neurons. ']]"
      ]
    },
    {
      "cell_type": "markdown",
      "source": [
        "# 引入"
      ],
      "metadata": {
        "id": "HpmyFAhc6eX8"
      }
    },
    {
      "cell_type": "code",
      "source": [
        "!pip install -U scikit-learn"
      ],
      "metadata": {
        "colab": {
          "base_uri": "https://localhost:8080/"
        },
        "id": "E7ShNAHWoDcm",
        "outputId": "7616cd0d-d5d5-45d5-ba62-57ff36959a4c"
      },
      "execution_count": 12,
      "outputs": [
        {
          "output_type": "stream",
          "name": "stdout",
          "text": [
            "Requirement already satisfied: scikit-learn in /usr/local/lib/python3.7/dist-packages (1.0.2)\n",
            "Requirement already satisfied: numpy>=1.14.6 in /usr/local/lib/python3.7/dist-packages (from scikit-learn) (1.21.5)\n",
            "Requirement already satisfied: threadpoolctl>=2.0.0 in /usr/local/lib/python3.7/dist-packages (from scikit-learn) (3.1.0)\n",
            "Requirement already satisfied: joblib>=0.11 in /usr/local/lib/python3.7/dist-packages (from scikit-learn) (1.1.0)\n",
            "Requirement already satisfied: scipy>=1.1.0 in /usr/local/lib/python3.7/dist-packages (from scikit-learn) (1.4.1)\n"
          ]
        }
      ]
    },
    {
      "cell_type": "code",
      "source": [
        "!pip install --user -U nltk"
      ],
      "metadata": {
        "colab": {
          "base_uri": "https://localhost:8080/"
        },
        "id": "8_KiKwuQ9Yzm",
        "outputId": "f5592b5a-3eef-4b31-89b0-7adfd42da183"
      },
      "execution_count": 94,
      "outputs": [
        {
          "output_type": "stream",
          "name": "stdout",
          "text": [
            "Requirement already satisfied: nltk in /root/.local/lib/python3.7/site-packages (3.7)\n",
            "Requirement already satisfied: joblib in /usr/local/lib/python3.7/dist-packages (from nltk) (1.1.0)\n",
            "Requirement already satisfied: tqdm in /usr/local/lib/python3.7/dist-packages (from nltk) (4.64.0)\n",
            "Requirement already satisfied: click in /usr/local/lib/python3.7/dist-packages (from nltk) (7.1.2)\n",
            "Requirement already satisfied: regex>=2021.8.3 in /root/.local/lib/python3.7/site-packages (from nltk) (2022.3.15)\n"
          ]
        }
      ]
    },
    {
      "cell_type": "code",
      "source": [
        "from sklearn.feature_extraction.text import CountVectorizer\n",
        "from sklearn.feature_extraction.text import TfidfTransformer"
      ],
      "metadata": {
        "id": "-J1upFUM5PVF"
      },
      "execution_count": 13,
      "outputs": []
    },
    {
      "cell_type": "markdown",
      "source": [
        "# 處理輸入"
      ],
      "metadata": {
        "id": "8NXN7BWz4901"
      }
    },
    {
      "cell_type": "code",
      "source": [
        "# 將每個段落內的句子合起來變成string\n",
        "podcast_test = [\"\"]*len(segmented_text)\n",
        "for i in range(len(segmented_text)):\n",
        "  for j in range(len(segmented_text[i])):\n",
        "    podcast_test[i]+=segmented_text[i][j]\n",
        "  "
      ],
      "metadata": {
        "id": "ggWot9k3kEBG"
      },
      "execution_count": 169,
      "outputs": []
    },
    {
      "cell_type": "markdown",
      "source": [
        "#### 輸出"
      ],
      "metadata": {
        "id": "ZyeZ6a976Qts"
      }
    },
    {
      "cell_type": "code",
      "source": [
        "for podcast_test_single in podcast_test:\n",
        "  print(podcast_test_single)"
      ],
      "metadata": {
        "colab": {
          "base_uri": "https://localhost:8080/"
        },
        "id": "OE3-7j1fmjm_",
        "outputId": "fa035230-26ad-4850-e05b-980f9b757f6c"
      },
      "execution_count": 170,
      "outputs": [
        {
          "output_type": "stream",
          "name": "stdout",
          "text": [
            "Welcome to the huberman Lab podcast, where we discuss science and science based tools for everyday life. I'm Andrew huberman, and I'm a professor of neurobiology and Ophthalmology at Stanford school of medicine. Today. We are going to discuss sugar in particular how our nervous system regulates our sugar intake and are seeking of sugar. We're also going to discuss how sugar regulates our nervous system and as you'll soon, learn sugar really impacts our brain and body by two main mechanisms. Isms, one of those mechanisms is based on the Sweet Taste of sugar which itself is rewarding. Even if you're not much of a sweet tooth. I confess. I'm not most people enjoy sweet tastes more than bitter tastes and the Sweet Taste of sugar. And its various forms is strongly reinforcing. Meaning it triggers the activation of neurons nerve cells in the brain and body that make us want to consume more of that sweet substance. Incidentally. Sweet taste also make us want to eat more of other substances. Senses as well. You may be familiar with that phenomenon. Now sugar also triggers mechanisms in the brain and body based on its nutritive content independent of its sweetness. What that means is that the actual caloric content and the way that Sugar interacts with your nervous system at a subconscious level without your awareness, also impacts your craving and seeking of sugar and other Foods today. We are going to discuss what happens when you ingest sugar in terms of your body's reaction. Your brains reaction. We are also going to talk about what happens when you don't ingest enough sugar, because it turns out sugar is such a powerful fuel for the brain that under conditions, where people don't ingest enough sugar or where their so-called blood glucose, which is basically a blood sugar of a particular form gets too low there neurons, don't function as well. That said, their conditions of very low blood sugar in which neurons can function even better. So today we are going to talk about the ins and outs the ups and downs of sugar. As it relates to your nervous system and by the end of this episode, I'm confident that you have a much clearer picture as to how much sugar you should be ingesting, whether or not you should avoid sugars that you're currently eating, and you will certainly understand much more about the energy and fuel sources that your brain relies on which I'm certain, will allow you to make better informed choices about the foods, you eat, and avoid toward mental health, physical health, and performance. I'm pleased to announce that I'm hosting to Live Events. \n",
            "This may the first live event will Hosted in Seattle, Washington on May 17th. The second live event will be hosted in Portland, Oregon on May 18th. Both are part of a lecture series entitled, the brain-body contract during which I will discuss science and science based tools for mental health, physical, health, and performance. I should point out that while some of the material, I'll cover will overlap with information covered here on the huberman Lab podcast and on various social media posts. Most of the information I will cover is going to be distinct from information covered on the podcast. Or elsewhere. So once again, it's Seattle on May 17th. Portland on May 18th. \n",
            "You can access tickets by going to human lab.com, / tour and I hope to see you there. Before we begin, I'd like to emphasize that this podcast is separate from my teaching and research roles at Stanford. It is however, a part of my desire and effort to bring zero cost to Consumer information about science and science related tools to the general public in keeping with that theme. I'd like to thank the sponsors of today's podcast. Our first sponsor is thesis thesis makes what are called? Nootropics, which means smart drugs. Now, to be honest. I am not a fan of the term nootropics. I don't believe in smart drugs. In the sense that I don't believe that there's any one substance, or collection of substances that can make us smarter. I do believe based on science. However, that there are particular, neural circuits and brain functions that allow us to be more focused, more alert access creativity, be more motivated at cetera. That's just the way that the brain works different, neural circuits for different brain States. And so the idea of a nootropic that's just going to make a Smarter all around fails to acknowledge that. Smarter is many things, right? If you're an artist or a musician, you're doing math, you're doing accounting a different part of the day. You need to be creative. These are all different brain, processes thesis understands this. And as far as I know that the first nootropics company to create targeted, nootropics for specific outcomes. They only use the highest quality ingredients, which of course is essential. Some of those I've talked about on the podcast, things like DHA, ginkgo biloba, phosphatidyl serine. They give you the ability to try several different blends over the course of a month. Discover which nootropics work best for your unique brain, chemistry and genetics and goals. And with that personalization design, a kit of nootropics that's ideal for the different brain and body States. You want to access. I've been using thesis for more than six months now and I can confidently say that their nootropics have been a total Game Changer. My go-to formula is the clarity formula or sometimes I'll use their energy formula before training to get your own personalized. Nootropic starter kit. Go online to take thesis.com huberman, take a A minute quiz and thesis will send you four different formulas to try in your first month. That's take thesis.com huberman and use the code huberman at checkout for 10% off. \n",
            "Your first order. Today's episode is also brought To Us by athletic greens now called a G1. Athletic greens is an all-in-one vitamin mineral, probiotic drink. I've been taking athletic greens since 2012. So I'm delighted that they're sponsoring the podcast. The reason I started taking athletic Greens in the reason. I still take out letter greens once or twice a day, is that it helps me, cover all of my bases. \n",
            "Nutritional needs. It makes up for any deficiencies that I might have. In addition. It has probiotics which are vital for microbiome Health. I've done a couple of episodes now on the so-called gut microbiome and the ways in which the microbiome interacts, with your immune system, with your brain to regulate mood and essentially with every biological system relevant to health throughout your brain and body without let it greens. I get the vitamins. I need the minerals. I need and the probiotics to support my microbiome. If you'd like to try out, let it greens, you can go. Two athletic greens.com huberman and claim a special offer. They'll give you five free travel packs, which make it easy to mix up athletic greens while you're on the road, plus a year supply of vitamin D3 K to our ton of data. Now showing that vitamin D3 is essential for various aspects of our brain and body Health, even if we're getting a lot of sunshine, many of us are still deficient in vitamin D3. And K2 is also important because it regulates things like cardiovascular function calcium in the body. And so on again, go to athletic greens.com hubermann. To claim the special offer of the five free travel packs and the year supply of vitamin D3 K to today's episode is also brought To Us by inside tracker inside trackers, a personalized nutrition platform. That analyzes data from your blood and DNA to help you better understand your body and help you reach your health goals. I've long been a believer in getting regular blood work done. For the simple reason that many of the factors that impact your immediate and long-term Health can only be assessed with a quality blood test. What's unique about inside tracker. Is that while there are a lot of different Tests out there for hormones and metabolic factors Etc with inside tracker. You get the numbers back in terms of your levels, but they also give you very clear. Directives. In terms of Lifestyle nutrition and supplementation that can help you bring those values into the ranges that are best for you and your health goals and that's very different than a lot of the other programs where you get a lot of information. We don't really know what to do with that information inside tracker makes that all very easy to understand and very actionable based on the very easy-to-use dashboard at inside tracker. If you'd like to try inside track, You can visit inside tracker.com huberman to get 20% off any of inside. Trackers plans. Just use the code huberman at checkout. Okay, let's talk about sugar. Let's talk about how sugar impacts your brain and how your brain impacts your pursuit or your avoidance of sugar. Let's get a few things out of the way. First. The first thing is that there's nothing inherently bad about sugar. I know the word sugar gets a bad rap nowadays and indeed, you're going to hear over and over again. During this podcast that consuming a lot of refined sugars in particular, high fructose, corn syrup is known to have a very large number of bad effects on the brain and body. I don't know that there's any one that really debates that anymore, even if we just agree and I think we should all agree on the so-called calories in calories out principle, right? \n",
            "It's a principle of thermodynamics that if we ingest more energy than we burn, we are going to gain weight. If we ingest less energy than we burn, we are generally going to lose weight and if The two things are imbalance ingestion and burning of energy. Well, then we're going to maintain weight. \n",
            "So everyone agrees on that. I agree on that. But beyond that there are a number of ways in which particular nutrients in the case of today's episode sugar impact. The way that the brain works such that we tend to seek out more of particular nutrients. For instance. If we eat sugar, there are two or at least two mechanisms by which we will crave more sugar. I think. People are aware of that experience. But today I'm going to explain exactly how that works. But also that when we ingest sugar, it has a bunch of different effects on the way that our neural circuits work that can allow us to be more or less focused more or less agitated more or less happy more or less depressed in some cases. So today as we explore this thing. We're calling Sugar, We're Going to explore that mainly in the context of the nervous system, but also in the context of how the nervous system regulates many many. Functions and behaviors that are important to all of you, your ability to think your ability, to exercise, your ability to gain weight lose weight. Whatever your goals might happen, to be sugar, plays a critical role in achieving those goals. And in some cases, if you're ingesting too much at the wrong times of the wrong forms, sugar can actually impede those goals. In fact, sugar can prevent all the right behaviors from allowing you to achieve the goals that you want. So today we are going to place sugar into its proper context. The way I want to start. Start off by doing that is to tell you a little bit of what happens when we eat and a little bit of what the brain does to respond to those events. So what happens when we eat? Well, I've done an entire episode on metabolism. So if you're interested in the full Cascade of hormonal and neural events that occurs when we eat, please check out that episode. But for sake of today's discussion, let's just take a what I call Top Contour view of the hormonal response to ingesting food. Now, any time we eat, that is the consequence of a number of things that happen. Before we ate, there's a hormone in our brain and body called ghrelin. Spelled GH reli. N ghrelin is a hormone that increases depending on how long it's been since we ate last. Okay. So the longer it's been since we had a meal ghrelin levels are going to be higher and higher and higher and it essentially makes us hungry by interacting with particular neurons in an area of the brain called the arcuate nucleus of the hypothalamus.- and some other areas as well, like the lateral hypothalamus. You don't need to know the names of those brain areas. But if you'd like to know them, there they are ghrelin increases. It tends to make us hungry. And then when we eat typically, what happens is ghrelin levels, go down. \n",
            "So it's a very logical system. Now when we eat assuming that we eat carbohydrates, but even if we just eat some protein and some fats, we will experience a slight or in some cases, a large rise in blood. Glucose blood. Glucose is simply blood sugar and the body and brain, we should say particular the nervous system doesn't function. Well, if blood sugar is too high or too low. So as a consequence we have another hormone, which is released from the pancreas, which is called insulin which helps regulate the amount of glucose in the bloodstream. So even if you were to ingest, an entire cup and 8 ounce cup of pure table sugar, which would send your blood glucose very very high assuming that you have a normal. \n",
            "Insulin response that you're not diabetic that insulin response would help clamp that blood glucose level so that it did not cause damage to your brain and body. Because if blood sugar goes too high, it's actually toxic to neurons and other cells of your body can kill them off and neurons of the central nervous system in the brain and spinal cord. Once they are dead. They do not come back. So your biological systems understand this at a biological level that is and prevent that death of cells due to high blood sugar by keeping. Insulin around in order to clamp blood glucose diabetics. We call them type 1 diabetics who don't make insulin have to take insulin when they eat in particular, when they foods that raise their blood sugar specifically to avoid that neurotoxicity in the other deleterious effects of high blood sugar. Okay. So ghrelin is a hormone that goes up the longer. It's been since we've eaten it tends to stimulate hunger when we eat ghrelin is suppressed blood glucose typically goes up, especially when we a carbohydrate containing meal. When blood glucose goes up, its regulated in the body meaning its Peaks and its valleys are more less smoothed out and that glucose is sequestered. It's taken away where it needs to be taken away. And in certain locations, it's delivered to cells so that those cells can use the glucose. Now, one of the chief organs for glucose utilization is the brain neurons are tremendously metabolically active and their preferred mode of metabolism is glucose metabolism. The words neurons basically run on sugar, which is not to say that you should eat a lot of sugar as you'll see today. There are states of mind and body. For instance, fasted States in which people report having immense amounts of mental Clarity and their blood glucose is actually quite low. So it is simply not the case that the more sugar that you ingest the better that your brain will function. But it is the case that for most people, meaning people who are not on a ketogenic or very low carbohydrate diet. They're not adapted to low carbohydrate. Diets that neurons in their brain and body are using glucose in order to function. That's what allows those neurons to fire electrical, potentials. That's how we refer to it. Firing meaning, sending electrical signals down their lengths to communicate with other neurons. \n"
          ]
        }
      ]
    },
    {
      "cell_type": "markdown",
      "source": [
        "# 使用停用詞(NLTK)"
      ],
      "metadata": {
        "id": "6Y9qY8Vp8pnl"
      }
    },
    {
      "cell_type": "markdown",
      "source": [
        "#### nltk test"
      ],
      "metadata": {
        "id": "zDjJtTiq_Kdu"
      }
    },
    {
      "cell_type": "code",
      "source": [
        "# 下面的代碼是使用nltk從句子中去除停用詞 \n",
        "# 導入包 \n",
        "import nltk \n",
        "from nltk.corpus import stopwords \n",
        "from nltk.tokenize import word_tokenize \n",
        "nltk.download(\"stopwords\")\n",
        "#set(stopwords.words('english')) \n",
        "# 例句 \n",
        "text = \"\"\"He determined to drop his litigation with the monastry, and relinguish his claims to the wood-cuting and fishery rihgts at once. He was the more ready to do this becuase the rights had become much less valuable, and he had indeed the vaguest idea where the wood and river in question were.\"\"\" \n",
        "# 停用詞集合 \n",
        "stop_words = set(stopwords.words('english')) \n",
        "# 分詞 \n",
        "nltk.download('punkt')\n",
        "word_tokens = word_tokenize(text) \n",
        "filtered_sentence = [] \n",
        "for w in word_tokens: \n",
        "  if w not in stop_words: \n",
        "    filtered_sentence.append(w) \n",
        "print(\"\\n\\nOriginal Sentence \\n\\n\") \n",
        "print(\" \".join(word_tokens)) \n",
        "print(\"\\n\\nFiltered Sentence \\n\\n\") \n",
        "print(\" \".join(filtered_sentence))\n"
      ],
      "metadata": {
        "colab": {
          "base_uri": "https://localhost:8080/"
        },
        "id": "mjNclKWF8yU8",
        "outputId": "93e770d8-68b0-4cc9-8b53-ce874ebffa88"
      },
      "execution_count": 171,
      "outputs": [
        {
          "output_type": "stream",
          "name": "stdout",
          "text": [
            "[nltk_data] Downloading package stopwords to /root/nltk_data...\n",
            "[nltk_data]   Package stopwords is already up-to-date!\n",
            "[nltk_data] Downloading package punkt to /root/nltk_data...\n",
            "[nltk_data]   Package punkt is already up-to-date!\n",
            "\n",
            "\n",
            "Original Sentence \n",
            "\n",
            "\n",
            "He determined to drop his litigation with the monastry , and relinguish his claims to the wood-cuting and fishery rihgts at once . He was the more ready to do this becuase the rights had become much less valuable , and he had indeed the vaguest idea where the wood and river in question were .\n",
            "\n",
            "\n",
            "Filtered Sentence \n",
            "\n",
            "\n",
            "He determined drop litigation monastry , relinguish claims wood-cuting fishery rihgts . He ready becuase rights become much less valuable , indeed vaguest idea wood river question .\n"
          ]
        }
      ]
    },
    {
      "cell_type": "markdown",
      "source": [
        "## 實際帶入"
      ],
      "metadata": {
        "id": "v5WPRCX4_PZe"
      }
    },
    {
      "cell_type": "code",
      "source": [
        "# 下面的代碼是使用nltk從句子中去除停用詞 \n",
        "# 導入包 \n",
        "import nltk \n",
        "from nltk.corpus import stopwords \n",
        "from nltk.tokenize import word_tokenize \n",
        "nltk.download(\"stopwords\")\n",
        "#set(stopwords.words('english')) \n",
        "# 例句 \n",
        "#text = \"\"\"He determined to drop his litigation with the monastry, and relinguish his claims to the wood-cuting and fishery rihgts at once. He was the more ready to do this becuase the rights had become much less valuable, and he had indeed the vaguest idea where the wood and river in question were.\"\"\" \n",
        "# 停用詞集合 \n",
        "stop_words = set(stopwords.words('english')) \n",
        "# 分詞 \n",
        "nltk.download('punkt')\n",
        "result_nltk = []\n",
        "for sent in podcast_test:\n",
        "  word_tokens = word_tokenize(sent) \n",
        "  filtered_sentence = [] \n",
        "  for w in word_tokens: \n",
        "    if w not in stop_words: \n",
        "      filtered_sentence.append(w) \n",
        "  result_nltk.append(\" \".join(filtered_sentence))\n"
      ],
      "metadata": {
        "colab": {
          "base_uri": "https://localhost:8080/"
        },
        "id": "n5mo6Wn7_OBV",
        "outputId": "37aabefc-7194-4ffe-d396-e54d3b2f4122"
      },
      "execution_count": 172,
      "outputs": [
        {
          "output_type": "stream",
          "name": "stdout",
          "text": [
            "[nltk_data] Downloading package stopwords to /root/nltk_data...\n",
            "[nltk_data]   Package stopwords is already up-to-date!\n",
            "[nltk_data] Downloading package punkt to /root/nltk_data...\n",
            "[nltk_data]   Package punkt is already up-to-date!\n"
          ]
        }
      ]
    },
    {
      "cell_type": "code",
      "source": [
        "print(len(result_nltk))\n",
        "print(result_nltk)"
      ],
      "metadata": {
        "colab": {
          "base_uri": "https://localhost:8080/"
        },
        "id": "6Iln9uZ5_3iv",
        "outputId": "7006f7d4-5d3c-4546-a5ae-2ea31682d726"
      },
      "execution_count": 173,
      "outputs": [
        {
          "output_type": "stream",
          "name": "stdout",
          "text": [
            "9\n",
            "[\"Welcome huberman Lab podcast , discuss science science based tools everyday life . I 'm Andrew huberman , I 'm professor neurobiology Ophthalmology Stanford school medicine . Today . We going discuss sugar particular nervous system regulates sugar intake seeking sugar . We 're also going discuss sugar regulates nervous system 'll soon , learn sugar really impacts brain body two main mechanisms . Isms , one mechanisms based Sweet Taste sugar rewarding . Even 're much sweet tooth . I confess . I 'm people enjoy sweet tastes bitter tastes Sweet Taste sugar . And various forms strongly reinforcing . Meaning triggers activation neurons nerve cells brain body make us want consume sweet substance . Incidentally . Sweet taste also make us want eat substances . Senses well . You may familiar phenomenon . Now sugar also triggers mechanisms brain body based nutritive content independent sweetness . What means actual caloric content way Sugar interacts nervous system subconscious level without awareness , also impacts craving seeking sugar Foods today . We going discuss happens ingest sugar terms body 's reaction . Your brains reaction . We also going talk happens n't ingest enough sugar , turns sugar powerful fuel brain conditions , people n't ingest enough sugar so-called blood glucose , basically blood sugar particular form gets low neurons , n't function well . That said , conditions low blood sugar neurons function even better . So today going talk ins outs ups downs sugar . As relates nervous system end episode , I 'm confident much clearer picture much sugar ingesting , whether avoid sugars 're currently eating , certainly understand much energy fuel sources brain relies I 'm certain , allow make better informed choices foods , eat , avoid toward mental health , physical health , performance . I 'm pleased announce I 'm hosting Live Events .\", \"This may first live event Hosted Seattle , Washington May 17th . The second live event hosted Portland , Oregon May 18th . Both part lecture series entitled , brain-body contract I discuss science science based tools mental health , physical , health , performance . I point material , I 'll cover overlap information covered huberman Lab podcast various social media posts . Most information I cover going distinct information covered podcast . Or elsewhere . So , 's Seattle May 17th . Portland May 18th .\", \"You access tickets going human lab.com , / tour I hope see . Before begin , I 'd like emphasize podcast separate teaching research roles Stanford . It however , part desire effort bring zero cost Consumer information science science related tools general public keeping theme . I 'd like thank sponsors today 's podcast . Our first sponsor thesis thesis makes called ? Nootropics , means smart drugs . Now , honest . I fan term nootropics . I n't believe smart drugs . In sense I n't believe 's one substance , collection substances make us smarter . I believe based science . However , particular , neural circuits brain functions allow us focused , alert access creativity , motivated cetera . That 's way brain works different , neural circuits different brain States . And idea nootropic 's going make Smarter around fails acknowledge . Smarter many things , right ? If 're artist musician , 're math , 're accounting different part day . You need creative . These different brain , processes thesis understands . And far I know first nootropics company create targeted , nootropics specific outcomes . They use highest quality ingredients , course essential . Some I 've talked podcast , things like DHA , ginkgo biloba , phosphatidyl serine . They give ability try several different blends course month . Discover nootropics work best unique brain , chemistry genetics goals . And personalization design , kit nootropics 's ideal different brain body States . You want access . I 've using thesis six months I confidently say nootropics total Game Changer . My go-to formula clarity formula sometimes I 'll use energy formula training get personalized . Nootropic starter kit . Go online take thesis.com huberman , take A minute quiz thesis send four different formulas try first month . That 's take thesis.com huberman use code huberman checkout 10 % .\", \"Your first order . Today 's episode also brought To Us athletic greens called G1 . Athletic greens all-in-one vitamin mineral , probiotic drink . I 've taking athletic greens since 2012 . So I 'm delighted 're sponsoring podcast . The reason I started taking athletic Greens reason . I still take letter greens twice day , helps , cover bases .\", \"Nutritional needs . It makes deficiencies I might . In addition . It probiotics vital microbiome Health . I 've done couple episodes so-called gut microbiome ways microbiome interacts , immune system , brain regulate mood essentially every biological system relevant health throughout brain body without let greens . I get vitamins . I need minerals . I need probiotics support microbiome . If 'd like try , let greens , go . Two athletic greens.com huberman claim special offer . They 'll give five free travel packs , make easy mix athletic greens 're road , plus year supply vitamin D3 K ton data . Now showing vitamin D3 essential various aspects brain body Health , even 're getting lot sunshine , many us still deficient vitamin D3 . And K2 also important regulates things like cardiovascular function calcium body . And , go athletic greens.com hubermann . To claim special offer five free travel packs year supply vitamin D3 K today 's episode also brought To Us inside tracker inside trackers , personalized nutrition platform . That analyzes data blood DNA help better understand body help reach health goals . I 've long believer getting regular blood work done . For simple reason many factors impact immediate long-term Health assessed quality blood test . What 's unique inside tracker . Is lot different Tests hormones metabolic factors Etc inside tracker . You get numbers back terms levels , also give clear . Directives . In terms Lifestyle nutrition supplementation help bring values ranges best health goals 's different lot programs get lot information . We n't really know information inside tracker makes easy understand actionable based easy-to-use dashboard inside tracker . If 'd like try inside track , You visit inside tracker.com huberman get 20 % inside . Trackers plans . Just use code huberman checkout . Okay , let 's talk sugar . Let 's talk sugar impacts brain brain impacts pursuit avoidance sugar . Let 's get things way . First . The first thing 's nothing inherently bad sugar . I know word sugar gets bad rap nowadays indeed , 're going hear . During podcast consuming lot refined sugars particular , high fructose , corn syrup known large number bad effects brain body . I n't know 's one really debates anymore , even agree I think agree so-called calories calories principle , right ?\", \"It 's principle thermodynamics ingest energy burn , going gain weight . If ingest less energy burn , generally going lose weight The two things imbalance ingestion burning energy . Well , 're going maintain weight .\", \"So everyone agrees . I agree . But beyond number ways particular nutrients case today 's episode sugar impact . The way brain works tend seek particular nutrients . For instance . If eat sugar , two least two mechanisms crave sugar . I think . People aware experience . But today I 'm going explain exactly works . But also ingest sugar , bunch different effects way neural circuits work allow us less focused less agitated less happy less depressed cases . So today explore thing . We 're calling Sugar , We 're Going explore mainly context nervous system , also context nervous system regulates many many . Functions behaviors important , ability think ability , exercise , ability gain weight lose weight . Whatever goals might happen , sugar , plays critical role achieving goals . And cases , 're ingesting much wrong times wrong forms , sugar actually impede goals . In fact , sugar prevent right behaviors allowing achieve goals want . So today going place sugar proper context . The way I want start . Start tell little bit happens eat little bit brain respond events . So happens eat ? Well , I 've done entire episode metabolism . So 're interested full Cascade hormonal neural events occurs eat , please check episode . But sake today 's discussion , let 's take I call Top Contour view hormonal response ingesting food . Now , time eat , consequence number things happen . Before ate , 's hormone brain body called ghrelin . Spelled GH reli . N ghrelin hormone increases depending long 's since ate last . Okay . So longer 's since meal ghrelin levels going higher higher higher essentially makes us hungry interacting particular neurons area brain called arcuate nucleus hypothalamus.- areas well , like lateral hypothalamus . You n't need know names brain areas . But 'd like know , ghrelin increases . It tends make us hungry . And eat typically , happens ghrelin levels , go .\", \"So 's logical system . Now eat assuming eat carbohydrates , even eat protein fats , experience slight cases , large rise blood . Glucose blood . Glucose simply blood sugar body brain , say particular nervous system n't function . Well , blood sugar high low . So consequence another hormone , released pancreas , called insulin helps regulate amount glucose bloodstream . So even ingest , entire cup 8 ounce cup pure table sugar , would send blood glucose high assuming normal .\", \"Insulin response 're diabetic insulin response would help clamp blood glucose level cause damage brain body . Because blood sugar goes high , 's actually toxic neurons cells body kill neurons central nervous system brain spinal cord . Once dead . They come back . So biological systems understand biological level prevent death cells due high blood sugar keeping . Insulin around order clamp blood glucose diabetics . We call type 1 diabetics n't make insulin take insulin eat particular , foods raise blood sugar specifically avoid neurotoxicity deleterious effects high blood sugar . Okay . So ghrelin hormone goes longer . It 's since 've eaten tends stimulate hunger eat ghrelin suppressed blood glucose typically goes , especially carbohydrate containing meal . When blood glucose goes , regulated body meaning Peaks valleys less smoothed glucose sequestered . It 's taken away needs taken away . And certain locations , 's delivered cells cells use glucose . Now , one chief organs glucose utilization brain neurons tremendously metabolically active preferred mode metabolism glucose metabolism . The words neurons basically run sugar , say eat lot sugar 'll see today . There states mind body . For instance , fasted States people report immense amounts mental Clarity blood glucose actually quite low . So simply case sugar ingest better brain function . But case people , meaning people ketogenic low carbohydrate diet . They 're adapted low carbohydrate . Diets neurons brain body using glucose order function . That 's allows neurons fire electrical , potentials . That 's refer . Firing meaning , sending electrical signals lengths communicate neurons .\"]\n"
          ]
        }
      ]
    },
    {
      "cell_type": "code",
      "source": [
        "vectorizer_nltk = CountVectorizer()\n",
        "transformer_nltk = TfidfTransformer()\n",
        "tfidf_nltk = transformer_nltk.fit_transform(vectorizer_nltk.fit_transform(result_nltk))\n",
        "feature_name_nltk = vectorizer_nltk.get_feature_names()"
      ],
      "metadata": {
        "colab": {
          "base_uri": "https://localhost:8080/"
        },
        "id": "P8Mx_RokAVcv",
        "outputId": "702d5828-c2aa-4095-ae79-4eeda9925a3a"
      },
      "execution_count": 174,
      "outputs": [
        {
          "output_type": "stream",
          "name": "stderr",
          "text": [
            "/usr/local/lib/python3.7/dist-packages/sklearn/utils/deprecation.py:87: FutureWarning: Function get_feature_names is deprecated; get_feature_names is deprecated in 1.0 and will be removed in 1.2. Please use get_feature_names_out instead.\n",
            "  warnings.warn(msg, category=FutureWarning)\n"
          ]
        }
      ]
    },
    {
      "cell_type": "code",
      "source": [
        "print(len(feature_name_nltk))\n",
        "print(feature_name_nltk)"
      ],
      "metadata": {
        "colab": {
          "base_uri": "https://localhost:8080/"
        },
        "id": "suoUtVD7AgUQ",
        "outputId": "04bab732-4c21-4991-aed8-5c16d4a986a8"
      },
      "execution_count": 175,
      "outputs": [
        {
          "output_type": "stream",
          "name": "stdout",
          "text": [
            "662\n",
            "['10', '17th', '18th', '20', '2012', 'ability', 'access', 'accounting', 'achieve', 'achieving', 'acknowledge', 'actionable', 'activation', 'active', 'actual', 'actually', 'adapted', 'addition', 'agitated', 'agree', 'agrees', 'alert', 'all', 'allow', 'allowing', 'allows', 'also', 'amount', 'amounts', 'analyzes', 'and', 'andrew', 'announce', 'another', 'anymore', 'arcuate', 'area', 'areas', 'around', 'artist', 'as', 'aspects', 'assessed', 'assuming', 'ate', 'athletic', 'avoid', 'avoidance', 'aware', 'awareness', 'away', 'back', 'bad', 'based', 'bases', 'basically', 'because', 'before', 'begin', 'behaviors', 'believe', 'believer', 'best', 'better', 'beyond', 'biloba', 'biological', 'bit', 'bitter', 'blends', 'blood', 'bloodstream', 'body', 'both', 'brain', 'brains', 'bring', 'brought', 'bunch', 'burn', 'burning', 'but', 'calcium', 'call', 'called', 'calling', 'caloric', 'calories', 'carbohydrate', 'carbohydrates', 'cardiovascular', 'cascade', 'case', 'cases', 'cause', 'cells', 'central', 'certain', 'certainly', 'cetera', 'changer', 'check', 'checkout', 'chemistry', 'chief', 'choices', 'circuits', 'claim', 'clamp', 'clarity', 'clear', 'clearer', 'code', 'collection', 'com', 'come', 'communicate', 'company', 'conditions', 'confess', 'confident', 'confidently', 'consequence', 'consume', 'consumer', 'consuming', 'containing', 'content', 'context', 'contour', 'contract', 'cord', 'corn', 'cost', 'couple', 'course', 'cover', 'covered', 'crave', 'craving', 'create', 'creative', 'creativity', 'critical', 'cup', 'currently', 'd3', 'damage', 'dashboard', 'data', 'day', 'dead', 'death', 'debates', 'deficiencies', 'deficient', 'deleterious', 'delighted', 'delivered', 'depending', 'depressed', 'design', 'desire', 'dha', 'diabetic', 'diabetics', 'diet', 'diets', 'different', 'directives', 'discover', 'discuss', 'discussion', 'distinct', 'dna', 'done', 'downs', 'drink', 'drugs', 'due', 'during', 'easy', 'eat', 'eaten', 'eating', 'effects', 'effort', 'electrical', 'elsewhere', 'emphasize', 'end', 'energy', 'enjoy', 'enough', 'entire', 'entitled', 'episode', 'episodes', 'especially', 'essential', 'essentially', 'etc', 'even', 'event', 'events', 'every', 'everyday', 'everyone', 'exactly', 'exercise', 'experience', 'explain', 'explore', 'fact', 'factors', 'fails', 'familiar', 'fan', 'far', 'fasted', 'fats', 'fire', 'firing', 'first', 'five', 'focused', 'food', 'foods', 'for', 'form', 'forms', 'formula', 'formulas', 'four', 'free', 'fructose', 'fuel', 'full', 'function', 'functions', 'g1', 'gain', 'game', 'general', 'generally', 'genetics', 'get', 'gets', 'getting', 'gh', 'ghrelin', 'ginkgo', 'give', 'glucose', 'go', 'goals', 'goes', 'going', 'greens', 'gut', 'happen', 'happens', 'happy', 'health', 'hear', 'help', 'helps', 'high', 'higher', 'highest', 'honest', 'hope', 'hormonal', 'hormone', 'hormones', 'hosted', 'hosting', 'however', 'huberman', 'hubermann', 'human', 'hunger', 'hungry', 'hypothalamus', 'idea', 'ideal', 'if', 'imbalance', 'immediate', 'immense', 'immune', 'impact', 'impacts', 'impede', 'important', 'in', 'incidentally', 'increases', 'indeed', 'independent', 'information', 'informed', 'ingest', 'ingesting', 'ingestion', 'ingredients', 'inherently', 'ins', 'inside', 'instance', 'insulin', 'intake', 'interacting', 'interacts', 'interested', 'is', 'isms', 'it', 'just', 'k2', 'keeping', 'ketogenic', 'kill', 'kit', 'know', 'known', 'lab', 'large', 'last', 'lateral', 'learn', 'least', 'lecture', 'lengths', 'less', 'let', 'letter', 'level', 'levels', 'life', 'lifestyle', 'like', 'little', 'live', 'll', 'locations', 'logical', 'long', 'longer', 'lose', 'lot', 'low', 'main', 'mainly', 'maintain', 'make', 'makes', 'many', 'material', 'math', 'may', 'meal', 'meaning', 'means', 'mechanisms', 'media', 'medicine', 'mental', 'metabolic', 'metabolically', 'metabolism', 'microbiome', 'might', 'mind', 'mineral', 'minerals', 'minute', 'mix', 'mode', 'month', 'months', 'mood', 'most', 'motivated', 'much', 'musician', 'my', 'names', 'need', 'needs', 'nerve', 'nervous', 'neural', 'neurobiology', 'neurons', 'neurotoxicity', 'nootropic', 'nootropics', 'normal', 'nothing', 'now', 'nowadays', 'nucleus', 'number', 'numbers', 'nutrients', 'nutrition', 'nutritional', 'nutritive', 'occurs', 'offer', 'okay', 'once', 'one', 'online', 'ophthalmology', 'or', 'order', 'oregon', 'organs', 'ounce', 'our', 'outcomes', 'outs', 'overlap', 'packs', 'pancreas', 'part', 'particular', 'peaks', 'people', 'performance', 'personalization', 'personalized', 'phenomenon', 'phosphatidyl', 'physical', 'picture', 'place', 'plans', 'platform', 'plays', 'please', 'pleased', 'plus', 'podcast', 'point', 'portland', 'posts', 'potentials', 'powerful', 'preferred', 'prevent', 'principle', 'probiotic', 'probiotics', 'processes', 'professor', 'programs', 'proper', 'protein', 'public', 'pure', 'pursuit', 'quality', 'quite', 'quiz', 'raise', 'ranges', 'rap', 're', 'reach', 'reaction', 'really', 'reason', 'refer', 'refined', 'regular', 'regulate', 'regulated', 'regulates', 'reinforcing', 'related', 'relates', 'released', 'relevant', 'reli', 'relies', 'report', 'research', 'respond', 'response', 'rewarding', 'right', 'rise', 'road', 'role', 'roles', 'run', 'said', 'sake', 'say', 'school', 'science', 'seattle', 'second', 'see', 'seek', 'seeking', 'send', 'sending', 'sense', 'senses', 'separate', 'sequestered', 'series', 'serine', 'several', 'showing', 'signals', 'simple', 'simply', 'since', 'six', 'slight', 'smart', 'smarter', 'smoothed', 'so', 'social', 'some', 'sometimes', 'soon', 'sources', 'special', 'specific', 'specifically', 'spelled', 'spinal', 'sponsor', 'sponsoring', 'sponsors', 'stanford', 'start', 'started', 'starter', 'states', 'still', 'stimulate', 'strongly', 'subconscious', 'substance', 'substances', 'sugar', 'sugars', 'sunshine', 'supplementation', 'supply', 'support', 'suppressed', 'sweet', 'sweetness', 'syrup', 'system', 'systems', 'table', 'take', 'taken', 'taking', 'talk', 'talked', 'targeted', 'taste', 'tastes', 'teaching', 'tell', 'tend', 'tends', 'term', 'terms', 'test', 'tests', 'thank', 'that', 'the', 'theme', 'there', 'thermodynamics', 'these', 'thesis', 'they', 'thing', 'things', 'think', 'this', 'throughout', 'tickets', 'time', 'times', 'to', 'today', 'ton', 'tools', 'tooth', 'top', 'total', 'tour', 'toward', 'toxic', 'track', 'tracker', 'trackers', 'training', 'travel', 'tremendously', 'triggers', 'try', 'turns', 'twice', 'two', 'type', 'typically', 'understand', 'understands', 'unique', 'ups', 'us', 'use', 'using', 'utilization', 'valleys', 'values', 'various', 've', 'view', 'visit', 'vital', 'vitamin', 'vitamins', 'want', 'washington', 'way', 'ways', 'we', 'weight', 'welcome', 'well', 'what', 'whatever', 'when', 'whether', 'without', 'word', 'words', 'work', 'works', 'would', 'wrong', 'year', 'you', 'your', 'zero']\n"
          ]
        }
      ]
    },
    {
      "cell_type": "code",
      "source": [
        "sponsor_n =0\n",
        "for i in range(len(feature_name_nltk)):\n",
        "  if feature_name_nltk[i]=='sponsor':\n",
        "    sponsor_n =i\n",
        "    print(i)"
      ],
      "metadata": {
        "colab": {
          "base_uri": "https://localhost:8080/"
        },
        "id": "HGAUpaseAs0e",
        "outputId": "7b05db26-4407-4e48-f195-f9af22642c5d"
      },
      "execution_count": 176,
      "outputs": [
        {
          "output_type": "stream",
          "name": "stdout",
          "text": [
            "539\n"
          ]
        }
      ]
    },
    {
      "cell_type": "code",
      "source": [
        "from nltk.util import pr\n",
        "print(type(tfidf_nltk))\n",
        "keyword_segment = []\n",
        "tfidf_segment = []\n",
        "#print(tfidf_nltk)\n",
        "#print(tfidf_nltk.toarray())\n",
        "array_tfidf_nltk = tfidf_nltk.toarray()\n",
        "#print(array_tfidf_nltk)\n",
        "#print(array_tfidf_nltk[0])\n",
        "for i in range(len(array_tfidf_nltk)):\n",
        "  if(array_tfidf_nltk[i][sponsor_n]>0):\n",
        "    print(i)\n",
        "    for j in range(len(array_tfidf_nltk[i])):\n",
        "      if(array_tfidf_nltk[i][j]>0):\n",
        "        keyword_segment.append(feature_name_nltk[j])\n",
        "        tfidf_segment.append(array_tfidf_nltk[i][j])\n",
        "        print(feature_name_nltk[j],\" \",array_tfidf_nltk[i][j])"
      ],
      "metadata": {
        "colab": {
          "base_uri": "https://localhost:8080/"
        },
        "id": "Cxu7f1kxBs63",
        "outputId": "a0f3200d-700a-4d93-b9d6-df7932642d34"
      },
      "execution_count": 177,
      "outputs": [
        {
          "output_type": "stream",
          "name": "stdout",
          "text": [
            "<class 'scipy.sparse.csr.csr_matrix'>\n",
            "2\n",
            "10   0.051307022747012994\n",
            "ability   0.04333472824416341\n",
            "access   0.153921068241039\n",
            "accounting   0.051307022747012994\n",
            "acknowledge   0.051307022747012994\n",
            "alert   0.051307022747012994\n",
            "allow   0.0376782952764125\n",
            "and   0.08911800232068874\n",
            "around   0.04333472824416341\n",
            "artist   0.051307022747012994\n",
            "based   0.03329082500606302\n",
            "before   0.04333472824416341\n",
            "begin   0.051307022747012994\n",
            "believe   0.153921068241039\n",
            "best   0.04333472824416341\n",
            "biloba   0.051307022747012994\n",
            "blends   0.051307022747012994\n",
            "body   0.024049567805811998\n",
            "brain   0.144297406834872\n",
            "bring   0.04333472824416341\n",
            "called   0.026675075071641505\n",
            "cetera   0.051307022747012994\n",
            "changer   0.051307022747012994\n",
            "checkout   0.04333472824416341\n",
            "chemistry   0.051307022747012994\n",
            "circuits   0.08666945648832682\n",
            "clarity   0.04333472824416341\n",
            "code   0.04333472824416341\n",
            "collection   0.051307022747012994\n",
            "com   0.1300041847324902\n",
            "company   0.051307022747012994\n",
            "confidently   0.051307022747012994\n",
            "consumer   0.051307022747012994\n",
            "cost   0.051307022747012994\n",
            "course   0.10261404549402599\n",
            "create   0.051307022747012994\n",
            "creative   0.051307022747012994\n",
            "creativity   0.051307022747012994\n",
            "day   0.04333472824416341\n",
            "design   0.051307022747012994\n",
            "desire   0.051307022747012994\n",
            "dha   0.051307022747012994\n",
            "different   0.26374806693488745\n",
            "discover   0.051307022747012994\n",
            "drugs   0.10261404549402599\n",
            "effort   0.051307022747012994\n",
            "emphasize   0.051307022747012994\n",
            "energy   0.0376782952764125\n",
            "essential   0.04333472824416341\n",
            "fails   0.051307022747012994\n",
            "fan   0.051307022747012994\n",
            "far   0.051307022747012994\n",
            "first   0.09987247501818905\n",
            "focused   0.04333472824416341\n",
            "formula   0.153921068241039\n",
            "formulas   0.051307022747012994\n",
            "four   0.051307022747012994\n",
            "functions   0.04333472824416341\n",
            "game   0.051307022747012994\n",
            "general   0.051307022747012994\n",
            "genetics   0.051307022747012994\n",
            "get   0.04333472824416341\n",
            "ginkgo   0.051307022747012994\n",
            "give   0.04333472824416341\n",
            "go   0.075356590552825\n",
            "goals   0.0376782952764125\n",
            "going   0.05335015014328301\n",
            "highest   0.051307022747012994\n",
            "honest   0.051307022747012994\n",
            "hope   0.051307022747012994\n",
            "however   0.10261404549402599\n",
            "huberman   0.09987247501818905\n",
            "human   0.051307022747012994\n",
            "idea   0.051307022747012994\n",
            "ideal   0.051307022747012994\n",
            "if   0.03329082500606302\n",
            "in   0.03329082500606302\n",
            "information   0.0376782952764125\n",
            "ingredients   0.051307022747012994\n",
            "it   0.02970600077356291\n",
            "keeping   0.04333472824416341\n",
            "kit   0.10261404549402599\n",
            "know   0.0376782952764125\n",
            "lab   0.0376782952764125\n",
            "like   0.11303488582923749\n",
            "ll   0.02970600077356291\n",
            "make   0.05941200154712582\n",
            "makes   0.0376782952764125\n",
            "many   0.0376782952764125\n",
            "math   0.051307022747012994\n",
            "means   0.04333472824416341\n",
            "minute   0.051307022747012994\n",
            "month   0.10261404549402599\n",
            "months   0.051307022747012994\n",
            "motivated   0.051307022747012994\n",
            "musician   0.051307022747012994\n",
            "my   0.051307022747012994\n",
            "need   0.0376782952764125\n",
            "neural   0.08666945648832682\n",
            "nootropic   0.10261404549402599\n",
            "nootropics   0.35914915922909096\n",
            "now   0.026675075071641505\n",
            "one   0.02970600077356291\n",
            "online   0.051307022747012994\n",
            "our   0.051307022747012994\n",
            "outcomes   0.051307022747012994\n",
            "part   0.08666945648832682\n",
            "particular   0.026675075071641505\n",
            "personalization   0.051307022747012994\n",
            "personalized   0.04333472824416341\n",
            "phosphatidyl   0.051307022747012994\n",
            "podcast   0.08911800232068874\n",
            "processes   0.051307022747012994\n",
            "public   0.051307022747012994\n",
            "quality   0.04333472824416341\n",
            "quiz   0.051307022747012994\n",
            "re   0.072148703417436\n",
            "related   0.051307022747012994\n",
            "research   0.051307022747012994\n",
            "right   0.0376782952764125\n",
            "roles   0.051307022747012994\n",
            "say   0.0376782952764125\n",
            "science   0.11303488582923749\n",
            "see   0.04333472824416341\n",
            "send   0.04333472824416341\n",
            "sense   0.051307022747012994\n",
            "separate   0.051307022747012994\n",
            "serine   0.051307022747012994\n",
            "several   0.051307022747012994\n",
            "six   0.051307022747012994\n",
            "smart   0.10261404549402599\n",
            "smarter   0.153921068241039\n",
            "some   0.051307022747012994\n",
            "sometimes   0.051307022747012994\n",
            "specific   0.051307022747012994\n",
            "sponsor   0.051307022747012994\n",
            "sponsors   0.051307022747012994\n",
            "stanford   0.04333472824416341\n",
            "starter   0.051307022747012994\n",
            "states   0.08666945648832682\n",
            "substance   0.04333472824416341\n",
            "substances   0.04333472824416341\n",
            "take   0.09987247501818905\n",
            "talked   0.051307022747012994\n",
            "targeted   0.051307022747012994\n",
            "teaching   0.051307022747012994\n",
            "term   0.04333472824416341\n",
            "thank   0.051307022747012994\n",
            "that   0.06658165001212604\n",
            "theme   0.051307022747012994\n",
            "these   0.051307022747012994\n",
            "thesis   0.35914915922909096\n",
            "they   0.075356590552825\n",
            "things   0.06658165001212604\n",
            "tickets   0.051307022747012994\n",
            "to   0.0376782952764125\n",
            "today   0.026675075071641505\n",
            "tools   0.0376782952764125\n",
            "total   0.051307022747012994\n",
            "tour   0.051307022747012994\n",
            "training   0.051307022747012994\n",
            "try   0.08666945648832682\n",
            "understands   0.051307022747012994\n",
            "unique   0.04333472824416341\n",
            "us   0.05941200154712582\n",
            "use   0.11303488582923749\n",
            "using   0.04333472824416341\n",
            "ve   0.05941200154712582\n",
            "want   0.0376782952764125\n",
            "way   0.03329082500606302\n",
            "work   0.0376782952764125\n",
            "works   0.04333472824416341\n",
            "you   0.09987247501818905\n",
            "zero   0.051307022747012994\n"
          ]
        }
      ]
    },
    {
      "cell_type": "code",
      "source": [
        "print(keyword_segment)\n",
        "print(tfidf_segment)"
      ],
      "metadata": {
        "colab": {
          "base_uri": "https://localhost:8080/"
        },
        "id": "ZTw2dZENK8-k",
        "outputId": "32b2bccb-c2a0-4aa8-c11c-f58017421efb"
      },
      "execution_count": 178,
      "outputs": [
        {
          "output_type": "stream",
          "name": "stdout",
          "text": [
            "['10', 'ability', 'access', 'accounting', 'acknowledge', 'alert', 'allow', 'and', 'around', 'artist', 'based', 'before', 'begin', 'believe', 'best', 'biloba', 'blends', 'body', 'brain', 'bring', 'called', 'cetera', 'changer', 'checkout', 'chemistry', 'circuits', 'clarity', 'code', 'collection', 'com', 'company', 'confidently', 'consumer', 'cost', 'course', 'create', 'creative', 'creativity', 'day', 'design', 'desire', 'dha', 'different', 'discover', 'drugs', 'effort', 'emphasize', 'energy', 'essential', 'fails', 'fan', 'far', 'first', 'focused', 'formula', 'formulas', 'four', 'functions', 'game', 'general', 'genetics', 'get', 'ginkgo', 'give', 'go', 'goals', 'going', 'highest', 'honest', 'hope', 'however', 'huberman', 'human', 'idea', 'ideal', 'if', 'in', 'information', 'ingredients', 'it', 'keeping', 'kit', 'know', 'lab', 'like', 'll', 'make', 'makes', 'many', 'math', 'means', 'minute', 'month', 'months', 'motivated', 'musician', 'my', 'need', 'neural', 'nootropic', 'nootropics', 'now', 'one', 'online', 'our', 'outcomes', 'part', 'particular', 'personalization', 'personalized', 'phosphatidyl', 'podcast', 'processes', 'public', 'quality', 'quiz', 're', 'related', 'research', 'right', 'roles', 'say', 'science', 'see', 'send', 'sense', 'separate', 'serine', 'several', 'six', 'smart', 'smarter', 'some', 'sometimes', 'specific', 'sponsor', 'sponsors', 'stanford', 'starter', 'states', 'substance', 'substances', 'take', 'talked', 'targeted', 'teaching', 'term', 'thank', 'that', 'theme', 'these', 'thesis', 'they', 'things', 'tickets', 'to', 'today', 'tools', 'total', 'tour', 'training', 'try', 'understands', 'unique', 'us', 'use', 'using', 've', 'want', 'way', 'work', 'works', 'you', 'zero']\n",
            "[0.051307022747012994, 0.04333472824416341, 0.153921068241039, 0.051307022747012994, 0.051307022747012994, 0.051307022747012994, 0.0376782952764125, 0.08911800232068874, 0.04333472824416341, 0.051307022747012994, 0.03329082500606302, 0.04333472824416341, 0.051307022747012994, 0.153921068241039, 0.04333472824416341, 0.051307022747012994, 0.051307022747012994, 0.024049567805811998, 0.144297406834872, 0.04333472824416341, 0.026675075071641505, 0.051307022747012994, 0.051307022747012994, 0.04333472824416341, 0.051307022747012994, 0.08666945648832682, 0.04333472824416341, 0.04333472824416341, 0.051307022747012994, 0.1300041847324902, 0.051307022747012994, 0.051307022747012994, 0.051307022747012994, 0.051307022747012994, 0.10261404549402599, 0.051307022747012994, 0.051307022747012994, 0.051307022747012994, 0.04333472824416341, 0.051307022747012994, 0.051307022747012994, 0.051307022747012994, 0.26374806693488745, 0.051307022747012994, 0.10261404549402599, 0.051307022747012994, 0.051307022747012994, 0.0376782952764125, 0.04333472824416341, 0.051307022747012994, 0.051307022747012994, 0.051307022747012994, 0.09987247501818905, 0.04333472824416341, 0.153921068241039, 0.051307022747012994, 0.051307022747012994, 0.04333472824416341, 0.051307022747012994, 0.051307022747012994, 0.051307022747012994, 0.04333472824416341, 0.051307022747012994, 0.04333472824416341, 0.075356590552825, 0.0376782952764125, 0.05335015014328301, 0.051307022747012994, 0.051307022747012994, 0.051307022747012994, 0.10261404549402599, 0.09987247501818905, 0.051307022747012994, 0.051307022747012994, 0.051307022747012994, 0.03329082500606302, 0.03329082500606302, 0.0376782952764125, 0.051307022747012994, 0.02970600077356291, 0.04333472824416341, 0.10261404549402599, 0.0376782952764125, 0.0376782952764125, 0.11303488582923749, 0.02970600077356291, 0.05941200154712582, 0.0376782952764125, 0.0376782952764125, 0.051307022747012994, 0.04333472824416341, 0.051307022747012994, 0.10261404549402599, 0.051307022747012994, 0.051307022747012994, 0.051307022747012994, 0.051307022747012994, 0.0376782952764125, 0.08666945648832682, 0.10261404549402599, 0.35914915922909096, 0.026675075071641505, 0.02970600077356291, 0.051307022747012994, 0.051307022747012994, 0.051307022747012994, 0.08666945648832682, 0.026675075071641505, 0.051307022747012994, 0.04333472824416341, 0.051307022747012994, 0.08911800232068874, 0.051307022747012994, 0.051307022747012994, 0.04333472824416341, 0.051307022747012994, 0.072148703417436, 0.051307022747012994, 0.051307022747012994, 0.0376782952764125, 0.051307022747012994, 0.0376782952764125, 0.11303488582923749, 0.04333472824416341, 0.04333472824416341, 0.051307022747012994, 0.051307022747012994, 0.051307022747012994, 0.051307022747012994, 0.051307022747012994, 0.10261404549402599, 0.153921068241039, 0.051307022747012994, 0.051307022747012994, 0.051307022747012994, 0.051307022747012994, 0.051307022747012994, 0.04333472824416341, 0.051307022747012994, 0.08666945648832682, 0.04333472824416341, 0.04333472824416341, 0.09987247501818905, 0.051307022747012994, 0.051307022747012994, 0.051307022747012994, 0.04333472824416341, 0.051307022747012994, 0.06658165001212604, 0.051307022747012994, 0.051307022747012994, 0.35914915922909096, 0.075356590552825, 0.06658165001212604, 0.051307022747012994, 0.0376782952764125, 0.026675075071641505, 0.0376782952764125, 0.051307022747012994, 0.051307022747012994, 0.051307022747012994, 0.08666945648832682, 0.051307022747012994, 0.04333472824416341, 0.05941200154712582, 0.11303488582923749, 0.04333472824416341, 0.05941200154712582, 0.0376782952764125, 0.03329082500606302, 0.0376782952764125, 0.04333472824416341, 0.09987247501818905, 0.051307022747012994]\n"
          ]
        }
      ]
    },
    {
      "cell_type": "code",
      "source": [
        "for sent in podcast_test:\n",
        "  print(\"q \",sent)"
      ],
      "metadata": {
        "colab": {
          "base_uri": "https://localhost:8080/"
        },
        "id": "xejkhlIpR4vU",
        "outputId": "62beefa7-c4cb-45e6-b61c-aff429ddc46b"
      },
      "execution_count": 179,
      "outputs": [
        {
          "output_type": "stream",
          "name": "stdout",
          "text": [
            "q  Welcome to the huberman Lab podcast, where we discuss science and science based tools for everyday life. I'm Andrew huberman, and I'm a professor of neurobiology and Ophthalmology at Stanford school of medicine. Today. We are going to discuss sugar in particular how our nervous system regulates our sugar intake and are seeking of sugar. We're also going to discuss how sugar regulates our nervous system and as you'll soon, learn sugar really impacts our brain and body by two main mechanisms. Isms, one of those mechanisms is based on the Sweet Taste of sugar which itself is rewarding. Even if you're not much of a sweet tooth. I confess. I'm not most people enjoy sweet tastes more than bitter tastes and the Sweet Taste of sugar. And its various forms is strongly reinforcing. Meaning it triggers the activation of neurons nerve cells in the brain and body that make us want to consume more of that sweet substance. Incidentally. Sweet taste also make us want to eat more of other substances. Senses as well. You may be familiar with that phenomenon. Now sugar also triggers mechanisms in the brain and body based on its nutritive content independent of its sweetness. What that means is that the actual caloric content and the way that Sugar interacts with your nervous system at a subconscious level without your awareness, also impacts your craving and seeking of sugar and other Foods today. We are going to discuss what happens when you ingest sugar in terms of your body's reaction. Your brains reaction. We are also going to talk about what happens when you don't ingest enough sugar, because it turns out sugar is such a powerful fuel for the brain that under conditions, where people don't ingest enough sugar or where their so-called blood glucose, which is basically a blood sugar of a particular form gets too low there neurons, don't function as well. That said, their conditions of very low blood sugar in which neurons can function even better. So today we are going to talk about the ins and outs the ups and downs of sugar. As it relates to your nervous system and by the end of this episode, I'm confident that you have a much clearer picture as to how much sugar you should be ingesting, whether or not you should avoid sugars that you're currently eating, and you will certainly understand much more about the energy and fuel sources that your brain relies on which I'm certain, will allow you to make better informed choices about the foods, you eat, and avoid toward mental health, physical health, and performance. I'm pleased to announce that I'm hosting to Live Events. \n",
            "q  This may the first live event will Hosted in Seattle, Washington on May 17th. The second live event will be hosted in Portland, Oregon on May 18th. Both are part of a lecture series entitled, the brain-body contract during which I will discuss science and science based tools for mental health, physical, health, and performance. I should point out that while some of the material, I'll cover will overlap with information covered here on the huberman Lab podcast and on various social media posts. Most of the information I will cover is going to be distinct from information covered on the podcast. Or elsewhere. So once again, it's Seattle on May 17th. Portland on May 18th. \n",
            "q  You can access tickets by going to human lab.com, / tour and I hope to see you there. Before we begin, I'd like to emphasize that this podcast is separate from my teaching and research roles at Stanford. It is however, a part of my desire and effort to bring zero cost to Consumer information about science and science related tools to the general public in keeping with that theme. I'd like to thank the sponsors of today's podcast. Our first sponsor is thesis thesis makes what are called? Nootropics, which means smart drugs. Now, to be honest. I am not a fan of the term nootropics. I don't believe in smart drugs. In the sense that I don't believe that there's any one substance, or collection of substances that can make us smarter. I do believe based on science. However, that there are particular, neural circuits and brain functions that allow us to be more focused, more alert access creativity, be more motivated at cetera. That's just the way that the brain works different, neural circuits for different brain States. And so the idea of a nootropic that's just going to make a Smarter all around fails to acknowledge that. Smarter is many things, right? If you're an artist or a musician, you're doing math, you're doing accounting a different part of the day. You need to be creative. These are all different brain, processes thesis understands this. And as far as I know that the first nootropics company to create targeted, nootropics for specific outcomes. They only use the highest quality ingredients, which of course is essential. Some of those I've talked about on the podcast, things like DHA, ginkgo biloba, phosphatidyl serine. They give you the ability to try several different blends over the course of a month. Discover which nootropics work best for your unique brain, chemistry and genetics and goals. And with that personalization design, a kit of nootropics that's ideal for the different brain and body States. You want to access. I've been using thesis for more than six months now and I can confidently say that their nootropics have been a total Game Changer. My go-to formula is the clarity formula or sometimes I'll use their energy formula before training to get your own personalized. Nootropic starter kit. Go online to take thesis.com huberman, take a A minute quiz and thesis will send you four different formulas to try in your first month. That's take thesis.com huberman and use the code huberman at checkout for 10% off. \n",
            "q  Your first order. Today's episode is also brought To Us by athletic greens now called a G1. Athletic greens is an all-in-one vitamin mineral, probiotic drink. I've been taking athletic greens since 2012. So I'm delighted that they're sponsoring the podcast. The reason I started taking athletic Greens in the reason. I still take out letter greens once or twice a day, is that it helps me, cover all of my bases. \n",
            "q  Nutritional needs. It makes up for any deficiencies that I might have. In addition. It has probiotics which are vital for microbiome Health. I've done a couple of episodes now on the so-called gut microbiome and the ways in which the microbiome interacts, with your immune system, with your brain to regulate mood and essentially with every biological system relevant to health throughout your brain and body without let it greens. I get the vitamins. I need the minerals. I need and the probiotics to support my microbiome. If you'd like to try out, let it greens, you can go. Two athletic greens.com huberman and claim a special offer. They'll give you five free travel packs, which make it easy to mix up athletic greens while you're on the road, plus a year supply of vitamin D3 K to our ton of data. Now showing that vitamin D3 is essential for various aspects of our brain and body Health, even if we're getting a lot of sunshine, many of us are still deficient in vitamin D3. And K2 is also important because it regulates things like cardiovascular function calcium in the body. And so on again, go to athletic greens.com hubermann. To claim the special offer of the five free travel packs and the year supply of vitamin D3 K to today's episode is also brought To Us by inside tracker inside trackers, a personalized nutrition platform. That analyzes data from your blood and DNA to help you better understand your body and help you reach your health goals. I've long been a believer in getting regular blood work done. For the simple reason that many of the factors that impact your immediate and long-term Health can only be assessed with a quality blood test. What's unique about inside tracker. Is that while there are a lot of different Tests out there for hormones and metabolic factors Etc with inside tracker. You get the numbers back in terms of your levels, but they also give you very clear. Directives. In terms of Lifestyle nutrition and supplementation that can help you bring those values into the ranges that are best for you and your health goals and that's very different than a lot of the other programs where you get a lot of information. We don't really know what to do with that information inside tracker makes that all very easy to understand and very actionable based on the very easy-to-use dashboard at inside tracker. If you'd like to try inside track, You can visit inside tracker.com huberman to get 20% off any of inside. Trackers plans. Just use the code huberman at checkout. Okay, let's talk about sugar. Let's talk about how sugar impacts your brain and how your brain impacts your pursuit or your avoidance of sugar. Let's get a few things out of the way. First. The first thing is that there's nothing inherently bad about sugar. I know the word sugar gets a bad rap nowadays and indeed, you're going to hear over and over again. During this podcast that consuming a lot of refined sugars in particular, high fructose, corn syrup is known to have a very large number of bad effects on the brain and body. I don't know that there's any one that really debates that anymore, even if we just agree and I think we should all agree on the so-called calories in calories out principle, right? \n",
            "q  It's a principle of thermodynamics that if we ingest more energy than we burn, we are going to gain weight. If we ingest less energy than we burn, we are generally going to lose weight and if The two things are imbalance ingestion and burning of energy. Well, then we're going to maintain weight. \n",
            "q  So everyone agrees on that. I agree on that. But beyond that there are a number of ways in which particular nutrients in the case of today's episode sugar impact. The way that the brain works such that we tend to seek out more of particular nutrients. For instance. If we eat sugar, there are two or at least two mechanisms by which we will crave more sugar. I think. People are aware of that experience. But today I'm going to explain exactly how that works. But also that when we ingest sugar, it has a bunch of different effects on the way that our neural circuits work that can allow us to be more or less focused more or less agitated more or less happy more or less depressed in some cases. So today as we explore this thing. We're calling Sugar, We're Going to explore that mainly in the context of the nervous system, but also in the context of how the nervous system regulates many many. Functions and behaviors that are important to all of you, your ability to think your ability, to exercise, your ability to gain weight lose weight. Whatever your goals might happen, to be sugar, plays a critical role in achieving those goals. And in some cases, if you're ingesting too much at the wrong times of the wrong forms, sugar can actually impede those goals. In fact, sugar can prevent all the right behaviors from allowing you to achieve the goals that you want. So today we are going to place sugar into its proper context. The way I want to start. Start off by doing that is to tell you a little bit of what happens when we eat and a little bit of what the brain does to respond to those events. So what happens when we eat? Well, I've done an entire episode on metabolism. So if you're interested in the full Cascade of hormonal and neural events that occurs when we eat, please check out that episode. But for sake of today's discussion, let's just take a what I call Top Contour view of the hormonal response to ingesting food. Now, any time we eat, that is the consequence of a number of things that happen. Before we ate, there's a hormone in our brain and body called ghrelin. Spelled GH reli. N ghrelin is a hormone that increases depending on how long it's been since we ate last. Okay. So the longer it's been since we had a meal ghrelin levels are going to be higher and higher and higher and it essentially makes us hungry by interacting with particular neurons in an area of the brain called the arcuate nucleus of the hypothalamus.- and some other areas as well, like the lateral hypothalamus. You don't need to know the names of those brain areas. But if you'd like to know them, there they are ghrelin increases. It tends to make us hungry. And then when we eat typically, what happens is ghrelin levels, go down. \n",
            "q  So it's a very logical system. Now when we eat assuming that we eat carbohydrates, but even if we just eat some protein and some fats, we will experience a slight or in some cases, a large rise in blood. Glucose blood. Glucose is simply blood sugar and the body and brain, we should say particular the nervous system doesn't function. Well, if blood sugar is too high or too low. So as a consequence we have another hormone, which is released from the pancreas, which is called insulin which helps regulate the amount of glucose in the bloodstream. So even if you were to ingest, an entire cup and 8 ounce cup of pure table sugar, which would send your blood glucose very very high assuming that you have a normal. \n",
            "q  Insulin response that you're not diabetic that insulin response would help clamp that blood glucose level so that it did not cause damage to your brain and body. Because if blood sugar goes too high, it's actually toxic to neurons and other cells of your body can kill them off and neurons of the central nervous system in the brain and spinal cord. Once they are dead. They do not come back. So your biological systems understand this at a biological level that is and prevent that death of cells due to high blood sugar by keeping. Insulin around in order to clamp blood glucose diabetics. We call them type 1 diabetics who don't make insulin have to take insulin when they eat in particular, when they foods that raise their blood sugar specifically to avoid that neurotoxicity in the other deleterious effects of high blood sugar. Okay. So ghrelin is a hormone that goes up the longer. It's been since we've eaten it tends to stimulate hunger when we eat ghrelin is suppressed blood glucose typically goes up, especially when we a carbohydrate containing meal. When blood glucose goes up, its regulated in the body meaning its Peaks and its valleys are more less smoothed out and that glucose is sequestered. It's taken away where it needs to be taken away. And in certain locations, it's delivered to cells so that those cells can use the glucose. Now, one of the chief organs for glucose utilization is the brain neurons are tremendously metabolically active and their preferred mode of metabolism is glucose metabolism. The words neurons basically run on sugar, which is not to say that you should eat a lot of sugar as you'll see today. There are states of mind and body. For instance, fasted States in which people report having immense amounts of mental Clarity and their blood glucose is actually quite low. So it is simply not the case that the more sugar that you ingest the better that your brain will function. But it is the case that for most people, meaning people who are not on a ketogenic or very low carbohydrate diet. They're not adapted to low carbohydrate. Diets that neurons in their brain and body are using glucose in order to function. That's what allows those neurons to fire electrical, potentials. That's how we refer to it. Firing meaning, sending electrical signals down their lengths to communicate with other neurons. \n"
          ]
        }
      ]
    },
    {
      "cell_type": "code",
      "source": [
        "all_sentence = []\n",
        "for i in range(len(segmented_text)):\n",
        "  for j in range(len(segmented_text[i])):\n",
        "    all_sentence.append(segmented_text[i][j])\n",
        "length = 10\n",
        "sponsor_block = []\n",
        "for i in range(len(all_sentence)):\n",
        "  ws = word_tokenize(all_sentence[i])\n",
        "  for w in ws:\n",
        "    if(\"sponsor\" == w):\n",
        "      sponsor_block.append(all_sentence[i])\n",
        "      for h in range(length):\n",
        "        if((i+h)<len(all_sentence)): sponsor_block.append(all_sentence[i+h])\n",
        "        \n",
        "      \n",
        "sponsor_block = \" \".join(sponsor_block)\n",
        "print(sponsor_block)\n"
      ],
      "metadata": {
        "colab": {
          "base_uri": "https://localhost:8080/"
        },
        "id": "OhFaFKE9H4ER",
        "outputId": "c66842bc-fd82-4155-dc39-cae49c948af5"
      },
      "execution_count": 180,
      "outputs": [
        {
          "output_type": "stream",
          "name": "stdout",
          "text": [
            "Our first sponsor is thesis thesis makes what are called?  Our first sponsor is thesis thesis makes what are called?  Nootropics, which means smart drugs.  Now, to be honest.  I am not a fan of the term nootropics.  I don't believe in smart drugs.  In the sense that I don't believe that there's any one substance, or collection of substances that can make us smarter.  I do believe based on science.  However, that there are particular, neural circuits and brain functions that allow us to be more focused, more alert access creativity, be more motivated at cetera.  That's just the way that the brain works different, neural circuits for different brain States.  And so the idea of a nootropic that's just going to make a Smarter all around fails to acknowledge that. \n"
          ]
        }
      ]
    },
    {
      "cell_type": "code",
      "source": [
        "sponsor_word = word_tokenize(sponsor_block)\n",
        "print(sponsor_word)\n",
        "\n",
        "keyword_sponsor=[]\n",
        "tfidf_sponsor=[]\n",
        "for i in range(len(sponsor_word)):\n",
        "  if(sponsor_word[i] in keyword_segment and sponsor_word[i] not in keyword_sponsor):\n",
        "    keyword_sponsor.append(sponsor_word[i])\n",
        "    tfidf_sponsor.append(tfidf_segment[keyword_segment.index(sponsor_word[i])])\n",
        "print(len(keyword_sponsor))\n",
        "print(len(tfidf_sponsor))\n",
        "n = len(keyword_sponsor)\n",
        "for i in range(n):\n",
        "  for j in range(0,n-i-1):\n",
        "    \n",
        "    if(tfidf_sponsor[j]>tfidf_sponsor[j+1]):\n",
        "      tfidf_sponsor[j], tfidf_sponsor[j+1] =  tfidf_sponsor[j+1], tfidf_sponsor[j]\n",
        "      keyword_sponsor[j], keyword_sponsor[j+1] =  keyword_sponsor[j+1], keyword_sponsor[j]\n",
        "for i in range(0,n):\n",
        "  print(keyword_sponsor[i],\" \",tfidf_sponsor[i])\n"
      ],
      "metadata": {
        "colab": {
          "base_uri": "https://localhost:8080/"
        },
        "id": "66I018NrLUPb",
        "outputId": "e29a77c7-4203-406d-d085-70196682e0e9"
      },
      "execution_count": 181,
      "outputs": [
        {
          "output_type": "stream",
          "name": "stdout",
          "text": [
            "['Our', 'first', 'sponsor', 'is', 'thesis', 'thesis', 'makes', 'what', 'are', 'called', '?', 'Our', 'first', 'sponsor', 'is', 'thesis', 'thesis', 'makes', 'what', 'are', 'called', '?', 'Nootropics', ',', 'which', 'means', 'smart', 'drugs', '.', 'Now', ',', 'to', 'be', 'honest', '.', 'I', 'am', 'not', 'a', 'fan', 'of', 'the', 'term', 'nootropics', '.', 'I', 'do', \"n't\", 'believe', 'in', 'smart', 'drugs', '.', 'In', 'the', 'sense', 'that', 'I', 'do', \"n't\", 'believe', 'that', 'there', \"'s\", 'any', 'one', 'substance', ',', 'or', 'collection', 'of', 'substances', 'that', 'can', 'make', 'us', 'smarter', '.', 'I', 'do', 'believe', 'based', 'on', 'science', '.', 'However', ',', 'that', 'there', 'are', 'particular', ',', 'neural', 'circuits', 'and', 'brain', 'functions', 'that', 'allow', 'us', 'to', 'be', 'more', 'focused', ',', 'more', 'alert', 'access', 'creativity', ',', 'be', 'more', 'motivated', 'at', 'cetera', '.', 'That', \"'s\", 'just', 'the', 'way', 'that', 'the', 'brain', 'works', 'different', ',', 'neural', 'circuits', 'for', 'different', 'brain', 'States', '.', 'And', 'so', 'the', 'idea', 'of', 'a', 'nootropic', 'that', \"'s\", 'just', 'going', 'to', 'make', 'a', 'Smarter', 'all', 'around', 'fails', 'to', 'acknowledge', 'that', '.']\n",
            "48\n",
            "48\n",
            "called   0.026675075071641505\n",
            "particular   0.026675075071641505\n",
            "one   0.02970600077356291\n",
            "in   0.03329082500606302\n",
            "based   0.03329082500606302\n",
            "way   0.03329082500606302\n",
            "makes   0.0376782952764125\n",
            "to   0.0376782952764125\n",
            "allow   0.0376782952764125\n",
            "means   0.04333472824416341\n",
            "term   0.04333472824416341\n",
            "substance   0.04333472824416341\n",
            "substances   0.04333472824416341\n",
            "functions   0.04333472824416341\n",
            "focused   0.04333472824416341\n",
            "works   0.04333472824416341\n",
            "around   0.04333472824416341\n",
            "sponsor   0.051307022747012994\n",
            "honest   0.051307022747012994\n",
            "fan   0.051307022747012994\n",
            "sense   0.051307022747012994\n",
            "collection   0.051307022747012994\n",
            "alert   0.051307022747012994\n",
            "creativity   0.051307022747012994\n",
            "motivated   0.051307022747012994\n",
            "cetera   0.051307022747012994\n",
            "idea   0.051307022747012994\n",
            "fails   0.051307022747012994\n",
            "acknowledge   0.051307022747012994\n",
            "going   0.05335015014328301\n",
            "make   0.05941200154712582\n",
            "us   0.05941200154712582\n",
            "that   0.06658165001212604\n",
            "neural   0.08666945648832682\n",
            "circuits   0.08666945648832682\n",
            "and   0.08911800232068874\n",
            "first   0.09987247501818905\n",
            "smart   0.10261404549402599\n",
            "drugs   0.10261404549402599\n",
            "nootropic   0.10261404549402599\n",
            "science   0.11303488582923749\n",
            "brain   0.144297406834872\n",
            "believe   0.153921068241039\n",
            "smarter   0.153921068241039\n",
            "access   0.153921068241039\n",
            "different   0.26374806693488745\n",
            "thesis   0.35914915922909096\n",
            "nootropics   0.35914915922909096\n"
          ]
        }
      ]
    },
    {
      "cell_type": "markdown",
      "source": [
        "#### 詞性test"
      ],
      "metadata": {
        "id": "8UbP1qz5VVok"
      }
    },
    {
      "cell_type": "code",
      "source": [
        "import nltk\n",
        "from nltk.tokenize import word_tokenize\n",
        "from nltk.tag import pos_tag\n",
        "nltk.download('averaged_perceptron_tagger')\n",
        "ex = 'European authorities fined Google a record $5.1 billion on Wednesday for abusing its power in the mobile phone market and ordered the company to alter its practices'\n",
        "def preprocess(sent):\n",
        "    sent = nltk.word_tokenize(sent)\n",
        "    sent = nltk.pos_tag(sent)\n",
        "    return sent\n",
        "sent = preprocess(ex)\n",
        "sent"
      ],
      "metadata": {
        "colab": {
          "base_uri": "https://localhost:8080/"
        },
        "id": "Ely-ZuxSUFIU",
        "outputId": "930f892b-6d82-42bc-b368-e31a7cd64f74"
      },
      "execution_count": 182,
      "outputs": [
        {
          "output_type": "stream",
          "name": "stdout",
          "text": [
            "[nltk_data] Downloading package averaged_perceptron_tagger to\n",
            "[nltk_data]     /root/nltk_data...\n",
            "[nltk_data]   Package averaged_perceptron_tagger is already up-to-\n",
            "[nltk_data]       date!\n"
          ]
        },
        {
          "output_type": "execute_result",
          "data": {
            "text/plain": [
              "[('European', 'JJ'),\n",
              " ('authorities', 'NNS'),\n",
              " ('fined', 'VBD'),\n",
              " ('Google', 'NNP'),\n",
              " ('a', 'DT'),\n",
              " ('record', 'NN'),\n",
              " ('$', '$'),\n",
              " ('5.1', 'CD'),\n",
              " ('billion', 'CD'),\n",
              " ('on', 'IN'),\n",
              " ('Wednesday', 'NNP'),\n",
              " ('for', 'IN'),\n",
              " ('abusing', 'VBG'),\n",
              " ('its', 'PRP$'),\n",
              " ('power', 'NN'),\n",
              " ('in', 'IN'),\n",
              " ('the', 'DT'),\n",
              " ('mobile', 'JJ'),\n",
              " ('phone', 'NN'),\n",
              " ('market', 'NN'),\n",
              " ('and', 'CC'),\n",
              " ('ordered', 'VBD'),\n",
              " ('the', 'DT'),\n",
              " ('company', 'NN'),\n",
              " ('to', 'TO'),\n",
              " ('alter', 'VB'),\n",
              " ('its', 'PRP$'),\n",
              " ('practices', 'NNS')]"
            ]
          },
          "metadata": {},
          "execution_count": 182
        }
      ]
    },
    {
      "cell_type": "markdown",
      "source": [
        "# 篩出名詞"
      ],
      "metadata": {
        "id": "q-ePkB9eVZ0U"
      }
    },
    {
      "cell_type": "code",
      "source": [
        "import nltk\n",
        "from nltk.tokenize import word_tokenize\n",
        "from nltk.tag import pos_tag\n",
        "nltk.download('averaged_perceptron_tagger')\n",
        "def preprocess(sent):\n",
        "    sent = nltk.pos_tag(sent)\n",
        "    return sent\n",
        "part = preprocess(keyword_sponsor)\n"
      ],
      "metadata": {
        "colab": {
          "base_uri": "https://localhost:8080/"
        },
        "id": "ILsOS3v7VgpE",
        "outputId": "957b521a-f535-4e89-d419-afdb6a45581e"
      },
      "execution_count": 183,
      "outputs": [
        {
          "output_type": "stream",
          "name": "stdout",
          "text": [
            "[nltk_data] Downloading package averaged_perceptron_tagger to\n",
            "[nltk_data]     /root/nltk_data...\n",
            "[nltk_data]   Package averaged_perceptron_tagger is already up-to-\n",
            "[nltk_data]       date!\n"
          ]
        }
      ]
    },
    {
      "cell_type": "code",
      "source": [
        "select_word = []\n",
        "#part = part.reverse()\n",
        "for i in range(len(part)):\n",
        "  if(part[i][1]=='NN' or part[i][1]=='NNS' or part[i][1]=='JJ'or part[i][1]=='JJR'):\n",
        "    select_word.append(part[i][0])"
      ],
      "metadata": {
        "id": "CWRXC1TWXBOd"
      },
      "execution_count": 184,
      "outputs": []
    },
    {
      "cell_type": "code",
      "source": [
        "select_word"
      ],
      "metadata": {
        "colab": {
          "base_uri": "https://localhost:8080/"
        },
        "id": "wVQkCF2kYgRN",
        "outputId": "8bbfc66c-bf53-4850-d48d-9995c1f4c973"
      },
      "execution_count": 185,
      "outputs": [
        {
          "output_type": "execute_result",
          "data": {
            "text/plain": [
              "['particular',\n",
              " 'way',\n",
              " 'means',\n",
              " 'term',\n",
              " 'substance',\n",
              " 'substances',\n",
              " 'functions',\n",
              " 'works',\n",
              " 'sponsor',\n",
              " 'fan',\n",
              " 'sense',\n",
              " 'collection',\n",
              " 'alert',\n",
              " 'creativity',\n",
              " 'cetera',\n",
              " 'idea',\n",
              " 'neural',\n",
              " 'circuits',\n",
              " 'first',\n",
              " 'smart',\n",
              " 'drugs',\n",
              " 'nootropic',\n",
              " 'science',\n",
              " 'brain',\n",
              " 'smarter',\n",
              " 'access',\n",
              " 'different',\n",
              " 'thesis',\n",
              " 'nootropics']"
            ]
          },
          "metadata": {},
          "execution_count": 185
        }
      ]
    },
    {
      "cell_type": "markdown",
      "source": [
        "#### 輸出"
      ],
      "metadata": {
        "id": "4INM79L4XuM_"
      }
    },
    {
      "cell_type": "code",
      "source": [
        "part"
      ],
      "metadata": {
        "colab": {
          "base_uri": "https://localhost:8080/"
        },
        "id": "KV3vMO8oXvsA",
        "outputId": "57baf52f-8570-4e20-ff6e-8749b49e12c5"
      },
      "execution_count": 186,
      "outputs": [
        {
          "output_type": "execute_result",
          "data": {
            "text/plain": [
              "[('called', 'VBN'),\n",
              " ('particular', 'JJ'),\n",
              " ('one', 'CD'),\n",
              " ('in', 'IN'),\n",
              " ('based', 'VBN'),\n",
              " ('way', 'NN'),\n",
              " ('makes', 'VBZ'),\n",
              " ('to', 'TO'),\n",
              " ('allow', 'VB'),\n",
              " ('means', 'NNS'),\n",
              " ('term', 'NN'),\n",
              " ('substance', 'NN'),\n",
              " ('substances', 'NNS'),\n",
              " ('functions', 'NNS'),\n",
              " ('focused', 'VBD'),\n",
              " ('works', 'NNS'),\n",
              " ('around', 'IN'),\n",
              " ('sponsor', 'NN'),\n",
              " ('honest', 'JJS'),\n",
              " ('fan', 'NN'),\n",
              " ('sense', 'NN'),\n",
              " ('collection', 'NN'),\n",
              " ('alert', 'NN'),\n",
              " ('creativity', 'NN'),\n",
              " ('motivated', 'VBD'),\n",
              " ('cetera', 'NN'),\n",
              " ('idea', 'NN'),\n",
              " ('fails', 'VBZ'),\n",
              " ('acknowledge', 'VBP'),\n",
              " ('going', 'VBG'),\n",
              " ('make', 'VBP'),\n",
              " ('us', 'PRP'),\n",
              " ('that', 'IN'),\n",
              " ('neural', 'JJ'),\n",
              " ('circuits', 'NNS'),\n",
              " ('and', 'CC'),\n",
              " ('first', 'JJ'),\n",
              " ('smart', 'JJ'),\n",
              " ('drugs', 'NNS'),\n",
              " ('nootropic', 'JJ'),\n",
              " ('science', 'NN'),\n",
              " ('brain', 'NN'),\n",
              " ('believe', 'VBP'),\n",
              " ('smarter', 'JJR'),\n",
              " ('access', 'NN'),\n",
              " ('different', 'JJ'),\n",
              " ('thesis', 'NN'),\n",
              " ('nootropics', 'NNS')]"
            ]
          },
          "metadata": {},
          "execution_count": 186
        }
      ]
    },
    {
      "cell_type": "markdown",
      "source": [
        "# 去掉去掉sponsor"
      ],
      "metadata": {
        "id": "57fpzX9IYo7m"
      }
    },
    {
      "cell_type": "code",
      "source": [
        "for i in range(len(all_sentence)):\n",
        "  matches = [a for a in select_word if a in all_sentence[i]]\n",
        "  print(all_sentence[i])\n",
        "  print(matches)\n",
        "\n",
        "  "
      ],
      "metadata": {
        "colab": {
          "base_uri": "https://localhost:8080/"
        },
        "id": "Z9s2owgYYrpF",
        "outputId": "217b34df-257c-4a65-9b9b-e2a71f1ce224"
      },
      "execution_count": 187,
      "outputs": [
        {
          "output_type": "stream",
          "name": "stdout",
          "text": [
            "Welcome to the huberman Lab podcast, where we discuss science and science based tools for everyday life. \n",
            "['science']\n",
            "I'm Andrew huberman, and I'm a professor of neurobiology and Ophthalmology at Stanford school of medicine. \n",
            "[]\n",
            "Today. \n",
            "[]\n",
            "We are going to discuss sugar in particular how our nervous system regulates our sugar intake and are seeking of sugar. \n",
            "['particular']\n",
            "We're also going to discuss how sugar regulates our nervous system and as you'll soon, learn sugar really impacts our brain and body by two main mechanisms. \n",
            "['brain']\n",
            "Isms, one of those mechanisms is based on the Sweet Taste of sugar which itself is rewarding. \n",
            "[]\n",
            "Even if you're not much of a sweet tooth. \n",
            "[]\n",
            "I confess. \n",
            "[]\n",
            "I'm not most people enjoy sweet tastes more than bitter tastes and the Sweet Taste of sugar. \n",
            "[]\n",
            "And its various forms is strongly reinforcing. \n",
            "[]\n",
            "Meaning it triggers the activation of neurons nerve cells in the brain and body that make us want to consume more of that sweet substance. \n",
            "['substance', 'brain']\n",
            "Incidentally. \n",
            "[]\n",
            "Sweet taste also make us want to eat more of other substances. \n",
            "['substance', 'substances']\n",
            "Senses as well. \n",
            "[]\n",
            "You may be familiar with that phenomenon. \n",
            "[]\n",
            "Now sugar also triggers mechanisms in the brain and body based on its nutritive content independent of its sweetness. \n",
            "['brain']\n",
            "What that means is that the actual caloric content and the way that Sugar interacts with your nervous system at a subconscious level without your awareness, also impacts your craving and seeking of sugar and other Foods today. \n",
            "['way', 'means']\n",
            "We are going to discuss what happens when you ingest sugar in terms of your body's reaction. \n",
            "['term']\n",
            "Your brains reaction. \n",
            "['brain']\n",
            "We are also going to talk about what happens when you don't ingest enough sugar, because it turns out sugar is such a powerful fuel for the brain that under conditions, where people don't ingest enough sugar or where their so-called blood glucose, which is basically a blood sugar of a particular form gets too low there neurons, don't function as well. \n",
            "['particular', 'brain']\n",
            "That said, their conditions of very low blood sugar in which neurons can function even better. \n",
            "[]\n",
            "So today we are going to talk about the ins and outs the ups and downs of sugar. \n",
            "[]\n",
            "As it relates to your nervous system and by the end of this episode, I'm confident that you have a much clearer picture as to how much sugar you should be ingesting, whether or not you should avoid sugars that you're currently eating, and you will certainly understand much more about the energy and fuel sources that your brain relies on which I'm certain, will allow you to make better informed choices about the foods, you eat, and avoid toward mental health, physical health, and performance. \n",
            "['brain']\n",
            "I'm pleased to announce that I'm hosting to Live Events. \n",
            "[]\n",
            "This may the first live event will Hosted in Seattle, Washington on May 17th. \n",
            "['first']\n",
            "The second live event will be hosted in Portland, Oregon on May 18th. \n",
            "[]\n",
            "Both are part of a lecture series entitled, the brain-body contract during which I will discuss science and science based tools for mental health, physical, health, and performance. \n",
            "['science', 'brain']\n",
            "I should point out that while some of the material, I'll cover will overlap with information covered here on the huberman Lab podcast and on various social media posts. \n",
            "[]\n",
            "Most of the information I will cover is going to be distinct from information covered on the podcast. \n",
            "[]\n",
            "Or elsewhere. \n",
            "[]\n",
            "So once again, it's Seattle on May 17th. \n",
            "[]\n",
            "Portland on May 18th. \n",
            "[]\n",
            "You can access tickets by going to human lab.com, / tour and I hope to see you there. \n",
            "['access']\n",
            "Before we begin, I'd like to emphasize that this podcast is separate from my teaching and research roles at Stanford. \n",
            "[]\n",
            "It is however, a part of my desire and effort to bring zero cost to Consumer information about science and science related tools to the general public in keeping with that theme. \n",
            "['science']\n",
            "I'd like to thank the sponsors of today's podcast. \n",
            "['sponsor']\n",
            "Our first sponsor is thesis thesis makes what are called? \n",
            "['sponsor', 'first', 'thesis']\n",
            "Nootropics, which means smart drugs. \n",
            "['means', 'smart', 'drugs']\n",
            "Now, to be honest. \n",
            "[]\n",
            "I am not a fan of the term nootropics. \n",
            "['term', 'fan', 'nootropic', 'nootropics']\n",
            "I don't believe in smart drugs. \n",
            "['smart', 'drugs']\n",
            "In the sense that I don't believe that there's any one substance, or collection of substances that can make us smarter. \n",
            "['substance', 'substances', 'sense', 'collection', 'smart', 'smarter']\n",
            "I do believe based on science. \n",
            "['science']\n",
            "However, that there are particular, neural circuits and brain functions that allow us to be more focused, more alert access creativity, be more motivated at cetera. \n",
            "['particular', 'functions', 'alert', 'creativity', 'cetera', 'neural', 'circuits', 'brain', 'access']\n",
            "That's just the way that the brain works different, neural circuits for different brain States. \n",
            "['way', 'works', 'neural', 'circuits', 'brain', 'different']\n",
            "And so the idea of a nootropic that's just going to make a Smarter all around fails to acknowledge that. \n",
            "['idea', 'nootropic']\n",
            "Smarter is many things, right? \n",
            "[]\n",
            "If you're an artist or a musician, you're doing math, you're doing accounting a different part of the day. \n",
            "['different']\n",
            "You need to be creative. \n",
            "[]\n",
            "These are all different brain, processes thesis understands this. \n",
            "['brain', 'different', 'thesis']\n",
            "And as far as I know that the first nootropics company to create targeted, nootropics for specific outcomes. \n",
            "['first', 'nootropic', 'nootropics']\n",
            "They only use the highest quality ingredients, which of course is essential. \n",
            "[]\n",
            "Some of those I've talked about on the podcast, things like DHA, ginkgo biloba, phosphatidyl serine. \n",
            "[]\n",
            "They give you the ability to try several different blends over the course of a month. \n",
            "['different']\n",
            "Discover which nootropics work best for your unique brain, chemistry and genetics and goals. \n",
            "['nootropic', 'brain', 'nootropics']\n",
            "And with that personalization design, a kit of nootropics that's ideal for the different brain and body States. \n",
            "['idea', 'nootropic', 'brain', 'different', 'nootropics']\n",
            "You want to access. \n",
            "['access']\n",
            "I've been using thesis for more than six months now and I can confidently say that their nootropics have been a total Game Changer. \n",
            "['nootropic', 'thesis', 'nootropics']\n",
            "My go-to formula is the clarity formula or sometimes I'll use their energy formula before training to get your own personalized. \n",
            "[]\n",
            "Nootropic starter kit. \n",
            "[]\n",
            "Go online to take thesis.com huberman, take a A minute quiz and thesis will send you four different formulas to try in your first month. \n",
            "['first', 'different', 'thesis']\n",
            "That's take thesis.com huberman and use the code huberman at checkout for 10% off. \n",
            "['thesis']\n",
            "Your first order. \n",
            "['first']\n",
            "Today's episode is also brought To Us by athletic greens now called a G1. \n",
            "[]\n",
            "Athletic greens is an all-in-one vitamin mineral, probiotic drink. \n",
            "[]\n",
            "I've been taking athletic greens since 2012. \n",
            "[]\n",
            "So I'm delighted that they're sponsoring the podcast. \n",
            "['sponsor']\n",
            "The reason I started taking athletic Greens in the reason. \n",
            "[]\n",
            "I still take out letter greens once or twice a day, is that it helps me, cover all of my bases. \n",
            "[]\n",
            "Nutritional needs. \n",
            "[]\n",
            "It makes up for any deficiencies that I might have. \n",
            "[]\n",
            "In addition. \n",
            "[]\n",
            "It has probiotics which are vital for microbiome Health. \n",
            "[]\n",
            "I've done a couple of episodes now on the so-called gut microbiome and the ways in which the microbiome interacts, with your immune system, with your brain to regulate mood and essentially with every biological system relevant to health throughout your brain and body without let it greens. \n",
            "['way', 'brain']\n",
            "I get the vitamins. \n",
            "[]\n",
            "I need the minerals. \n",
            "[]\n",
            "I need and the probiotics to support my microbiome. \n",
            "[]\n",
            "If you'd like to try out, let it greens, you can go. \n",
            "[]\n",
            "Two athletic greens.com huberman and claim a special offer. \n",
            "[]\n",
            "They'll give you five free travel packs, which make it easy to mix up athletic greens while you're on the road, plus a year supply of vitamin D3 K to our ton of data. \n",
            "[]\n",
            "Now showing that vitamin D3 is essential for various aspects of our brain and body Health, even if we're getting a lot of sunshine, many of us are still deficient in vitamin D3. \n",
            "['brain']\n",
            "And K2 is also important because it regulates things like cardiovascular function calcium in the body. \n",
            "[]\n",
            "And so on again, go to athletic greens.com hubermann. \n",
            "[]\n",
            "To claim the special offer of the five free travel packs and the year supply of vitamin D3 K to today's episode is also brought To Us by inside tracker inside trackers, a personalized nutrition platform. \n",
            "[]\n",
            "That analyzes data from your blood and DNA to help you better understand your body and help you reach your health goals. \n",
            "[]\n",
            "I've long been a believer in getting regular blood work done. \n",
            "[]\n",
            "For the simple reason that many of the factors that impact your immediate and long-term Health can only be assessed with a quality blood test. \n",
            "['term']\n",
            "What's unique about inside tracker. \n",
            "[]\n",
            "Is that while there are a lot of different Tests out there for hormones and metabolic factors Etc with inside tracker. \n",
            "['different']\n",
            "You get the numbers back in terms of your levels, but they also give you very clear. \n",
            "['term']\n",
            "Directives. \n",
            "[]\n",
            "In terms of Lifestyle nutrition and supplementation that can help you bring those values into the ranges that are best for you and your health goals and that's very different than a lot of the other programs where you get a lot of information. \n",
            "['term', 'different']\n",
            "We don't really know what to do with that information inside tracker makes that all very easy to understand and very actionable based on the very easy-to-use dashboard at inside tracker. \n",
            "[]\n",
            "If you'd like to try inside track, You can visit inside tracker.com huberman to get 20% off any of inside. \n",
            "[]\n",
            "Trackers plans. \n",
            "[]\n",
            "Just use the code huberman at checkout. \n",
            "[]\n",
            "Okay, let's talk about sugar. \n",
            "[]\n",
            "Let's talk about how sugar impacts your brain and how your brain impacts your pursuit or your avoidance of sugar. \n",
            "['brain']\n",
            "Let's get a few things out of the way. \n",
            "['way']\n",
            "First. \n",
            "[]\n",
            "The first thing is that there's nothing inherently bad about sugar. \n",
            "['first']\n",
            "I know the word sugar gets a bad rap nowadays and indeed, you're going to hear over and over again. \n",
            "[]\n",
            "During this podcast that consuming a lot of refined sugars in particular, high fructose, corn syrup is known to have a very large number of bad effects on the brain and body. \n",
            "['particular', 'brain']\n",
            "I don't know that there's any one that really debates that anymore, even if we just agree and I think we should all agree on the so-called calories in calories out principle, right? \n",
            "[]\n",
            "It's a principle of thermodynamics that if we ingest more energy than we burn, we are going to gain weight. \n",
            "[]\n",
            "If we ingest less energy than we burn, we are generally going to lose weight and if The two things are imbalance ingestion and burning of energy. \n",
            "[]\n",
            "Well, then we're going to maintain weight. \n",
            "[]\n",
            "So everyone agrees on that. \n",
            "[]\n",
            "I agree on that. \n",
            "[]\n",
            "But beyond that there are a number of ways in which particular nutrients in the case of today's episode sugar impact. \n",
            "['particular', 'way']\n",
            "The way that the brain works such that we tend to seek out more of particular nutrients. \n",
            "['particular', 'way', 'works', 'brain']\n",
            "For instance. \n",
            "[]\n",
            "If we eat sugar, there are two or at least two mechanisms by which we will crave more sugar. \n",
            "[]\n",
            "I think. \n",
            "[]\n",
            "People are aware of that experience. \n",
            "[]\n",
            "But today I'm going to explain exactly how that works. \n",
            "['works']\n",
            "But also that when we ingest sugar, it has a bunch of different effects on the way that our neural circuits work that can allow us to be more or less focused more or less agitated more or less happy more or less depressed in some cases. \n",
            "['way', 'neural', 'circuits', 'different']\n",
            "So today as we explore this thing. \n",
            "[]\n",
            "We're calling Sugar, We're Going to explore that mainly in the context of the nervous system, but also in the context of how the nervous system regulates many many. \n",
            "[]\n",
            "Functions and behaviors that are important to all of you, your ability to think your ability, to exercise, your ability to gain weight lose weight. \n",
            "[]\n",
            "Whatever your goals might happen, to be sugar, plays a critical role in achieving those goals. \n",
            "[]\n",
            "And in some cases, if you're ingesting too much at the wrong times of the wrong forms, sugar can actually impede those goals. \n",
            "[]\n",
            "In fact, sugar can prevent all the right behaviors from allowing you to achieve the goals that you want. \n",
            "[]\n",
            "So today we are going to place sugar into its proper context. \n",
            "[]\n",
            "The way I want to start. \n",
            "['way']\n",
            "Start off by doing that is to tell you a little bit of what happens when we eat and a little bit of what the brain does to respond to those events. \n",
            "['brain']\n",
            "So what happens when we eat? \n",
            "[]\n",
            "Well, I've done an entire episode on metabolism. \n",
            "[]\n",
            "So if you're interested in the full Cascade of hormonal and neural events that occurs when we eat, please check out that episode. \n",
            "['neural']\n",
            "But for sake of today's discussion, let's just take a what I call Top Contour view of the hormonal response to ingesting food. \n",
            "[]\n",
            "Now, any time we eat, that is the consequence of a number of things that happen. \n",
            "[]\n",
            "Before we ate, there's a hormone in our brain and body called ghrelin. \n",
            "['brain']\n",
            "Spelled GH reli. \n",
            "[]\n",
            "N ghrelin is a hormone that increases depending on how long it's been since we ate last. \n",
            "[]\n",
            "Okay. \n",
            "[]\n",
            "So the longer it's been since we had a meal ghrelin levels are going to be higher and higher and higher and it essentially makes us hungry by interacting with particular neurons in an area of the brain called the arcuate nucleus of the hypothalamus.- \n",
            "['particular', 'brain']\n",
            "and some other areas as well, like the lateral hypothalamus. \n",
            "[]\n",
            "You don't need to know the names of those brain areas. \n",
            "['brain']\n",
            "But if you'd like to know them, there they are ghrelin increases. \n",
            "[]\n",
            "It tends to make us hungry. \n",
            "[]\n",
            "And then when we eat typically, what happens is ghrelin levels, go down. \n",
            "[]\n",
            "So it's a very logical system. \n",
            "[]\n",
            "Now when we eat assuming that we eat carbohydrates, but even if we just eat some protein and some fats, we will experience a slight or in some cases, a large rise in blood. \n",
            "[]\n",
            "Glucose blood. \n",
            "[]\n",
            "Glucose is simply blood sugar and the body and brain, we should say particular the nervous system doesn't function. \n",
            "['particular', 'brain']\n",
            "Well, if blood sugar is too high or too low. \n",
            "[]\n",
            "So as a consequence we have another hormone, which is released from the pancreas, which is called insulin which helps regulate the amount of glucose in the bloodstream. \n",
            "[]\n",
            "So even if you were to ingest, an entire cup and 8 ounce cup of pure table sugar, which would send your blood glucose very very high assuming that you have a normal. \n",
            "[]\n",
            "Insulin response that you're not diabetic that insulin response would help clamp that blood glucose level so that it did not cause damage to your brain and body. \n",
            "['brain']\n",
            "Because if blood sugar goes too high, it's actually toxic to neurons and other cells of your body can kill them off and neurons of the central nervous system in the brain and spinal cord. \n",
            "['brain']\n",
            "Once they are dead. \n",
            "[]\n",
            "They do not come back. \n",
            "[]\n",
            "So your biological systems understand this at a biological level that is and prevent that death of cells due to high blood sugar by keeping. \n",
            "[]\n",
            "Insulin around in order to clamp blood glucose diabetics. \n",
            "[]\n",
            "We call them type 1 diabetics who don't make insulin have to take insulin when they eat in particular, when they foods that raise their blood sugar specifically to avoid that neurotoxicity in the other deleterious effects of high blood sugar. \n",
            "['particular']\n",
            "Okay. \n",
            "[]\n",
            "So ghrelin is a hormone that goes up the longer. \n",
            "[]\n",
            "It's been since we've eaten it tends to stimulate hunger when we eat ghrelin is suppressed blood glucose typically goes up, especially when we a carbohydrate containing meal. \n",
            "[]\n",
            "When blood glucose goes up, its regulated in the body meaning its Peaks and its valleys are more less smoothed out and that glucose is sequestered. \n",
            "[]\n",
            "It's taken away where it needs to be taken away. \n",
            "['way']\n",
            "And in certain locations, it's delivered to cells so that those cells can use the glucose. \n",
            "[]\n",
            "Now, one of the chief organs for glucose utilization is the brain neurons are tremendously metabolically active and their preferred mode of metabolism is glucose metabolism. \n",
            "['brain']\n",
            "The words neurons basically run on sugar, which is not to say that you should eat a lot of sugar as you'll see today. \n",
            "[]\n",
            "There are states of mind and body. \n",
            "[]\n",
            "For instance, fasted States in which people report having immense amounts of mental Clarity and their blood glucose is actually quite low. \n",
            "[]\n",
            "So it is simply not the case that the more sugar that you ingest the better that your brain will function. \n",
            "['brain']\n",
            "But it is the case that for most people, meaning people who are not on a ketogenic or very low carbohydrate diet. \n",
            "[]\n",
            "They're not adapted to low carbohydrate. \n",
            "[]\n",
            "Diets that neurons in their brain and body are using glucose in order to function. \n",
            "['brain']\n",
            "That's what allows those neurons to fire electrical, potentials. \n",
            "[]\n",
            "That's how we refer to it. \n",
            "[]\n",
            "Firing meaning, sending electrical signals down their lengths to communicate with other neurons. \n",
            "[]\n"
          ]
        }
      ]
    },
    {
      "cell_type": "code",
      "source": [
        "num = 5\n",
        "match_num=1\n",
        "before_flag = [0]*num\n",
        "is_sponsor = []\n",
        "for i in range(len(all_sentence)):\n",
        "  if(\"sponsor\" in all_sentence[i]):\n",
        "    \n",
        "    for j in range(i,len(all_sentence)):\n",
        "      matches = [a for a in select_word if a in all_sentence[j]]\n",
        "      \n",
        "      for f in range(num-1,0,-1):\n",
        "        before_flag[f] = before_flag[f-1]\n",
        "      if(len(matches)>match_num or i==j): before_flag[0] = 1\n",
        "      else: before_flag[0] = 0\n",
        "      print(before_flag)\n",
        "      flag=0\n",
        "      for f in range(num):\n",
        "        if(before_flag[f]==1): \n",
        "          flag=1\n",
        "          break\n",
        "      if(flag==1):\n",
        "        if((j-num-1)>=i): is_sponsor.append(all_sentence[j-num-1])\n",
        "        \n",
        "      else:\n",
        "        is_sponsor.append(\"----------------------------------------------------------------\")\n",
        "        break\n",
        "    break"
      ],
      "metadata": {
        "colab": {
          "base_uri": "https://localhost:8080/"
        },
        "id": "YFnhwseias5v",
        "outputId": "96d1a734-59e3-4332-8aea-1e2dda9da224"
      },
      "execution_count": 191,
      "outputs": [
        {
          "output_type": "stream",
          "name": "stdout",
          "text": [
            "[1, 0, 0, 0, 0]\n",
            "[1, 1, 0, 0, 0]\n",
            "[1, 1, 1, 0, 0]\n",
            "[0, 1, 1, 1, 0]\n",
            "[1, 0, 1, 1, 1]\n",
            "[1, 1, 0, 1, 1]\n",
            "[1, 1, 1, 0, 1]\n",
            "[0, 1, 1, 1, 0]\n",
            "[1, 0, 1, 1, 1]\n",
            "[1, 1, 0, 1, 1]\n",
            "[1, 1, 1, 0, 1]\n",
            "[0, 1, 1, 1, 0]\n",
            "[0, 0, 1, 1, 1]\n",
            "[0, 0, 0, 1, 1]\n",
            "[1, 0, 0, 0, 1]\n",
            "[1, 1, 0, 0, 0]\n",
            "[0, 1, 1, 0, 0]\n",
            "[0, 0, 1, 1, 0]\n",
            "[0, 0, 0, 1, 1]\n",
            "[1, 0, 0, 0, 1]\n",
            "[1, 1, 0, 0, 0]\n",
            "[0, 1, 1, 0, 0]\n",
            "[1, 0, 1, 1, 0]\n",
            "[0, 1, 0, 1, 1]\n",
            "[0, 0, 1, 0, 1]\n",
            "[1, 0, 0, 1, 0]\n",
            "[0, 1, 0, 0, 1]\n",
            "[0, 0, 1, 0, 0]\n",
            "[0, 0, 0, 1, 0]\n",
            "[0, 0, 0, 0, 1]\n",
            "[0, 0, 0, 0, 0]\n"
          ]
        }
      ]
    },
    {
      "cell_type": "code",
      "source": [
        "for sent in is_sponsor: \n",
        "  print(sent)"
      ],
      "metadata": {
        "colab": {
          "base_uri": "https://localhost:8080/"
        },
        "id": "2uh25Nk5cyYn",
        "outputId": "1d65bb17-f6b0-4ff9-d4c3-175858d34ca6"
      },
      "execution_count": 189,
      "outputs": [
        {
          "output_type": "stream",
          "name": "stdout",
          "text": [
            "I'd like to thank the sponsors of today's podcast. \n",
            "Our first sponsor is thesis thesis makes what are called? \n",
            "Nootropics, which means smart drugs. \n",
            "Now, to be honest. \n",
            "I am not a fan of the term nootropics. \n",
            "I don't believe in smart drugs. \n",
            "In the sense that I don't believe that there's any one substance, or collection of substances that can make us smarter. \n",
            "I do believe based on science. \n",
            "However, that there are particular, neural circuits and brain functions that allow us to be more focused, more alert access creativity, be more motivated at cetera. \n",
            "That's just the way that the brain works different, neural circuits for different brain States. \n",
            "And so the idea of a nootropic that's just going to make a Smarter all around fails to acknowledge that. \n",
            "Smarter is many things, right? \n",
            "If you're an artist or a musician, you're doing math, you're doing accounting a different part of the day. \n",
            "You need to be creative. \n",
            "These are all different brain, processes thesis understands this. \n",
            "And as far as I know that the first nootropics company to create targeted, nootropics for specific outcomes. \n",
            "They only use the highest quality ingredients, which of course is essential. \n",
            "Some of those I've talked about on the podcast, things like DHA, ginkgo biloba, phosphatidyl serine. \n",
            "They give you the ability to try several different blends over the course of a month. \n",
            "Discover which nootropics work best for your unique brain, chemistry and genetics and goals. \n",
            "And with that personalization design, a kit of nootropics that's ideal for the different brain and body States. \n",
            "You want to access. \n",
            "I've been using thesis for more than six months now and I can confidently say that their nootropics have been a total Game Changer. \n",
            "My go-to formula is the clarity formula or sometimes I'll use their energy formula before training to get your own personalized. \n",
            "Nootropic starter kit. \n",
            "Go online to take thesis.com huberman, take a A minute quiz and thesis will send you four different formulas to try in your first month. \n",
            "That's take thesis.com huberman and use the code huberman at checkout for 10% off. \n",
            "Your first order. \n",
            "Today's episode is also brought To Us by athletic greens now called a G1. \n",
            "Athletic greens is an all-in-one vitamin mineral, probiotic drink. \n",
            "----------------------------------------------------------------\n"
          ]
        }
      ]
    },
    {
      "cell_type": "code",
      "source": [
        "ans = []\n",
        "for i in range(len(all_sentence)):\n",
        "  if (all_sentence[i] not in is_sponsor):\n",
        "    ans.append(all_sentence[i])\n",
        "for sent in ans: \n",
        "  print(sent)"
      ],
      "metadata": {
        "colab": {
          "base_uri": "https://localhost:8080/"
        },
        "id": "GwsrP7T4fGog",
        "outputId": "ddadbd51-cd6f-48fc-f409-059434b4aae3"
      },
      "execution_count": 190,
      "outputs": [
        {
          "output_type": "stream",
          "name": "stdout",
          "text": [
            "Welcome to the huberman Lab podcast, where we discuss science and science based tools for everyday life. \n",
            "I'm Andrew huberman, and I'm a professor of neurobiology and Ophthalmology at Stanford school of medicine. \n",
            "Today. \n",
            "We are going to discuss sugar in particular how our nervous system regulates our sugar intake and are seeking of sugar. \n",
            "We're also going to discuss how sugar regulates our nervous system and as you'll soon, learn sugar really impacts our brain and body by two main mechanisms. \n",
            "Isms, one of those mechanisms is based on the Sweet Taste of sugar which itself is rewarding. \n",
            "Even if you're not much of a sweet tooth. \n",
            "I confess. \n",
            "I'm not most people enjoy sweet tastes more than bitter tastes and the Sweet Taste of sugar. \n",
            "And its various forms is strongly reinforcing. \n",
            "Meaning it triggers the activation of neurons nerve cells in the brain and body that make us want to consume more of that sweet substance. \n",
            "Incidentally. \n",
            "Sweet taste also make us want to eat more of other substances. \n",
            "Senses as well. \n",
            "You may be familiar with that phenomenon. \n",
            "Now sugar also triggers mechanisms in the brain and body based on its nutritive content independent of its sweetness. \n",
            "What that means is that the actual caloric content and the way that Sugar interacts with your nervous system at a subconscious level without your awareness, also impacts your craving and seeking of sugar and other Foods today. \n",
            "We are going to discuss what happens when you ingest sugar in terms of your body's reaction. \n",
            "Your brains reaction. \n",
            "We are also going to talk about what happens when you don't ingest enough sugar, because it turns out sugar is such a powerful fuel for the brain that under conditions, where people don't ingest enough sugar or where their so-called blood glucose, which is basically a blood sugar of a particular form gets too low there neurons, don't function as well. \n",
            "That said, their conditions of very low blood sugar in which neurons can function even better. \n",
            "So today we are going to talk about the ins and outs the ups and downs of sugar. \n",
            "As it relates to your nervous system and by the end of this episode, I'm confident that you have a much clearer picture as to how much sugar you should be ingesting, whether or not you should avoid sugars that you're currently eating, and you will certainly understand much more about the energy and fuel sources that your brain relies on which I'm certain, will allow you to make better informed choices about the foods, you eat, and avoid toward mental health, physical health, and performance. \n",
            "I'm pleased to announce that I'm hosting to Live Events. \n",
            "This may the first live event will Hosted in Seattle, Washington on May 17th. \n",
            "The second live event will be hosted in Portland, Oregon on May 18th. \n",
            "Both are part of a lecture series entitled, the brain-body contract during which I will discuss science and science based tools for mental health, physical, health, and performance. \n",
            "I should point out that while some of the material, I'll cover will overlap with information covered here on the huberman Lab podcast and on various social media posts. \n",
            "Most of the information I will cover is going to be distinct from information covered on the podcast. \n",
            "Or elsewhere. \n",
            "So once again, it's Seattle on May 17th. \n",
            "Portland on May 18th. \n",
            "You can access tickets by going to human lab.com, / tour and I hope to see you there. \n",
            "Before we begin, I'd like to emphasize that this podcast is separate from my teaching and research roles at Stanford. \n",
            "It is however, a part of my desire and effort to bring zero cost to Consumer information about science and science related tools to the general public in keeping with that theme. \n",
            "I've been taking athletic greens since 2012. \n",
            "So I'm delighted that they're sponsoring the podcast. \n",
            "The reason I started taking athletic Greens in the reason. \n",
            "I still take out letter greens once or twice a day, is that it helps me, cover all of my bases. \n",
            "Nutritional needs. \n",
            "It makes up for any deficiencies that I might have. \n",
            "In addition. \n",
            "It has probiotics which are vital for microbiome Health. \n",
            "I've done a couple of episodes now on the so-called gut microbiome and the ways in which the microbiome interacts, with your immune system, with your brain to regulate mood and essentially with every biological system relevant to health throughout your brain and body without let it greens. \n",
            "I get the vitamins. \n",
            "I need the minerals. \n",
            "I need and the probiotics to support my microbiome. \n",
            "If you'd like to try out, let it greens, you can go. \n",
            "Two athletic greens.com huberman and claim a special offer. \n",
            "They'll give you five free travel packs, which make it easy to mix up athletic greens while you're on the road, plus a year supply of vitamin D3 K to our ton of data. \n",
            "Now showing that vitamin D3 is essential for various aspects of our brain and body Health, even if we're getting a lot of sunshine, many of us are still deficient in vitamin D3. \n",
            "And K2 is also important because it regulates things like cardiovascular function calcium in the body. \n",
            "And so on again, go to athletic greens.com hubermann. \n",
            "To claim the special offer of the five free travel packs and the year supply of vitamin D3 K to today's episode is also brought To Us by inside tracker inside trackers, a personalized nutrition platform. \n",
            "That analyzes data from your blood and DNA to help you better understand your body and help you reach your health goals. \n",
            "I've long been a believer in getting regular blood work done. \n",
            "For the simple reason that many of the factors that impact your immediate and long-term Health can only be assessed with a quality blood test. \n",
            "What's unique about inside tracker. \n",
            "Is that while there are a lot of different Tests out there for hormones and metabolic factors Etc with inside tracker. \n",
            "You get the numbers back in terms of your levels, but they also give you very clear. \n",
            "Directives. \n",
            "In terms of Lifestyle nutrition and supplementation that can help you bring those values into the ranges that are best for you and your health goals and that's very different than a lot of the other programs where you get a lot of information. \n",
            "We don't really know what to do with that information inside tracker makes that all very easy to understand and very actionable based on the very easy-to-use dashboard at inside tracker. \n",
            "If you'd like to try inside track, You can visit inside tracker.com huberman to get 20% off any of inside. \n",
            "Trackers plans. \n",
            "Just use the code huberman at checkout. \n",
            "Okay, let's talk about sugar. \n",
            "Let's talk about how sugar impacts your brain and how your brain impacts your pursuit or your avoidance of sugar. \n",
            "Let's get a few things out of the way. \n",
            "First. \n",
            "The first thing is that there's nothing inherently bad about sugar. \n",
            "I know the word sugar gets a bad rap nowadays and indeed, you're going to hear over and over again. \n",
            "During this podcast that consuming a lot of refined sugars in particular, high fructose, corn syrup is known to have a very large number of bad effects on the brain and body. \n",
            "I don't know that there's any one that really debates that anymore, even if we just agree and I think we should all agree on the so-called calories in calories out principle, right? \n",
            "It's a principle of thermodynamics that if we ingest more energy than we burn, we are going to gain weight. \n",
            "If we ingest less energy than we burn, we are generally going to lose weight and if The two things are imbalance ingestion and burning of energy. \n",
            "Well, then we're going to maintain weight. \n",
            "So everyone agrees on that. \n",
            "I agree on that. \n",
            "But beyond that there are a number of ways in which particular nutrients in the case of today's episode sugar impact. \n",
            "The way that the brain works such that we tend to seek out more of particular nutrients. \n",
            "For instance. \n",
            "If we eat sugar, there are two or at least two mechanisms by which we will crave more sugar. \n",
            "I think. \n",
            "People are aware of that experience. \n",
            "But today I'm going to explain exactly how that works. \n",
            "But also that when we ingest sugar, it has a bunch of different effects on the way that our neural circuits work that can allow us to be more or less focused more or less agitated more or less happy more or less depressed in some cases. \n",
            "So today as we explore this thing. \n",
            "We're calling Sugar, We're Going to explore that mainly in the context of the nervous system, but also in the context of how the nervous system regulates many many. \n",
            "Functions and behaviors that are important to all of you, your ability to think your ability, to exercise, your ability to gain weight lose weight. \n",
            "Whatever your goals might happen, to be sugar, plays a critical role in achieving those goals. \n",
            "And in some cases, if you're ingesting too much at the wrong times of the wrong forms, sugar can actually impede those goals. \n",
            "In fact, sugar can prevent all the right behaviors from allowing you to achieve the goals that you want. \n",
            "So today we are going to place sugar into its proper context. \n",
            "The way I want to start. \n",
            "Start off by doing that is to tell you a little bit of what happens when we eat and a little bit of what the brain does to respond to those events. \n",
            "So what happens when we eat? \n",
            "Well, I've done an entire episode on metabolism. \n",
            "So if you're interested in the full Cascade of hormonal and neural events that occurs when we eat, please check out that episode. \n",
            "But for sake of today's discussion, let's just take a what I call Top Contour view of the hormonal response to ingesting food. \n",
            "Now, any time we eat, that is the consequence of a number of things that happen. \n",
            "Before we ate, there's a hormone in our brain and body called ghrelin. \n",
            "Spelled GH reli. \n",
            "N ghrelin is a hormone that increases depending on how long it's been since we ate last. \n",
            "Okay. \n",
            "So the longer it's been since we had a meal ghrelin levels are going to be higher and higher and higher and it essentially makes us hungry by interacting with particular neurons in an area of the brain called the arcuate nucleus of the hypothalamus.- \n",
            "and some other areas as well, like the lateral hypothalamus. \n",
            "You don't need to know the names of those brain areas. \n",
            "But if you'd like to know them, there they are ghrelin increases. \n",
            "It tends to make us hungry. \n",
            "And then when we eat typically, what happens is ghrelin levels, go down. \n",
            "So it's a very logical system. \n",
            "Now when we eat assuming that we eat carbohydrates, but even if we just eat some protein and some fats, we will experience a slight or in some cases, a large rise in blood. \n",
            "Glucose blood. \n",
            "Glucose is simply blood sugar and the body and brain, we should say particular the nervous system doesn't function. \n",
            "Well, if blood sugar is too high or too low. \n",
            "So as a consequence we have another hormone, which is released from the pancreas, which is called insulin which helps regulate the amount of glucose in the bloodstream. \n",
            "So even if you were to ingest, an entire cup and 8 ounce cup of pure table sugar, which would send your blood glucose very very high assuming that you have a normal. \n",
            "Insulin response that you're not diabetic that insulin response would help clamp that blood glucose level so that it did not cause damage to your brain and body. \n",
            "Because if blood sugar goes too high, it's actually toxic to neurons and other cells of your body can kill them off and neurons of the central nervous system in the brain and spinal cord. \n",
            "Once they are dead. \n",
            "They do not come back. \n",
            "So your biological systems understand this at a biological level that is and prevent that death of cells due to high blood sugar by keeping. \n",
            "Insulin around in order to clamp blood glucose diabetics. \n",
            "We call them type 1 diabetics who don't make insulin have to take insulin when they eat in particular, when they foods that raise their blood sugar specifically to avoid that neurotoxicity in the other deleterious effects of high blood sugar. \n",
            "Okay. \n",
            "So ghrelin is a hormone that goes up the longer. \n",
            "It's been since we've eaten it tends to stimulate hunger when we eat ghrelin is suppressed blood glucose typically goes up, especially when we a carbohydrate containing meal. \n",
            "When blood glucose goes up, its regulated in the body meaning its Peaks and its valleys are more less smoothed out and that glucose is sequestered. \n",
            "It's taken away where it needs to be taken away. \n",
            "And in certain locations, it's delivered to cells so that those cells can use the glucose. \n",
            "Now, one of the chief organs for glucose utilization is the brain neurons are tremendously metabolically active and their preferred mode of metabolism is glucose metabolism. \n",
            "The words neurons basically run on sugar, which is not to say that you should eat a lot of sugar as you'll see today. \n",
            "There are states of mind and body. \n",
            "For instance, fasted States in which people report having immense amounts of mental Clarity and their blood glucose is actually quite low. \n",
            "So it is simply not the case that the more sugar that you ingest the better that your brain will function. \n",
            "But it is the case that for most people, meaning people who are not on a ketogenic or very low carbohydrate diet. \n",
            "They're not adapted to low carbohydrate. \n",
            "Diets that neurons in their brain and body are using glucose in order to function. \n",
            "That's what allows those neurons to fire electrical, potentials. \n",
            "That's how we refer to it. \n",
            "Firing meaning, sending electrical signals down their lengths to communicate with other neurons. \n"
          ]
        }
      ]
    }
  ]
}
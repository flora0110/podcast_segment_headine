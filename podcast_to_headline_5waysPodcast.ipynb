{
  "nbformat": 4,
  "nbformat_minor": 0,
  "metadata": {
    "colab": {
      "name": "podcast_to_headline_5waysPodcast.ipynb",
      "provenance": [],
      "include_colab_link": true
    },
    "kernelspec": {
      "name": "python3",
      "display_name": "Python 3"
    },
    "language_info": {
      "name": "python"
    },
    "widgets": {
      "application/vnd.jupyter.widget-state+json": {
        "8610913177c641ff9f54ebb817438a34": {
          "model_module": "@jupyter-widgets/controls",
          "model_name": "HBoxModel",
          "model_module_version": "1.5.0",
          "state": {
            "_dom_classes": [],
            "_model_module": "@jupyter-widgets/controls",
            "_model_module_version": "1.5.0",
            "_model_name": "HBoxModel",
            "_view_count": null,
            "_view_module": "@jupyter-widgets/controls",
            "_view_module_version": "1.5.0",
            "_view_name": "HBoxView",
            "box_style": "",
            "children": [
              "IPY_MODEL_b5459ecd5acb4d13bd9b1fab29f0a5e6",
              "IPY_MODEL_b8d589872b644bc98c064fbc3f855a04",
              "IPY_MODEL_aab6c472863847c387ff3f3bd8fb9360"
            ],
            "layout": "IPY_MODEL_084ad3da91504062b065fcec85e815c8"
          }
        },
        "b5459ecd5acb4d13bd9b1fab29f0a5e6": {
          "model_module": "@jupyter-widgets/controls",
          "model_name": "HTMLModel",
          "model_module_version": "1.5.0",
          "state": {
            "_dom_classes": [],
            "_model_module": "@jupyter-widgets/controls",
            "_model_module_version": "1.5.0",
            "_model_name": "HTMLModel",
            "_view_count": null,
            "_view_module": "@jupyter-widgets/controls",
            "_view_module_version": "1.5.0",
            "_view_name": "HTMLView",
            "description": "",
            "description_tooltip": null,
            "layout": "IPY_MODEL_d26caa55a49d43a9b0645c23e8fcec80",
            "placeholder": "​",
            "style": "IPY_MODEL_53bea1baa19a40bbba0a971a7bd98e13",
            "value": "Downloading: 100%"
          }
        },
        "b8d589872b644bc98c064fbc3f855a04": {
          "model_module": "@jupyter-widgets/controls",
          "model_name": "FloatProgressModel",
          "model_module_version": "1.5.0",
          "state": {
            "_dom_classes": [],
            "_model_module": "@jupyter-widgets/controls",
            "_model_module_version": "1.5.0",
            "_model_name": "FloatProgressModel",
            "_view_count": null,
            "_view_module": "@jupyter-widgets/controls",
            "_view_module_version": "1.5.0",
            "_view_name": "ProgressView",
            "bar_style": "success",
            "description": "",
            "description_tooltip": null,
            "layout": "IPY_MODEL_e60d2518b2ef46019844d84ff5e4fa60",
            "max": 1345,
            "min": 0,
            "orientation": "horizontal",
            "style": "IPY_MODEL_fa38e70051fb4b089154cf2e7c710e3d",
            "value": 1345
          }
        },
        "aab6c472863847c387ff3f3bd8fb9360": {
          "model_module": "@jupyter-widgets/controls",
          "model_name": "HTMLModel",
          "model_module_version": "1.5.0",
          "state": {
            "_dom_classes": [],
            "_model_module": "@jupyter-widgets/controls",
            "_model_module_version": "1.5.0",
            "_model_name": "HTMLModel",
            "_view_count": null,
            "_view_module": "@jupyter-widgets/controls",
            "_view_module_version": "1.5.0",
            "_view_name": "HTMLView",
            "description": "",
            "description_tooltip": null,
            "layout": "IPY_MODEL_7e59040ca08446bab2e6111daa809746",
            "placeholder": "​",
            "style": "IPY_MODEL_0b53a8b050664e93b4dd00b99373ce71",
            "value": " 1.31k/1.31k [00:00&lt;00:00, 5.71kB/s]"
          }
        },
        "084ad3da91504062b065fcec85e815c8": {
          "model_module": "@jupyter-widgets/base",
          "model_name": "LayoutModel",
          "model_module_version": "1.2.0",
          "state": {
            "_model_module": "@jupyter-widgets/base",
            "_model_module_version": "1.2.0",
            "_model_name": "LayoutModel",
            "_view_count": null,
            "_view_module": "@jupyter-widgets/base",
            "_view_module_version": "1.2.0",
            "_view_name": "LayoutView",
            "align_content": null,
            "align_items": null,
            "align_self": null,
            "border": null,
            "bottom": null,
            "display": null,
            "flex": null,
            "flex_flow": null,
            "grid_area": null,
            "grid_auto_columns": null,
            "grid_auto_flow": null,
            "grid_auto_rows": null,
            "grid_column": null,
            "grid_gap": null,
            "grid_row": null,
            "grid_template_areas": null,
            "grid_template_columns": null,
            "grid_template_rows": null,
            "height": null,
            "justify_content": null,
            "justify_items": null,
            "left": null,
            "margin": null,
            "max_height": null,
            "max_width": null,
            "min_height": null,
            "min_width": null,
            "object_fit": null,
            "object_position": null,
            "order": null,
            "overflow": null,
            "overflow_x": null,
            "overflow_y": null,
            "padding": null,
            "right": null,
            "top": null,
            "visibility": null,
            "width": null
          }
        },
        "d26caa55a49d43a9b0645c23e8fcec80": {
          "model_module": "@jupyter-widgets/base",
          "model_name": "LayoutModel",
          "model_module_version": "1.2.0",
          "state": {
            "_model_module": "@jupyter-widgets/base",
            "_model_module_version": "1.2.0",
            "_model_name": "LayoutModel",
            "_view_count": null,
            "_view_module": "@jupyter-widgets/base",
            "_view_module_version": "1.2.0",
            "_view_name": "LayoutView",
            "align_content": null,
            "align_items": null,
            "align_self": null,
            "border": null,
            "bottom": null,
            "display": null,
            "flex": null,
            "flex_flow": null,
            "grid_area": null,
            "grid_auto_columns": null,
            "grid_auto_flow": null,
            "grid_auto_rows": null,
            "grid_column": null,
            "grid_gap": null,
            "grid_row": null,
            "grid_template_areas": null,
            "grid_template_columns": null,
            "grid_template_rows": null,
            "height": null,
            "justify_content": null,
            "justify_items": null,
            "left": null,
            "margin": null,
            "max_height": null,
            "max_width": null,
            "min_height": null,
            "min_width": null,
            "object_fit": null,
            "object_position": null,
            "order": null,
            "overflow": null,
            "overflow_x": null,
            "overflow_y": null,
            "padding": null,
            "right": null,
            "top": null,
            "visibility": null,
            "width": null
          }
        },
        "53bea1baa19a40bbba0a971a7bd98e13": {
          "model_module": "@jupyter-widgets/controls",
          "model_name": "DescriptionStyleModel",
          "model_module_version": "1.5.0",
          "state": {
            "_model_module": "@jupyter-widgets/controls",
            "_model_module_version": "1.5.0",
            "_model_name": "DescriptionStyleModel",
            "_view_count": null,
            "_view_module": "@jupyter-widgets/base",
            "_view_module_version": "1.2.0",
            "_view_name": "StyleView",
            "description_width": ""
          }
        },
        "e60d2518b2ef46019844d84ff5e4fa60": {
          "model_module": "@jupyter-widgets/base",
          "model_name": "LayoutModel",
          "model_module_version": "1.2.0",
          "state": {
            "_model_module": "@jupyter-widgets/base",
            "_model_module_version": "1.2.0",
            "_model_name": "LayoutModel",
            "_view_count": null,
            "_view_module": "@jupyter-widgets/base",
            "_view_module_version": "1.2.0",
            "_view_name": "LayoutView",
            "align_content": null,
            "align_items": null,
            "align_self": null,
            "border": null,
            "bottom": null,
            "display": null,
            "flex": null,
            "flex_flow": null,
            "grid_area": null,
            "grid_auto_columns": null,
            "grid_auto_flow": null,
            "grid_auto_rows": null,
            "grid_column": null,
            "grid_gap": null,
            "grid_row": null,
            "grid_template_areas": null,
            "grid_template_columns": null,
            "grid_template_rows": null,
            "height": null,
            "justify_content": null,
            "justify_items": null,
            "left": null,
            "margin": null,
            "max_height": null,
            "max_width": null,
            "min_height": null,
            "min_width": null,
            "object_fit": null,
            "object_position": null,
            "order": null,
            "overflow": null,
            "overflow_x": null,
            "overflow_y": null,
            "padding": null,
            "right": null,
            "top": null,
            "visibility": null,
            "width": null
          }
        },
        "fa38e70051fb4b089154cf2e7c710e3d": {
          "model_module": "@jupyter-widgets/controls",
          "model_name": "ProgressStyleModel",
          "model_module_version": "1.5.0",
          "state": {
            "_model_module": "@jupyter-widgets/controls",
            "_model_module_version": "1.5.0",
            "_model_name": "ProgressStyleModel",
            "_view_count": null,
            "_view_module": "@jupyter-widgets/base",
            "_view_module_version": "1.2.0",
            "_view_name": "StyleView",
            "bar_color": null,
            "description_width": ""
          }
        },
        "7e59040ca08446bab2e6111daa809746": {
          "model_module": "@jupyter-widgets/base",
          "model_name": "LayoutModel",
          "model_module_version": "1.2.0",
          "state": {
            "_model_module": "@jupyter-widgets/base",
            "_model_module_version": "1.2.0",
            "_model_name": "LayoutModel",
            "_view_count": null,
            "_view_module": "@jupyter-widgets/base",
            "_view_module_version": "1.2.0",
            "_view_name": "LayoutView",
            "align_content": null,
            "align_items": null,
            "align_self": null,
            "border": null,
            "bottom": null,
            "display": null,
            "flex": null,
            "flex_flow": null,
            "grid_area": null,
            "grid_auto_columns": null,
            "grid_auto_flow": null,
            "grid_auto_rows": null,
            "grid_column": null,
            "grid_gap": null,
            "grid_row": null,
            "grid_template_areas": null,
            "grid_template_columns": null,
            "grid_template_rows": null,
            "height": null,
            "justify_content": null,
            "justify_items": null,
            "left": null,
            "margin": null,
            "max_height": null,
            "max_width": null,
            "min_height": null,
            "min_width": null,
            "object_fit": null,
            "object_position": null,
            "order": null,
            "overflow": null,
            "overflow_x": null,
            "overflow_y": null,
            "padding": null,
            "right": null,
            "top": null,
            "visibility": null,
            "width": null
          }
        },
        "0b53a8b050664e93b4dd00b99373ce71": {
          "model_module": "@jupyter-widgets/controls",
          "model_name": "DescriptionStyleModel",
          "model_module_version": "1.5.0",
          "state": {
            "_model_module": "@jupyter-widgets/controls",
            "_model_module_version": "1.5.0",
            "_model_name": "DescriptionStyleModel",
            "_view_count": null,
            "_view_module": "@jupyter-widgets/base",
            "_view_module_version": "1.2.0",
            "_view_name": "StyleView",
            "description_width": ""
          }
        },
        "46ba2da6be2947ed91622f8a2dc8522c": {
          "model_module": "@jupyter-widgets/controls",
          "model_name": "HBoxModel",
          "model_module_version": "1.5.0",
          "state": {
            "_dom_classes": [],
            "_model_module": "@jupyter-widgets/controls",
            "_model_module_version": "1.5.0",
            "_model_name": "HBoxModel",
            "_view_count": null,
            "_view_module": "@jupyter-widgets/controls",
            "_view_module_version": "1.5.0",
            "_view_name": "HBoxView",
            "box_style": "",
            "children": [
              "IPY_MODEL_6f246225e84b449ba91611eff5c95c3d",
              "IPY_MODEL_ae68589a25c3491bbda48b18c8badee0",
              "IPY_MODEL_ed2e7c974c734dbf855b0f5a173896ce"
            ],
            "layout": "IPY_MODEL_9638fdb6871340a096c20a9d6e6f782f"
          }
        },
        "6f246225e84b449ba91611eff5c95c3d": {
          "model_module": "@jupyter-widgets/controls",
          "model_name": "HTMLModel",
          "model_module_version": "1.5.0",
          "state": {
            "_dom_classes": [],
            "_model_module": "@jupyter-widgets/controls",
            "_model_module_version": "1.5.0",
            "_model_name": "HTMLModel",
            "_view_count": null,
            "_view_module": "@jupyter-widgets/controls",
            "_view_module_version": "1.5.0",
            "_view_name": "HTMLView",
            "description": "",
            "description_tooltip": null,
            "layout": "IPY_MODEL_7a0b6c1f225a486fa3a17db0a6ae4a56",
            "placeholder": "​",
            "style": "IPY_MODEL_8779cb7620c94c5bbc4a65941f9cbd1f",
            "value": "Downloading: 100%"
          }
        },
        "ae68589a25c3491bbda48b18c8badee0": {
          "model_module": "@jupyter-widgets/controls",
          "model_name": "FloatProgressModel",
          "model_module_version": "1.5.0",
          "state": {
            "_dom_classes": [],
            "_model_module": "@jupyter-widgets/controls",
            "_model_module_version": "1.5.0",
            "_model_name": "FloatProgressModel",
            "_view_count": null,
            "_view_module": "@jupyter-widgets/controls",
            "_view_module_version": "1.5.0",
            "_view_name": "ProgressView",
            "bar_style": "success",
            "description": "",
            "description_tooltip": null,
            "layout": "IPY_MODEL_65f08fd50b2d429c8bf7e419f7f02c9d",
            "max": 1236,
            "min": 0,
            "orientation": "horizontal",
            "style": "IPY_MODEL_bbbca5af57314b21881ac8cae9654c26",
            "value": 1236
          }
        },
        "ed2e7c974c734dbf855b0f5a173896ce": {
          "model_module": "@jupyter-widgets/controls",
          "model_name": "HTMLModel",
          "model_module_version": "1.5.0",
          "state": {
            "_dom_classes": [],
            "_model_module": "@jupyter-widgets/controls",
            "_model_module_version": "1.5.0",
            "_model_name": "HTMLModel",
            "_view_count": null,
            "_view_module": "@jupyter-widgets/controls",
            "_view_module_version": "1.5.0",
            "_view_name": "HTMLView",
            "description": "",
            "description_tooltip": null,
            "layout": "IPY_MODEL_1476720136c54399b0f078d2ed37e277",
            "placeholder": "​",
            "style": "IPY_MODEL_6a4f8dbf482d426eb46d4d7204015567",
            "value": " 1.21k/1.21k [00:00&lt;00:00, 32.1kB/s]"
          }
        },
        "9638fdb6871340a096c20a9d6e6f782f": {
          "model_module": "@jupyter-widgets/base",
          "model_name": "LayoutModel",
          "model_module_version": "1.2.0",
          "state": {
            "_model_module": "@jupyter-widgets/base",
            "_model_module_version": "1.2.0",
            "_model_name": "LayoutModel",
            "_view_count": null,
            "_view_module": "@jupyter-widgets/base",
            "_view_module_version": "1.2.0",
            "_view_name": "LayoutView",
            "align_content": null,
            "align_items": null,
            "align_self": null,
            "border": null,
            "bottom": null,
            "display": null,
            "flex": null,
            "flex_flow": null,
            "grid_area": null,
            "grid_auto_columns": null,
            "grid_auto_flow": null,
            "grid_auto_rows": null,
            "grid_column": null,
            "grid_gap": null,
            "grid_row": null,
            "grid_template_areas": null,
            "grid_template_columns": null,
            "grid_template_rows": null,
            "height": null,
            "justify_content": null,
            "justify_items": null,
            "left": null,
            "margin": null,
            "max_height": null,
            "max_width": null,
            "min_height": null,
            "min_width": null,
            "object_fit": null,
            "object_position": null,
            "order": null,
            "overflow": null,
            "overflow_x": null,
            "overflow_y": null,
            "padding": null,
            "right": null,
            "top": null,
            "visibility": null,
            "width": null
          }
        },
        "7a0b6c1f225a486fa3a17db0a6ae4a56": {
          "model_module": "@jupyter-widgets/base",
          "model_name": "LayoutModel",
          "model_module_version": "1.2.0",
          "state": {
            "_model_module": "@jupyter-widgets/base",
            "_model_module_version": "1.2.0",
            "_model_name": "LayoutModel",
            "_view_count": null,
            "_view_module": "@jupyter-widgets/base",
            "_view_module_version": "1.2.0",
            "_view_name": "LayoutView",
            "align_content": null,
            "align_items": null,
            "align_self": null,
            "border": null,
            "bottom": null,
            "display": null,
            "flex": null,
            "flex_flow": null,
            "grid_area": null,
            "grid_auto_columns": null,
            "grid_auto_flow": null,
            "grid_auto_rows": null,
            "grid_column": null,
            "grid_gap": null,
            "grid_row": null,
            "grid_template_areas": null,
            "grid_template_columns": null,
            "grid_template_rows": null,
            "height": null,
            "justify_content": null,
            "justify_items": null,
            "left": null,
            "margin": null,
            "max_height": null,
            "max_width": null,
            "min_height": null,
            "min_width": null,
            "object_fit": null,
            "object_position": null,
            "order": null,
            "overflow": null,
            "overflow_x": null,
            "overflow_y": null,
            "padding": null,
            "right": null,
            "top": null,
            "visibility": null,
            "width": null
          }
        },
        "8779cb7620c94c5bbc4a65941f9cbd1f": {
          "model_module": "@jupyter-widgets/controls",
          "model_name": "DescriptionStyleModel",
          "model_module_version": "1.5.0",
          "state": {
            "_model_module": "@jupyter-widgets/controls",
            "_model_module_version": "1.5.0",
            "_model_name": "DescriptionStyleModel",
            "_view_count": null,
            "_view_module": "@jupyter-widgets/base",
            "_view_module_version": "1.2.0",
            "_view_name": "StyleView",
            "description_width": ""
          }
        },
        "65f08fd50b2d429c8bf7e419f7f02c9d": {
          "model_module": "@jupyter-widgets/base",
          "model_name": "LayoutModel",
          "model_module_version": "1.2.0",
          "state": {
            "_model_module": "@jupyter-widgets/base",
            "_model_module_version": "1.2.0",
            "_model_name": "LayoutModel",
            "_view_count": null,
            "_view_module": "@jupyter-widgets/base",
            "_view_module_version": "1.2.0",
            "_view_name": "LayoutView",
            "align_content": null,
            "align_items": null,
            "align_self": null,
            "border": null,
            "bottom": null,
            "display": null,
            "flex": null,
            "flex_flow": null,
            "grid_area": null,
            "grid_auto_columns": null,
            "grid_auto_flow": null,
            "grid_auto_rows": null,
            "grid_column": null,
            "grid_gap": null,
            "grid_row": null,
            "grid_template_areas": null,
            "grid_template_columns": null,
            "grid_template_rows": null,
            "height": null,
            "justify_content": null,
            "justify_items": null,
            "left": null,
            "margin": null,
            "max_height": null,
            "max_width": null,
            "min_height": null,
            "min_width": null,
            "object_fit": null,
            "object_position": null,
            "order": null,
            "overflow": null,
            "overflow_x": null,
            "overflow_y": null,
            "padding": null,
            "right": null,
            "top": null,
            "visibility": null,
            "width": null
          }
        },
        "bbbca5af57314b21881ac8cae9654c26": {
          "model_module": "@jupyter-widgets/controls",
          "model_name": "ProgressStyleModel",
          "model_module_version": "1.5.0",
          "state": {
            "_model_module": "@jupyter-widgets/controls",
            "_model_module_version": "1.5.0",
            "_model_name": "ProgressStyleModel",
            "_view_count": null,
            "_view_module": "@jupyter-widgets/base",
            "_view_module_version": "1.2.0",
            "_view_name": "StyleView",
            "bar_color": null,
            "description_width": ""
          }
        },
        "1476720136c54399b0f078d2ed37e277": {
          "model_module": "@jupyter-widgets/base",
          "model_name": "LayoutModel",
          "model_module_version": "1.2.0",
          "state": {
            "_model_module": "@jupyter-widgets/base",
            "_model_module_version": "1.2.0",
            "_model_name": "LayoutModel",
            "_view_count": null,
            "_view_module": "@jupyter-widgets/base",
            "_view_module_version": "1.2.0",
            "_view_name": "LayoutView",
            "align_content": null,
            "align_items": null,
            "align_self": null,
            "border": null,
            "bottom": null,
            "display": null,
            "flex": null,
            "flex_flow": null,
            "grid_area": null,
            "grid_auto_columns": null,
            "grid_auto_flow": null,
            "grid_auto_rows": null,
            "grid_column": null,
            "grid_gap": null,
            "grid_row": null,
            "grid_template_areas": null,
            "grid_template_columns": null,
            "grid_template_rows": null,
            "height": null,
            "justify_content": null,
            "justify_items": null,
            "left": null,
            "margin": null,
            "max_height": null,
            "max_width": null,
            "min_height": null,
            "min_width": null,
            "object_fit": null,
            "object_position": null,
            "order": null,
            "overflow": null,
            "overflow_x": null,
            "overflow_y": null,
            "padding": null,
            "right": null,
            "top": null,
            "visibility": null,
            "width": null
          }
        },
        "6a4f8dbf482d426eb46d4d7204015567": {
          "model_module": "@jupyter-widgets/controls",
          "model_name": "DescriptionStyleModel",
          "model_module_version": "1.5.0",
          "state": {
            "_model_module": "@jupyter-widgets/controls",
            "_model_module_version": "1.5.0",
            "_model_name": "DescriptionStyleModel",
            "_view_count": null,
            "_view_module": "@jupyter-widgets/base",
            "_view_module_version": "1.2.0",
            "_view_name": "StyleView",
            "description_width": ""
          }
        },
        "0a8eb49109ca4eea949532e711aee30a": {
          "model_module": "@jupyter-widgets/controls",
          "model_name": "HBoxModel",
          "model_module_version": "1.5.0",
          "state": {
            "_dom_classes": [],
            "_model_module": "@jupyter-widgets/controls",
            "_model_module_version": "1.5.0",
            "_model_name": "HBoxModel",
            "_view_count": null,
            "_view_module": "@jupyter-widgets/controls",
            "_view_module_version": "1.5.0",
            "_view_name": "HBoxView",
            "box_style": "",
            "children": [
              "IPY_MODEL_b6e22bc3005041e68823b274de2047d5",
              "IPY_MODEL_2702a6807b384d1aa57e8f66f83ea4e3",
              "IPY_MODEL_20c5898610554190aacc393606ef7aeb"
            ],
            "layout": "IPY_MODEL_94f30a0866c6495f91f8af8dadf224d6"
          }
        },
        "b6e22bc3005041e68823b274de2047d5": {
          "model_module": "@jupyter-widgets/controls",
          "model_name": "HTMLModel",
          "model_module_version": "1.5.0",
          "state": {
            "_dom_classes": [],
            "_model_module": "@jupyter-widgets/controls",
            "_model_module_version": "1.5.0",
            "_model_name": "HTMLModel",
            "_view_count": null,
            "_view_module": "@jupyter-widgets/controls",
            "_view_module_version": "1.5.0",
            "_view_name": "HTMLView",
            "description": "",
            "description_tooltip": null,
            "layout": "IPY_MODEL_d50e8c7d97334ae9b5e43e630282e8d5",
            "placeholder": "​",
            "style": "IPY_MODEL_44195782874949389d4f61b71efb9f35",
            "value": "Downloading: 100%"
          }
        },
        "2702a6807b384d1aa57e8f66f83ea4e3": {
          "model_module": "@jupyter-widgets/controls",
          "model_name": "FloatProgressModel",
          "model_module_version": "1.5.0",
          "state": {
            "_dom_classes": [],
            "_model_module": "@jupyter-widgets/controls",
            "_model_module_version": "1.5.0",
            "_model_name": "FloatProgressModel",
            "_view_count": null,
            "_view_module": "@jupyter-widgets/controls",
            "_view_module_version": "1.5.0",
            "_view_name": "ProgressView",
            "bar_style": "success",
            "description": "",
            "description_tooltip": null,
            "layout": "IPY_MODEL_3586af425e07478bb2c050b94ff6bba9",
            "max": 891695056,
            "min": 0,
            "orientation": "horizontal",
            "style": "IPY_MODEL_c4aa0f81647f4b7e8ceeab2a43c29df4",
            "value": 891695056
          }
        },
        "20c5898610554190aacc393606ef7aeb": {
          "model_module": "@jupyter-widgets/controls",
          "model_name": "HTMLModel",
          "model_module_version": "1.5.0",
          "state": {
            "_dom_classes": [],
            "_model_module": "@jupyter-widgets/controls",
            "_model_module_version": "1.5.0",
            "_model_name": "HTMLModel",
            "_view_count": null,
            "_view_module": "@jupyter-widgets/controls",
            "_view_module_version": "1.5.0",
            "_view_name": "HTMLView",
            "description": "",
            "description_tooltip": null,
            "layout": "IPY_MODEL_cd4b773b0fc645988d035a09be498446",
            "placeholder": "​",
            "style": "IPY_MODEL_13750ac60b074874bdc9951a5282438c",
            "value": " 850M/850M [00:31&lt;00:00, 37.3MB/s]"
          }
        },
        "94f30a0866c6495f91f8af8dadf224d6": {
          "model_module": "@jupyter-widgets/base",
          "model_name": "LayoutModel",
          "model_module_version": "1.2.0",
          "state": {
            "_model_module": "@jupyter-widgets/base",
            "_model_module_version": "1.2.0",
            "_model_name": "LayoutModel",
            "_view_count": null,
            "_view_module": "@jupyter-widgets/base",
            "_view_module_version": "1.2.0",
            "_view_name": "LayoutView",
            "align_content": null,
            "align_items": null,
            "align_self": null,
            "border": null,
            "bottom": null,
            "display": null,
            "flex": null,
            "flex_flow": null,
            "grid_area": null,
            "grid_auto_columns": null,
            "grid_auto_flow": null,
            "grid_auto_rows": null,
            "grid_column": null,
            "grid_gap": null,
            "grid_row": null,
            "grid_template_areas": null,
            "grid_template_columns": null,
            "grid_template_rows": null,
            "height": null,
            "justify_content": null,
            "justify_items": null,
            "left": null,
            "margin": null,
            "max_height": null,
            "max_width": null,
            "min_height": null,
            "min_width": null,
            "object_fit": null,
            "object_position": null,
            "order": null,
            "overflow": null,
            "overflow_x": null,
            "overflow_y": null,
            "padding": null,
            "right": null,
            "top": null,
            "visibility": null,
            "width": null
          }
        },
        "d50e8c7d97334ae9b5e43e630282e8d5": {
          "model_module": "@jupyter-widgets/base",
          "model_name": "LayoutModel",
          "model_module_version": "1.2.0",
          "state": {
            "_model_module": "@jupyter-widgets/base",
            "_model_module_version": "1.2.0",
            "_model_name": "LayoutModel",
            "_view_count": null,
            "_view_module": "@jupyter-widgets/base",
            "_view_module_version": "1.2.0",
            "_view_name": "LayoutView",
            "align_content": null,
            "align_items": null,
            "align_self": null,
            "border": null,
            "bottom": null,
            "display": null,
            "flex": null,
            "flex_flow": null,
            "grid_area": null,
            "grid_auto_columns": null,
            "grid_auto_flow": null,
            "grid_auto_rows": null,
            "grid_column": null,
            "grid_gap": null,
            "grid_row": null,
            "grid_template_areas": null,
            "grid_template_columns": null,
            "grid_template_rows": null,
            "height": null,
            "justify_content": null,
            "justify_items": null,
            "left": null,
            "margin": null,
            "max_height": null,
            "max_width": null,
            "min_height": null,
            "min_width": null,
            "object_fit": null,
            "object_position": null,
            "order": null,
            "overflow": null,
            "overflow_x": null,
            "overflow_y": null,
            "padding": null,
            "right": null,
            "top": null,
            "visibility": null,
            "width": null
          }
        },
        "44195782874949389d4f61b71efb9f35": {
          "model_module": "@jupyter-widgets/controls",
          "model_name": "DescriptionStyleModel",
          "model_module_version": "1.5.0",
          "state": {
            "_model_module": "@jupyter-widgets/controls",
            "_model_module_version": "1.5.0",
            "_model_name": "DescriptionStyleModel",
            "_view_count": null,
            "_view_module": "@jupyter-widgets/base",
            "_view_module_version": "1.2.0",
            "_view_name": "StyleView",
            "description_width": ""
          }
        },
        "3586af425e07478bb2c050b94ff6bba9": {
          "model_module": "@jupyter-widgets/base",
          "model_name": "LayoutModel",
          "model_module_version": "1.2.0",
          "state": {
            "_model_module": "@jupyter-widgets/base",
            "_model_module_version": "1.2.0",
            "_model_name": "LayoutModel",
            "_view_count": null,
            "_view_module": "@jupyter-widgets/base",
            "_view_module_version": "1.2.0",
            "_view_name": "LayoutView",
            "align_content": null,
            "align_items": null,
            "align_self": null,
            "border": null,
            "bottom": null,
            "display": null,
            "flex": null,
            "flex_flow": null,
            "grid_area": null,
            "grid_auto_columns": null,
            "grid_auto_flow": null,
            "grid_auto_rows": null,
            "grid_column": null,
            "grid_gap": null,
            "grid_row": null,
            "grid_template_areas": null,
            "grid_template_columns": null,
            "grid_template_rows": null,
            "height": null,
            "justify_content": null,
            "justify_items": null,
            "left": null,
            "margin": null,
            "max_height": null,
            "max_width": null,
            "min_height": null,
            "min_width": null,
            "object_fit": null,
            "object_position": null,
            "order": null,
            "overflow": null,
            "overflow_x": null,
            "overflow_y": null,
            "padding": null,
            "right": null,
            "top": null,
            "visibility": null,
            "width": null
          }
        },
        "c4aa0f81647f4b7e8ceeab2a43c29df4": {
          "model_module": "@jupyter-widgets/controls",
          "model_name": "ProgressStyleModel",
          "model_module_version": "1.5.0",
          "state": {
            "_model_module": "@jupyter-widgets/controls",
            "_model_module_version": "1.5.0",
            "_model_name": "ProgressStyleModel",
            "_view_count": null,
            "_view_module": "@jupyter-widgets/base",
            "_view_module_version": "1.2.0",
            "_view_name": "StyleView",
            "bar_color": null,
            "description_width": ""
          }
        },
        "cd4b773b0fc645988d035a09be498446": {
          "model_module": "@jupyter-widgets/base",
          "model_name": "LayoutModel",
          "model_module_version": "1.2.0",
          "state": {
            "_model_module": "@jupyter-widgets/base",
            "_model_module_version": "1.2.0",
            "_model_name": "LayoutModel",
            "_view_count": null,
            "_view_module": "@jupyter-widgets/base",
            "_view_module_version": "1.2.0",
            "_view_name": "LayoutView",
            "align_content": null,
            "align_items": null,
            "align_self": null,
            "border": null,
            "bottom": null,
            "display": null,
            "flex": null,
            "flex_flow": null,
            "grid_area": null,
            "grid_auto_columns": null,
            "grid_auto_flow": null,
            "grid_auto_rows": null,
            "grid_column": null,
            "grid_gap": null,
            "grid_row": null,
            "grid_template_areas": null,
            "grid_template_columns": null,
            "grid_template_rows": null,
            "height": null,
            "justify_content": null,
            "justify_items": null,
            "left": null,
            "margin": null,
            "max_height": null,
            "max_width": null,
            "min_height": null,
            "min_width": null,
            "object_fit": null,
            "object_position": null,
            "order": null,
            "overflow": null,
            "overflow_x": null,
            "overflow_y": null,
            "padding": null,
            "right": null,
            "top": null,
            "visibility": null,
            "width": null
          }
        },
        "13750ac60b074874bdc9951a5282438c": {
          "model_module": "@jupyter-widgets/controls",
          "model_name": "DescriptionStyleModel",
          "model_module_version": "1.5.0",
          "state": {
            "_model_module": "@jupyter-widgets/controls",
            "_model_module_version": "1.5.0",
            "_model_name": "DescriptionStyleModel",
            "_view_count": null,
            "_view_module": "@jupyter-widgets/base",
            "_view_module_version": "1.2.0",
            "_view_name": "StyleView",
            "description_width": ""
          }
        },
        "381394f4373847b2a2f7368ec21747d5": {
          "model_module": "@jupyter-widgets/controls",
          "model_name": "HBoxModel",
          "model_module_version": "1.5.0",
          "state": {
            "_dom_classes": [],
            "_model_module": "@jupyter-widgets/controls",
            "_model_module_version": "1.5.0",
            "_model_name": "HBoxModel",
            "_view_count": null,
            "_view_module": "@jupyter-widgets/controls",
            "_view_module_version": "1.5.0",
            "_view_name": "HBoxView",
            "box_style": "",
            "children": [
              "IPY_MODEL_a7d4e2709c974991818be8546ff90ae6",
              "IPY_MODEL_bc47736b61964d0cbae9b361d55df471",
              "IPY_MODEL_e310d5f028bc4528bed3632a9b9e08ce"
            ],
            "layout": "IPY_MODEL_1355850f5e674713ab56455fd3259f38"
          }
        },
        "a7d4e2709c974991818be8546ff90ae6": {
          "model_module": "@jupyter-widgets/controls",
          "model_name": "HTMLModel",
          "model_module_version": "1.5.0",
          "state": {
            "_dom_classes": [],
            "_model_module": "@jupyter-widgets/controls",
            "_model_module_version": "1.5.0",
            "_model_name": "HTMLModel",
            "_view_count": null,
            "_view_module": "@jupyter-widgets/controls",
            "_view_module_version": "1.5.0",
            "_view_name": "HTMLView",
            "description": "",
            "description_tooltip": null,
            "layout": "IPY_MODEL_59890792a39748a99018fa32f3da5917",
            "placeholder": "​",
            "style": "IPY_MODEL_8167dece2f8946caaefa486ef67eaff6",
            "value": "Downloading: 100%"
          }
        },
        "bc47736b61964d0cbae9b361d55df471": {
          "model_module": "@jupyter-widgets/controls",
          "model_name": "FloatProgressModel",
          "model_module_version": "1.5.0",
          "state": {
            "_dom_classes": [],
            "_model_module": "@jupyter-widgets/controls",
            "_model_module_version": "1.5.0",
            "_model_name": "FloatProgressModel",
            "_view_count": null,
            "_view_module": "@jupyter-widgets/controls",
            "_view_module_version": "1.5.0",
            "_view_name": "ProgressView",
            "bar_style": "success",
            "description": "",
            "description_tooltip": null,
            "layout": "IPY_MODEL_34fb73b24895443da03ec9888b0da7fd",
            "max": 43,
            "min": 0,
            "orientation": "horizontal",
            "style": "IPY_MODEL_b1dff630cf1b47878b6aac41a3048c8f",
            "value": 43
          }
        },
        "e310d5f028bc4528bed3632a9b9e08ce": {
          "model_module": "@jupyter-widgets/controls",
          "model_name": "HTMLModel",
          "model_module_version": "1.5.0",
          "state": {
            "_dom_classes": [],
            "_model_module": "@jupyter-widgets/controls",
            "_model_module_version": "1.5.0",
            "_model_name": "HTMLModel",
            "_view_count": null,
            "_view_module": "@jupyter-widgets/controls",
            "_view_module_version": "1.5.0",
            "_view_name": "HTMLView",
            "description": "",
            "description_tooltip": null,
            "layout": "IPY_MODEL_09e5263b946347c2aa15874fa59a4f17",
            "placeholder": "​",
            "style": "IPY_MODEL_5efaa0b89b844c4ea93eb32702cf3563",
            "value": " 43.0/43.0 [00:00&lt;00:00, 1.06kB/s]"
          }
        },
        "1355850f5e674713ab56455fd3259f38": {
          "model_module": "@jupyter-widgets/base",
          "model_name": "LayoutModel",
          "model_module_version": "1.2.0",
          "state": {
            "_model_module": "@jupyter-widgets/base",
            "_model_module_version": "1.2.0",
            "_model_name": "LayoutModel",
            "_view_count": null,
            "_view_module": "@jupyter-widgets/base",
            "_view_module_version": "1.2.0",
            "_view_name": "LayoutView",
            "align_content": null,
            "align_items": null,
            "align_self": null,
            "border": null,
            "bottom": null,
            "display": null,
            "flex": null,
            "flex_flow": null,
            "grid_area": null,
            "grid_auto_columns": null,
            "grid_auto_flow": null,
            "grid_auto_rows": null,
            "grid_column": null,
            "grid_gap": null,
            "grid_row": null,
            "grid_template_areas": null,
            "grid_template_columns": null,
            "grid_template_rows": null,
            "height": null,
            "justify_content": null,
            "justify_items": null,
            "left": null,
            "margin": null,
            "max_height": null,
            "max_width": null,
            "min_height": null,
            "min_width": null,
            "object_fit": null,
            "object_position": null,
            "order": null,
            "overflow": null,
            "overflow_x": null,
            "overflow_y": null,
            "padding": null,
            "right": null,
            "top": null,
            "visibility": null,
            "width": null
          }
        },
        "59890792a39748a99018fa32f3da5917": {
          "model_module": "@jupyter-widgets/base",
          "model_name": "LayoutModel",
          "model_module_version": "1.2.0",
          "state": {
            "_model_module": "@jupyter-widgets/base",
            "_model_module_version": "1.2.0",
            "_model_name": "LayoutModel",
            "_view_count": null,
            "_view_module": "@jupyter-widgets/base",
            "_view_module_version": "1.2.0",
            "_view_name": "LayoutView",
            "align_content": null,
            "align_items": null,
            "align_self": null,
            "border": null,
            "bottom": null,
            "display": null,
            "flex": null,
            "flex_flow": null,
            "grid_area": null,
            "grid_auto_columns": null,
            "grid_auto_flow": null,
            "grid_auto_rows": null,
            "grid_column": null,
            "grid_gap": null,
            "grid_row": null,
            "grid_template_areas": null,
            "grid_template_columns": null,
            "grid_template_rows": null,
            "height": null,
            "justify_content": null,
            "justify_items": null,
            "left": null,
            "margin": null,
            "max_height": null,
            "max_width": null,
            "min_height": null,
            "min_width": null,
            "object_fit": null,
            "object_position": null,
            "order": null,
            "overflow": null,
            "overflow_x": null,
            "overflow_y": null,
            "padding": null,
            "right": null,
            "top": null,
            "visibility": null,
            "width": null
          }
        },
        "8167dece2f8946caaefa486ef67eaff6": {
          "model_module": "@jupyter-widgets/controls",
          "model_name": "DescriptionStyleModel",
          "model_module_version": "1.5.0",
          "state": {
            "_model_module": "@jupyter-widgets/controls",
            "_model_module_version": "1.5.0",
            "_model_name": "DescriptionStyleModel",
            "_view_count": null,
            "_view_module": "@jupyter-widgets/base",
            "_view_module_version": "1.2.0",
            "_view_name": "StyleView",
            "description_width": ""
          }
        },
        "34fb73b24895443da03ec9888b0da7fd": {
          "model_module": "@jupyter-widgets/base",
          "model_name": "LayoutModel",
          "model_module_version": "1.2.0",
          "state": {
            "_model_module": "@jupyter-widgets/base",
            "_model_module_version": "1.2.0",
            "_model_name": "LayoutModel",
            "_view_count": null,
            "_view_module": "@jupyter-widgets/base",
            "_view_module_version": "1.2.0",
            "_view_name": "LayoutView",
            "align_content": null,
            "align_items": null,
            "align_self": null,
            "border": null,
            "bottom": null,
            "display": null,
            "flex": null,
            "flex_flow": null,
            "grid_area": null,
            "grid_auto_columns": null,
            "grid_auto_flow": null,
            "grid_auto_rows": null,
            "grid_column": null,
            "grid_gap": null,
            "grid_row": null,
            "grid_template_areas": null,
            "grid_template_columns": null,
            "grid_template_rows": null,
            "height": null,
            "justify_content": null,
            "justify_items": null,
            "left": null,
            "margin": null,
            "max_height": null,
            "max_width": null,
            "min_height": null,
            "min_width": null,
            "object_fit": null,
            "object_position": null,
            "order": null,
            "overflow": null,
            "overflow_x": null,
            "overflow_y": null,
            "padding": null,
            "right": null,
            "top": null,
            "visibility": null,
            "width": null
          }
        },
        "b1dff630cf1b47878b6aac41a3048c8f": {
          "model_module": "@jupyter-widgets/controls",
          "model_name": "ProgressStyleModel",
          "model_module_version": "1.5.0",
          "state": {
            "_model_module": "@jupyter-widgets/controls",
            "_model_module_version": "1.5.0",
            "_model_name": "ProgressStyleModel",
            "_view_count": null,
            "_view_module": "@jupyter-widgets/base",
            "_view_module_version": "1.2.0",
            "_view_name": "StyleView",
            "bar_color": null,
            "description_width": ""
          }
        },
        "09e5263b946347c2aa15874fa59a4f17": {
          "model_module": "@jupyter-widgets/base",
          "model_name": "LayoutModel",
          "model_module_version": "1.2.0",
          "state": {
            "_model_module": "@jupyter-widgets/base",
            "_model_module_version": "1.2.0",
            "_model_name": "LayoutModel",
            "_view_count": null,
            "_view_module": "@jupyter-widgets/base",
            "_view_module_version": "1.2.0",
            "_view_name": "LayoutView",
            "align_content": null,
            "align_items": null,
            "align_self": null,
            "border": null,
            "bottom": null,
            "display": null,
            "flex": null,
            "flex_flow": null,
            "grid_area": null,
            "grid_auto_columns": null,
            "grid_auto_flow": null,
            "grid_auto_rows": null,
            "grid_column": null,
            "grid_gap": null,
            "grid_row": null,
            "grid_template_areas": null,
            "grid_template_columns": null,
            "grid_template_rows": null,
            "height": null,
            "justify_content": null,
            "justify_items": null,
            "left": null,
            "margin": null,
            "max_height": null,
            "max_width": null,
            "min_height": null,
            "min_width": null,
            "object_fit": null,
            "object_position": null,
            "order": null,
            "overflow": null,
            "overflow_x": null,
            "overflow_y": null,
            "padding": null,
            "right": null,
            "top": null,
            "visibility": null,
            "width": null
          }
        },
        "5efaa0b89b844c4ea93eb32702cf3563": {
          "model_module": "@jupyter-widgets/controls",
          "model_name": "DescriptionStyleModel",
          "model_module_version": "1.5.0",
          "state": {
            "_model_module": "@jupyter-widgets/controls",
            "_model_module_version": "1.5.0",
            "_model_name": "DescriptionStyleModel",
            "_view_count": null,
            "_view_module": "@jupyter-widgets/base",
            "_view_module_version": "1.2.0",
            "_view_name": "StyleView",
            "description_width": ""
          }
        },
        "c33cef68d5d444fb9052aef44fda3524": {
          "model_module": "@jupyter-widgets/controls",
          "model_name": "HBoxModel",
          "model_module_version": "1.5.0",
          "state": {
            "_dom_classes": [],
            "_model_module": "@jupyter-widgets/controls",
            "_model_module_version": "1.5.0",
            "_model_name": "HBoxModel",
            "_view_count": null,
            "_view_module": "@jupyter-widgets/controls",
            "_view_module_version": "1.5.0",
            "_view_name": "HBoxView",
            "box_style": "",
            "children": [
              "IPY_MODEL_b49395fc38ce4d2fac5ca410a6c22a29",
              "IPY_MODEL_899fbdab6aed4d2a84ebbfbe61c98dec",
              "IPY_MODEL_c09912316dc34b8dab43a780e64b653d"
            ],
            "layout": "IPY_MODEL_7120b6be0a164af4bfd2a5a076c7d848"
          }
        },
        "b49395fc38ce4d2fac5ca410a6c22a29": {
          "model_module": "@jupyter-widgets/controls",
          "model_name": "HTMLModel",
          "model_module_version": "1.5.0",
          "state": {
            "_dom_classes": [],
            "_model_module": "@jupyter-widgets/controls",
            "_model_module_version": "1.5.0",
            "_model_name": "HTMLModel",
            "_view_count": null,
            "_view_module": "@jupyter-widgets/controls",
            "_view_module_version": "1.5.0",
            "_view_name": "HTMLView",
            "description": "",
            "description_tooltip": null,
            "layout": "IPY_MODEL_4a3bd6a3b4514744827a81517937d6f3",
            "placeholder": "​",
            "style": "IPY_MODEL_a2072bdbffe6498db73920828c3b17ac",
            "value": "Downloading: 100%"
          }
        },
        "899fbdab6aed4d2a84ebbfbe61c98dec": {
          "model_module": "@jupyter-widgets/controls",
          "model_name": "FloatProgressModel",
          "model_module_version": "1.5.0",
          "state": {
            "_dom_classes": [],
            "_model_module": "@jupyter-widgets/controls",
            "_model_module_version": "1.5.0",
            "_model_name": "FloatProgressModel",
            "_view_count": null,
            "_view_module": "@jupyter-widgets/controls",
            "_view_module_version": "1.5.0",
            "_view_name": "ProgressView",
            "bar_style": "success",
            "description": "",
            "description_tooltip": null,
            "layout": "IPY_MODEL_453bd8c1edb84e5fae37957210199fb3",
            "max": 791656,
            "min": 0,
            "orientation": "horizontal",
            "style": "IPY_MODEL_1fc6ca94ba7944b4b687c583c790a4f6",
            "value": 791656
          }
        },
        "c09912316dc34b8dab43a780e64b653d": {
          "model_module": "@jupyter-widgets/controls",
          "model_name": "HTMLModel",
          "model_module_version": "1.5.0",
          "state": {
            "_dom_classes": [],
            "_model_module": "@jupyter-widgets/controls",
            "_model_module_version": "1.5.0",
            "_model_name": "HTMLModel",
            "_view_count": null,
            "_view_module": "@jupyter-widgets/controls",
            "_view_module_version": "1.5.0",
            "_view_name": "HTMLView",
            "description": "",
            "description_tooltip": null,
            "layout": "IPY_MODEL_240edb9cf80d4b96a22a7d0b2dd72840",
            "placeholder": "​",
            "style": "IPY_MODEL_5a7be60533f44894b867c3b35ebb6d70",
            "value": " 773k/773k [00:00&lt;00:00, 1.18MB/s]"
          }
        },
        "7120b6be0a164af4bfd2a5a076c7d848": {
          "model_module": "@jupyter-widgets/base",
          "model_name": "LayoutModel",
          "model_module_version": "1.2.0",
          "state": {
            "_model_module": "@jupyter-widgets/base",
            "_model_module_version": "1.2.0",
            "_model_name": "LayoutModel",
            "_view_count": null,
            "_view_module": "@jupyter-widgets/base",
            "_view_module_version": "1.2.0",
            "_view_name": "LayoutView",
            "align_content": null,
            "align_items": null,
            "align_self": null,
            "border": null,
            "bottom": null,
            "display": null,
            "flex": null,
            "flex_flow": null,
            "grid_area": null,
            "grid_auto_columns": null,
            "grid_auto_flow": null,
            "grid_auto_rows": null,
            "grid_column": null,
            "grid_gap": null,
            "grid_row": null,
            "grid_template_areas": null,
            "grid_template_columns": null,
            "grid_template_rows": null,
            "height": null,
            "justify_content": null,
            "justify_items": null,
            "left": null,
            "margin": null,
            "max_height": null,
            "max_width": null,
            "min_height": null,
            "min_width": null,
            "object_fit": null,
            "object_position": null,
            "order": null,
            "overflow": null,
            "overflow_x": null,
            "overflow_y": null,
            "padding": null,
            "right": null,
            "top": null,
            "visibility": null,
            "width": null
          }
        },
        "4a3bd6a3b4514744827a81517937d6f3": {
          "model_module": "@jupyter-widgets/base",
          "model_name": "LayoutModel",
          "model_module_version": "1.2.0",
          "state": {
            "_model_module": "@jupyter-widgets/base",
            "_model_module_version": "1.2.0",
            "_model_name": "LayoutModel",
            "_view_count": null,
            "_view_module": "@jupyter-widgets/base",
            "_view_module_version": "1.2.0",
            "_view_name": "LayoutView",
            "align_content": null,
            "align_items": null,
            "align_self": null,
            "border": null,
            "bottom": null,
            "display": null,
            "flex": null,
            "flex_flow": null,
            "grid_area": null,
            "grid_auto_columns": null,
            "grid_auto_flow": null,
            "grid_auto_rows": null,
            "grid_column": null,
            "grid_gap": null,
            "grid_row": null,
            "grid_template_areas": null,
            "grid_template_columns": null,
            "grid_template_rows": null,
            "height": null,
            "justify_content": null,
            "justify_items": null,
            "left": null,
            "margin": null,
            "max_height": null,
            "max_width": null,
            "min_height": null,
            "min_width": null,
            "object_fit": null,
            "object_position": null,
            "order": null,
            "overflow": null,
            "overflow_x": null,
            "overflow_y": null,
            "padding": null,
            "right": null,
            "top": null,
            "visibility": null,
            "width": null
          }
        },
        "a2072bdbffe6498db73920828c3b17ac": {
          "model_module": "@jupyter-widgets/controls",
          "model_name": "DescriptionStyleModel",
          "model_module_version": "1.5.0",
          "state": {
            "_model_module": "@jupyter-widgets/controls",
            "_model_module_version": "1.5.0",
            "_model_name": "DescriptionStyleModel",
            "_view_count": null,
            "_view_module": "@jupyter-widgets/base",
            "_view_module_version": "1.2.0",
            "_view_name": "StyleView",
            "description_width": ""
          }
        },
        "453bd8c1edb84e5fae37957210199fb3": {
          "model_module": "@jupyter-widgets/base",
          "model_name": "LayoutModel",
          "model_module_version": "1.2.0",
          "state": {
            "_model_module": "@jupyter-widgets/base",
            "_model_module_version": "1.2.0",
            "_model_name": "LayoutModel",
            "_view_count": null,
            "_view_module": "@jupyter-widgets/base",
            "_view_module_version": "1.2.0",
            "_view_name": "LayoutView",
            "align_content": null,
            "align_items": null,
            "align_self": null,
            "border": null,
            "bottom": null,
            "display": null,
            "flex": null,
            "flex_flow": null,
            "grid_area": null,
            "grid_auto_columns": null,
            "grid_auto_flow": null,
            "grid_auto_rows": null,
            "grid_column": null,
            "grid_gap": null,
            "grid_row": null,
            "grid_template_areas": null,
            "grid_template_columns": null,
            "grid_template_rows": null,
            "height": null,
            "justify_content": null,
            "justify_items": null,
            "left": null,
            "margin": null,
            "max_height": null,
            "max_width": null,
            "min_height": null,
            "min_width": null,
            "object_fit": null,
            "object_position": null,
            "order": null,
            "overflow": null,
            "overflow_x": null,
            "overflow_y": null,
            "padding": null,
            "right": null,
            "top": null,
            "visibility": null,
            "width": null
          }
        },
        "1fc6ca94ba7944b4b687c583c790a4f6": {
          "model_module": "@jupyter-widgets/controls",
          "model_name": "ProgressStyleModel",
          "model_module_version": "1.5.0",
          "state": {
            "_model_module": "@jupyter-widgets/controls",
            "_model_module_version": "1.5.0",
            "_model_name": "ProgressStyleModel",
            "_view_count": null,
            "_view_module": "@jupyter-widgets/base",
            "_view_module_version": "1.2.0",
            "_view_name": "StyleView",
            "bar_color": null,
            "description_width": ""
          }
        },
        "240edb9cf80d4b96a22a7d0b2dd72840": {
          "model_module": "@jupyter-widgets/base",
          "model_name": "LayoutModel",
          "model_module_version": "1.2.0",
          "state": {
            "_model_module": "@jupyter-widgets/base",
            "_model_module_version": "1.2.0",
            "_model_name": "LayoutModel",
            "_view_count": null,
            "_view_module": "@jupyter-widgets/base",
            "_view_module_version": "1.2.0",
            "_view_name": "LayoutView",
            "align_content": null,
            "align_items": null,
            "align_self": null,
            "border": null,
            "bottom": null,
            "display": null,
            "flex": null,
            "flex_flow": null,
            "grid_area": null,
            "grid_auto_columns": null,
            "grid_auto_flow": null,
            "grid_auto_rows": null,
            "grid_column": null,
            "grid_gap": null,
            "grid_row": null,
            "grid_template_areas": null,
            "grid_template_columns": null,
            "grid_template_rows": null,
            "height": null,
            "justify_content": null,
            "justify_items": null,
            "left": null,
            "margin": null,
            "max_height": null,
            "max_width": null,
            "min_height": null,
            "min_width": null,
            "object_fit": null,
            "object_position": null,
            "order": null,
            "overflow": null,
            "overflow_x": null,
            "overflow_y": null,
            "padding": null,
            "right": null,
            "top": null,
            "visibility": null,
            "width": null
          }
        },
        "5a7be60533f44894b867c3b35ebb6d70": {
          "model_module": "@jupyter-widgets/controls",
          "model_name": "DescriptionStyleModel",
          "model_module_version": "1.5.0",
          "state": {
            "_model_module": "@jupyter-widgets/controls",
            "_model_module_version": "1.5.0",
            "_model_name": "DescriptionStyleModel",
            "_view_count": null,
            "_view_module": "@jupyter-widgets/base",
            "_view_module_version": "1.2.0",
            "_view_name": "StyleView",
            "description_width": ""
          }
        },
        "5533d99010ff4b768fc6b57dcee4a733": {
          "model_module": "@jupyter-widgets/controls",
          "model_name": "HBoxModel",
          "model_module_version": "1.5.0",
          "state": {
            "_dom_classes": [],
            "_model_module": "@jupyter-widgets/controls",
            "_model_module_version": "1.5.0",
            "_model_name": "HBoxModel",
            "_view_count": null,
            "_view_module": "@jupyter-widgets/controls",
            "_view_module_version": "1.5.0",
            "_view_name": "HBoxView",
            "box_style": "",
            "children": [
              "IPY_MODEL_709a0fd6a27f4a329f0e69f1ac2fd022",
              "IPY_MODEL_822382bdb1014e5bbd75ed6633bff48a",
              "IPY_MODEL_23b9b34782004c7e8e2a900492d424e6"
            ],
            "layout": "IPY_MODEL_318a38762f7f4ccd8b301790a3301b41"
          }
        },
        "709a0fd6a27f4a329f0e69f1ac2fd022": {
          "model_module": "@jupyter-widgets/controls",
          "model_name": "HTMLModel",
          "model_module_version": "1.5.0",
          "state": {
            "_dom_classes": [],
            "_model_module": "@jupyter-widgets/controls",
            "_model_module_version": "1.5.0",
            "_model_name": "HTMLModel",
            "_view_count": null,
            "_view_module": "@jupyter-widgets/controls",
            "_view_module_version": "1.5.0",
            "_view_name": "HTMLView",
            "description": "",
            "description_tooltip": null,
            "layout": "IPY_MODEL_11d1761814f64a42948cd1cdbb64b39b",
            "placeholder": "​",
            "style": "IPY_MODEL_4cc5c05c51444f8ea5669d8997c92af4",
            "value": "Downloading: 100%"
          }
        },
        "822382bdb1014e5bbd75ed6633bff48a": {
          "model_module": "@jupyter-widgets/controls",
          "model_name": "FloatProgressModel",
          "model_module_version": "1.5.0",
          "state": {
            "_dom_classes": [],
            "_model_module": "@jupyter-widgets/controls",
            "_model_module_version": "1.5.0",
            "_model_name": "FloatProgressModel",
            "_view_count": null,
            "_view_module": "@jupyter-widgets/controls",
            "_view_module_version": "1.5.0",
            "_view_name": "ProgressView",
            "bar_style": "success",
            "description": "",
            "description_tooltip": null,
            "layout": "IPY_MODEL_373ba3a0e26e4cbdaedf420bde646b4a",
            "max": 1786,
            "min": 0,
            "orientation": "horizontal",
            "style": "IPY_MODEL_2bb8facb07e44a6d89a189dbaa874cd7",
            "value": 1786
          }
        },
        "23b9b34782004c7e8e2a900492d424e6": {
          "model_module": "@jupyter-widgets/controls",
          "model_name": "HTMLModel",
          "model_module_version": "1.5.0",
          "state": {
            "_dom_classes": [],
            "_model_module": "@jupyter-widgets/controls",
            "_model_module_version": "1.5.0",
            "_model_name": "HTMLModel",
            "_view_count": null,
            "_view_module": "@jupyter-widgets/controls",
            "_view_module_version": "1.5.0",
            "_view_name": "HTMLView",
            "description": "",
            "description_tooltip": null,
            "layout": "IPY_MODEL_65e3b8ca88f24a2e9c3c048090323269",
            "placeholder": "​",
            "style": "IPY_MODEL_484e7d8ef4a74c6d83ac5c841c0ca555",
            "value": " 1.74k/1.74k [00:00&lt;00:00, 41.8kB/s]"
          }
        },
        "318a38762f7f4ccd8b301790a3301b41": {
          "model_module": "@jupyter-widgets/base",
          "model_name": "LayoutModel",
          "model_module_version": "1.2.0",
          "state": {
            "_model_module": "@jupyter-widgets/base",
            "_model_module_version": "1.2.0",
            "_model_name": "LayoutModel",
            "_view_count": null,
            "_view_module": "@jupyter-widgets/base",
            "_view_module_version": "1.2.0",
            "_view_name": "LayoutView",
            "align_content": null,
            "align_items": null,
            "align_self": null,
            "border": null,
            "bottom": null,
            "display": null,
            "flex": null,
            "flex_flow": null,
            "grid_area": null,
            "grid_auto_columns": null,
            "grid_auto_flow": null,
            "grid_auto_rows": null,
            "grid_column": null,
            "grid_gap": null,
            "grid_row": null,
            "grid_template_areas": null,
            "grid_template_columns": null,
            "grid_template_rows": null,
            "height": null,
            "justify_content": null,
            "justify_items": null,
            "left": null,
            "margin": null,
            "max_height": null,
            "max_width": null,
            "min_height": null,
            "min_width": null,
            "object_fit": null,
            "object_position": null,
            "order": null,
            "overflow": null,
            "overflow_x": null,
            "overflow_y": null,
            "padding": null,
            "right": null,
            "top": null,
            "visibility": null,
            "width": null
          }
        },
        "11d1761814f64a42948cd1cdbb64b39b": {
          "model_module": "@jupyter-widgets/base",
          "model_name": "LayoutModel",
          "model_module_version": "1.2.0",
          "state": {
            "_model_module": "@jupyter-widgets/base",
            "_model_module_version": "1.2.0",
            "_model_name": "LayoutModel",
            "_view_count": null,
            "_view_module": "@jupyter-widgets/base",
            "_view_module_version": "1.2.0",
            "_view_name": "LayoutView",
            "align_content": null,
            "align_items": null,
            "align_self": null,
            "border": null,
            "bottom": null,
            "display": null,
            "flex": null,
            "flex_flow": null,
            "grid_area": null,
            "grid_auto_columns": null,
            "grid_auto_flow": null,
            "grid_auto_rows": null,
            "grid_column": null,
            "grid_gap": null,
            "grid_row": null,
            "grid_template_areas": null,
            "grid_template_columns": null,
            "grid_template_rows": null,
            "height": null,
            "justify_content": null,
            "justify_items": null,
            "left": null,
            "margin": null,
            "max_height": null,
            "max_width": null,
            "min_height": null,
            "min_width": null,
            "object_fit": null,
            "object_position": null,
            "order": null,
            "overflow": null,
            "overflow_x": null,
            "overflow_y": null,
            "padding": null,
            "right": null,
            "top": null,
            "visibility": null,
            "width": null
          }
        },
        "4cc5c05c51444f8ea5669d8997c92af4": {
          "model_module": "@jupyter-widgets/controls",
          "model_name": "DescriptionStyleModel",
          "model_module_version": "1.5.0",
          "state": {
            "_model_module": "@jupyter-widgets/controls",
            "_model_module_version": "1.5.0",
            "_model_name": "DescriptionStyleModel",
            "_view_count": null,
            "_view_module": "@jupyter-widgets/base",
            "_view_module_version": "1.2.0",
            "_view_name": "StyleView",
            "description_width": ""
          }
        },
        "373ba3a0e26e4cbdaedf420bde646b4a": {
          "model_module": "@jupyter-widgets/base",
          "model_name": "LayoutModel",
          "model_module_version": "1.2.0",
          "state": {
            "_model_module": "@jupyter-widgets/base",
            "_model_module_version": "1.2.0",
            "_model_name": "LayoutModel",
            "_view_count": null,
            "_view_module": "@jupyter-widgets/base",
            "_view_module_version": "1.2.0",
            "_view_name": "LayoutView",
            "align_content": null,
            "align_items": null,
            "align_self": null,
            "border": null,
            "bottom": null,
            "display": null,
            "flex": null,
            "flex_flow": null,
            "grid_area": null,
            "grid_auto_columns": null,
            "grid_auto_flow": null,
            "grid_auto_rows": null,
            "grid_column": null,
            "grid_gap": null,
            "grid_row": null,
            "grid_template_areas": null,
            "grid_template_columns": null,
            "grid_template_rows": null,
            "height": null,
            "justify_content": null,
            "justify_items": null,
            "left": null,
            "margin": null,
            "max_height": null,
            "max_width": null,
            "min_height": null,
            "min_width": null,
            "object_fit": null,
            "object_position": null,
            "order": null,
            "overflow": null,
            "overflow_x": null,
            "overflow_y": null,
            "padding": null,
            "right": null,
            "top": null,
            "visibility": null,
            "width": null
          }
        },
        "2bb8facb07e44a6d89a189dbaa874cd7": {
          "model_module": "@jupyter-widgets/controls",
          "model_name": "ProgressStyleModel",
          "model_module_version": "1.5.0",
          "state": {
            "_model_module": "@jupyter-widgets/controls",
            "_model_module_version": "1.5.0",
            "_model_name": "ProgressStyleModel",
            "_view_count": null,
            "_view_module": "@jupyter-widgets/base",
            "_view_module_version": "1.2.0",
            "_view_name": "StyleView",
            "bar_color": null,
            "description_width": ""
          }
        },
        "65e3b8ca88f24a2e9c3c048090323269": {
          "model_module": "@jupyter-widgets/base",
          "model_name": "LayoutModel",
          "model_module_version": "1.2.0",
          "state": {
            "_model_module": "@jupyter-widgets/base",
            "_model_module_version": "1.2.0",
            "_model_name": "LayoutModel",
            "_view_count": null,
            "_view_module": "@jupyter-widgets/base",
            "_view_module_version": "1.2.0",
            "_view_name": "LayoutView",
            "align_content": null,
            "align_items": null,
            "align_self": null,
            "border": null,
            "bottom": null,
            "display": null,
            "flex": null,
            "flex_flow": null,
            "grid_area": null,
            "grid_auto_columns": null,
            "grid_auto_flow": null,
            "grid_auto_rows": null,
            "grid_column": null,
            "grid_gap": null,
            "grid_row": null,
            "grid_template_areas": null,
            "grid_template_columns": null,
            "grid_template_rows": null,
            "height": null,
            "justify_content": null,
            "justify_items": null,
            "left": null,
            "margin": null,
            "max_height": null,
            "max_width": null,
            "min_height": null,
            "min_width": null,
            "object_fit": null,
            "object_position": null,
            "order": null,
            "overflow": null,
            "overflow_x": null,
            "overflow_y": null,
            "padding": null,
            "right": null,
            "top": null,
            "visibility": null,
            "width": null
          }
        },
        "484e7d8ef4a74c6d83ac5c841c0ca555": {
          "model_module": "@jupyter-widgets/controls",
          "model_name": "DescriptionStyleModel",
          "model_module_version": "1.5.0",
          "state": {
            "_model_module": "@jupyter-widgets/controls",
            "_model_module_version": "1.5.0",
            "_model_name": "DescriptionStyleModel",
            "_view_count": null,
            "_view_module": "@jupyter-widgets/base",
            "_view_module_version": "1.2.0",
            "_view_name": "StyleView",
            "description_width": ""
          }
        }
      }
    }
  },
  "cells": [
    {
      "cell_type": "markdown",
      "metadata": {
        "id": "view-in-github",
        "colab_type": "text"
      },
      "source": [
        "<a href=\"https://colab.research.google.com/github/flora0110/podcast_segment_headine/blob/main/podcast_to_headline_5waysPodcast.ipynb\" target=\"_parent\"><img src=\"https://colab.research.google.com/assets/colab-badge.svg\" alt=\"Open In Colab\"/></a>"
      ]
    },
    {
      "cell_type": "markdown",
      "source": [
        "# Textsplit"
      ],
      "metadata": {
        "id": "gKH2OWuXr3Oc"
      }
    },
    {
      "cell_type": "code",
      "execution_count": null,
      "metadata": {
        "colab": {
          "base_uri": "https://localhost:8080/"
        },
        "id": "ZtpEpr1erfko",
        "outputId": "dd0a258f-7103-4aae-9ced-00cfd9fa19c0"
      },
      "outputs": [
        {
          "output_type": "stream",
          "name": "stdout",
          "text": [
            "Collecting word2vec\n",
            "  Downloading word2vec-0.11.1.tar.gz (42 kB)\n",
            "\u001b[?25l\r\u001b[K     |███████▊                        | 10 kB 22.8 MB/s eta 0:00:01\r\u001b[K     |███████████████▌                | 20 kB 21.8 MB/s eta 0:00:01\r\u001b[K     |███████████████████████▎        | 30 kB 11.9 MB/s eta 0:00:01\r\u001b[K     |███████████████████████████████ | 40 kB 4.9 MB/s eta 0:00:01\r\u001b[K     |████████████████████████████████| 42 kB 864 kB/s \n",
            "\u001b[?25h  Installing build dependencies ... \u001b[?25l\u001b[?25hdone\n",
            "  Getting requirements to build wheel ... \u001b[?25l\u001b[?25hdone\n",
            "    Preparing wheel metadata ... \u001b[?25l\u001b[?25hdone\n",
            "Requirement already satisfied: joblib in /usr/local/lib/python3.7/dist-packages (from word2vec) (1.1.0)\n",
            "Requirement already satisfied: numpy>=1.9.2 in /usr/local/lib/python3.7/dist-packages (from word2vec) (1.21.5)\n",
            "Building wheels for collected packages: word2vec\n",
            "  Building wheel for word2vec (PEP 517) ... \u001b[?25l\u001b[?25hdone\n",
            "  Created wheel for word2vec: filename=word2vec-0.11.1-py2.py3-none-any.whl size=156420 sha256=28dcf441e435e842a0ecdc418484586a28115e1c6d5ef71f77cebf315a0c4679\n",
            "  Stored in directory: /root/.cache/pip/wheels/c9/c0/d4/29d797817e268124a32b6cf8beb8b8fe87b86f099d5a049e61\n",
            "Successfully built word2vec\n",
            "Installing collected packages: word2vec\n",
            "Successfully installed word2vec-0.11.1\n"
          ]
        }
      ],
      "source": [
        "!pip install word2vec"
      ]
    },
    {
      "cell_type": "code",
      "source": [
        "import os\n",
        "from gensim.models import word2vec\n",
        "import pandas as pd\n",
        "import numpy as np\n",
        "from sklearn.feature_extraction.text import CountVectorizer"
      ],
      "metadata": {
        "id": "IhACuETwsAZy"
      },
      "execution_count": null,
      "outputs": []
    },
    {
      "cell_type": "markdown",
      "source": [
        "## Download toy corpus for wordvector training and example text"
      ],
      "metadata": {
        "id": "-fDUTHDJsOFK"
      }
    },
    {
      "cell_type": "code",
      "source": [
        "corpus_path = './text8'  # be sure your corpus is cleaned from punctuation and lowercased\n",
        "if not os.path.exists(corpus_path):\n",
        "    !wget http://mattmahoney.net/dc/text8.zip\n",
        "    !unzip {corpus_path}"
      ],
      "metadata": {
        "id": "yW89tWVysQOZ",
        "outputId": "1826c486-a7c1-45f0-8f1a-ae43eb43049f",
        "colab": {
          "base_uri": "https://localhost:8080/"
        }
      },
      "execution_count": null,
      "outputs": [
        {
          "output_type": "stream",
          "name": "stdout",
          "text": [
            "--2022-04-06 09:02:29--  http://mattmahoney.net/dc/text8.zip\n",
            "Resolving mattmahoney.net (mattmahoney.net)... 67.195.197.24\n",
            "Connecting to mattmahoney.net (mattmahoney.net)|67.195.197.24|:80... connected.\n",
            "HTTP request sent, awaiting response... 200 OK\n",
            "Length: 31344016 (30M) [application/zip]\n",
            "Saving to: ‘text8.zip’\n",
            "\n",
            "text8.zip           100%[===================>]  29.89M  2.08MB/s    in 14s     \n",
            "\n",
            "2022-04-06 09:02:43 (2.07 MB/s) - ‘text8.zip’ saved [31344016/31344016]\n",
            "\n",
            "Archive:  ./text8.zip\n",
            "  inflating: text8                   \n"
          ]
        }
      ]
    },
    {
      "cell_type": "code",
      "source": [
        "links = {'podcast_text': 'https://raw.githubusercontent.com/grace-boop/podcast/main/5_Ways'}  # siddartha\n",
        "\n",
        "for link in links.values():\n",
        "    text_path = os.path.basename(link)\n",
        "    if not os.path.exists(text_path):\n",
        "        !wget {link}"
      ],
      "metadata": {
        "id": "ZuUN-5ITzk8F",
        "outputId": "e27f81ff-1abb-44e4-c921-834e37cf2313",
        "colab": {
          "base_uri": "https://localhost:8080/"
        }
      },
      "execution_count": null,
      "outputs": [
        {
          "output_type": "stream",
          "name": "stdout",
          "text": [
            "--2022-04-06 09:02:45--  https://raw.githubusercontent.com/grace-boop/podcast/main/5_Ways\n",
            "Resolving raw.githubusercontent.com (raw.githubusercontent.com)... 185.199.108.133, 185.199.109.133, 185.199.110.133, ...\n",
            "Connecting to raw.githubusercontent.com (raw.githubusercontent.com)|185.199.108.133|:443... connected.\n",
            "HTTP request sent, awaiting response... 200 OK\n",
            "Length: 33953 (33K) [text/plain]\n",
            "Saving to: ‘5_Ways’\n",
            "\n",
            "5_Ways              100%[===================>]  33.16K  --.-KB/s    in 0.002s  \n",
            "\n",
            "2022-04-06 09:02:45 (14.5 MB/s) - ‘5_Ways’ saved [33953/33953]\n",
            "\n"
          ]
        }
      ]
    },
    {
      "cell_type": "markdown",
      "source": [
        "## Train wordvectors"
      ],
      "metadata": {
        "id": "yeEijQ0ttOvr"
      }
    },
    {
      "cell_type": "code",
      "source": [
        "import logging\n",
        "wrdvec_path = 'wrdvecs.bin'\n",
        "if not os.path.exists(wrdvec_path):\n",
        "  sentences = word2vec.Text8Corpus('./text8')\n",
        "  model = word2vec.Word2Vec(sentences, cbow_mean=1, iter=5, hs=1, sample=0.00001, window=15, size=200)"
      ],
      "metadata": {
        "id": "W18gaxqMtRfK"
      },
      "execution_count": null,
      "outputs": []
    },
    {
      "cell_type": "code",
      "source": [
        "model.save(wrdvec_path)"
      ],
      "metadata": {
        "id": "kllPGhebtdv0"
      },
      "execution_count": null,
      "outputs": []
    },
    {
      "cell_type": "code",
      "source": [
        "model = word2vec.Word2Vec.load(wrdvec_path)\n",
        "wrdvecs = pd.DataFrame(model.wv.vectors, index=model.wv.vocab)"
      ],
      "metadata": {
        "id": "azdJN5OUtg4q"
      },
      "execution_count": null,
      "outputs": []
    },
    {
      "cell_type": "markdown",
      "source": [
        "## get sentence tokenizer"
      ],
      "metadata": {
        "id": "8MZoiGawtn5M"
      }
    },
    {
      "cell_type": "code",
      "source": [
        "!pip install textsplit"
      ],
      "metadata": {
        "colab": {
          "base_uri": "https://localhost:8080/"
        },
        "id": "1LQZtqFjtp-s",
        "outputId": "6d59f754-910d-4e0c-87ea-ffc7b9b0a176"
      },
      "execution_count": null,
      "outputs": [
        {
          "output_type": "stream",
          "name": "stdout",
          "text": [
            "Collecting textsplit\n",
            "  Downloading textsplit-0.5-py3-none-any.whl (9.6 kB)\n",
            "Collecting nose>=1.3.7\n",
            "  Downloading nose-1.3.7-py3-none-any.whl (154 kB)\n",
            "\u001b[K     |████████████████████████████████| 154 kB 5.1 MB/s \n",
            "\u001b[?25hRequirement already satisfied: numpy>=1.13.1 in /usr/local/lib/python3.7/dist-packages (from textsplit) (1.21.5)\n",
            "Installing collected packages: nose, textsplit\n",
            "Successfully installed nose-1.3.7 textsplit-0.5\n"
          ]
        }
      ]
    },
    {
      "cell_type": "code",
      "source": [
        "from textsplit.tools import SimpleSentenceTokenizer\n",
        "sentence_tokenizer = SimpleSentenceTokenizer()"
      ],
      "metadata": {
        "id": "nCqbCLb4tre6"
      },
      "execution_count": null,
      "outputs": []
    },
    {
      "cell_type": "markdown",
      "source": [
        "## run get_penalty and split_optimal"
      ],
      "metadata": {
        "id": "TwRHiwHlt7Oy"
      }
    },
    {
      "cell_type": "code",
      "source": [
        "%matplotlib inline\n",
        "from textsplit.tools import get_penalty, get_segments\n",
        "from textsplit.algorithm import split_optimal, split_greedy, get_total"
      ],
      "metadata": {
        "id": "RNI8RZOGt68T"
      },
      "execution_count": null,
      "outputs": []
    },
    {
      "cell_type": "markdown",
      "source": [
        "### podcast"
      ],
      "metadata": {
        "id": "t-EySFDdwZ3U"
      }
    },
    {
      "cell_type": "code",
      "source": [
        "#@title segment target length in sentences { display-mode: \"form\" }\n",
        "segment_len =  30#@param {type:\"integer\"}"
      ],
      "metadata": {
        "id": "paSWEfbGv0-t"
      },
      "execution_count": null,
      "outputs": []
    },
    {
      "cell_type": "code",
      "source": [
        "link = links['podcast_text']\n",
        "book_path = os.path.basename(link)\n",
        "\n",
        "with open(book_path, 'rt') as f:\n",
        "    text = f.read()  #.replace('\\n', ' ')  # punkt tokenizer handles newlines not so nice\n",
        "\n",
        "sentenced_text = sentence_tokenizer(text)\n",
        "strs = \" \"\n",
        "for i in range(len(sentenced_text)):\n",
        "  if(sentenced_text[i] != \" \"):\n",
        "    strs =sentenced_text[i]\n",
        "  if(i+1<len(sentenced_text)):\n",
        "    if(strs == sentenced_text[i+1]):\n",
        "      sentenced_text[i+1]=\" \"\n",
        "vecr = CountVectorizer(vocabulary=wrdvecs.index)\n",
        "\n",
        "sentence_vectors = vecr.transform(sentenced_text).dot(wrdvecs)\n",
        "\n",
        "penalty = get_penalty([sentence_vectors], segment_len)\n",
        "print('penalty %4.2f' % penalty)\n",
        "\n",
        "optimal_segmentation = split_optimal(sentence_vectors, penalty, seg_limit=250)\n",
        "segmented_text = get_segments(sentenced_text, optimal_segmentation)\n",
        "\n",
        "print('%d sentences, %d segments, avg %4.2f sentences per segment' % (\n",
        "    len(sentenced_text), len(segmented_text), len(sentenced_text) / len(segmented_text)))\n",
        "\n",
        "with open(book_path + '.seg', 'wt') as f:\n",
        "    for i, segment_sentences in enumerate(segmented_text):\n",
        "        segment_str = ' // '.join(segment_sentences)\n",
        "        gain = optimal_segmentation.gains[i] if i < len(segmented_text) - 1 else 0\n",
        "        segment_info = ' [%d sentences, %4.3f] ' % (len(segment_sentences), gain) \n",
        "        print(segment_str + '\\n8<' + '=' * 30 + segment_info + \"=\" * 30, file=f)\n",
        "\n",
        "greedy_segmentation = split_greedy(sentence_vectors, max_splits=len(optimal_segmentation.splits))\n",
        "greedy_segmented_text = get_segments(sentenced_text, greedy_segmentation)\n",
        "lengths_optimal = [len(segment) for segment in segmented_text for sentence in segment]\n",
        "lengths_greedy = [len(segment) for segment in greedy_segmented_text for sentence in segment]\n",
        "df = pd.DataFrame({'greedy':lengths_greedy, 'optimal': lengths_optimal})\n",
        "df.plot.line(figsize=(18, 3), title='Segment lenghts over text')\n",
        "df.plot.hist(bins=30, alpha=0.5, figsize=(10, 3), title='Histogram of segment lengths')\n",
        "\n",
        "totals = [get_total(sentence_vectors, seg.splits, penalty) \n",
        "          for seg in [optimal_segmentation, greedy_segmentation]]\n",
        "print('optimal score %4.2f, greedy score %4.2f' % tuple(totals))\n",
        "print(totals)\n",
        "print(tuple(totals))\n",
        "print('ratio of scores %5.4f' % (totals[0] / totals[1]))"
      ],
      "metadata": {
        "colab": {
          "base_uri": "https://localhost:8080/",
          "height": 541
        },
        "id": "0saLwQ6huDLq",
        "outputId": "4c81ac08-85d7-4d20-e20c-9da3fd9416f6"
      },
      "execution_count": null,
      "outputs": [
        {
          "output_type": "stream",
          "name": "stdout",
          "text": [
            "penalty 50.54\n",
            "473 sentences, 19 segments, avg 24.89 sentences per segment\n",
            "optimal score 12706.79, greedy score 12681.86\n",
            "[12706.79302177979, 12681.85744072079]\n",
            "(12706.79302177979, 12681.85744072079)\n",
            "ratio of scores 1.0020\n"
          ]
        },
        {
          "output_type": "display_data",
          "data": {
            "text/plain": [
              "<Figure size 1296x216 with 1 Axes>"
            ],
            "image/png": "[encoded data removed]"
          },
          "metadata": {
            "needs_background": "light"
          }
        },
        {
          "output_type": "display_data",
          "data": {
            "text/plain": [
              "<Figure size 720x216 with 1 Axes>"
            ],
            "image/png": "[encoded data removed]"
          },
          "metadata": {
            "needs_background": "light"
          }
        }
      ]
    },
    {
      "cell_type": "markdown",
      "source": [
        "#### 顯示分段"
      ],
      "metadata": {
        "id": "zqp55X5LyUdd"
      }
    },
    {
      "cell_type": "code",
      "source": [
        "for i in range(len(segmented_text)):\n",
        "  print(segmented_text[i])"
      ],
      "metadata": {
        "colab": {
          "base_uri": "https://localhost:8080/"
        },
        "id": "Rsb59khayAck",
        "outputId": "496ce9f4-dbc3-41bf-8cd0-b8561c22901d"
      },
      "execution_count": null,
      "outputs": [
        {
          "output_type": "stream",
          "name": "stdout",
          "text": [
            "['\\nHi, welcome to the podcast and welcome to another episode of Qantas with Hannah. ', 'Sorry for the interruption. ', \"I just wanted to let you know that I'm doing a webinar and if you wanted to join it's about how to be a YouTuber. \", \"It had to be you just with a bigger platform, but we're going to be doing some interactive games. \", \"I'm going to edit the Vlog on the spot for you guys. \", \"I'm going to answer your questions and it's going to be the funnest thing ever. \", 'So if you want to sign up, the link is down on my description box. ', 'I would love to see you there. ', 'Bye today. ', 'We are going to be talking about.\\n', \"Some actually, let's let our friend explained. \", 'Hi, Hannah. ', \"I'm o Yanna. \", \"I'm from the Philippines today. \", 'Can you make 12 about how you handle pressure and life? ', 'Transition college, entrance exam results are around the corner and it is truly nerve-racking. ', 'Can you share with us how you handled transition from high school to college and share some tips on how to survive especially for those students who study abroad or far from their families. ', \"I've been worried about it. \", 'And honestly, thank you, Hannah. ', 'I love you.\\n', 'Thank you so much. ', 'Eliana for that question. ', \"Well, but I don't know binibining Pilipinas. \", 'No, but um, thank you so much for that question because it actually is a perfect segue into what I actually really wanted to talk about. ', \"If you guys don't know, just to give you some context, this video is a follow-up to my last video which was saying goodbye to Australia. \", 'I moved to Australia a year and a half ago and I studied there. ', 'So I really wanted to do a little podcast to explain what it was.\\n', 'Was like to be transitioning from here and there from high school, to college, from college to back home. ', 'And alianna, you just ask the perfect question. ']\n",
            "['So what is this podcast going to look like? ', \"Well, I'm just going to give you guys a brief back story on what I did in Australia, how I got there and why I'm back home. \", 'Like why did you go back home? ', 'If you enjoyed so much. ', 'You look like you enjoyed so much. ', 'I mean, I hope it looked like I enjoyed so much because I did.\\n', 'Like why you back home? ']\n",
            "['And also how did you go through that? ', \"That's the biggest chunk. \", 'I think of this podcast is, how did I do it? ', \"I'm going to be sharing five ways that I've managed or navigated through life's Transitions and the pressures of you know, growing up and adulting and discovering things for yourself. \", \"That's all going to happen in this podcast. \", 'So just keep on listening. ', 'So I guess the first thing that I could do is give you guys a backstory. ', 'What was it like in high school high?\\n', 'High school was like, I was an overachiever, you know, the school that I went through Brent International gave me a lot of options to explore the different sides of me to discover my passions. ', 'I basically did everything that they offer, they offered Performing Arts. ', 'They offered Sports. ', 'They offered higher level academics. ', 'They offered like Outreach programs and all these things. ', 'I did everything under the sun. ', \"If there's a standard that should be met. \", \"I'm most probably going to try my best to reach that standard because\\nThe way that I was brought up and I never want to settle for less than I could possibly achieve. \", 'So that was me in high school, you know, I discovered the system of what it looked like to be successful. ', 'And for the most part I achieved that, you know, I graduated with pretty good grades. ', 'And with achievements that gave the announcer of my graduation a mouthful. ', 'That was my goal.\\n', 'So graduating from high school. ', \"I realized that the world didn't follow the system that I was very much used to. \", 'It. ', \"Didn't follow the system that I considered myself successful at, you know, it didn't give me a report card at the end of every semester. \", \"Telling me how good I was doing where I could improve where I should focus on it, didn't chase me down when I had a deadline to finish. \", \"It didn't hand me opportunities to discover my passions and and to collaborate with people and to make mistakes and do not have\\nWinces, when doing that, the world was not going to Baby me anymore. \", \"That's what I understood after I graduated from high school. \", 'And so I was just in this anxious about this whole of like wallowing in self-pity and like thinking, like, what is my future gonna look like? ', 'Who am I gonna marry? ', 'How much money am I going to make? ', \"What's my career going to look like? \", 'What am I gonna be able to wear like a suit when I get into an office? ', 'And I even got to stay in an office like all of these things.\\n', \"Things were just eating me alive because I didn't have a gauge of what success looked like anymore because the world is going to tell you many different things. \", 'Success is having a big house or having a bunch of money or, you know, having a thousand million followers on YouTube. ', \"Like, that's the world's definition of success, but quickly, I had to differentiate what God wanted for me, what God considered success.\\n\", 'And with the world considered success. ', 'And there was this verse that was following me around. ', 'When I graduated from high school. ', 'Like, I would see it at Billboards. ', 'I would see it like at church. ', 'I would see it Adam books. ', 'I would see it in social media posts, and it was Matthew 6 verse 33, but seek first, his kingdom and his righteousness, and all these things will be given to you as well.\\n', \"And what's so beautiful is that all of those things that I was concerned about fell under the category of all these things.\\n\", \"And suddenly I was not given a thousand things to worry about, but I was reminded like God just really reminded me that he's the only person that I have to focus on that. \", 'I concentrate all of my efforts on that. ', \"I concentrate all of my definitions of success and standards on because when I'm worrying only about him or when I'm concerned only about him, everything else he's going to deal with and he's going to deal with properly. \", \"Because when I deal with something with\\nI own hands with my own ability with I didn't, but my own willpower. \", \"It's going to be done subpar. \", \"It's gonna be done. \", 'Okay. ', 'Long.\\n', \"But when it's dealt with by the creator of the universe, I know it's going to be successfully immeasurably, great unimaginably wonderous. \", \"And as I said a while ago, if there is a standard of greatness that I can reach, I'm not going to settle for less and mind you. \", 'I only started really developing my close relationship with God. ', \"After I graduated from high school because once you discover that all\\nThe things that you deemed important, we're no longer important. \", 'You ask questions. ', 'Like where am I going to go? ', 'After I die, you ask questions, like what really is my purpose and just being more involved in church. ', 'And\\nHanging around Christians and being closer to my pastors. ', \"All of those answers were revealed to me, when I had a closer relationship with God because it wasn't anymore, my burden to be a certain way, but it was my honor to be able to live a life. \", 'That was glorifying God. ', 'So what does that look like? ', 'What did seek first? ', 'The kingdom of God look, like, for me, after graduating, from high school. ', 'It was dedicating.\\n', 'Appear to going to Hillsong college. ', \"So he'll song is a bible-based church that also has a college and the college course that they offered that I took was film and TV. \", 'So you were learning about, you know, cinematography digital editing and Lighting and Sound and all that jazz, but you are also learning about the Bible. ', 'You were learning about personal leadership, how to be a team member. ', 'You were learning how the Bible worked, how to read the Bible, how to understand the song.\\n', 'Psalms and the Old Testament and the New Testament. ', \"And obviously, when you are studying about the Bible, the book of truth, you're going to be learning a lot of things about yourself. \", \"So anyway, when my youth pastor, Stephen offered this idea to me, why don't you go to college at Hillsong? \", 'I was just like, why is this so perfect? ', 'And like exactly what I need? ', 'Because he also mentioned that it was in Australia. ', 'So I was like, perfect, a perfect opportunity for me to develop Independence, which in the Philippines is something that is\\nQuite difficult to have because we have a lot of help. ', 'We have parents that what I keep us in their home. ', 'Until we are married. ', 'We have a system of a culture that is Malaga. ', 'And so being in another Western westernized Country, really allowed me to develop my Independence. ', \"And so, when I went abroad, you know, especially at a church and I'll Jana. \", 'And, you know, when you, if you are planning to study abroad\\nDad.\\n', 'The the biggest thing that helped me be comfortable in an area, that was so unfamiliar was really being rooted in a church. ', \"Because when I didn't know anybody, when I didn't know, right from left to win, I had nobody to run to. \", 'When I was going through certain things. ', 'I knew that church was my dwelling Peyton Place.\\n', \"Because that's where Jesus was and that's where God was and that's where God revealed himself to me. \", \"You know, and I knew that even if I'm here or I'm there, I can't bring my family with me. \", \"Sometimes I can't bring my friends with me everywhere I go, I can bring my bed with me, my comfortable bed, or, you know, the things that keep me going. \", \"I can't always bring them but God follows me around everywhere. \", 'I go and church was the perfect place for me to understand that. ', 'And so in a place of so much uncertainty.\\n', 'In a period of transition. ', 'In my life, going through college in another country. ', 'My relationship with God was really, the reason why I was able to push through and the community that I was in, that was encouraging, a deeper relationship with God, was the reason why I was able to push through. ', 'And so yeah, everything was amazing. ', 'And I was only meant to stay there for one year since it was only supposed to be a gap year and then I was supposed to go abroad to another College to actually pursue film. ', 'Like that was my\\n\\nPlan at the end of the day, but I fell in love with Hillsong. ', 'So I asked my parents. ', 'Can I stay another year? ', 'And it was just like, amazing. ', \"So that's January 2020, already. \", 'I was starting my second year of Hillsong college. ', 'And then so like if everything was so great. ', 'Why did I go home? ', 'Well, covid hit. ', \"And you know, when you like have like a leakage somewhere, and you just take duct tape and you're like, yeah, let me wrap that around and for the most part. \", 'Yeah. ', 'Okay, cool. ', \"It's working. \", \"It's not leaking anymore.\\n\", 'And then an earthquake hits and then the pipe just opens up and breaks the duct tape. ', 'And all of the water just starts gushing out. ', 'That was my life in covid, you know, not being able to do all of the things that I was quote-unquote busy with allowed me to have to deal with certain things and my heart and my life with my loved ones that I left on dealt with.\\n\\n', 'You know, I had that alone time with God during the crisis and I asked him Lord, what we have to deal with, and he really brought them up. ', 'I was made to reassess.\\n', 'Where my life was going?\\n\\n', 'And it made no sense that it was leading me back home.\\n']\n",
            "['But for some reason it gave me so much. ', 'Peace.\\n\\n', \"Like so I hope you guys can imagine this situation as I'm living abroad and Australia is absolutely crushing. \", 'This this virus. ', \"It's beating it. \", \"So there's so many mass testing, you know, the government is acting so fast. \"]\n",
            "[\"We're given like restrictions that are easy to abide by. \", 'You know, we have a lot of space, the government is great. ', \"And then in the Philippines, it's just getting worse and worse, and worse. \", 'And so the context of my parents with a covid crisis is horrible.\\n', 'And my context is for the most part, pretty positive, pretty good. ', 'And the government was telling me a different thing. ', 'And my parents were telling me a different thing on how to handle the situation. ', 'Social media was telling me how to handle this situation. ', 'My friends were telling me how to handle the situation and there is a can to a point where I had to just, okay. ']\n",
            "['I had to accept all of these things. ', 'Respect these different relationships of mine, but I had to take all of this and I had to deal with it with God because at the end of the day, I had to discover my\\nMy own convictions when it comes to this pandemic, and many people with sound Minds were done. ', 'I mean, why are you even thinking about going home? ', 'Australia is so safe. ', 'But personally, I would rather have a mind that is sound and mental health. ', 'That is, well, living in an area. ', \"That's a, is more unsafe because of the, you know, uncertain pandemic, then, living in Australia, where there is virtually, no virus.\\n\\n\", 'But being so worried about it and really being like, you know, so unsure and unsettled. ', 'I was just so unsettled. ', \"That's actually the perfect word. \", \"So I'm not going to go. \", 'So in depth and I hope you guys can understand my privacy here, but I just had a lot of conflict that made me unsettled and for some weird reason it made so much sense to go home. ']\n",
            "[\"And when I decided okay, you know what Lord I have certain wants, but your will is better than anything that I'm ever going to want.\\n\\n\", \"Then I'm going to listen to you and I surrender all of the things that I possibly want to do. \", 'I just want to do what you want to do, and he gave me this opportunity to decide whether to go home, when I decided I was going to go home. ', \"Oh my God, I can't even describe to you. \", 'It was like piece. ', 'Just rushed through my body like a river.\\n\\n', 'And this like sigh of relief was like, you made the right decision hun?\\n\\n', 'And then suddenly things started falling into place and certain things that I never considered. ', 'I was like, oh my God. ', \"Yeah, like for example, I'm never going to be in the situation where my family is and living in one place. \", \"Again, you know for a very long time like no, we're never going to be in this situation again, probably in the next two years. \", 'My brother is in Jesus name. ', \"I bring that ABS-CBN will get back on its feet, but he's going to start getting projects again and he's going to be filming again. \", \"And my sister, I'm hoping is gonna, you know, get married in the next.\\n\\n\", \"Years, and so she's going to move out and then bench is going to go to college, maybe here or abroad. \", \"And you know, like we're never going to be in this situation again, and I just want to do put my family first.\\n\\n\", \"Because I put myself first when I went abroad and even Thalia like my own roommate she was like, I'm the last person that wants you to leave. \", 'But for some reason, it makes sense for you to go. ', \"I really can't. \", 'You give you guys like a clear? ', 'Clear reason because this decision was made like as a result of like a culmination of many different things, but it just gave me peace. ', \"That's where I'm going to end it. \", 'That. ', 'So there was this one Sunday where I was listening to a message for our path.\\n\\n', 'Brian and he said, remember your dreams. ', 'This pandemic is a perfect time to do that and I was like, oh hold up. ', 'Yes. ', \"It's a perfect time to revisit our priorities. \", 'Why was I here? ', 'Why was I at Hillsong? ', 'Number one? ', 'I wanted to develop a deep rooted and solid relationship with God. ', \"Because as long as that is sort, that as long as my relationship with him is ongoing, he's going to take care of every single thing that I could possibly worry about in my life and that I had to deal with my, you know, my future and everything that my future had in store. \", 'So that\\n\\nWas number one. ', \"And if I was going back to the Philippines, I wasn't going to leave God in Australia. \", 'He was going to come home with me. ', 'He goes everywhere, I go and so I was like, oh, doable in the Philippines, number two was film. ', 'Upskilling learning how to become a director cinematographer, you know, learning how to do Lighting and Sound and all that. ', 'Jazz. ']\n",
            "['If there is one lesson that I learned from my film classes, it was that you learn the most through experience. ', 'Yes, you can.\\n\\n', 'It down and learned from a classroom. ', 'But at the end of the day, you just have to take a camera and run with it. ', 'And from there. ', 'You will learn so much. ', 'Actually. ', 'This is a perfect segue for our sponsor for this video, or for this podcast. ', 'We are being sponsored here by scale share. ', 'Woohoo. ', \"So if you guys don't know what skillshare is, it is an online learning community that has thousands and thousands of inspiring classes that will help you, you know, develop your creativity, it will help you discover your passions and\\n\\nIt will just help you learn what you want to learn. \", \"It's honestly the perfect thing. \", 'For people like me who are like taking a gap year or whatnot. ', 'You can literally take your learning into your own hands with skillshare. ', \"So, the last, for example, the last class that I took, which is super random, but very much helpful was a class by Lisa, celebrate has, I'm not really sure how to pronounce her last name, but she is a con Murray consultant which Mary condo is like the expert of tidying up and she thought\\n\\nMe how to like con marry my clothes taught me how to fold certain things taught me how to discard the things that are not needed in my life. \", 'That was the last class that I took, which was honestly amazing. ', 'She gave me like a step-by-step process on how to like decide whether or not you want to keep something and when you discard it, where is it going to go? ', 'It has to be Google donating. ', 'You can sell it or whatnot. ', 'Anyway, super helpful class, super random class, but you can take your learning into your own hands. ', 'Nowadays. ', \"You don't really need to be at a classroom to be able to discover.\\n\\n\", 'Over and upskill with your passions. ', 'And so skillshare is the perfect opportunity to develop that. ', 'By the way, if you are one of the first 1,000 people to click the link in my description box, you can get a free two-month trial on skillshare premium and you can you know, learn about all these classes, whatever it is. ', \"You want to learn whether it's about baking or whether it's about making a business or being productive or being creative or you know, like learning how to knit in this pandemic.\\n\\n\", 'I know what it is, but skillshare has all of those abilities for you. ', 'So honestly, that was also a big thing for me. ', \"Even if I don't have my film classes. \", 'There are so many opportunities for me to learn still online and skillshare. ', 'Thank you so much again for sponsoring this video because you are definitely contributing to my upskilling of my film abilities. ', 'Okay. ', \"Anyway, number three, the third reason, why I went abroad was to develop Independence and when I go back home to the Philippines,\\n\\nPhilippines, it's not, it's not like I'm going to lose all of the lessons that I learned about being independent. \", 'Now. ', \"I'm home. \", \"And there are times where I'm, like, Mom, Dad, family. \", 'Can I cook for you guys? ', \"And I know how to cook or there are times where I'm like, telling my Maids. \", \"I'm like, yeah, I can just fold my clothes. \", \"It's not a problem or I can wash my clothes. \", \"It's not a problem or I learn how to clean my own things, you know, like Independence, you'll take everywhere and it's not something that I leave also in Australia. \", 'So when I Revisited these three things, I was like shoot man like,\\n\\nDone it already. ', \"And so like,\\n\\nI think it's time to head home.\\n\\n\", \"Now, we're going to talk about the five ways that I've managed, these life transitions that I've navigated through these and struggled through them, the things that have helped me and maybe may help you guys to hopefully, it might help you. \", 'Aliannah. ', 'I hope this answers your question, but I had to revisit my 20 20 verse my verse of the year was Hebrews 12 is Hebrews. ', '12 verse 1 to 2, and it goes therefore since we are surrounded by a great cloud of witnesses.\\n\\n', 'Let us throw off everything that hinders and the sin that so easily entangles and let us run with perseverance, the race marked out for us, looking to Jesus, the Pioneer and Perfecter of faith. ', 'That was my 20 20 verse. ', 'And now, looking back at the, it was the perfect verse that I could share with you guys that helped me navigate through all of these life transitions in the matter of two years. ', 'And so the first thing is therefore since we are surrounded by a great cloud of witnesses, what does that mean? ']\n",
            "['We are surrounded by\\n\\nBy a great cloud of witnesses who are the people around your life that are looking onto you that are witnessing, you living your life. ', 'Number one. ', 'I leveraged on support, there were many people who are around me, my parents, my mentors, my friends, that have already gone abroad. ', 'Before me that I needed to leverage on their support. ', 'I needed to ask them questions because they probably have gone through that transition before me. ', \"You're not meant to do life alone. \", \"And there are many people that are around you in your\\n\\nImmediate circle that could easily help you with the transition that you've never gone through before, you know, I love that thing of like Proverbs 1 verse 5 says, a wise man will hear and increase in learning and amount of understanding, will acquire wise counsel. \", 'We need wise counsel in situations that are new to us. ', 'So who are the people in your life that are friends to your future?\\n\\n', \"That's a big thing because you're going to disappoint a lot of people, honestly, when you transition.\\n\\n\", \"You're going to.\\n\\n\", 'Let down a lot of people. ', 'Some people are going to say, Hannah. ', 'Why are you leaving the Philippines when your career is already doing? ', 'Well, like, that makes no sense or other friends of mine are going to be like, why are you going to Bible school? ', 'You know, like that makes no sense. ', \"They're going to be people in your life that you're going to disappoint and you're just going to have to determine aren't these people? \", 'Is this person a friend to my future? ', 'Who can I draw guidance from at this specific moment and we have to be\\n\\nOpen to listening because we need all the help that we can get. ']\n",
            "[\"So, that's number 1, leverage on support. \", 'So number two, is to let go. ', 'Let us throw off everything that hinders and the sin that so easily. ', 'Entangles. ', 'We know where our faults are, where our easy Faults Are. ', 'What our blind spots are. ', 'Where we usually have pitfalls in our life, me. ', \"It's being lazy. \", 'It is being anxious worrying, too much. ', 'These are the sin that\\n\\nSo easily entangles, me that prevents me from reaching my goals. ']\n",
            "['Sometimes when you are in a period of transition, you have to recognize, what are my old ways, and what should I keep my ways? ', 'And what should I let go of? ', \"I'm not going to anymore bring these past mistakes, these bad habits into the new newer parts of my life.\\n\\n\", \"Transition means to let go and I'm not anymore going to let these things hinder me. \", \"Like it's that thing of when you're traveling to another place going abroad. \", 'Oh my God, my biggest fear was going to be was being overweight was having extra baggage that I had to pay for that. ', 'I had to leave at a certain place like it was just a worst thing. ', \"I didn't want to bring extra baggage and it's the same thing with your mind, sets with your personality with who you are. \", \"Don't bring the things that are not going to help you in the next season of your life. \", \"Whether that's it.\\n\\n\", \"People, whether that's judgmental ideas, preconceived ideas of how you should treat people like let go of those things that are not going to be helpful. \", \"You have to think about what's essential now because I'm not going to bring these things that are not essential. \", 'So dr. ', \"Dennis, he's somebody that really speaks into the life of my family. \", \"He said, don't let the pleasurable people of today, suffer, the consequences of the painful people of yesterday.\\n\\n\", \"Sometimes when we go through trauma, when we go through difficulty, we suddenly take in these assumptions that like wow, everybody's like that. \", \"I can't trust anybody or fine. \", \"I'm just not going to open up because when I open up, I'm not received properly. \", \"These are very toxic beliefs that we don't want to bring into the next season's of our life, because not everyone's going to treat you that way. \", 'We have to have faith that there is a possibility for the future to be bright.\\n\\n', 'Then what the past was. ', \"So let those things go guys, whatever hinders you from being the person that you want to be let it go during this transition, and it will make it much easier because if you have less weight on your shoulders, when you're moving into a new season of life, you're going to be much lighter. \", 'And you are going to be able to number three. ', \"You're going to be able to run and I love this. \", \"This is just such a simple command, but simple doesn't necessarily mean easy to run guys, when we enter into a\\n\\nA new period of our life. \", \"When we're transitioning into a new period of life. \", \"It's very easy to tiptoe to be worried about. \", 'Oh my gosh, where do I go? ', \"I don't know anything. \", \"I'm so unfamiliar to be really like, you know, Reserve to be closed off and to be worried about all the things that you don't know. \", \"Like you don't even know what you don't know. \", \"It's nerve-wracking.\\n\\n\", 'But God tells us to run, but when you run to something, you run to it, because you are excited and you have Wonder in your eyes and you have curiosity and excitement and enjoy and imagine. ', \"It's like a playground for a kid. \", \"It's like running around wanting to discover every crevice of that playground wanting to like play with every toy in that playground. \", 'That is your new life experience that you were transitioning into. ', \"That's the way that we should enter into these things. \", \"When I got to Sydney, I was like\\n\\nWant to discover, I'm not going to be afraid that I don't know a certain thing. \", \"I'm going to discover it for myself. \", 'I want to keep that Wonder in my eyes. ', 'That childlike Wonder.\\n\\n']\n",
            "[\"And I want to run around and discover, but when we're running, this is a very important thing. \", \"When we're running we have to know where we're going because if we don't have goals and destinations and markers that, okay. \", 'This is my priority. ', \"We're not going to know we're good. \", \"We're we're running, you know, we're just going to run around in circles, but when we have a goal, you know, and you're running towards that goal. \"]\n",
            "[\"You're going to discover such great things on the way and it's beautiful, you know, so for example, my goal was really to discover Independence, do to enjoy the creation.\\n\\n\", 'God had been Australia in Australia. ', 'So beautiful. ', 'And so I was just going on lots of trips and I was like, you know, walking around everywhere. ', 'I was visiting every store. ', 'I was discovering, what? ', \"It's like to be a local to discover beaches and whatnot. \", 'I was now a small fish in a big pond and I wanted to discover that pond. ', \"I wasn't going to be discouraged because I was a smaller fish. \", \"Maybe there were times that I was discouraged, but I wasn't going to let that stop me. \", 'And so, guys run.\\n\\n', 'You have a limited amount of time and that new place that you were in after a while. ', \"It's not gonna be new to you anymore. \", \"It's going to be familiar to you already. \", \"So while you can keep that Wonder keep that all because that's where the beauty of life is, you know, when you're welcoming experiences with open arms and not with reserved ideas or whatnot.\\n\\n\", \"And the number for the verse says, to run with perseverance, and I think that's so beautiful. \", 'What it means to persevere. ', \"It's the continue in a course of action. \", 'Even in the face of difficulty, or with little or no, Prospect of success. ', 'What does that mean? ', 'So number one? ', \"It's means that there is going to be difficulty, but you're going to have to continue on. \", \"Even if there's difficulty you're going through something new. \", 'You have to be easy on yourself. ', 'You will have a hard time.\\n\\n', 'I mean, personally, I had a hard time, some people can take transition pretty well because maybe they transition a lot which is good for you. ', 'But I personally am a creature of habit and I love my routines that I love knowing where things are. ', \"And so when I'm in a period of transition, it's very much difficult for me because I have to adjust to other things and adjusting takes time for a processing being like me.\\n\\n\"]\n",
            "['There will be trial and tribulation in this world, but take heart because I have overcome the world. ', 'That was what God said. ', \"That's what Jesus said. \", \"He said there is going to be difficulty in this world, but don't worry about it. \", 'I have overcome the world. ', 'I have died in the cross, so that you may have a beautiful life here. ', \"So if God has already done all that for us, if Jesus died in the cross, he's already did the mostest for us. \"]\n",
            "[\"Every single thing that is lesser than dying for somebody, that's\\n\\nCare of, you know, they're going to be times when you're in the valley and you're going to be, you're gonna have to have grief, you know, you're gonna you're gonna be sad about the things that you may have lost. \", \"Its you may have left behind and it's okay to grieve. \", \"It's okay to not be the happiest person all the time, you know, letting go is quite difficult and it may look like what you traded off to be here is so much more than what you're getting.\\n\\n\", \"But perspective, is everything and perseverance means to push, even if you don't see the success yet. \", 'And so, keep on sewing. ', 'Keep on working hard. ', \"And whenever you do something, when you're sacrificing something, this is what God tells us, what I'm sacrificing, you know, my hard Blood Sweat and Tears for what he wants me to do. \", \"It's going up. \", \"That's a sacrifice. \", \"And when you sacrifice something to go up, that means it's coming down.\\n\\n\", \"And it's going to come down in the shape of a blessing.\\n\\n\", 'And blessing is not going to come down as the same amount of effort that you brought up. ', 'Now. ', \"It's going to come tenfold, hundredfold thousand fold. \", \"And so that's what encourages me to push through. \", \"Even if you know, it's a difficult situation, you know, like I feel like when you're transitioning into something, you kind of are leveling up in life. \", 'And I love that statement of new levels, new Devils. ', \"When you're moving into a new level in life. \", \"You're going to have to face.\\n\\n\", \"Challenges that you've never faced before. \", \"But once you go through those hurdles, man, you're going to be much stronger than you have ever been and that's amazing like growth.\\n\\n\", \"growth takes time growth takes difficulty, but it's all the more worth it when you're like,\\n\\nWe did this man. \", 'We did this and number five is fixing your eyes on Jesus, the Pioneer and the Perfecter of faith. ', 'If you are, not somebody, that is a Christian and that believes in the God, that I believe in. ', 'What is your Center? ', 'You know, what is your purpose? ', 'What is your main source of Life? - ']\n",
            "['my faith, whatever yours maybe we have to fix our eyes on that.\\n\\n', 'Do you think the main thing, the main thing? ', 'What is your main thing? - ', 'my faith. ', 'Mine is Jesus. ', 'And so, I want all of the time. ', 'My eyes to be fixed on him. ', 'I could just imagine there being a path. ', 'He paved the path. ', \"He's the Pioneer, in the Perfecter of Faith. \", \"He's the one who already made the way. \", 'All I have to do is look to him and let him be my guide.\\n\\n', 'And so that means again, everywhere I go. ', \"He's there, he's already paved the way as long as I follow him, but, you know, Jesus is explained as like a shepherd, and a Shepherd is somebody that leads the Sheep but many times, I could be that really annoying sheep that when the shepherd is, leading them into like a beautiful land of, you know, the best things that you can ever think about. \", \"I'm like string away and I'm like, oh, I want to go my way. \", \"I've got an\\nSheep.\\n\\n\", 'But I want to and then Gods like my God Hannah come on this way, this way, this way. ', \"And I'm like, yeah, but I want to go my way and I think like a, my ways better than your wait. \", \"No, it's not, he created the world. \", \"He knows what's better than your way. \", 'And so I always have to remind myself. ', 'Fix My Eyes on Jesus. ', 'Fix My Eyes on Jesus.\\n\\n', \"It's because if he paved, the way he's going to provide, the means for me to walk that way that he's paved.\\n\\n\", 'And I love this thing. ', \"That Bill Johnson said he's a very good preacher of Bethel Church. \"]\n",
            "['He said nothing catches God off guard. ', \"They're going to be things that are going to catch you off guard as you go through life that you have never experienced before, but nothing catches God off guard. \", 'Even before the problem comes up. ', 'God has already created a solution.\\n', 'And so when we fix our eyes on him, every problem that we undergo. ', \"As long as we're walking the way that he wants us to walk, a solution will be provided for\\n\\nThose are my five ways that I've navigated through life transitions leveraging on your support. \"]\n",
            "['Number one.\\n\\n', 'Knowing that there are people who have come before you, who are wiser than you, and who are more experienced, and you can take advantage of that. ', 'Number two is to let go. ', \"Let's not bring extra baggage from our past to the Future that we are walking into. \", 'Number three is to run to enjoy the wondrous world that we have been birthed in through number four, is to persevere, even despite the faculty pushing through it.\\n\\n', 'I mean a stronger and more resilient you and number five is to fix your eyes personally. ', \"That's to Jesus. \"]\n",
            "[\"So yeah, that's the end of this podcast. \", \"I hope that that was helpful to you guys if you're going through something at the moment.\\n\\n\", 'I would just like to thank again, skillshare for sponsoring this podcast.\\n\\n', 'You guys are the absolute best. ', 'And yeah, for those people who have been waiting for the follow-up to my latest video. ', 'Here it is.\\n\\n', 'Okay, so I want my room now. ', \"Don't eat this because nobody's going to be entering. \", 'But me just my PPE from Peta. ', 'Lavelle. ', \"It's super cute.\\n— - —\\n\", 'Good morning, folks. ', 'I just found out this morning that I actually already have the test results for my swab test and thank God. - ', \"that means I'm actually not staying here for 3 days. \", \"I'm staying here for just today.\\n\\n\", 'And then tomorrow, we are going to be surprised my siblings. ', 'My parents were with my older brother Donnie. ', \"So he's my Insider so that I can film a surprise for my siblings.\\n— - —\\n\\n\", \"So today is Sunday, which means Church day and I watching he'll songs online Church. \", 'Okay. ', \"Yeah, I'm ready. \", \"We've gotten my bags. \", 'Now. ', \"We're going to go downstairs by honestly Discovery Romania, best place to quarantine fine.\\n\\n\"]\n"
          ]
        }
      ]
    },
    {
      "cell_type": "markdown",
      "source": [
        "# Headline generator"
      ],
      "metadata": {
        "id": "NvjchzbJ4w-1"
      }
    },
    {
      "cell_type": "code",
      "source": [
        "! pip install transformers datasets"
      ],
      "metadata": {
        "colab": {
          "base_uri": "https://localhost:8080/",
          "height": 1000
        },
        "id": "3C2ZaL7C47bW",
        "outputId": "68a50bfc-8726-48fa-ef95-7c26b8f1d028"
      },
      "execution_count": null,
      "outputs": [
        {
          "output_type": "stream",
          "name": "stdout",
          "text": [
            "Collecting transformers\n",
            "  Downloading transformers-4.17.0-py3-none-any.whl (3.8 MB)\n",
            "\u001b[K     |████████████████████████████████| 3.8 MB 5.4 MB/s \n",
            "\u001b[?25hCollecting datasets\n",
            "  Downloading datasets-2.0.0-py3-none-any.whl (325 kB)\n",
            "\u001b[K     |████████████████████████████████| 325 kB 62.2 MB/s \n",
            "\u001b[?25hRequirement already satisfied: filelock in /usr/local/lib/python3.7/dist-packages (from transformers) (3.6.0)\n",
            "Requirement already satisfied: tqdm>=4.27 in /usr/local/lib/python3.7/dist-packages (from transformers) (4.63.0)\n",
            "Requirement already satisfied: packaging>=20.0 in /usr/local/lib/python3.7/dist-packages (from transformers) (21.3)\n",
            "Requirement already satisfied: numpy>=1.17 in /usr/local/lib/python3.7/dist-packages (from transformers) (1.21.5)\n",
            "Requirement already satisfied: requests in /usr/local/lib/python3.7/dist-packages (from transformers) (2.23.0)\n",
            "Requirement already satisfied: importlib-metadata in /usr/local/lib/python3.7/dist-packages (from transformers) (4.11.3)\n",
            "Collecting sacremoses\n",
            "  Downloading sacremoses-0.0.49-py3-none-any.whl (895 kB)\n",
            "\u001b[K     |████████████████████████████████| 895 kB 54.3 MB/s \n",
            "\u001b[?25hCollecting huggingface-hub<1.0,>=0.1.0\n",
            "  Downloading huggingface_hub-0.5.0-py3-none-any.whl (77 kB)\n",
            "\u001b[K     |████████████████████████████████| 77 kB 6.1 MB/s \n",
            "\u001b[?25hCollecting tokenizers!=0.11.3,>=0.11.1\n",
            "  Downloading tokenizers-0.11.6-cp37-cp37m-manylinux_2_12_x86_64.manylinux2010_x86_64.whl (6.5 MB)\n",
            "\u001b[K     |████████████████████████████████| 6.5 MB 18.9 MB/s \n",
            "\u001b[?25hCollecting pyyaml>=5.1\n",
            "  Downloading PyYAML-6.0-cp37-cp37m-manylinux_2_5_x86_64.manylinux1_x86_64.manylinux_2_12_x86_64.manylinux2010_x86_64.whl (596 kB)\n",
            "\u001b[K     |████████████████████████████████| 596 kB 63.2 MB/s \n",
            "\u001b[?25hRequirement already satisfied: regex!=2019.12.17 in /usr/local/lib/python3.7/dist-packages (from transformers) (2019.12.20)\n",
            "Requirement already satisfied: typing-extensions>=3.7.4.3 in /usr/local/lib/python3.7/dist-packages (from huggingface-hub<1.0,>=0.1.0->transformers) (3.10.0.2)\n",
            "Requirement already satisfied: pyparsing!=3.0.5,>=2.0.2 in /usr/local/lib/python3.7/dist-packages (from packaging>=20.0->transformers) (3.0.7)\n",
            "Requirement already satisfied: dill in /usr/local/lib/python3.7/dist-packages (from datasets) (0.3.4)\n",
            "Collecting aiohttp\n",
            "  Downloading aiohttp-3.8.1-cp37-cp37m-manylinux_2_5_x86_64.manylinux1_x86_64.manylinux_2_12_x86_64.manylinux2010_x86_64.whl (1.1 MB)\n",
            "\u001b[K     |████████████████████████████████| 1.1 MB 35.1 MB/s \n",
            "\u001b[?25hCollecting fsspec[http]>=2021.05.0\n",
            "  Downloading fsspec-2022.3.0-py3-none-any.whl (136 kB)\n",
            "\u001b[K     |████████████████████████████████| 136 kB 44.4 MB/s \n",
            "\u001b[?25hRequirement already satisfied: pyarrow>=5.0.0 in /usr/local/lib/python3.7/dist-packages (from datasets) (6.0.1)\n",
            "Requirement already satisfied: pandas in /usr/local/lib/python3.7/dist-packages (from datasets) (1.3.5)\n",
            "Collecting xxhash\n",
            "  Downloading xxhash-3.0.0-cp37-cp37m-manylinux_2_17_x86_64.manylinux2014_x86_64.whl (212 kB)\n",
            "\u001b[K     |████████████████████████████████| 212 kB 40.1 MB/s \n",
            "\u001b[?25hCollecting responses<0.19\n",
            "  Downloading responses-0.18.0-py3-none-any.whl (38 kB)\n",
            "Requirement already satisfied: multiprocess in /usr/local/lib/python3.7/dist-packages (from datasets) (0.70.12.2)\n",
            "Requirement already satisfied: chardet<4,>=3.0.2 in /usr/local/lib/python3.7/dist-packages (from requests->transformers) (3.0.4)\n",
            "Requirement already satisfied: idna<3,>=2.5 in /usr/local/lib/python3.7/dist-packages (from requests->transformers) (2.10)\n",
            "Requirement already satisfied: urllib3!=1.25.0,!=1.25.1,<1.26,>=1.21.1 in /usr/local/lib/python3.7/dist-packages (from requests->transformers) (1.24.3)\n",
            "Requirement already satisfied: certifi>=2017.4.17 in /usr/local/lib/python3.7/dist-packages (from requests->transformers) (2021.10.8)\n",
            "Collecting urllib3!=1.25.0,!=1.25.1,<1.26,>=1.21.1\n",
            "  Downloading urllib3-1.25.11-py2.py3-none-any.whl (127 kB)\n",
            "\u001b[K     |████████████████████████████████| 127 kB 51.1 MB/s \n",
            "\u001b[?25hCollecting async-timeout<5.0,>=4.0.0a3\n",
            "  Downloading async_timeout-4.0.2-py3-none-any.whl (5.8 kB)\n",
            "Requirement already satisfied: attrs>=17.3.0 in /usr/local/lib/python3.7/dist-packages (from aiohttp->datasets) (21.4.0)\n",
            "Requirement already satisfied: charset-normalizer<3.0,>=2.0 in /usr/local/lib/python3.7/dist-packages (from aiohttp->datasets) (2.0.12)\n",
            "Collecting asynctest==0.13.0\n",
            "  Downloading asynctest-0.13.0-py3-none-any.whl (26 kB)\n",
            "Collecting frozenlist>=1.1.1\n",
            "  Downloading frozenlist-1.3.0-cp37-cp37m-manylinux_2_5_x86_64.manylinux1_x86_64.manylinux_2_17_x86_64.manylinux2014_x86_64.whl (144 kB)\n",
            "\u001b[K     |████████████████████████████████| 144 kB 28.9 MB/s \n",
            "\u001b[?25hCollecting aiosignal>=1.1.2\n",
            "  Downloading aiosignal-1.2.0-py3-none-any.whl (8.2 kB)\n",
            "Collecting yarl<2.0,>=1.0\n",
            "  Downloading yarl-1.7.2-cp37-cp37m-manylinux_2_5_x86_64.manylinux1_x86_64.manylinux_2_12_x86_64.manylinux2010_x86_64.whl (271 kB)\n",
            "\u001b[K     |████████████████████████████████| 271 kB 39.5 MB/s \n",
            "\u001b[?25hCollecting multidict<7.0,>=4.5\n",
            "  Downloading multidict-6.0.2-cp37-cp37m-manylinux_2_17_x86_64.manylinux2014_x86_64.whl (94 kB)\n",
            "\u001b[K     |████████████████████████████████| 94 kB 3.0 MB/s \n",
            "\u001b[?25hRequirement already satisfied: zipp>=0.5 in /usr/local/lib/python3.7/dist-packages (from importlib-metadata->transformers) (3.7.0)\n",
            "Requirement already satisfied: python-dateutil>=2.7.3 in /usr/local/lib/python3.7/dist-packages (from pandas->datasets) (2.8.2)\n",
            "Requirement already satisfied: pytz>=2017.3 in /usr/local/lib/python3.7/dist-packages (from pandas->datasets) (2018.9)\n",
            "Requirement already satisfied: six>=1.5 in /usr/local/lib/python3.7/dist-packages (from python-dateutil>=2.7.3->pandas->datasets) (1.15.0)\n",
            "Requirement already satisfied: click in /usr/local/lib/python3.7/dist-packages (from sacremoses->transformers) (7.1.2)\n",
            "Requirement already satisfied: joblib in /usr/local/lib/python3.7/dist-packages (from sacremoses->transformers) (1.1.0)\n",
            "Installing collected packages: multidict, frozenlist, yarl, urllib3, asynctest, async-timeout, aiosignal, pyyaml, fsspec, aiohttp, xxhash, tokenizers, sacremoses, responses, huggingface-hub, transformers, datasets\n",
            "  Attempting uninstall: urllib3\n",
            "    Found existing installation: urllib3 1.24.3\n",
            "    Uninstalling urllib3-1.24.3:\n",
            "      Successfully uninstalled urllib3-1.24.3\n",
            "  Attempting uninstall: pyyaml\n",
            "    Found existing installation: PyYAML 3.13\n",
            "    Uninstalling PyYAML-3.13:\n",
            "      Successfully uninstalled PyYAML-3.13\n",
            "\u001b[31mERROR: pip's dependency resolver does not currently take into account all the packages that are installed. This behaviour is the source of the following dependency conflicts.\n",
            "datascience 0.10.6 requires folium==0.2.1, but you have folium 0.8.3 which is incompatible.\u001b[0m\n",
            "Successfully installed aiohttp-3.8.1 aiosignal-1.2.0 async-timeout-4.0.2 asynctest-0.13.0 datasets-2.0.0 frozenlist-1.3.0 fsspec-2022.3.0 huggingface-hub-0.5.0 multidict-6.0.2 pyyaml-6.0 responses-0.18.0 sacremoses-0.0.49 tokenizers-0.11.6 transformers-4.17.0 urllib3-1.25.11 xxhash-3.0.0 yarl-1.7.2\n"
          ]
        },
        {
          "output_type": "display_data",
          "data": {
            "application/vnd.colab-display-data+json": {
              "pip_warning": {
                "packages": [
                  "urllib3"
                ]
              }
            }
          },
          "metadata": {}
        }
      ]
    },
    {
      "cell_type": "code",
      "source": [
        "!pip install sentencepiece"
      ],
      "metadata": {
        "colab": {
          "base_uri": "https://localhost:8080/"
        },
        "id": "W43bXEDi5S3f",
        "outputId": "61402b44-7147-49c8-f311-6ba0b8889b88"
      },
      "execution_count": null,
      "outputs": [
        {
          "output_type": "stream",
          "name": "stdout",
          "text": [
            "Collecting sentencepiece\n",
            "  Downloading sentencepiece-0.1.96-cp37-cp37m-manylinux_2_17_x86_64.manylinux2014_x86_64.whl (1.2 MB)\n",
            "\u001b[K     |████████████████████████████████| 1.2 MB 5.5 MB/s \n",
            "\u001b[?25hInstalling collected packages: sentencepiece\n",
            "Successfully installed sentencepiece-0.1.96\n"
          ]
        }
      ]
    },
    {
      "cell_type": "markdown",
      "source": [
        "### 處理輸入"
      ],
      "metadata": {
        "id": "hK8qwE7U5VSG"
      }
    },
    {
      "cell_type": "code",
      "source": [
        "podcast_test = [\"\"]*len(segmented_text)\n",
        "for i in range(len(segmented_text)):\n",
        "  for j in range(len(segmented_text[i])):\n",
        "    podcast_test[i]+=segmented_text[i][j]"
      ],
      "metadata": {
        "id": "STBbCVmZ5UzG"
      },
      "execution_count": null,
      "outputs": []
    },
    {
      "cell_type": "code",
      "source": [
        "from transformers import pipeline"
      ],
      "metadata": {
        "id": "xpFk5A6q5c9_"
      },
      "execution_count": null,
      "outputs": []
    },
    {
      "cell_type": "markdown",
      "source": [
        "## 使用Michau/t5-base-en-generate-headline"
      ],
      "metadata": {
        "id": "eASYWVCsypFk"
      }
    },
    {
      "cell_type": "code",
      "source": [
        "summarizer = pipeline(model=\"Michau/t5-base-en-generate-headline\", tokenizer=\"Michau/t5-base-en-generate-headline\")"
      ],
      "metadata": {
        "colab": {
          "base_uri": "https://localhost:8080/",
          "height": 209,
          "referenced_widgets": [
            "8610913177c641ff9f54ebb817438a34",
            "b5459ecd5acb4d13bd9b1fab29f0a5e6",
            "b8d589872b644bc98c064fbc3f855a04",
            "aab6c472863847c387ff3f3bd8fb9360",
            "084ad3da91504062b065fcec85e815c8",
            "d26caa55a49d43a9b0645c23e8fcec80",
            "53bea1baa19a40bbba0a971a7bd98e13",
            "e60d2518b2ef46019844d84ff5e4fa60",
            "fa38e70051fb4b089154cf2e7c710e3d",
            "7e59040ca08446bab2e6111daa809746",
            "0b53a8b050664e93b4dd00b99373ce71",
            "46ba2da6be2947ed91622f8a2dc8522c",
            "6f246225e84b449ba91611eff5c95c3d",
            "ae68589a25c3491bbda48b18c8badee0",
            "ed2e7c974c734dbf855b0f5a173896ce",
            "9638fdb6871340a096c20a9d6e6f782f",
            "7a0b6c1f225a486fa3a17db0a6ae4a56",
            "8779cb7620c94c5bbc4a65941f9cbd1f",
            "65f08fd50b2d429c8bf7e419f7f02c9d",
            "bbbca5af57314b21881ac8cae9654c26",
            "1476720136c54399b0f078d2ed37e277",
            "6a4f8dbf482d426eb46d4d7204015567",
            "0a8eb49109ca4eea949532e711aee30a",
            "b6e22bc3005041e68823b274de2047d5",
            "2702a6807b384d1aa57e8f66f83ea4e3",
            "20c5898610554190aacc393606ef7aeb",
            "94f30a0866c6495f91f8af8dadf224d6",
            "d50e8c7d97334ae9b5e43e630282e8d5",
            "44195782874949389d4f61b71efb9f35",
            "3586af425e07478bb2c050b94ff6bba9",
            "c4aa0f81647f4b7e8ceeab2a43c29df4",
            "cd4b773b0fc645988d035a09be498446",
            "13750ac60b074874bdc9951a5282438c",
            "381394f4373847b2a2f7368ec21747d5",
            "a7d4e2709c974991818be8546ff90ae6",
            "bc47736b61964d0cbae9b361d55df471",
            "e310d5f028bc4528bed3632a9b9e08ce",
            "1355850f5e674713ab56455fd3259f38",
            "59890792a39748a99018fa32f3da5917",
            "8167dece2f8946caaefa486ef67eaff6",
            "34fb73b24895443da03ec9888b0da7fd",
            "b1dff630cf1b47878b6aac41a3048c8f",
            "09e5263b946347c2aa15874fa59a4f17",
            "5efaa0b89b844c4ea93eb32702cf3563",
            "c33cef68d5d444fb9052aef44fda3524",
            "b49395fc38ce4d2fac5ca410a6c22a29",
            "899fbdab6aed4d2a84ebbfbe61c98dec",
            "c09912316dc34b8dab43a780e64b653d",
            "7120b6be0a164af4bfd2a5a076c7d848",
            "4a3bd6a3b4514744827a81517937d6f3",
            "a2072bdbffe6498db73920828c3b17ac",
            "453bd8c1edb84e5fae37957210199fb3",
            "1fc6ca94ba7944b4b687c583c790a4f6",
            "240edb9cf80d4b96a22a7d0b2dd72840",
            "5a7be60533f44894b867c3b35ebb6d70",
            "5533d99010ff4b768fc6b57dcee4a733",
            "709a0fd6a27f4a329f0e69f1ac2fd022",
            "822382bdb1014e5bbd75ed6633bff48a",
            "23b9b34782004c7e8e2a900492d424e6",
            "318a38762f7f4ccd8b301790a3301b41",
            "11d1761814f64a42948cd1cdbb64b39b",
            "4cc5c05c51444f8ea5669d8997c92af4",
            "373ba3a0e26e4cbdaedf420bde646b4a",
            "2bb8facb07e44a6d89a189dbaa874cd7",
            "65e3b8ca88f24a2e9c3c048090323269",
            "484e7d8ef4a74c6d83ac5c841c0ca555"
          ]
        },
        "id": "zw95k5Qh69LA",
        "outputId": "1584ff4c-8b3b-45e0-c4b5-413ec6cbb122"
      },
      "execution_count": null,
      "outputs": [
        {
          "output_type": "display_data",
          "data": {
            "text/plain": [
              "Downloading:   0%|          | 0.00/1.31k [00:00<?, ?B/s]"
            ],
            "application/vnd.jupyter.widget-view+json": {
              "version_major": 2,
              "version_minor": 0,
              "model_id": "8610913177c641ff9f54ebb817438a34"
            }
          },
          "metadata": {}
        },
        {
          "output_type": "display_data",
          "data": {
            "text/plain": [
              "Downloading:   0%|          | 0.00/1.21k [00:00<?, ?B/s]"
            ],
            "application/vnd.jupyter.widget-view+json": {
              "version_major": 2,
              "version_minor": 0,
              "model_id": "46ba2da6be2947ed91622f8a2dc8522c"
            }
          },
          "metadata": {}
        },
        {
          "output_type": "display_data",
          "data": {
            "text/plain": [
              "Downloading:   0%|          | 0.00/850M [00:00<?, ?B/s]"
            ],
            "application/vnd.jupyter.widget-view+json": {
              "version_major": 2,
              "version_minor": 0,
              "model_id": "0a8eb49109ca4eea949532e711aee30a"
            }
          },
          "metadata": {}
        },
        {
          "output_type": "display_data",
          "data": {
            "text/plain": [
              "Downloading:   0%|          | 0.00/43.0 [00:00<?, ?B/s]"
            ],
            "application/vnd.jupyter.widget-view+json": {
              "version_major": 2,
              "version_minor": 0,
              "model_id": "381394f4373847b2a2f7368ec21747d5"
            }
          },
          "metadata": {}
        },
        {
          "output_type": "display_data",
          "data": {
            "text/plain": [
              "Downloading:   0%|          | 0.00/773k [00:00<?, ?B/s]"
            ],
            "application/vnd.jupyter.widget-view+json": {
              "version_major": 2,
              "version_minor": 0,
              "model_id": "c33cef68d5d444fb9052aef44fda3524"
            }
          },
          "metadata": {}
        },
        {
          "output_type": "display_data",
          "data": {
            "text/plain": [
              "Downloading:   0%|          | 0.00/1.74k [00:00<?, ?B/s]"
            ],
            "application/vnd.jupyter.widget-view+json": {
              "version_major": 2,
              "version_minor": 0,
              "model_id": "5533d99010ff4b768fc6b57dcee4a733"
            }
          },
          "metadata": {}
        }
      ]
    },
    {
      "cell_type": "code",
      "source": [
        "summary = summarizer(podcast_test, min_length=5, max_length=90)"
      ],
      "metadata": {
        "colab": {
          "base_uri": "https://localhost:8080/"
        },
        "id": "-NIsP3SV7FQO",
        "outputId": "86702a26-5de9-4394-ddd5-03657224b621"
      },
      "execution_count": null,
      "outputs": [
        {
          "output_type": "stream",
          "name": "stderr",
          "text": [
            "Token indices sequence length is longer than the specified maximum sequence length for this model (2128 > 512). Running this sequence through the model will result in indexing errors\n"
          ]
        }
      ]
    },
    {
      "cell_type": "markdown",
      "source": [
        "### 顯示結果"
      ],
      "metadata": {
        "id": "1X4gK_W77HYq"
      }
    },
    {
      "cell_type": "code",
      "source": [
        "for sum in summary:\n",
        "  print(sum['generated_text'])"
      ],
      "metadata": {
        "colab": {
          "base_uri": "https://localhost:8080/"
        },
        "id": "Zqyd9Sp37Jon",
        "outputId": "b29c04d3-927c-401f-d6c8-ee32cf8ca2e6"
      },
      "execution_count": null,
      "outputs": [
        {
          "output_type": "stream",
          "name": "stdout",
          "text": [
            "Qantas With Hannah - How to Survive in the Philippines and Study Abroad\n",
            "What is this Podcast Going to Look Like?\n",
            "How Did You Get Your Life Back?\n",
            "The Government is Acting So Fast.\n",
            "The Philippines, the Philippines, the Philippines, the Philippines, the Philippines, the Philippines, the Philippines, the Philippines, the Philippines, the Philippines, the Philippines, the Philippines, the Philippines, the Philippines, the Philippines, the Philippines, the Philippines, the Philippines, the Philippines, the Philippines, the Philippines, the Philippines, the Philippines, the Philippines, the Philippines, the Philippines, the Philippines, the Philippines, the Philippines, the Philippines\n",
            "Pandemic - Is It Safe?\n",
            "Is It Time For You To Go Home?\n",
            "The Perfect Life Transition\n",
            "The People Around You That Are Friends To Your Future\n",
            "Leverage on Support, Number 2 is to Let Go\n",
            "Let Go of Your Past Mistakes\n",
            "When We're Running, This Is A Very Important Thing\n",
            "The Number One Number For the Verse Says, Run With Persistence\n",
            "I Have Overcame the World, But Don't Worry, I Have Overcame the World.\n",
            "The Five Things That Are Less Than Death\n",
            "Fix My Eyes on Jesus\n",
            "Five Ways to Navigating Life Transitions\n",
            "Number One Is to Let Go, Number Two Is to Run\n",
            "The End of This Podcast\n"
          ]
        }
      ]
    }
  ]
}